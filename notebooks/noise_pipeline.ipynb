{
 "cells": [
  {
   "cell_type": "code",
   "execution_count": 2,
   "id": "c1975300-646c-4043-8cf7-67d607fe52e3",
   "metadata": {},
   "outputs": [],
   "source": [
    "from sbb_project import consts\n",
    "from sbb_project.augmentation import augmentations"
   ]
  },
  {
   "cell_type": "code",
   "execution_count": 3,
   "id": "ed79aa98-cf07-44f8-ae28-90819b63109a",
   "metadata": {},
   "outputs": [
    {
     "name": "stderr",
     "output_type": "stream",
     "text": [
      "[NeMo W 2022-12-13 09:29:43 optimizers:77] Could not import distributed_fused_adam optimizer from Apex\n"
     ]
    }
   ],
   "source": [
    "# Import the data augmentation component from ASR collection\n",
    "from nemo.collections.asr.parts.preprocessing import perturb, segment\n",
    "import glob\n",
    "import IPython.display as ipd\n",
    "import torch\n",
    "import librosa\n",
    "import json\n",
    "import random"
   ]
  },
  {
   "cell_type": "code",
   "execution_count": 4,
   "id": "da21fc95-a25e-47c3-9f27-300cd241cfd4",
   "metadata": {},
   "outputs": [],
   "source": [
    "train_dataset = consts.MANIFEST_DIR.joinpath(consts.MANIFEST_FILE.format(\"train\"))\n",
    "test_dataset = consts.MANIFEST_DIR.joinpath(consts.MANIFEST_FILE.format(\"test\"))\n",
    "val_dataset = consts.MANIFEST_DIR.joinpath(consts.MANIFEST_FILE.format(\"val\"))"
   ]
  },
  {
   "cell_type": "code",
   "execution_count": 5,
   "id": "d586fc20-fad3-4ba7-9973-eac7cba5c795",
   "metadata": {},
   "outputs": [],
   "source": [
    "noise_files = glob.glob(str(consts.NOISE_DIR.joinpath('*.wav')))"
   ]
  },
  {
   "cell_type": "code",
   "execution_count": 6,
   "id": "358161e5-99a7-4292-9e38-9ecbfc0100c0",
   "metadata": {},
   "outputs": [],
   "source": [
    "def load_audio(filepath, sr) -> segment.AudioSegment:\n",
    "    sample_segment = segment.AudioSegment.from_file(filepath, target_sr=sr)\n",
    "    return sample_segment"
   ]
  },
  {
   "cell_type": "code",
   "execution_count": 7,
   "id": "c3d8e72b-7acd-417a-b4a1-a7b6ca02f3c3",
   "metadata": {},
   "outputs": [],
   "source": [
    "noise_manifest = consts.MANIFEST_DIR.joinpath(consts.NOISE_MANIFEST_FILE)"
   ]
  },
  {
   "cell_type": "code",
   "execution_count": 10,
   "id": "973a2013-bca7-4db9-b24d-4f45b29d4057",
   "metadata": {},
   "outputs": [
    {
     "name": "stderr",
     "output_type": "stream",
     "text": [
      "[NeMo W 2022-12-13 09:31:09 nemo_logging:349] /home/user/.local/lib/python3.9/site-packages/sbb_project/augmentation/augmentations.py:15: FutureWarning: Pass y=[ 1.3998285e-05 -1.0591451e-06 -3.0443553e-05 ...  1.8380245e-02\n",
      "      1.9842437e-02  1.2551837e-02] as keyword args. From version 0.10 passing these as positional arguments will result in an error\n",
      "      duration = librosa.get_duration(x, sr=_sr)\n",
      "    \n"
     ]
    },
    {
     "name": "stdout",
     "output_type": "stream",
     "text": [
      "Wrote 1 segments for filename /home/user/code/sbb_asr/data/manifests/noise.json\n"
     ]
    },
    {
     "name": "stderr",
     "output_type": "stream",
     "text": [
      "[NeMo W 2022-12-13 09:31:11 nemo_logging:349] /home/user/.local/lib/python3.9/site-packages/sbb_project/augmentation/augmentations.py:15: FutureWarning: Pass y=[-8.9008221e-04 -1.8977445e-03 -3.1710730e-03 ...  6.1348324e-08\n",
      "     -1.2465037e-07  0.0000000e+00] as keyword args. From version 0.10 passing these as positional arguments will result in an error\n",
      "      duration = librosa.get_duration(x, sr=_sr)\n",
      "    \n"
     ]
    },
    {
     "name": "stdout",
     "output_type": "stream",
     "text": [
      "Skipping sound sample /home/user/code/sbb_asr/data/noise/ZOOM0003.wav, exceeds duration limit of 60.0\n"
     ]
    }
   ],
   "source": [
    "augmentations.write_noise_manifest(noise_files, noise_manifest)"
   ]
  },
  {
   "cell_type": "code",
   "execution_count": 11,
   "id": "1db8118a-bf05-4f67-b5ed-a085a20ef975",
   "metadata": {},
   "outputs": [],
   "source": [
    "rng = random.Random(0)"
   ]
  },
  {
   "cell_type": "code",
   "execution_count": 12,
   "id": "5191314c-4b08-4a1d-998a-a5d8808747fa",
   "metadata": {},
   "outputs": [
    {
     "name": "stdout",
     "output_type": "stream",
     "text": [
      "[NeMo I 2022-12-13 09:31:26 collections:194] Dataset loaded with 1 files totalling 0.01 hours\n",
      "[NeMo I 2022-12-13 09:31:26 collections:195] 0 files were filtered totalling 0.00 hours\n"
     ]
    }
   ],
   "source": [
    "noise = perturb.NoisePerturbation(manifest_path = str(noise_manifest),\n",
    "                                  min_snr_db = -2, \n",
    "                                  max_snr_db = -2,\n",
    "                                  max_gain_db = 10.0,\n",
    "                                  rng = rng)"
   ]
  },
  {
   "cell_type": "code",
   "execution_count": null,
   "id": "51aebfd4-2593-4a51-bf6b-112d0f1dcb4b",
   "metadata": {},
   "outputs": [],
   "source": []
  }
 ],
 "metadata": {
  "kernelspec": {
   "display_name": "Python 3 (ipykernel)",
   "language": "python",
   "name": "python3"
  },
  "language_info": {
   "codemirror_mode": {
    "name": "ipython",
    "version": 3
   },
   "file_extension": ".py",
   "mimetype": "text/x-python",
   "name": "python",
   "nbconvert_exporter": "python",
   "pygments_lexer": "ipython3",
   "version": "3.9.15"
  }
 },
 "nbformat": 4,
 "nbformat_minor": 5
}
