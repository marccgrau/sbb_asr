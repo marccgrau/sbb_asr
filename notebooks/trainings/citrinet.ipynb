{
 "cells": [
  {
   "cell_type": "code",
   "execution_count": 1,
   "id": "8482b198-07d9-4b0c-a3ed-f294dacff445",
   "metadata": {},
   "outputs": [
    {
     "name": "stdout",
     "output_type": "stream",
     "text": [
      "/home/user/code/sbb_asr/notebooks\n"
     ]
    }
   ],
   "source": [
    "!pwd"
   ]
  },
  {
   "cell_type": "code",
   "execution_count": null,
   "id": "5a2e5460-8c4c-4c8d-b31b-d417913f3df4",
   "metadata": {},
   "outputs": [],
   "source": [
    "!python3 train_nvidia.py \\\n",
    "--config-path=/home/user/code/sbb_asr/src/sbb_project/training/configs \\\n",
    "--config-name=model_conf_citrinet"
   ]
  }
 ],
 "metadata": {
  "kernelspec": {
   "display_name": "Python 3 (ipykernel)",
   "language": "python",
   "name": "python3"
  },
  "language_info": {
   "codemirror_mode": {
    "name": "ipython",
    "version": 3
   },
   "file_extension": ".py",
   "mimetype": "text/x-python",
   "name": "python",
   "nbconvert_exporter": "python",
   "pygments_lexer": "ipython3",
   "version": "3.9.15"
  }
 },
 "nbformat": 4,
 "nbformat_minor": 5
}
