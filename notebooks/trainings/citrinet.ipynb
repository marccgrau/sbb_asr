{
 "cells": [
  {
   "cell_type": "code",
   "execution_count": 1,
   "id": "8482b198-07d9-4b0c-a3ed-f294dacff445",
   "metadata": {},
   "outputs": [
    {
     "name": "stdout",
     "output_type": "stream",
     "text": [
      "/home/user/code/sbb_asr/notebooks/trainings\n"
     ]
    }
   ],
   "source": [
    "!pwd"
   ]
  },
  {
   "cell_type": "code",
   "execution_count": 6,
   "id": "43c725da-42ce-4d12-b948-f8dcfe5d6e7d",
   "metadata": {},
   "outputs": [],
   "source": [
    "import sys\n",
    "sys.path.append('/home/user/code/sbb_asr/src')"
   ]
  },
  {
   "cell_type": "code",
   "execution_count": 9,
   "id": "6db94fc6-0a2c-43f2-ac7f-bd2aebf99718",
   "metadata": {},
   "outputs": [
    {
     "name": "stdout",
     "output_type": "stream",
     "text": [
      "['/home/user/code/sbb_asr/notebooks/trainings', '/usr/local/lib/python39.zip', '/usr/local/lib/python3.9', '/usr/local/lib/python3.9/lib-dynload', '', '/home/user/.local/lib/python3.9/site-packages', '/usr/local/lib/python3.9/site-packages', '/home/user/code/sbb_asr/src']\n"
     ]
    }
   ],
   "source": [
    "print(sys.path)"
   ]
  },
  {
   "cell_type": "code",
   "execution_count": 1,
   "id": "5a2e5460-8c4c-4c8d-b31b-d417913f3df4",
   "metadata": {},
   "outputs": [
    {
     "name": "stdout",
     "output_type": "stream",
     "text": [
      "[NeMo W 2022-12-02 09:40:18 optimizers:77] Could not import distributed_fused_adam optimizer from Apex\n",
      "Error executing job with overrides: []\n",
      "Traceback (most recent call last):\n",
      "  File \"/home/user/code/sbb_asr/src/sbb_project/training/train_nvidia.py\", line 49, in main\n",
      "    trainer = pl.Trainer(**cfg.trainer)\n",
      "  File \"/home/user/.local/lib/python3.9/site-packages/pytorch_lightning/utilities/argparse.py\", line 345, in insert_env_defaults\n",
      "    return fn(self, **kwargs)\n",
      "  File \"/home/user/.local/lib/python3.9/site-packages/pytorch_lightning/trainer/trainer.py\", line 459, in __init__\n",
      "    training_epoch_loop = TrainingEpochLoop(min_steps=min_steps, max_steps=max_steps)\n",
      "  File \"/home/user/.local/lib/python3.9/site-packages/pytorch_lightning/loops/epoch/training_epoch_loop.py\", line 51, in __init__\n",
      "    if max_steps < -1:\n",
      "TypeError: '<' not supported between instances of 'NoneType' and 'int'\n",
      "\n",
      "Set the environment variable HYDRA_FULL_ERROR=1 for a complete stack trace.\n"
     ]
    }
   ],
   "source": [
    "!python3 /home/user/code/sbb_asr/src/sbb_project/training/train_nvidia.py \\\n",
    "--config-path=/home/user/code/sbb_asr/src/sbb_project/training/configs \\\n",
    "--config-name=model_conf_citrinet"
   ]
  },
  {
   "cell_type": "code",
   "execution_count": null,
   "id": "057b8533-c0bf-4aa8-9890-0f127f6e6c07",
   "metadata": {},
   "outputs": [],
   "source": []
  }
 ],
 "metadata": {
  "kernelspec": {
   "display_name": "Python 3 (ipykernel)",
   "language": "python",
   "name": "python3"
  },
  "language_info": {
   "codemirror_mode": {
    "name": "ipython",
    "version": 3
   },
   "file_extension": ".py",
   "mimetype": "text/x-python",
   "name": "python",
   "nbconvert_exporter": "python",
   "pygments_lexer": "ipython3",
   "version": "3.9.15"
  }
 },
 "nbformat": 4,
 "nbformat_minor": 5
}
