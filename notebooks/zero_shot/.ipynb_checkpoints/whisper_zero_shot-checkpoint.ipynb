{
 "cells": [
  {
   "cell_type": "markdown",
   "id": "64d58c76-58e3-41f8-93de-234792a59d51",
   "metadata": {},
   "source": [
    "# Whisper zero-shot classification"
   ]
  },
  {
   "cell_type": "markdown",
   "id": "efe82559-7671-44d0-9324-0fc6d7f2749f",
   "metadata": {},
   "source": [
    "## Data\n",
    "Data provided by Gion Sialm (SBB) consisting of 14 samples. All samples have been converted from \\*.m4a with 48000 Hz sample rate to \\*.wav with 16000 Hz sample rate."
   ]
  },
  {
   "cell_type": "markdown",
   "id": "be4f2e0d-fd11-41e7-b26d-f4cffc4b8068",
   "metadata": {},
   "source": [
    "## Import packages"
   ]
  },
  {
   "cell_type": "code",
   "execution_count": 81,
   "id": "be365597-9bf7-48b6-91ca-5951af9dbee6",
   "metadata": {},
   "outputs": [],
   "source": [
    "# ASR packages\n",
    "import whisper\n",
    "\n",
    "# General packages\n",
    "import os\n",
    "from pathlib import Path\n",
    "import numpy as np"
   ]
  },
  {
   "cell_type": "code",
   "execution_count": 54,
   "id": "f2933592-d816-4d4d-927e-218b927ae34e",
   "metadata": {},
   "outputs": [],
   "source": [
    "MAIN_DIR = Path(\"/home/user/code/sbb_project\")\n",
    "DATA_DIR = MAIN_DIR.joinpath(\"data_sbb\")\n",
    "TEST_DATA_DIR = DATA_DIR.joinpath(\"zeroshot_data\")"
   ]
  },
  {
   "cell_type": "code",
   "execution_count": 63,
   "id": "4c664238-4657-4284-870d-1a848e6a406a",
   "metadata": {},
   "outputs": [],
   "source": [
    "import glob\n",
    "files = glob.glob(os.path.join(TEST_DATA_DIR, '*.wav'))"
   ]
  },
  {
   "cell_type": "code",
   "execution_count": 75,
   "id": "b7102a67-56aa-4738-a064-6d3015b44bd9",
   "metadata": {},
   "outputs": [],
   "source": [
    "ground_truth = \"Gleis Alpha 4 4 via Gleis Beta 4 5\""
   ]
  },
  {
   "cell_type": "code",
   "execution_count": 66,
   "id": "529c23a4-15b0-4c09-ab7c-60adf401de24",
   "metadata": {},
   "outputs": [],
   "source": [
    "def whisper_transcribe(files, model_type=\"small\"):\n",
    "    output = list()\n",
    "    model = whisper.load_model(model_type)\n",
    "    options = whisper.DecodingOptions()\n",
    "    for file in files:\n",
    "        audio = whisper.load_audio(file)\n",
    "        audio = whisper.pad_or_trim(audio)\n",
    "        mel = whisper.log_mel_spectrogram(audio).to(model.device)\n",
    "        result = whisper.decode(model, mel, options)\n",
    "        output.append(result.text)\n",
    "    return output"
   ]
  },
  {
   "cell_type": "code",
   "execution_count": 74,
   "id": "1a3cdc18-261b-4579-a789-4d668c73e6a7",
   "metadata": {},
   "outputs": [],
   "source": [
    "def wer(ref, hyp ,debug=True):\n",
    "    r = ref.split()\n",
    "    h = hyp.split()\n",
    "    #costs will holds the costs, like in the Levenshtein distance algorithm\n",
    "    costs = [[0 for inner in range(len(h)+1)] for outer in range(len(r)+1)]\n",
    "    # backtrace will hold the operations we've done.\n",
    "    # so we could later backtrace, like the WER algorithm requires us to.\n",
    "    backtrace = [[0 for inner in range(len(h)+1)] for outer in range(len(r)+1)]\n",
    " \n",
    "    OP_OK = 0\n",
    "    OP_SUB = 1\n",
    "    OP_INS = 2\n",
    "    OP_DEL = 3\n",
    "    DEL_PENALTY = 1\n",
    "    INS_PENALTY = 1\n",
    "    SUB_PENALTY = 1\n",
    "    \n",
    "    # First column represents the case where we achieve zero\n",
    "    # hypothesis words by deleting all reference words.\n",
    "    for i in range(1, len(r)+1):\n",
    "        costs[i][0] = DEL_PENALTY*i\n",
    "        backtrace[i][0] = OP_DEL\n",
    "    \n",
    "    # First row represents the case where we achieve the hypothesis\n",
    "    # by inserting all hypothesis words into a zero-length reference.\n",
    "    for j in range(1, len(h) + 1):\n",
    "        costs[0][j] = INS_PENALTY * j\n",
    "        backtrace[0][j] = OP_INS\n",
    "    \n",
    "    # computation\n",
    "    for i in range(1, len(r)+1):\n",
    "        for j in range(1, len(h)+1):\n",
    "            if r[i-1] == h[j-1]:\n",
    "                costs[i][j] = costs[i-1][j-1]\n",
    "                backtrace[i][j] = OP_OK\n",
    "            else:\n",
    "                substitutionCost = costs[i-1][j-1] + SUB_PENALTY # penalty is always 1\n",
    "                insertionCost    = costs[i][j-1] + INS_PENALTY   # penalty is always 1\n",
    "                deletionCost     = costs[i-1][j] + DEL_PENALTY   # penalty is always 1\n",
    "                 \n",
    "                costs[i][j] = min(substitutionCost, insertionCost, deletionCost)\n",
    "                if costs[i][j] == substitutionCost:\n",
    "                    backtrace[i][j] = OP_SUB\n",
    "                elif costs[i][j] == insertionCost:\n",
    "                    backtrace[i][j] = OP_INS\n",
    "                else:\n",
    "                    backtrace[i][j] = OP_DEL\n",
    "                 \n",
    "    # back trace though the best route:\n",
    "    i = len(r)\n",
    "    j = len(h)\n",
    "    numSub = 0\n",
    "    numDel = 0\n",
    "    numIns = 0\n",
    "    numCor = 0\n",
    "    if debug:\n",
    "        print(\"OP\\tREF\\tHYP\")\n",
    "        lines = []\n",
    "    while i > 0 or j > 0:\n",
    "        if backtrace[i][j] == OP_OK:\n",
    "            numCor += 1\n",
    "            i-=1\n",
    "            j-=1\n",
    "            if debug:\n",
    "                lines.append(\"OK\\t\" + r[i]+\"\\t\"+h[j])\n",
    "        elif backtrace[i][j] == OP_SUB:\n",
    "            numSub +=1\n",
    "            i-=1\n",
    "            j-=1\n",
    "            if debug:\n",
    "                lines.append(\"SUB\\t\" + r[i]+\"\\t\"+h[j])\n",
    "        elif backtrace[i][j] == OP_INS:\n",
    "            numIns += 1\n",
    "            j-=1\n",
    "            if debug:\n",
    "                lines.append(\"INS\\t\" + \"****\" + \"\\t\" + h[j])\n",
    "        elif backtrace[i][j] == OP_DEL:\n",
    "            numDel += 1\n",
    "            i-=1\n",
    "            if debug:\n",
    "                lines.append(\"DEL\\t\" + r[i]+\"\\t\"+\"****\")\n",
    "    if debug:\n",
    "        lines = reversed(lines)\n",
    "        for line in lines:\n",
    "            print(line)\n",
    "        print(\"#cor \" + str(numCor))\n",
    "        print(\"#sub \" + str(numSub))\n",
    "        print(\"#del \" + str(numDel))\n",
    "        print(\"#ins \" + str(numIns))\n",
    "    # return (numSub + numDel + numIns) / (float) (len(r))\n",
    "    wer_result = round( (numSub + numDel + numIns) / (float) (len(r)), 3)\n",
    "    return {'WER':wer_result, 'numCor':numCor, 'numSub':numSub, 'numIns':numIns, 'numDel':numDel, \"numCount\": len(r)}"
   ]
  },
  {
   "cell_type": "code",
   "execution_count": 67,
   "id": "e9ff4c96-e595-43bf-a981-dffd62e808e1",
   "metadata": {},
   "outputs": [],
   "source": [
    "output = whisper_transcribe(files, \"small\")"
   ]
  },
  {
   "cell_type": "code",
   "execution_count": 73,
   "id": "f752f514-3131-4a5e-83e7-b2aec972e533",
   "metadata": {},
   "outputs": [
    {
     "name": "stdout",
     "output_type": "stream",
     "text": [
      "['Gleis auf der 44, Bia Gleis auf der 45.', 'Gleis Alpha 4.4, Diagleis Beta 4.5.', 'Gleis Alpha 4,4, wir Gleis Beta 4,5.', 'Gleis aus der 44, hier Gleis Beter 45.', 'Gleis Alpha 44, Vier Gleis Beta 45.', 'Gleis Alpha 4,4,4,4, Gleis Beta 4,5.', 'Gleis auf, fahrt 4, 4, 4, Gleis, Fetter 4, 5', 'Gleis Alpha 4,4, Vier Gleis Beta 4,5', 'Gleis auf 4,4, hier Gleis auf 4,5.', 'Gleis auf ZA44, Viergleis BV45.', 'Gleis auf 4,4, 3, Gleis auf 4,4.', 'Kreis auf, das wäre für die Kreis, das wäre für den Kreis.']\n"
     ]
    }
   ],
   "source": [
    "print(output)"
   ]
  },
  {
   "cell_type": "code",
   "execution_count": 79,
   "id": "13c348c2-43c9-480f-90f3-fc19a607f1a7",
   "metadata": {},
   "outputs": [],
   "source": [
    "wers = list()\n",
    "for pred in output:\n",
    "    word_error = wer(pred, ground_truth, debug=False)\n",
    "    wers.append(word_error[\"WER\"])"
   ]
  },
  {
   "cell_type": "code",
   "execution_count": 83,
   "id": "feb8b227-2f34-4b1d-bc78-0a5ffa1a129f",
   "metadata": {},
   "outputs": [
    {
     "name": "stdout",
     "output_type": "stream",
     "text": [
      "WER for all sentences: \n",
      " [0.778, 1.0, 0.714, 0.875, 0.714, 0.833, 0.8, 0.714, 1.0, 1.6, 1.0, 1.0]\n",
      "Average WER:  0.919\n"
     ]
    }
   ],
   "source": [
    "print(\"WER for all sentences: \\n\", wers)\n",
    "print(\"Average WER: \", np.mean(wers))"
   ]
  },
  {
   "cell_type": "code",
   "execution_count": null,
   "id": "7a17da87-8937-4a1e-8cb7-3152fb208d90",
   "metadata": {},
   "outputs": [],
   "source": []
  }
 ],
 "metadata": {
  "kernelspec": {
   "display_name": "venv",
   "language": "python",
   "name": "venv"
  },
  "language_info": {
   "codemirror_mode": {
    "name": "ipython",
    "version": 3
   },
   "file_extension": ".py",
   "mimetype": "text/x-python",
   "name": "python",
   "nbconvert_exporter": "python",
   "pygments_lexer": "ipython3",
   "version": "3.9.13"
  }
 },
 "nbformat": 4,
 "nbformat_minor": 5
}
