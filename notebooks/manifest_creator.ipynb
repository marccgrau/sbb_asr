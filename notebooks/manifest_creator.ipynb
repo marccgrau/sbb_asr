{
 "cells": [
  {
   "cell_type": "code",
   "execution_count": 1,
   "id": "ecddc7bd-c057-455c-9be2-c51eb969f456",
   "metadata": {},
   "outputs": [],
   "source": [
    "import json\n",
    "import librosa\n",
    "import sys"
   ]
  },
  {
   "cell_type": "code",
   "execution_count": 2,
   "id": "f91970f0-8084-4172-9eed-c8603ec48e01",
   "metadata": {},
   "outputs": [],
   "source": [
    "sys.path.append('/home/user/code/sbb_asr/src')"
   ]
  },
  {
   "cell_type": "code",
   "execution_count": 3,
   "id": "2c0f1362-8810-4536-855e-0a71da0fc589",
   "metadata": {},
   "outputs": [],
   "source": [
    "from sbb_project.training.manifest import convert_sbb_json_to_nvidia, train_test_val_split\n",
    "from sbb_project import consts"
   ]
  },
  {
   "cell_type": "code",
   "execution_count": 4,
   "id": "f857184a-b899-4ea4-81f9-37e9c28930f8",
   "metadata": {},
   "outputs": [
    {
     "data": {
      "text/plain": [
       "<generator object Path.glob at 0x7f7c49acbd60>"
      ]
     },
     "execution_count": 4,
     "metadata": {},
     "output_type": "execute_result"
    }
   ],
   "source": [
    "consts.SBB_DATA_EXCHANGE_AUDIO.glob('*.wav')"
   ]
  },
  {
   "cell_type": "code",
   "execution_count": 5,
   "id": "7e5f7d3e-bf3b-4bf5-9e25-755b43eb9965",
   "metadata": {},
   "outputs": [],
   "source": [
    "dir_generator = consts.SBB_DATA_EXCHANGE_LABELS.glob('*.json')"
   ]
  },
  {
   "cell_type": "code",
   "execution_count": 6,
   "id": "2d92b3b5-561f-4f88-a070-e165e45828a1",
   "metadata": {},
   "outputs": [],
   "source": [
    "manifest_path = consts.MANIFEST_DIR.joinpath('samples_2022_11_29.json')"
   ]
  },
  {
   "cell_type": "code",
   "execution_count": 7,
   "id": "33563c48-fdb9-4b4e-9b46-35b7846b564d",
   "metadata": {},
   "outputs": [
    {
     "name": "stdout",
     "output_type": "stream",
     "text": [
      "skipped empty audio\n",
      "skipped empty audio\n",
      "skipped empty audio\n",
      "skipped empty audio\n",
      "skipped empty audio\n",
      "skipped empty audio\n",
      "skipped empty audio\n",
      "skipped empty audio\n",
      "skipped empty audio\n",
      "skipped empty audio\n",
      "skipped empty audio\n",
      "skipped empty audio\n",
      "skipped empty audio\n",
      "skipped empty audio\n"
     ]
    }
   ],
   "source": [
    "with open(manifest_path, 'w') as fout:\n",
    "    for file in dir_generator:\n",
    "        metadata = convert_sbb_json_to_nvidia(file)\n",
    "        if metadata['duration'] == 0:\n",
    "            print('skipped empty audio')\n",
    "            continue\n",
    "        json.dump(metadata, fout)\n",
    "        fout.write('\\n')"
   ]
  },
  {
   "cell_type": "code",
   "execution_count": null,
   "id": "ff217917-f759-4214-b28e-f0f4d201a5f3",
   "metadata": {},
   "outputs": [],
   "source": []
  },
  {
   "cell_type": "code",
   "execution_count": null,
   "id": "eebdb851-6181-4481-abdb-87c30f86f01b",
   "metadata": {},
   "outputs": [],
   "source": []
  }
 ],
 "metadata": {
  "kernelspec": {
   "display_name": "Python 3 (ipykernel)",
   "language": "python",
   "name": "python3"
  },
  "language_info": {
   "codemirror_mode": {
    "name": "ipython",
    "version": 3
   },
   "file_extension": ".py",
   "mimetype": "text/x-python",
   "name": "python",
   "nbconvert_exporter": "python",
   "pygments_lexer": "ipython3",
   "version": "3.9.15"
  }
 },
 "nbformat": 4,
 "nbformat_minor": 5
}
