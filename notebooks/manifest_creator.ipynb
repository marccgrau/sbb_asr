{
 "cells": [
  {
   "cell_type": "code",
   "execution_count": 1,
   "id": "ecddc7bd-c057-455c-9be2-c51eb969f456",
   "metadata": {},
   "outputs": [],
   "source": [
    "import json\n",
    "import librosa\n",
    "import sys\n",
    "import glob\n",
    "import os"
   ]
  },
  {
   "cell_type": "code",
   "execution_count": 2,
   "id": "2c0f1362-8810-4536-855e-0a71da0fc589",
   "metadata": {},
   "outputs": [],
   "source": [
    "from sbb_project.training.manifest import convert_sbb_json_to_nvidia, train_test_val_split, write_manifest\n",
    "from sbb_project import consts"
   ]
  },
  {
   "cell_type": "code",
   "execution_count": 3,
   "id": "98fbdcd9-67c5-40b0-80b5-532b2e704d7e",
   "metadata": {},
   "outputs": [],
   "source": [
    "files = glob.glob(str(consts.SBB_DATA_EXCHANGE_LABELS.joinpath('*.json')))"
   ]
  },
  {
   "cell_type": "code",
   "execution_count": 4,
   "id": "2d92b3b5-561f-4f88-a070-e165e45828a1",
   "metadata": {},
   "outputs": [],
   "source": [
    "train_manifest_path = consts.MANIFEST_DIR.joinpath(consts.MANIFEST_FILE.format('train'))"
   ]
  },
  {
   "cell_type": "code",
   "execution_count": 5,
   "id": "64e72137-9688-4b9d-b187-85ceb2e02363",
   "metadata": {},
   "outputs": [],
   "source": [
    "test_manifest_path = consts.MANIFEST_DIR.joinpath(consts.MANIFEST_FILE.format('test'))"
   ]
  },
  {
   "cell_type": "code",
   "execution_count": 6,
   "id": "965daa3d-5819-4b5f-a2e8-a1ade1de49ab",
   "metadata": {},
   "outputs": [],
   "source": [
    "val_manifest_path = consts.MANIFEST_DIR.joinpath(consts.MANIFEST_FILE.format('val'))"
   ]
  },
  {
   "cell_type": "code",
   "execution_count": 7,
   "id": "53050193-090e-4a76-a1b9-4cceea138943",
   "metadata": {},
   "outputs": [],
   "source": [
    "train, test, val = train_test_val_split(files)"
   ]
  },
  {
   "cell_type": "code",
   "execution_count": 8,
   "id": "33563c48-fdb9-4b4e-9b46-35b7846b564d",
   "metadata": {},
   "outputs": [
    {
     "name": "stdout",
     "output_type": "stream",
     "text": [
      "Manifest successfully created.\n",
      "Manifest successfully created.\n",
      "Manifest successfully created.\n"
     ]
    }
   ],
   "source": [
    "write_manifest(train_manifest_path, train)\n",
    "write_manifest(test_manifest_path, test)\n",
    "write_manifest(val_manifest_path, val)"
   ]
  },
  {
   "cell_type": "code",
   "execution_count": null,
   "id": "9bedd90a-de63-47c8-af9b-d709870d5913",
   "metadata": {},
   "outputs": [],
   "source": []
  }
 ],
 "metadata": {
  "kernelspec": {
   "display_name": "Python 3 (ipykernel)",
   "language": "python",
   "name": "python3"
  },
  "language_info": {
   "codemirror_mode": {
    "name": "ipython",
    "version": 3
   },
   "file_extension": ".py",
   "mimetype": "text/x-python",
   "name": "python",
   "nbconvert_exporter": "python",
   "pygments_lexer": "ipython3",
   "version": "3.9.15"
  }
 },
 "nbformat": 4,
 "nbformat_minor": 5
}
