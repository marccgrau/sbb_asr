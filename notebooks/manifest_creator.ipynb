{
 "cells": [
  {
   "cell_type": "code",
   "execution_count": 1,
   "id": "ecddc7bd-c057-455c-9be2-c51eb969f456",
   "metadata": {},
   "outputs": [],
   "source": [
    "import json\n",
    "import librosa\n",
    "import sys\n",
    "import glob\n",
    "import os"
   ]
  },
  {
   "cell_type": "code",
   "execution_count": 2,
   "id": "2c0f1362-8810-4536-855e-0a71da0fc589",
   "metadata": {},
   "outputs": [],
   "source": [
    "from sbb_project.training.manifest import convert_sbb_json_to_nvidia, train_test_val_split, write_manifest\n",
    "from sbb_project import consts\n",
    "from sbb_project.training.utils import reproducibility"
   ]
  },
  {
   "cell_type": "code",
   "execution_count": 3,
   "id": "1bf88dee-2271-4336-84be-ef16cf072b4b",
   "metadata": {},
   "outputs": [],
   "source": [
    "reproducibility(42)"
   ]
  },
  {
   "cell_type": "code",
   "execution_count": 4,
   "id": "98fbdcd9-67c5-40b0-80b5-532b2e704d7e",
   "metadata": {},
   "outputs": [],
   "source": [
    "files = glob.glob(str(consts.SBB_DATA_EXCHANGE_LABELS.joinpath('*.json')))"
   ]
  },
  {
   "cell_type": "code",
   "execution_count": 5,
   "id": "53050193-090e-4a76-a1b9-4cceea138943",
   "metadata": {},
   "outputs": [],
   "source": [
    "train, test, val = train_test_val_split(files)"
   ]
  },
  {
   "cell_type": "code",
   "execution_count": 6,
   "id": "48aa226d-37d4-4900-b96c-cab165dc1935",
   "metadata": {},
   "outputs": [],
   "source": [
    "SNRATIOS = [None, -10, 0, 10, 20, 30, 40, 'random']"
   ]
  },
  {
   "cell_type": "code",
   "execution_count": 7,
   "id": "33563c48-fdb9-4b4e-9b46-35b7846b564d",
   "metadata": {},
   "outputs": [
    {
     "name": "stdout",
     "output_type": "stream",
     "text": [
      "Train manifest successfully created.\n",
      "Test manifest successfully created.\n",
      "Val manifest successfully created.\n",
      "Train manifest successfully created.\n",
      "Test manifest successfully created.\n",
      "Val manifest successfully created.\n",
      "Train manifest successfully created.\n",
      "Test manifest successfully created.\n",
      "Val manifest successfully created.\n",
      "Train manifest successfully created.\n",
      "Test manifest successfully created.\n",
      "Val manifest successfully created.\n",
      "Train manifest successfully created.\n",
      "Test manifest successfully created.\n",
      "Val manifest successfully created.\n",
      "Train manifest successfully created.\n",
      "Test manifest successfully created.\n",
      "Val manifest successfully created.\n",
      "Train manifest successfully created.\n",
      "Test manifest successfully created.\n",
      "Val manifest successfully created.\n",
      "Train manifest successfully created.\n",
      "Test manifest successfully created.\n",
      "Val manifest successfully created.\n"
     ]
    }
   ],
   "source": [
    "for ratio in SNRATIOS:\n",
    "    write_manifest(train, test, val, snr = ratio)"
   ]
  },
  {
   "cell_type": "code",
   "execution_count": null,
   "id": "f1d1671f-05fb-4c05-80f1-e985da0592c8",
   "metadata": {},
   "outputs": [],
   "source": []
  }
 ],
 "metadata": {
  "kernelspec": {
   "display_name": "Python 3 (ipykernel)",
   "language": "python",
   "name": "python3"
  },
  "language_info": {
   "codemirror_mode": {
    "name": "ipython",
    "version": 3
   },
   "file_extension": ".py",
   "mimetype": "text/x-python",
   "name": "python",
   "nbconvert_exporter": "python",
   "pygments_lexer": "ipython3",
   "version": "3.9.15"
  }
 },
 "nbformat": 4,
 "nbformat_minor": 5
}
