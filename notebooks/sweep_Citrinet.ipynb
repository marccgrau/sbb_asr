{
 "cells": [
  {
   "cell_type": "code",
   "execution_count": 1,
   "id": "77223f65-42cb-4da1-a2a6-c33424495548",
   "metadata": {},
   "outputs": [
    {
     "name": "stderr",
     "output_type": "stream",
     "text": [
      "[NeMo W 2023-01-02 16:53:56 optimizers:77] Could not import distributed_fused_adam optimizer from Apex\n"
     ]
    }
   ],
   "source": [
    "import pytorch_lightning as pl\n",
    "from omegaconf import OmegaConf, DictConfig\n",
    "import nemo.collections.asr as nemo_asr\n",
    "from nemo.core.config import hydra_runner\n",
    "from nemo.utils import logging\n",
    "from nemo.utils.exp_manager import exp_manager\n",
    "import datetime\n",
    "from pathlib import Path\n",
    "import torch\n",
    "from sbb_project import consts\n",
    "import copy\n",
    "from pytorch_lightning.loggers import WandbLogger  \n",
    "import wandb\n",
    "from ruamel.yaml import YAML\n",
    "import functools\n",
    "import copy"
   ]
  },
  {
   "cell_type": "code",
   "execution_count": 2,
   "id": "71592cb4-dfc3-4e52-b80f-cd27acddf86b",
   "metadata": {},
   "outputs": [],
   "source": [
    "sweep_config = {\n",
    "  \"method\": \"random\",   # Random search\n",
    "  \"metric\": {           # We want to minimize `val_loss`\n",
    "      \"name\": \"val_wer\",\n",
    "      \"goal\": \"minimize\"\n",
    "  },\n",
    "  \"parameters\": {\n",
    "        \"lr\": {\n",
    "            # log uniform distribution between exp(min) and exp(max)\n",
    "            \"distribution\": \"log_uniform\",\n",
    "            \"min\": -9.21,   # exp(-9.21) = 1e-4\n",
    "            \"max\": -4.61    # exp(-4.61) = 1e-2\n",
    "        },\n",
    "        \"epoch\": {\n",
    "            \"distribution\": \"int_uniform\",\n",
    "            \"min\": 3,\n",
    "            \"max\": 10\n",
    "        },\n",
    "        \"freq_width\": {\n",
    "            \"distribution\": \"uniform\",\n",
    "            \"min\": 25,  \n",
    "            \"max\": 29     \n",
    "        }\n",
    "      \n",
    "    }\n",
    "}"
   ]
  },
  {
   "cell_type": "code",
   "execution_count": 3,
   "id": "b2b80c4d-46d7-4768-a9c1-f34da39cc503",
   "metadata": {},
   "outputs": [],
   "source": [
    "train_manifest = [\n",
    "        str(consts.MANIFEST_DIR.joinpath(consts.MANIFEST_FILE.format(\"train\", \"none\"))),\n",
    "        str(consts.MANIFEST_DIR.joinpath(consts.MANIFEST_FILE.format(\"train\", \"neg10\"))),\n",
    "        str(consts.MANIFEST_DIR.joinpath(consts.MANIFEST_FILE.format(\"train\", \"0\"))),\n",
    "        str(consts.MANIFEST_DIR.joinpath(consts.MANIFEST_FILE.format(\"train\", \"10\"))),\n",
    "        str(consts.MANIFEST_DIR.joinpath(consts.MANIFEST_FILE.format(\"train\", \"20\"))),\n",
    "        str(consts.MANIFEST_DIR.joinpath(consts.MANIFEST_FILE.format(\"train\", \"30\"))),\n",
    "        str(consts.MANIFEST_DIR.joinpath(consts.MANIFEST_FILE.format(\"train\", \"40\"))),\n",
    "    ]\n",
    "val_manifest = consts.MANIFEST_DIR.joinpath(consts.MANIFEST_FILE.format(\"val\", \"random\"))\n",
    "test_manifest = consts.MANIFEST_DIR.joinpath(consts.MANIFEST_FILE.format(\"test\", \"random\"))"
   ]
  },
  {
   "cell_type": "code",
   "execution_count": 4,
   "id": "f467297c-d632-490b-962a-d29213a92e3f",
   "metadata": {},
   "outputs": [],
   "source": [
    "def sweep_iteration():\n",
    "    \n",
    "    # set up W&B logger\n",
    "    wandb.init()    # required to have access to `wandb.config`\n",
    "    wandb_logger = WandbLogger(log_model='all')  # log final model\n",
    "        \n",
    "    trainer = pl.Trainer(gpus=1, max_epochs=wandb.config.epoch, logger=wandb_logger)\n",
    "    \n",
    "    # setup model - note how we refer to sweep parameters with wandb.config\n",
    "    model = nemo_asr.models.ASRModel.from_pretrained(model_name='stt_de_citrinet_1024')\n",
    "    \n",
    "    model.set_trainer(trainer)\n",
    "    \n",
    "    model.cfg.train_ds.is_tarred = False\n",
    "    \n",
    "    model.cfg.train_ds.manifest_filepath = ','.join(train_manifest)\n",
    "    model.cfg.validation_ds.manifest_filepath = str(val_manifest)\n",
    "    model.cfg.test_ds.manifest_filepath = str(test_manifest)\n",
    "    \n",
    "    model.cfg.train_ds.batch_size = 8\n",
    "    model.cfg.validation_ds.batch_size = 8\n",
    "    model.cfg.test_ds.batch_size = 8\n",
    "    \n",
    "    model.cfg.optim.lr = wandb.config.lr\n",
    "    model.cfg.spec_augment.freq_width = wandb.config.freq_width\n",
    "\n",
    "    model.setup_training_data(model.cfg.train_ds)\n",
    "    model.setup_validation_data(model.cfg.validation_ds)\n",
    "    model.setup_test_data(model.cfg.test_ds)\n",
    "    model.setup_optimization(model.cfg.optim)\n",
    "\n",
    "    # train\n",
    "    trainer.fit(model)\n"
   ]
  },
  {
   "cell_type": "code",
   "execution_count": null,
   "id": "e0fc91b9-a638-44ea-960b-789749b84e84",
   "metadata": {},
   "outputs": [
    {
     "name": "stderr",
     "output_type": "stream",
     "text": [
      "Failed to detect the name of this notebook, you can set it manually with the WANDB_NOTEBOOK_NAME environment variable to enable code saving.\n",
      "\u001b[34m\u001b[1mwandb\u001b[0m: \u001b[33mWARNING\u001b[0m Malformed sweep config detected! This may cause your sweep to behave in unexpected ways.\n",
      "\u001b[34m\u001b[1mwandb\u001b[0m: \u001b[33mWARNING\u001b[0m To avoid this, please fix the sweep config schema violations below:\n",
      "\u001b[34m\u001b[1mwandb\u001b[0m: \u001b[33mWARNING\u001b[0m   Violation 1. lr uses log_uniform, where min/max specify base-e exponents. Use log_uniform_values to specify limit values.\n"
     ]
    },
    {
     "name": "stdout",
     "output_type": "stream",
     "text": [
      "Create sweep with ID: v7qi12lc\n",
      "Sweep URL: https://wandb.ai/unisg-ds-nlp/ASR/sweeps/v7qi12lc\n"
     ]
    },
    {
     "name": "stderr",
     "output_type": "stream",
     "text": [
      "\u001b[34m\u001b[1mwandb\u001b[0m: Agent Starting Run: m9lgm488 with config:\n",
      "\u001b[34m\u001b[1mwandb\u001b[0m: \tepoch: 10\n",
      "\u001b[34m\u001b[1mwandb\u001b[0m: \tfreq_width: 28.36039261652943\n",
      "\u001b[34m\u001b[1mwandb\u001b[0m: \tlr: 0.00017064384838052422\n",
      "Failed to detect the name of this notebook, you can set it manually with the WANDB_NOTEBOOK_NAME environment variable to enable code saving.\n",
      "\u001b[34m\u001b[1mwandb\u001b[0m: Currently logged in as: \u001b[33mmarccgrau\u001b[0m (\u001b[33munisg-ds-nlp\u001b[0m). Use \u001b[1m`wandb login --relogin`\u001b[0m to force relogin\n"
     ]
    },
    {
     "data": {
      "text/html": [
       "wandb version 0.13.7 is available!  To upgrade, please run:\n",
       " $ pip install wandb --upgrade"
      ],
      "text/plain": [
       "<IPython.core.display.HTML object>"
      ]
     },
     "metadata": {},
     "output_type": "display_data"
    },
    {
     "data": {
      "text/html": [
       "Tracking run with wandb version 0.13.4"
      ],
      "text/plain": [
       "<IPython.core.display.HTML object>"
      ]
     },
     "metadata": {},
     "output_type": "display_data"
    },
    {
     "data": {
      "text/html": [
       "Run data is saved locally in <code>/home/user/code/sbb_asr/notebooks/wandb/run-20230102_165406-m9lgm488</code>"
      ],
      "text/plain": [
       "<IPython.core.display.HTML object>"
      ]
     },
     "metadata": {},
     "output_type": "display_data"
    },
    {
     "data": {
      "text/html": [
       "Syncing run <strong><a href=\"https://wandb.ai/unisg-ds-nlp/ASR/runs/m9lgm488\" target=\"_blank\">fallen-sweep-1</a></strong> to <a href=\"https://wandb.ai/unisg-ds-nlp/ASR\" target=\"_blank\">Weights & Biases</a> (<a href=\"https://wandb.me/run\" target=\"_blank\">docs</a>)<br/>Sweep page:  <a href=\"https://wandb.ai/unisg-ds-nlp/ASR/sweeps/v7qi12lc\" target=\"_blank\">https://wandb.ai/unisg-ds-nlp/ASR/sweeps/v7qi12lc</a>"
      ],
      "text/plain": [
       "<IPython.core.display.HTML object>"
      ]
     },
     "metadata": {},
     "output_type": "display_data"
    },
    {
     "name": "stderr",
     "output_type": "stream",
     "text": [
      "[NeMo W 2023-01-02 16:54:08 nemo_logging:349] /home/user/.local/lib/python3.9/site-packages/pytorch_lightning/loggers/wandb.py:352: UserWarning: There is a wandb run already in progress and newly created instances of `WandbLogger` will reuse this run. If this is not desired, call `wandb.finish()` before instantiating `WandbLogger`.\n",
      "      rank_zero_warn(\n",
      "    \n",
      "[NeMo W 2023-01-02 16:54:08 nemo_logging:349] /home/user/.local/lib/python3.9/site-packages/pytorch_lightning/trainer/connectors/accelerator_connector.py:447: LightningDeprecationWarning: Setting `Trainer(gpus=1)` is deprecated in v1.7 and will be removed in v2.0. Please use `Trainer(accelerator='gpu', devices=1)` instead.\n",
      "      rank_zero_deprecation(\n",
      "    \n",
      "GPU available: True (cuda), used: True\n",
      "TPU available: False, using: 0 TPU cores\n",
      "IPU available: False, using: 0 IPUs\n",
      "HPU available: False, using: 0 HPUs\n"
     ]
    },
    {
     "name": "stdout",
     "output_type": "stream",
     "text": [
      "[NeMo I 2023-01-02 16:54:09 cloud:56] Found existing object /home/user/.cache/torch/NeMo/NeMo_1.12.0/stt_de_citrinet_1024/8743e4cecb8017ca2b49a035e07b2893/stt_de_citrinet_1024.nemo.\n",
      "[NeMo I 2023-01-02 16:54:09 cloud:62] Re-using file from: /home/user/.cache/torch/NeMo/NeMo_1.12.0/stt_de_citrinet_1024/8743e4cecb8017ca2b49a035e07b2893/stt_de_citrinet_1024.nemo\n",
      "[NeMo I 2023-01-02 16:54:09 common:910] Instantiating model from pre-trained checkpoint\n",
      "[NeMo I 2023-01-02 16:54:14 mixins:170] Tokenizer SentencePieceTokenizer initialized with 1024 tokens\n"
     ]
    },
    {
     "name": "stderr",
     "output_type": "stream",
     "text": [
      "[NeMo W 2023-01-02 16:54:14 modelPT:142] If you intend to do training or fine-tuning, please call the ModelPT.setup_training_data() method and provide a valid configuration file to setup the train data loader.\n",
      "    Train config : \n",
      "    manifest_filepath: /data/train/tarred_audio_manifest.json\n",
      "    sample_rate: 16000\n",
      "    batch_size: 32\n",
      "    trim_silence: false\n",
      "    max_duration: 35.0\n",
      "    shuffle: true\n",
      "    is_tarred: true\n",
      "    tarred_audio_filepaths: /data/train/audio__OP_0..1023_CL_.tar\n",
      "    use_start_end_token: false\n",
      "    shuffle_n: 1024\n",
      "    num_workers: 16\n",
      "    pin_memory: true\n",
      "    \n",
      "[NeMo W 2023-01-02 16:54:14 modelPT:149] If you intend to do validation, please call the ModelPT.setup_validation_data() or ModelPT.setup_multiple_validation_data() method and provide a valid configuration file to setup the validation data loader(s). \n",
      "    Validation config : \n",
      "    manifest_filepath:\n",
      "    - /data/voxpopuli_de/dev/voxpopuli_dev_manifest.json\n",
      "    - /data/voxpopuli_de/test/voxpopuli_test_manifest.json\n",
      "    - /data/mcv7.0_de/mcv7.0_dev_manifest_cleaned.json\n",
      "    - /data/mcv7.0_de/mcv7.0_test_manifest_cleaned.json\n",
      "    - /data/mls_de/mls_dev_manifest_cleaned.json\n",
      "    - /data/mls_de/mls_test_manifest_cleaned.json\n",
      "    sample_rate: 16000\n",
      "    batch_size: 8\n",
      "    shuffle: false\n",
      "    use_start_end_token: false\n",
      "    num_workers: 8\n",
      "    pin_memory: true\n",
      "    \n",
      "[NeMo W 2023-01-02 16:54:14 modelPT:155] Please call the ModelPT.setup_test_data() or ModelPT.setup_multiple_test_data() method and provide a valid configuration file to setup the test data loader(s).\n",
      "    Test config : \n",
      "    manifest_filepath: null\n",
      "    sample_rate: 16000\n",
      "    batch_size: 32\n",
      "    shuffle: false\n",
      "    use_start_end_token: false\n",
      "    \n"
     ]
    },
    {
     "name": "stdout",
     "output_type": "stream",
     "text": [
      "[NeMo I 2023-01-02 16:54:14 features:225] PADDING: 16\n",
      "[NeMo I 2023-01-02 16:54:21 save_restore_connector:243] Model EncDecCTCModelBPE was successfully restored from /home/user/.cache/torch/NeMo/NeMo_1.12.0/stt_de_citrinet_1024/8743e4cecb8017ca2b49a035e07b2893/stt_de_citrinet_1024.nemo.\n",
      "[NeMo I 2023-01-02 16:54:21 collections:194] Dataset loaded with 1890 files totalling 7.41 hours\n",
      "[NeMo I 2023-01-02 16:54:21 collections:195] 0 files were filtered totalling 0.00 hours\n",
      "[NeMo I 2023-01-02 16:54:21 collections:194] Dataset loaded with 34 files totalling 0.13 hours\n",
      "[NeMo I 2023-01-02 16:54:21 collections:195] 0 files were filtered totalling 0.00 hours\n",
      "[NeMo I 2023-01-02 16:54:21 collections:194] Dataset loaded with 34 files totalling 0.14 hours\n",
      "[NeMo I 2023-01-02 16:54:21 collections:195] 0 files were filtered totalling 0.00 hours\n",
      "[NeMo I 2023-01-02 16:54:21 modelPT:597] Optimizer config = Novograd (\n",
      "    Parameter Group 0\n",
      "        amsgrad: False\n",
      "        betas: [0.8, 0.25]\n",
      "        eps: 1e-08\n",
      "        grad_averaging: False\n",
      "        lr: 0.00017064384838052422\n",
      "        weight_decay: 0.001\n",
      "    )\n",
      "[NeMo I 2023-01-02 16:54:21 lr_scheduler:910] Scheduler \"<nemo.core.optim.lr_scheduler.CosineAnnealing object at 0x7f842c8997c0>\" \n",
      "    will be used during training (effective maximum steps = 2370) - \n",
      "    Parameters : \n",
      "    (warmup_steps: 10000\n",
      "    warmup_ratio: null\n",
      "    min_lr: 1.0e-05\n",
      "    last_epoch: -1\n",
      "    max_steps: 2370\n",
      "    )\n"
     ]
    },
    {
     "name": "stderr",
     "output_type": "stream",
     "text": [
      "LOCAL_RANK: 0 - CUDA_VISIBLE_DEVICES: [0,1,2,3]\n"
     ]
    },
    {
     "name": "stdout",
     "output_type": "stream",
     "text": [
      "[NeMo I 2023-01-02 16:54:21 modelPT:597] Optimizer config = Novograd (\n",
      "    Parameter Group 0\n",
      "        amsgrad: False\n",
      "        betas: [0.8, 0.25]\n",
      "        eps: 1e-08\n",
      "        grad_averaging: False\n",
      "        lr: 0.00017064384838052422\n",
      "        weight_decay: 0.001\n",
      "    )\n",
      "[NeMo I 2023-01-02 16:54:21 lr_scheduler:910] Scheduler \"<nemo.core.optim.lr_scheduler.CosineAnnealing object at 0x7f83876ac9d0>\" \n",
      "    will be used during training (effective maximum steps = 2370) - \n",
      "    Parameters : \n",
      "    (warmup_steps: 10000\n",
      "    warmup_ratio: null\n",
      "    min_lr: 1.0e-05\n",
      "    last_epoch: -1\n",
      "    max_steps: 2370\n",
      "    )\n"
     ]
    },
    {
     "name": "stderr",
     "output_type": "stream",
     "text": [
      "\n",
      "  | Name              | Type                              | Params\n",
      "------------------------------------------------------------------------\n",
      "0 | preprocessor      | AudioToMelSpectrogramPreprocessor | 0     \n",
      "1 | encoder           | ConvASREncoder                    | 140 M \n",
      "2 | decoder           | ConvASRDecoder                    | 1.1 M \n",
      "3 | loss              | CTCLoss                           | 0     \n",
      "4 | spec_augmentation | SpectrogramAugmentation           | 0     \n",
      "5 | _wer              | WERBPE                            | 0     \n",
      "------------------------------------------------------------------------\n",
      "141 M     Trainable params\n",
      "0         Non-trainable params\n",
      "141 M     Total params\n",
      "564.897   Total estimated model params size (MB)\n"
     ]
    },
    {
     "data": {
      "application/vnd.jupyter.widget-view+json": {
       "model_id": "",
       "version_major": 2,
       "version_minor": 0
      },
      "text/plain": [
       "Sanity Checking: 0it [00:00, ?it/s]"
      ]
     },
     "metadata": {},
     "output_type": "display_data"
    },
    {
     "name": "stdout",
     "output_type": "stream",
     "text": [
      "[NeMo I 2023-01-02 16:54:24 wer_bpe:187] \n",
      "    \n",
      "[NeMo I 2023-01-02 16:54:24 wer_bpe:188] reference:rangierfahrt vom gleis mike zwei drei ins drei drei antworten\n",
      "[NeMo I 2023-01-02 16:54:24 wer_bpe:189] predicted:prongierfahrt vom gleis maik zwei drei ins drei drei antworten\n",
      "[NeMo I 2023-01-02 16:54:25 wer_bpe:187] \n",
      "    \n",
      "[NeMo I 2023-01-02 16:54:25 wer_bpe:188] reference:spracheingabe\n",
      "[NeMo I 2023-01-02 16:54:25 wer_bpe:189] predicted:spracheingabe\n"
     ]
    },
    {
     "data": {
      "application/vnd.jupyter.widget-view+json": {
       "model_id": "1f9b3be20fb94ba0bb38a58c30d34b28",
       "version_major": 2,
       "version_minor": 0
      },
      "text/plain": [
       "Training: 0it [00:00, ?it/s]"
      ]
     },
     "metadata": {},
     "output_type": "display_data"
    },
    {
     "name": "stdout",
     "output_type": "stream",
     "text": [
      "[NeMo I 2023-01-02 16:54:53 wer_bpe:187] \n",
      "    \n",
      "[NeMo I 2023-01-02 16:54:53 wer_bpe:188] reference:umstellmanöver vom gleis india eins vier ins sierra acht fünf via gleis bravo zwei eins antworten\n",
      "[NeMo I 2023-01-02 16:54:53 wer_bpe:189] predicted:vomten\n",
      "[NeMo I 2023-01-02 16:55:20 wer_bpe:187] \n",
      "    \n",
      "[NeMo I 2023-01-02 16:55:20 wer_bpe:188] reference:umstellmanöver von neun vier nach gleis bravo sieben via echo acht drei antworten\n",
      "[NeMo I 2023-01-02 16:55:20 wer_bpe:189] predicted:man neu nachbra wieo drei an\n",
      "[NeMo I 2023-01-02 16:55:46 wer_bpe:187] \n",
      "    \n",
      "[NeMo I 2023-01-02 16:55:46 wer_bpe:188] reference:rangierfahrt von yankee neun eins ins vier acht antworten\n",
      "[NeMo I 2023-01-02 16:55:46 wer_bpe:189] predicted:vonk aacht\n",
      "[NeMo I 2023-01-02 16:56:13 wer_bpe:187] \n",
      "    \n",
      "[NeMo I 2023-01-02 16:56:13 wer_bpe:188] reference:rangierfahrt von zwei neun nach gleis papa null fünf antworten\n",
      "[NeMo I 2023-01-02 16:56:13 wer_bpe:189] predicted:\n"
     ]
    },
    {
     "data": {
      "application/vnd.jupyter.widget-view+json": {
       "model_id": "",
       "version_major": 2,
       "version_minor": 0
      },
      "text/plain": [
       "Validation: 0it [00:00, ?it/s]"
      ]
     },
     "metadata": {},
     "output_type": "display_data"
    },
    {
     "name": "stdout",
     "output_type": "stream",
     "text": [
      "[NeMo I 2023-01-02 16:56:34 wer_bpe:187] \n",
      "    \n",
      "[NeMo I 2023-01-02 16:56:34 wer_bpe:188] reference:rangierfahrt vom gleis mike zwei drei ins drei drei antworten\n",
      "[NeMo I 2023-01-02 16:56:34 wer_bpe:189] predicted:ierfahrlei zwei drei drei drei\n",
      "[NeMo I 2023-01-02 16:56:34 wer_bpe:187] \n",
      "    \n",
      "[NeMo I 2023-01-02 16:56:34 wer_bpe:188] reference:spracheingabe\n",
      "[NeMo I 2023-01-02 16:56:34 wer_bpe:189] predicted:sprach eingab\n",
      "[NeMo I 2023-01-02 16:56:34 wer_bpe:187] \n",
      "    \n",
      "[NeMo I 2023-01-02 16:56:34 wer_bpe:188] reference:umstellmanöver vom drei sechs nach gleis xray vier sieben via null vier antworten\n",
      "[NeMo I 2023-01-02 16:56:34 wer_bpe:189] predicted:umstell manöver vom drei sechs nachleisy sieben wie nur viel an\n",
      "[NeMo I 2023-01-02 16:56:35 wer_bpe:187] \n",
      "    \n",
      "[NeMo I 2023-01-02 16:56:35 wer_bpe:188] reference:rangierfahrt von gleis sechs neun ins gleis delta sieben antworten\n",
      "[NeMo I 2023-01-02 16:56:35 wer_bpe:189] predicted:rangchierfahrt vonlei sechs neu insleidel sieben an\n",
      "[NeMo I 2023-01-02 16:56:35 wer_bpe:187] \n",
      "    \n",
      "[NeMo I 2023-01-02 16:56:35 wer_bpe:188] reference:umstellmanöver von charlie drei zwei via gleis victor sechs neun ins gleis golf zwei vier antworten\n",
      "[NeMo I 2023-01-02 16:56:35 wer_bpe:189] predicted:ell manö vonscharly drei zwei wielei sechs neu ihnlei zwei\n",
      "[NeMo I 2023-01-02 16:57:11 wer_bpe:187] \n",
      "    \n",
      "[NeMo I 2023-01-02 16:57:11 wer_bpe:188] reference:umstellmanöver von eins drei nach gleis kilo eins sechs via lima eins sieben antworten\n",
      "[NeMo I 2023-01-02 16:57:11 wer_bpe:189] predicted:uns mans drei nach gleichlo ein\n",
      "[NeMo I 2023-01-02 16:57:38 wer_bpe:187] \n",
      "    \n",
      "[NeMo I 2023-01-02 16:57:38 wer_bpe:188] reference:umstellmanöver vom gleis eins eins ins gleis golf drei zwei via gleis sierra eins neun antworten\n",
      "[NeMo I 2023-01-02 16:57:38 wer_bpe:189] predicted:umellerlöwe vom gleis eins ein ins zwei wielei neu\n",
      "[NeMo I 2023-01-02 16:58:04 wer_bpe:187] \n",
      "    \n",
      "[NeMo I 2023-01-02 16:58:04 wer_bpe:188] reference:rangierfahrt vom kilo zwei sieben ins vier sieben antworten\n",
      "[NeMo I 2023-01-02 16:58:04 wer_bpe:189] predicted:schierfahr vom kilo zwei sieben an schierf zum kilo zwei sieben ins viersim antwort\n",
      "[NeMo I 2023-01-02 16:58:30 wer_bpe:187] \n",
      "    \n",
      "[NeMo I 2023-01-02 16:58:30 wer_bpe:188] reference:rangierfahrt von gleis november sieben nach golf zwei sechs antworten\n",
      "[NeMo I 2023-01-02 16:58:30 wer_bpe:189] predicted:rafahrt von gleisnothemmbs nach zwei sechs antwort\n"
     ]
    },
    {
     "data": {
      "application/vnd.jupyter.widget-view+json": {
       "model_id": "",
       "version_major": 2,
       "version_minor": 0
      },
      "text/plain": [
       "Validation: 0it [00:00, ?it/s]"
      ]
     },
     "metadata": {},
     "output_type": "display_data"
    },
    {
     "name": "stdout",
     "output_type": "stream",
     "text": [
      "[NeMo I 2023-01-02 16:58:51 wer_bpe:187] \n",
      "    \n",
      "[NeMo I 2023-01-02 16:58:51 wer_bpe:188] reference:rangierfahrt vom gleis mike zwei drei ins drei drei antworten\n",
      "[NeMo I 2023-01-02 16:58:51 wer_bpe:189] predicted:frierfahrt von gleis ma zwei drei in drei drei als\n",
      "[NeMo I 2023-01-02 16:58:51 wer_bpe:187] \n",
      "    \n",
      "[NeMo I 2023-01-02 16:58:51 wer_bpe:188] reference:spracheingabe\n",
      "[NeMo I 2023-01-02 16:58:51 wer_bpe:189] predicted:sprach eingabe\n",
      "[NeMo I 2023-01-02 16:58:51 wer_bpe:187] \n",
      "    \n",
      "[NeMo I 2023-01-02 16:58:51 wer_bpe:188] reference:umstellmanöver vom drei sechs nach gleis xray vier sieben via null vier antworten\n",
      "[NeMo I 2023-01-02 16:58:51 wer_bpe:189] predicted:umstellmanöver vom drei sechs nach gleis exray vier sieben via null viel antworten\n",
      "[NeMo I 2023-01-02 16:58:51 wer_bpe:187] \n",
      "    \n",
      "[NeMo I 2023-01-02 16:58:51 wer_bpe:188] reference:rangierfahrt von gleis sechs neun ins gleis delta sieben antworten\n",
      "[NeMo I 2023-01-02 16:58:51 wer_bpe:189] predicted:rangierfahrt von gleis sechs neun ins gleis delta siebenen\n",
      "[NeMo I 2023-01-02 16:58:51 wer_bpe:187] \n",
      "    \n",
      "[NeMo I 2023-01-02 16:58:52 wer_bpe:188] reference:umstellmanöver von charlie drei zwei via gleis victor sechs neun ins gleis golf zwei vier antworten\n",
      "[NeMo I 2023-01-02 16:58:52 wer_bpe:189] predicted:stellmanövver von charly drei zwei wir gleis ctor sechs neun ihns gleis gold zwei viel antwort\n",
      "[NeMo I 2023-01-02 16:59:28 wer_bpe:187] \n",
      "    \n",
      "[NeMo I 2023-01-02 16:59:28 wer_bpe:188] reference:umstellmanöver vom gleis neun vier nach gleis eins null via gleis foxtrot eins eins antworten\n",
      "[NeMo I 2023-01-02 16:59:28 wer_bpe:189] predicted:lei\n",
      "[NeMo I 2023-01-02 16:59:54 wer_bpe:187] \n",
      "    \n",
      "[NeMo I 2023-01-02 16:59:54 wer_bpe:188] reference:umstellmanöver von neun zwei via whisky vier sechs ins gleis sierra sechs eins antworten\n",
      "[NeMo I 2023-01-02 16:59:54 wer_bpe:189] predicted:umstellmanöverform neun zwei via whisky vier sechs ihns gleis seits antwort\n",
      "[NeMo I 2023-01-02 17:00:21 wer_bpe:187] \n",
      "    \n",
      "[NeMo I 2023-01-02 17:00:21 wer_bpe:188] reference:rangierfahrt vom eins null ins sechs eins antworten\n",
      "[NeMo I 2023-01-02 17:00:21 wer_bpe:189] predicted:rangngierfahrt vom null ins sech eins\n",
      "[NeMo I 2023-01-02 17:00:48 wer_bpe:187] \n",
      "    \n",
      "[NeMo I 2023-01-02 17:00:48 wer_bpe:188] reference:ja\n",
      "[NeMo I 2023-01-02 17:00:48 wer_bpe:189] predicted:ja\n"
     ]
    },
    {
     "data": {
      "application/vnd.jupyter.widget-view+json": {
       "model_id": "",
       "version_major": 2,
       "version_minor": 0
      },
      "text/plain": [
       "Validation: 0it [00:00, ?it/s]"
      ]
     },
     "metadata": {},
     "output_type": "display_data"
    },
    {
     "name": "stdout",
     "output_type": "stream",
     "text": [
      "[NeMo I 2023-01-02 17:01:09 wer_bpe:187] \n",
      "    \n",
      "[NeMo I 2023-01-02 17:01:09 wer_bpe:188] reference:rangierfahrt vom gleis mike zwei drei ins drei drei antworten\n",
      "[NeMo I 2023-01-02 17:01:09 wer_bpe:189] predicted:rangierfahrt vom gleis maig zwei drei ins drei drei antwort\n",
      "[NeMo I 2023-01-02 17:01:09 wer_bpe:187] \n",
      "    \n",
      "[NeMo I 2023-01-02 17:01:09 wer_bpe:188] reference:spracheingabe\n",
      "[NeMo I 2023-01-02 17:01:09 wer_bpe:189] predicted:sprach eingabe\n",
      "[NeMo I 2023-01-02 17:01:09 wer_bpe:187] \n",
      "    \n",
      "[NeMo I 2023-01-02 17:01:09 wer_bpe:188] reference:umstellmanöver vom drei sechs nach gleis xray vier sieben via null vier antworten\n",
      "[NeMo I 2023-01-02 17:01:09 wer_bpe:189] predicted:umstellmanöver vom drei sechs nach gleis xray vier sieben via null v antworten\n",
      "[NeMo I 2023-01-02 17:01:09 wer_bpe:187] \n",
      "    \n",
      "[NeMo I 2023-01-02 17:01:09 wer_bpe:188] reference:rangierfahrt von gleis sechs neun ins gleis delta sieben antworten\n",
      "[NeMo I 2023-01-02 17:01:09 wer_bpe:189] predicted:rangierfahrt von gleis sechs neun ins gleis delta sieben antworten\n",
      "[NeMo I 2023-01-02 17:01:09 wer_bpe:187] \n",
      "    \n",
      "[NeMo I 2023-01-02 17:01:09 wer_bpe:188] reference:umstellmanöver von charlie drei zwei via gleis victor sechs neun ins gleis golf zwei vier antworten\n",
      "[NeMo I 2023-01-02 17:01:09 wer_bpe:189] predicted:umstellmanöver von charley drei zwei via gleis ctor sechs neun ins gleis gold zwei vier antwort\n",
      "[NeMo I 2023-01-02 17:01:45 wer_bpe:187] \n",
      "    \n",
      "[NeMo I 2023-01-02 17:01:45 wer_bpe:188] reference:rangierfahrt vom null eins ins gleis drei neun antworten\n",
      "[NeMo I 2023-01-02 17:01:45 wer_bpe:189] predicted:art vom null eins ins gleis drei neu\n",
      "[NeMo I 2023-01-02 17:02:12 wer_bpe:187] \n",
      "    \n",
      "[NeMo I 2023-01-02 17:02:12 wer_bpe:188] reference:umstellmanöver von gleis vier fünf ins gleis foxtrot sechs drei via neun antworten\n",
      "[NeMo I 2023-01-02 17:02:12 wer_bpe:189] predicted:umstellmanöver von gleis vieria fünf ins gleis foxtrott sechs drei v antworten\n",
      "[NeMo I 2023-01-02 17:02:38 wer_bpe:187] \n",
      "    \n",
      "[NeMo I 2023-01-02 17:02:38 wer_bpe:188] reference:umstellmanöver vom vier sieben via gleis acht fünf ins gleis victor acht antworten\n",
      "[NeMo I 2023-01-02 17:02:38 wer_bpe:189] predicted:umstellmaier vom mehr gleis  fünf in der acht\n",
      "[NeMo I 2023-01-02 17:03:05 wer_bpe:187] \n",
      "    \n",
      "[NeMo I 2023-01-02 17:03:05 wer_bpe:188] reference:umstellmanöver vom nach zwei antworten\n",
      "[NeMo I 2023-01-02 17:03:05 wer_bpe:189] predicted:umstellmanöver von nach zwei antworten\n"
     ]
    },
    {
     "data": {
      "application/vnd.jupyter.widget-view+json": {
       "model_id": "",
       "version_major": 2,
       "version_minor": 0
      },
      "text/plain": [
       "Validation: 0it [00:00, ?it/s]"
      ]
     },
     "metadata": {},
     "output_type": "display_data"
    },
    {
     "name": "stdout",
     "output_type": "stream",
     "text": [
      "[NeMo I 2023-01-02 17:03:26 wer_bpe:187] \n",
      "    \n",
      "[NeMo I 2023-01-02 17:03:26 wer_bpe:188] reference:rangierfahrt vom gleis mike zwei drei ins drei drei antworten\n",
      "[NeMo I 2023-01-02 17:03:26 wer_bpe:189] predicted:rangierfahrt vom gleis maig zwei drei ins drei drei antworten\n",
      "[NeMo I 2023-01-02 17:03:26 wer_bpe:187] \n",
      "    \n",
      "[NeMo I 2023-01-02 17:03:26 wer_bpe:188] reference:spracheingabe\n",
      "[NeMo I 2023-01-02 17:03:26 wer_bpe:189] predicted:sprach eingabe\n",
      "[NeMo I 2023-01-02 17:03:26 wer_bpe:187] \n",
      "    \n",
      "[NeMo I 2023-01-02 17:03:26 wer_bpe:188] reference:umstellmanöver vom drei sechs nach gleis xray vier sieben via null vier antworten\n",
      "[NeMo I 2023-01-02 17:03:26 wer_bpe:189] predicted:umstellmanöver vom drei sechs nach gleis xray vier sieben via null vier antworten\n",
      "[NeMo I 2023-01-02 17:03:26 wer_bpe:187] \n",
      "    \n",
      "[NeMo I 2023-01-02 17:03:26 wer_bpe:188] reference:rangierfahrt von gleis sechs neun ins gleis delta sieben antworten\n",
      "[NeMo I 2023-01-02 17:03:26 wer_bpe:189] predicted:rangierfahrt von gleis sechs neun ins gleis delta sieben antworten\n",
      "[NeMo I 2023-01-02 17:03:26 wer_bpe:187] \n",
      "    \n",
      "[NeMo I 2023-01-02 17:03:26 wer_bpe:188] reference:umstellmanöver von charlie drei zwei via gleis victor sechs neun ins gleis golf zwei vier antworten\n",
      "[NeMo I 2023-01-02 17:03:26 wer_bpe:189] predicted:umstellmanöver von charliy drei zwei via gleis victor sechs neun ins gleis gol zwei vier antwort\n",
      "[NeMo I 2023-01-02 17:04:02 wer_bpe:187] \n",
      "    \n",
      "[NeMo I 2023-01-02 17:04:02 wer_bpe:188] reference:wiederholen\n",
      "[NeMo I 2023-01-02 17:04:02 wer_bpe:189] predicted:wie droolen\n",
      "[NeMo I 2023-01-02 17:04:29 wer_bpe:187] \n",
      "    \n",
      "[NeMo I 2023-01-02 17:04:29 wer_bpe:188] reference:rangierfahrt vom gleis drei drei nach gleis lima zwei acht antworten\n",
      "[NeMo I 2023-01-02 17:04:29 wer_bpe:189] predicted:rangierfahr vom gleiss drei drei nach gleis zwei acht \n",
      "[NeMo I 2023-01-02 17:04:55 wer_bpe:187] \n",
      "    \n",
      "[NeMo I 2023-01-02 17:04:55 wer_bpe:188] reference:umstellmanöver vom gleis sechs ins sieben fünf via gleis xray null und gleis sieben antworten\n",
      "[NeMo I 2023-01-02 17:04:55 wer_bpe:189] predicted:umstellmanöver vom gleis sechss sieben fünf via gleis xray null und  antworten\n",
      "[NeMo I 2023-01-02 17:05:22 wer_bpe:187] \n",
      "    \n",
      "[NeMo I 2023-01-02 17:05:22 wer_bpe:188] reference:rangierfahrt vom gleis null antworten\n",
      "[NeMo I 2023-01-02 17:05:22 wer_bpe:189] predicted:raierfahrt vom gleis null antwort\n"
     ]
    },
    {
     "data": {
      "application/vnd.jupyter.widget-view+json": {
       "model_id": "",
       "version_major": 2,
       "version_minor": 0
      },
      "text/plain": [
       "Validation: 0it [00:00, ?it/s]"
      ]
     },
     "metadata": {},
     "output_type": "display_data"
    },
    {
     "name": "stdout",
     "output_type": "stream",
     "text": [
      "[NeMo I 2023-01-02 17:05:44 wer_bpe:187] \n",
      "    \n",
      "[NeMo I 2023-01-02 17:05:44 wer_bpe:188] reference:rangierfahrt vom gleis mike zwei drei ins drei drei antworten\n",
      "[NeMo I 2023-01-02 17:05:44 wer_bpe:189] predicted:rangierfahrt vom gleis mike zwei drei ins drei drei antworten\n",
      "[NeMo I 2023-01-02 17:05:44 wer_bpe:187] \n",
      "    \n",
      "[NeMo I 2023-01-02 17:05:44 wer_bpe:188] reference:spracheingabe\n",
      "[NeMo I 2023-01-02 17:05:44 wer_bpe:189] predicted:sprach eingabe\n",
      "[NeMo I 2023-01-02 17:05:44 wer_bpe:187] \n",
      "    \n",
      "[NeMo I 2023-01-02 17:05:44 wer_bpe:188] reference:umstellmanöver vom drei sechs nach gleis xray vier sieben via null vier antworten\n",
      "[NeMo I 2023-01-02 17:05:44 wer_bpe:189] predicted:umstellmanöver vom drei sechs nach gleis xray vier sieben via null vier antworten\n",
      "[NeMo I 2023-01-02 17:05:44 wer_bpe:187] \n",
      "    \n",
      "[NeMo I 2023-01-02 17:05:44 wer_bpe:188] reference:rangierfahrt von gleis sechs neun ins gleis delta sieben antworten\n",
      "[NeMo I 2023-01-02 17:05:44 wer_bpe:189] predicted:rangierfahrt von gleis sechs neun ins gleis delta sieben antworten\n",
      "[NeMo I 2023-01-02 17:05:44 wer_bpe:187] \n",
      "    \n",
      "[NeMo I 2023-01-02 17:05:44 wer_bpe:188] reference:umstellmanöver von charlie drei zwei via gleis victor sechs neun ins gleis golf zwei vier antworten\n",
      "[NeMo I 2023-01-02 17:05:44 wer_bpe:189] predicted:umstellmanöver von charliey drei zwei via gleis victor sechs neun ins gleis golf zwei vier antworten\n",
      "[NeMo I 2023-01-02 17:06:20 wer_bpe:187] \n",
      "    \n",
      "[NeMo I 2023-01-02 17:06:20 wer_bpe:188] reference:rangierfahrt von gleis romeo neun drei ins kilo sieben null antworten\n",
      "[NeMo I 2023-01-02 17:06:20 wer_bpe:189] predicted:rangier vom gleis romeo neun drei ins kilo sieben null antworten\n",
      "[NeMo I 2023-01-02 17:06:47 wer_bpe:187] \n",
      "    \n",
      "[NeMo I 2023-01-02 17:06:47 wer_bpe:188] reference:umstellmanöver vom nach zwei antworten\n",
      "[NeMo I 2023-01-02 17:06:47 wer_bpe:189] predicted:umstellmanöver vom nach zwei antworten\n",
      "[NeMo I 2023-01-02 17:07:14 wer_bpe:187] \n",
      "    \n",
      "[NeMo I 2023-01-02 17:07:14 wer_bpe:188] reference:umstellmanöver vom neun sieben nach gleis kilo zwei sieben via november null acht antworten\n",
      "[NeMo I 2023-01-02 17:07:14 wer_bpe:189] predicted:umstellmanöver vom neu sieben nach gleisk zwei sieben via november null acht antworten\n",
      "[NeMo I 2023-01-02 17:07:41 wer_bpe:187] \n",
      "    \n",
      "[NeMo I 2023-01-02 17:07:41 wer_bpe:188] reference:umstellmanöver von neun vier nach gleis bravo sieben via echo acht drei antworten\n",
      "[NeMo I 2023-01-02 17:07:41 wer_bpe:189] predicted:umstellmanöver von ma vier nach gleis bravo sieben via erst acht drei antworten\n"
     ]
    },
    {
     "data": {
      "application/vnd.jupyter.widget-view+json": {
       "model_id": "",
       "version_major": 2,
       "version_minor": 0
      },
      "text/plain": [
       "Validation: 0it [00:00, ?it/s]"
      ]
     },
     "metadata": {},
     "output_type": "display_data"
    },
    {
     "name": "stdout",
     "output_type": "stream",
     "text": [
      "[NeMo I 2023-01-02 17:08:02 wer_bpe:187] \n",
      "    \n",
      "[NeMo I 2023-01-02 17:08:02 wer_bpe:188] reference:rangierfahrt vom gleis mike zwei drei ins drei drei antworten\n",
      "[NeMo I 2023-01-02 17:08:02 wer_bpe:189] predicted:rangierfahrt vom gleis mike zwei drei ins drei drei antworten\n",
      "[NeMo I 2023-01-02 17:08:02 wer_bpe:187] \n",
      "    \n",
      "[NeMo I 2023-01-02 17:08:02 wer_bpe:188] reference:spracheingabe\n",
      "[NeMo I 2023-01-02 17:08:02 wer_bpe:189] predicted:sprach eingabe\n",
      "[NeMo I 2023-01-02 17:08:02 wer_bpe:187] \n",
      "    \n",
      "[NeMo I 2023-01-02 17:08:02 wer_bpe:188] reference:umstellmanöver vom drei sechs nach gleis xray vier sieben via null vier antworten\n",
      "[NeMo I 2023-01-02 17:08:02 wer_bpe:189] predicted:umstellmanöver vom drei sechs nach gleis xray vier sieben via null vier antworten\n",
      "[NeMo I 2023-01-02 17:08:02 wer_bpe:187] \n",
      "    \n",
      "[NeMo I 2023-01-02 17:08:02 wer_bpe:188] reference:rangierfahrt von gleis sechs neun ins gleis delta sieben antworten\n",
      "[NeMo I 2023-01-02 17:08:02 wer_bpe:189] predicted:rangierfahrt von gleis sechs neun ins gleis delta sieben antworten\n",
      "[NeMo I 2023-01-02 17:08:02 wer_bpe:187] \n",
      "    \n",
      "[NeMo I 2023-01-02 17:08:02 wer_bpe:188] reference:umstellmanöver von charlie drei zwei via gleis victor sechs neun ins gleis golf zwei vier antworten\n",
      "[NeMo I 2023-01-02 17:08:02 wer_bpe:189] predicted:umstellmanöver von charlie drei zwei via gleis victor sechs neun ins gleis golf zwei vier antworten\n",
      "[NeMo I 2023-01-02 17:08:39 wer_bpe:187] \n",
      "    \n",
      "[NeMo I 2023-01-02 17:08:39 wer_bpe:188] reference:rangierfahrt vom india sechs fünf nach gleis uniform sieben antworten\n",
      "[NeMo I 2023-01-02 17:08:39 wer_bpe:189] predicted:rangierfahrt vom india sechs fünf nachlei uniform sieben antworten\n",
      "[NeMo I 2023-01-02 17:09:05 wer_bpe:187] \n",
      "    \n",
      "[NeMo I 2023-01-02 17:09:05 wer_bpe:188] reference:umstellmanöver vom gleis neun vier nach gleis eins null via gleis foxtrot eins eins antworten\n",
      "[NeMo I 2023-01-02 17:09:05 wer_bpe:189] predicted:einfellmanöver vom gleis neun vier nach gleis eins null via gleis foxtrot eins antworten\n",
      "[NeMo I 2023-01-02 17:09:32 wer_bpe:187] \n",
      "    \n",
      "[NeMo I 2023-01-02 17:09:32 wer_bpe:188] reference:rangierfahrt vom quebec fünf nach alpha zwei null antworten\n",
      "[NeMo I 2023-01-02 17:09:32 wer_bpe:189] predicted:rangierfahr vomqu nach alha  null antworten\n",
      "[NeMo I 2023-01-02 17:09:58 wer_bpe:187] \n",
      "    \n",
      "[NeMo I 2023-01-02 17:09:58 wer_bpe:188] reference:umstellmanöver vom drei sechs nach gleis xray vier sieben via null vier antworten\n",
      "[NeMo I 2023-01-02 17:09:58 wer_bpe:189] predicted:ummanöver vom gleis se gleis sechxu via neu via vier antworten\n"
     ]
    },
    {
     "data": {
      "application/vnd.jupyter.widget-view+json": {
       "model_id": "",
       "version_major": 2,
       "version_minor": 0
      },
      "text/plain": [
       "Validation: 0it [00:00, ?it/s]"
      ]
     },
     "metadata": {},
     "output_type": "display_data"
    },
    {
     "name": "stdout",
     "output_type": "stream",
     "text": [
      "[NeMo I 2023-01-02 17:10:19 wer_bpe:187] \n",
      "    \n",
      "[NeMo I 2023-01-02 17:10:19 wer_bpe:188] reference:rangierfahrt vom gleis mike zwei drei ins drei drei antworten\n",
      "[NeMo I 2023-01-02 17:10:19 wer_bpe:189] predicted:rangierfahrt vom gleis mike zwei drei ins drei drei antworten\n",
      "[NeMo I 2023-01-02 17:10:19 wer_bpe:187] \n",
      "    \n",
      "[NeMo I 2023-01-02 17:10:19 wer_bpe:188] reference:spracheingabe\n",
      "[NeMo I 2023-01-02 17:10:19 wer_bpe:189] predicted:sprach eingabe\n",
      "[NeMo I 2023-01-02 17:10:19 wer_bpe:187] \n",
      "    \n",
      "[NeMo I 2023-01-02 17:10:19 wer_bpe:188] reference:umstellmanöver vom drei sechs nach gleis xray vier sieben via null vier antworten\n",
      "[NeMo I 2023-01-02 17:10:19 wer_bpe:189] predicted:umstellmanöver vom drei sechs nach gleis xray vier sieben via null vier antworten\n",
      "[NeMo I 2023-01-02 17:10:20 wer_bpe:187] \n",
      "    \n",
      "[NeMo I 2023-01-02 17:10:20 wer_bpe:188] reference:rangierfahrt von gleis sechs neun ins gleis delta sieben antworten\n",
      "[NeMo I 2023-01-02 17:10:20 wer_bpe:189] predicted:rangierfahrt von gleis sechs neun ins gleis delta sieben antworten\n",
      "[NeMo I 2023-01-02 17:10:20 wer_bpe:187] \n",
      "    \n",
      "[NeMo I 2023-01-02 17:10:20 wer_bpe:188] reference:umstellmanöver von charlie drei zwei via gleis victor sechs neun ins gleis golf zwei vier antworten\n",
      "[NeMo I 2023-01-02 17:10:20 wer_bpe:189] predicted:umstellmanöver von charlie drei zwei via gleis victor sechs neun ins gleis golf zwei vier antworten\n",
      "[NeMo I 2023-01-02 17:10:56 wer_bpe:187] \n",
      "    \n",
      "[NeMo I 2023-01-02 17:10:56 wer_bpe:188] reference:rangierfahrt von gleis uniform vier null ins gleis zwei vier antworten\n",
      "[NeMo I 2023-01-02 17:10:56 wer_bpe:189] predicted:rangierfahrt von gleis inform vier null zwei vier antworten\n",
      "[NeMo I 2023-01-02 17:11:23 wer_bpe:187] \n",
      "    \n",
      "[NeMo I 2023-01-02 17:11:24 wer_bpe:188] reference:rangierfahrt von zwei neun nach gleis papa null fünf antworten\n",
      "[NeMo I 2023-01-02 17:11:24 wer_bpe:189] predicted:rangierfahrt von zwei herr gleis null fünf antworten\n",
      "[NeMo I 2023-01-02 17:11:50 wer_bpe:187] \n",
      "    \n",
      "[NeMo I 2023-01-02 17:11:50 wer_bpe:188] reference:rangierfahrt von xray vier eins nach bravo neun null antworten\n",
      "[NeMo I 2023-01-02 17:11:50 wer_bpe:189] predicted:fahr vom ray vier  nach bra neun null antworten\n",
      "[NeMo I 2023-01-02 17:12:17 wer_bpe:187] \n",
      "    \n",
      "[NeMo I 2023-01-02 17:12:17 wer_bpe:188] reference:rangierfahrt vom india sechs fünf nach gleis uniform sieben antworten\n",
      "[NeMo I 2023-01-02 17:12:17 wer_bpe:189] predicted:rangierfahrt vom india sechs fünf nach gleis uniform sieben antworten\n"
     ]
    },
    {
     "data": {
      "application/vnd.jupyter.widget-view+json": {
       "model_id": "",
       "version_major": 2,
       "version_minor": 0
      },
      "text/plain": [
       "Validation: 0it [00:00, ?it/s]"
      ]
     },
     "metadata": {},
     "output_type": "display_data"
    },
    {
     "name": "stdout",
     "output_type": "stream",
     "text": [
      "[NeMo I 2023-01-02 17:12:37 wer_bpe:187] \n",
      "    \n",
      "[NeMo I 2023-01-02 17:12:37 wer_bpe:188] reference:rangierfahrt vom gleis mike zwei drei ins drei drei antworten\n",
      "[NeMo I 2023-01-02 17:12:37 wer_bpe:189] predicted:rangierfahrt vom gleis mike zwei drei ins drei drei antworten\n",
      "[NeMo I 2023-01-02 17:12:37 wer_bpe:187] \n",
      "    \n",
      "[NeMo I 2023-01-02 17:12:37 wer_bpe:188] reference:spracheingabe\n",
      "[NeMo I 2023-01-02 17:12:37 wer_bpe:189] predicted:spracheingabe\n",
      "[NeMo I 2023-01-02 17:12:38 wer_bpe:187] \n",
      "    \n",
      "[NeMo I 2023-01-02 17:12:38 wer_bpe:188] reference:umstellmanöver vom drei sechs nach gleis xray vier sieben via null vier antworten\n",
      "[NeMo I 2023-01-02 17:12:38 wer_bpe:189] predicted:umstellmanöver vom drei sechs nach gleis xray vier sieben via null vier antworten\n",
      "[NeMo I 2023-01-02 17:12:38 wer_bpe:187] \n",
      "    \n",
      "[NeMo I 2023-01-02 17:12:38 wer_bpe:188] reference:rangierfahrt von gleis sechs neun ins gleis delta sieben antworten\n",
      "[NeMo I 2023-01-02 17:12:38 wer_bpe:189] predicted:rangierfahrt von gleis sechs neun ins gleis delta sieben antworten\n",
      "[NeMo I 2023-01-02 17:12:38 wer_bpe:187] \n",
      "    \n",
      "[NeMo I 2023-01-02 17:12:38 wer_bpe:188] reference:umstellmanöver von charlie drei zwei via gleis victor sechs neun ins gleis golf zwei vier antworten\n",
      "[NeMo I 2023-01-02 17:12:38 wer_bpe:189] predicted:umstellmanöver von charlie drei zwei via gleis victor sechs neun ins gleis golf zwei vier antworten\n",
      "[NeMo I 2023-01-02 17:13:14 wer_bpe:187] \n",
      "    \n",
      "[NeMo I 2023-01-02 17:13:14 wer_bpe:188] reference:umstellmanöver vom acht acht via zwei null ins alpha fünf vier antworten\n",
      "[NeMo I 2023-01-02 17:13:14 wer_bpe:189] predicted:ins ein\n",
      "[NeMo I 2023-01-02 17:13:41 wer_bpe:187] \n",
      "    \n",
      "[NeMo I 2023-01-02 17:13:41 wer_bpe:188] reference:rangierfahrt vom null neun ins uniform sieben sieben antworten\n",
      "[NeMo I 2023-01-02 17:13:41 wer_bpe:189] predicted:rangierfahrt von null neun insform sieben sieben antworten\n",
      "[NeMo I 2023-01-02 17:14:07 wer_bpe:187] \n",
      "    \n",
      "[NeMo I 2023-01-02 17:14:07 wer_bpe:188] reference:umstellmanöver von gleis quebec null sechs via gleis xray sechs drei ins gleis drei zwei antworten\n",
      "[NeMo I 2023-01-02 17:14:07 wer_bpe:189] predicted:umstellmanöver von gleis quebec nul sechs via gleis xray sechs drei ins gleis drei zwei antworten\n",
      "[NeMo I 2023-01-02 17:14:34 wer_bpe:187] \n",
      "    \n",
      "[NeMo I 2023-01-02 17:14:34 wer_bpe:188] reference:rangierfahrt von sieben drei ins sechs drei antworten\n",
      "[NeMo I 2023-01-02 17:14:34 wer_bpe:189] predicted:umngierfahrt von sieben drei sechs sechs drei antworten\n"
     ]
    },
    {
     "data": {
      "application/vnd.jupyter.widget-view+json": {
       "model_id": "",
       "version_major": 2,
       "version_minor": 0
      },
      "text/plain": [
       "Validation: 0it [00:00, ?it/s]"
      ]
     },
     "metadata": {},
     "output_type": "display_data"
    },
    {
     "name": "stdout",
     "output_type": "stream",
     "text": [
      "[NeMo I 2023-01-02 17:14:55 wer_bpe:187] \n",
      "    \n",
      "[NeMo I 2023-01-02 17:14:55 wer_bpe:188] reference:rangierfahrt vom gleis mike zwei drei ins drei drei antworten\n",
      "[NeMo I 2023-01-02 17:14:55 wer_bpe:189] predicted:rangierfahrt vom gleis mike zwei drei ins drei drei antworten\n",
      "[NeMo I 2023-01-02 17:14:56 wer_bpe:187] \n",
      "    \n",
      "[NeMo I 2023-01-02 17:14:56 wer_bpe:188] reference:spracheingabe\n",
      "[NeMo I 2023-01-02 17:14:56 wer_bpe:189] predicted:spracheingabe\n",
      "[NeMo I 2023-01-02 17:14:56 wer_bpe:187] \n",
      "    \n",
      "[NeMo I 2023-01-02 17:14:56 wer_bpe:188] reference:umstellmanöver vom drei sechs nach gleis xray vier sieben via null vier antworten\n",
      "[NeMo I 2023-01-02 17:14:56 wer_bpe:189] predicted:umstellmanöver vom drei sechs nach gleis xray vier sieben via null vier antworten\n",
      "[NeMo I 2023-01-02 17:14:56 wer_bpe:187] \n",
      "    \n",
      "[NeMo I 2023-01-02 17:14:56 wer_bpe:188] reference:rangierfahrt von gleis sechs neun ins gleis delta sieben antworten\n",
      "[NeMo I 2023-01-02 17:14:56 wer_bpe:189] predicted:rangierfahrt von gleis sechs neun ins gleis delta sieben antworten\n",
      "[NeMo I 2023-01-02 17:14:56 wer_bpe:187] \n",
      "    \n",
      "[NeMo I 2023-01-02 17:14:56 wer_bpe:188] reference:umstellmanöver von charlie drei zwei via gleis victor sechs neun ins gleis golf zwei vier antworten\n",
      "[NeMo I 2023-01-02 17:14:56 wer_bpe:189] predicted:umstellmanöver von charlie drei zwei via gleis victor sechs neun ins gleis golf zwei vier antworten\n",
      "[NeMo I 2023-01-02 17:15:32 wer_bpe:187] \n",
      "    \n",
      "[NeMo I 2023-01-02 17:15:32 wer_bpe:188] reference:rangierfahrt von sechs ins delta acht sechs antworten\n",
      "[NeMo I 2023-01-02 17:15:32 wer_bpe:189] predicted:rangierfahrt von sechs in acht sechs antworten\n",
      "[NeMo I 2023-01-02 17:15:59 wer_bpe:187] \n",
      "    \n",
      "[NeMo I 2023-01-02 17:15:59 wer_bpe:188] reference:rangierfahrt vom gleis null null nach eins eins antworten\n",
      "[NeMo I 2023-01-02 17:15:59 wer_bpe:189] predicted:rangierfahrt von gleis null neunull nachs eins eins antworten\n",
      "[NeMo I 2023-01-02 17:16:26 wer_bpe:187] \n",
      "    \n",
      "[NeMo I 2023-01-02 17:16:26 wer_bpe:188] reference:umstellmanöver von gleis neun vier ins gleis null fünf via gleis lima eins acht antworten\n",
      "[NeMo I 2023-01-02 17:16:26 wer_bpe:189] predicted:umstellmanöver von gleis neun vier ins gleis null  gleiv fünf eins acht antworten\n",
      "[NeMo I 2023-01-02 17:16:52 wer_bpe:187] \n",
      "    \n",
      "[NeMo I 2023-01-02 17:16:52 wer_bpe:188] reference:der film wurde in england und portugal gedreht\n",
      "[NeMo I 2023-01-02 17:16:52 wer_bpe:189] predicted:fahr antwort\n"
     ]
    },
    {
     "data": {
      "application/vnd.jupyter.widget-view+json": {
       "model_id": "",
       "version_major": 2,
       "version_minor": 0
      },
      "text/plain": [
       "Validation: 0it [00:00, ?it/s]"
      ]
     },
     "metadata": {},
     "output_type": "display_data"
    },
    {
     "name": "stdout",
     "output_type": "stream",
     "text": [
      "[NeMo I 2023-01-02 17:17:13 wer_bpe:187] \n",
      "    \n",
      "[NeMo I 2023-01-02 17:17:13 wer_bpe:188] reference:rangierfahrt vom gleis mike zwei drei ins drei drei antworten\n",
      "[NeMo I 2023-01-02 17:17:13 wer_bpe:189] predicted:rangierfahrt vom gleis mike zwei drei ins drei drei antworten\n",
      "[NeMo I 2023-01-02 17:17:13 wer_bpe:187] \n",
      "    \n",
      "[NeMo I 2023-01-02 17:17:13 wer_bpe:188] reference:spracheingabe\n",
      "[NeMo I 2023-01-02 17:17:13 wer_bpe:189] predicted:spracheingabe\n",
      "[NeMo I 2023-01-02 17:17:14 wer_bpe:187] \n",
      "    \n",
      "[NeMo I 2023-01-02 17:17:14 wer_bpe:188] reference:umstellmanöver vom drei sechs nach gleis xray vier sieben via null vier antworten\n",
      "[NeMo I 2023-01-02 17:17:14 wer_bpe:189] predicted:umstellmanöver vom drei sechs nach gleis xray vier sieben via null vier antworten\n",
      "[NeMo I 2023-01-02 17:17:14 wer_bpe:187] \n",
      "    \n",
      "[NeMo I 2023-01-02 17:17:14 wer_bpe:188] reference:rangierfahrt von gleis sechs neun ins gleis delta sieben antworten\n",
      "[NeMo I 2023-01-02 17:17:14 wer_bpe:189] predicted:rangierfahrt von gleis sechs neun ins gleis delta sieben antworten\n",
      "[NeMo I 2023-01-02 17:17:14 wer_bpe:187] \n",
      "    \n",
      "[NeMo I 2023-01-02 17:17:14 wer_bpe:188] reference:umstellmanöver von charlie drei zwei via gleis victor sechs neun ins gleis golf zwei vier antworten\n",
      "[NeMo I 2023-01-02 17:17:14 wer_bpe:189] predicted:umstellmanöver von charlie drei zwei via gleis victor sechs neun ins gleis golf zwei vier antworten\n"
     ]
    },
    {
     "name": "stderr",
     "output_type": "stream",
     "text": [
      "`Trainer.fit` stopped: `max_epochs=10` reached.\n"
     ]
    },
    {
     "data": {
      "text/html": [
       "Waiting for W&B process to finish... <strong style=\"color:green\">(success).</strong>"
      ],
      "text/plain": [
       "<IPython.core.display.HTML object>"
      ]
     },
     "metadata": {},
     "output_type": "display_data"
    },
    {
     "data": {
      "text/html": [
       "<style>\n",
       "    table.wandb td:nth-child(1) { padding: 0 10px; text-align: left ; width: auto;} td:nth-child(2) {text-align: left ; width: 100%}\n",
       "    .wandb-row { display: flex; flex-direction: row; flex-wrap: wrap; justify-content: flex-start; width: 100% }\n",
       "    .wandb-col { display: flex; flex-direction: column; flex-basis: 100%; flex: 1; padding: 10px; }\n",
       "    </style>\n",
       "<div class=\"wandb-row\"><div class=\"wandb-col\"><h3>Run history:</h3><br/><table class=\"wandb\"><tr><td>epoch</td><td>▁▁▁▁▂▂▂▂▃▃▃▃▃▃▃▃▄▄▄▄▅▅▅▅▆▆▆▆▆▆▆▆▇▇▇▇████</td></tr><tr><td>global_step</td><td>▁▁▁▂▂▂▂▂▂▃▃▃▃▃▄▄▄▄▄▄▄▅▅▅▅▅▆▆▆▆▆▇▇▇▇▇▇███</td></tr><tr><td>learning_rate</td><td>▁▁▁▁▂▂▂▂▂▃▃▃▃▃▃▄▄▄▄▄▅▅▅▅▅▅▆▆▆▆▆▆▇▇▇▇▇███</td></tr><tr><td>train_loss</td><td>███▇▆▇▆▇▅▄▄▄▄▃▄▃▅▃▃▆▃▃▃▃▃▂▃▂▁▁▂▅▂▂▂▁▁▁▂▁</td></tr><tr><td>trainer/global_step</td><td>▁▁▁▂▂▂▂▂▂▃▃▃▃▃▄▄▄▄▄▄▄▅▅▅▅▅▆▆▆▆▆▇▇▇▇▇▇███</td></tr><tr><td>training_batch_wer</td><td>███▇▇▅▆▆▅▄▄▄▄▄▃▃▃▂▃▃▄▂▃▂▃▂▃▂▁▃▄▂▃▂▁▂▂▂</td></tr><tr><td>val_loss</td><td>█▄▂▂▁▁▁▁▁▁</td></tr><tr><td>val_wer</td><td>█▄▂▂▁▁▁▁▁▁</td></tr></table><br/></div><div class=\"wandb-col\"><h3>Run summary:</h3><br/><table class=\"wandb\"><tr><td>epoch</td><td>9</td></tr><tr><td>global_step</td><td>2370.0</td></tr><tr><td>learning_rate</td><td>4e-05</td></tr><tr><td>train_loss</td><td>16.65577</td></tr><tr><td>trainer/global_step</td><td>2369</td></tr><tr><td>training_batch_wer</td><td>0.24444</td></tr><tr><td>val_loss</td><td>2.19811</td></tr><tr><td>val_wer</td><td>0.02611</td></tr></table><br/></div></div>"
      ],
      "text/plain": [
       "<IPython.core.display.HTML object>"
      ]
     },
     "metadata": {},
     "output_type": "display_data"
    },
    {
     "data": {
      "text/html": [
       "Synced <strong style=\"color:#cdcd00\">fallen-sweep-1</strong>: <a href=\"https://wandb.ai/unisg-ds-nlp/ASR/runs/m9lgm488\" target=\"_blank\">https://wandb.ai/unisg-ds-nlp/ASR/runs/m9lgm488</a><br/>Synced 5 W&B file(s), 0 media file(s), 10 artifact file(s) and 0 other file(s)"
      ],
      "text/plain": [
       "<IPython.core.display.HTML object>"
      ]
     },
     "metadata": {},
     "output_type": "display_data"
    },
    {
     "data": {
      "text/html": [
       "Find logs at: <code>./wandb/run-20230102_165406-m9lgm488/logs</code>"
      ],
      "text/plain": [
       "<IPython.core.display.HTML object>"
      ]
     },
     "metadata": {},
     "output_type": "display_data"
    },
    {
     "name": "stderr",
     "output_type": "stream",
     "text": [
      "\u001b[34m\u001b[1mwandb\u001b[0m: Sweep Agent: Waiting for job.\n",
      "\u001b[34m\u001b[1mwandb\u001b[0m: Job received.\n",
      "\u001b[34m\u001b[1mwandb\u001b[0m: Agent Starting Run: 406x50tt with config:\n",
      "\u001b[34m\u001b[1mwandb\u001b[0m: \tepoch: 7\n",
      "\u001b[34m\u001b[1mwandb\u001b[0m: \tfreq_width: 26.12758172796314\n",
      "\u001b[34m\u001b[1mwandb\u001b[0m: \tlr: 0.00506738073216013\n",
      "Failed to detect the name of this notebook, you can set it manually with the WANDB_NOTEBOOK_NAME environment variable to enable code saving.\n"
     ]
    },
    {
     "data": {
      "text/html": [
       "wandb version 0.13.7 is available!  To upgrade, please run:\n",
       " $ pip install wandb --upgrade"
      ],
      "text/plain": [
       "<IPython.core.display.HTML object>"
      ]
     },
     "metadata": {},
     "output_type": "display_data"
    },
    {
     "data": {
      "text/html": [
       "Tracking run with wandb version 0.13.4"
      ],
      "text/plain": [
       "<IPython.core.display.HTML object>"
      ]
     },
     "metadata": {},
     "output_type": "display_data"
    },
    {
     "data": {
      "text/html": [
       "Run data is saved locally in <code>/home/user/code/sbb_asr/notebooks/wandb/run-20230102_171807-406x50tt</code>"
      ],
      "text/plain": [
       "<IPython.core.display.HTML object>"
      ]
     },
     "metadata": {},
     "output_type": "display_data"
    },
    {
     "data": {
      "text/html": [
       "Syncing run <strong><a href=\"https://wandb.ai/unisg-ds-nlp/ASR/runs/406x50tt\" target=\"_blank\">treasured-sweep-2</a></strong> to <a href=\"https://wandb.ai/unisg-ds-nlp/ASR\" target=\"_blank\">Weights & Biases</a> (<a href=\"https://wandb.me/run\" target=\"_blank\">docs</a>)<br/>Sweep page:  <a href=\"https://wandb.ai/unisg-ds-nlp/ASR/sweeps/v7qi12lc\" target=\"_blank\">https://wandb.ai/unisg-ds-nlp/ASR/sweeps/v7qi12lc</a>"
      ],
      "text/plain": [
       "<IPython.core.display.HTML object>"
      ]
     },
     "metadata": {},
     "output_type": "display_data"
    },
    {
     "name": "stderr",
     "output_type": "stream",
     "text": [
      "[NeMo W 2023-01-02 17:18:09 nemo_logging:349] /home/user/.local/lib/python3.9/site-packages/pytorch_lightning/loggers/wandb.py:352: UserWarning: There is a wandb run already in progress and newly created instances of `WandbLogger` will reuse this run. If this is not desired, call `wandb.finish()` before instantiating `WandbLogger`.\n",
      "      rank_zero_warn(\n",
      "    \n",
      "[NeMo W 2023-01-02 17:18:09 nemo_logging:349] /home/user/.local/lib/python3.9/site-packages/pytorch_lightning/trainer/connectors/accelerator_connector.py:447: LightningDeprecationWarning: Setting `Trainer(gpus=1)` is deprecated in v1.7 and will be removed in v2.0. Please use `Trainer(accelerator='gpu', devices=1)` instead.\n",
      "      rank_zero_deprecation(\n",
      "    \n",
      "GPU available: True (cuda), used: True\n",
      "TPU available: False, using: 0 TPU cores\n",
      "IPU available: False, using: 0 IPUs\n",
      "HPU available: False, using: 0 HPUs\n"
     ]
    },
    {
     "name": "stdout",
     "output_type": "stream",
     "text": [
      "[NeMo I 2023-01-02 17:18:10 cloud:56] Found existing object /home/user/.cache/torch/NeMo/NeMo_1.12.0/stt_de_citrinet_1024/8743e4cecb8017ca2b49a035e07b2893/stt_de_citrinet_1024.nemo.\n",
      "[NeMo I 2023-01-02 17:18:10 cloud:62] Re-using file from: /home/user/.cache/torch/NeMo/NeMo_1.12.0/stt_de_citrinet_1024/8743e4cecb8017ca2b49a035e07b2893/stt_de_citrinet_1024.nemo\n",
      "[NeMo I 2023-01-02 17:18:10 common:910] Instantiating model from pre-trained checkpoint\n",
      "[NeMo I 2023-01-02 17:18:14 mixins:170] Tokenizer SentencePieceTokenizer initialized with 1024 tokens\n"
     ]
    },
    {
     "name": "stderr",
     "output_type": "stream",
     "text": [
      "[NeMo W 2023-01-02 17:18:15 modelPT:142] If you intend to do training or fine-tuning, please call the ModelPT.setup_training_data() method and provide a valid configuration file to setup the train data loader.\n",
      "    Train config : \n",
      "    manifest_filepath: /data/train/tarred_audio_manifest.json\n",
      "    sample_rate: 16000\n",
      "    batch_size: 32\n",
      "    trim_silence: false\n",
      "    max_duration: 35.0\n",
      "    shuffle: true\n",
      "    is_tarred: true\n",
      "    tarred_audio_filepaths: /data/train/audio__OP_0..1023_CL_.tar\n",
      "    use_start_end_token: false\n",
      "    shuffle_n: 1024\n",
      "    num_workers: 16\n",
      "    pin_memory: true\n",
      "    \n",
      "[NeMo W 2023-01-02 17:18:15 modelPT:149] If you intend to do validation, please call the ModelPT.setup_validation_data() or ModelPT.setup_multiple_validation_data() method and provide a valid configuration file to setup the validation data loader(s). \n",
      "    Validation config : \n",
      "    manifest_filepath:\n",
      "    - /data/voxpopuli_de/dev/voxpopuli_dev_manifest.json\n",
      "    - /data/voxpopuli_de/test/voxpopuli_test_manifest.json\n",
      "    - /data/mcv7.0_de/mcv7.0_dev_manifest_cleaned.json\n",
      "    - /data/mcv7.0_de/mcv7.0_test_manifest_cleaned.json\n",
      "    - /data/mls_de/mls_dev_manifest_cleaned.json\n",
      "    - /data/mls_de/mls_test_manifest_cleaned.json\n",
      "    sample_rate: 16000\n",
      "    batch_size: 8\n",
      "    shuffle: false\n",
      "    use_start_end_token: false\n",
      "    num_workers: 8\n",
      "    pin_memory: true\n",
      "    \n",
      "[NeMo W 2023-01-02 17:18:15 modelPT:155] Please call the ModelPT.setup_test_data() or ModelPT.setup_multiple_test_data() method and provide a valid configuration file to setup the test data loader(s).\n",
      "    Test config : \n",
      "    manifest_filepath: null\n",
      "    sample_rate: 16000\n",
      "    batch_size: 32\n",
      "    shuffle: false\n",
      "    use_start_end_token: false\n",
      "    \n"
     ]
    },
    {
     "name": "stdout",
     "output_type": "stream",
     "text": [
      "[NeMo I 2023-01-02 17:18:15 features:225] PADDING: 16\n",
      "[NeMo I 2023-01-02 17:18:20 save_restore_connector:243] Model EncDecCTCModelBPE was successfully restored from /home/user/.cache/torch/NeMo/NeMo_1.12.0/stt_de_citrinet_1024/8743e4cecb8017ca2b49a035e07b2893/stt_de_citrinet_1024.nemo.\n",
      "[NeMo I 2023-01-02 17:18:20 collections:194] Dataset loaded with 1890 files totalling 7.41 hours\n",
      "[NeMo I 2023-01-02 17:18:20 collections:195] 0 files were filtered totalling 0.00 hours\n",
      "[NeMo I 2023-01-02 17:18:20 collections:194] Dataset loaded with 34 files totalling 0.13 hours\n",
      "[NeMo I 2023-01-02 17:18:20 collections:195] 0 files were filtered totalling 0.00 hours\n",
      "[NeMo I 2023-01-02 17:18:20 collections:194] Dataset loaded with 34 files totalling 0.14 hours\n",
      "[NeMo I 2023-01-02 17:18:20 collections:195] 0 files were filtered totalling 0.00 hours\n",
      "[NeMo I 2023-01-02 17:18:20 modelPT:597] Optimizer config = Novograd (\n",
      "    Parameter Group 0\n",
      "        amsgrad: False\n",
      "        betas: [0.8, 0.25]\n",
      "        eps: 1e-08\n",
      "        grad_averaging: False\n",
      "        lr: 0.00506738073216013\n",
      "        weight_decay: 0.001\n",
      "    )\n",
      "[NeMo I 2023-01-02 17:18:20 lr_scheduler:910] Scheduler \"<nemo.core.optim.lr_scheduler.CosineAnnealing object at 0x7f83877b2040>\" \n",
      "    will be used during training (effective maximum steps = 1659) - \n",
      "    Parameters : \n",
      "    (warmup_steps: 10000\n",
      "    warmup_ratio: null\n",
      "    min_lr: 1.0e-05\n",
      "    last_epoch: -1\n",
      "    max_steps: 1659\n",
      "    )\n"
     ]
    },
    {
     "name": "stderr",
     "output_type": "stream",
     "text": [
      "LOCAL_RANK: 0 - CUDA_VISIBLE_DEVICES: [0,1,2,3]\n"
     ]
    },
    {
     "name": "stdout",
     "output_type": "stream",
     "text": [
      "[NeMo I 2023-01-02 17:18:20 modelPT:597] Optimizer config = Novograd (\n",
      "    Parameter Group 0\n",
      "        amsgrad: False\n",
      "        betas: [0.8, 0.25]\n",
      "        eps: 1e-08\n",
      "        grad_averaging: False\n",
      "        lr: 0.00506738073216013\n",
      "        weight_decay: 0.001\n",
      "    )\n",
      "[NeMo I 2023-01-02 17:18:20 lr_scheduler:910] Scheduler \"<nemo.core.optim.lr_scheduler.CosineAnnealing object at 0x7f842c9c0b50>\" \n",
      "    will be used during training (effective maximum steps = 1659) - \n",
      "    Parameters : \n",
      "    (warmup_steps: 10000\n",
      "    warmup_ratio: null\n",
      "    min_lr: 1.0e-05\n",
      "    last_epoch: -1\n",
      "    max_steps: 1659\n",
      "    )\n"
     ]
    },
    {
     "name": "stderr",
     "output_type": "stream",
     "text": [
      "\n",
      "  | Name              | Type                              | Params\n",
      "------------------------------------------------------------------------\n",
      "0 | preprocessor      | AudioToMelSpectrogramPreprocessor | 0     \n",
      "1 | encoder           | ConvASREncoder                    | 140 M \n",
      "2 | decoder           | ConvASRDecoder                    | 1.1 M \n",
      "3 | loss              | CTCLoss                           | 0     \n",
      "4 | spec_augmentation | SpectrogramAugmentation           | 0     \n",
      "5 | _wer              | WERBPE                            | 0     \n",
      "------------------------------------------------------------------------\n",
      "141 M     Trainable params\n",
      "0         Non-trainable params\n",
      "141 M     Total params\n",
      "564.897   Total estimated model params size (MB)\n"
     ]
    },
    {
     "data": {
      "application/vnd.jupyter.widget-view+json": {
       "model_id": "95ab4e33cef44a1e87ce68c0bebec2db",
       "version_major": 2,
       "version_minor": 0
      },
      "text/plain": [
       "Sanity Checking: 0it [00:00, ?it/s]"
      ]
     },
     "metadata": {},
     "output_type": "display_data"
    },
    {
     "name": "stdout",
     "output_type": "stream",
     "text": [
      "[NeMo I 2023-01-02 17:18:22 wer_bpe:187] \n",
      "    \n",
      "[NeMo I 2023-01-02 17:18:22 wer_bpe:188] reference:rangierfahrt vom gleis mike zwei drei ins drei drei antworten\n",
      "[NeMo I 2023-01-02 17:18:22 wer_bpe:189] predicted:prongierfahrt vom gleis maik zwei drei ins drei drei antworten\n",
      "[NeMo I 2023-01-02 17:18:22 wer_bpe:187] \n",
      "    \n",
      "[NeMo I 2023-01-02 17:18:22 wer_bpe:188] reference:spracheingabe\n",
      "[NeMo I 2023-01-02 17:18:22 wer_bpe:189] predicted:spracheingabe\n"
     ]
    },
    {
     "data": {
      "application/vnd.jupyter.widget-view+json": {
       "model_id": "607462f9d7954d91993bc7a012f0b778",
       "version_major": 2,
       "version_minor": 0
      },
      "text/plain": [
       "Training: 0it [00:00, ?it/s]"
      ]
     },
     "metadata": {},
     "output_type": "display_data"
    },
    {
     "name": "stdout",
     "output_type": "stream",
     "text": [
      "[NeMo I 2023-01-02 17:18:51 wer_bpe:187] \n",
      "    \n",
      "[NeMo I 2023-01-02 17:18:51 wer_bpe:188] reference:umstellmanöver vom hotel acht zwei nach zwei sieben via golf sechs acht antworten\n",
      "[NeMo I 2023-01-02 17:18:51 wer_bpe:189] predicted:umlö für auch zwei zwei sieben wie ses\n",
      "[NeMo I 2023-01-02 17:19:18 wer_bpe:187] \n",
      "    \n",
      "[NeMo I 2023-01-02 17:19:18 wer_bpe:188] reference:umstellmanöver von whisky fünf fünf ins gleis sierra null sechs via gleis oscar fünf neun antworten\n",
      "[NeMo I 2023-01-02 17:19:18 wer_bpe:189] predicted:umstände von whisk fünf fünf ins gleis sierra null sechs gleis oskel s fünf neun ein\n",
      "[NeMo I 2023-01-02 17:19:44 wer_bpe:187] \n",
      "    \n",
      "[NeMo I 2023-01-02 17:19:44 wer_bpe:188] reference:rangierfahrt von hotel eins drei ins gleis papa fünf vier antworten\n",
      "[NeMo I 2023-01-02 17:19:44 wer_bpe:189] predicted:rangierfahrt von hotel eins insspa fünf antworten\n",
      "[NeMo I 2023-01-02 17:20:10 wer_bpe:187] \n",
      "    \n",
      "[NeMo I 2023-01-02 17:20:10 wer_bpe:188] reference:umstellmanöver vom sechs drei nach kilo sieben neun via foxtrot vier zwei antworten\n",
      "[NeMo I 2023-01-02 17:20:10 wer_bpe:189] predicted:durchstellmanöver von dreiphlos sie via vier zwei\n"
     ]
    },
    {
     "data": {
      "application/vnd.jupyter.widget-view+json": {
       "model_id": "33296a1c5e39494c81283ee1bbef116e",
       "version_major": 2,
       "version_minor": 0
      },
      "text/plain": [
       "Validation: 0it [00:00, ?it/s]"
      ]
     },
     "metadata": {},
     "output_type": "display_data"
    },
    {
     "name": "stdout",
     "output_type": "stream",
     "text": [
      "[NeMo I 2023-01-02 17:20:31 wer_bpe:187] \n",
      "    \n",
      "[NeMo I 2023-01-02 17:20:31 wer_bpe:188] reference:rangierfahrt vom gleis mike zwei drei ins drei drei antworten\n",
      "[NeMo I 2023-01-02 17:20:31 wer_bpe:189] predicted:rangierfahrt vom gleis mike zwei drei ins drei drei antworten\n",
      "[NeMo I 2023-01-02 17:20:32 wer_bpe:187] \n",
      "    \n",
      "[NeMo I 2023-01-02 17:20:32 wer_bpe:188] reference:spracheingabe\n",
      "[NeMo I 2023-01-02 17:20:32 wer_bpe:189] predicted:sprach eingabe\n",
      "[NeMo I 2023-01-02 17:20:32 wer_bpe:187] \n",
      "    \n",
      "[NeMo I 2023-01-02 17:20:32 wer_bpe:188] reference:umstellmanöver vom drei sechs nach gleis xray vier sieben via null vier antworten\n",
      "[NeMo I 2023-01-02 17:20:32 wer_bpe:189] predicted:umstellmanöver vom drei sechs nach gleis xray vier sieben via null vier antworten\n",
      "[NeMo I 2023-01-02 17:20:32 wer_bpe:187] \n",
      "    \n",
      "[NeMo I 2023-01-02 17:20:32 wer_bpe:188] reference:rangierfahrt von gleis sechs neun ins gleis delta sieben antworten\n",
      "[NeMo I 2023-01-02 17:20:32 wer_bpe:189] predicted:rangierfahrt von gleis sechs neun ins gleis delta sieben antworten\n",
      "[NeMo I 2023-01-02 17:20:32 wer_bpe:187] \n",
      "    \n",
      "[NeMo I 2023-01-02 17:20:32 wer_bpe:188] reference:umstellmanöver von charlie drei zwei via gleis victor sechs neun ins gleis golf zwei vier antworten\n",
      "[NeMo I 2023-01-02 17:20:32 wer_bpe:189] predicted:umstellmanöver von charlie drei zwei via gleis victor sechs neun ins gleis golf zwei vier antwort\n",
      "[NeMo I 2023-01-02 17:21:09 wer_bpe:187] \n",
      "    \n",
      "[NeMo I 2023-01-02 17:21:09 wer_bpe:188] reference:umstellmanöver vom gleis mike acht neun via vier fünf nach zwei vier antworten\n",
      "[NeMo I 2023-01-02 17:21:09 wer_bpe:189] predicted:umstellmanöver vom gleis mike acht neun viaö noch zwei vier antworten\n",
      "[NeMo I 2023-01-02 17:21:36 wer_bpe:187] \n",
      "    \n",
      "[NeMo I 2023-01-02 17:21:36 wer_bpe:188] reference:umstellmanöver von tango vier fünf via gleis sechs drei ins gleis acht eins antworten\n",
      "[NeMo I 2023-01-02 17:21:36 wer_bpe:189] predicted:umstellman von ta vier fünf via gleis sechs drei ins zwei acht eins antworten\n",
      "[NeMo I 2023-01-02 17:22:02 wer_bpe:187] \n",
      "    \n",
      "[NeMo I 2023-01-02 17:22:02 wer_bpe:188] reference:umstellmanöver von eins via india zwei drei nach gleis zwei fünf antworten\n",
      "[NeMo I 2023-01-02 17:22:02 wer_bpe:189] predicted:umstellmanöver von eins via india zwei drei nach gleis zwei fünf antworten\n",
      "[NeMo I 2023-01-02 17:22:28 wer_bpe:187] \n",
      "    \n",
      "[NeMo I 2023-01-02 17:22:28 wer_bpe:188] reference:umstellmanöver vom gleis alpha sieben drei nach gleis null null via gleis yankee null acht antworten\n",
      "[NeMo I 2023-01-02 17:22:28 wer_bpe:189] predicted:umstellmanöver vom gleis alpha sieben drei nach gleis null null vier gleis yanc null acht antworten\n"
     ]
    },
    {
     "data": {
      "application/vnd.jupyter.widget-view+json": {
       "model_id": "8832acc75d764b53bd75167fb41c3953",
       "version_major": 2,
       "version_minor": 0
      },
      "text/plain": [
       "Validation: 0it [00:00, ?it/s]"
      ]
     },
     "metadata": {},
     "output_type": "display_data"
    },
    {
     "name": "stdout",
     "output_type": "stream",
     "text": [
      "[NeMo I 2023-01-02 17:22:49 wer_bpe:187] \n",
      "    \n",
      "[NeMo I 2023-01-02 17:22:49 wer_bpe:188] reference:rangierfahrt vom gleis mike zwei drei ins drei drei antworten\n",
      "[NeMo I 2023-01-02 17:22:49 wer_bpe:189] predicted:rangierfahrt vom gleis mike zwei drei ins drei drei antworten\n",
      "[NeMo I 2023-01-02 17:22:50 wer_bpe:187] \n",
      "    \n",
      "[NeMo I 2023-01-02 17:22:50 wer_bpe:188] reference:spracheingabe\n",
      "[NeMo I 2023-01-02 17:22:50 wer_bpe:189] predicted:spracheingabe\n",
      "[NeMo I 2023-01-02 17:22:50 wer_bpe:187] \n",
      "    \n",
      "[NeMo I 2023-01-02 17:22:50 wer_bpe:188] reference:umstellmanöver vom drei sechs nach gleis xray vier sieben via null vier antworten\n",
      "[NeMo I 2023-01-02 17:22:50 wer_bpe:189] predicted:umstellmanöver vom drei sechs nach gleis xray vier sieben via null vier antworten\n",
      "[NeMo I 2023-01-02 17:22:50 wer_bpe:187] \n",
      "    \n",
      "[NeMo I 2023-01-02 17:22:50 wer_bpe:188] reference:rangierfahrt von gleis sechs neun ins gleis delta sieben antworten\n",
      "[NeMo I 2023-01-02 17:22:50 wer_bpe:189] predicted:rangierfahrt von gleis sechs neun ins gleis delta sieben antworten\n",
      "[NeMo I 2023-01-02 17:22:50 wer_bpe:187] \n",
      "    \n",
      "[NeMo I 2023-01-02 17:22:50 wer_bpe:188] reference:umstellmanöver von charlie drei zwei via gleis victor sechs neun ins gleis golf zwei vier antworten\n",
      "[NeMo I 2023-01-02 17:22:50 wer_bpe:189] predicted:umstellmanöver von charlie drei zwei via gleis victor sechs neun ins gleis golf zwei vier antworten\n",
      "[NeMo I 2023-01-02 17:23:28 wer_bpe:187] \n",
      "    \n",
      "[NeMo I 2023-01-02 17:23:28 wer_bpe:188] reference:rangierfahrt vom kilo zwei sieben ins vier sieben antworten\n",
      "[NeMo I 2023-01-02 17:23:28 wer_bpe:189] predicted:vom kilo drei sieben ins vier sie antworten rangierfahrt vom kilo zwei sieben ins vier sieben antworten\n",
      "[NeMo I 2023-01-02 17:23:55 wer_bpe:187] \n",
      "    \n",
      "[NeMo I 2023-01-02 17:23:55 wer_bpe:188] reference:rangierfahrt von gleis sieben fünf nach victor neun eins antworten\n",
      "[NeMo I 2023-01-02 17:23:55 wer_bpe:189] predicted:rangierfahrt von von gleis sieben fünf nach gor neun eins antworten\n",
      "[NeMo I 2023-01-02 17:24:21 wer_bpe:187] \n",
      "    \n",
      "[NeMo I 2023-01-02 17:24:21 wer_bpe:188] reference:rangierfahrt von gleis eins fünf nach gleis oscar null zwei antworten\n",
      "[NeMo I 2023-01-02 17:24:21 wer_bpe:189] predicted:rangierfahrt von eins eins fünf nach gleis oscar null zwei antworten\n",
      "[NeMo I 2023-01-02 17:24:48 wer_bpe:187] \n",
      "    \n",
      "[NeMo I 2023-01-02 17:24:48 wer_bpe:188] reference:rangierfahrt von null vier nach alpha null acht antworten\n",
      "[NeMo I 2023-01-02 17:24:48 wer_bpe:189] predicted:ellmanöver von nul l nach alpha  achtn\n"
     ]
    },
    {
     "data": {
      "application/vnd.jupyter.widget-view+json": {
       "model_id": "e794ea7558e64ce49b1c693327ba1065",
       "version_major": 2,
       "version_minor": 0
      },
      "text/plain": [
       "Validation: 0it [00:00, ?it/s]"
      ]
     },
     "metadata": {},
     "output_type": "display_data"
    },
    {
     "name": "stdout",
     "output_type": "stream",
     "text": [
      "[NeMo I 2023-01-02 17:25:09 wer_bpe:187] \n",
      "    \n",
      "[NeMo I 2023-01-02 17:25:09 wer_bpe:188] reference:rangierfahrt vom gleis mike zwei drei ins drei drei antworten\n",
      "[NeMo I 2023-01-02 17:25:09 wer_bpe:189] predicted:rangierfahrt vom gleis mike zwei drei ins drei drei antworten\n",
      "[NeMo I 2023-01-02 17:25:09 wer_bpe:187] \n",
      "    \n",
      "[NeMo I 2023-01-02 17:25:09 wer_bpe:188] reference:spracheingabe\n",
      "[NeMo I 2023-01-02 17:25:09 wer_bpe:189] predicted:spracheingabe\n",
      "[NeMo I 2023-01-02 17:25:09 wer_bpe:187] \n",
      "    \n",
      "[NeMo I 2023-01-02 17:25:09 wer_bpe:188] reference:umstellmanöver vom drei sechs nach gleis xray vier sieben via null vier antworten\n",
      "[NeMo I 2023-01-02 17:25:09 wer_bpe:189] predicted:umstellmanöver vom drei sechs nach gleis xray vier sieben via null vier antworten\n",
      "[NeMo I 2023-01-02 17:25:09 wer_bpe:187] \n",
      "    \n",
      "[NeMo I 2023-01-02 17:25:09 wer_bpe:188] reference:rangierfahrt von gleis sechs neun ins gleis delta sieben antworten\n",
      "[NeMo I 2023-01-02 17:25:09 wer_bpe:189] predicted:rangierfahrt von gleis sechs neun ins gleis delta sieben antworten\n",
      "[NeMo I 2023-01-02 17:25:09 wer_bpe:187] \n",
      "    \n",
      "[NeMo I 2023-01-02 17:25:09 wer_bpe:188] reference:umstellmanöver von charlie drei zwei via gleis victor sechs neun ins gleis golf zwei vier antworten\n",
      "[NeMo I 2023-01-02 17:25:09 wer_bpe:189] predicted:umstellmanöver von charlie drei zwei via gleis victor sechs neun ins gleis golf zwei vier antworten\n",
      "[NeMo I 2023-01-02 17:25:46 wer_bpe:187] \n",
      "    \n",
      "[NeMo I 2023-01-02 17:25:46 wer_bpe:188] reference:rangierfahrt von gleis yankee eins neun ins null neun antworten\n",
      "[NeMo I 2023-01-02 17:25:46 wer_bpe:189] predicted:rangierfahrt von gleis  eins neun vier acht antworten\n",
      "[NeMo I 2023-01-02 17:26:12 wer_bpe:187] \n",
      "    \n",
      "[NeMo I 2023-01-02 17:26:12 wer_bpe:188] reference:rangierfahrt von gleis uniform vier null ins gleis zwei vier antworten\n",
      "[NeMo I 2023-01-02 17:26:12 wer_bpe:189] predicted:rangierfahrt von gleis uniform vier null ins gleis zwei vier antworten\n",
      "[NeMo I 2023-01-02 17:26:39 wer_bpe:187] \n",
      "    \n",
      "[NeMo I 2023-01-02 17:26:39 wer_bpe:188] reference:umstellmanöver vom vier sechs nach gleis drei zwei via hotel null vier antworten\n",
      "[NeMo I 2023-01-02 17:26:39 wer_bpe:189] predicted:umstellmanöver vom vier sechs nach gleis drei zwei via hotel null vier antworten\n",
      "[NeMo I 2023-01-02 17:27:06 wer_bpe:187] \n",
      "    \n",
      "[NeMo I 2023-01-02 17:27:06 wer_bpe:188] reference:umstellmanöver von charlie drei zwei via gleis victor sechs neun ins gleis golf zwei vier antworten\n",
      "[NeMo I 2023-01-02 17:27:06 wer_bpe:189] predicted:umstellmanöver von se drei zwei via gleis victor sechs neun ins gleis golf zwei vier antworten\n"
     ]
    },
    {
     "data": {
      "application/vnd.jupyter.widget-view+json": {
       "model_id": "60caf049d70c4d9d8c8676aa6df01605",
       "version_major": 2,
       "version_minor": 0
      },
      "text/plain": [
       "Validation: 0it [00:00, ?it/s]"
      ]
     },
     "metadata": {},
     "output_type": "display_data"
    },
    {
     "name": "stdout",
     "output_type": "stream",
     "text": [
      "[NeMo I 2023-01-02 17:27:27 wer_bpe:187] \n",
      "    \n",
      "[NeMo I 2023-01-02 17:27:27 wer_bpe:188] reference:rangierfahrt vom gleis mike zwei drei ins drei drei antworten\n",
      "[NeMo I 2023-01-02 17:27:27 wer_bpe:189] predicted:rangierfahrt vom gleis mike zwei drei ins drei drei antworten\n",
      "[NeMo I 2023-01-02 17:27:27 wer_bpe:187] \n",
      "    \n",
      "[NeMo I 2023-01-02 17:27:27 wer_bpe:188] reference:spracheingabe\n",
      "[NeMo I 2023-01-02 17:27:27 wer_bpe:189] predicted:spracheingabe\n",
      "[NeMo I 2023-01-02 17:27:27 wer_bpe:187] \n",
      "    \n",
      "[NeMo I 2023-01-02 17:27:27 wer_bpe:188] reference:umstellmanöver vom drei sechs nach gleis xray vier sieben via null vier antworten\n",
      "[NeMo I 2023-01-02 17:27:27 wer_bpe:189] predicted:umstellmanöver vom drei sechs nach gleis xray vier sieben via null vier antworten\n",
      "[NeMo I 2023-01-02 17:27:27 wer_bpe:187] \n",
      "    \n",
      "[NeMo I 2023-01-02 17:27:27 wer_bpe:188] reference:rangierfahrt von gleis sechs neun ins gleis delta sieben antworten\n",
      "[NeMo I 2023-01-02 17:27:27 wer_bpe:189] predicted:rangierfahrt von gleis sechs neun ins gleis delta sieben antworten\n",
      "[NeMo I 2023-01-02 17:27:27 wer_bpe:187] \n",
      "    \n",
      "[NeMo I 2023-01-02 17:27:27 wer_bpe:188] reference:umstellmanöver von charlie drei zwei via gleis victor sechs neun ins gleis golf zwei vier antworten\n",
      "[NeMo I 2023-01-02 17:27:27 wer_bpe:189] predicted:umstellmanöver von charlie drei zwei via gleis victor sechs neun ins gleis golf zwei vier antworten\n",
      "[NeMo I 2023-01-02 17:28:05 wer_bpe:187] \n",
      "    \n",
      "[NeMo I 2023-01-02 17:28:05 wer_bpe:188] reference:rangierfahrt von eins fünf ins gleis sechs sieben antworten\n",
      "[NeMo I 2023-01-02 17:28:05 wer_bpe:189] predicted:rangierfahrt eins fünf ins glei sechs sieben antworten\n",
      "[NeMo I 2023-01-02 17:28:32 wer_bpe:187] \n",
      "    \n",
      "[NeMo I 2023-01-02 17:28:32 wer_bpe:188] reference:rangierfahrt von gleis sieben sieben ins eins zwei antworten\n",
      "[NeMo I 2023-01-02 17:28:32 wer_bpe:189] predicted:rangierfahrt vom gleis sieben sieben ins eins zwei antworten\n",
      "[NeMo I 2023-01-02 17:28:58 wer_bpe:187] \n",
      "    \n",
      "[NeMo I 2023-01-02 17:28:58 wer_bpe:188] reference:umstellmanöver von vier null ins gleis drei via whisky zwei neun antworten\n",
      "[NeMo I 2023-01-02 17:28:58 wer_bpe:189] predicted:umstellmanöver vom vier ull ins  drei via whisky zwei neun antworten\n",
      "[NeMo I 2023-01-02 17:29:24 wer_bpe:187] \n",
      "    \n",
      "[NeMo I 2023-01-02 17:29:24 wer_bpe:188] reference:rangierfahrt von xray vier eins nach bravo neun null antworten\n",
      "[NeMo I 2023-01-02 17:29:24 wer_bpe:189] predicted:rangierfahrt von xray vier eins nach bravo neun drei antworten\n"
     ]
    },
    {
     "data": {
      "application/vnd.jupyter.widget-view+json": {
       "model_id": "311b8c1660364be29355fe4e8fcca5a4",
       "version_major": 2,
       "version_minor": 0
      },
      "text/plain": [
       "Validation: 0it [00:00, ?it/s]"
      ]
     },
     "metadata": {},
     "output_type": "display_data"
    },
    {
     "name": "stdout",
     "output_type": "stream",
     "text": [
      "[NeMo I 2023-01-02 17:29:45 wer_bpe:187] \n",
      "    \n",
      "[NeMo I 2023-01-02 17:29:45 wer_bpe:188] reference:rangierfahrt vom gleis mike zwei drei ins drei drei antworten\n",
      "[NeMo I 2023-01-02 17:29:45 wer_bpe:189] predicted:rangierfahrt vom gleis mike zwei drei ins drei drei antworten\n",
      "[NeMo I 2023-01-02 17:29:46 wer_bpe:187] \n",
      "    \n",
      "[NeMo I 2023-01-02 17:29:46 wer_bpe:188] reference:spracheingabe\n",
      "[NeMo I 2023-01-02 17:29:46 wer_bpe:189] predicted:spracheingabe\n",
      "[NeMo I 2023-01-02 17:29:46 wer_bpe:187] \n",
      "    \n",
      "[NeMo I 2023-01-02 17:29:46 wer_bpe:188] reference:umstellmanöver vom drei sechs nach gleis xray vier sieben via null vier antworten\n",
      "[NeMo I 2023-01-02 17:29:46 wer_bpe:189] predicted:umstellmanöver vom drei sechs nach gleis xray vier sieben via null vier antworten\n",
      "[NeMo I 2023-01-02 17:29:46 wer_bpe:187] \n",
      "    \n",
      "[NeMo I 2023-01-02 17:29:46 wer_bpe:188] reference:rangierfahrt von gleis sechs neun ins gleis delta sieben antworten\n",
      "[NeMo I 2023-01-02 17:29:46 wer_bpe:189] predicted:rangierfahrt von gleis sechs neun ins gleis delta sieben antworten\n",
      "[NeMo I 2023-01-02 17:29:46 wer_bpe:187] \n",
      "    \n",
      "[NeMo I 2023-01-02 17:29:46 wer_bpe:188] reference:umstellmanöver von charlie drei zwei via gleis victor sechs neun ins gleis golf zwei vier antworten\n",
      "[NeMo I 2023-01-02 17:29:46 wer_bpe:189] predicted:umstellmanöver von charlie drei zwei via gleis victor sechs neun ins gleis golf zwei vier antworten\n",
      "[NeMo I 2023-01-02 17:30:23 wer_bpe:187] \n",
      "    \n",
      "[NeMo I 2023-01-02 17:30:23 wer_bpe:188] reference:rangierfahrt vom gleis drei drei nach gleis lima zwei acht antworten\n",
      "[NeMo I 2023-01-02 17:30:23 wer_bpe:189] predicted:rangierfahrt vom gleis drei drei nach gleis limat acht antworten\n",
      "[NeMo I 2023-01-02 17:30:49 wer_bpe:187] \n",
      "    \n",
      "[NeMo I 2023-01-02 17:30:49 wer_bpe:188] reference:umstellmanöver von november neun nach fünf via gleis tango vier und romeo drei antworten\n",
      "[NeMo I 2023-01-02 17:30:49 wer_bpe:189] predicted:umstellman glei fünf gleis zwein antworten\n",
      "[NeMo I 2023-01-02 17:31:16 wer_bpe:187] \n",
      "    \n",
      "[NeMo I 2023-01-02 17:31:16 wer_bpe:188] reference:umstellmanöver vom acht sechs via tango sechs null nach gleis eins drei antworten\n",
      "[NeMo I 2023-01-02 17:31:16 wer_bpe:189] predicted:umstellmanöver vom acht  via tango sechs null nach gleis s drei antworten\n",
      "[NeMo I 2023-01-02 17:31:42 wer_bpe:187] \n",
      "    \n",
      "[NeMo I 2023-01-02 17:31:42 wer_bpe:188] reference:umstellmanöver von gleis neun vier ins gleis null fünf via gleis lima eins acht antworten\n",
      "[NeMo I 2023-01-02 17:31:42 wer_bpe:189] predicted:umstellmanöver von gleis neun v in gleis null fünf via gleis liia eins  antworten\n"
     ]
    },
    {
     "data": {
      "application/vnd.jupyter.widget-view+json": {
       "model_id": "c0dafce99e584f68ac31ae7992a9c175",
       "version_major": 2,
       "version_minor": 0
      },
      "text/plain": [
       "Validation: 0it [00:00, ?it/s]"
      ]
     },
     "metadata": {},
     "output_type": "display_data"
    },
    {
     "name": "stdout",
     "output_type": "stream",
     "text": [
      "[NeMo I 2023-01-02 17:32:03 wer_bpe:187] \n",
      "    \n",
      "[NeMo I 2023-01-02 17:32:03 wer_bpe:188] reference:rangierfahrt vom gleis mike zwei drei ins drei drei antworten\n",
      "[NeMo I 2023-01-02 17:32:03 wer_bpe:189] predicted:rangierfahrt vom gleis mike zwei drei ins drei drei antworten\n",
      "[NeMo I 2023-01-02 17:32:04 wer_bpe:187] \n",
      "    \n",
      "[NeMo I 2023-01-02 17:32:04 wer_bpe:188] reference:spracheingabe\n",
      "[NeMo I 2023-01-02 17:32:04 wer_bpe:189] predicted:spracheingabe\n",
      "[NeMo I 2023-01-02 17:32:04 wer_bpe:187] \n",
      "    \n",
      "[NeMo I 2023-01-02 17:32:04 wer_bpe:188] reference:umstellmanöver vom drei sechs nach gleis xray vier sieben via null vier antworten\n",
      "[NeMo I 2023-01-02 17:32:04 wer_bpe:189] predicted:umstellmanöver vom drei sechs nach gleis xray vier sieben via null vier antworten\n",
      "[NeMo I 2023-01-02 17:32:04 wer_bpe:187] \n",
      "    \n",
      "[NeMo I 2023-01-02 17:32:04 wer_bpe:188] reference:rangierfahrt von gleis sechs neun ins gleis delta sieben antworten\n",
      "[NeMo I 2023-01-02 17:32:04 wer_bpe:189] predicted:rangierfahrt von gleis sechs neun ins gleis delta sieben antworten\n",
      "[NeMo I 2023-01-02 17:32:04 wer_bpe:187] \n",
      "    \n",
      "[NeMo I 2023-01-02 17:32:04 wer_bpe:188] reference:umstellmanöver von charlie drei zwei via gleis victor sechs neun ins gleis golf zwei vier antworten\n",
      "[NeMo I 2023-01-02 17:32:04 wer_bpe:189] predicted:umstellmanöver von charlie drei zwei via gleis victor sechs neun ins gleis golf zwei vier antworten\n",
      "[NeMo I 2023-01-02 17:32:41 wer_bpe:187] \n",
      "    \n",
      "[NeMo I 2023-01-02 17:32:41 wer_bpe:188] reference:der film wurde in england und portugal gedreht\n",
      "[NeMo I 2023-01-02 17:32:41 wer_bpe:189] predicted:der film wurde in england und al gedreht\n",
      "[NeMo I 2023-01-02 17:33:08 wer_bpe:187] \n",
      "    \n",
      "[NeMo I 2023-01-02 17:33:08 wer_bpe:188] reference:umstellmanöver vom fünf eins ins gleis papa sechs drei via gleis vier sechs antworten\n",
      "[NeMo I 2023-01-02 17:33:08 wer_bpe:189] predicted:umstellmanöver von fünf ses ins gleis papa sieben drei via gleis vier sechs antworten\n",
      "[NeMo I 2023-01-02 17:33:34 wer_bpe:187] \n",
      "    \n",
      "[NeMo I 2023-01-02 17:33:34 wer_bpe:188] reference:rangierfahrt von sieben drei ins sechs drei antworten\n",
      "[NeMo I 2023-01-02 17:33:34 wer_bpe:189] predicted:rangierfahrt von sieben drei ins sechs drei antworten\n",
      "[NeMo I 2023-01-02 17:34:01 wer_bpe:187] \n",
      "    \n",
      "[NeMo I 2023-01-02 17:34:01 wer_bpe:188] reference:umstellmanöver vom fünf via gleis vier vier nach gleis yankee null null antworten\n",
      "[NeMo I 2023-01-02 17:34:01 wer_bpe:189] predicted:umstellmanöver vom fünf via gleis vier vier nach gleis yankee null null antworten\n"
     ]
    },
    {
     "data": {
      "application/vnd.jupyter.widget-view+json": {
       "model_id": "f10e806eb34743afb6d5cba62c49ebe7",
       "version_major": 2,
       "version_minor": 0
      },
      "text/plain": [
       "Validation: 0it [00:00, ?it/s]"
      ]
     },
     "metadata": {},
     "output_type": "display_data"
    },
    {
     "name": "stdout",
     "output_type": "stream",
     "text": [
      "[NeMo I 2023-01-02 17:34:22 wer_bpe:187] \n",
      "    \n",
      "[NeMo I 2023-01-02 17:34:22 wer_bpe:188] reference:rangierfahrt vom gleis mike zwei drei ins drei drei antworten\n",
      "[NeMo I 2023-01-02 17:34:22 wer_bpe:189] predicted:rangierfahrt vom gleis mike zwei drei ins drei drei antworten\n",
      "[NeMo I 2023-01-02 17:34:22 wer_bpe:187] \n",
      "    \n",
      "[NeMo I 2023-01-02 17:34:22 wer_bpe:188] reference:spracheingabe\n",
      "[NeMo I 2023-01-02 17:34:22 wer_bpe:189] predicted:spracheingabe\n",
      "[NeMo I 2023-01-02 17:34:22 wer_bpe:187] \n",
      "    \n",
      "[NeMo I 2023-01-02 17:34:22 wer_bpe:188] reference:umstellmanöver vom drei sechs nach gleis xray vier sieben via null vier antworten\n",
      "[NeMo I 2023-01-02 17:34:22 wer_bpe:189] predicted:umstellmanöver vom drei sechs nach gleis xray vier sieben via null vier antworten\n",
      "[NeMo I 2023-01-02 17:34:22 wer_bpe:187] \n",
      "    \n",
      "[NeMo I 2023-01-02 17:34:22 wer_bpe:188] reference:rangierfahrt von gleis sechs neun ins gleis delta sieben antworten\n",
      "[NeMo I 2023-01-02 17:34:22 wer_bpe:189] predicted:rangierfahrt von gleis sechs neun ins gleis delta sieben antworten\n",
      "[NeMo I 2023-01-02 17:34:22 wer_bpe:187] \n",
      "    \n",
      "[NeMo I 2023-01-02 17:34:22 wer_bpe:188] reference:umstellmanöver von charlie drei zwei via gleis victor sechs neun ins gleis golf zwei vier antworten\n",
      "[NeMo I 2023-01-02 17:34:22 wer_bpe:189] predicted:umstellmanöver von charlie drei zwei via gleis victor sechs neun ins gleis golf zwei vier antworten\n"
     ]
    },
    {
     "name": "stderr",
     "output_type": "stream",
     "text": [
      "`Trainer.fit` stopped: `max_epochs=7` reached.\n"
     ]
    },
    {
     "data": {
      "text/html": [
       "Waiting for W&B process to finish... <strong style=\"color:green\">(success).</strong>"
      ],
      "text/plain": [
       "<IPython.core.display.HTML object>"
      ]
     },
     "metadata": {},
     "output_type": "display_data"
    },
    {
     "data": {
      "text/html": [
       "<style>\n",
       "    table.wandb td:nth-child(1) { padding: 0 10px; text-align: left ; width: auto;} td:nth-child(2) {text-align: left ; width: 100%}\n",
       "    .wandb-row { display: flex; flex-direction: row; flex-wrap: wrap; justify-content: flex-start; width: 100% }\n",
       "    .wandb-col { display: flex; flex-direction: column; flex-basis: 100%; flex: 1; padding: 10px; }\n",
       "    </style>\n",
       "<div class=\"wandb-row\"><div class=\"wandb-col\"><h3>Run history:</h3><br/><table class=\"wandb\"><tr><td>epoch</td><td>▁▁▁▁▁▂▂▂▂▂▂▃▃▃▃▃▃▅▅▅▅▅▆▆▆▆▆▆▇▇▇▇▇▇██████</td></tr><tr><td>global_step</td><td>▁▁▁▂▂▂▂▂▃▃▃▃▃▃▄▄▄▄▄▄▅▅▅▅▅▆▆▆▆▆▆▇▇▇▇▇████</td></tr><tr><td>learning_rate</td><td>▁▁▁▂▂▂▂▃▃▃▃▃▄▄▄▄▅▅▅▅▅▆▆▆▆▆▇▇▇▇███</td></tr><tr><td>train_loss</td><td>█▄▆▄▃▄▂▂▂▂▂▂▁▁▂▂▁▂▁▂▂▁▁▁▂▄▂▁▁▂▂▂▂</td></tr><tr><td>trainer/global_step</td><td>▁▁▁▂▂▂▂▂▃▃▃▃▃▃▄▄▄▄▄▄▅▅▅▅▅▆▆▆▆▆▆▇▇▇▇▇████</td></tr><tr><td>training_batch_wer</td><td>█▅▆▆▃▃▃▃▄▄▂▂▃▂▂▂▁▂▃▃▂▃▂▁▂▁▁</td></tr><tr><td>val_loss</td><td>█▄▂▂▁▂▂</td></tr><tr><td>val_wer</td><td>█▂▂▂▁▂▁</td></tr></table><br/></div><div class=\"wandb-col\"><h3>Run summary:</h3><br/><table class=\"wandb\"><tr><td>epoch</td><td>6</td></tr><tr><td>global_step</td><td>1659.0</td></tr><tr><td>learning_rate</td><td>0.00084</td></tr><tr><td>train_loss</td><td>12.90124</td></tr><tr><td>trainer/global_step</td><td>1658</td></tr><tr><td>training_batch_wer</td><td>0.04706</td></tr><tr><td>val_loss</td><td>1.38932</td></tr><tr><td>val_wer</td><td>0.01305</td></tr></table><br/></div></div>"
      ],
      "text/plain": [
       "<IPython.core.display.HTML object>"
      ]
     },
     "metadata": {},
     "output_type": "display_data"
    },
    {
     "data": {
      "text/html": [
       "Synced <strong style=\"color:#cdcd00\">treasured-sweep-2</strong>: <a href=\"https://wandb.ai/unisg-ds-nlp/ASR/runs/406x50tt\" target=\"_blank\">https://wandb.ai/unisg-ds-nlp/ASR/runs/406x50tt</a><br/>Synced 5 W&B file(s), 0 media file(s), 7 artifact file(s) and 0 other file(s)"
      ],
      "text/plain": [
       "<IPython.core.display.HTML object>"
      ]
     },
     "metadata": {},
     "output_type": "display_data"
    },
    {
     "data": {
      "text/html": [
       "Find logs at: <code>./wandb/run-20230102_171807-406x50tt/logs</code>"
      ],
      "text/plain": [
       "<IPython.core.display.HTML object>"
      ]
     },
     "metadata": {},
     "output_type": "display_data"
    },
    {
     "name": "stderr",
     "output_type": "stream",
     "text": [
      "\u001b[34m\u001b[1mwandb\u001b[0m: Agent Starting Run: 6vxzf6r4 with config:\n",
      "\u001b[34m\u001b[1mwandb\u001b[0m: \tepoch: 9\n",
      "\u001b[34m\u001b[1mwandb\u001b[0m: \tfreq_width: 26.209630088021832\n",
      "\u001b[34m\u001b[1mwandb\u001b[0m: \tlr: 0.0008043429678150011\n",
      "Failed to detect the name of this notebook, you can set it manually with the WANDB_NOTEBOOK_NAME environment variable to enable code saving.\n"
     ]
    },
    {
     "data": {
      "text/html": [
       "wandb version 0.13.7 is available!  To upgrade, please run:\n",
       " $ pip install wandb --upgrade"
      ],
      "text/plain": [
       "<IPython.core.display.HTML object>"
      ]
     },
     "metadata": {},
     "output_type": "display_data"
    },
    {
     "data": {
      "text/html": [
       "Tracking run with wandb version 0.13.4"
      ],
      "text/plain": [
       "<IPython.core.display.HTML object>"
      ]
     },
     "metadata": {},
     "output_type": "display_data"
    },
    {
     "data": {
      "text/html": [
       "Run data is saved locally in <code>/home/user/code/sbb_asr/notebooks/wandb/run-20230102_173506-6vxzf6r4</code>"
      ],
      "text/plain": [
       "<IPython.core.display.HTML object>"
      ]
     },
     "metadata": {},
     "output_type": "display_data"
    },
    {
     "data": {
      "text/html": [
       "Syncing run <strong><a href=\"https://wandb.ai/unisg-ds-nlp/ASR/runs/6vxzf6r4\" target=\"_blank\">divine-sweep-3</a></strong> to <a href=\"https://wandb.ai/unisg-ds-nlp/ASR\" target=\"_blank\">Weights & Biases</a> (<a href=\"https://wandb.me/run\" target=\"_blank\">docs</a>)<br/>Sweep page:  <a href=\"https://wandb.ai/unisg-ds-nlp/ASR/sweeps/v7qi12lc\" target=\"_blank\">https://wandb.ai/unisg-ds-nlp/ASR/sweeps/v7qi12lc</a>"
      ],
      "text/plain": [
       "<IPython.core.display.HTML object>"
      ]
     },
     "metadata": {},
     "output_type": "display_data"
    },
    {
     "name": "stderr",
     "output_type": "stream",
     "text": [
      "[NeMo W 2023-01-02 17:35:07 nemo_logging:349] /home/user/.local/lib/python3.9/site-packages/pytorch_lightning/loggers/wandb.py:352: UserWarning: There is a wandb run already in progress and newly created instances of `WandbLogger` will reuse this run. If this is not desired, call `wandb.finish()` before instantiating `WandbLogger`.\n",
      "      rank_zero_warn(\n",
      "    \n",
      "[NeMo W 2023-01-02 17:35:07 nemo_logging:349] /home/user/.local/lib/python3.9/site-packages/pytorch_lightning/trainer/connectors/accelerator_connector.py:447: LightningDeprecationWarning: Setting `Trainer(gpus=1)` is deprecated in v1.7 and will be removed in v2.0. Please use `Trainer(accelerator='gpu', devices=1)` instead.\n",
      "      rank_zero_deprecation(\n",
      "    \n",
      "GPU available: True (cuda), used: True\n",
      "TPU available: False, using: 0 TPU cores\n",
      "IPU available: False, using: 0 IPUs\n",
      "HPU available: False, using: 0 HPUs\n"
     ]
    },
    {
     "name": "stdout",
     "output_type": "stream",
     "text": [
      "[NeMo I 2023-01-02 17:35:08 cloud:56] Found existing object /home/user/.cache/torch/NeMo/NeMo_1.12.0/stt_de_citrinet_1024/8743e4cecb8017ca2b49a035e07b2893/stt_de_citrinet_1024.nemo.\n",
      "[NeMo I 2023-01-02 17:35:08 cloud:62] Re-using file from: /home/user/.cache/torch/NeMo/NeMo_1.12.0/stt_de_citrinet_1024/8743e4cecb8017ca2b49a035e07b2893/stt_de_citrinet_1024.nemo\n",
      "[NeMo I 2023-01-02 17:35:08 common:910] Instantiating model from pre-trained checkpoint\n",
      "[NeMo I 2023-01-02 17:35:13 mixins:170] Tokenizer SentencePieceTokenizer initialized with 1024 tokens\n"
     ]
    },
    {
     "name": "stderr",
     "output_type": "stream",
     "text": [
      "[NeMo W 2023-01-02 17:35:13 modelPT:142] If you intend to do training or fine-tuning, please call the ModelPT.setup_training_data() method and provide a valid configuration file to setup the train data loader.\n",
      "    Train config : \n",
      "    manifest_filepath: /data/train/tarred_audio_manifest.json\n",
      "    sample_rate: 16000\n",
      "    batch_size: 32\n",
      "    trim_silence: false\n",
      "    max_duration: 35.0\n",
      "    shuffle: true\n",
      "    is_tarred: true\n",
      "    tarred_audio_filepaths: /data/train/audio__OP_0..1023_CL_.tar\n",
      "    use_start_end_token: false\n",
      "    shuffle_n: 1024\n",
      "    num_workers: 16\n",
      "    pin_memory: true\n",
      "    \n",
      "[NeMo W 2023-01-02 17:35:13 modelPT:149] If you intend to do validation, please call the ModelPT.setup_validation_data() or ModelPT.setup_multiple_validation_data() method and provide a valid configuration file to setup the validation data loader(s). \n",
      "    Validation config : \n",
      "    manifest_filepath:\n",
      "    - /data/voxpopuli_de/dev/voxpopuli_dev_manifest.json\n",
      "    - /data/voxpopuli_de/test/voxpopuli_test_manifest.json\n",
      "    - /data/mcv7.0_de/mcv7.0_dev_manifest_cleaned.json\n",
      "    - /data/mcv7.0_de/mcv7.0_test_manifest_cleaned.json\n",
      "    - /data/mls_de/mls_dev_manifest_cleaned.json\n",
      "    - /data/mls_de/mls_test_manifest_cleaned.json\n",
      "    sample_rate: 16000\n",
      "    batch_size: 8\n",
      "    shuffle: false\n",
      "    use_start_end_token: false\n",
      "    num_workers: 8\n",
      "    pin_memory: true\n",
      "    \n",
      "[NeMo W 2023-01-02 17:35:13 modelPT:155] Please call the ModelPT.setup_test_data() or ModelPT.setup_multiple_test_data() method and provide a valid configuration file to setup the test data loader(s).\n",
      "    Test config : \n",
      "    manifest_filepath: null\n",
      "    sample_rate: 16000\n",
      "    batch_size: 32\n",
      "    shuffle: false\n",
      "    use_start_end_token: false\n",
      "    \n"
     ]
    },
    {
     "name": "stdout",
     "output_type": "stream",
     "text": [
      "[NeMo I 2023-01-02 17:35:13 features:225] PADDING: 16\n",
      "[NeMo I 2023-01-02 17:35:18 save_restore_connector:243] Model EncDecCTCModelBPE was successfully restored from /home/user/.cache/torch/NeMo/NeMo_1.12.0/stt_de_citrinet_1024/8743e4cecb8017ca2b49a035e07b2893/stt_de_citrinet_1024.nemo.\n",
      "[NeMo I 2023-01-02 17:35:18 collections:194] Dataset loaded with 1890 files totalling 7.41 hours\n",
      "[NeMo I 2023-01-02 17:35:18 collections:195] 0 files were filtered totalling 0.00 hours\n",
      "[NeMo I 2023-01-02 17:35:18 collections:194] Dataset loaded with 34 files totalling 0.13 hours\n",
      "[NeMo I 2023-01-02 17:35:18 collections:195] 0 files were filtered totalling 0.00 hours\n",
      "[NeMo I 2023-01-02 17:35:19 collections:194] Dataset loaded with 34 files totalling 0.14 hours\n",
      "[NeMo I 2023-01-02 17:35:19 collections:195] 0 files were filtered totalling 0.00 hours\n",
      "[NeMo I 2023-01-02 17:35:19 modelPT:597] Optimizer config = Novograd (\n",
      "    Parameter Group 0\n",
      "        amsgrad: False\n",
      "        betas: [0.8, 0.25]\n",
      "        eps: 1e-08\n",
      "        grad_averaging: False\n",
      "        lr: 0.0008043429678150011\n",
      "        weight_decay: 0.001\n",
      "    )\n",
      "[NeMo I 2023-01-02 17:35:19 lr_scheduler:910] Scheduler \"<nemo.core.optim.lr_scheduler.CosineAnnealing object at 0x7f835eeccf40>\" \n",
      "    will be used during training (effective maximum steps = 2133) - \n",
      "    Parameters : \n",
      "    (warmup_steps: 10000\n",
      "    warmup_ratio: null\n",
      "    min_lr: 1.0e-05\n",
      "    last_epoch: -1\n",
      "    max_steps: 2133\n",
      "    )\n"
     ]
    },
    {
     "name": "stderr",
     "output_type": "stream",
     "text": [
      "LOCAL_RANK: 0 - CUDA_VISIBLE_DEVICES: [0,1,2,3]\n"
     ]
    },
    {
     "name": "stdout",
     "output_type": "stream",
     "text": [
      "[NeMo I 2023-01-02 17:35:19 modelPT:597] Optimizer config = Novograd (\n",
      "    Parameter Group 0\n",
      "        amsgrad: False\n",
      "        betas: [0.8, 0.25]\n",
      "        eps: 1e-08\n",
      "        grad_averaging: False\n",
      "        lr: 0.0008043429678150011\n",
      "        weight_decay: 0.001\n",
      "    )\n",
      "[NeMo I 2023-01-02 17:35:19 lr_scheduler:910] Scheduler \"<nemo.core.optim.lr_scheduler.CosineAnnealing object at 0x7f842c69eac0>\" \n",
      "    will be used during training (effective maximum steps = 2133) - \n",
      "    Parameters : \n",
      "    (warmup_steps: 10000\n",
      "    warmup_ratio: null\n",
      "    min_lr: 1.0e-05\n",
      "    last_epoch: -1\n",
      "    max_steps: 2133\n",
      "    )\n"
     ]
    },
    {
     "name": "stderr",
     "output_type": "stream",
     "text": [
      "\n",
      "  | Name              | Type                              | Params\n",
      "------------------------------------------------------------------------\n",
      "0 | preprocessor      | AudioToMelSpectrogramPreprocessor | 0     \n",
      "1 | encoder           | ConvASREncoder                    | 140 M \n",
      "2 | decoder           | ConvASRDecoder                    | 1.1 M \n",
      "3 | loss              | CTCLoss                           | 0     \n",
      "4 | spec_augmentation | SpectrogramAugmentation           | 0     \n",
      "5 | _wer              | WERBPE                            | 0     \n",
      "------------------------------------------------------------------------\n",
      "141 M     Trainable params\n",
      "0         Non-trainable params\n",
      "141 M     Total params\n",
      "564.897   Total estimated model params size (MB)\n"
     ]
    },
    {
     "data": {
      "application/vnd.jupyter.widget-view+json": {
       "model_id": "b82a31f8413249e4b10dbe9d2376886f",
       "version_major": 2,
       "version_minor": 0
      },
      "text/plain": [
       "Sanity Checking: 0it [00:00, ?it/s]"
      ]
     },
     "metadata": {},
     "output_type": "display_data"
    },
    {
     "name": "stdout",
     "output_type": "stream",
     "text": [
      "[NeMo I 2023-01-02 17:35:21 wer_bpe:187] \n",
      "    \n",
      "[NeMo I 2023-01-02 17:35:21 wer_bpe:188] reference:rangierfahrt vom gleis mike zwei drei ins drei drei antworten\n",
      "[NeMo I 2023-01-02 17:35:21 wer_bpe:189] predicted:prongierfahrt vom gleis maik zwei drei ins drei drei antworten\n",
      "[NeMo I 2023-01-02 17:35:21 wer_bpe:187] \n",
      "    \n",
      "[NeMo I 2023-01-02 17:35:21 wer_bpe:188] reference:spracheingabe\n",
      "[NeMo I 2023-01-02 17:35:21 wer_bpe:189] predicted:spracheingabe\n"
     ]
    },
    {
     "data": {
      "application/vnd.jupyter.widget-view+json": {
       "model_id": "eb08e1cdf11b4460b953431b403eb58c",
       "version_major": 2,
       "version_minor": 0
      },
      "text/plain": [
       "Training: 0it [00:00, ?it/s]"
      ]
     },
     "metadata": {},
     "output_type": "display_data"
    },
    {
     "name": "stdout",
     "output_type": "stream",
     "text": [
      "[NeMo I 2023-01-02 17:35:50 wer_bpe:187] \n",
      "    \n",
      "[NeMo I 2023-01-02 17:35:50 wer_bpe:188] reference:umstellmanöver vom acht acht via zwei null ins alpha fünf vier antworten\n",
      "[NeMo I 2023-01-02 17:35:50 wer_bpe:189] predicted:um vom denn\n",
      "[NeMo I 2023-01-02 17:36:16 wer_bpe:187] \n",
      "    \n",
      "[NeMo I 2023-01-02 17:36:16 wer_bpe:188] reference:umstellmanöver von vier fünf via gleis lima eins vier nach acht neun antworten\n",
      "[NeMo I 2023-01-02 17:36:16 wer_bpe:189] predicted:umsch man ihm noch neu\n",
      "[NeMo I 2023-01-02 17:36:43 wer_bpe:187] \n",
      "    \n",
      "[NeMo I 2023-01-02 17:36:43 wer_bpe:188] reference:rangierfahrt vom gleis null null nach eins eins antworten\n",
      "[NeMo I 2023-01-02 17:36:43 wer_bpe:189] predicted:\n",
      "[NeMo I 2023-01-02 17:37:10 wer_bpe:187] \n",
      "    \n",
      "[NeMo I 2023-01-02 17:37:10 wer_bpe:188] reference:umstellmanöver von gleis quebec null sechs via gleis xray sechs drei ins gleis drei zwei antworten\n",
      "[NeMo I 2023-01-02 17:37:10 wer_bpe:189] predicted:umstellman von las cabe nun sieia gleis hew drei gleis drei zwei antworten\n"
     ]
    },
    {
     "data": {
      "application/vnd.jupyter.widget-view+json": {
       "model_id": "417aa5eab8ec4f25b793ff955023fcc7",
       "version_major": 2,
       "version_minor": 0
      },
      "text/plain": [
       "Validation: 0it [00:00, ?it/s]"
      ]
     },
     "metadata": {},
     "output_type": "display_data"
    },
    {
     "name": "stdout",
     "output_type": "stream",
     "text": [
      "[NeMo I 2023-01-02 17:37:31 wer_bpe:187] \n",
      "    \n",
      "[NeMo I 2023-01-02 17:37:31 wer_bpe:188] reference:rangierfahrt vom gleis mike zwei drei ins drei drei antworten\n",
      "[NeMo I 2023-01-02 17:37:31 wer_bpe:189] predicted:roierfahrt vom gleis ma zwei drei ins drei drei al\n",
      "[NeMo I 2023-01-02 17:37:31 wer_bpe:187] \n",
      "    \n",
      "[NeMo I 2023-01-02 17:37:31 wer_bpe:188] reference:spracheingabe\n",
      "[NeMo I 2023-01-02 17:37:31 wer_bpe:189] predicted:sprach eingabe\n",
      "[NeMo I 2023-01-02 17:37:31 wer_bpe:187] \n",
      "    \n",
      "[NeMo I 2023-01-02 17:37:31 wer_bpe:188] reference:umstellmanöver vom drei sechs nach gleis xray vier sieben via null vier antworten\n",
      "[NeMo I 2023-01-02 17:37:31 wer_bpe:189] predicted:umstellmanöver vom drei sechs nach gleis exray vier sieben via null v antworten\n",
      "[NeMo I 2023-01-02 17:37:32 wer_bpe:187] \n",
      "    \n",
      "[NeMo I 2023-01-02 17:37:32 wer_bpe:188] reference:rangierfahrt von gleis sechs neun ins gleis delta sieben antworten\n",
      "[NeMo I 2023-01-02 17:37:32 wer_bpe:189] predicted:rangierfahrt von gleis sechs neun ins gleis delta sieben antworten\n",
      "[NeMo I 2023-01-02 17:37:32 wer_bpe:187] \n",
      "    \n",
      "[NeMo I 2023-01-02 17:37:32 wer_bpe:188] reference:umstellmanöver von charlie drei zwei via gleis victor sechs neun ins gleis golf zwei vier antworten\n",
      "[NeMo I 2023-01-02 17:37:32 wer_bpe:189] predicted:umstellmanöver von charly drei zwei wie wir gleis ctor sechs neun ihns gleis gold zwei vier antwort\n",
      "[NeMo I 2023-01-02 17:38:09 wer_bpe:187] \n",
      "    \n",
      "[NeMo I 2023-01-02 17:38:09 wer_bpe:188] reference:umstellmanöver vom gleis eins eins ins gleis golf drei zwei via gleis sierra eins neun antworten\n",
      "[NeMo I 2023-01-02 17:38:09 wer_bpe:189] predicted:um vom gleis eins ein inleis gs drei zwei wie gleis sierra eins un\n",
      "[NeMo I 2023-01-02 17:38:35 wer_bpe:187] \n",
      "    \n",
      "[NeMo I 2023-01-02 17:38:35 wer_bpe:188] reference:rangierfahrt von gleis romeo eins neun ins lima eins vier antworten\n",
      "[NeMo I 2023-01-02 17:38:35 wer_bpe:189] predicted:rangierfahrt von gleis romer neun ins lima eins vier arbeiten\n",
      "[NeMo I 2023-01-02 17:39:02 wer_bpe:187] \n",
      "    \n",
      "[NeMo I 2023-01-02 17:39:02 wer_bpe:188] reference:umstellmanöver von gleis sieben ins gleis sechs neun via gleis yankee vier zwei antworten\n",
      "[NeMo I 2023-01-02 17:39:02 wer_bpe:189] predicted:stellmanömal siem bei sexs neun via gleisynel hier zwei antwort\n",
      "[NeMo I 2023-01-02 17:39:29 wer_bpe:187] \n",
      "    \n",
      "[NeMo I 2023-01-02 17:39:29 wer_bpe:188] reference:umstellmanöver vom gleis bravo null null nach vier eins via gleis fünf sechs antworten\n",
      "[NeMo I 2023-01-02 17:39:29 wer_bpe:189] predicted:umstellmanöver vom gleisb null null nach vier eins bia gleis für sechs antworten\n"
     ]
    },
    {
     "data": {
      "application/vnd.jupyter.widget-view+json": {
       "model_id": "55bb0e0d45a74bee8343ebef45fcba39",
       "version_major": 2,
       "version_minor": 0
      },
      "text/plain": [
       "Validation: 0it [00:00, ?it/s]"
      ]
     },
     "metadata": {},
     "output_type": "display_data"
    },
    {
     "name": "stdout",
     "output_type": "stream",
     "text": [
      "[NeMo I 2023-01-02 17:39:50 wer_bpe:187] \n",
      "    \n",
      "[NeMo I 2023-01-02 17:39:50 wer_bpe:188] reference:rangierfahrt vom gleis mike zwei drei ins drei drei antworten\n",
      "[NeMo I 2023-01-02 17:39:50 wer_bpe:189] predicted:rangierfahrt vom gleis mike zwei drei ins drei drei antworten\n",
      "[NeMo I 2023-01-02 17:39:50 wer_bpe:187] \n",
      "    \n",
      "[NeMo I 2023-01-02 17:39:50 wer_bpe:188] reference:spracheingabe\n",
      "[NeMo I 2023-01-02 17:39:50 wer_bpe:189] predicted:sprach eingabe\n",
      "[NeMo I 2023-01-02 17:39:51 wer_bpe:187] \n",
      "    \n",
      "[NeMo I 2023-01-02 17:39:51 wer_bpe:188] reference:umstellmanöver vom drei sechs nach gleis xray vier sieben via null vier antworten\n",
      "[NeMo I 2023-01-02 17:39:51 wer_bpe:189] predicted:umstellmanöver vom drei sechs nach gleis xray vier sieben via null vier antworten\n",
      "[NeMo I 2023-01-02 17:39:51 wer_bpe:187] \n",
      "    \n",
      "[NeMo I 2023-01-02 17:39:51 wer_bpe:188] reference:rangierfahrt von gleis sechs neun ins gleis delta sieben antworten\n",
      "[NeMo I 2023-01-02 17:39:51 wer_bpe:189] predicted:rangierfahrt von gleis sechs neun ins gleis delta sieben antworten\n",
      "[NeMo I 2023-01-02 17:39:51 wer_bpe:187] \n",
      "    \n",
      "[NeMo I 2023-01-02 17:39:51 wer_bpe:188] reference:umstellmanöver von charlie drei zwei via gleis victor sechs neun ins gleis golf zwei vier antworten\n",
      "[NeMo I 2023-01-02 17:39:51 wer_bpe:189] predicted:umstellmanöver von charliley drei zwei via gleis victor sechs neun ins gleis golf zwei vier antwort\n",
      "[NeMo I 2023-01-02 17:40:28 wer_bpe:187] \n",
      "    \n",
      "[NeMo I 2023-01-02 17:40:28 wer_bpe:188] reference:umstellmanöver von papa fünf neun ins kilo drei fünf via gleis india eins antworten\n",
      "[NeMo I 2023-01-02 17:40:28 wer_bpe:189] predicted:um von pa fünf neu in st drei fünfia antwort\n",
      "[NeMo I 2023-01-02 17:40:55 wer_bpe:187] \n",
      "    \n",
      "[NeMo I 2023-01-02 17:40:55 wer_bpe:188] reference:umstellmanöver von gleis vier fünf ins gleis foxtrot sechs drei via neun antworten\n",
      "[NeMo I 2023-01-02 17:40:55 wer_bpe:189] predicted:umstellmanöver von gleis vier fünfleis sechs drei via neun antworten\n",
      "[NeMo I 2023-01-02 17:41:21 wer_bpe:187] \n",
      "    \n",
      "[NeMo I 2023-01-02 17:41:21 wer_bpe:188] reference:rangierfahrt von drei fünf ins victor sieben neun antworten\n",
      "[NeMo I 2023-01-02 17:41:21 wer_bpe:189] predicted:rangierfahrt von dreins vicktor sieben neun antworten\n",
      "[NeMo I 2023-01-02 17:42:02 wer_bpe:187] \n",
      "    \n",
      "[NeMo I 2023-01-02 17:42:02 wer_bpe:188] reference:umstellmanöver vom sechs drei nach kilo sieben neun via foxtrot vier zwei antworten\n",
      "[NeMo I 2023-01-02 17:42:02 wer_bpe:189] predicted:umstellmanöverver vom sel nach kilo sieben neun foxtrot vier zwei antworten\n"
     ]
    },
    {
     "data": {
      "application/vnd.jupyter.widget-view+json": {
       "model_id": "719aabab5f674030b9dd1f55bba24abd",
       "version_major": 2,
       "version_minor": 0
      },
      "text/plain": [
       "Validation: 0it [00:00, ?it/s]"
      ]
     },
     "metadata": {},
     "output_type": "display_data"
    },
    {
     "name": "stdout",
     "output_type": "stream",
     "text": [
      "[NeMo I 2023-01-02 17:42:42 wer_bpe:187] \n",
      "    \n",
      "[NeMo I 2023-01-02 17:42:42 wer_bpe:188] reference:rangierfahrt vom gleis mike zwei drei ins drei drei antworten\n",
      "[NeMo I 2023-01-02 17:42:42 wer_bpe:189] predicted:rangierfahrt vom gleis mike zwei drei ins drei drei antworten\n",
      "[NeMo I 2023-01-02 17:42:42 wer_bpe:187] \n",
      "    \n",
      "[NeMo I 2023-01-02 17:42:42 wer_bpe:188] reference:spracheingabe\n",
      "[NeMo I 2023-01-02 17:42:42 wer_bpe:189] predicted:sprach eingabe\n",
      "[NeMo I 2023-01-02 17:42:43 wer_bpe:187] \n",
      "    \n",
      "[NeMo I 2023-01-02 17:42:43 wer_bpe:188] reference:umstellmanöver vom drei sechs nach gleis xray vier sieben via null vier antworten\n",
      "[NeMo I 2023-01-02 17:42:43 wer_bpe:189] predicted:umstellmanöver vom drei sechs nach gleis xray vier sieben via null vier antworten\n",
      "[NeMo I 2023-01-02 17:42:43 wer_bpe:187] \n",
      "    \n",
      "[NeMo I 2023-01-02 17:42:43 wer_bpe:188] reference:rangierfahrt von gleis sechs neun ins gleis delta sieben antworten\n",
      "[NeMo I 2023-01-02 17:42:43 wer_bpe:189] predicted:rangierfahrt von gleis sechs neun ins gleis delta sieben antworten\n",
      "[NeMo I 2023-01-02 17:42:43 wer_bpe:187] \n",
      "    \n",
      "[NeMo I 2023-01-02 17:42:43 wer_bpe:188] reference:umstellmanöver von charlie drei zwei via gleis victor sechs neun ins gleis golf zwei vier antworten\n",
      "[NeMo I 2023-01-02 17:42:43 wer_bpe:189] predicted:umstellmanöver von charlie drei zwei via gleis victor sechs neun ins gleis golf zwei vier antworten\n",
      "[NeMo I 2023-01-02 17:43:45 wer_bpe:187] \n",
      "    \n",
      "[NeMo I 2023-01-02 17:43:45 wer_bpe:188] reference:umstellmanöver vom gleis papa zwei sieben nach victor sechs sieben via vier antworten\n",
      "[NeMo I 2023-01-02 17:43:45 wer_bpe:189] predicted:umstellmanöver von gleis papa zwei sieben nach victor sechs sieben via vier antworten\n",
      "[NeMo I 2023-01-02 17:44:37 wer_bpe:187] \n",
      "    \n",
      "[NeMo I 2023-01-02 17:44:37 wer_bpe:188] reference:umstellmanöver von charlie zwei acht via zwei drei ins vier null antworten\n",
      "[NeMo I 2023-01-02 17:44:37 wer_bpe:189] predicted:umstell von v zwei neus neu\n",
      "[NeMo I 2023-01-02 17:45:31 wer_bpe:187] \n",
      "    \n",
      "[NeMo I 2023-01-02 17:45:31 wer_bpe:188] reference:umstellmanöver von eins via india zwei drei nach gleis zwei fünf antworten\n",
      "[NeMo I 2023-01-02 17:45:31 wer_bpe:189] predicted:umstellmanöverver von eins gia india fünf drei nach g fünf antworten\n",
      "[NeMo I 2023-01-02 17:46:23 wer_bpe:187] \n",
      "    \n",
      "[NeMo I 2023-01-02 17:46:23 wer_bpe:188] reference:umstellmanöver vom drei neun via foxtrot sechs sechs ins gleis mike acht acht antworten\n",
      "[NeMo I 2023-01-02 17:46:23 wer_bpe:189] predicted:umstellmanöver vom drei neun  foxtrot sechs sechs sechs gleis von mike acht acht antworten\n"
     ]
    },
    {
     "data": {
      "application/vnd.jupyter.widget-view+json": {
       "model_id": "c8999310389b435f9887e52934cc3027",
       "version_major": 2,
       "version_minor": 0
      },
      "text/plain": [
       "Validation: 0it [00:00, ?it/s]"
      ]
     },
     "metadata": {},
     "output_type": "display_data"
    },
    {
     "name": "stdout",
     "output_type": "stream",
     "text": [
      "[NeMo I 2023-01-02 17:47:00 wer_bpe:187] \n",
      "    \n",
      "[NeMo I 2023-01-02 17:47:00 wer_bpe:188] reference:rangierfahrt vom gleis mike zwei drei ins drei drei antworten\n",
      "[NeMo I 2023-01-02 17:47:00 wer_bpe:189] predicted:rangierfahrt vom gleis mike zwei drei ins drei drei antworten\n",
      "[NeMo I 2023-01-02 17:47:00 wer_bpe:187] \n",
      "    \n",
      "[NeMo I 2023-01-02 17:47:00 wer_bpe:188] reference:spracheingabe\n",
      "[NeMo I 2023-01-02 17:47:00 wer_bpe:189] predicted:spracheingabe\n",
      "[NeMo I 2023-01-02 17:47:00 wer_bpe:187] \n",
      "    \n",
      "[NeMo I 2023-01-02 17:47:00 wer_bpe:188] reference:umstellmanöver vom drei sechs nach gleis xray vier sieben via null vier antworten\n",
      "[NeMo I 2023-01-02 17:47:00 wer_bpe:189] predicted:umstellmanöver vom drei sechs nach gleis xray vier sieben via null vier antworten\n",
      "[NeMo I 2023-01-02 17:47:00 wer_bpe:187] \n",
      "    \n",
      "[NeMo I 2023-01-02 17:47:00 wer_bpe:188] reference:rangierfahrt von gleis sechs neun ins gleis delta sieben antworten\n",
      "[NeMo I 2023-01-02 17:47:00 wer_bpe:189] predicted:rangierfahrt von gleis sechs neun ins gleis delta sieben antworten\n",
      "[NeMo I 2023-01-02 17:47:00 wer_bpe:187] \n",
      "    \n",
      "[NeMo I 2023-01-02 17:47:00 wer_bpe:188] reference:umstellmanöver von charlie drei zwei via gleis victor sechs neun ins gleis golf zwei vier antworten\n",
      "[NeMo I 2023-01-02 17:47:00 wer_bpe:189] predicted:umstellmanöver von charlie drei zwei via gleis victor sechs neun ins gleis golf zwei vier antworten\n",
      "[NeMo I 2023-01-02 17:47:39 wer_bpe:187] \n",
      "    \n",
      "[NeMo I 2023-01-02 17:47:39 wer_bpe:188] reference:rangierfahrt von gleis sieben sieben ins eins zwei antworten\n",
      "[NeMo I 2023-01-02 17:47:39 wer_bpe:189] predicted:rangierfahrt von gleis sieben sieben rang einleiport liia\n",
      "[NeMo I 2023-01-02 17:49:23 wer_bpe:187] \n",
      "    \n",
      "[NeMo I 2023-01-02 17:49:23 wer_bpe:188] reference:rangierfahrt vom tango zwei zwei nach zwei neun antworten\n",
      "[NeMo I 2023-01-02 17:49:23 wer_bpe:189] predicted:rangierfahrt von tango zwei zwei nach zwei neun antworten antwort\n",
      "[NeMo I 2023-01-02 17:50:28 wer_bpe:187] \n",
      "    \n",
      "[NeMo I 2023-01-02 17:50:28 wer_bpe:188] reference:umstellmanöver vom drei neun via foxtrot sechs sechs ins gleis mike acht acht antworten\n",
      "[NeMo I 2023-01-02 17:50:28 wer_bpe:189] predicted:umstellmanöver vom drei neun  fox sechs ins gleis mike acht acht antwort antworten\n",
      "[NeMo I 2023-01-02 17:51:12 wer_bpe:187] \n",
      "    \n",
      "[NeMo I 2023-01-02 17:51:12 wer_bpe:188] reference:rangierfahrt von alpha zwei sieben sieben nach oscar null neun fünf\n",
      "[NeMo I 2023-01-02 17:51:12 wer_bpe:189] predicted:rangierfahrt von alpha zwei sieben sieben nach oscar null neun fünf\n"
     ]
    },
    {
     "data": {
      "application/vnd.jupyter.widget-view+json": {
       "model_id": "52b5637f17264d40ae46795c45df52ab",
       "version_major": 2,
       "version_minor": 0
      },
      "text/plain": [
       "Validation: 0it [00:00, ?it/s]"
      ]
     },
     "metadata": {},
     "output_type": "display_data"
    },
    {
     "name": "stdout",
     "output_type": "stream",
     "text": [
      "[NeMo I 2023-01-02 17:51:33 wer_bpe:187] \n",
      "    \n",
      "[NeMo I 2023-01-02 17:51:33 wer_bpe:188] reference:rangierfahrt vom gleis mike zwei drei ins drei drei antworten\n",
      "[NeMo I 2023-01-02 17:51:33 wer_bpe:189] predicted:rangierfahrt vom gleis mike zwei drei ins drei drei antworten\n",
      "[NeMo I 2023-01-02 17:51:33 wer_bpe:187] \n",
      "    \n",
      "[NeMo I 2023-01-02 17:51:33 wer_bpe:188] reference:spracheingabe\n",
      "[NeMo I 2023-01-02 17:51:33 wer_bpe:189] predicted:spracheingabe\n",
      "[NeMo I 2023-01-02 17:51:34 wer_bpe:187] \n",
      "    \n",
      "[NeMo I 2023-01-02 17:51:34 wer_bpe:188] reference:umstellmanöver vom drei sechs nach gleis xray vier sieben via null vier antworten\n",
      "[NeMo I 2023-01-02 17:51:34 wer_bpe:189] predicted:umstellmanöver vom drei sechs nach gleis xray vier sieben via null vier antworten\n",
      "[NeMo I 2023-01-02 17:51:34 wer_bpe:187] \n",
      "    \n",
      "[NeMo I 2023-01-02 17:51:34 wer_bpe:188] reference:rangierfahrt von gleis sechs neun ins gleis delta sieben antworten\n",
      "[NeMo I 2023-01-02 17:51:34 wer_bpe:189] predicted:rangierfahrt von gleis sechs neun ins gleis delta sieben antworten\n",
      "[NeMo I 2023-01-02 17:51:34 wer_bpe:187] \n",
      "    \n",
      "[NeMo I 2023-01-02 17:51:34 wer_bpe:188] reference:umstellmanöver von charlie drei zwei via gleis victor sechs neun ins gleis golf zwei vier antworten\n",
      "[NeMo I 2023-01-02 17:51:34 wer_bpe:189] predicted:umstellmanöver von charlie drei zwei via gleis victor sechs neun ins gleis golf zwei vier antworten\n",
      "[NeMo I 2023-01-02 17:52:12 wer_bpe:187] \n",
      "    \n",
      "[NeMo I 2023-01-02 17:52:12 wer_bpe:188] reference:rangierfahrt vom sechs sechs nach gleis sechs zwei antworten\n",
      "[NeMo I 2023-01-02 17:52:12 wer_bpe:189] predicted:rangierfahrt vom sechs sechs nach gleis sechs zwei antworten\n",
      "[NeMo I 2023-01-02 17:52:39 wer_bpe:187] \n",
      "    \n",
      "[NeMo I 2023-01-02 17:52:39 wer_bpe:188] reference:umstellmanöver vom nach zwei antworten\n",
      "[NeMo I 2023-01-02 17:52:39 wer_bpe:189] predicted:umstellmaöver vonlei zwei antworten\n",
      "[NeMo I 2023-01-02 17:53:06 wer_bpe:187] \n",
      "    \n",
      "[NeMo I 2023-01-02 17:53:06 wer_bpe:188] reference:umstellmanöver von november sechs nach sieben via delta vier und gleis uniform drei antworten\n",
      "[NeMo I 2023-01-02 17:53:06 wer_bpe:189] predicted:umstellmanöver von november sechs sieben via delta und gleis uniform  antworten\n",
      "[NeMo I 2023-01-02 17:53:32 wer_bpe:187] \n",
      "    \n",
      "[NeMo I 2023-01-02 17:53:32 wer_bpe:188] reference:rangierfahrt vom india sechs fünf nach gleis uniform sieben antworten\n",
      "[NeMo I 2023-01-02 17:53:32 wer_bpe:189] predicted:rangierfahrt vom india sechs fünf nach gleis uniform sieben ein\n"
     ]
    },
    {
     "data": {
      "application/vnd.jupyter.widget-view+json": {
       "model_id": "6aa1443fcc94465485709d52692ca2e3",
       "version_major": 2,
       "version_minor": 0
      },
      "text/plain": [
       "Validation: 0it [00:00, ?it/s]"
      ]
     },
     "metadata": {},
     "output_type": "display_data"
    },
    {
     "name": "stdout",
     "output_type": "stream",
     "text": [
      "[NeMo I 2023-01-02 17:53:54 wer_bpe:187] \n",
      "    \n",
      "[NeMo I 2023-01-02 17:53:54 wer_bpe:188] reference:rangierfahrt vom gleis mike zwei drei ins drei drei antworten\n",
      "[NeMo I 2023-01-02 17:53:54 wer_bpe:189] predicted:rangierfahrt vom gleis mike zwei drei ins drei drei antworten\n",
      "[NeMo I 2023-01-02 17:53:54 wer_bpe:187] \n",
      "    \n",
      "[NeMo I 2023-01-02 17:53:54 wer_bpe:188] reference:spracheingabe\n",
      "[NeMo I 2023-01-02 17:53:54 wer_bpe:189] predicted:spracheingabe\n",
      "[NeMo I 2023-01-02 17:53:54 wer_bpe:187] \n",
      "    \n",
      "[NeMo I 2023-01-02 17:53:54 wer_bpe:188] reference:umstellmanöver vom drei sechs nach gleis xray vier sieben via null vier antworten\n",
      "[NeMo I 2023-01-02 17:53:54 wer_bpe:189] predicted:umstellmanöver vom drei sechs nach gleis xray vier sieben via null vier antworten\n",
      "[NeMo I 2023-01-02 17:53:54 wer_bpe:187] \n",
      "    \n",
      "[NeMo I 2023-01-02 17:53:54 wer_bpe:188] reference:rangierfahrt von gleis sechs neun ins gleis delta sieben antworten\n",
      "[NeMo I 2023-01-02 17:53:54 wer_bpe:189] predicted:rangierfahrt von gleis sechs neun ins gleis delta sieben antworten\n",
      "[NeMo I 2023-01-02 17:53:54 wer_bpe:187] \n",
      "    \n",
      "[NeMo I 2023-01-02 17:53:54 wer_bpe:188] reference:umstellmanöver von charlie drei zwei via gleis victor sechs neun ins gleis golf zwei vier antworten\n",
      "[NeMo I 2023-01-02 17:53:54 wer_bpe:189] predicted:umstellmanöver von charlie drei zwei via gleis victor sechs neun ins gleis golf zwei vier antworten\n",
      "[NeMo I 2023-01-02 17:54:32 wer_bpe:187] \n",
      "    \n",
      "[NeMo I 2023-01-02 17:54:32 wer_bpe:188] reference:umstellmanöver von charlie drei zwei via gleis victor sechs neun ins gleis golf zwei vier antworten\n",
      "[NeMo I 2023-01-02 17:54:32 wer_bpe:189] predicted:umstellmanöver von charlie drei zwei via gleis victor sechs neun gleis golf zwei vier antworten\n",
      "[NeMo I 2023-01-02 17:54:59 wer_bpe:187] \n",
      "    \n",
      "[NeMo I 2023-01-02 17:54:59 wer_bpe:188] reference:umstellmanöver vom echo sieben eins ins gleis sieben acht via gleis null neun antworten\n",
      "[NeMo I 2023-01-02 17:54:59 wer_bpe:189] predicted:umstellmanöver vom o sieben eins ins gleis sieben acht via gleis null neun antworten\n",
      "[NeMo I 2023-01-02 17:55:25 wer_bpe:187] \n",
      "    \n",
      "[NeMo I 2023-01-02 17:55:25 wer_bpe:188] reference:umstellmanöver von gleis zwei acht nach gleis papa zwei fünf via gleis lima fünf antworten\n",
      "[NeMo I 2023-01-02 17:55:25 wer_bpe:189] predicted:umstellnöver von gleis zwei acht  gleis  drei vonia gleis null antworten\n",
      "[NeMo I 2023-01-02 17:55:53 wer_bpe:187] \n",
      "    \n",
      "[NeMo I 2023-01-02 17:55:53 wer_bpe:188] reference:umstellmanöver von gleis vier drei via gleis drei neun ins vier sieben antworten\n",
      "[NeMo I 2023-01-02 17:55:53 wer_bpe:189] predicted:umstellmanöver von gleis vier drei via gleis drei neunia sieben antworten\n"
     ]
    },
    {
     "data": {
      "application/vnd.jupyter.widget-view+json": {
       "model_id": "f4bffebb31564626802ce404ef4ca9c8",
       "version_major": 2,
       "version_minor": 0
      },
      "text/plain": [
       "Validation: 0it [00:00, ?it/s]"
      ]
     },
     "metadata": {},
     "output_type": "display_data"
    },
    {
     "name": "stdout",
     "output_type": "stream",
     "text": [
      "[NeMo I 2023-01-02 17:56:34 wer_bpe:187] \n",
      "    \n",
      "[NeMo I 2023-01-02 17:56:34 wer_bpe:188] reference:rangierfahrt vom gleis mike zwei drei ins drei drei antworten\n",
      "[NeMo I 2023-01-02 17:56:34 wer_bpe:189] predicted:rangierfahrt vom gleis mike zwei drei ins drei drei antworten\n",
      "[NeMo I 2023-01-02 17:56:34 wer_bpe:187] \n",
      "    \n",
      "[NeMo I 2023-01-02 17:56:34 wer_bpe:188] reference:spracheingabe\n",
      "[NeMo I 2023-01-02 17:56:34 wer_bpe:189] predicted:spracheingabe\n",
      "[NeMo I 2023-01-02 17:56:34 wer_bpe:187] \n",
      "    \n",
      "[NeMo I 2023-01-02 17:56:34 wer_bpe:188] reference:umstellmanöver vom drei sechs nach gleis xray vier sieben via null vier antworten\n",
      "[NeMo I 2023-01-02 17:56:34 wer_bpe:189] predicted:umstellmanöver vom drei sechs nach gleis xray vier sieben via null vier antworten\n",
      "[NeMo I 2023-01-02 17:56:35 wer_bpe:187] \n",
      "    \n",
      "[NeMo I 2023-01-02 17:56:35 wer_bpe:188] reference:rangierfahrt von gleis sechs neun ins gleis delta sieben antworten\n",
      "[NeMo I 2023-01-02 17:56:35 wer_bpe:189] predicted:rangierfahrt von gleis sechs neun ins gleis delta sieben antworten\n",
      "[NeMo I 2023-01-02 17:56:35 wer_bpe:187] \n",
      "    \n",
      "[NeMo I 2023-01-02 17:56:35 wer_bpe:188] reference:umstellmanöver von charlie drei zwei via gleis victor sechs neun ins gleis golf zwei vier antworten\n",
      "[NeMo I 2023-01-02 17:56:35 wer_bpe:189] predicted:umstellmanöver von charlie drei zwei via gleis victor sechs neun ins gleis golf zwei vier antworten\n",
      "[NeMo I 2023-01-02 17:57:42 wer_bpe:187] \n",
      "    \n",
      "[NeMo I 2023-01-02 17:57:42 wer_bpe:188] reference:rangierfahrt von sechs ins delta acht sechs antworten\n",
      "[NeMo I 2023-01-02 17:57:42 wer_bpe:189] predicted:rangierfahrt von sechs ins leita acht se\n",
      "[NeMo I 2023-01-02 17:58:34 wer_bpe:187] \n",
      "    \n",
      "[NeMo I 2023-01-02 17:58:34 wer_bpe:188] reference:umstellmanöver vom gleis zwei null via gleis neun und via gleis eins nach sieben zwei antworten\n",
      "[NeMo I 2023-01-02 17:58:34 wer_bpe:189] predicted:umstellmanöver vom gs zwei  se neun ses eins nachscy zwei \n",
      "[NeMo I 2023-01-02 17:59:02 wer_bpe:187] \n",
      "    \n",
      "[NeMo I 2023-01-02 17:59:02 wer_bpe:188] reference:umstellmanöver vom gleis xray eins null ins sechs acht via gleis sieben null antworten\n",
      "[NeMo I 2023-01-02 17:59:02 wer_bpe:189] predicted:umstellmanöver vom gleis xray eins ein ins sechs acht nach gleis sieben null antworten\n",
      "[NeMo I 2023-01-02 17:59:28 wer_bpe:187] \n",
      "    \n",
      "[NeMo I 2023-01-02 17:59:28 wer_bpe:188] reference:umstellmanöver vom gleis sechs ins sieben fünf via gleis xray null und gleis sieben antworten\n",
      "[NeMo I 2023-01-02 17:59:28 wer_bpe:189] predicted:umstellmanöver vom gleis sechs ins sieben fünf via gleis g null und gleis sieben antworten\n"
     ]
    },
    {
     "data": {
      "application/vnd.jupyter.widget-view+json": {
       "model_id": "6acb04a81cbe44d3adeea18810817c23",
       "version_major": 2,
       "version_minor": 0
      },
      "text/plain": [
       "Validation: 0it [00:00, ?it/s]"
      ]
     },
     "metadata": {},
     "output_type": "display_data"
    },
    {
     "name": "stdout",
     "output_type": "stream",
     "text": [
      "[NeMo I 2023-01-02 17:59:50 wer_bpe:187] \n",
      "    \n",
      "[NeMo I 2023-01-02 17:59:50 wer_bpe:188] reference:rangierfahrt vom gleis mike zwei drei ins drei drei antworten\n",
      "[NeMo I 2023-01-02 17:59:50 wer_bpe:189] predicted:rangierfahrt vom gleis mike zwei drei ins drei drei antworten\n",
      "[NeMo I 2023-01-02 17:59:50 wer_bpe:187] \n",
      "    \n",
      "[NeMo I 2023-01-02 17:59:50 wer_bpe:188] reference:spracheingabe\n",
      "[NeMo I 2023-01-02 17:59:50 wer_bpe:189] predicted:spracheingabe\n",
      "[NeMo I 2023-01-02 17:59:50 wer_bpe:187] \n",
      "    \n",
      "[NeMo I 2023-01-02 17:59:50 wer_bpe:188] reference:umstellmanöver vom drei sechs nach gleis xray vier sieben via null vier antworten\n",
      "[NeMo I 2023-01-02 17:59:50 wer_bpe:189] predicted:umstellmanöver vom drei sechs nach gleis xray vier sieben via null vier antworten\n",
      "[NeMo I 2023-01-02 17:59:50 wer_bpe:187] \n",
      "    \n",
      "[NeMo I 2023-01-02 17:59:50 wer_bpe:188] reference:rangierfahrt von gleis sechs neun ins gleis delta sieben antworten\n",
      "[NeMo I 2023-01-02 17:59:50 wer_bpe:189] predicted:rangierfahrt von gleis sechs neun ins gleis delta sieben antworten\n",
      "[NeMo I 2023-01-02 17:59:51 wer_bpe:187] \n",
      "    \n",
      "[NeMo I 2023-01-02 17:59:51 wer_bpe:188] reference:umstellmanöver von charlie drei zwei via gleis victor sechs neun ins gleis golf zwei vier antworten\n",
      "[NeMo I 2023-01-02 17:59:51 wer_bpe:189] predicted:umstellmanöver von charlie drei zwei via gleis victor sechs neun ins gleis golf zwei vier antworten\n",
      "[NeMo I 2023-01-02 18:00:29 wer_bpe:187] \n",
      "    \n",
      "[NeMo I 2023-01-02 18:00:29 wer_bpe:188] reference:umstellmanöver vom sechs drei nach kilo sieben neun via foxtrot vier zwei antworten\n",
      "[NeMo I 2023-01-02 18:00:29 wer_bpe:189] predicted:umstellmanö vom sechs drei nach o sieben neun via vom  zwei\n",
      "[NeMo I 2023-01-02 18:01:18 wer_bpe:187] \n",
      "    \n",
      "[NeMo I 2023-01-02 18:01:18 wer_bpe:188] reference:umstellmanöver von gleis sechs acht nach gleis acht sechs via sierra sechs fünf antworten\n",
      "[NeMo I 2023-01-02 18:01:18 wer_bpe:189] predicted:umstellmanöver von gleis sechs acht nach gleis acht sechs v sierra sechs fünf antworten\n",
      "[NeMo I 2023-01-02 18:01:44 wer_bpe:187] \n",
      "    \n",
      "[NeMo I 2023-01-02 18:01:44 wer_bpe:188] reference:umstellmanöver vom kilo fünf sieben nach sechs zwei via gleis neun sechs antworten\n",
      "[NeMo I 2023-01-02 18:01:44 wer_bpe:189] predicted:umstellmanöver vom kilo fünf sieben nach sechs zwei via gleis neun sechs antworten\n",
      "[NeMo I 2023-01-02 18:02:11 wer_bpe:187] \n",
      "    \n",
      "[NeMo I 2023-01-02 18:02:11 wer_bpe:188] reference:umstellmanöver vom gleis juliet vier fünf nach sieben acht via vier acht antworten\n",
      "[NeMo I 2023-01-02 18:02:11 wer_bpe:189] predicted:umstellmanöver von gleis juliet vier fünf nach sieben acht via vier acht antworten\n"
     ]
    },
    {
     "data": {
      "application/vnd.jupyter.widget-view+json": {
       "model_id": "5c2ec0f430164933b201e63500ada1f9",
       "version_major": 2,
       "version_minor": 0
      },
      "text/plain": [
       "Validation: 0it [00:00, ?it/s]"
      ]
     },
     "metadata": {},
     "output_type": "display_data"
    },
    {
     "name": "stdout",
     "output_type": "stream",
     "text": [
      "[NeMo I 2023-01-02 18:02:33 wer_bpe:187] \n",
      "    \n",
      "[NeMo I 2023-01-02 18:02:33 wer_bpe:188] reference:rangierfahrt vom gleis mike zwei drei ins drei drei antworten\n",
      "[NeMo I 2023-01-02 18:02:33 wer_bpe:189] predicted:rangierfahrt vom gleis mike zwei drei ins drei drei antworten\n",
      "[NeMo I 2023-01-02 18:02:33 wer_bpe:187] \n",
      "    \n",
      "[NeMo I 2023-01-02 18:02:33 wer_bpe:188] reference:spracheingabe\n",
      "[NeMo I 2023-01-02 18:02:33 wer_bpe:189] predicted:spracheingabe\n",
      "[NeMo I 2023-01-02 18:02:33 wer_bpe:187] \n",
      "    \n",
      "[NeMo I 2023-01-02 18:02:33 wer_bpe:188] reference:umstellmanöver vom drei sechs nach gleis xray vier sieben via null vier antworten\n",
      "[NeMo I 2023-01-02 18:02:33 wer_bpe:189] predicted:umstellmanöver vom drei sechs nach gleis xray vier sieben via null vier antworten\n",
      "[NeMo I 2023-01-02 18:02:33 wer_bpe:187] \n",
      "    \n",
      "[NeMo I 2023-01-02 18:02:33 wer_bpe:188] reference:rangierfahrt von gleis sechs neun ins gleis delta sieben antworten\n",
      "[NeMo I 2023-01-02 18:02:33 wer_bpe:189] predicted:rangierfahrt von gleis sechs neun ins gleis delta sieben antworten\n",
      "[NeMo I 2023-01-02 18:02:33 wer_bpe:187] \n",
      "    \n",
      "[NeMo I 2023-01-02 18:02:33 wer_bpe:188] reference:umstellmanöver von charlie drei zwei via gleis victor sechs neun ins gleis golf zwei vier antworten\n",
      "[NeMo I 2023-01-02 18:02:33 wer_bpe:189] predicted:umstellmanöver von charlie drei zwei via gleis victor sechs neun ins gleis golf zwei vier antworten\n"
     ]
    },
    {
     "name": "stderr",
     "output_type": "stream",
     "text": [
      "`Trainer.fit` stopped: `max_epochs=9` reached.\n"
     ]
    },
    {
     "data": {
      "text/html": [
       "Waiting for W&B process to finish... <strong style=\"color:green\">(success).</strong>"
      ],
      "text/plain": [
       "<IPython.core.display.HTML object>"
      ]
     },
     "metadata": {},
     "output_type": "display_data"
    },
    {
     "data": {
      "text/html": [
       "<style>\n",
       "    table.wandb td:nth-child(1) { padding: 0 10px; text-align: left ; width: auto;} td:nth-child(2) {text-align: left ; width: 100%}\n",
       "    .wandb-row { display: flex; flex-direction: row; flex-wrap: wrap; justify-content: flex-start; width: 100% }\n",
       "    .wandb-col { display: flex; flex-direction: column; flex-basis: 100%; flex: 1; padding: 10px; }\n",
       "    </style>\n",
       "<div class=\"wandb-row\"><div class=\"wandb-col\"><h3>Run history:</h3><br/><table class=\"wandb\"><tr><td>epoch</td><td>▁▁▁▁▂▂▂▂▂▃▃▃▃▃▄▄▄▄▅▅▅▅▅▅▅▅▅▆▆▆▆▆▇▇▇▇████</td></tr><tr><td>global_step</td><td>▁▁▁▂▂▂▂▂▂▃▃▃▃▃▃▄▄▄▄▄▅▅▅▅▅▆▆▆▆▆▆▆▇▇▇▇▇███</td></tr><tr><td>learning_rate</td><td>▁▁▁▂▂▂▂▂▂▃▃▃▃▃▃▄▄▄▄▄▅▅▅▅▅▅▆▆▆▆▆▆▇▇▇▇▇▇██</td></tr><tr><td>train_loss</td><td>█▆▇▆▅▅▄▄▂▃▄▃▃▃▃▂▄▄▂▂▂▂▂▃▃▃▃▁▂▂▂▃▂▁▁▁▁▂▁▁</td></tr><tr><td>trainer/global_step</td><td>▁▁▁▂▂▂▂▂▂▃▃▃▃▃▃▄▄▄▄▄▅▅▅▅▅▆▆▆▆▆▆▆▇▇▇▇▇███</td></tr><tr><td>training_batch_wer</td><td>█▇▇▆▅▃▅▄▅▃▃▄▂▃▃▄▃▃▂▂▂▂▂▂▁▂▃▂▄▂▂▂▂▁</td></tr><tr><td>val_loss</td><td>█▃▂▁▁▁▁▁▁</td></tr><tr><td>val_wer</td><td>█▃▂▁▁▁▁▁▁</td></tr></table><br/></div><div class=\"wandb-col\"><h3>Run summary:</h3><br/><table class=\"wandb\"><tr><td>epoch</td><td>8</td></tr><tr><td>global_step</td><td>2133.0</td></tr><tr><td>learning_rate</td><td>0.00017</td></tr><tr><td>train_loss</td><td>2.89411</td></tr><tr><td>trainer/global_step</td><td>2132</td></tr><tr><td>training_batch_wer</td><td>0.02667</td></tr><tr><td>val_loss</td><td>1.71852</td></tr><tr><td>val_wer</td><td>0.02089</td></tr></table><br/></div></div>"
      ],
      "text/plain": [
       "<IPython.core.display.HTML object>"
      ]
     },
     "metadata": {},
     "output_type": "display_data"
    },
    {
     "data": {
      "text/html": [
       "Synced <strong style=\"color:#cdcd00\">divine-sweep-3</strong>: <a href=\"https://wandb.ai/unisg-ds-nlp/ASR/runs/6vxzf6r4\" target=\"_blank\">https://wandb.ai/unisg-ds-nlp/ASR/runs/6vxzf6r4</a><br/>Synced 5 W&B file(s), 0 media file(s), 9 artifact file(s) and 0 other file(s)"
      ],
      "text/plain": [
       "<IPython.core.display.HTML object>"
      ]
     },
     "metadata": {},
     "output_type": "display_data"
    },
    {
     "data": {
      "text/html": [
       "Find logs at: <code>./wandb/run-20230102_173506-6vxzf6r4/logs</code>"
      ],
      "text/plain": [
       "<IPython.core.display.HTML object>"
      ]
     },
     "metadata": {},
     "output_type": "display_data"
    },
    {
     "name": "stderr",
     "output_type": "stream",
     "text": [
      "\u001b[34m\u001b[1mwandb\u001b[0m: Agent Starting Run: yo3onjfu with config:\n",
      "\u001b[34m\u001b[1mwandb\u001b[0m: \tepoch: 6\n",
      "\u001b[34m\u001b[1mwandb\u001b[0m: \tfreq_width: 28.83777522133322\n",
      "\u001b[34m\u001b[1mwandb\u001b[0m: \tlr: 0.0002701039617679204\n",
      "Failed to detect the name of this notebook, you can set it manually with the WANDB_NOTEBOOK_NAME environment variable to enable code saving.\n"
     ]
    },
    {
     "data": {
      "text/html": [
       "wandb version 0.13.7 is available!  To upgrade, please run:\n",
       " $ pip install wandb --upgrade"
      ],
      "text/plain": [
       "<IPython.core.display.HTML object>"
      ]
     },
     "metadata": {},
     "output_type": "display_data"
    },
    {
     "data": {
      "text/html": [
       "Tracking run with wandb version 0.13.4"
      ],
      "text/plain": [
       "<IPython.core.display.HTML object>"
      ]
     },
     "metadata": {},
     "output_type": "display_data"
    },
    {
     "data": {
      "text/html": [
       "Run data is saved locally in <code>/home/user/code/sbb_asr/notebooks/wandb/run-20230102_180319-yo3onjfu</code>"
      ],
      "text/plain": [
       "<IPython.core.display.HTML object>"
      ]
     },
     "metadata": {},
     "output_type": "display_data"
    },
    {
     "data": {
      "text/html": [
       "Syncing run <strong><a href=\"https://wandb.ai/unisg-ds-nlp/ASR/runs/yo3onjfu\" target=\"_blank\">bright-sweep-4</a></strong> to <a href=\"https://wandb.ai/unisg-ds-nlp/ASR\" target=\"_blank\">Weights & Biases</a> (<a href=\"https://wandb.me/run\" target=\"_blank\">docs</a>)<br/>Sweep page:  <a href=\"https://wandb.ai/unisg-ds-nlp/ASR/sweeps/v7qi12lc\" target=\"_blank\">https://wandb.ai/unisg-ds-nlp/ASR/sweeps/v7qi12lc</a>"
      ],
      "text/plain": [
       "<IPython.core.display.HTML object>"
      ]
     },
     "metadata": {},
     "output_type": "display_data"
    },
    {
     "name": "stderr",
     "output_type": "stream",
     "text": [
      "[NeMo W 2023-01-02 18:03:20 nemo_logging:349] /home/user/.local/lib/python3.9/site-packages/pytorch_lightning/loggers/wandb.py:352: UserWarning: There is a wandb run already in progress and newly created instances of `WandbLogger` will reuse this run. If this is not desired, call `wandb.finish()` before instantiating `WandbLogger`.\n",
      "      rank_zero_warn(\n",
      "    \n",
      "[NeMo W 2023-01-02 18:03:20 nemo_logging:349] /home/user/.local/lib/python3.9/site-packages/pytorch_lightning/trainer/connectors/accelerator_connector.py:447: LightningDeprecationWarning: Setting `Trainer(gpus=1)` is deprecated in v1.7 and will be removed in v2.0. Please use `Trainer(accelerator='gpu', devices=1)` instead.\n",
      "      rank_zero_deprecation(\n",
      "    \n",
      "GPU available: True (cuda), used: True\n",
      "TPU available: False, using: 0 TPU cores\n",
      "IPU available: False, using: 0 IPUs\n",
      "HPU available: False, using: 0 HPUs\n"
     ]
    },
    {
     "name": "stdout",
     "output_type": "stream",
     "text": [
      "[NeMo I 2023-01-02 18:03:21 cloud:56] Found existing object /home/user/.cache/torch/NeMo/NeMo_1.12.0/stt_de_citrinet_1024/8743e4cecb8017ca2b49a035e07b2893/stt_de_citrinet_1024.nemo.\n",
      "[NeMo I 2023-01-02 18:03:21 cloud:62] Re-using file from: /home/user/.cache/torch/NeMo/NeMo_1.12.0/stt_de_citrinet_1024/8743e4cecb8017ca2b49a035e07b2893/stt_de_citrinet_1024.nemo\n",
      "[NeMo I 2023-01-02 18:03:21 common:910] Instantiating model from pre-trained checkpoint\n",
      "[NeMo I 2023-01-02 18:03:26 mixins:170] Tokenizer SentencePieceTokenizer initialized with 1024 tokens\n"
     ]
    },
    {
     "name": "stderr",
     "output_type": "stream",
     "text": [
      "[NeMo W 2023-01-02 18:03:27 modelPT:142] If you intend to do training or fine-tuning, please call the ModelPT.setup_training_data() method and provide a valid configuration file to setup the train data loader.\n",
      "    Train config : \n",
      "    manifest_filepath: /data/train/tarred_audio_manifest.json\n",
      "    sample_rate: 16000\n",
      "    batch_size: 32\n",
      "    trim_silence: false\n",
      "    max_duration: 35.0\n",
      "    shuffle: true\n",
      "    is_tarred: true\n",
      "    tarred_audio_filepaths: /data/train/audio__OP_0..1023_CL_.tar\n",
      "    use_start_end_token: false\n",
      "    shuffle_n: 1024\n",
      "    num_workers: 16\n",
      "    pin_memory: true\n",
      "    \n",
      "[NeMo W 2023-01-02 18:03:27 modelPT:149] If you intend to do validation, please call the ModelPT.setup_validation_data() or ModelPT.setup_multiple_validation_data() method and provide a valid configuration file to setup the validation data loader(s). \n",
      "    Validation config : \n",
      "    manifest_filepath:\n",
      "    - /data/voxpopuli_de/dev/voxpopuli_dev_manifest.json\n",
      "    - /data/voxpopuli_de/test/voxpopuli_test_manifest.json\n",
      "    - /data/mcv7.0_de/mcv7.0_dev_manifest_cleaned.json\n",
      "    - /data/mcv7.0_de/mcv7.0_test_manifest_cleaned.json\n",
      "    - /data/mls_de/mls_dev_manifest_cleaned.json\n",
      "    - /data/mls_de/mls_test_manifest_cleaned.json\n",
      "    sample_rate: 16000\n",
      "    batch_size: 8\n",
      "    shuffle: false\n",
      "    use_start_end_token: false\n",
      "    num_workers: 8\n",
      "    pin_memory: true\n",
      "    \n",
      "[NeMo W 2023-01-02 18:03:27 modelPT:155] Please call the ModelPT.setup_test_data() or ModelPT.setup_multiple_test_data() method and provide a valid configuration file to setup the test data loader(s).\n",
      "    Test config : \n",
      "    manifest_filepath: null\n",
      "    sample_rate: 16000\n",
      "    batch_size: 32\n",
      "    shuffle: false\n",
      "    use_start_end_token: false\n",
      "    \n"
     ]
    },
    {
     "name": "stdout",
     "output_type": "stream",
     "text": [
      "[NeMo I 2023-01-02 18:03:27 features:225] PADDING: 16\n",
      "[NeMo I 2023-01-02 18:03:32 save_restore_connector:243] Model EncDecCTCModelBPE was successfully restored from /home/user/.cache/torch/NeMo/NeMo_1.12.0/stt_de_citrinet_1024/8743e4cecb8017ca2b49a035e07b2893/stt_de_citrinet_1024.nemo.\n",
      "[NeMo I 2023-01-02 18:03:32 collections:194] Dataset loaded with 1890 files totalling 7.41 hours\n",
      "[NeMo I 2023-01-02 18:03:32 collections:195] 0 files were filtered totalling 0.00 hours\n",
      "[NeMo I 2023-01-02 18:03:32 collections:194] Dataset loaded with 34 files totalling 0.13 hours\n",
      "[NeMo I 2023-01-02 18:03:32 collections:195] 0 files were filtered totalling 0.00 hours\n",
      "[NeMo I 2023-01-02 18:03:32 collections:194] Dataset loaded with 34 files totalling 0.14 hours\n",
      "[NeMo I 2023-01-02 18:03:32 collections:195] 0 files were filtered totalling 0.00 hours\n",
      "[NeMo I 2023-01-02 18:03:32 modelPT:597] Optimizer config = Novograd (\n",
      "    Parameter Group 0\n",
      "        amsgrad: False\n",
      "        betas: [0.8, 0.25]\n",
      "        eps: 1e-08\n",
      "        grad_averaging: False\n",
      "        lr: 0.0002701039617679204\n",
      "        weight_decay: 0.001\n",
      "    )\n",
      "[NeMo I 2023-01-02 18:03:32 lr_scheduler:910] Scheduler \"<nemo.core.optim.lr_scheduler.CosineAnnealing object at 0x7f842c69ebb0>\" \n",
      "    will be used during training (effective maximum steps = 1422) - \n",
      "    Parameters : \n",
      "    (warmup_steps: 10000\n",
      "    warmup_ratio: null\n",
      "    min_lr: 1.0e-05\n",
      "    last_epoch: -1\n",
      "    max_steps: 1422\n",
      "    )\n"
     ]
    },
    {
     "name": "stderr",
     "output_type": "stream",
     "text": [
      "LOCAL_RANK: 0 - CUDA_VISIBLE_DEVICES: [0,1,2,3]\n"
     ]
    },
    {
     "name": "stdout",
     "output_type": "stream",
     "text": [
      "[NeMo I 2023-01-02 18:03:32 modelPT:597] Optimizer config = Novograd (\n",
      "    Parameter Group 0\n",
      "        amsgrad: False\n",
      "        betas: [0.8, 0.25]\n",
      "        eps: 1e-08\n",
      "        grad_averaging: False\n",
      "        lr: 0.0002701039617679204\n",
      "        weight_decay: 0.001\n",
      "    )\n",
      "[NeMo I 2023-01-02 18:03:32 lr_scheduler:910] Scheduler \"<nemo.core.optim.lr_scheduler.CosineAnnealing object at 0x7f835edc95e0>\" \n",
      "    will be used during training (effective maximum steps = 1422) - \n",
      "    Parameters : \n",
      "    (warmup_steps: 10000\n",
      "    warmup_ratio: null\n",
      "    min_lr: 1.0e-05\n",
      "    last_epoch: -1\n",
      "    max_steps: 1422\n",
      "    )\n"
     ]
    },
    {
     "name": "stderr",
     "output_type": "stream",
     "text": [
      "\n",
      "  | Name              | Type                              | Params\n",
      "------------------------------------------------------------------------\n",
      "0 | preprocessor      | AudioToMelSpectrogramPreprocessor | 0     \n",
      "1 | encoder           | ConvASREncoder                    | 140 M \n",
      "2 | decoder           | ConvASRDecoder                    | 1.1 M \n",
      "3 | loss              | CTCLoss                           | 0     \n",
      "4 | spec_augmentation | SpectrogramAugmentation           | 0     \n",
      "5 | _wer              | WERBPE                            | 0     \n",
      "------------------------------------------------------------------------\n",
      "141 M     Trainable params\n",
      "0         Non-trainable params\n",
      "141 M     Total params\n",
      "564.897   Total estimated model params size (MB)\n"
     ]
    },
    {
     "data": {
      "application/vnd.jupyter.widget-view+json": {
       "model_id": "6f1d785d0a9f493c898520fa16115558",
       "version_major": 2,
       "version_minor": 0
      },
      "text/plain": [
       "Sanity Checking: 0it [00:00, ?it/s]"
      ]
     },
     "metadata": {},
     "output_type": "display_data"
    },
    {
     "name": "stdout",
     "output_type": "stream",
     "text": [
      "[NeMo I 2023-01-02 18:03:34 wer_bpe:187] \n",
      "    \n",
      "[NeMo I 2023-01-02 18:03:34 wer_bpe:188] reference:rangierfahrt vom gleis mike zwei drei ins drei drei antworten\n",
      "[NeMo I 2023-01-02 18:03:34 wer_bpe:189] predicted:prongierfahrt vom gleis maik zwei drei ins drei drei antworten\n",
      "[NeMo I 2023-01-02 18:03:34 wer_bpe:187] \n",
      "    \n",
      "[NeMo I 2023-01-02 18:03:34 wer_bpe:188] reference:spracheingabe\n",
      "[NeMo I 2023-01-02 18:03:34 wer_bpe:189] predicted:spracheingabe\n"
     ]
    },
    {
     "data": {
      "application/vnd.jupyter.widget-view+json": {
       "model_id": "0cd13680e9f9403b8fe8dcef6f2e9c3e",
       "version_major": 2,
       "version_minor": 0
      },
      "text/plain": [
       "Training: 0it [00:00, ?it/s]"
      ]
     },
     "metadata": {},
     "output_type": "display_data"
    },
    {
     "name": "stdout",
     "output_type": "stream",
     "text": [
      "[NeMo I 2023-01-02 18:04:04 wer_bpe:187] \n",
      "    \n",
      "[NeMo I 2023-01-02 18:04:04 wer_bpe:188] reference:umstellmanöver vom gleis xray eins null ins sechs acht via gleis sieben null antworten\n",
      "[NeMo I 2023-01-02 18:04:04 wer_bpe:189] predicted:um ihn wie gleich sieben\n",
      "[NeMo I 2023-01-02 18:04:30 wer_bpe:187] \n",
      "    \n",
      "[NeMo I 2023-01-02 18:04:30 wer_bpe:188] reference:rangierfahrt vom gleis null antworten\n",
      "[NeMo I 2023-01-02 18:04:30 wer_bpe:189] predicted:\n",
      "[NeMo I 2023-01-02 18:04:57 wer_bpe:187] \n",
      "    \n",
      "[NeMo I 2023-01-02 18:04:57 wer_bpe:188] reference:rangierfahrt von gleis sechs sieben ins gleis vier neun antworten\n",
      "[NeMo I 2023-01-02 18:04:57 wer_bpe:189] predicted:aber man nach gleichs sie mich sie die aber\n",
      "[NeMo I 2023-01-02 18:05:24 wer_bpe:187] \n",
      "    \n",
      "[NeMo I 2023-01-02 18:05:24 wer_bpe:188] reference:rangierfahrt von uniform neun nach sechs vier antworten\n",
      "[NeMo I 2023-01-02 18:05:24 wer_bpe:189] predicted:rangieriform neu vier\n"
     ]
    },
    {
     "data": {
      "application/vnd.jupyter.widget-view+json": {
       "model_id": "e91ffa392138420f8d2e7130b5865239",
       "version_major": 2,
       "version_minor": 0
      },
      "text/plain": [
       "Validation: 0it [00:00, ?it/s]"
      ]
     },
     "metadata": {},
     "output_type": "display_data"
    },
    {
     "name": "stdout",
     "output_type": "stream",
     "text": [
      "[NeMo I 2023-01-02 18:05:46 wer_bpe:187] \n",
      "    \n",
      "[NeMo I 2023-01-02 18:05:46 wer_bpe:188] reference:rangierfahrt vom gleis mike zwei drei ins drei drei antworten\n",
      "[NeMo I 2023-01-02 18:05:46 wer_bpe:189] predicted:ierfahrlei zwei drei drei drei\n",
      "[NeMo I 2023-01-02 18:05:46 wer_bpe:187] \n",
      "    \n",
      "[NeMo I 2023-01-02 18:05:46 wer_bpe:188] reference:spracheingabe\n",
      "[NeMo I 2023-01-02 18:05:46 wer_bpe:189] predicted:sprach eingabe\n",
      "[NeMo I 2023-01-02 18:05:46 wer_bpe:187] \n",
      "    \n",
      "[NeMo I 2023-01-02 18:05:46 wer_bpe:188] reference:umstellmanöver vom drei sechs nach gleis xray vier sieben via null vier antworten\n",
      "[NeMo I 2023-01-02 18:05:46 wer_bpe:189] predicted:umstell manövver vom drei sechs nach gleisray viel sieben wie nur viel an\n",
      "[NeMo I 2023-01-02 18:05:46 wer_bpe:187] \n",
      "    \n",
      "[NeMo I 2023-01-02 18:05:46 wer_bpe:188] reference:rangierfahrt von gleis sechs neun ins gleis delta sieben antworten\n",
      "[NeMo I 2023-01-02 18:05:46 wer_bpe:189] predicted:rangchierfahrt von gleis sechs neu insleidelta sieben an\n",
      "[NeMo I 2023-01-02 18:05:46 wer_bpe:187] \n",
      "    \n",
      "[NeMo I 2023-01-02 18:05:46 wer_bpe:188] reference:umstellmanöver von charlie drei zwei via gleis victor sechs neun ins gleis golf zwei vier antworten\n",
      "[NeMo I 2023-01-02 18:05:46 wer_bpe:189] predicted:ellmaöver voncharly drei zwei wirlei sechs neu ihnlei zwei\n",
      "[NeMo I 2023-01-02 18:06:24 wer_bpe:187] \n",
      "    \n",
      "[NeMo I 2023-01-02 18:06:24 wer_bpe:188] reference:rangierfahrt vom drei drei nach zwei antworten\n",
      "[NeMo I 2023-01-02 18:06:24 wer_bpe:189] predicted:\n",
      "[NeMo I 2023-01-02 18:06:51 wer_bpe:187] \n",
      "    \n",
      "[NeMo I 2023-01-02 18:06:51 wer_bpe:188] reference:umstellmanöver vom echo sieben eins ins gleis sieben acht via gleis null neun antworten\n",
      "[NeMo I 2023-01-02 18:06:51 wer_bpe:189] predicted:\n",
      "[NeMo I 2023-01-02 18:07:17 wer_bpe:187] \n",
      "    \n",
      "[NeMo I 2023-01-02 18:07:17 wer_bpe:188] reference:umstellmanöver vom gleis neun vier nach gleis eins null via gleis foxtrot eins eins antworten\n",
      "[NeMo I 2023-01-02 18:07:17 wer_bpe:189] predicted:umstehen vom gleis neun vier no b gleis fosir eins ein worten\n",
      "[NeMo I 2023-01-02 18:07:44 wer_bpe:187] \n",
      "    \n",
      "[NeMo I 2023-01-02 18:07:44 wer_bpe:188] reference:rangierfahrt vom india sechs fünf nach gleis uniform sieben antworten\n",
      "[NeMo I 2023-01-02 18:07:44 wer_bpe:189] predicted:rangierfahrt vom fünf nach gleisu um sieben an toen\n"
     ]
    },
    {
     "data": {
      "application/vnd.jupyter.widget-view+json": {
       "model_id": "4c9eb3735028459d9c5e4e83b0511b47",
       "version_major": 2,
       "version_minor": 0
      },
      "text/plain": [
       "Validation: 0it [00:00, ?it/s]"
      ]
     },
     "metadata": {},
     "output_type": "display_data"
    },
    {
     "name": "stdout",
     "output_type": "stream",
     "text": [
      "[NeMo I 2023-01-02 18:08:06 wer_bpe:187] \n",
      "    \n",
      "[NeMo I 2023-01-02 18:08:06 wer_bpe:188] reference:rangierfahrt vom gleis mike zwei drei ins drei drei antworten\n",
      "[NeMo I 2023-01-02 18:08:06 wer_bpe:189] predicted:rangierfahrt von gleis ma zwei drei ins drei drei al\n",
      "[NeMo I 2023-01-02 18:08:06 wer_bpe:187] \n",
      "    \n",
      "[NeMo I 2023-01-02 18:08:06 wer_bpe:188] reference:spracheingabe\n",
      "[NeMo I 2023-01-02 18:08:06 wer_bpe:189] predicted:sprach eingabe\n",
      "[NeMo I 2023-01-02 18:08:06 wer_bpe:187] \n",
      "    \n",
      "[NeMo I 2023-01-02 18:08:06 wer_bpe:188] reference:umstellmanöver vom drei sechs nach gleis xray vier sieben via null vier antworten\n",
      "[NeMo I 2023-01-02 18:08:06 wer_bpe:189] predicted:umstellmanöver vom drei sechs nach gleis exray vier sieben via null v antworten\n",
      "[NeMo I 2023-01-02 18:08:06 wer_bpe:187] \n",
      "    \n",
      "[NeMo I 2023-01-02 18:08:06 wer_bpe:188] reference:rangierfahrt von gleis sechs neun ins gleis delta sieben antworten\n",
      "[NeMo I 2023-01-02 18:08:06 wer_bpe:189] predicted:rangierfahrt von gleis sechs neun ins gleis delta sieben antworten\n",
      "[NeMo I 2023-01-02 18:08:06 wer_bpe:187] \n",
      "    \n",
      "[NeMo I 2023-01-02 18:08:06 wer_bpe:188] reference:umstellmanöver von charlie drei zwei via gleis victor sechs neun ins gleis golf zwei vier antworten\n",
      "[NeMo I 2023-01-02 18:08:06 wer_bpe:189] predicted:umstellmanöver von charlley drei zwei via gleis ctor sechs neun ins gleis gold zwei vier antwort\n",
      "[NeMo I 2023-01-02 18:08:45 wer_bpe:187] \n",
      "    \n",
      "[NeMo I 2023-01-02 18:08:45 wer_bpe:188] reference:umstellmanöver vom nach zwei antworten\n",
      "[NeMo I 2023-01-02 18:08:45 wer_bpe:189] predicted:umell von nach zwei antworten\n",
      "[NeMo I 2023-01-02 18:09:12 wer_bpe:187] \n",
      "    \n",
      "[NeMo I 2023-01-02 18:09:12 wer_bpe:188] reference:umstellmanöver vom gleis zwei null via gleis neun und via gleis eins nach sieben zwei antworten\n",
      "[NeMo I 2023-01-02 18:09:12 wer_bpe:189] predicted:\n",
      "[NeMo I 2023-01-02 18:09:39 wer_bpe:187] \n",
      "    \n",
      "[NeMo I 2023-01-02 18:09:39 wer_bpe:188] reference:umstellmanöver von gleis null drei via null eins nach alpha vier zwei antworten\n",
      "[NeMo I 2023-01-02 18:09:39 wer_bpe:189] predicted:hü ver gleis null drei via null eins nach wover vier zwei antworten\n",
      "[NeMo I 2023-01-02 18:10:05 wer_bpe:187] \n",
      "    \n",
      "[NeMo I 2023-01-02 18:10:05 wer_bpe:188] reference:rangierfahrt vom gleis xray drei acht nach india acht zwei antworten\n",
      "[NeMo I 2023-01-02 18:10:05 wer_bpe:189] predicted:land xray dreiier acht zwei antworten\n"
     ]
    },
    {
     "data": {
      "application/vnd.jupyter.widget-view+json": {
       "model_id": "d8f220cd77bb4e9abb5ebfea9d1b822c",
       "version_major": 2,
       "version_minor": 0
      },
      "text/plain": [
       "Validation: 0it [00:00, ?it/s]"
      ]
     },
     "metadata": {},
     "output_type": "display_data"
    },
    {
     "name": "stdout",
     "output_type": "stream",
     "text": [
      "[NeMo I 2023-01-02 18:10:27 wer_bpe:187] \n",
      "    \n",
      "[NeMo I 2023-01-02 18:10:27 wer_bpe:188] reference:rangierfahrt vom gleis mike zwei drei ins drei drei antworten\n",
      "[NeMo I 2023-01-02 18:10:27 wer_bpe:189] predicted:rangierfahrt vom gleis maig zwei drei ins drei drei antworten\n",
      "[NeMo I 2023-01-02 18:10:27 wer_bpe:187] \n",
      "    \n",
      "[NeMo I 2023-01-02 18:10:27 wer_bpe:188] reference:spracheingabe\n",
      "[NeMo I 2023-01-02 18:10:27 wer_bpe:189] predicted:sprach eingabe\n",
      "[NeMo I 2023-01-02 18:10:28 wer_bpe:187] \n",
      "    \n",
      "[NeMo I 2023-01-02 18:10:28 wer_bpe:188] reference:umstellmanöver vom drei sechs nach gleis xray vier sieben via null vier antworten\n",
      "[NeMo I 2023-01-02 18:10:28 wer_bpe:189] predicted:umstellmanöver vom drei sechs nach gleis xray vier sieben via null vier antworten\n",
      "[NeMo I 2023-01-02 18:10:28 wer_bpe:187] \n",
      "    \n",
      "[NeMo I 2023-01-02 18:10:28 wer_bpe:188] reference:rangierfahrt von gleis sechs neun ins gleis delta sieben antworten\n",
      "[NeMo I 2023-01-02 18:10:28 wer_bpe:189] predicted:rangierfahrt von gleis sechs neun ins gleis delta sieben antworten\n",
      "[NeMo I 2023-01-02 18:10:28 wer_bpe:187] \n",
      "    \n",
      "[NeMo I 2023-01-02 18:10:28 wer_bpe:188] reference:umstellmanöver von charlie drei zwei via gleis victor sechs neun ins gleis golf zwei vier antworten\n",
      "[NeMo I 2023-01-02 18:10:28 wer_bpe:189] predicted:umstellmanöver von charley drei zwei via gleis victor sechs neun ins gleis golf zwei vier antwort\n",
      "[NeMo I 2023-01-02 18:11:07 wer_bpe:187] \n",
      "    \n",
      "[NeMo I 2023-01-02 18:11:07 wer_bpe:188] reference:umstellmanöver vom zulu neun eins ins golf neun neun via lima vier zwei antworten\n",
      "[NeMo I 2023-01-02 18:11:07 wer_bpe:189] predicted:manöver zul neun eins ins golf neun neun via aima vieria zwei antworten\n",
      "[NeMo I 2023-01-02 18:11:34 wer_bpe:187] \n",
      "    \n",
      "[NeMo I 2023-01-02 18:11:34 wer_bpe:188] reference:rangierfahrt vom eins null ins sechs eins antworten\n",
      "[NeMo I 2023-01-02 18:11:34 wer_bpe:189] predicted:rangier vom eins null ins ses eins antworten\n",
      "[NeMo I 2023-01-02 18:12:00 wer_bpe:187] \n",
      "    \n",
      "[NeMo I 2023-01-02 18:12:00 wer_bpe:188] reference:rangierfahrt von mike fünf sieben nach gleis fünf drei antworten\n",
      "[NeMo I 2023-01-02 18:12:00 wer_bpe:189] predicted:rangierfahrt ver blick fünf sieben nach gleis fünf drei antwort\n",
      "[NeMo I 2023-01-02 18:12:27 wer_bpe:187] \n",
      "    \n",
      "[NeMo I 2023-01-02 18:12:27 wer_bpe:188] reference:rangierfahrt von gleis charlie eins null nach gleis vier vier antworten\n",
      "[NeMo I 2023-01-02 18:12:27 wer_bpe:189] predicted:rangierfahr von gleis charlie eins null nach gleis vier vier antworten\n"
     ]
    },
    {
     "data": {
      "application/vnd.jupyter.widget-view+json": {
       "model_id": "e1d8cc5885904cbaa4b1fad9be6ce6c3",
       "version_major": 2,
       "version_minor": 0
      },
      "text/plain": [
       "Validation: 0it [00:00, ?it/s]"
      ]
     },
     "metadata": {},
     "output_type": "display_data"
    },
    {
     "name": "stdout",
     "output_type": "stream",
     "text": [
      "[NeMo I 2023-01-02 18:12:49 wer_bpe:187] \n",
      "    \n",
      "[NeMo I 2023-01-02 18:12:49 wer_bpe:188] reference:rangierfahrt vom gleis mike zwei drei ins drei drei antworten\n",
      "[NeMo I 2023-01-02 18:12:49 wer_bpe:189] predicted:rangierfahrt vom gleis mike zwei drei ins drei drei antworten\n",
      "[NeMo I 2023-01-02 18:12:49 wer_bpe:187] \n",
      "    \n",
      "[NeMo I 2023-01-02 18:12:49 wer_bpe:188] reference:spracheingabe\n",
      "[NeMo I 2023-01-02 18:12:49 wer_bpe:189] predicted:sprach eingabe\n",
      "[NeMo I 2023-01-02 18:12:49 wer_bpe:187] \n",
      "    \n",
      "[NeMo I 2023-01-02 18:12:49 wer_bpe:188] reference:umstellmanöver vom drei sechs nach gleis xray vier sieben via null vier antworten\n",
      "[NeMo I 2023-01-02 18:12:49 wer_bpe:189] predicted:umstellmanöver vom drei sechs nach gleis xray vier sieben via null vier antworten\n",
      "[NeMo I 2023-01-02 18:12:49 wer_bpe:187] \n",
      "    \n",
      "[NeMo I 2023-01-02 18:12:49 wer_bpe:188] reference:rangierfahrt von gleis sechs neun ins gleis delta sieben antworten\n",
      "[NeMo I 2023-01-02 18:12:49 wer_bpe:189] predicted:rangierfahrt von gleis sechs neun ins gleis delta sieben antworten\n",
      "[NeMo I 2023-01-02 18:12:49 wer_bpe:187] \n",
      "    \n",
      "[NeMo I 2023-01-02 18:12:49 wer_bpe:188] reference:umstellmanöver von charlie drei zwei via gleis victor sechs neun ins gleis golf zwei vier antworten\n",
      "[NeMo I 2023-01-02 18:12:49 wer_bpe:189] predicted:umstellmanöver von charlie drei zwei via gleis victor sechs neun ins gleis golf zwei vier antworten\n",
      "[NeMo I 2023-01-02 18:13:27 wer_bpe:187] \n",
      "    \n",
      "[NeMo I 2023-01-02 18:13:27 wer_bpe:188] reference:umstellmanöver vom acht sechs via tango sechs null nach gleis eins drei antworten\n",
      "[NeMo I 2023-01-02 18:13:27 wer_bpe:189] predicted:umstellmanöver vom acht sechs viasngo ses null nach gleis eins drei antworten\n",
      "[NeMo I 2023-01-02 18:13:54 wer_bpe:187] \n",
      "    \n",
      "[NeMo I 2023-01-02 18:13:54 wer_bpe:188] reference:rangierfahrt von gleis november sieben nach golf zwei sechs antworten\n",
      "[NeMo I 2023-01-02 18:13:54 wer_bpe:189] predicted:rangierfahr von gleis  nach sieben nach zwei zwei sechs antworten\n",
      "[NeMo I 2023-01-02 18:14:20 wer_bpe:187] \n",
      "    \n",
      "[NeMo I 2023-01-02 18:14:20 wer_bpe:188] reference:umstellmanöver vom gleis alpha sieben drei nach gleis null null via gleis yankee null acht antworten\n",
      "[NeMo I 2023-01-02 18:14:20 wer_bpe:189] predicted:umellmanöver vom gleis alpha sieben drei nach gleis null null via gleis ankee null acht\n",
      "[NeMo I 2023-01-02 18:14:47 wer_bpe:187] \n",
      "    \n",
      "[NeMo I 2023-01-02 18:14:47 wer_bpe:188] reference:umstellmanöver von tango neun acht ins gleis whisky zwei drei via gleis zwei fünf antworten\n",
      "[NeMo I 2023-01-02 18:14:47 wer_bpe:189] predicted:umöver von tango neun acht ins gleis whisky drei eins zwei fünf antworten\n"
     ]
    },
    {
     "data": {
      "application/vnd.jupyter.widget-view+json": {
       "model_id": "8cd052fe490941a0bc5ae999e505a969",
       "version_major": 2,
       "version_minor": 0
      },
      "text/plain": [
       "Validation: 0it [00:00, ?it/s]"
      ]
     },
     "metadata": {},
     "output_type": "display_data"
    },
    {
     "name": "stdout",
     "output_type": "stream",
     "text": [
      "[NeMo I 2023-01-02 18:15:09 wer_bpe:187] \n",
      "    \n",
      "[NeMo I 2023-01-02 18:15:09 wer_bpe:188] reference:rangierfahrt vom gleis mike zwei drei ins drei drei antworten\n",
      "[NeMo I 2023-01-02 18:15:09 wer_bpe:189] predicted:rangierfahrt vom gleis mike zwei drei ins drei drei antworten\n",
      "[NeMo I 2023-01-02 18:15:09 wer_bpe:187] \n",
      "    \n",
      "[NeMo I 2023-01-02 18:15:09 wer_bpe:188] reference:spracheingabe\n",
      "[NeMo I 2023-01-02 18:15:09 wer_bpe:189] predicted:sprach eingabe\n",
      "[NeMo I 2023-01-02 18:15:09 wer_bpe:187] \n",
      "    \n",
      "[NeMo I 2023-01-02 18:15:09 wer_bpe:188] reference:umstellmanöver vom drei sechs nach gleis xray vier sieben via null vier antworten\n",
      "[NeMo I 2023-01-02 18:15:09 wer_bpe:189] predicted:umstellmanöver vom drei sechs nach gleis xray vier sieben via null vier antworten\n",
      "[NeMo I 2023-01-02 18:15:09 wer_bpe:187] \n",
      "    \n",
      "[NeMo I 2023-01-02 18:15:09 wer_bpe:188] reference:rangierfahrt von gleis sechs neun ins gleis delta sieben antworten\n",
      "[NeMo I 2023-01-02 18:15:09 wer_bpe:189] predicted:rangierfahrt von gleis sechs neun ins gleis delta sieben antworten\n",
      "[NeMo I 2023-01-02 18:15:09 wer_bpe:187] \n",
      "    \n",
      "[NeMo I 2023-01-02 18:15:09 wer_bpe:188] reference:umstellmanöver von charlie drei zwei via gleis victor sechs neun ins gleis golf zwei vier antworten\n",
      "[NeMo I 2023-01-02 18:15:09 wer_bpe:189] predicted:umstellmanöver von charlie drei zwei via gleis victor sechs neun ins gleis golf zwei vier antworten\n",
      "[NeMo I 2023-01-02 18:15:48 wer_bpe:187] \n",
      "    \n",
      "[NeMo I 2023-01-02 18:15:48 wer_bpe:188] reference:umstellmanöver von gleis quebec null sechs via gleis xray sechs drei ins gleis drei zwei antworten\n",
      "[NeMo I 2023-01-02 18:15:48 wer_bpe:189] predicted:umstellmanöver von gleis quebec null sechs via gleis ry sechs drei ins gleis drei zwei antworten\n",
      "[NeMo I 2023-01-02 18:16:15 wer_bpe:187] \n",
      "    \n",
      "[NeMo I 2023-01-02 18:16:15 wer_bpe:188] reference:rangierfahrt vom quebec fünf nach alpha zwei null antworten\n",
      "[NeMo I 2023-01-02 18:16:15 wer_bpe:189] predicted:nachfahr fünf nachleiver zweimal antwort\n",
      "[NeMo I 2023-01-02 18:16:41 wer_bpe:187] \n",
      "    \n",
      "[NeMo I 2023-01-02 18:16:41 wer_bpe:188] reference:umstellmanöver vom acht sieben via gleis november eins sechs ins gleis golf eins sieben antworten\n",
      "[NeMo I 2023-01-02 18:16:41 wer_bpe:189] predicted:umstell vom acht gleis november eins ins gleis g in sieben antworten\n",
      "[NeMo I 2023-01-02 18:17:07 wer_bpe:187] \n",
      "    \n",
      "[NeMo I 2023-01-02 18:17:07 wer_bpe:188] reference:umstellmanöver von charlie drei zwei via gleis victor sechs neun ins gleis golf zwei vier antworten\n",
      "[NeMo I 2023-01-02 18:17:07 wer_bpe:189] predicted:umstellmanöver von charlie drei zwei via gleis victor sechs neun inia gleis golf zwei vier antworten\n"
     ]
    },
    {
     "data": {
      "application/vnd.jupyter.widget-view+json": {
       "model_id": "b0e0f5d74db34ca8acedbe2ef0ee868f",
       "version_major": 2,
       "version_minor": 0
      },
      "text/plain": [
       "Validation: 0it [00:00, ?it/s]"
      ]
     },
     "metadata": {},
     "output_type": "display_data"
    },
    {
     "name": "stdout",
     "output_type": "stream",
     "text": [
      "[NeMo I 2023-01-02 18:17:29 wer_bpe:187] \n",
      "    \n",
      "[NeMo I 2023-01-02 18:17:29 wer_bpe:188] reference:rangierfahrt vom gleis mike zwei drei ins drei drei antworten\n",
      "[NeMo I 2023-01-02 18:17:29 wer_bpe:189] predicted:rangierfahrt vom gleis mike zwei drei ins drei drei antworten\n",
      "[NeMo I 2023-01-02 18:17:29 wer_bpe:187] \n",
      "    \n",
      "[NeMo I 2023-01-02 18:17:29 wer_bpe:188] reference:spracheingabe\n",
      "[NeMo I 2023-01-02 18:17:29 wer_bpe:189] predicted:spracheingabe\n",
      "[NeMo I 2023-01-02 18:17:29 wer_bpe:187] \n",
      "    \n",
      "[NeMo I 2023-01-02 18:17:29 wer_bpe:188] reference:umstellmanöver vom drei sechs nach gleis xray vier sieben via null vier antworten\n",
      "[NeMo I 2023-01-02 18:17:29 wer_bpe:189] predicted:umstellmanöver vom drei sechs nach gleis xray vier sieben via null vier antworten\n",
      "[NeMo I 2023-01-02 18:17:30 wer_bpe:187] \n",
      "    \n",
      "[NeMo I 2023-01-02 18:17:30 wer_bpe:188] reference:rangierfahrt von gleis sechs neun ins gleis delta sieben antworten\n",
      "[NeMo I 2023-01-02 18:17:30 wer_bpe:189] predicted:rangierfahrt von gleis sechs neun ins gleis delta sieben antworten\n",
      "[NeMo I 2023-01-02 18:17:30 wer_bpe:187] \n",
      "    \n",
      "[NeMo I 2023-01-02 18:17:30 wer_bpe:188] reference:umstellmanöver von charlie drei zwei via gleis victor sechs neun ins gleis golf zwei vier antworten\n",
      "[NeMo I 2023-01-02 18:17:30 wer_bpe:189] predicted:umstellmanöver von charlie drei zwei via gleis victor sechs neun ins gleis golf zwei vier antworten\n"
     ]
    },
    {
     "name": "stderr",
     "output_type": "stream",
     "text": [
      "`Trainer.fit` stopped: `max_epochs=6` reached.\n"
     ]
    },
    {
     "data": {
      "text/html": [
       "Waiting for W&B process to finish... <strong style=\"color:green\">(success).</strong>"
      ],
      "text/plain": [
       "<IPython.core.display.HTML object>"
      ]
     },
     "metadata": {},
     "output_type": "display_data"
    },
    {
     "data": {
      "text/html": [
       "<style>\n",
       "    table.wandb td:nth-child(1) { padding: 0 10px; text-align: left ; width: auto;} td:nth-child(2) {text-align: left ; width: 100%}\n",
       "    .wandb-row { display: flex; flex-direction: row; flex-wrap: wrap; justify-content: flex-start; width: 100% }\n",
       "    .wandb-col { display: flex; flex-direction: column; flex-basis: 100%; flex: 1; padding: 10px; }\n",
       "    </style>\n",
       "<div class=\"wandb-row\"><div class=\"wandb-col\"><h3>Run history:</h3><br/><table class=\"wandb\"><tr><td>epoch</td><td>▁▁▁▁▁▂▂▂▂▂▂▄▄▄▄▄▄▅▅▅▅▅▇▇▇▇▇▇██████</td></tr><tr><td>global_step</td><td>▁▁▂▂▂▂▂▃▃▃▃▃▄▄▄▄▄▅▅▅▅▆▆▆▆▆▇▇▇▇▇███</td></tr><tr><td>learning_rate</td><td>▁▁▂▂▂▂▃▃▃▃▄▄▄▄▅▅▅▅▆▆▆▆▇▇▇▇██</td></tr><tr><td>train_loss</td><td>██▇▄█▄▄▄▅▄▄▂▃▂▂▁▁▃▂▄▂▁▂▁▁▂▃▃</td></tr><tr><td>trainer/global_step</td><td>▁▁▂▂▂▂▂▃▃▃▃▃▄▄▄▄▄▅▅▅▅▆▆▆▆▆▇▇▇▇▇███</td></tr><tr><td>training_batch_wer</td><td>███▆▇▇▅▆▄▅▃▅▄▃▃▃▂▄▃▂▃▁▁</td></tr><tr><td>val_loss</td><td>█▃▂▁▁▁</td></tr><tr><td>val_wer</td><td>█▃▂▁▁▁</td></tr></table><br/></div><div class=\"wandb-col\"><h3>Run summary:</h3><br/><table class=\"wandb\"><tr><td>epoch</td><td>5</td></tr><tr><td>global_step</td><td>1422.0</td></tr><tr><td>learning_rate</td><td>4e-05</td></tr><tr><td>train_loss</td><td>51.15728</td></tr><tr><td>trainer/global_step</td><td>1421</td></tr><tr><td>training_batch_wer</td><td>0.17347</td></tr><tr><td>val_loss</td><td>2.70646</td></tr><tr><td>val_wer</td><td>0.02872</td></tr></table><br/></div></div>"
      ],
      "text/plain": [
       "<IPython.core.display.HTML object>"
      ]
     },
     "metadata": {},
     "output_type": "display_data"
    },
    {
     "data": {
      "text/html": [
       "Synced <strong style=\"color:#cdcd00\">bright-sweep-4</strong>: <a href=\"https://wandb.ai/unisg-ds-nlp/ASR/runs/yo3onjfu\" target=\"_blank\">https://wandb.ai/unisg-ds-nlp/ASR/runs/yo3onjfu</a><br/>Synced 5 W&B file(s), 0 media file(s), 6 artifact file(s) and 0 other file(s)"
      ],
      "text/plain": [
       "<IPython.core.display.HTML object>"
      ]
     },
     "metadata": {},
     "output_type": "display_data"
    },
    {
     "data": {
      "text/html": [
       "Find logs at: <code>./wandb/run-20230102_180319-yo3onjfu/logs</code>"
      ],
      "text/plain": [
       "<IPython.core.display.HTML object>"
      ]
     },
     "metadata": {},
     "output_type": "display_data"
    },
    {
     "name": "stderr",
     "output_type": "stream",
     "text": [
      "\u001b[34m\u001b[1mwandb\u001b[0m: Agent Starting Run: okhfpg6i with config:\n",
      "\u001b[34m\u001b[1mwandb\u001b[0m: \tepoch: 5\n",
      "\u001b[34m\u001b[1mwandb\u001b[0m: \tfreq_width: 25.764773169138447\n",
      "\u001b[34m\u001b[1mwandb\u001b[0m: \tlr: 0.001195863304589692\n",
      "Failed to detect the name of this notebook, you can set it manually with the WANDB_NOTEBOOK_NAME environment variable to enable code saving.\n"
     ]
    },
    {
     "data": {
      "text/html": [
       "wandb version 0.13.7 is available!  To upgrade, please run:\n",
       " $ pip install wandb --upgrade"
      ],
      "text/plain": [
       "<IPython.core.display.HTML object>"
      ]
     },
     "metadata": {},
     "output_type": "display_data"
    },
    {
     "data": {
      "text/html": [
       "Tracking run with wandb version 0.13.4"
      ],
      "text/plain": [
       "<IPython.core.display.HTML object>"
      ]
     },
     "metadata": {},
     "output_type": "display_data"
    },
    {
     "data": {
      "text/html": [
       "Run data is saved locally in <code>/home/user/code/sbb_asr/notebooks/wandb/run-20230102_181816-okhfpg6i</code>"
      ],
      "text/plain": [
       "<IPython.core.display.HTML object>"
      ]
     },
     "metadata": {},
     "output_type": "display_data"
    },
    {
     "data": {
      "text/html": [
       "Syncing run <strong><a href=\"https://wandb.ai/unisg-ds-nlp/ASR/runs/okhfpg6i\" target=\"_blank\">unique-sweep-5</a></strong> to <a href=\"https://wandb.ai/unisg-ds-nlp/ASR\" target=\"_blank\">Weights & Biases</a> (<a href=\"https://wandb.me/run\" target=\"_blank\">docs</a>)<br/>Sweep page:  <a href=\"https://wandb.ai/unisg-ds-nlp/ASR/sweeps/v7qi12lc\" target=\"_blank\">https://wandb.ai/unisg-ds-nlp/ASR/sweeps/v7qi12lc</a>"
      ],
      "text/plain": [
       "<IPython.core.display.HTML object>"
      ]
     },
     "metadata": {},
     "output_type": "display_data"
    },
    {
     "name": "stderr",
     "output_type": "stream",
     "text": [
      "[NeMo W 2023-01-02 18:18:17 nemo_logging:349] /home/user/.local/lib/python3.9/site-packages/pytorch_lightning/loggers/wandb.py:352: UserWarning: There is a wandb run already in progress and newly created instances of `WandbLogger` will reuse this run. If this is not desired, call `wandb.finish()` before instantiating `WandbLogger`.\n",
      "      rank_zero_warn(\n",
      "    \n",
      "[NeMo W 2023-01-02 18:18:17 nemo_logging:349] /home/user/.local/lib/python3.9/site-packages/pytorch_lightning/trainer/connectors/accelerator_connector.py:447: LightningDeprecationWarning: Setting `Trainer(gpus=1)` is deprecated in v1.7 and will be removed in v2.0. Please use `Trainer(accelerator='gpu', devices=1)` instead.\n",
      "      rank_zero_deprecation(\n",
      "    \n",
      "GPU available: True (cuda), used: True\n",
      "TPU available: False, using: 0 TPU cores\n",
      "IPU available: False, using: 0 IPUs\n",
      "HPU available: False, using: 0 HPUs\n"
     ]
    },
    {
     "name": "stdout",
     "output_type": "stream",
     "text": [
      "[NeMo I 2023-01-02 18:18:19 cloud:56] Found existing object /home/user/.cache/torch/NeMo/NeMo_1.12.0/stt_de_citrinet_1024/8743e4cecb8017ca2b49a035e07b2893/stt_de_citrinet_1024.nemo.\n",
      "[NeMo I 2023-01-02 18:18:19 cloud:62] Re-using file from: /home/user/.cache/torch/NeMo/NeMo_1.12.0/stt_de_citrinet_1024/8743e4cecb8017ca2b49a035e07b2893/stt_de_citrinet_1024.nemo\n",
      "[NeMo I 2023-01-02 18:18:19 common:910] Instantiating model from pre-trained checkpoint\n",
      "[NeMo I 2023-01-02 18:18:24 mixins:170] Tokenizer SentencePieceTokenizer initialized with 1024 tokens\n"
     ]
    },
    {
     "name": "stderr",
     "output_type": "stream",
     "text": [
      "[NeMo W 2023-01-02 18:18:24 modelPT:142] If you intend to do training or fine-tuning, please call the ModelPT.setup_training_data() method and provide a valid configuration file to setup the train data loader.\n",
      "    Train config : \n",
      "    manifest_filepath: /data/train/tarred_audio_manifest.json\n",
      "    sample_rate: 16000\n",
      "    batch_size: 32\n",
      "    trim_silence: false\n",
      "    max_duration: 35.0\n",
      "    shuffle: true\n",
      "    is_tarred: true\n",
      "    tarred_audio_filepaths: /data/train/audio__OP_0..1023_CL_.tar\n",
      "    use_start_end_token: false\n",
      "    shuffle_n: 1024\n",
      "    num_workers: 16\n",
      "    pin_memory: true\n",
      "    \n",
      "[NeMo W 2023-01-02 18:18:24 modelPT:149] If you intend to do validation, please call the ModelPT.setup_validation_data() or ModelPT.setup_multiple_validation_data() method and provide a valid configuration file to setup the validation data loader(s). \n",
      "    Validation config : \n",
      "    manifest_filepath:\n",
      "    - /data/voxpopuli_de/dev/voxpopuli_dev_manifest.json\n",
      "    - /data/voxpopuli_de/test/voxpopuli_test_manifest.json\n",
      "    - /data/mcv7.0_de/mcv7.0_dev_manifest_cleaned.json\n",
      "    - /data/mcv7.0_de/mcv7.0_test_manifest_cleaned.json\n",
      "    - /data/mls_de/mls_dev_manifest_cleaned.json\n",
      "    - /data/mls_de/mls_test_manifest_cleaned.json\n",
      "    sample_rate: 16000\n",
      "    batch_size: 8\n",
      "    shuffle: false\n",
      "    use_start_end_token: false\n",
      "    num_workers: 8\n",
      "    pin_memory: true\n",
      "    \n",
      "[NeMo W 2023-01-02 18:18:24 modelPT:155] Please call the ModelPT.setup_test_data() or ModelPT.setup_multiple_test_data() method and provide a valid configuration file to setup the test data loader(s).\n",
      "    Test config : \n",
      "    manifest_filepath: null\n",
      "    sample_rate: 16000\n",
      "    batch_size: 32\n",
      "    shuffle: false\n",
      "    use_start_end_token: false\n",
      "    \n"
     ]
    },
    {
     "name": "stdout",
     "output_type": "stream",
     "text": [
      "[NeMo I 2023-01-02 18:18:24 features:225] PADDING: 16\n",
      "[NeMo I 2023-01-02 18:18:29 save_restore_connector:243] Model EncDecCTCModelBPE was successfully restored from /home/user/.cache/torch/NeMo/NeMo_1.12.0/stt_de_citrinet_1024/8743e4cecb8017ca2b49a035e07b2893/stt_de_citrinet_1024.nemo.\n",
      "[NeMo I 2023-01-02 18:18:29 collections:194] Dataset loaded with 1890 files totalling 7.41 hours\n",
      "[NeMo I 2023-01-02 18:18:29 collections:195] 0 files were filtered totalling 0.00 hours\n",
      "[NeMo I 2023-01-02 18:18:29 collections:194] Dataset loaded with 34 files totalling 0.13 hours\n",
      "[NeMo I 2023-01-02 18:18:29 collections:195] 0 files were filtered totalling 0.00 hours\n",
      "[NeMo I 2023-01-02 18:18:29 collections:194] Dataset loaded with 34 files totalling 0.14 hours\n",
      "[NeMo I 2023-01-02 18:18:29 collections:195] 0 files were filtered totalling 0.00 hours\n",
      "[NeMo I 2023-01-02 18:18:29 modelPT:597] Optimizer config = Novograd (\n",
      "    Parameter Group 0\n",
      "        amsgrad: False\n",
      "        betas: [0.8, 0.25]\n",
      "        eps: 1e-08\n",
      "        grad_averaging: False\n",
      "        lr: 0.001195863304589692\n",
      "        weight_decay: 0.001\n",
      "    )\n",
      "[NeMo I 2023-01-02 18:18:29 lr_scheduler:910] Scheduler \"<nemo.core.optim.lr_scheduler.CosineAnnealing object at 0x7f835ef57ac0>\" \n",
      "    will be used during training (effective maximum steps = 1185) - \n",
      "    Parameters : \n",
      "    (warmup_steps: 10000\n",
      "    warmup_ratio: null\n",
      "    min_lr: 1.0e-05\n",
      "    last_epoch: -1\n",
      "    max_steps: 1185\n",
      "    )\n"
     ]
    },
    {
     "name": "stderr",
     "output_type": "stream",
     "text": [
      "LOCAL_RANK: 0 - CUDA_VISIBLE_DEVICES: [0,1,2,3]\n"
     ]
    },
    {
     "name": "stdout",
     "output_type": "stream",
     "text": [
      "[NeMo I 2023-01-02 18:18:29 modelPT:597] Optimizer config = Novograd (\n",
      "    Parameter Group 0\n",
      "        amsgrad: False\n",
      "        betas: [0.8, 0.25]\n",
      "        eps: 1e-08\n",
      "        grad_averaging: False\n",
      "        lr: 0.001195863304589692\n",
      "        weight_decay: 0.001\n",
      "    )\n",
      "[NeMo I 2023-01-02 18:18:29 lr_scheduler:910] Scheduler \"<nemo.core.optim.lr_scheduler.CosineAnnealing object at 0x7f8387784df0>\" \n",
      "    will be used during training (effective maximum steps = 1185) - \n",
      "    Parameters : \n",
      "    (warmup_steps: 10000\n",
      "    warmup_ratio: null\n",
      "    min_lr: 1.0e-05\n",
      "    last_epoch: -1\n",
      "    max_steps: 1185\n",
      "    )\n"
     ]
    },
    {
     "name": "stderr",
     "output_type": "stream",
     "text": [
      "\n",
      "  | Name              | Type                              | Params\n",
      "------------------------------------------------------------------------\n",
      "0 | preprocessor      | AudioToMelSpectrogramPreprocessor | 0     \n",
      "1 | encoder           | ConvASREncoder                    | 140 M \n",
      "2 | decoder           | ConvASRDecoder                    | 1.1 M \n",
      "3 | loss              | CTCLoss                           | 0     \n",
      "4 | spec_augmentation | SpectrogramAugmentation           | 0     \n",
      "5 | _wer              | WERBPE                            | 0     \n",
      "------------------------------------------------------------------------\n",
      "141 M     Trainable params\n",
      "0         Non-trainable params\n",
      "141 M     Total params\n",
      "564.897   Total estimated model params size (MB)\n"
     ]
    },
    {
     "data": {
      "application/vnd.jupyter.widget-view+json": {
       "model_id": "1f3a70bf1a154519a8c31b9df4e8b71b",
       "version_major": 2,
       "version_minor": 0
      },
      "text/plain": [
       "Sanity Checking: 0it [00:00, ?it/s]"
      ]
     },
     "metadata": {},
     "output_type": "display_data"
    },
    {
     "name": "stdout",
     "output_type": "stream",
     "text": [
      "[NeMo I 2023-01-02 18:18:31 wer_bpe:187] \n",
      "    \n",
      "[NeMo I 2023-01-02 18:18:31 wer_bpe:188] reference:rangierfahrt vom gleis mike zwei drei ins drei drei antworten\n",
      "[NeMo I 2023-01-02 18:18:31 wer_bpe:189] predicted:prongierfahrt vom gleis maik zwei drei ins drei drei antworten\n",
      "[NeMo I 2023-01-02 18:18:32 wer_bpe:187] \n",
      "    \n",
      "[NeMo I 2023-01-02 18:18:32 wer_bpe:188] reference:spracheingabe\n",
      "[NeMo I 2023-01-02 18:18:32 wer_bpe:189] predicted:spracheingabe\n"
     ]
    },
    {
     "data": {
      "application/vnd.jupyter.widget-view+json": {
       "model_id": "6c48519b291c439196d453656b76610b",
       "version_major": 2,
       "version_minor": 0
      },
      "text/plain": [
       "Training: 0it [00:00, ?it/s]"
      ]
     },
     "metadata": {},
     "output_type": "display_data"
    },
    {
     "name": "stdout",
     "output_type": "stream",
     "text": [
      "[NeMo I 2023-01-02 18:19:02 wer_bpe:187] \n",
      "    \n",
      "[NeMo I 2023-01-02 18:19:02 wer_bpe:188] reference:rangierfahrt vom romeo sieben sechs ins gleis acht antworten\n",
      "[NeMo I 2023-01-02 18:19:02 wer_bpe:189] predicted:schierfahrs inacht\n",
      "[NeMo I 2023-01-02 18:19:28 wer_bpe:187] \n",
      "    \n",
      "[NeMo I 2023-01-02 18:19:28 wer_bpe:188] reference:umstellmanöver vom drei eins ins zulu fünf neun via acht drei antworten\n",
      "[NeMo I 2023-01-02 18:19:28 wer_bpe:189] predicted:umell man eins in zu wieacht teil mit\n",
      "[NeMo I 2023-01-02 18:19:55 wer_bpe:187] \n",
      "    \n",
      "[NeMo I 2023-01-02 18:19:55 wer_bpe:188] reference:rangierfahrt vom gleis romeo vier fünf nach gleis hotel zwei antworten\n",
      "[NeMo I 2023-01-02 18:19:55 wer_bpe:189] predicted:fahrt vom glas homeo vier fünf nach gleis hotels zwei antwort\n",
      "[NeMo I 2023-01-02 18:20:21 wer_bpe:187] \n",
      "    \n",
      "[NeMo I 2023-01-02 18:20:21 wer_bpe:188] reference:umstellmanöver von gleis neun vier ins gleis null fünf via gleis lima eins acht antworten\n",
      "[NeMo I 2023-01-02 18:20:21 wer_bpe:189] predicted:umstellmannever von gleis vier inswo syns li ableis lima eins acht antworten\n"
     ]
    },
    {
     "data": {
      "application/vnd.jupyter.widget-view+json": {
       "model_id": "9b04ca1d85714b8a8e76282e5df77cec",
       "version_major": 2,
       "version_minor": 0
      },
      "text/plain": [
       "Validation: 0it [00:00, ?it/s]"
      ]
     },
     "metadata": {},
     "output_type": "display_data"
    },
    {
     "name": "stdout",
     "output_type": "stream",
     "text": [
      "[NeMo I 2023-01-02 18:20:43 wer_bpe:187] \n",
      "    \n",
      "[NeMo I 2023-01-02 18:20:43 wer_bpe:188] reference:rangierfahrt vom gleis mike zwei drei ins drei drei antworten\n",
      "[NeMo I 2023-01-02 18:20:43 wer_bpe:189] predicted:rangierfahrt von gleis ma zwei drei ins drei drei also\n",
      "[NeMo I 2023-01-02 18:20:43 wer_bpe:187] \n",
      "    \n",
      "[NeMo I 2023-01-02 18:20:43 wer_bpe:188] reference:spracheingabe\n",
      "[NeMo I 2023-01-02 18:20:43 wer_bpe:189] predicted:sprach eingabe\n",
      "[NeMo I 2023-01-02 18:20:44 wer_bpe:187] \n",
      "    \n",
      "[NeMo I 2023-01-02 18:20:44 wer_bpe:188] reference:umstellmanöver vom drei sechs nach gleis xray vier sieben via null vier antworten\n",
      "[NeMo I 2023-01-02 18:20:44 wer_bpe:189] predicted:umstellmanöver vom drei sechs nach gleis ex ray vier sieben via null v antworten\n",
      "[NeMo I 2023-01-02 18:20:44 wer_bpe:187] \n",
      "    \n",
      "[NeMo I 2023-01-02 18:20:44 wer_bpe:188] reference:rangierfahrt von gleis sechs neun ins gleis delta sieben antworten\n",
      "[NeMo I 2023-01-02 18:20:44 wer_bpe:189] predicted:rangierfahrt von gleis sechs neun ins gleis delta sieben antworten\n",
      "[NeMo I 2023-01-02 18:20:44 wer_bpe:187] \n",
      "    \n",
      "[NeMo I 2023-01-02 18:20:44 wer_bpe:188] reference:umstellmanöver von charlie drei zwei via gleis victor sechs neun ins gleis golf zwei vier antworten\n",
      "[NeMo I 2023-01-02 18:20:44 wer_bpe:189] predicted:umstellmanöver von charley drei zwei via gleis ctor sechs neun ins gleis gol zwei vier antwort\n",
      "[NeMo I 2023-01-02 18:21:23 wer_bpe:187] \n",
      "    \n",
      "[NeMo I 2023-01-02 18:21:23 wer_bpe:188] reference:umstellmanöver vom nach zwei antworten\n",
      "[NeMo I 2023-01-02 18:21:23 wer_bpe:189] predicted:umellmanöver nach zwei antwort\n",
      "[NeMo I 2023-01-02 18:21:50 wer_bpe:187] \n",
      "    \n",
      "[NeMo I 2023-01-02 18:21:50 wer_bpe:188] reference:umstellmanöver von tango vier fünf via gleis sechs drei ins gleis acht eins antworten\n",
      "[NeMo I 2023-01-02 18:21:50 wer_bpe:189] predicted:umstellmanöver vom taier fünf via gleis sechs inss antworten\n",
      "[NeMo I 2023-01-02 18:22:16 wer_bpe:187] \n",
      "    \n",
      "[NeMo I 2023-01-02 18:22:16 wer_bpe:188] reference:rangierfahrt vom gleis drei drei nach gleis lima zwei acht antworten\n",
      "[NeMo I 2023-01-02 18:22:16 wer_bpe:189] predicted:rangierfahr vom gleis zwei drei nach gleis nieder zwei acht antworten\n",
      "[NeMo I 2023-01-02 18:22:43 wer_bpe:187] \n",
      "    \n",
      "[NeMo I 2023-01-02 18:22:43 wer_bpe:188] reference:rangierfahrt vom null zwei ins gleis kilo fünf null antworten\n",
      "[NeMo I 2023-01-02 18:22:43 wer_bpe:189] predicted:vierfahrt vom nulllei ins gleis kilo fünf null antworten\n"
     ]
    },
    {
     "data": {
      "application/vnd.jupyter.widget-view+json": {
       "model_id": "6206b619c5324f578b645eb100f79d8b",
       "version_major": 2,
       "version_minor": 0
      },
      "text/plain": [
       "Validation: 0it [00:00, ?it/s]"
      ]
     },
     "metadata": {},
     "output_type": "display_data"
    },
    {
     "name": "stdout",
     "output_type": "stream",
     "text": [
      "[NeMo I 2023-01-02 18:23:05 wer_bpe:187] \n",
      "    \n",
      "[NeMo I 2023-01-02 18:23:05 wer_bpe:188] reference:rangierfahrt vom gleis mike zwei drei ins drei drei antworten\n",
      "[NeMo I 2023-01-02 18:23:05 wer_bpe:189] predicted:rangierfahrt vom gleis mike zwei drei ins drei drei antworten\n",
      "[NeMo I 2023-01-02 18:23:05 wer_bpe:187] \n",
      "    \n",
      "[NeMo I 2023-01-02 18:23:05 wer_bpe:188] reference:spracheingabe\n",
      "[NeMo I 2023-01-02 18:23:05 wer_bpe:189] predicted:sprach eingabe\n",
      "[NeMo I 2023-01-02 18:23:05 wer_bpe:187] \n",
      "    \n",
      "[NeMo I 2023-01-02 18:23:05 wer_bpe:188] reference:umstellmanöver vom drei sechs nach gleis xray vier sieben via null vier antworten\n",
      "[NeMo I 2023-01-02 18:23:05 wer_bpe:189] predicted:umstellmanöver vom drei sechs nach gleis xray vier sieben via null vier antworten\n",
      "[NeMo I 2023-01-02 18:23:05 wer_bpe:187] \n",
      "    \n",
      "[NeMo I 2023-01-02 18:23:05 wer_bpe:188] reference:rangierfahrt von gleis sechs neun ins gleis delta sieben antworten\n",
      "[NeMo I 2023-01-02 18:23:05 wer_bpe:189] predicted:rangierfahrt von gleis sechs neun ins gleis delta sieben antworten\n",
      "[NeMo I 2023-01-02 18:23:05 wer_bpe:187] \n",
      "    \n",
      "[NeMo I 2023-01-02 18:23:05 wer_bpe:188] reference:umstellmanöver von charlie drei zwei via gleis victor sechs neun ins gleis golf zwei vier antworten\n",
      "[NeMo I 2023-01-02 18:23:05 wer_bpe:189] predicted:umstellmanöver von charlie drei zwei via gleis victor sechs neun ins gleis golf zwei vier antworten\n",
      "[NeMo I 2023-01-02 18:23:45 wer_bpe:187] \n",
      "    \n",
      "[NeMo I 2023-01-02 18:23:45 wer_bpe:188] reference:umstellmanöver von november neun nach fünf via gleis tango vier und romeo drei antworten\n",
      "[NeMo I 2023-01-02 18:23:45 wer_bpe:189] predicted:maöver von noember neun nach fünf via gleis tango vier und romemer drei antworten\n",
      "[NeMo I 2023-01-02 18:24:12 wer_bpe:187] \n",
      "    \n",
      "[NeMo I 2023-01-02 18:24:12 wer_bpe:188] reference:rangierfahrt vom gleis null null nach eins eins antworten\n",
      "[NeMo I 2023-01-02 18:24:12 wer_bpe:189] predicted:vier rangierfahrt von gleis null null nach eins eins antworten\n",
      "[NeMo I 2023-01-02 18:24:38 wer_bpe:187] \n",
      "    \n",
      "[NeMo I 2023-01-02 18:24:38 wer_bpe:188] reference:rangierfahrt vom victor null fünf nach gleis neun vier antworten\n",
      "[NeMo I 2023-01-02 18:24:38 wer_bpe:189] predicted:rangierfahrt vom v null fünf gleis neun vier antworten\n",
      "[NeMo I 2023-01-02 18:25:05 wer_bpe:187] \n",
      "    \n",
      "[NeMo I 2023-01-02 18:25:05 wer_bpe:188] reference:rangierfahrt von gleis drei null ins eins fünf antworten\n",
      "[NeMo I 2023-01-02 18:25:05 wer_bpe:189] predicted:rangierfahrt vonleis drei null eins fünf antworten\n"
     ]
    },
    {
     "data": {
      "application/vnd.jupyter.widget-view+json": {
       "model_id": "ca089943dea7473582af798b57c55605",
       "version_major": 2,
       "version_minor": 0
      },
      "text/plain": [
       "Validation: 0it [00:00, ?it/s]"
      ]
     },
     "metadata": {},
     "output_type": "display_data"
    },
    {
     "name": "stdout",
     "output_type": "stream",
     "text": [
      "[NeMo I 2023-01-02 18:25:27 wer_bpe:187] \n",
      "    \n",
      "[NeMo I 2023-01-02 18:25:27 wer_bpe:188] reference:rangierfahrt vom gleis mike zwei drei ins drei drei antworten\n",
      "[NeMo I 2023-01-02 18:25:27 wer_bpe:189] predicted:rangierfahrt vom gleis mike zwei drei ins drei drei antworten\n",
      "[NeMo I 2023-01-02 18:25:27 wer_bpe:187] \n",
      "    \n",
      "[NeMo I 2023-01-02 18:25:27 wer_bpe:188] reference:spracheingabe\n",
      "[NeMo I 2023-01-02 18:25:27 wer_bpe:189] predicted:sprach eingabe\n",
      "[NeMo I 2023-01-02 18:25:27 wer_bpe:187] \n",
      "    \n",
      "[NeMo I 2023-01-02 18:25:27 wer_bpe:188] reference:umstellmanöver vom drei sechs nach gleis xray vier sieben via null vier antworten\n",
      "[NeMo I 2023-01-02 18:25:27 wer_bpe:189] predicted:umstellmanöver vom drei sechs nach gleis xray vier sieben via null vier antworten\n",
      "[NeMo I 2023-01-02 18:25:27 wer_bpe:187] \n",
      "    \n",
      "[NeMo I 2023-01-02 18:25:27 wer_bpe:188] reference:rangierfahrt von gleis sechs neun ins gleis delta sieben antworten\n",
      "[NeMo I 2023-01-02 18:25:27 wer_bpe:189] predicted:rangierfahrt von gleis sechs neun ins gleis delta sieben antworten\n",
      "[NeMo I 2023-01-02 18:25:27 wer_bpe:187] \n",
      "    \n",
      "[NeMo I 2023-01-02 18:25:27 wer_bpe:188] reference:umstellmanöver von charlie drei zwei via gleis victor sechs neun ins gleis golf zwei vier antworten\n",
      "[NeMo I 2023-01-02 18:25:27 wer_bpe:189] predicted:umstellmanöver von charlie drei zwei via gleis victor sechs neun ins gleis golf zwei vier antworten\n",
      "[NeMo I 2023-01-02 18:26:07 wer_bpe:187] \n",
      "    \n",
      "[NeMo I 2023-01-02 18:26:07 wer_bpe:188] reference:umstellmanöver von gleis xray neun vier via vier sieben ins gleis india vier fünf antworten\n",
      "[NeMo I 2023-01-02 18:26:07 wer_bpe:189] predicted:umstellmanöver g gleis xray neun vier via v sie ins gleis india vier fünf antworten\n",
      "[NeMo I 2023-01-02 18:26:34 wer_bpe:187] \n",
      "    \n",
      "[NeMo I 2023-01-02 18:26:34 wer_bpe:188] reference:rangierfahrt von fünf zwei nach gleis lima sieben zwei antworten\n",
      "[NeMo I 2023-01-02 18:26:34 wer_bpe:189] predicted:ngier vom fünflei nach glei lima vom \n",
      "[NeMo I 2023-01-02 18:27:00 wer_bpe:187] \n",
      "    \n",
      "[NeMo I 2023-01-02 18:27:00 wer_bpe:188] reference:dazu ist demokratie erforderlich\n",
      "[NeMo I 2023-01-02 18:27:00 wer_bpe:189] predicted:dafür demokratie erfordlich\n",
      "[NeMo I 2023-01-02 18:27:27 wer_bpe:187] \n",
      "    \n",
      "[NeMo I 2023-01-02 18:27:27 wer_bpe:188] reference:rangierfahrt vom gleis romeo vier fünf nach gleis hotel zwei antworten\n",
      "[NeMo I 2023-01-02 18:27:27 wer_bpe:189] predicted:rangierfahrtleis romeo vier fünf nach gleis hotel zwei antworten\n"
     ]
    },
    {
     "data": {
      "application/vnd.jupyter.widget-view+json": {
       "model_id": "bd02696d5cf9480da02270bc789c7540",
       "version_major": 2,
       "version_minor": 0
      },
      "text/plain": [
       "Validation: 0it [00:00, ?it/s]"
      ]
     },
     "metadata": {},
     "output_type": "display_data"
    },
    {
     "name": "stdout",
     "output_type": "stream",
     "text": [
      "[NeMo I 2023-01-02 18:27:49 wer_bpe:187] \n",
      "    \n",
      "[NeMo I 2023-01-02 18:27:49 wer_bpe:188] reference:rangierfahrt vom gleis mike zwei drei ins drei drei antworten\n",
      "[NeMo I 2023-01-02 18:27:49 wer_bpe:189] predicted:rangierfahrt vom gleis mike zwei drei ins drei drei antworten\n",
      "[NeMo I 2023-01-02 18:27:49 wer_bpe:187] \n",
      "    \n",
      "[NeMo I 2023-01-02 18:27:49 wer_bpe:188] reference:spracheingabe\n",
      "[NeMo I 2023-01-02 18:27:49 wer_bpe:189] predicted:spracheingabe\n",
      "[NeMo I 2023-01-02 18:27:49 wer_bpe:187] \n",
      "    \n",
      "[NeMo I 2023-01-02 18:27:49 wer_bpe:188] reference:umstellmanöver vom drei sechs nach gleis xray vier sieben via null vier antworten\n",
      "[NeMo I 2023-01-02 18:27:49 wer_bpe:189] predicted:umstellmanöver vom drei sechs nach gleis xray vier sieben via null vier antworten\n",
      "[NeMo I 2023-01-02 18:27:49 wer_bpe:187] \n",
      "    \n",
      "[NeMo I 2023-01-02 18:27:49 wer_bpe:188] reference:rangierfahrt von gleis sechs neun ins gleis delta sieben antworten\n",
      "[NeMo I 2023-01-02 18:27:49 wer_bpe:189] predicted:rangierfahrt von gleis sechs neun ins gleis delta sieben antworten\n",
      "[NeMo I 2023-01-02 18:27:49 wer_bpe:187] \n",
      "    \n",
      "[NeMo I 2023-01-02 18:27:49 wer_bpe:188] reference:umstellmanöver von charlie drei zwei via gleis victor sechs neun ins gleis golf zwei vier antworten\n",
      "[NeMo I 2023-01-02 18:27:49 wer_bpe:189] predicted:umstellmanöver von charlie drei zwei via gleis victor sechs neun ins gleis golf zwei vier antworten\n",
      "[NeMo I 2023-01-02 18:28:32 wer_bpe:187] \n",
      "    \n",
      "[NeMo I 2023-01-02 18:28:32 wer_bpe:188] reference:umstellmanöver vom vier via sieben eins ins neun fünf antworten\n",
      "[NeMo I 2023-01-02 18:28:32 wer_bpe:189] predicted:umstellmanöver vom vier via sieben eins ins in fünf antworten\n",
      "[NeMo I 2023-01-02 18:28:59 wer_bpe:187] \n",
      "    \n",
      "[NeMo I 2023-01-02 18:28:59 wer_bpe:188] reference:umstellmanöver vom kilo fünf sieben nach sechs zwei via gleis neun sechs antworten\n",
      "[NeMo I 2023-01-02 18:28:59 wer_bpe:189] predicted:umstellmanöver vom ko fünf v sechs zwei via gleis neu sech sofahr antwort\n",
      "[NeMo I 2023-01-02 18:29:25 wer_bpe:187] \n",
      "    \n",
      "[NeMo I 2023-01-02 18:29:25 wer_bpe:188] reference:umstellmanöver vom eins eins via gleis quebec acht vier ins neun antworten\n",
      "[NeMo I 2023-01-02 18:29:25 wer_bpe:189] predicted:umstellmanöver vom eins eins via gleis quebec g vier ins neun antworten\n",
      "[NeMo I 2023-01-02 18:29:52 wer_bpe:187] \n",
      "    \n",
      "[NeMo I 2023-01-02 18:29:52 wer_bpe:188] reference:rangierfahrt von uniform neun nach sechs vier antworten\n",
      "[NeMo I 2023-01-02 18:29:52 wer_bpe:189] predicted:rangierfahrt von uniform neun nach sechs vier antworten\n"
     ]
    },
    {
     "data": {
      "application/vnd.jupyter.widget-view+json": {
       "model_id": "dfa689dcce7e4c36a66f5e80ad206119",
       "version_major": 2,
       "version_minor": 0
      },
      "text/plain": [
       "Validation: 0it [00:00, ?it/s]"
      ]
     },
     "metadata": {},
     "output_type": "display_data"
    },
    {
     "name": "stdout",
     "output_type": "stream",
     "text": [
      "[NeMo I 2023-01-02 18:30:14 wer_bpe:187] \n",
      "    \n",
      "[NeMo I 2023-01-02 18:30:14 wer_bpe:188] reference:rangierfahrt vom gleis mike zwei drei ins drei drei antworten\n",
      "[NeMo I 2023-01-02 18:30:14 wer_bpe:189] predicted:rangierfahrt vom gleis mike zwei drei ins drei drei antworten\n",
      "[NeMo I 2023-01-02 18:30:14 wer_bpe:187] \n",
      "    \n",
      "[NeMo I 2023-01-02 18:30:14 wer_bpe:188] reference:spracheingabe\n",
      "[NeMo I 2023-01-02 18:30:14 wer_bpe:189] predicted:spracheingabe\n",
      "[NeMo I 2023-01-02 18:30:14 wer_bpe:187] \n",
      "    \n",
      "[NeMo I 2023-01-02 18:30:14 wer_bpe:188] reference:umstellmanöver vom drei sechs nach gleis xray vier sieben via null vier antworten\n",
      "[NeMo I 2023-01-02 18:30:14 wer_bpe:189] predicted:umstellmanöver vom drei sechs nach gleis xray vier sieben via null vier antworten\n",
      "[NeMo I 2023-01-02 18:30:14 wer_bpe:187] \n",
      "    \n",
      "[NeMo I 2023-01-02 18:30:14 wer_bpe:188] reference:rangierfahrt von gleis sechs neun ins gleis delta sieben antworten\n",
      "[NeMo I 2023-01-02 18:30:14 wer_bpe:189] predicted:rangierfahrt von gleis sechs neun ins gleis delta sieben antworten\n",
      "[NeMo I 2023-01-02 18:30:15 wer_bpe:187] \n",
      "    \n",
      "[NeMo I 2023-01-02 18:30:15 wer_bpe:188] reference:umstellmanöver von charlie drei zwei via gleis victor sechs neun ins gleis golf zwei vier antworten\n",
      "[NeMo I 2023-01-02 18:30:15 wer_bpe:189] predicted:umstellmanöver von charlie drei zwei via gleis victor sechs neun ins gleis golf zwei vier antworten\n"
     ]
    },
    {
     "name": "stderr",
     "output_type": "stream",
     "text": [
      "`Trainer.fit` stopped: `max_epochs=5` reached.\n"
     ]
    },
    {
     "data": {
      "text/html": [
       "Waiting for W&B process to finish... <strong style=\"color:green\">(success).</strong>"
      ],
      "text/plain": [
       "<IPython.core.display.HTML object>"
      ]
     },
     "metadata": {},
     "output_type": "display_data"
    },
    {
     "data": {
      "text/html": [
       "<style>\n",
       "    table.wandb td:nth-child(1) { padding: 0 10px; text-align: left ; width: auto;} td:nth-child(2) {text-align: left ; width: 100%}\n",
       "    .wandb-row { display: flex; flex-direction: row; flex-wrap: wrap; justify-content: flex-start; width: 100% }\n",
       "    .wandb-col { display: flex; flex-direction: column; flex-basis: 100%; flex: 1; padding: 10px; }\n",
       "    </style>\n",
       "<div class=\"wandb-row\"><div class=\"wandb-col\"><h3>Run history:</h3><br/><table class=\"wandb\"><tr><td>epoch</td><td>▁▁▁▁▁▃▃▃▃▃▃▅▅▅▅▅▅▆▆▆▆▆██████</td></tr><tr><td>global_step</td><td>▁▁▂▂▂▂▃▃▃▃▄▄▄▄▅▅▅▅▆▆▆▇▇▇▇▇██</td></tr><tr><td>learning_rate</td><td>▁▁▂▂▂▃▃▃▄▄▄▄▅▅▅▆▆▆▇▇▇██</td></tr><tr><td>train_loss</td><td>█▆▄▅▆▄▃▃▂▂▃▃▃▃▂▂▃▁▂▂▁▁▁</td></tr><tr><td>trainer/global_step</td><td>▁▁▂▂▂▂▃▃▃▃▄▄▄▄▅▅▅▅▆▆▆▇▇▇▇▇██</td></tr><tr><td>training_batch_wer</td><td>█▇▆▆▄▄▃▃▁▄▂▂▂▂▁▃▃▁▁</td></tr><tr><td>val_loss</td><td>█▂▂▁▁</td></tr><tr><td>val_wer</td><td>█▃▂▁▁</td></tr></table><br/></div><div class=\"wandb-col\"><h3>Run summary:</h3><br/><table class=\"wandb\"><tr><td>epoch</td><td>4</td></tr><tr><td>global_step</td><td>1185.0</td></tr><tr><td>learning_rate</td><td>0.00014</td></tr><tr><td>train_loss</td><td>7.22004</td></tr><tr><td>trainer/global_step</td><td>1184</td></tr><tr><td>training_batch_wer</td><td>0.23158</td></tr><tr><td>val_loss</td><td>1.53391</td></tr><tr><td>val_wer</td><td>0.01828</td></tr></table><br/></div></div>"
      ],
      "text/plain": [
       "<IPython.core.display.HTML object>"
      ]
     },
     "metadata": {},
     "output_type": "display_data"
    },
    {
     "data": {
      "text/html": [
       "Synced <strong style=\"color:#cdcd00\">unique-sweep-5</strong>: <a href=\"https://wandb.ai/unisg-ds-nlp/ASR/runs/okhfpg6i\" target=\"_blank\">https://wandb.ai/unisg-ds-nlp/ASR/runs/okhfpg6i</a><br/>Synced 5 W&B file(s), 0 media file(s), 5 artifact file(s) and 0 other file(s)"
      ],
      "text/plain": [
       "<IPython.core.display.HTML object>"
      ]
     },
     "metadata": {},
     "output_type": "display_data"
    },
    {
     "data": {
      "text/html": [
       "Find logs at: <code>./wandb/run-20230102_181816-okhfpg6i/logs</code>"
      ],
      "text/plain": [
       "<IPython.core.display.HTML object>"
      ]
     },
     "metadata": {},
     "output_type": "display_data"
    },
    {
     "name": "stderr",
     "output_type": "stream",
     "text": [
      "\u001b[34m\u001b[1mwandb\u001b[0m: Agent Starting Run: ai7ba7qh with config:\n",
      "\u001b[34m\u001b[1mwandb\u001b[0m: \tepoch: 6\n",
      "\u001b[34m\u001b[1mwandb\u001b[0m: \tfreq_width: 25.3492391388578\n",
      "\u001b[34m\u001b[1mwandb\u001b[0m: \tlr: 0.0029319001833792444\n",
      "Failed to detect the name of this notebook, you can set it manually with the WANDB_NOTEBOOK_NAME environment variable to enable code saving.\n"
     ]
    },
    {
     "data": {
      "text/html": [
       "wandb version 0.13.7 is available!  To upgrade, please run:\n",
       " $ pip install wandb --upgrade"
      ],
      "text/plain": [
       "<IPython.core.display.HTML object>"
      ]
     },
     "metadata": {},
     "output_type": "display_data"
    },
    {
     "data": {
      "text/html": [
       "Tracking run with wandb version 0.13.4"
      ],
      "text/plain": [
       "<IPython.core.display.HTML object>"
      ]
     },
     "metadata": {},
     "output_type": "display_data"
    },
    {
     "data": {
      "text/html": [
       "Run data is saved locally in <code>/home/user/code/sbb_asr/notebooks/wandb/run-20230102_183100-ai7ba7qh</code>"
      ],
      "text/plain": [
       "<IPython.core.display.HTML object>"
      ]
     },
     "metadata": {},
     "output_type": "display_data"
    },
    {
     "data": {
      "text/html": [
       "Syncing run <strong><a href=\"https://wandb.ai/unisg-ds-nlp/ASR/runs/ai7ba7qh\" target=\"_blank\">autumn-sweep-6</a></strong> to <a href=\"https://wandb.ai/unisg-ds-nlp/ASR\" target=\"_blank\">Weights & Biases</a> (<a href=\"https://wandb.me/run\" target=\"_blank\">docs</a>)<br/>Sweep page:  <a href=\"https://wandb.ai/unisg-ds-nlp/ASR/sweeps/v7qi12lc\" target=\"_blank\">https://wandb.ai/unisg-ds-nlp/ASR/sweeps/v7qi12lc</a>"
      ],
      "text/plain": [
       "<IPython.core.display.HTML object>"
      ]
     },
     "metadata": {},
     "output_type": "display_data"
    },
    {
     "name": "stderr",
     "output_type": "stream",
     "text": [
      "[NeMo W 2023-01-02 18:31:01 nemo_logging:349] /home/user/.local/lib/python3.9/site-packages/pytorch_lightning/loggers/wandb.py:352: UserWarning: There is a wandb run already in progress and newly created instances of `WandbLogger` will reuse this run. If this is not desired, call `wandb.finish()` before instantiating `WandbLogger`.\n",
      "      rank_zero_warn(\n",
      "    \n",
      "[NeMo W 2023-01-02 18:31:01 nemo_logging:349] /home/user/.local/lib/python3.9/site-packages/pytorch_lightning/trainer/connectors/accelerator_connector.py:447: LightningDeprecationWarning: Setting `Trainer(gpus=1)` is deprecated in v1.7 and will be removed in v2.0. Please use `Trainer(accelerator='gpu', devices=1)` instead.\n",
      "      rank_zero_deprecation(\n",
      "    \n",
      "GPU available: True (cuda), used: True\n",
      "TPU available: False, using: 0 TPU cores\n",
      "IPU available: False, using: 0 IPUs\n",
      "HPU available: False, using: 0 HPUs\n"
     ]
    },
    {
     "name": "stdout",
     "output_type": "stream",
     "text": [
      "[NeMo I 2023-01-02 18:31:03 cloud:56] Found existing object /home/user/.cache/torch/NeMo/NeMo_1.12.0/stt_de_citrinet_1024/8743e4cecb8017ca2b49a035e07b2893/stt_de_citrinet_1024.nemo.\n",
      "[NeMo I 2023-01-02 18:31:03 cloud:62] Re-using file from: /home/user/.cache/torch/NeMo/NeMo_1.12.0/stt_de_citrinet_1024/8743e4cecb8017ca2b49a035e07b2893/stt_de_citrinet_1024.nemo\n",
      "[NeMo I 2023-01-02 18:31:03 common:910] Instantiating model from pre-trained checkpoint\n",
      "[NeMo I 2023-01-02 18:31:08 mixins:170] Tokenizer SentencePieceTokenizer initialized with 1024 tokens\n"
     ]
    },
    {
     "name": "stderr",
     "output_type": "stream",
     "text": [
      "[NeMo W 2023-01-02 18:31:09 modelPT:142] If you intend to do training or fine-tuning, please call the ModelPT.setup_training_data() method and provide a valid configuration file to setup the train data loader.\n",
      "    Train config : \n",
      "    manifest_filepath: /data/train/tarred_audio_manifest.json\n",
      "    sample_rate: 16000\n",
      "    batch_size: 32\n",
      "    trim_silence: false\n",
      "    max_duration: 35.0\n",
      "    shuffle: true\n",
      "    is_tarred: true\n",
      "    tarred_audio_filepaths: /data/train/audio__OP_0..1023_CL_.tar\n",
      "    use_start_end_token: false\n",
      "    shuffle_n: 1024\n",
      "    num_workers: 16\n",
      "    pin_memory: true\n",
      "    \n",
      "[NeMo W 2023-01-02 18:31:09 modelPT:149] If you intend to do validation, please call the ModelPT.setup_validation_data() or ModelPT.setup_multiple_validation_data() method and provide a valid configuration file to setup the validation data loader(s). \n",
      "    Validation config : \n",
      "    manifest_filepath:\n",
      "    - /data/voxpopuli_de/dev/voxpopuli_dev_manifest.json\n",
      "    - /data/voxpopuli_de/test/voxpopuli_test_manifest.json\n",
      "    - /data/mcv7.0_de/mcv7.0_dev_manifest_cleaned.json\n",
      "    - /data/mcv7.0_de/mcv7.0_test_manifest_cleaned.json\n",
      "    - /data/mls_de/mls_dev_manifest_cleaned.json\n",
      "    - /data/mls_de/mls_test_manifest_cleaned.json\n",
      "    sample_rate: 16000\n",
      "    batch_size: 8\n",
      "    shuffle: false\n",
      "    use_start_end_token: false\n",
      "    num_workers: 8\n",
      "    pin_memory: true\n",
      "    \n",
      "[NeMo W 2023-01-02 18:31:09 modelPT:155] Please call the ModelPT.setup_test_data() or ModelPT.setup_multiple_test_data() method and provide a valid configuration file to setup the test data loader(s).\n",
      "    Test config : \n",
      "    manifest_filepath: null\n",
      "    sample_rate: 16000\n",
      "    batch_size: 32\n",
      "    shuffle: false\n",
      "    use_start_end_token: false\n",
      "    \n"
     ]
    },
    {
     "name": "stdout",
     "output_type": "stream",
     "text": [
      "[NeMo I 2023-01-02 18:31:09 features:225] PADDING: 16\n",
      "[NeMo I 2023-01-02 18:31:14 save_restore_connector:243] Model EncDecCTCModelBPE was successfully restored from /home/user/.cache/torch/NeMo/NeMo_1.12.0/stt_de_citrinet_1024/8743e4cecb8017ca2b49a035e07b2893/stt_de_citrinet_1024.nemo.\n",
      "[NeMo I 2023-01-02 18:31:14 collections:194] Dataset loaded with 1890 files totalling 7.41 hours\n",
      "[NeMo I 2023-01-02 18:31:14 collections:195] 0 files were filtered totalling 0.00 hours\n",
      "[NeMo I 2023-01-02 18:31:14 collections:194] Dataset loaded with 34 files totalling 0.13 hours\n",
      "[NeMo I 2023-01-02 18:31:14 collections:195] 0 files were filtered totalling 0.00 hours\n",
      "[NeMo I 2023-01-02 18:31:14 collections:194] Dataset loaded with 34 files totalling 0.14 hours\n",
      "[NeMo I 2023-01-02 18:31:14 collections:195] 0 files were filtered totalling 0.00 hours\n",
      "[NeMo I 2023-01-02 18:31:14 modelPT:597] Optimizer config = Novograd (\n",
      "    Parameter Group 0\n",
      "        amsgrad: False\n",
      "        betas: [0.8, 0.25]\n",
      "        eps: 1e-08\n",
      "        grad_averaging: False\n",
      "        lr: 0.0029319001833792444\n",
      "        weight_decay: 0.001\n",
      "    )\n",
      "[NeMo I 2023-01-02 18:31:14 lr_scheduler:910] Scheduler \"<nemo.core.optim.lr_scheduler.CosineAnnealing object at 0x7f835e900940>\" \n",
      "    will be used during training (effective maximum steps = 1422) - \n",
      "    Parameters : \n",
      "    (warmup_steps: 10000\n",
      "    warmup_ratio: null\n",
      "    min_lr: 1.0e-05\n",
      "    last_epoch: -1\n",
      "    max_steps: 1422\n",
      "    )\n"
     ]
    },
    {
     "name": "stderr",
     "output_type": "stream",
     "text": [
      "LOCAL_RANK: 0 - CUDA_VISIBLE_DEVICES: [0,1,2,3]\n"
     ]
    },
    {
     "name": "stdout",
     "output_type": "stream",
     "text": [
      "[NeMo I 2023-01-02 18:31:15 modelPT:597] Optimizer config = Novograd (\n",
      "    Parameter Group 0\n",
      "        amsgrad: False\n",
      "        betas: [0.8, 0.25]\n",
      "        eps: 1e-08\n",
      "        grad_averaging: False\n",
      "        lr: 0.0029319001833792444\n",
      "        weight_decay: 0.001\n",
      "    )\n",
      "[NeMo I 2023-01-02 18:31:15 lr_scheduler:910] Scheduler \"<nemo.core.optim.lr_scheduler.CosineAnnealing object at 0x7f83870894c0>\" \n",
      "    will be used during training (effective maximum steps = 1422) - \n",
      "    Parameters : \n",
      "    (warmup_steps: 10000\n",
      "    warmup_ratio: null\n",
      "    min_lr: 1.0e-05\n",
      "    last_epoch: -1\n",
      "    max_steps: 1422\n",
      "    )\n"
     ]
    },
    {
     "name": "stderr",
     "output_type": "stream",
     "text": [
      "\n",
      "  | Name              | Type                              | Params\n",
      "------------------------------------------------------------------------\n",
      "0 | preprocessor      | AudioToMelSpectrogramPreprocessor | 0     \n",
      "1 | encoder           | ConvASREncoder                    | 140 M \n",
      "2 | decoder           | ConvASRDecoder                    | 1.1 M \n",
      "3 | loss              | CTCLoss                           | 0     \n",
      "4 | spec_augmentation | SpectrogramAugmentation           | 0     \n",
      "5 | _wer              | WERBPE                            | 0     \n",
      "------------------------------------------------------------------------\n",
      "141 M     Trainable params\n",
      "0         Non-trainable params\n",
      "141 M     Total params\n",
      "564.897   Total estimated model params size (MB)\n"
     ]
    },
    {
     "data": {
      "application/vnd.jupyter.widget-view+json": {
       "model_id": "0366ad33f5804beaa4f886d098385926",
       "version_major": 2,
       "version_minor": 0
      },
      "text/plain": [
       "Sanity Checking: 0it [00:00, ?it/s]"
      ]
     },
     "metadata": {},
     "output_type": "display_data"
    },
    {
     "name": "stdout",
     "output_type": "stream",
     "text": [
      "[NeMo I 2023-01-02 18:31:16 wer_bpe:187] \n",
      "    \n",
      "[NeMo I 2023-01-02 18:31:16 wer_bpe:188] reference:rangierfahrt vom gleis mike zwei drei ins drei drei antworten\n",
      "[NeMo I 2023-01-02 18:31:16 wer_bpe:189] predicted:prongierfahrt vom gleis maik zwei drei ins drei drei antworten\n",
      "[NeMo I 2023-01-02 18:31:17 wer_bpe:187] \n",
      "    \n",
      "[NeMo I 2023-01-02 18:31:17 wer_bpe:188] reference:spracheingabe\n",
      "[NeMo I 2023-01-02 18:31:17 wer_bpe:189] predicted:spracheingabe\n"
     ]
    },
    {
     "data": {
      "application/vnd.jupyter.widget-view+json": {
       "model_id": "2e62c56296f24098aeaf8c938928b221",
       "version_major": 2,
       "version_minor": 0
      },
      "text/plain": [
       "Training: 0it [00:00, ?it/s]"
      ]
     },
     "metadata": {},
     "output_type": "display_data"
    },
    {
     "name": "stdout",
     "output_type": "stream",
     "text": [
      "[NeMo I 2023-01-02 18:31:47 wer_bpe:187] \n",
      "    \n",
      "[NeMo I 2023-01-02 18:31:47 wer_bpe:188] reference:umstellmanöver vom acht acht via zwei null ins alpha fünf vier antworten\n",
      "[NeMo I 2023-01-02 18:31:47 wer_bpe:189] predicted:\n",
      "[NeMo I 2023-01-02 18:32:13 wer_bpe:187] \n",
      "    \n",
      "[NeMo I 2023-01-02 18:32:13 wer_bpe:188] reference:rangierfahrt von gleis mike acht zwei nach gleis juliet null drei antworten\n",
      "[NeMo I 2023-01-02 18:32:13 wer_bpe:189] predicted:rangchierfahrt von gleis me zwei t juliet null dreiten\n",
      "[NeMo I 2023-01-02 18:32:39 wer_bpe:187] \n",
      "    \n",
      "[NeMo I 2023-01-02 18:32:39 wer_bpe:188] reference:umstellmanöver vom lima sechs via uniform sechs und sieben ins zwei antworten\n",
      "[NeMo I 2023-01-02 18:32:39 wer_bpe:189] predicted:nie ja\n",
      "[NeMo I 2023-01-02 18:33:06 wer_bpe:187] \n",
      "    \n",
      "[NeMo I 2023-01-02 18:33:06 wer_bpe:188] reference:umstellmanöver von gleis vier drei via gleis drei neun ins vier sieben antworten\n",
      "[NeMo I 2023-01-02 18:33:06 wer_bpe:189] predicted:mit sie sehr stmaöswandnal ra baufähig so sie\n"
     ]
    },
    {
     "data": {
      "application/vnd.jupyter.widget-view+json": {
       "model_id": "397975caa1a1463d8ca75d97605ed7d0",
       "version_major": 2,
       "version_minor": 0
      },
      "text/plain": [
       "Validation: 0it [00:00, ?it/s]"
      ]
     },
     "metadata": {},
     "output_type": "display_data"
    },
    {
     "name": "stdout",
     "output_type": "stream",
     "text": [
      "[NeMo I 2023-01-02 18:33:28 wer_bpe:187] \n",
      "    \n",
      "[NeMo I 2023-01-02 18:33:28 wer_bpe:188] reference:rangierfahrt vom gleis mike zwei drei ins drei drei antworten\n",
      "[NeMo I 2023-01-02 18:33:28 wer_bpe:189] predicted:rangierfahrt vom gleis miik zwei drei ins drei drei antworten\n",
      "[NeMo I 2023-01-02 18:33:28 wer_bpe:187] \n",
      "    \n",
      "[NeMo I 2023-01-02 18:33:28 wer_bpe:188] reference:spracheingabe\n",
      "[NeMo I 2023-01-02 18:33:28 wer_bpe:189] predicted:sprach eingabe\n",
      "[NeMo I 2023-01-02 18:33:28 wer_bpe:187] \n",
      "    \n",
      "[NeMo I 2023-01-02 18:33:28 wer_bpe:188] reference:umstellmanöver vom drei sechs nach gleis xray vier sieben via null vier antworten\n",
      "[NeMo I 2023-01-02 18:33:28 wer_bpe:189] predicted:umstellmanöver vom drei sechs nach gleis xray vier sieben via null vier antworten\n",
      "[NeMo I 2023-01-02 18:33:28 wer_bpe:187] \n",
      "    \n",
      "[NeMo I 2023-01-02 18:33:28 wer_bpe:188] reference:rangierfahrt von gleis sechs neun ins gleis delta sieben antworten\n",
      "[NeMo I 2023-01-02 18:33:28 wer_bpe:189] predicted:rangierfahrt von gleis sechs neun ins gleis delta sieben antworten\n",
      "[NeMo I 2023-01-02 18:33:28 wer_bpe:187] \n",
      "    \n",
      "[NeMo I 2023-01-02 18:33:28 wer_bpe:188] reference:umstellmanöver von charlie drei zwei via gleis victor sechs neun ins gleis golf zwei vier antworten\n",
      "[NeMo I 2023-01-02 18:33:28 wer_bpe:189] predicted:umstellmanöver von charliy drei zwei via gleis victor sechs neun ins gleis golf zwei vier antwort\n",
      "[NeMo I 2023-01-02 18:34:08 wer_bpe:187] \n",
      "    \n",
      "[NeMo I 2023-01-02 18:34:08 wer_bpe:188] reference:umstellmanöver vom gleis sierra eins vier nach gleis hotel null eins via golf neun acht antworten\n",
      "[NeMo I 2023-01-02 18:34:08 wer_bpe:189] predicted:umstellmanöver voms sierra eins nach gleis hotel null eins v golf neun acht antworten\n",
      "[NeMo I 2023-01-02 18:34:34 wer_bpe:187] \n",
      "    \n",
      "[NeMo I 2023-01-02 18:34:34 wer_bpe:188] reference:umstellmanöver vom null vier via sechs drei ins gleis sieben null antworten\n",
      "[NeMo I 2023-01-02 18:34:34 wer_bpe:189] predicted:umstellläfe vom nullia sechs drei ins gleis sie antworten\n",
      "[NeMo I 2023-01-02 18:35:01 wer_bpe:187] \n",
      "    \n",
      "[NeMo I 2023-01-02 18:35:01 wer_bpe:188] reference:rangierfahrt vom gleis zwei zwei ins null sechs antworten\n",
      "[NeMo I 2023-01-02 18:35:01 wer_bpe:189] predicted:rangierfahrt voms zwei zwei ins null sechs antworten\n",
      "[NeMo I 2023-01-02 18:35:27 wer_bpe:187] \n",
      "    \n",
      "[NeMo I 2023-01-02 18:35:27 wer_bpe:188] reference:umstellmanöver von gleis sechs acht nach gleis acht sechs via sierra sechs fünf antworten\n",
      "[NeMo I 2023-01-02 18:35:27 wer_bpe:189] predicted:umstellmanöver von gleis sechs acht nach gleis acht sechs ias sechsc antworten\n"
     ]
    },
    {
     "data": {
      "application/vnd.jupyter.widget-view+json": {
       "model_id": "8c80dd30a22b4097a07df23be37b4e7f",
       "version_major": 2,
       "version_minor": 0
      },
      "text/plain": [
       "Validation: 0it [00:00, ?it/s]"
      ]
     },
     "metadata": {},
     "output_type": "display_data"
    },
    {
     "name": "stdout",
     "output_type": "stream",
     "text": [
      "[NeMo I 2023-01-02 18:35:49 wer_bpe:187] \n",
      "    \n",
      "[NeMo I 2023-01-02 18:35:49 wer_bpe:188] reference:rangierfahrt vom gleis mike zwei drei ins drei drei antworten\n",
      "[NeMo I 2023-01-02 18:35:49 wer_bpe:189] predicted:rangierfahrt vom gleis mike zwei drei ins drei drei antworten\n",
      "[NeMo I 2023-01-02 18:35:49 wer_bpe:187] \n",
      "    \n",
      "[NeMo I 2023-01-02 18:35:49 wer_bpe:188] reference:spracheingabe\n",
      "[NeMo I 2023-01-02 18:35:49 wer_bpe:189] predicted:spracheingabe\n",
      "[NeMo I 2023-01-02 18:35:49 wer_bpe:187] \n",
      "    \n",
      "[NeMo I 2023-01-02 18:35:49 wer_bpe:188] reference:umstellmanöver vom drei sechs nach gleis xray vier sieben via null vier antworten\n",
      "[NeMo I 2023-01-02 18:35:49 wer_bpe:189] predicted:umstellmanöver vom drei sechs nach gleis xray vier sieben via null vier antworten\n",
      "[NeMo I 2023-01-02 18:35:49 wer_bpe:187] \n",
      "    \n",
      "[NeMo I 2023-01-02 18:35:49 wer_bpe:188] reference:rangierfahrt von gleis sechs neun ins gleis delta sieben antworten\n",
      "[NeMo I 2023-01-02 18:35:49 wer_bpe:189] predicted:rangierfahrt von gleis sechs neun ins gleis delta sieben antworten\n",
      "[NeMo I 2023-01-02 18:35:49 wer_bpe:187] \n",
      "    \n",
      "[NeMo I 2023-01-02 18:35:49 wer_bpe:188] reference:umstellmanöver von charlie drei zwei via gleis victor sechs neun ins gleis golf zwei vier antworten\n",
      "[NeMo I 2023-01-02 18:35:49 wer_bpe:189] predicted:umstellmanöver von charlie drei zwei via gleis victor sechs neun ins gleis golf zwei vier antworten\n",
      "[NeMo I 2023-01-02 18:36:27 wer_bpe:187] \n",
      "    \n",
      "[NeMo I 2023-01-02 18:36:27 wer_bpe:188] reference:er will am donnerstag nicht in die schule gehen\n",
      "[NeMo I 2023-01-02 18:36:27 wer_bpe:189] predicted:er will am donnerstag sch in mue gehen\n",
      "[NeMo I 2023-01-02 18:36:54 wer_bpe:187] \n",
      "    \n",
      "[NeMo I 2023-01-02 18:36:54 wer_bpe:188] reference:rangierfahrt vom whisky neun zwei nach drei sieben antworten\n",
      "[NeMo I 2023-01-02 18:36:54 wer_bpe:189] predicted:rangierfahrt vom whisky neun zwei nach drei sieben antworten\n",
      "[NeMo I 2023-01-02 18:37:20 wer_bpe:187] \n",
      "    \n",
      "[NeMo I 2023-01-02 18:37:20 wer_bpe:188] reference:rangierfahrt vom null eins ins gleis drei neun antworten\n",
      "[NeMo I 2023-01-02 18:37:20 wer_bpe:189] predicted:rangier um null eins ins gleis drei neun antworten\n",
      "[NeMo I 2023-01-02 18:37:47 wer_bpe:187] \n",
      "    \n",
      "[NeMo I 2023-01-02 18:37:47 wer_bpe:188] reference:umstellmanöver von gleis vier fünf ins gleis foxtrot sechs drei via neun antworten\n",
      "[NeMo I 2023-01-02 18:37:47 wer_bpe:189] predicted:umstellmanöver vom gleis vier vom ins gleis gstrot siechs drei via neun antworten\n"
     ]
    },
    {
     "data": {
      "application/vnd.jupyter.widget-view+json": {
       "model_id": "c7f737d169a2487290de0eacebf84fcc",
       "version_major": 2,
       "version_minor": 0
      },
      "text/plain": [
       "Validation: 0it [00:00, ?it/s]"
      ]
     },
     "metadata": {},
     "output_type": "display_data"
    },
    {
     "name": "stdout",
     "output_type": "stream",
     "text": [
      "[NeMo I 2023-01-02 18:38:09 wer_bpe:187] \n",
      "    \n",
      "[NeMo I 2023-01-02 18:38:09 wer_bpe:188] reference:rangierfahrt vom gleis mike zwei drei ins drei drei antworten\n",
      "[NeMo I 2023-01-02 18:38:09 wer_bpe:189] predicted:rangierfahrt vom gleis mike zwei drei ins drei drei antworten\n",
      "[NeMo I 2023-01-02 18:38:09 wer_bpe:187] \n",
      "    \n",
      "[NeMo I 2023-01-02 18:38:09 wer_bpe:188] reference:spracheingabe\n",
      "[NeMo I 2023-01-02 18:38:09 wer_bpe:189] predicted:spracheingabe\n",
      "[NeMo I 2023-01-02 18:38:09 wer_bpe:187] \n",
      "    \n",
      "[NeMo I 2023-01-02 18:38:09 wer_bpe:188] reference:umstellmanöver vom drei sechs nach gleis xray vier sieben via null vier antworten\n",
      "[NeMo I 2023-01-02 18:38:09 wer_bpe:189] predicted:umstellmanöver vom drei sechs nach gleis xray vier sieben via null vier antworten\n",
      "[NeMo I 2023-01-02 18:38:09 wer_bpe:187] \n",
      "    \n",
      "[NeMo I 2023-01-02 18:38:09 wer_bpe:188] reference:rangierfahrt von gleis sechs neun ins gleis delta sieben antworten\n",
      "[NeMo I 2023-01-02 18:38:09 wer_bpe:189] predicted:rangierfahrt von gleis sechs neun ins gleis delta sieben antworten\n",
      "[NeMo I 2023-01-02 18:38:09 wer_bpe:187] \n",
      "    \n",
      "[NeMo I 2023-01-02 18:38:09 wer_bpe:188] reference:umstellmanöver von charlie drei zwei via gleis victor sechs neun ins gleis golf zwei vier antworten\n",
      "[NeMo I 2023-01-02 18:38:09 wer_bpe:189] predicted:umstellmanöver von charlie drei zwei via gleis victor sechs neun ins gleis golf zwei vier antworten\n",
      "[NeMo I 2023-01-02 18:38:47 wer_bpe:187] \n",
      "    \n",
      "[NeMo I 2023-01-02 18:38:47 wer_bpe:188] reference:dieses gutachten wurde gesponsert von folgender firma\n",
      "[NeMo I 2023-01-02 18:38:47 wer_bpe:189] predicted:dieses vom vier\n",
      "[NeMo I 2023-01-02 18:39:14 wer_bpe:187] \n",
      "    \n",
      "[NeMo I 2023-01-02 18:39:14 wer_bpe:188] reference:umstellmanöver vom fünf via gleis vier vier nach gleis yankee null null antworten\n",
      "[NeMo I 2023-01-02 18:39:14 wer_bpe:189] predicted:umstellmanöver vom fünf g vier vier nach gleis yankee null null antworten\n",
      "[NeMo I 2023-01-02 18:39:40 wer_bpe:187] \n",
      "    \n",
      "[NeMo I 2023-01-02 18:39:40 wer_bpe:188] reference:rangierfahrt von sieben drei ins sechs drei antworten\n",
      "[NeMo I 2023-01-02 18:39:40 wer_bpe:189] predicted:rangierfahrt von sieben drei ins sechs drei antworten\n",
      "[NeMo I 2023-01-02 18:40:07 wer_bpe:187] \n",
      "    \n",
      "[NeMo I 2023-01-02 18:40:07 wer_bpe:188] reference:rangierfahrt von xray vier eins nach bravo neun null antworten\n",
      "[NeMo I 2023-01-02 18:40:07 wer_bpe:189] predicted:umierfahrt von xray vier eins nach bravo neun null antworten\n"
     ]
    },
    {
     "data": {
      "application/vnd.jupyter.widget-view+json": {
       "model_id": "866e46ea79b04e9db5f8731a655bac93",
       "version_major": 2,
       "version_minor": 0
      },
      "text/plain": [
       "Validation: 0it [00:00, ?it/s]"
      ]
     },
     "metadata": {},
     "output_type": "display_data"
    },
    {
     "name": "stdout",
     "output_type": "stream",
     "text": [
      "[NeMo I 2023-01-02 18:40:29 wer_bpe:187] \n",
      "    \n",
      "[NeMo I 2023-01-02 18:40:29 wer_bpe:188] reference:rangierfahrt vom gleis mike zwei drei ins drei drei antworten\n",
      "[NeMo I 2023-01-02 18:40:29 wer_bpe:189] predicted:rangierfahrt vom gleis mike zwei drei ins drei drei antworten\n",
      "[NeMo I 2023-01-02 18:40:29 wer_bpe:187] \n",
      "    \n",
      "[NeMo I 2023-01-02 18:40:29 wer_bpe:188] reference:spracheingabe\n",
      "[NeMo I 2023-01-02 18:40:29 wer_bpe:189] predicted:spracheingabe\n",
      "[NeMo I 2023-01-02 18:40:29 wer_bpe:187] \n",
      "    \n",
      "[NeMo I 2023-01-02 18:40:29 wer_bpe:188] reference:umstellmanöver vom drei sechs nach gleis xray vier sieben via null vier antworten\n",
      "[NeMo I 2023-01-02 18:40:29 wer_bpe:189] predicted:umstellmanöver vom drei sechs nach gleis xray vier sieben via null vier antworten\n",
      "[NeMo I 2023-01-02 18:40:30 wer_bpe:187] \n",
      "    \n",
      "[NeMo I 2023-01-02 18:40:30 wer_bpe:188] reference:rangierfahrt von gleis sechs neun ins gleis delta sieben antworten\n",
      "[NeMo I 2023-01-02 18:40:30 wer_bpe:189] predicted:rangierfahrt von gleis sechs neun ins gleis delta sieben antworten\n",
      "[NeMo I 2023-01-02 18:40:30 wer_bpe:187] \n",
      "    \n",
      "[NeMo I 2023-01-02 18:40:30 wer_bpe:188] reference:umstellmanöver von charlie drei zwei via gleis victor sechs neun ins gleis golf zwei vier antworten\n",
      "[NeMo I 2023-01-02 18:40:30 wer_bpe:189] predicted:umstellmanöver von charlie drei zwei via gleis victor sechs neun ins gleis golf zwei vier antworten\n",
      "[NeMo I 2023-01-02 18:41:10 wer_bpe:187] \n",
      "    \n",
      "[NeMo I 2023-01-02 18:41:10 wer_bpe:188] reference:umstellmanöver vom gleis bravo null null nach vier eins via gleis fünf sechs antworten\n",
      "[NeMo I 2023-01-02 18:41:10 wer_bpe:189] predicted:umstellmanöver vom gleis bravo null null nach vier eins via gleis fünf sechs antworten\n",
      "[NeMo I 2023-01-02 18:41:36 wer_bpe:187] \n",
      "    \n",
      "[NeMo I 2023-01-02 18:41:36 wer_bpe:188] reference:rangierfahrt von gleis vier sechs ins gleis acht acht antworten\n",
      "[NeMo I 2023-01-02 18:41:36 wer_bpe:189] predicted:rangierfahrt von gleis vier sechs ins gleis acht acht antworten\n",
      "[NeMo I 2023-01-02 18:42:03 wer_bpe:187] \n",
      "    \n",
      "[NeMo I 2023-01-02 18:42:03 wer_bpe:188] reference:rangierfahrt von gleis sieben fünf nach victor neun eins antworten\n",
      "[NeMo I 2023-01-02 18:42:03 wer_bpe:189] predicted:rangellmaver von gleis sieben fünf nach victor neun eins antworten\n",
      "[NeMo I 2023-01-02 18:42:29 wer_bpe:187] \n",
      "    \n",
      "[NeMo I 2023-01-02 18:42:29 wer_bpe:188] reference:umstellmanöver von vier null ins gleis drei via whisky zwei neun antworten\n",
      "[NeMo I 2023-01-02 18:42:29 wer_bpe:189] predicted:umstellmanöver von vier null ins gleis drei via whisky zwei neun antworten\n"
     ]
    },
    {
     "data": {
      "application/vnd.jupyter.widget-view+json": {
       "model_id": "865b1b8b5f064110a741606930f544fc",
       "version_major": 2,
       "version_minor": 0
      },
      "text/plain": [
       "Validation: 0it [00:00, ?it/s]"
      ]
     },
     "metadata": {},
     "output_type": "display_data"
    },
    {
     "name": "stdout",
     "output_type": "stream",
     "text": [
      "[NeMo I 2023-01-02 18:42:51 wer_bpe:187] \n",
      "    \n",
      "[NeMo I 2023-01-02 18:42:51 wer_bpe:188] reference:rangierfahrt vom gleis mike zwei drei ins drei drei antworten\n",
      "[NeMo I 2023-01-02 18:42:51 wer_bpe:189] predicted:rangierfahrt vom gleis mike zwei drei ins drei drei antworten\n",
      "[NeMo I 2023-01-02 18:42:51 wer_bpe:187] \n",
      "    \n",
      "[NeMo I 2023-01-02 18:42:51 wer_bpe:188] reference:spracheingabe\n",
      "[NeMo I 2023-01-02 18:42:51 wer_bpe:189] predicted:spracheingabe\n",
      "[NeMo I 2023-01-02 18:42:51 wer_bpe:187] \n",
      "    \n",
      "[NeMo I 2023-01-02 18:42:51 wer_bpe:188] reference:umstellmanöver vom drei sechs nach gleis xray vier sieben via null vier antworten\n",
      "[NeMo I 2023-01-02 18:42:51 wer_bpe:189] predicted:umstellmanöver vom drei sechs nach gleis xray vier sieben via null vier antworten\n",
      "[NeMo I 2023-01-02 18:42:52 wer_bpe:187] \n",
      "    \n",
      "[NeMo I 2023-01-02 18:42:52 wer_bpe:188] reference:rangierfahrt von gleis sechs neun ins gleis delta sieben antworten\n",
      "[NeMo I 2023-01-02 18:42:52 wer_bpe:189] predicted:rangierfahrt von gleis sechs neun ins gleis delta sieben antworten\n",
      "[NeMo I 2023-01-02 18:42:52 wer_bpe:187] \n",
      "    \n",
      "[NeMo I 2023-01-02 18:42:52 wer_bpe:188] reference:umstellmanöver von charlie drei zwei via gleis victor sechs neun ins gleis golf zwei vier antworten\n",
      "[NeMo I 2023-01-02 18:42:52 wer_bpe:189] predicted:umstellmanöver von charlie drei zwei via gleis victor sechs neun ins gleis golf zwei vier antworten\n",
      "[NeMo I 2023-01-02 18:43:31 wer_bpe:187] \n",
      "    \n",
      "[NeMo I 2023-01-02 18:43:31 wer_bpe:188] reference:rangierfahrt vom victor null fünf nach gleis neun vier antworten\n",
      "[NeMo I 2023-01-02 18:43:31 wer_bpe:189] predicted:rangierfahrt vom victor null fünf via gleis neun vier antworten\n",
      "[NeMo I 2023-01-02 18:43:57 wer_bpe:187] \n",
      "    \n",
      "[NeMo I 2023-01-02 18:43:57 wer_bpe:188] reference:rangierfahrt vom gleis bravo eins vier nach foxtrot vier eins antworten\n",
      "[NeMo I 2023-01-02 18:43:57 wer_bpe:189] predicted:rangierfahrt vom gleis bravo eins vier nach foxtrot fünf eins antworten\n",
      "[NeMo I 2023-01-02 18:44:24 wer_bpe:187] \n",
      "    \n",
      "[NeMo I 2023-01-02 18:44:24 wer_bpe:188] reference:umstellmanöver vom mike zwei null via gleis xray null sechs ins gleis eins sieben antworten\n",
      "[NeMo I 2023-01-02 18:44:24 wer_bpe:189] predicted:umstellmanöver von mike zwei null via gleis xray null sechs ins gleis eins sieben antworten\n",
      "[NeMo I 2023-01-02 18:44:50 wer_bpe:187] \n",
      "    \n",
      "[NeMo I 2023-01-02 18:44:50 wer_bpe:188] reference:rangierfahrt von fünf drei nach gleis charlie drei eins antworten\n",
      "[NeMo I 2023-01-02 18:44:50 wer_bpe:189] predicted:rangierfahrt von fünf zwei nach gleis charlie drei eins antworten\n"
     ]
    },
    {
     "data": {
      "application/vnd.jupyter.widget-view+json": {
       "model_id": "6b7fefc04dbe44e6a5d4fad62d19464d",
       "version_major": 2,
       "version_minor": 0
      },
      "text/plain": [
       "Validation: 0it [00:00, ?it/s]"
      ]
     },
     "metadata": {},
     "output_type": "display_data"
    },
    {
     "name": "stdout",
     "output_type": "stream",
     "text": [
      "[NeMo I 2023-01-02 18:45:12 wer_bpe:187] \n",
      "    \n",
      "[NeMo I 2023-01-02 18:45:12 wer_bpe:188] reference:rangierfahrt vom gleis mike zwei drei ins drei drei antworten\n",
      "[NeMo I 2023-01-02 18:45:12 wer_bpe:189] predicted:rangierfahrt vom gleis mike zwei drei ins drei drei antworten\n",
      "[NeMo I 2023-01-02 18:45:12 wer_bpe:187] \n",
      "    \n",
      "[NeMo I 2023-01-02 18:45:12 wer_bpe:188] reference:spracheingabe\n",
      "[NeMo I 2023-01-02 18:45:12 wer_bpe:189] predicted:spracheingabe\n",
      "[NeMo I 2023-01-02 18:45:12 wer_bpe:187] \n",
      "    \n",
      "[NeMo I 2023-01-02 18:45:12 wer_bpe:188] reference:umstellmanöver vom drei sechs nach gleis xray vier sieben via null vier antworten\n",
      "[NeMo I 2023-01-02 18:45:12 wer_bpe:189] predicted:umstellmanöver vom drei sechs nach gleis xray vier sieben via null vier antworten\n",
      "[NeMo I 2023-01-02 18:45:12 wer_bpe:187] \n",
      "    \n",
      "[NeMo I 2023-01-02 18:45:12 wer_bpe:188] reference:rangierfahrt von gleis sechs neun ins gleis delta sieben antworten\n",
      "[NeMo I 2023-01-02 18:45:12 wer_bpe:189] predicted:rangierfahrt von gleis sechs neun ins gleis delta sieben antworten\n",
      "[NeMo I 2023-01-02 18:45:12 wer_bpe:187] \n",
      "    \n",
      "[NeMo I 2023-01-02 18:45:12 wer_bpe:188] reference:umstellmanöver von charlie drei zwei via gleis victor sechs neun ins gleis golf zwei vier antworten\n",
      "[NeMo I 2023-01-02 18:45:12 wer_bpe:189] predicted:umstellmanöver von charlie drei zwei via gleis victor sechs neun ins gleis golf zwei vier antworten\n"
     ]
    },
    {
     "name": "stderr",
     "output_type": "stream",
     "text": [
      "`Trainer.fit` stopped: `max_epochs=6` reached.\n"
     ]
    },
    {
     "data": {
      "text/html": [
       "Waiting for W&B process to finish... <strong style=\"color:green\">(success).</strong>"
      ],
      "text/plain": [
       "<IPython.core.display.HTML object>"
      ]
     },
     "metadata": {},
     "output_type": "display_data"
    },
    {
     "data": {
      "text/html": [
       "<style>\n",
       "    table.wandb td:nth-child(1) { padding: 0 10px; text-align: left ; width: auto;} td:nth-child(2) {text-align: left ; width: 100%}\n",
       "    .wandb-row { display: flex; flex-direction: row; flex-wrap: wrap; justify-content: flex-start; width: 100% }\n",
       "    .wandb-col { display: flex; flex-direction: column; flex-basis: 100%; flex: 1; padding: 10px; }\n",
       "    </style>\n",
       "<div class=\"wandb-row\"><div class=\"wandb-col\"><h3>Run history:</h3><br/><table class=\"wandb\"><tr><td>epoch</td><td>▁▁▁▁▁▂▂▂▂▂▂▄▄▄▄▄▄▅▅▅▅▅▇▇▇▇▇▇██████</td></tr><tr><td>global_step</td><td>▁▁▂▂▂▂▂▃▃▃▃▃▄▄▄▄▄▅▅▅▅▆▆▆▆▆▇▇▇▇▇███</td></tr><tr><td>learning_rate</td><td>▁▁▂▂▂▂▃▃▃▃▄▄▄▄▅▅▅▅▆▆▆▆▇▇▇▇██</td></tr><tr><td>train_loss</td><td>█▆▆▄▃▃▃▃▂▂▂▂▂▁▁▂▁▃▂▃▂▁▁▂▁▁▁▂</td></tr><tr><td>trainer/global_step</td><td>▁▁▂▂▂▂▂▃▃▃▃▃▄▄▄▄▄▅▅▅▅▆▆▆▆▆▇▇▇▇▇███</td></tr><tr><td>training_batch_wer</td><td>█▇▇▅▂▄▄▂▃▃▃▂▂▁▁▁▁▂▁▂▁▂▁</td></tr><tr><td>val_loss</td><td>█▃▂▁▁▁</td></tr><tr><td>val_wer</td><td>█▂▂▁▁▁</td></tr></table><br/></div><div class=\"wandb-col\"><h3>Run summary:</h3><br/><table class=\"wandb\"><tr><td>epoch</td><td>5</td></tr><tr><td>global_step</td><td>1422.0</td></tr><tr><td>learning_rate</td><td>0.00041</td></tr><tr><td>train_loss</td><td>17.3621</td></tr><tr><td>trainer/global_step</td><td>1421</td></tr><tr><td>training_batch_wer</td><td>0.08696</td></tr><tr><td>val_loss</td><td>1.24088</td></tr><tr><td>val_wer</td><td>0.01828</td></tr></table><br/></div></div>"
      ],
      "text/plain": [
       "<IPython.core.display.HTML object>"
      ]
     },
     "metadata": {},
     "output_type": "display_data"
    },
    {
     "data": {
      "text/html": [
       "Synced <strong style=\"color:#cdcd00\">autumn-sweep-6</strong>: <a href=\"https://wandb.ai/unisg-ds-nlp/ASR/runs/ai7ba7qh\" target=\"_blank\">https://wandb.ai/unisg-ds-nlp/ASR/runs/ai7ba7qh</a><br/>Synced 5 W&B file(s), 0 media file(s), 6 artifact file(s) and 0 other file(s)"
      ],
      "text/plain": [
       "<IPython.core.display.HTML object>"
      ]
     },
     "metadata": {},
     "output_type": "display_data"
    },
    {
     "data": {
      "text/html": [
       "Find logs at: <code>./wandb/run-20230102_183100-ai7ba7qh/logs</code>"
      ],
      "text/plain": [
       "<IPython.core.display.HTML object>"
      ]
     },
     "metadata": {},
     "output_type": "display_data"
    },
    {
     "name": "stderr",
     "output_type": "stream",
     "text": [
      "\u001b[34m\u001b[1mwandb\u001b[0m: Sweep Agent: Waiting for job.\n",
      "\u001b[34m\u001b[1mwandb\u001b[0m: Job received.\n",
      "\u001b[34m\u001b[1mwandb\u001b[0m: Agent Starting Run: vmyrzkz3 with config:\n",
      "\u001b[34m\u001b[1mwandb\u001b[0m: \tepoch: 8\n",
      "\u001b[34m\u001b[1mwandb\u001b[0m: \tfreq_width: 28.69852351609853\n",
      "\u001b[34m\u001b[1mwandb\u001b[0m: \tlr: 0.00017679415879711709\n",
      "Failed to detect the name of this notebook, you can set it manually with the WANDB_NOTEBOOK_NAME environment variable to enable code saving.\n"
     ]
    },
    {
     "data": {
      "text/html": [
       "wandb version 0.13.7 is available!  To upgrade, please run:\n",
       " $ pip install wandb --upgrade"
      ],
      "text/plain": [
       "<IPython.core.display.HTML object>"
      ]
     },
     "metadata": {},
     "output_type": "display_data"
    },
    {
     "data": {
      "text/html": [
       "Tracking run with wandb version 0.13.4"
      ],
      "text/plain": [
       "<IPython.core.display.HTML object>"
      ]
     },
     "metadata": {},
     "output_type": "display_data"
    },
    {
     "data": {
      "text/html": [
       "Run data is saved locally in <code>/home/user/code/sbb_asr/notebooks/wandb/run-20230102_184606-vmyrzkz3</code>"
      ],
      "text/plain": [
       "<IPython.core.display.HTML object>"
      ]
     },
     "metadata": {},
     "output_type": "display_data"
    },
    {
     "data": {
      "text/html": [
       "Syncing run <strong><a href=\"https://wandb.ai/unisg-ds-nlp/ASR/runs/vmyrzkz3\" target=\"_blank\">lilac-sweep-7</a></strong> to <a href=\"https://wandb.ai/unisg-ds-nlp/ASR\" target=\"_blank\">Weights & Biases</a> (<a href=\"https://wandb.me/run\" target=\"_blank\">docs</a>)<br/>Sweep page:  <a href=\"https://wandb.ai/unisg-ds-nlp/ASR/sweeps/v7qi12lc\" target=\"_blank\">https://wandb.ai/unisg-ds-nlp/ASR/sweeps/v7qi12lc</a>"
      ],
      "text/plain": [
       "<IPython.core.display.HTML object>"
      ]
     },
     "metadata": {},
     "output_type": "display_data"
    },
    {
     "name": "stderr",
     "output_type": "stream",
     "text": [
      "[NeMo W 2023-01-02 18:46:07 nemo_logging:349] /home/user/.local/lib/python3.9/site-packages/pytorch_lightning/loggers/wandb.py:352: UserWarning: There is a wandb run already in progress and newly created instances of `WandbLogger` will reuse this run. If this is not desired, call `wandb.finish()` before instantiating `WandbLogger`.\n",
      "      rank_zero_warn(\n",
      "    \n",
      "[NeMo W 2023-01-02 18:46:07 nemo_logging:349] /home/user/.local/lib/python3.9/site-packages/pytorch_lightning/trainer/connectors/accelerator_connector.py:447: LightningDeprecationWarning: Setting `Trainer(gpus=1)` is deprecated in v1.7 and will be removed in v2.0. Please use `Trainer(accelerator='gpu', devices=1)` instead.\n",
      "      rank_zero_deprecation(\n",
      "    \n",
      "GPU available: True (cuda), used: True\n",
      "TPU available: False, using: 0 TPU cores\n",
      "IPU available: False, using: 0 IPUs\n",
      "HPU available: False, using: 0 HPUs\n"
     ]
    },
    {
     "name": "stdout",
     "output_type": "stream",
     "text": [
      "[NeMo I 2023-01-02 18:46:09 cloud:56] Found existing object /home/user/.cache/torch/NeMo/NeMo_1.12.0/stt_de_citrinet_1024/8743e4cecb8017ca2b49a035e07b2893/stt_de_citrinet_1024.nemo.\n",
      "[NeMo I 2023-01-02 18:46:09 cloud:62] Re-using file from: /home/user/.cache/torch/NeMo/NeMo_1.12.0/stt_de_citrinet_1024/8743e4cecb8017ca2b49a035e07b2893/stt_de_citrinet_1024.nemo\n",
      "[NeMo I 2023-01-02 18:46:09 common:910] Instantiating model from pre-trained checkpoint\n",
      "[NeMo I 2023-01-02 18:46:13 mixins:170] Tokenizer SentencePieceTokenizer initialized with 1024 tokens\n"
     ]
    },
    {
     "name": "stderr",
     "output_type": "stream",
     "text": [
      "[NeMo W 2023-01-02 18:46:14 modelPT:142] If you intend to do training or fine-tuning, please call the ModelPT.setup_training_data() method and provide a valid configuration file to setup the train data loader.\n",
      "    Train config : \n",
      "    manifest_filepath: /data/train/tarred_audio_manifest.json\n",
      "    sample_rate: 16000\n",
      "    batch_size: 32\n",
      "    trim_silence: false\n",
      "    max_duration: 35.0\n",
      "    shuffle: true\n",
      "    is_tarred: true\n",
      "    tarred_audio_filepaths: /data/train/audio__OP_0..1023_CL_.tar\n",
      "    use_start_end_token: false\n",
      "    shuffle_n: 1024\n",
      "    num_workers: 16\n",
      "    pin_memory: true\n",
      "    \n",
      "[NeMo W 2023-01-02 18:46:14 modelPT:149] If you intend to do validation, please call the ModelPT.setup_validation_data() or ModelPT.setup_multiple_validation_data() method and provide a valid configuration file to setup the validation data loader(s). \n",
      "    Validation config : \n",
      "    manifest_filepath:\n",
      "    - /data/voxpopuli_de/dev/voxpopuli_dev_manifest.json\n",
      "    - /data/voxpopuli_de/test/voxpopuli_test_manifest.json\n",
      "    - /data/mcv7.0_de/mcv7.0_dev_manifest_cleaned.json\n",
      "    - /data/mcv7.0_de/mcv7.0_test_manifest_cleaned.json\n",
      "    - /data/mls_de/mls_dev_manifest_cleaned.json\n",
      "    - /data/mls_de/mls_test_manifest_cleaned.json\n",
      "    sample_rate: 16000\n",
      "    batch_size: 8\n",
      "    shuffle: false\n",
      "    use_start_end_token: false\n",
      "    num_workers: 8\n",
      "    pin_memory: true\n",
      "    \n",
      "[NeMo W 2023-01-02 18:46:14 modelPT:155] Please call the ModelPT.setup_test_data() or ModelPT.setup_multiple_test_data() method and provide a valid configuration file to setup the test data loader(s).\n",
      "    Test config : \n",
      "    manifest_filepath: null\n",
      "    sample_rate: 16000\n",
      "    batch_size: 32\n",
      "    shuffle: false\n",
      "    use_start_end_token: false\n",
      "    \n"
     ]
    },
    {
     "name": "stdout",
     "output_type": "stream",
     "text": [
      "[NeMo I 2023-01-02 18:46:14 features:225] PADDING: 16\n",
      "[NeMo I 2023-01-02 18:46:19 save_restore_connector:243] Model EncDecCTCModelBPE was successfully restored from /home/user/.cache/torch/NeMo/NeMo_1.12.0/stt_de_citrinet_1024/8743e4cecb8017ca2b49a035e07b2893/stt_de_citrinet_1024.nemo.\n",
      "[NeMo I 2023-01-02 18:46:19 collections:194] Dataset loaded with 1890 files totalling 7.41 hours\n",
      "[NeMo I 2023-01-02 18:46:19 collections:195] 0 files were filtered totalling 0.00 hours\n",
      "[NeMo I 2023-01-02 18:46:19 collections:194] Dataset loaded with 34 files totalling 0.13 hours\n",
      "[NeMo I 2023-01-02 18:46:19 collections:195] 0 files were filtered totalling 0.00 hours\n",
      "[NeMo I 2023-01-02 18:46:19 collections:194] Dataset loaded with 34 files totalling 0.14 hours\n",
      "[NeMo I 2023-01-02 18:46:19 collections:195] 0 files were filtered totalling 0.00 hours\n",
      "[NeMo I 2023-01-02 18:46:19 modelPT:597] Optimizer config = Novograd (\n",
      "    Parameter Group 0\n",
      "        amsgrad: False\n",
      "        betas: [0.8, 0.25]\n",
      "        eps: 1e-08\n",
      "        grad_averaging: False\n",
      "        lr: 0.00017679415879711709\n",
      "        weight_decay: 0.001\n",
      "    )\n",
      "[NeMo I 2023-01-02 18:46:19 lr_scheduler:910] Scheduler \"<nemo.core.optim.lr_scheduler.CosineAnnealing object at 0x7f83879ed580>\" \n",
      "    will be used during training (effective maximum steps = 1896) - \n",
      "    Parameters : \n",
      "    (warmup_steps: 10000\n",
      "    warmup_ratio: null\n",
      "    min_lr: 1.0e-05\n",
      "    last_epoch: -1\n",
      "    max_steps: 1896\n",
      "    )\n"
     ]
    },
    {
     "name": "stderr",
     "output_type": "stream",
     "text": [
      "LOCAL_RANK: 0 - CUDA_VISIBLE_DEVICES: [0,1,2,3]\n"
     ]
    },
    {
     "name": "stdout",
     "output_type": "stream",
     "text": [
      "[NeMo I 2023-01-02 18:46:20 modelPT:597] Optimizer config = Novograd (\n",
      "    Parameter Group 0\n",
      "        amsgrad: False\n",
      "        betas: [0.8, 0.25]\n",
      "        eps: 1e-08\n",
      "        grad_averaging: False\n",
      "        lr: 0.00017679415879711709\n",
      "        weight_decay: 0.001\n",
      "    )\n",
      "[NeMo I 2023-01-02 18:46:20 lr_scheduler:910] Scheduler \"<nemo.core.optim.lr_scheduler.CosineAnnealing object at 0x7f83879f8f40>\" \n",
      "    will be used during training (effective maximum steps = 1896) - \n",
      "    Parameters : \n",
      "    (warmup_steps: 10000\n",
      "    warmup_ratio: null\n",
      "    min_lr: 1.0e-05\n",
      "    last_epoch: -1\n",
      "    max_steps: 1896\n",
      "    )\n"
     ]
    },
    {
     "name": "stderr",
     "output_type": "stream",
     "text": [
      "\n",
      "  | Name              | Type                              | Params\n",
      "------------------------------------------------------------------------\n",
      "0 | preprocessor      | AudioToMelSpectrogramPreprocessor | 0     \n",
      "1 | encoder           | ConvASREncoder                    | 140 M \n",
      "2 | decoder           | ConvASRDecoder                    | 1.1 M \n",
      "3 | loss              | CTCLoss                           | 0     \n",
      "4 | spec_augmentation | SpectrogramAugmentation           | 0     \n",
      "5 | _wer              | WERBPE                            | 0     \n",
      "------------------------------------------------------------------------\n",
      "141 M     Trainable params\n",
      "0         Non-trainable params\n",
      "141 M     Total params\n",
      "564.897   Total estimated model params size (MB)\n"
     ]
    },
    {
     "data": {
      "application/vnd.jupyter.widget-view+json": {
       "model_id": "b7c19dd335b248619ca19545165097d2",
       "version_major": 2,
       "version_minor": 0
      },
      "text/plain": [
       "Sanity Checking: 0it [00:00, ?it/s]"
      ]
     },
     "metadata": {},
     "output_type": "display_data"
    },
    {
     "name": "stdout",
     "output_type": "stream",
     "text": [
      "[NeMo I 2023-01-02 18:46:22 wer_bpe:187] \n",
      "    \n",
      "[NeMo I 2023-01-02 18:46:22 wer_bpe:188] reference:rangierfahrt vom gleis mike zwei drei ins drei drei antworten\n",
      "[NeMo I 2023-01-02 18:46:22 wer_bpe:189] predicted:prongierfahrt vom gleis maik zwei drei ins drei drei antworten\n",
      "[NeMo I 2023-01-02 18:46:22 wer_bpe:187] \n",
      "    \n",
      "[NeMo I 2023-01-02 18:46:22 wer_bpe:188] reference:spracheingabe\n",
      "[NeMo I 2023-01-02 18:46:22 wer_bpe:189] predicted:spracheingabe\n"
     ]
    },
    {
     "data": {
      "application/vnd.jupyter.widget-view+json": {
       "model_id": "fa89b303641c4200badbba543ef68280",
       "version_major": 2,
       "version_minor": 0
      },
      "text/plain": [
       "Training: 0it [00:00, ?it/s]"
      ]
     },
     "metadata": {},
     "output_type": "display_data"
    },
    {
     "name": "stdout",
     "output_type": "stream",
     "text": [
      "[NeMo I 2023-01-02 18:46:52 wer_bpe:187] \n",
      "    \n",
      "[NeMo I 2023-01-02 18:46:52 wer_bpe:188] reference:umstellmanöver von tango neun acht ins gleis whisky zwei drei via gleis zwei fünf antworten\n",
      "[NeMo I 2023-01-02 18:46:52 wer_bpe:189] predicted:in ja\n",
      "[NeMo I 2023-01-02 18:47:18 wer_bpe:187] \n",
      "    \n",
      "[NeMo I 2023-01-02 18:47:18 wer_bpe:188] reference:umstellmanöver vom xray neun vier via mike sieben zwei nach gleis uniform neun drei antworten\n",
      "[NeMo I 2023-01-02 18:47:18 wer_bpe:189] predicted:um vom ex sie noch ju drei dort\n",
      "[NeMo I 2023-01-02 18:47:44 wer_bpe:187] \n",
      "    \n",
      "[NeMo I 2023-01-02 18:47:44 wer_bpe:188] reference:umstellmanöver vom gleis fünf eins via acht sieben ins bravo eins null antworten\n",
      "[NeMo I 2023-01-02 18:47:44 wer_bpe:189] predicted:vom gleis fünf eins wieacht sie wo an\n",
      "[NeMo I 2023-01-02 18:48:11 wer_bpe:187] \n",
      "    \n",
      "[NeMo I 2023-01-02 18:48:11 wer_bpe:188] reference:umstellmanöver vom acht acht via zwei null ins alpha fünf vier antworten\n",
      "[NeMo I 2023-01-02 18:48:11 wer_bpe:189] predicted:manlö zwei in\n"
     ]
    },
    {
     "data": {
      "application/vnd.jupyter.widget-view+json": {
       "model_id": "86a8bb6e822444429aba2482db3bb2f4",
       "version_major": 2,
       "version_minor": 0
      },
      "text/plain": [
       "Validation: 0it [00:00, ?it/s]"
      ]
     },
     "metadata": {},
     "output_type": "display_data"
    },
    {
     "name": "stdout",
     "output_type": "stream",
     "text": [
      "[NeMo I 2023-01-02 18:48:33 wer_bpe:187] \n",
      "    \n",
      "[NeMo I 2023-01-02 18:48:33 wer_bpe:188] reference:rangierfahrt vom gleis mike zwei drei ins drei drei antworten\n",
      "[NeMo I 2023-01-02 18:48:33 wer_bpe:189] predicted:ierfahrlei zwei drei drei drei\n",
      "[NeMo I 2023-01-02 18:48:33 wer_bpe:187] \n",
      "    \n",
      "[NeMo I 2023-01-02 18:48:33 wer_bpe:188] reference:spracheingabe\n",
      "[NeMo I 2023-01-02 18:48:33 wer_bpe:189] predicted:sprach eingabe\n",
      "[NeMo I 2023-01-02 18:48:33 wer_bpe:187] \n",
      "    \n",
      "[NeMo I 2023-01-02 18:48:33 wer_bpe:188] reference:umstellmanöver vom drei sechs nach gleis xray vier sieben via null vier antworten\n",
      "[NeMo I 2023-01-02 18:48:33 wer_bpe:189] predicted:umstell manöver vom drei sechs nachleisray sieben wie nur viel an\n",
      "[NeMo I 2023-01-02 18:48:33 wer_bpe:187] \n",
      "    \n",
      "[NeMo I 2023-01-02 18:48:33 wer_bpe:188] reference:rangierfahrt von gleis sechs neun ins gleis delta sieben antworten\n",
      "[NeMo I 2023-01-02 18:48:33 wer_bpe:189] predicted:ngchierfahrt gleis sechs neu insleidelta sieben\n",
      "[NeMo I 2023-01-02 18:48:33 wer_bpe:187] \n",
      "    \n",
      "[NeMo I 2023-01-02 18:48:33 wer_bpe:188] reference:umstellmanöver von charlie drei zwei via gleis victor sechs neun ins gleis golf zwei vier antworten\n",
      "[NeMo I 2023-01-02 18:48:33 wer_bpe:189] predicted:ell manöver vonscharly drei zwei wirlei sechs neu ihnlei zwei\n",
      "[NeMo I 2023-01-02 18:49:12 wer_bpe:187] \n",
      "    \n",
      "[NeMo I 2023-01-02 18:49:12 wer_bpe:188] reference:umstellmanöver vom gleis neun vier nach gleis eins null via gleis foxtrot eins eins antworten\n",
      "[NeMo I 2023-01-02 18:49:12 wer_bpe:189] predicted:lei loleiss gleis fxsch schonot eins eins\n",
      "[NeMo I 2023-01-02 18:49:38 wer_bpe:187] \n",
      "    \n",
      "[NeMo I 2023-01-02 18:49:38 wer_bpe:188] reference:umstellmanöver von vier fünf via gleis lima eins vier nach acht neun antworten\n",
      "[NeMo I 2023-01-02 18:49:38 wer_bpe:189] predicted:ö fünfma ein nach hin\n",
      "[NeMo I 2023-01-02 18:50:05 wer_bpe:187] \n",
      "    \n",
      "[NeMo I 2023-01-02 18:50:05 wer_bpe:188] reference:rangierfahrt von gleis zulu vier sechs nach sieben zwei antworten\n",
      "[NeMo I 2023-01-02 18:50:05 wer_bpe:189] predicted:undleis nach\n",
      "[NeMo I 2023-01-02 18:50:33 wer_bpe:187] \n",
      "    \n",
      "[NeMo I 2023-01-02 18:50:33 wer_bpe:188] reference:umstellmanöver vom acht neun nach gleis hotel null sieben via gleis eins eins antworten\n",
      "[NeMo I 2023-01-02 18:50:33 wer_bpe:189] predicted:umschstellmaöver von a nach gleichelln via gleis eins eins an\n"
     ]
    },
    {
     "data": {
      "application/vnd.jupyter.widget-view+json": {
       "model_id": "d354d37e0bca4e94bd84eccb5d5189bb",
       "version_major": 2,
       "version_minor": 0
      },
      "text/plain": [
       "Validation: 0it [00:00, ?it/s]"
      ]
     },
     "metadata": {},
     "output_type": "display_data"
    },
    {
     "name": "stdout",
     "output_type": "stream",
     "text": [
      "[NeMo I 2023-01-02 18:50:55 wer_bpe:187] \n",
      "    \n",
      "[NeMo I 2023-01-02 18:50:55 wer_bpe:188] reference:rangierfahrt vom gleis mike zwei drei ins drei drei antworten\n",
      "[NeMo I 2023-01-02 18:50:55 wer_bpe:189] predicted:frierfahrt vom gleis ma zwei drei in drei drei\n",
      "[NeMo I 2023-01-02 18:50:55 wer_bpe:187] \n",
      "    \n",
      "[NeMo I 2023-01-02 18:50:55 wer_bpe:188] reference:spracheingabe\n",
      "[NeMo I 2023-01-02 18:50:55 wer_bpe:189] predicted:sprach eingabe\n",
      "[NeMo I 2023-01-02 18:50:55 wer_bpe:187] \n",
      "    \n",
      "[NeMo I 2023-01-02 18:50:55 wer_bpe:188] reference:umstellmanöver vom drei sechs nach gleis xray vier sieben via null vier antworten\n",
      "[NeMo I 2023-01-02 18:50:55 wer_bpe:189] predicted:umstellmanöver vom drei sechs nach gleis exray vier sieben via null viel antworten\n",
      "[NeMo I 2023-01-02 18:50:55 wer_bpe:187] \n",
      "    \n",
      "[NeMo I 2023-01-02 18:50:55 wer_bpe:188] reference:rangierfahrt von gleis sechs neun ins gleis delta sieben antworten\n",
      "[NeMo I 2023-01-02 18:50:55 wer_bpe:189] predicted:rangierfahrt von gleis sechs neun ins gleis delta sieben antworten\n",
      "[NeMo I 2023-01-02 18:50:55 wer_bpe:187] \n",
      "    \n",
      "[NeMo I 2023-01-02 18:50:55 wer_bpe:188] reference:umstellmanöver von charlie drei zwei via gleis victor sechs neun ins gleis golf zwei vier antworten\n",
      "[NeMo I 2023-01-02 18:50:55 wer_bpe:189] predicted:umstellmanöver von charly drei zwei wir gleis ctor sechs neun ihns gleis gold zwei vier antwort\n",
      "[NeMo I 2023-01-02 18:51:33 wer_bpe:187] \n",
      "    \n",
      "[NeMo I 2023-01-02 18:51:33 wer_bpe:188] reference:umstellmanöver von gleis null drei via null eins nach alpha vier zwei antworten\n",
      "[NeMo I 2023-01-02 18:51:33 wer_bpe:189] predicted:reich ja eins ihr zwei\n",
      "[NeMo I 2023-01-02 18:52:00 wer_bpe:187] \n",
      "    \n",
      "[NeMo I 2023-01-02 18:52:00 wer_bpe:188] reference:rangierfahrt vom gleis null null nach eins eins antworten\n",
      "[NeMo I 2023-01-02 18:52:00 wer_bpe:189] predicted:ra rangierfahrt vom wohl nach alles einsen\n",
      "[NeMo I 2023-01-02 18:52:25 wer_bpe:187] \n",
      "    \n",
      "[NeMo I 2023-01-02 18:52:25 wer_bpe:188] reference:rangierfahrt vom null eins ins gleis drei neun antworten\n",
      "[NeMo I 2023-01-02 18:52:25 wer_bpe:189] predicted:rangiert vom null eins ihns drei antwort\n",
      "[NeMo I 2023-01-02 18:52:52 wer_bpe:187] \n",
      "    \n",
      "[NeMo I 2023-01-02 18:52:52 wer_bpe:188] reference:rangierfahrt von gleis drei null ins eins fünf antworten\n",
      "[NeMo I 2023-01-02 18:52:52 wer_bpe:189] predicted:\n"
     ]
    },
    {
     "data": {
      "application/vnd.jupyter.widget-view+json": {
       "model_id": "03d07136d2d945b2958bf476cee467c6",
       "version_major": 2,
       "version_minor": 0
      },
      "text/plain": [
       "Validation: 0it [00:00, ?it/s]"
      ]
     },
     "metadata": {},
     "output_type": "display_data"
    },
    {
     "name": "stdout",
     "output_type": "stream",
     "text": [
      "[NeMo I 2023-01-02 18:53:14 wer_bpe:187] \n",
      "    \n",
      "[NeMo I 2023-01-02 18:53:14 wer_bpe:188] reference:rangierfahrt vom gleis mike zwei drei ins drei drei antworten\n",
      "[NeMo I 2023-01-02 18:53:14 wer_bpe:189] predicted:rangierfahrt vom gleis maig zwei drei ins drei drei antwort\n",
      "[NeMo I 2023-01-02 18:53:14 wer_bpe:187] \n",
      "    \n",
      "[NeMo I 2023-01-02 18:53:14 wer_bpe:188] reference:spracheingabe\n",
      "[NeMo I 2023-01-02 18:53:14 wer_bpe:189] predicted:sprach eingabe\n",
      "[NeMo I 2023-01-02 18:53:14 wer_bpe:187] \n",
      "    \n",
      "[NeMo I 2023-01-02 18:53:14 wer_bpe:188] reference:umstellmanöver vom drei sechs nach gleis xray vier sieben via null vier antworten\n",
      "[NeMo I 2023-01-02 18:53:14 wer_bpe:189] predicted:umstellmanöver vom drei sechs nach gleis ray vier sieben via null v antworten\n",
      "[NeMo I 2023-01-02 18:53:14 wer_bpe:187] \n",
      "    \n",
      "[NeMo I 2023-01-02 18:53:14 wer_bpe:188] reference:rangierfahrt von gleis sechs neun ins gleis delta sieben antworten\n",
      "[NeMo I 2023-01-02 18:53:14 wer_bpe:189] predicted:rangierfahrt von gleis sechs neun ins gleis delta sieben antworten\n",
      "[NeMo I 2023-01-02 18:53:14 wer_bpe:187] \n",
      "    \n",
      "[NeMo I 2023-01-02 18:53:14 wer_bpe:188] reference:umstellmanöver von charlie drei zwei via gleis victor sechs neun ins gleis golf zwei vier antworten\n",
      "[NeMo I 2023-01-02 18:53:14 wer_bpe:189] predicted:umstellmanöver von charley drei zwei via gleis victor sechs neun ins gleis gol zwei vier antwort\n",
      "[NeMo I 2023-01-02 18:53:58 wer_bpe:187] \n",
      "    \n",
      "[NeMo I 2023-01-02 18:53:58 wer_bpe:188] reference:umstellmanöver vom gleis alpha eins null nach mike vier zwei via romeo fünf fünf antworten\n",
      "[NeMo I 2023-01-02 18:53:58 wer_bpe:189] predicted:einstellmanöver von angelas alphaeins nach mike vier zwei via romph fünf antworten\n",
      "[NeMo I 2023-01-02 18:54:24 wer_bpe:187] \n",
      "    \n",
      "[NeMo I 2023-01-02 18:54:24 wer_bpe:188] reference:rangierfahrt von gleis vier zwei ins gleis quebec zwei vier antworten\n",
      "[NeMo I 2023-01-02 18:54:24 wer_bpe:189] predicted:an gleis vier\n",
      "[NeMo I 2023-01-02 18:54:51 wer_bpe:187] \n",
      "    \n",
      "[NeMo I 2023-01-02 18:54:51 wer_bpe:188] reference:umstellmanöver vom gleis india eins vier ins sierra acht fünf via gleis bravo zwei eins antworten\n",
      "[NeMo I 2023-01-02 18:54:51 wer_bpe:189] predicted:ummstellmanöver undn gleisia s vier ins sierra acht fünf via gleis bravo se eins antwort\n",
      "[NeMo I 2023-01-02 18:55:18 wer_bpe:187] \n",
      "    \n",
      "[NeMo I 2023-01-02 18:55:18 wer_bpe:188] reference:umstellmanöver vom alpha fünf sieben via gleis sieben nach victor drei null antworten\n",
      "[NeMo I 2023-01-02 18:55:18 wer_bpe:189] predicted:stellma vom alha fünf sieben gia gleis sieben nach victelei n\n"
     ]
    },
    {
     "data": {
      "application/vnd.jupyter.widget-view+json": {
       "model_id": "7e6cb87f3daa42b2b307f7875ff627af",
       "version_major": 2,
       "version_minor": 0
      },
      "text/plain": [
       "Validation: 0it [00:00, ?it/s]"
      ]
     },
     "metadata": {},
     "output_type": "display_data"
    },
    {
     "name": "stdout",
     "output_type": "stream",
     "text": [
      "[NeMo I 2023-01-02 18:55:40 wer_bpe:187] \n",
      "    \n",
      "[NeMo I 2023-01-02 18:55:40 wer_bpe:188] reference:rangierfahrt vom gleis mike zwei drei ins drei drei antworten\n",
      "[NeMo I 2023-01-02 18:55:40 wer_bpe:189] predicted:rangierfahrt vom gleis miig zwei drei ins drei drei antworten\n",
      "[NeMo I 2023-01-02 18:55:40 wer_bpe:187] \n",
      "    \n",
      "[NeMo I 2023-01-02 18:55:40 wer_bpe:188] reference:spracheingabe\n",
      "[NeMo I 2023-01-02 18:55:40 wer_bpe:189] predicted:sprach eingabe\n",
      "[NeMo I 2023-01-02 18:55:40 wer_bpe:187] \n",
      "    \n",
      "[NeMo I 2023-01-02 18:55:40 wer_bpe:188] reference:umstellmanöver vom drei sechs nach gleis xray vier sieben via null vier antworten\n",
      "[NeMo I 2023-01-02 18:55:40 wer_bpe:189] predicted:umstellmanöver vom drei sechs nach gleis xray vier sieben via null vier antworten\n",
      "[NeMo I 2023-01-02 18:55:40 wer_bpe:187] \n",
      "    \n",
      "[NeMo I 2023-01-02 18:55:40 wer_bpe:188] reference:rangierfahrt von gleis sechs neun ins gleis delta sieben antworten\n",
      "[NeMo I 2023-01-02 18:55:40 wer_bpe:189] predicted:rangierfahrt von gleis sechs neun ins gleis delta sieben antworten\n",
      "[NeMo I 2023-01-02 18:55:40 wer_bpe:187] \n",
      "    \n",
      "[NeMo I 2023-01-02 18:55:40 wer_bpe:188] reference:umstellmanöver von charlie drei zwei via gleis victor sechs neun ins gleis golf zwei vier antworten\n",
      "[NeMo I 2023-01-02 18:55:40 wer_bpe:189] predicted:umstellmanöver von charliy drei zwei via gleis victor sechs neun ins gleis golf zwei vier antwort\n",
      "[NeMo I 2023-01-02 18:56:18 wer_bpe:187] \n",
      "    \n",
      "[NeMo I 2023-01-02 18:56:18 wer_bpe:188] reference:rangierfahrt vom drei drei nach zwei antworten\n",
      "[NeMo I 2023-01-02 18:56:18 wer_bpe:189] predicted:ein schi zeit drei nach dieser antwort\n",
      "[NeMo I 2023-01-02 18:56:45 wer_bpe:187] \n",
      "    \n",
      "[NeMo I 2023-01-02 18:56:45 wer_bpe:188] reference:rangierfahrt von gleis vier zwei ins gleis quebec zwei vier antworten\n",
      "[NeMo I 2023-01-02 18:56:45 wer_bpe:189] predicted:anfahrleis\n",
      "[NeMo I 2023-01-02 18:57:12 wer_bpe:187] \n",
      "    \n",
      "[NeMo I 2023-01-02 18:57:12 wer_bpe:188] reference:rangierfahrt von sechs ins delta acht sechs antworten\n",
      "[NeMo I 2023-01-02 18:57:12 wer_bpe:189] predicted:rangierfahrt von sechs ins al acht sechs antworten\n",
      "[NeMo I 2023-01-02 18:57:38 wer_bpe:187] \n",
      "    \n",
      "[NeMo I 2023-01-02 18:57:38 wer_bpe:188] reference:rangierfahrt vom gleis drei drei nach gleis lima zwei acht antworten\n",
      "[NeMo I 2023-01-02 18:57:38 wer_bpe:189] predicted:her rangierfahrt vom gleis drei nach gleis nna zwei acht antworten\n"
     ]
    },
    {
     "data": {
      "application/vnd.jupyter.widget-view+json": {
       "model_id": "30c8a5087dff4bddb3280b280851f6a6",
       "version_major": 2,
       "version_minor": 0
      },
      "text/plain": [
       "Validation: 0it [00:00, ?it/s]"
      ]
     },
     "metadata": {},
     "output_type": "display_data"
    },
    {
     "name": "stdout",
     "output_type": "stream",
     "text": [
      "[NeMo I 2023-01-02 18:58:00 wer_bpe:187] \n",
      "    \n",
      "[NeMo I 2023-01-02 18:58:00 wer_bpe:188] reference:rangierfahrt vom gleis mike zwei drei ins drei drei antworten\n",
      "[NeMo I 2023-01-02 18:58:00 wer_bpe:189] predicted:rangierfahrt vom gleis mike zwei drei ins drei drei antworten\n",
      "[NeMo I 2023-01-02 18:58:00 wer_bpe:187] \n",
      "    \n",
      "[NeMo I 2023-01-02 18:58:00 wer_bpe:188] reference:spracheingabe\n",
      "[NeMo I 2023-01-02 18:58:00 wer_bpe:189] predicted:sprach eingabe\n",
      "[NeMo I 2023-01-02 18:58:00 wer_bpe:187] \n",
      "    \n",
      "[NeMo I 2023-01-02 18:58:00 wer_bpe:188] reference:umstellmanöver vom drei sechs nach gleis xray vier sieben via null vier antworten\n",
      "[NeMo I 2023-01-02 18:58:00 wer_bpe:189] predicted:umstellmanöver vom drei sechs nach gleis xray vier sieben via null vier antworten\n",
      "[NeMo I 2023-01-02 18:58:00 wer_bpe:187] \n",
      "    \n",
      "[NeMo I 2023-01-02 18:58:00 wer_bpe:188] reference:rangierfahrt von gleis sechs neun ins gleis delta sieben antworten\n",
      "[NeMo I 2023-01-02 18:58:00 wer_bpe:189] predicted:rangierfahrt von gleis sechs neun ins gleis delta sieben antworten\n",
      "[NeMo I 2023-01-02 18:58:01 wer_bpe:187] \n",
      "    \n",
      "[NeMo I 2023-01-02 18:58:01 wer_bpe:188] reference:umstellmanöver von charlie drei zwei via gleis victor sechs neun ins gleis golf zwei vier antworten\n",
      "[NeMo I 2023-01-02 18:58:01 wer_bpe:189] predicted:umstellmanöver von charliy drei zwei via gleis victor sechs neun ins gleis golf zwei vier antworten\n",
      "[NeMo I 2023-01-02 18:58:39 wer_bpe:187] \n",
      "    \n",
      "[NeMo I 2023-01-02 18:58:39 wer_bpe:188] reference:umstellmanöver vom gleis sierra eins vier nach gleis hotel null eins via golf neun acht antworten\n",
      "[NeMo I 2023-01-02 18:58:39 wer_bpe:189] predicted:umstell vom gleis sierra eins vier  neuleis hotell null eins via golf neun acht antworten\n",
      "[NeMo I 2023-01-02 18:59:05 wer_bpe:187] \n",
      "    \n",
      "[NeMo I 2023-01-02 18:59:05 wer_bpe:188] reference:bereits während dieser zeit schrieb sie zahlreiche beiträge für zeitungen und radiosender\n",
      "[NeMo I 2023-01-02 18:59:05 wer_bpe:189] predicted:bereits in dieser zeit  zahlreich beiträge für zeitungen und radiosender\n",
      "[NeMo I 2023-01-02 18:59:31 wer_bpe:187] \n",
      "    \n",
      "[NeMo I 2023-01-02 18:59:31 wer_bpe:188] reference:umstellmanöver vom hotel acht zwei nach zwei sieben via golf sechs acht antworten\n",
      "[NeMo I 2023-01-02 18:59:31 wer_bpe:189] predicted:umma von ho acht zwei nachs sie via golf sechs acht antworten\n",
      "[NeMo I 2023-01-02 18:59:58 wer_bpe:187] \n",
      "    \n",
      "[NeMo I 2023-01-02 18:59:58 wer_bpe:188] reference:umstellmanöver vom xray neun vier via mike sieben zwei nach gleis uniform neun drei antworten\n",
      "[NeMo I 2023-01-02 18:59:58 wer_bpe:189] predicted:umstellmanöver vom xray vier via mi in zwei nach gleis uniform mo g dreis antworten\n"
     ]
    },
    {
     "data": {
      "application/vnd.jupyter.widget-view+json": {
       "model_id": "871173cb34134a558f400b53ee289ddd",
       "version_major": 2,
       "version_minor": 0
      },
      "text/plain": [
       "Validation: 0it [00:00, ?it/s]"
      ]
     },
     "metadata": {},
     "output_type": "display_data"
    },
    {
     "name": "stdout",
     "output_type": "stream",
     "text": [
      "[NeMo I 2023-01-02 19:00:21 wer_bpe:187] \n",
      "    \n",
      "[NeMo I 2023-01-02 19:00:21 wer_bpe:188] reference:rangierfahrt vom gleis mike zwei drei ins drei drei antworten\n",
      "[NeMo I 2023-01-02 19:00:21 wer_bpe:189] predicted:rangierfahrt vom gleis mike zwei drei ins drei drei antworten\n",
      "[NeMo I 2023-01-02 19:00:21 wer_bpe:187] \n",
      "    \n",
      "[NeMo I 2023-01-02 19:00:21 wer_bpe:188] reference:spracheingabe\n",
      "[NeMo I 2023-01-02 19:00:21 wer_bpe:189] predicted:sprach eingabe\n",
      "[NeMo I 2023-01-02 19:00:21 wer_bpe:187] \n",
      "    \n",
      "[NeMo I 2023-01-02 19:00:21 wer_bpe:188] reference:umstellmanöver vom drei sechs nach gleis xray vier sieben via null vier antworten\n",
      "[NeMo I 2023-01-02 19:00:21 wer_bpe:189] predicted:umstellmanöver vom drei sechs nach gleis xray vier sieben via null vier antworten\n",
      "[NeMo I 2023-01-02 19:00:21 wer_bpe:187] \n",
      "    \n",
      "[NeMo I 2023-01-02 19:00:21 wer_bpe:188] reference:rangierfahrt von gleis sechs neun ins gleis delta sieben antworten\n",
      "[NeMo I 2023-01-02 19:00:21 wer_bpe:189] predicted:rangierfahrt von gleis sechs neun ins gleis delta sieben antworten\n",
      "[NeMo I 2023-01-02 19:00:21 wer_bpe:187] \n",
      "    \n",
      "[NeMo I 2023-01-02 19:00:21 wer_bpe:188] reference:umstellmanöver von charlie drei zwei via gleis victor sechs neun ins gleis golf zwei vier antworten\n",
      "[NeMo I 2023-01-02 19:00:21 wer_bpe:189] predicted:umstellmanöver von charlie drei zwei via gleis victor sechs neun ins gleis golf zwei vier antworten\n",
      "[NeMo I 2023-01-02 19:01:01 wer_bpe:187] \n",
      "    \n",
      "[NeMo I 2023-01-02 19:01:01 wer_bpe:188] reference:umstellmanöver vom november vier null via gleis romeo drei fünf ins gleis india sechs acht antworten\n",
      "[NeMo I 2023-01-02 19:01:01 wer_bpe:189] predicted:umstellmanöver vom november vier null via  romeo drei fünf ins gleis india sechs acht antworten\n",
      "[NeMo I 2023-01-02 19:01:28 wer_bpe:187] \n",
      "    \n",
      "[NeMo I 2023-01-02 19:01:28 wer_bpe:188] reference:rangierfahrt von gleis zulu vier sechs nach sieben zwei antworten\n",
      "[NeMo I 2023-01-02 19:01:28 wer_bpe:189] predicted:insierfahrt von gleis zul vier sechs mars zwei antworten\n",
      "[NeMo I 2023-01-02 19:01:54 wer_bpe:187] \n",
      "    \n",
      "[NeMo I 2023-01-02 19:01:54 wer_bpe:188] reference:umstellmanöver vom neun neun via gleis victor null vier nach sieben neun antworten\n",
      "[NeMo I 2023-01-02 19:01:54 wer_bpe:189] predicted:umstellmanöver vom neun neun gleis v null vier nach sieben antworten\n",
      "[NeMo I 2023-01-02 19:02:21 wer_bpe:187] \n",
      "    \n",
      "[NeMo I 2023-01-02 19:02:21 wer_bpe:188] reference:rangierfahrt vom gleis null null nach eins eins antworten\n",
      "[NeMo I 2023-01-02 19:02:21 wer_bpe:189] predicted:fahrt gleis null null nach eins eins antworten\n"
     ]
    },
    {
     "data": {
      "application/vnd.jupyter.widget-view+json": {
       "model_id": "b0870d8fa2864121a2a0e82103957124",
       "version_major": 2,
       "version_minor": 0
      },
      "text/plain": [
       "Validation: 0it [00:00, ?it/s]"
      ]
     },
     "metadata": {},
     "output_type": "display_data"
    },
    {
     "name": "stdout",
     "output_type": "stream",
     "text": [
      "[NeMo I 2023-01-02 19:02:43 wer_bpe:187] \n",
      "    \n",
      "[NeMo I 2023-01-02 19:02:43 wer_bpe:188] reference:rangierfahrt vom gleis mike zwei drei ins drei drei antworten\n",
      "[NeMo I 2023-01-02 19:02:43 wer_bpe:189] predicted:rangierfahrt vom gleis mike zwei drei ins drei drei antworten\n",
      "[NeMo I 2023-01-02 19:02:43 wer_bpe:187] \n",
      "    \n",
      "[NeMo I 2023-01-02 19:02:43 wer_bpe:188] reference:spracheingabe\n",
      "[NeMo I 2023-01-02 19:02:43 wer_bpe:189] predicted:sprach eingabe\n",
      "[NeMo I 2023-01-02 19:02:43 wer_bpe:187] \n",
      "    \n",
      "[NeMo I 2023-01-02 19:02:43 wer_bpe:188] reference:umstellmanöver vom drei sechs nach gleis xray vier sieben via null vier antworten\n",
      "[NeMo I 2023-01-02 19:02:43 wer_bpe:189] predicted:umstellmanöver vom drei sechs nach gleis xray vier sieben via null vier antworten\n",
      "[NeMo I 2023-01-02 19:02:43 wer_bpe:187] \n",
      "    \n",
      "[NeMo I 2023-01-02 19:02:43 wer_bpe:188] reference:rangierfahrt von gleis sechs neun ins gleis delta sieben antworten\n",
      "[NeMo I 2023-01-02 19:02:43 wer_bpe:189] predicted:rangierfahrt von gleis sechs neun ins gleis delta sieben antworten\n",
      "[NeMo I 2023-01-02 19:02:43 wer_bpe:187] \n",
      "    \n",
      "[NeMo I 2023-01-02 19:02:43 wer_bpe:188] reference:umstellmanöver von charlie drei zwei via gleis victor sechs neun ins gleis golf zwei vier antworten\n",
      "[NeMo I 2023-01-02 19:02:43 wer_bpe:189] predicted:umstellmanöver von charlie drei zwei via gleis victor sechs neun ins gleis golf zwei vier antworten\n",
      "[NeMo I 2023-01-02 19:03:25 wer_bpe:187] \n",
      "    \n",
      "[NeMo I 2023-01-02 19:03:25 wer_bpe:188] reference:umstellmanöver vom acht acht via zwei null ins alpha fünf vier antworten\n",
      "[NeMo I 2023-01-02 19:03:25 wer_bpe:189] predicted:umstellmanöver vom acht via zwei null ins alpha fünf vier antworten\n",
      "[NeMo I 2023-01-02 19:03:51 wer_bpe:187] \n",
      "    \n",
      "[NeMo I 2023-01-02 19:03:51 wer_bpe:188] reference:bereits während dieser zeit schrieb sie zahlreiche beiträge für zeitungen und radiosender\n",
      "[NeMo I 2023-01-02 19:03:51 wer_bpe:189] predicted:bereitss während dieser zeit  v zahlreich beitritt für zeitungen unds\n",
      "[NeMo I 2023-01-02 19:04:18 wer_bpe:187] \n",
      "    \n",
      "[NeMo I 2023-01-02 19:04:18 wer_bpe:188] reference:rangierfahrt vom gleis null antworten\n",
      "[NeMo I 2023-01-02 19:04:18 wer_bpe:189] predicted:rangierfahr vom gleis null antworten\n",
      "[NeMo I 2023-01-02 19:04:45 wer_bpe:187] \n",
      "    \n",
      "[NeMo I 2023-01-02 19:04:45 wer_bpe:188] reference:umstellmanöver vom gleis eins eins ins gleis golf drei zwei via gleis sierra eins neun antworten\n",
      "[NeMo I 2023-01-02 19:04:45 wer_bpe:189] predicted:umstellmanöver vom gleis eins eins ins gleis golf drei zwei  gleis sierra eins neun antwort\n"
     ]
    },
    {
     "data": {
      "application/vnd.jupyter.widget-view+json": {
       "model_id": "329a39d4245c46f7a9c6f980ac68f550",
       "version_major": 2,
       "version_minor": 0
      },
      "text/plain": [
       "Validation: 0it [00:00, ?it/s]"
      ]
     },
     "metadata": {},
     "output_type": "display_data"
    },
    {
     "name": "stdout",
     "output_type": "stream",
     "text": [
      "[NeMo I 2023-01-02 19:05:06 wer_bpe:187] \n",
      "    \n",
      "[NeMo I 2023-01-02 19:05:06 wer_bpe:188] reference:rangierfahrt vom gleis mike zwei drei ins drei drei antworten\n",
      "[NeMo I 2023-01-02 19:05:06 wer_bpe:189] predicted:rangierfahrt vom gleis mike zwei drei ins drei drei antworten\n",
      "[NeMo I 2023-01-02 19:05:07 wer_bpe:187] \n",
      "    \n",
      "[NeMo I 2023-01-02 19:05:07 wer_bpe:188] reference:spracheingabe\n",
      "[NeMo I 2023-01-02 19:05:07 wer_bpe:189] predicted:spracheingabe\n",
      "[NeMo I 2023-01-02 19:05:07 wer_bpe:187] \n",
      "    \n",
      "[NeMo I 2023-01-02 19:05:07 wer_bpe:188] reference:umstellmanöver vom drei sechs nach gleis xray vier sieben via null vier antworten\n",
      "[NeMo I 2023-01-02 19:05:07 wer_bpe:189] predicted:umstellmanöver vom drei sechs nach gleis xray vier sieben via null vier antworten\n",
      "[NeMo I 2023-01-02 19:05:07 wer_bpe:187] \n",
      "    \n",
      "[NeMo I 2023-01-02 19:05:07 wer_bpe:188] reference:rangierfahrt von gleis sechs neun ins gleis delta sieben antworten\n",
      "[NeMo I 2023-01-02 19:05:07 wer_bpe:189] predicted:rangierfahrt von gleis sechs neun ins gleis delta sieben antworten\n",
      "[NeMo I 2023-01-02 19:05:07 wer_bpe:187] \n",
      "    \n",
      "[NeMo I 2023-01-02 19:05:07 wer_bpe:188] reference:umstellmanöver von charlie drei zwei via gleis victor sechs neun ins gleis golf zwei vier antworten\n",
      "[NeMo I 2023-01-02 19:05:07 wer_bpe:189] predicted:umstellmanöver von charlie drei zwei via gleis victor sechs neun ins gleis golf zwei vier antworten\n"
     ]
    },
    {
     "name": "stderr",
     "output_type": "stream",
     "text": [
      "`Trainer.fit` stopped: `max_epochs=8` reached.\n"
     ]
    },
    {
     "data": {
      "text/html": [
       "Waiting for W&B process to finish... <strong style=\"color:green\">(success).</strong>"
      ],
      "text/plain": [
       "<IPython.core.display.HTML object>"
      ]
     },
     "metadata": {},
     "output_type": "display_data"
    },
    {
     "data": {
      "text/html": [
       "<style>\n",
       "    table.wandb td:nth-child(1) { padding: 0 10px; text-align: left ; width: auto;} td:nth-child(2) {text-align: left ; width: 100%}\n",
       "    .wandb-row { display: flex; flex-direction: row; flex-wrap: wrap; justify-content: flex-start; width: 100% }\n",
       "    .wandb-col { display: flex; flex-direction: column; flex-basis: 100%; flex: 1; padding: 10px; }\n",
       "    </style>\n",
       "<div class=\"wandb-row\"><div class=\"wandb-col\"><h3>Run history:</h3><br/><table class=\"wandb\"><tr><td>epoch</td><td>▁▁▁▁▁▂▂▂▂▂▃▃▃▃▃▃▄▄▄▄▅▅▅▅▅▆▆▆▆▆▆▇▇▇▇▇████</td></tr><tr><td>global_step</td><td>▁▁▁▂▂▂▂▂▃▃▃▃▃▃▃▄▄▄▄▄▄▅▅▅▅▅▆▆▆▆▆▆▇▇▇▇▇▇██</td></tr><tr><td>learning_rate</td><td>▁▁▁▂▂▂▂▂▃▃▃▃▃▄▄▄▄▄▄▅▅▅▅▅▆▆▆▆▆▇▇▇▇▇███</td></tr><tr><td>train_loss</td><td>▇█▆▆▇▅▅▅▅▄▃▆▄▅▃▃▃▃▃▃▂▄▃▂▄▁▂▂▁▂▂▃▁▃▂▁▁</td></tr><tr><td>trainer/global_step</td><td>▁▁▁▂▂▂▂▂▃▃▃▃▃▃▃▄▄▄▄▄▄▅▅▅▅▅▆▆▆▆▆▆▇▇▇▇▇▇██</td></tr><tr><td>training_batch_wer</td><td>██▇▇▇▇▇▄▅▅▆▅▃▅▄▃▆▂▃▂▂▂▃▃▂▃▂▁▄▂</td></tr><tr><td>val_loss</td><td>█▄▂▂▁▁▁▁</td></tr><tr><td>val_wer</td><td>█▄▂▂▁▁▁▁</td></tr></table><br/></div><div class=\"wandb-col\"><h3>Run summary:</h3><br/><table class=\"wandb\"><tr><td>epoch</td><td>7</td></tr><tr><td>global_step</td><td>1896.0</td></tr><tr><td>learning_rate</td><td>3e-05</td></tr><tr><td>train_loss</td><td>20.17568</td></tr><tr><td>trainer/global_step</td><td>1895</td></tr><tr><td>training_batch_wer</td><td>0.33333</td></tr><tr><td>val_loss</td><td>2.48518</td></tr><tr><td>val_wer</td><td>0.02872</td></tr></table><br/></div></div>"
      ],
      "text/plain": [
       "<IPython.core.display.HTML object>"
      ]
     },
     "metadata": {},
     "output_type": "display_data"
    },
    {
     "data": {
      "text/html": [
       "Synced <strong style=\"color:#cdcd00\">lilac-sweep-7</strong>: <a href=\"https://wandb.ai/unisg-ds-nlp/ASR/runs/vmyrzkz3\" target=\"_blank\">https://wandb.ai/unisg-ds-nlp/ASR/runs/vmyrzkz3</a><br/>Synced 5 W&B file(s), 0 media file(s), 8 artifact file(s) and 0 other file(s)"
      ],
      "text/plain": [
       "<IPython.core.display.HTML object>"
      ]
     },
     "metadata": {},
     "output_type": "display_data"
    },
    {
     "data": {
      "text/html": [
       "Find logs at: <code>./wandb/run-20230102_184606-vmyrzkz3/logs</code>"
      ],
      "text/plain": [
       "<IPython.core.display.HTML object>"
      ]
     },
     "metadata": {},
     "output_type": "display_data"
    },
    {
     "name": "stderr",
     "output_type": "stream",
     "text": [
      "\u001b[34m\u001b[1mwandb\u001b[0m: Agent Starting Run: zh6n46sc with config:\n",
      "\u001b[34m\u001b[1mwandb\u001b[0m: \tepoch: 4\n",
      "\u001b[34m\u001b[1mwandb\u001b[0m: \tfreq_width: 28.909369819570205\n",
      "\u001b[34m\u001b[1mwandb\u001b[0m: \tlr: 0.0032186754053060043\n",
      "Failed to detect the name of this notebook, you can set it manually with the WANDB_NOTEBOOK_NAME environment variable to enable code saving.\n"
     ]
    },
    {
     "data": {
      "text/html": [
       "wandb version 0.13.7 is available!  To upgrade, please run:\n",
       " $ pip install wandb --upgrade"
      ],
      "text/plain": [
       "<IPython.core.display.HTML object>"
      ]
     },
     "metadata": {},
     "output_type": "display_data"
    },
    {
     "data": {
      "text/html": [
       "Tracking run with wandb version 0.13.4"
      ],
      "text/plain": [
       "<IPython.core.display.HTML object>"
      ]
     },
     "metadata": {},
     "output_type": "display_data"
    },
    {
     "data": {
      "text/html": [
       "Run data is saved locally in <code>/home/user/code/sbb_asr/notebooks/wandb/run-20230102_190553-zh6n46sc</code>"
      ],
      "text/plain": [
       "<IPython.core.display.HTML object>"
      ]
     },
     "metadata": {},
     "output_type": "display_data"
    },
    {
     "data": {
      "text/html": [
       "Syncing run <strong><a href=\"https://wandb.ai/unisg-ds-nlp/ASR/runs/zh6n46sc\" target=\"_blank\">neat-sweep-8</a></strong> to <a href=\"https://wandb.ai/unisg-ds-nlp/ASR\" target=\"_blank\">Weights & Biases</a> (<a href=\"https://wandb.me/run\" target=\"_blank\">docs</a>)<br/>Sweep page:  <a href=\"https://wandb.ai/unisg-ds-nlp/ASR/sweeps/v7qi12lc\" target=\"_blank\">https://wandb.ai/unisg-ds-nlp/ASR/sweeps/v7qi12lc</a>"
      ],
      "text/plain": [
       "<IPython.core.display.HTML object>"
      ]
     },
     "metadata": {},
     "output_type": "display_data"
    },
    {
     "name": "stderr",
     "output_type": "stream",
     "text": [
      "[NeMo W 2023-01-02 19:05:55 nemo_logging:349] /home/user/.local/lib/python3.9/site-packages/pytorch_lightning/loggers/wandb.py:352: UserWarning: There is a wandb run already in progress and newly created instances of `WandbLogger` will reuse this run. If this is not desired, call `wandb.finish()` before instantiating `WandbLogger`.\n",
      "      rank_zero_warn(\n",
      "    \n",
      "[NeMo W 2023-01-02 19:05:55 nemo_logging:349] /home/user/.local/lib/python3.9/site-packages/pytorch_lightning/trainer/connectors/accelerator_connector.py:447: LightningDeprecationWarning: Setting `Trainer(gpus=1)` is deprecated in v1.7 and will be removed in v2.0. Please use `Trainer(accelerator='gpu', devices=1)` instead.\n",
      "      rank_zero_deprecation(\n",
      "    \n",
      "GPU available: True (cuda), used: True\n",
      "TPU available: False, using: 0 TPU cores\n",
      "IPU available: False, using: 0 IPUs\n",
      "HPU available: False, using: 0 HPUs\n"
     ]
    },
    {
     "name": "stdout",
     "output_type": "stream",
     "text": [
      "[NeMo I 2023-01-02 19:05:56 cloud:56] Found existing object /home/user/.cache/torch/NeMo/NeMo_1.12.0/stt_de_citrinet_1024/8743e4cecb8017ca2b49a035e07b2893/stt_de_citrinet_1024.nemo.\n",
      "[NeMo I 2023-01-02 19:05:56 cloud:62] Re-using file from: /home/user/.cache/torch/NeMo/NeMo_1.12.0/stt_de_citrinet_1024/8743e4cecb8017ca2b49a035e07b2893/stt_de_citrinet_1024.nemo\n",
      "[NeMo I 2023-01-02 19:05:56 common:910] Instantiating model from pre-trained checkpoint\n",
      "[NeMo I 2023-01-02 19:06:01 mixins:170] Tokenizer SentencePieceTokenizer initialized with 1024 tokens\n"
     ]
    },
    {
     "name": "stderr",
     "output_type": "stream",
     "text": [
      "[NeMo W 2023-01-02 19:06:02 modelPT:142] If you intend to do training or fine-tuning, please call the ModelPT.setup_training_data() method and provide a valid configuration file to setup the train data loader.\n",
      "    Train config : \n",
      "    manifest_filepath: /data/train/tarred_audio_manifest.json\n",
      "    sample_rate: 16000\n",
      "    batch_size: 32\n",
      "    trim_silence: false\n",
      "    max_duration: 35.0\n",
      "    shuffle: true\n",
      "    is_tarred: true\n",
      "    tarred_audio_filepaths: /data/train/audio__OP_0..1023_CL_.tar\n",
      "    use_start_end_token: false\n",
      "    shuffle_n: 1024\n",
      "    num_workers: 16\n",
      "    pin_memory: true\n",
      "    \n",
      "[NeMo W 2023-01-02 19:06:02 modelPT:149] If you intend to do validation, please call the ModelPT.setup_validation_data() or ModelPT.setup_multiple_validation_data() method and provide a valid configuration file to setup the validation data loader(s). \n",
      "    Validation config : \n",
      "    manifest_filepath:\n",
      "    - /data/voxpopuli_de/dev/voxpopuli_dev_manifest.json\n",
      "    - /data/voxpopuli_de/test/voxpopuli_test_manifest.json\n",
      "    - /data/mcv7.0_de/mcv7.0_dev_manifest_cleaned.json\n",
      "    - /data/mcv7.0_de/mcv7.0_test_manifest_cleaned.json\n",
      "    - /data/mls_de/mls_dev_manifest_cleaned.json\n",
      "    - /data/mls_de/mls_test_manifest_cleaned.json\n",
      "    sample_rate: 16000\n",
      "    batch_size: 8\n",
      "    shuffle: false\n",
      "    use_start_end_token: false\n",
      "    num_workers: 8\n",
      "    pin_memory: true\n",
      "    \n",
      "[NeMo W 2023-01-02 19:06:02 modelPT:155] Please call the ModelPT.setup_test_data() or ModelPT.setup_multiple_test_data() method and provide a valid configuration file to setup the test data loader(s).\n",
      "    Test config : \n",
      "    manifest_filepath: null\n",
      "    sample_rate: 16000\n",
      "    batch_size: 32\n",
      "    shuffle: false\n",
      "    use_start_end_token: false\n",
      "    \n"
     ]
    },
    {
     "name": "stdout",
     "output_type": "stream",
     "text": [
      "[NeMo I 2023-01-02 19:06:02 features:225] PADDING: 16\n",
      "[NeMo I 2023-01-02 19:06:06 save_restore_connector:243] Model EncDecCTCModelBPE was successfully restored from /home/user/.cache/torch/NeMo/NeMo_1.12.0/stt_de_citrinet_1024/8743e4cecb8017ca2b49a035e07b2893/stt_de_citrinet_1024.nemo.\n",
      "[NeMo I 2023-01-02 19:06:07 collections:194] Dataset loaded with 1890 files totalling 7.41 hours\n",
      "[NeMo I 2023-01-02 19:06:07 collections:195] 0 files were filtered totalling 0.00 hours\n",
      "[NeMo I 2023-01-02 19:06:07 collections:194] Dataset loaded with 34 files totalling 0.13 hours\n",
      "[NeMo I 2023-01-02 19:06:07 collections:195] 0 files were filtered totalling 0.00 hours\n",
      "[NeMo I 2023-01-02 19:06:07 collections:194] Dataset loaded with 34 files totalling 0.14 hours\n",
      "[NeMo I 2023-01-02 19:06:07 collections:195] 0 files were filtered totalling 0.00 hours\n",
      "[NeMo I 2023-01-02 19:06:07 modelPT:597] Optimizer config = Novograd (\n",
      "    Parameter Group 0\n",
      "        amsgrad: False\n",
      "        betas: [0.8, 0.25]\n",
      "        eps: 1e-08\n",
      "        grad_averaging: False\n",
      "        lr: 0.0032186754053060043\n",
      "        weight_decay: 0.001\n",
      "    )\n",
      "[NeMo I 2023-01-02 19:06:07 lr_scheduler:910] Scheduler \"<nemo.core.optim.lr_scheduler.CosineAnnealing object at 0x7f835e3adb80>\" \n",
      "    will be used during training (effective maximum steps = 948) - \n",
      "    Parameters : \n",
      "    (warmup_steps: 10000\n",
      "    warmup_ratio: null\n",
      "    min_lr: 1.0e-05\n",
      "    last_epoch: -1\n",
      "    max_steps: 948\n",
      "    )\n"
     ]
    },
    {
     "name": "stderr",
     "output_type": "stream",
     "text": [
      "LOCAL_RANK: 0 - CUDA_VISIBLE_DEVICES: [0,1,2,3]\n"
     ]
    },
    {
     "name": "stdout",
     "output_type": "stream",
     "text": [
      "[NeMo I 2023-01-02 19:06:07 modelPT:597] Optimizer config = Novograd (\n",
      "    Parameter Group 0\n",
      "        amsgrad: False\n",
      "        betas: [0.8, 0.25]\n",
      "        eps: 1e-08\n",
      "        grad_averaging: False\n",
      "        lr: 0.0032186754053060043\n",
      "        weight_decay: 0.001\n",
      "    )\n",
      "[NeMo I 2023-01-02 19:06:07 lr_scheduler:910] Scheduler \"<nemo.core.optim.lr_scheduler.CosineAnnealing object at 0x7f842c6c6700>\" \n",
      "    will be used during training (effective maximum steps = 948) - \n",
      "    Parameters : \n",
      "    (warmup_steps: 10000\n",
      "    warmup_ratio: null\n",
      "    min_lr: 1.0e-05\n",
      "    last_epoch: -1\n",
      "    max_steps: 948\n",
      "    )\n"
     ]
    },
    {
     "name": "stderr",
     "output_type": "stream",
     "text": [
      "\n",
      "  | Name              | Type                              | Params\n",
      "------------------------------------------------------------------------\n",
      "0 | preprocessor      | AudioToMelSpectrogramPreprocessor | 0     \n",
      "1 | encoder           | ConvASREncoder                    | 140 M \n",
      "2 | decoder           | ConvASRDecoder                    | 1.1 M \n",
      "3 | loss              | CTCLoss                           | 0     \n",
      "4 | spec_augmentation | SpectrogramAugmentation           | 0     \n",
      "5 | _wer              | WERBPE                            | 0     \n",
      "------------------------------------------------------------------------\n",
      "141 M     Trainable params\n",
      "0         Non-trainable params\n",
      "141 M     Total params\n",
      "564.897   Total estimated model params size (MB)\n"
     ]
    },
    {
     "data": {
      "application/vnd.jupyter.widget-view+json": {
       "model_id": "b7ac595da9b64147ac82088c75387079",
       "version_major": 2,
       "version_minor": 0
      },
      "text/plain": [
       "Sanity Checking: 0it [00:00, ?it/s]"
      ]
     },
     "metadata": {},
     "output_type": "display_data"
    },
    {
     "name": "stdout",
     "output_type": "stream",
     "text": [
      "[NeMo I 2023-01-02 19:06:09 wer_bpe:187] \n",
      "    \n",
      "[NeMo I 2023-01-02 19:06:09 wer_bpe:188] reference:rangierfahrt vom gleis mike zwei drei ins drei drei antworten\n",
      "[NeMo I 2023-01-02 19:06:09 wer_bpe:189] predicted:prongierfahrt vom gleis maik zwei drei ins drei drei antworten\n",
      "[NeMo I 2023-01-02 19:06:10 wer_bpe:187] \n",
      "    \n",
      "[NeMo I 2023-01-02 19:06:10 wer_bpe:188] reference:spracheingabe\n",
      "[NeMo I 2023-01-02 19:06:10 wer_bpe:189] predicted:spracheingabe\n"
     ]
    },
    {
     "data": {
      "application/vnd.jupyter.widget-view+json": {
       "model_id": "dfff20161736413e88399f9cbea2374a",
       "version_major": 2,
       "version_minor": 0
      },
      "text/plain": [
       "Training: 0it [00:00, ?it/s]"
      ]
     },
     "metadata": {},
     "output_type": "display_data"
    },
    {
     "name": "stdout",
     "output_type": "stream",
     "text": [
      "[NeMo I 2023-01-02 19:06:40 wer_bpe:187] \n",
      "    \n",
      "[NeMo I 2023-01-02 19:06:40 wer_bpe:188] reference:umstellmanöver vom vier zwei via echo acht eins ins gleis foxtrot fünf eins antworten\n",
      "[NeMo I 2023-01-02 19:06:40 wer_bpe:189] predicted:man zwar wie ich so fxs dort und\n",
      "[NeMo I 2023-01-02 19:07:06 wer_bpe:187] \n",
      "    \n",
      "[NeMo I 2023-01-02 19:07:06 wer_bpe:188] reference:rangierfahrt vom tango zwei zwei nach zwei neun antworten\n",
      "[NeMo I 2023-01-02 19:07:06 wer_bpe:189] predicted:nche tango zwei zweiwar noch zwei neun antworten\n",
      "[NeMo I 2023-01-02 19:07:33 wer_bpe:187] \n",
      "    \n",
      "[NeMo I 2023-01-02 19:07:33 wer_bpe:188] reference:umstellmanöver vom acht neun nach gleis hotel null sieben via gleis eins eins antworten\n",
      "[NeMo I 2023-01-02 19:07:33 wer_bpe:189] predicted:neu warleis oder jasel eins antwort\n",
      "[NeMo I 2023-01-02 19:08:00 wer_bpe:187] \n",
      "    \n",
      "[NeMo I 2023-01-02 19:08:00 wer_bpe:188] reference:umstellmanöver vom gleis bravo null null nach vier eins via gleis fünf sechs antworten\n",
      "[NeMo I 2023-01-02 19:08:00 wer_bpe:189] predicted:in la tageleileis von\n"
     ]
    },
    {
     "data": {
      "application/vnd.jupyter.widget-view+json": {
       "model_id": "c2c0bd0efd9b43adaf23474242e92b42",
       "version_major": 2,
       "version_minor": 0
      },
      "text/plain": [
       "Validation: 0it [00:00, ?it/s]"
      ]
     },
     "metadata": {},
     "output_type": "display_data"
    },
    {
     "name": "stdout",
     "output_type": "stream",
     "text": [
      "[NeMo I 2023-01-02 19:08:22 wer_bpe:187] \n",
      "    \n",
      "[NeMo I 2023-01-02 19:08:22 wer_bpe:188] reference:rangierfahrt vom gleis mike zwei drei ins drei drei antworten\n",
      "[NeMo I 2023-01-02 19:08:22 wer_bpe:189] predicted:rangierfahrt vom gleis mike zwei drei ins drei drei antworten\n",
      "[NeMo I 2023-01-02 19:08:22 wer_bpe:187] \n",
      "    \n",
      "[NeMo I 2023-01-02 19:08:22 wer_bpe:188] reference:spracheingabe\n",
      "[NeMo I 2023-01-02 19:08:22 wer_bpe:189] predicted:sprach eingabe\n",
      "[NeMo I 2023-01-02 19:08:22 wer_bpe:187] \n",
      "    \n",
      "[NeMo I 2023-01-02 19:08:22 wer_bpe:188] reference:umstellmanöver vom drei sechs nach gleis xray vier sieben via null vier antworten\n",
      "[NeMo I 2023-01-02 19:08:22 wer_bpe:189] predicted:umstellmanöver vom drei sechs nach gleis xray vier sieben via null vier antworten\n",
      "[NeMo I 2023-01-02 19:08:23 wer_bpe:187] \n",
      "    \n",
      "[NeMo I 2023-01-02 19:08:23 wer_bpe:188] reference:rangierfahrt von gleis sechs neun ins gleis delta sieben antworten\n",
      "[NeMo I 2023-01-02 19:08:23 wer_bpe:189] predicted:rangierfahrt von gleis sechs neun ins gleis delta sieben antworten\n",
      "[NeMo I 2023-01-02 19:08:23 wer_bpe:187] \n",
      "    \n",
      "[NeMo I 2023-01-02 19:08:23 wer_bpe:188] reference:umstellmanöver von charlie drei zwei via gleis victor sechs neun ins gleis golf zwei vier antworten\n",
      "[NeMo I 2023-01-02 19:08:23 wer_bpe:189] predicted:umstellmanöver von charliy drei zwei via gleis victor sechs neun ins gleis gol zwei vier antwort\n",
      "[NeMo I 2023-01-02 19:09:02 wer_bpe:187] \n",
      "    \n",
      "[NeMo I 2023-01-02 19:09:02 wer_bpe:188] reference:rangierfahrt vom quebec fünf nach alpha zwei null antworten\n",
      "[NeMo I 2023-01-02 19:09:02 wer_bpe:189] predicted:rangierfahrt vom ko fünf nach alpha zwei null antworten\n",
      "[NeMo I 2023-01-02 19:09:29 wer_bpe:187] \n",
      "    \n",
      "[NeMo I 2023-01-02 19:09:29 wer_bpe:188] reference:rangierfahrt von null vier nach alpha null acht antworten\n",
      "[NeMo I 2023-01-02 19:09:29 wer_bpe:189] predicted:rangierfahrt null vier nach alpha neu acht antworten\n",
      "[NeMo I 2023-01-02 19:09:55 wer_bpe:187] \n",
      "    \n",
      "[NeMo I 2023-01-02 19:09:55 wer_bpe:188] reference:rangierfahrt vom quebec fünf nach alpha zwei null antworten\n",
      "[NeMo I 2023-01-02 19:09:55 wer_bpe:189] predicted:rafahrt vom bec fünf nach alpha zwei null antworten\n",
      "[NeMo I 2023-01-02 19:10:22 wer_bpe:187] \n",
      "    \n",
      "[NeMo I 2023-01-02 19:10:22 wer_bpe:188] reference:umstellmanöver von charlie drei zwei via gleis victor sechs neun ins gleis golf zwei vier antworten\n",
      "[NeMo I 2023-01-02 19:10:22 wer_bpe:189] predicted:umstellmanöver von charma zwei via g victor sechs neun in gleis golf zwei vier antworten\n"
     ]
    },
    {
     "data": {
      "application/vnd.jupyter.widget-view+json": {
       "model_id": "adb2b0f458a84c7f855d0b3215f75ae2",
       "version_major": 2,
       "version_minor": 0
      },
      "text/plain": [
       "Validation: 0it [00:00, ?it/s]"
      ]
     },
     "metadata": {},
     "output_type": "display_data"
    },
    {
     "name": "stdout",
     "output_type": "stream",
     "text": [
      "[NeMo I 2023-01-02 19:10:44 wer_bpe:187] \n",
      "    \n",
      "[NeMo I 2023-01-02 19:10:44 wer_bpe:188] reference:rangierfahrt vom gleis mike zwei drei ins drei drei antworten\n",
      "[NeMo I 2023-01-02 19:10:44 wer_bpe:189] predicted:rangierfahrt vom gleis mike zwei drei ins drei drei antworten\n",
      "[NeMo I 2023-01-02 19:10:44 wer_bpe:187] \n",
      "    \n",
      "[NeMo I 2023-01-02 19:10:44 wer_bpe:188] reference:spracheingabe\n",
      "[NeMo I 2023-01-02 19:10:44 wer_bpe:189] predicted:spracheingabe\n",
      "[NeMo I 2023-01-02 19:10:44 wer_bpe:187] \n",
      "    \n",
      "[NeMo I 2023-01-02 19:10:44 wer_bpe:188] reference:umstellmanöver vom drei sechs nach gleis xray vier sieben via null vier antworten\n",
      "[NeMo I 2023-01-02 19:10:44 wer_bpe:189] predicted:umstellmanöver vom drei sechs nach gleis xray vier sieben via null vier antworten\n",
      "[NeMo I 2023-01-02 19:10:45 wer_bpe:187] \n",
      "    \n",
      "[NeMo I 2023-01-02 19:10:45 wer_bpe:188] reference:rangierfahrt von gleis sechs neun ins gleis delta sieben antworten\n",
      "[NeMo I 2023-01-02 19:10:45 wer_bpe:189] predicted:rangierfahrt von gleis sechs neun ins gleis delta sieben antworten\n",
      "[NeMo I 2023-01-02 19:10:45 wer_bpe:187] \n",
      "    \n",
      "[NeMo I 2023-01-02 19:10:45 wer_bpe:188] reference:umstellmanöver von charlie drei zwei via gleis victor sechs neun ins gleis golf zwei vier antworten\n",
      "[NeMo I 2023-01-02 19:10:45 wer_bpe:189] predicted:umstellmanöver von charlie drei zwei via gleis victor sechs neun ins gleis golf zwei vier antworten\n",
      "[NeMo I 2023-01-02 19:11:23 wer_bpe:187] \n",
      "    \n",
      "[NeMo I 2023-01-02 19:11:23 wer_bpe:188] reference:rangierfahrt von gleis sieben sieben ins eins zwei antworten\n",
      "[NeMo I 2023-01-02 19:11:23 wer_bpe:189] predicted:rangierfahrt von gleis sieben sieben ins eins zwei antworten\n",
      "[NeMo I 2023-01-02 19:11:50 wer_bpe:187] \n",
      "    \n",
      "[NeMo I 2023-01-02 19:11:50 wer_bpe:188] reference:umstellmanöver vom gleis eins eins ins gleis golf drei zwei via gleis sierra eins neun antworten\n",
      "[NeMo I 2023-01-02 19:11:50 wer_bpe:189] predicted:umstellmanöver vom proleist eins acht ins gleis golf drei drei nach gleis sierra eins neun antworten\n",
      "[NeMo I 2023-01-02 19:12:16 wer_bpe:187] \n",
      "    \n",
      "[NeMo I 2023-01-02 19:12:16 wer_bpe:188] reference:umstellmanöver vom gleis papa zwei sieben nach victor sechs sieben via vier antworten\n",
      "[NeMo I 2023-01-02 19:12:16 wer_bpe:189] predicted:umstellmanöver vom gleis papa drei in achtbenia antworten\n",
      "[NeMo I 2023-01-02 19:12:43 wer_bpe:187] \n",
      "    \n",
      "[NeMo I 2023-01-02 19:12:43 wer_bpe:188] reference:umstellmanöver vom gleis india eins vier ins sierra acht fünf via gleis bravo zwei eins antworten\n",
      "[NeMo I 2023-01-02 19:12:43 wer_bpe:189] predicted:umstellmanöver vom gleis india vier ins sierra acht fünf via gleis bravo zwei eins antworten\n"
     ]
    },
    {
     "data": {
      "application/vnd.jupyter.widget-view+json": {
       "model_id": "c547e2e1f96d4ba2b42e372f57fff60f",
       "version_major": 2,
       "version_minor": 0
      },
      "text/plain": [
       "Validation: 0it [00:00, ?it/s]"
      ]
     },
     "metadata": {},
     "output_type": "display_data"
    },
    {
     "name": "stdout",
     "output_type": "stream",
     "text": [
      "[NeMo I 2023-01-02 19:13:05 wer_bpe:187] \n",
      "    \n",
      "[NeMo I 2023-01-02 19:13:05 wer_bpe:188] reference:rangierfahrt vom gleis mike zwei drei ins drei drei antworten\n",
      "[NeMo I 2023-01-02 19:13:05 wer_bpe:189] predicted:rangierfahrt vom gleis mike zwei drei ins drei drei antworten\n",
      "[NeMo I 2023-01-02 19:13:05 wer_bpe:187] \n",
      "    \n",
      "[NeMo I 2023-01-02 19:13:05 wer_bpe:188] reference:spracheingabe\n",
      "[NeMo I 2023-01-02 19:13:05 wer_bpe:189] predicted:spracheingabe\n",
      "[NeMo I 2023-01-02 19:13:05 wer_bpe:187] \n",
      "    \n",
      "[NeMo I 2023-01-02 19:13:05 wer_bpe:188] reference:umstellmanöver vom drei sechs nach gleis xray vier sieben via null vier antworten\n",
      "[NeMo I 2023-01-02 19:13:05 wer_bpe:189] predicted:umstellmanöver vom drei sechs nach gleis xray vier sieben via null vier antworten\n",
      "[NeMo I 2023-01-02 19:13:05 wer_bpe:187] \n",
      "    \n",
      "[NeMo I 2023-01-02 19:13:05 wer_bpe:188] reference:rangierfahrt von gleis sechs neun ins gleis delta sieben antworten\n",
      "[NeMo I 2023-01-02 19:13:05 wer_bpe:189] predicted:rangierfahrt von gleis sechs neun ins gleis delta sieben antworten\n",
      "[NeMo I 2023-01-02 19:13:06 wer_bpe:187] \n",
      "    \n",
      "[NeMo I 2023-01-02 19:13:06 wer_bpe:188] reference:umstellmanöver von charlie drei zwei via gleis victor sechs neun ins gleis golf zwei vier antworten\n",
      "[NeMo I 2023-01-02 19:13:06 wer_bpe:189] predicted:umstellmanöver von charlie drei zwei via gleis victor sechs neun ins gleis golf zwei vier antworten\n",
      "[NeMo I 2023-01-02 19:13:44 wer_bpe:187] \n",
      "    \n",
      "[NeMo I 2023-01-02 19:13:44 wer_bpe:188] reference:umstellmanöver vom gleis india eins vier ins sierra acht fünf via gleis bravo zwei eins antworten\n",
      "[NeMo I 2023-01-02 19:13:44 wer_bpe:189] predicted:umstellmanöver vom gleis india eins vier ins sierra acht fünf via gleis bravo zwei eins antworten\n",
      "[NeMo I 2023-01-02 19:14:10 wer_bpe:187] \n",
      "    \n",
      "[NeMo I 2023-01-02 19:14:10 wer_bpe:188] reference:umstellmanöver vom vier sieben via gleis acht fünf ins gleis victor acht antworten\n",
      "[NeMo I 2023-01-02 19:14:10 wer_bpe:189] predicted:umstellmanöver von vier sieben in gleis acht fünf in gleichs victor acht antworten\n",
      "[NeMo I 2023-01-02 19:14:37 wer_bpe:187] \n",
      "    \n",
      "[NeMo I 2023-01-02 19:14:37 wer_bpe:188] reference:umstellmanöver vom hotel acht zwei nach zwei sieben via golf sechs acht antworten\n",
      "[NeMo I 2023-01-02 19:14:37 wer_bpe:189] predicted:umstellmanöver vom hotel acht zwei nach zwei sieben via golf sechs acht antworten\n",
      "[NeMo I 2023-01-02 19:15:03 wer_bpe:187] \n",
      "    \n",
      "[NeMo I 2023-01-02 19:15:03 wer_bpe:188] reference:umstellmanöver von gleis drei sechs via gleis romeo neun drei nach gleis acht neun antworten\n",
      "[NeMo I 2023-01-02 19:15:03 wer_bpe:189] predicted:umstellmanöver von gleis drei sechs via gleis neu drei nach gleis acht neun antworten\n"
     ]
    },
    {
     "data": {
      "application/vnd.jupyter.widget-view+json": {
       "model_id": "264785aa774e4b169fe0943802cc6941",
       "version_major": 2,
       "version_minor": 0
      },
      "text/plain": [
       "Validation: 0it [00:00, ?it/s]"
      ]
     },
     "metadata": {},
     "output_type": "display_data"
    },
    {
     "name": "stdout",
     "output_type": "stream",
     "text": [
      "[NeMo I 2023-01-02 19:15:26 wer_bpe:187] \n",
      "    \n",
      "[NeMo I 2023-01-02 19:15:26 wer_bpe:188] reference:rangierfahrt vom gleis mike zwei drei ins drei drei antworten\n",
      "[NeMo I 2023-01-02 19:15:26 wer_bpe:189] predicted:rangierfahrt vom gleis mike zwei drei ins drei drei antworten\n",
      "[NeMo I 2023-01-02 19:15:26 wer_bpe:187] \n",
      "    \n",
      "[NeMo I 2023-01-02 19:15:26 wer_bpe:188] reference:spracheingabe\n",
      "[NeMo I 2023-01-02 19:15:26 wer_bpe:189] predicted:spracheingabe\n",
      "[NeMo I 2023-01-02 19:15:26 wer_bpe:187] \n",
      "    \n",
      "[NeMo I 2023-01-02 19:15:26 wer_bpe:188] reference:umstellmanöver vom drei sechs nach gleis xray vier sieben via null vier antworten\n",
      "[NeMo I 2023-01-02 19:15:26 wer_bpe:189] predicted:umstellmanöver vom drei sechs nach gleis xray vier sieben via null vier antworten\n",
      "[NeMo I 2023-01-02 19:15:26 wer_bpe:187] \n",
      "    \n",
      "[NeMo I 2023-01-02 19:15:26 wer_bpe:188] reference:rangierfahrt von gleis sechs neun ins gleis delta sieben antworten\n",
      "[NeMo I 2023-01-02 19:15:26 wer_bpe:189] predicted:rangierfahrt von gleis sechs neun ins gleis delta sieben antworten\n",
      "[NeMo I 2023-01-02 19:15:26 wer_bpe:187] \n",
      "    \n",
      "[NeMo I 2023-01-02 19:15:26 wer_bpe:188] reference:umstellmanöver von charlie drei zwei via gleis victor sechs neun ins gleis golf zwei vier antworten\n",
      "[NeMo I 2023-01-02 19:15:26 wer_bpe:189] predicted:umstellmanöver von charlie drei zwei via gleis victor sechs neun ins gleis golf zwei vier antworten\n"
     ]
    },
    {
     "name": "stderr",
     "output_type": "stream",
     "text": [
      "`Trainer.fit` stopped: `max_epochs=4` reached.\n"
     ]
    },
    {
     "data": {
      "text/html": [
       "Waiting for W&B process to finish... <strong style=\"color:green\">(success).</strong>"
      ],
      "text/plain": [
       "<IPython.core.display.HTML object>"
      ]
     },
     "metadata": {},
     "output_type": "display_data"
    },
    {
     "data": {
      "text/html": [
       "<style>\n",
       "    table.wandb td:nth-child(1) { padding: 0 10px; text-align: left ; width: auto;} td:nth-child(2) {text-align: left ; width: 100%}\n",
       "    .wandb-row { display: flex; flex-direction: row; flex-wrap: wrap; justify-content: flex-start; width: 100% }\n",
       "    .wandb-col { display: flex; flex-direction: column; flex-basis: 100%; flex: 1; padding: 10px; }\n",
       "    </style>\n",
       "<div class=\"wandb-row\"><div class=\"wandb-col\"><h3>Run history:</h3><br/><table class=\"wandb\"><tr><td>epoch</td><td>▁▁▁▁▁▃▃▃▃▃▃▆▆▆▆▆▆█████</td></tr><tr><td>global_step</td><td>▁▁▂▂▂▃▃▃▄▄▄▅▅▅▆▆▆▆▇▇██</td></tr><tr><td>learning_rate</td><td>▁▁▂▂▃▃▃▄▄▅▅▆▆▆▇▇██</td></tr><tr><td>train_loss</td><td>█▇▅▇▄▄▂▃▂▄▁▃▂▂▃▁▂▂</td></tr><tr><td>trainer/global_step</td><td>▁▁▂▂▂▃▃▃▄▄▄▅▅▅▆▆▆▆▇▇██</td></tr><tr><td>training_batch_wer</td><td>█▆▅▆▃▃▃▂▂▂▃▁▂▂▂</td></tr><tr><td>val_loss</td><td>█▃▁▁</td></tr><tr><td>val_wer</td><td>█▂▁▁</td></tr></table><br/></div><div class=\"wandb-col\"><h3>Run summary:</h3><br/><table class=\"wandb\"><tr><td>epoch</td><td>3</td></tr><tr><td>global_step</td><td>948.0</td></tr><tr><td>learning_rate</td><td>0.00029</td></tr><tr><td>train_loss</td><td>26.15583</td></tr><tr><td>trainer/global_step</td><td>947</td></tr><tr><td>training_batch_wer</td><td>0.24419</td></tr><tr><td>val_loss</td><td>1.13003</td></tr><tr><td>val_wer</td><td>0.01567</td></tr></table><br/></div></div>"
      ],
      "text/plain": [
       "<IPython.core.display.HTML object>"
      ]
     },
     "metadata": {},
     "output_type": "display_data"
    },
    {
     "data": {
      "text/html": [
       "Synced <strong style=\"color:#cdcd00\">neat-sweep-8</strong>: <a href=\"https://wandb.ai/unisg-ds-nlp/ASR/runs/zh6n46sc\" target=\"_blank\">https://wandb.ai/unisg-ds-nlp/ASR/runs/zh6n46sc</a><br/>Synced 5 W&B file(s), 0 media file(s), 4 artifact file(s) and 0 other file(s)"
      ],
      "text/plain": [
       "<IPython.core.display.HTML object>"
      ]
     },
     "metadata": {},
     "output_type": "display_data"
    },
    {
     "data": {
      "text/html": [
       "Find logs at: <code>./wandb/run-20230102_190553-zh6n46sc/logs</code>"
      ],
      "text/plain": [
       "<IPython.core.display.HTML object>"
      ]
     },
     "metadata": {},
     "output_type": "display_data"
    },
    {
     "name": "stderr",
     "output_type": "stream",
     "text": [
      "\u001b[34m\u001b[1mwandb\u001b[0m: Agent Starting Run: fryfil87 with config:\n",
      "\u001b[34m\u001b[1mwandb\u001b[0m: \tepoch: 5\n",
      "\u001b[34m\u001b[1mwandb\u001b[0m: \tfreq_width: 27.07563802611988\n",
      "\u001b[34m\u001b[1mwandb\u001b[0m: \tlr: 0.005917196726829276\n",
      "Failed to detect the name of this notebook, you can set it manually with the WANDB_NOTEBOOK_NAME environment variable to enable code saving.\n"
     ]
    },
    {
     "data": {
      "text/html": [
       "wandb version 0.13.7 is available!  To upgrade, please run:\n",
       " $ pip install wandb --upgrade"
      ],
      "text/plain": [
       "<IPython.core.display.HTML object>"
      ]
     },
     "metadata": {},
     "output_type": "display_data"
    },
    {
     "data": {
      "text/html": [
       "Tracking run with wandb version 0.13.4"
      ],
      "text/plain": [
       "<IPython.core.display.HTML object>"
      ]
     },
     "metadata": {},
     "output_type": "display_data"
    },
    {
     "data": {
      "text/html": [
       "Run data is saved locally in <code>/home/user/code/sbb_asr/notebooks/wandb/run-20230102_191612-fryfil87</code>"
      ],
      "text/plain": [
       "<IPython.core.display.HTML object>"
      ]
     },
     "metadata": {},
     "output_type": "display_data"
    },
    {
     "data": {
      "text/html": [
       "Syncing run <strong><a href=\"https://wandb.ai/unisg-ds-nlp/ASR/runs/fryfil87\" target=\"_blank\">misunderstood-sweep-9</a></strong> to <a href=\"https://wandb.ai/unisg-ds-nlp/ASR\" target=\"_blank\">Weights & Biases</a> (<a href=\"https://wandb.me/run\" target=\"_blank\">docs</a>)<br/>Sweep page:  <a href=\"https://wandb.ai/unisg-ds-nlp/ASR/sweeps/v7qi12lc\" target=\"_blank\">https://wandb.ai/unisg-ds-nlp/ASR/sweeps/v7qi12lc</a>"
      ],
      "text/plain": [
       "<IPython.core.display.HTML object>"
      ]
     },
     "metadata": {},
     "output_type": "display_data"
    },
    {
     "name": "stderr",
     "output_type": "stream",
     "text": [
      "[NeMo W 2023-01-02 19:16:13 nemo_logging:349] /home/user/.local/lib/python3.9/site-packages/pytorch_lightning/loggers/wandb.py:352: UserWarning: There is a wandb run already in progress and newly created instances of `WandbLogger` will reuse this run. If this is not desired, call `wandb.finish()` before instantiating `WandbLogger`.\n",
      "      rank_zero_warn(\n",
      "    \n",
      "[NeMo W 2023-01-02 19:16:13 nemo_logging:349] /home/user/.local/lib/python3.9/site-packages/pytorch_lightning/trainer/connectors/accelerator_connector.py:447: LightningDeprecationWarning: Setting `Trainer(gpus=1)` is deprecated in v1.7 and will be removed in v2.0. Please use `Trainer(accelerator='gpu', devices=1)` instead.\n",
      "      rank_zero_deprecation(\n",
      "    \n",
      "GPU available: True (cuda), used: True\n",
      "TPU available: False, using: 0 TPU cores\n",
      "IPU available: False, using: 0 IPUs\n",
      "HPU available: False, using: 0 HPUs\n"
     ]
    },
    {
     "name": "stdout",
     "output_type": "stream",
     "text": [
      "[NeMo I 2023-01-02 19:16:15 cloud:56] Found existing object /home/user/.cache/torch/NeMo/NeMo_1.12.0/stt_de_citrinet_1024/8743e4cecb8017ca2b49a035e07b2893/stt_de_citrinet_1024.nemo.\n",
      "[NeMo I 2023-01-02 19:16:15 cloud:62] Re-using file from: /home/user/.cache/torch/NeMo/NeMo_1.12.0/stt_de_citrinet_1024/8743e4cecb8017ca2b49a035e07b2893/stt_de_citrinet_1024.nemo\n",
      "[NeMo I 2023-01-02 19:16:15 common:910] Instantiating model from pre-trained checkpoint\n",
      "[NeMo I 2023-01-02 19:16:19 mixins:170] Tokenizer SentencePieceTokenizer initialized with 1024 tokens\n"
     ]
    },
    {
     "name": "stderr",
     "output_type": "stream",
     "text": [
      "[NeMo W 2023-01-02 19:16:20 modelPT:142] If you intend to do training or fine-tuning, please call the ModelPT.setup_training_data() method and provide a valid configuration file to setup the train data loader.\n",
      "    Train config : \n",
      "    manifest_filepath: /data/train/tarred_audio_manifest.json\n",
      "    sample_rate: 16000\n",
      "    batch_size: 32\n",
      "    trim_silence: false\n",
      "    max_duration: 35.0\n",
      "    shuffle: true\n",
      "    is_tarred: true\n",
      "    tarred_audio_filepaths: /data/train/audio__OP_0..1023_CL_.tar\n",
      "    use_start_end_token: false\n",
      "    shuffle_n: 1024\n",
      "    num_workers: 16\n",
      "    pin_memory: true\n",
      "    \n",
      "[NeMo W 2023-01-02 19:16:20 modelPT:149] If you intend to do validation, please call the ModelPT.setup_validation_data() or ModelPT.setup_multiple_validation_data() method and provide a valid configuration file to setup the validation data loader(s). \n",
      "    Validation config : \n",
      "    manifest_filepath:\n",
      "    - /data/voxpopuli_de/dev/voxpopuli_dev_manifest.json\n",
      "    - /data/voxpopuli_de/test/voxpopuli_test_manifest.json\n",
      "    - /data/mcv7.0_de/mcv7.0_dev_manifest_cleaned.json\n",
      "    - /data/mcv7.0_de/mcv7.0_test_manifest_cleaned.json\n",
      "    - /data/mls_de/mls_dev_manifest_cleaned.json\n",
      "    - /data/mls_de/mls_test_manifest_cleaned.json\n",
      "    sample_rate: 16000\n",
      "    batch_size: 8\n",
      "    shuffle: false\n",
      "    use_start_end_token: false\n",
      "    num_workers: 8\n",
      "    pin_memory: true\n",
      "    \n",
      "[NeMo W 2023-01-02 19:16:20 modelPT:155] Please call the ModelPT.setup_test_data() or ModelPT.setup_multiple_test_data() method and provide a valid configuration file to setup the test data loader(s).\n",
      "    Test config : \n",
      "    manifest_filepath: null\n",
      "    sample_rate: 16000\n",
      "    batch_size: 32\n",
      "    shuffle: false\n",
      "    use_start_end_token: false\n",
      "    \n"
     ]
    },
    {
     "name": "stdout",
     "output_type": "stream",
     "text": [
      "[NeMo I 2023-01-02 19:16:20 features:225] PADDING: 16\n",
      "[NeMo I 2023-01-02 19:16:25 save_restore_connector:243] Model EncDecCTCModelBPE was successfully restored from /home/user/.cache/torch/NeMo/NeMo_1.12.0/stt_de_citrinet_1024/8743e4cecb8017ca2b49a035e07b2893/stt_de_citrinet_1024.nemo.\n",
      "[NeMo I 2023-01-02 19:16:25 collections:194] Dataset loaded with 1890 files totalling 7.41 hours\n",
      "[NeMo I 2023-01-02 19:16:25 collections:195] 0 files were filtered totalling 0.00 hours\n",
      "[NeMo I 2023-01-02 19:16:25 collections:194] Dataset loaded with 34 files totalling 0.13 hours\n",
      "[NeMo I 2023-01-02 19:16:25 collections:195] 0 files were filtered totalling 0.00 hours\n",
      "[NeMo I 2023-01-02 19:16:25 collections:194] Dataset loaded with 34 files totalling 0.14 hours\n",
      "[NeMo I 2023-01-02 19:16:25 collections:195] 0 files were filtered totalling 0.00 hours\n",
      "[NeMo I 2023-01-02 19:16:25 modelPT:597] Optimizer config = Novograd (\n",
      "    Parameter Group 0\n",
      "        amsgrad: False\n",
      "        betas: [0.8, 0.25]\n",
      "        eps: 1e-08\n",
      "        grad_averaging: False\n",
      "        lr: 0.005917196726829276\n",
      "        weight_decay: 0.001\n",
      "    )\n",
      "[NeMo I 2023-01-02 19:16:25 lr_scheduler:910] Scheduler \"<nemo.core.optim.lr_scheduler.CosineAnnealing object at 0x7f8386f7aa90>\" \n",
      "    will be used during training (effective maximum steps = 1185) - \n",
      "    Parameters : \n",
      "    (warmup_steps: 10000\n",
      "    warmup_ratio: null\n",
      "    min_lr: 1.0e-05\n",
      "    last_epoch: -1\n",
      "    max_steps: 1185\n",
      "    )\n"
     ]
    },
    {
     "name": "stderr",
     "output_type": "stream",
     "text": [
      "LOCAL_RANK: 0 - CUDA_VISIBLE_DEVICES: [0,1,2,3]\n"
     ]
    },
    {
     "name": "stdout",
     "output_type": "stream",
     "text": [
      "[NeMo I 2023-01-02 19:16:26 modelPT:597] Optimizer config = Novograd (\n",
      "    Parameter Group 0\n",
      "        amsgrad: False\n",
      "        betas: [0.8, 0.25]\n",
      "        eps: 1e-08\n",
      "        grad_averaging: False\n",
      "        lr: 0.005917196726829276\n",
      "        weight_decay: 0.001\n",
      "    )\n",
      "[NeMo I 2023-01-02 19:16:26 lr_scheduler:910] Scheduler \"<nemo.core.optim.lr_scheduler.CosineAnnealing object at 0x7f842c748910>\" \n",
      "    will be used during training (effective maximum steps = 1185) - \n",
      "    Parameters : \n",
      "    (warmup_steps: 10000\n",
      "    warmup_ratio: null\n",
      "    min_lr: 1.0e-05\n",
      "    last_epoch: -1\n",
      "    max_steps: 1185\n",
      "    )\n"
     ]
    },
    {
     "name": "stderr",
     "output_type": "stream",
     "text": [
      "\n",
      "  | Name              | Type                              | Params\n",
      "------------------------------------------------------------------------\n",
      "0 | preprocessor      | AudioToMelSpectrogramPreprocessor | 0     \n",
      "1 | encoder           | ConvASREncoder                    | 140 M \n",
      "2 | decoder           | ConvASRDecoder                    | 1.1 M \n",
      "3 | loss              | CTCLoss                           | 0     \n",
      "4 | spec_augmentation | SpectrogramAugmentation           | 0     \n",
      "5 | _wer              | WERBPE                            | 0     \n",
      "------------------------------------------------------------------------\n",
      "141 M     Trainable params\n",
      "0         Non-trainable params\n",
      "141 M     Total params\n",
      "564.897   Total estimated model params size (MB)\n"
     ]
    },
    {
     "data": {
      "application/vnd.jupyter.widget-view+json": {
       "model_id": "d7e2c2e8df8b4e039b7749f9c16f6f75",
       "version_major": 2,
       "version_minor": 0
      },
      "text/plain": [
       "Sanity Checking: 0it [00:00, ?it/s]"
      ]
     },
     "metadata": {},
     "output_type": "display_data"
    },
    {
     "name": "stdout",
     "output_type": "stream",
     "text": [
      "[NeMo I 2023-01-02 19:16:28 wer_bpe:187] \n",
      "    \n",
      "[NeMo I 2023-01-02 19:16:28 wer_bpe:188] reference:rangierfahrt vom gleis mike zwei drei ins drei drei antworten\n",
      "[NeMo I 2023-01-02 19:16:28 wer_bpe:189] predicted:prongierfahrt vom gleis maik zwei drei ins drei drei antworten\n",
      "[NeMo I 2023-01-02 19:16:28 wer_bpe:187] \n",
      "    \n",
      "[NeMo I 2023-01-02 19:16:28 wer_bpe:188] reference:spracheingabe\n",
      "[NeMo I 2023-01-02 19:16:28 wer_bpe:189] predicted:spracheingabe\n"
     ]
    },
    {
     "data": {
      "application/vnd.jupyter.widget-view+json": {
       "model_id": "5914f36f914b4367849d9c3072115017",
       "version_major": 2,
       "version_minor": 0
      },
      "text/plain": [
       "Training: 0it [00:00, ?it/s]"
      ]
     },
     "metadata": {},
     "output_type": "display_data"
    },
    {
     "name": "stdout",
     "output_type": "stream",
     "text": [
      "[NeMo I 2023-01-02 19:16:58 wer_bpe:187] \n",
      "    \n",
      "[NeMo I 2023-01-02 19:16:58 wer_bpe:188] reference:umstellmanöver vom alpha fünf sieben via gleis sieben nach victor drei null antworten\n",
      "[NeMo I 2023-01-02 19:16:58 wer_bpe:189] predicted:\n",
      "[NeMo I 2023-01-02 19:17:25 wer_bpe:187] \n",
      "    \n",
      "[NeMo I 2023-01-02 19:17:25 wer_bpe:188] reference:umstellmanöver vom romeo fünf via november sieben und acht drei nach gleis xray fünf antworten\n",
      "[NeMo I 2023-01-02 19:17:25 wer_bpe:189] predicted:umstellung vom erro für nov sieben und  drei nach gleis baray fühl\n",
      "[NeMo I 2023-01-02 19:17:51 wer_bpe:187] \n",
      "    \n",
      "[NeMo I 2023-01-02 19:17:51 wer_bpe:188] reference:umstellmanöver vom sechs vier via gleis eins drei nach gleis alpha fünf null antworten\n",
      "[NeMo I 2023-01-02 19:17:51 wer_bpe:189] predicted:umstellmanöver vom sechs vier via glei eins drei nach gleis alha fünf nl\n",
      "[NeMo I 2023-01-02 19:18:18 wer_bpe:187] \n",
      "    \n",
      "[NeMo I 2023-01-02 19:18:18 wer_bpe:188] reference:umstellmanöver vom fünf eins ins gleis papa sechs drei via gleis vier sechs antworten\n",
      "[NeMo I 2023-01-02 19:18:18 wer_bpe:189] predicted:mannöver vom fünf einslei sechs via gleis vier sechs antworten\n"
     ]
    },
    {
     "data": {
      "application/vnd.jupyter.widget-view+json": {
       "model_id": "59824f2f3d3b41a9bc9bac759a65c1b3",
       "version_major": 2,
       "version_minor": 0
      },
      "text/plain": [
       "Validation: 0it [00:00, ?it/s]"
      ]
     },
     "metadata": {},
     "output_type": "display_data"
    },
    {
     "name": "stdout",
     "output_type": "stream",
     "text": [
      "[NeMo I 2023-01-02 19:18:39 wer_bpe:187] \n",
      "    \n",
      "[NeMo I 2023-01-02 19:18:39 wer_bpe:188] reference:rangierfahrt vom gleis mike zwei drei ins drei drei antworten\n",
      "[NeMo I 2023-01-02 19:18:39 wer_bpe:189] predicted:rangierfahrt vom gleis mike zwei drei ins drei drei antworten\n",
      "[NeMo I 2023-01-02 19:18:39 wer_bpe:187] \n",
      "    \n",
      "[NeMo I 2023-01-02 19:18:39 wer_bpe:188] reference:spracheingabe\n",
      "[NeMo I 2023-01-02 19:18:39 wer_bpe:189] predicted:sprach eingabe\n",
      "[NeMo I 2023-01-02 19:18:40 wer_bpe:187] \n",
      "    \n",
      "[NeMo I 2023-01-02 19:18:40 wer_bpe:188] reference:umstellmanöver vom drei sechs nach gleis xray vier sieben via null vier antworten\n",
      "[NeMo I 2023-01-02 19:18:40 wer_bpe:189] predicted:umstellmanöver vom drei sechs nach gleis xray vier sieben via null vier antworten\n",
      "[NeMo I 2023-01-02 19:18:40 wer_bpe:187] \n",
      "    \n",
      "[NeMo I 2023-01-02 19:18:40 wer_bpe:188] reference:rangierfahrt von gleis sechs neun ins gleis delta sieben antworten\n",
      "[NeMo I 2023-01-02 19:18:40 wer_bpe:189] predicted:rangierfahrt von gleis sechs neun ins gleis delta sieben antworten\n",
      "[NeMo I 2023-01-02 19:18:40 wer_bpe:187] \n",
      "    \n",
      "[NeMo I 2023-01-02 19:18:40 wer_bpe:188] reference:umstellmanöver von charlie drei zwei via gleis victor sechs neun ins gleis golf zwei vier antworten\n",
      "[NeMo I 2023-01-02 19:18:40 wer_bpe:189] predicted:umstellmanöver von charlie drei zwei via gleis victor sechs neun ins gleis golf zwei vier antworten\n",
      "[NeMo I 2023-01-02 19:19:20 wer_bpe:187] \n",
      "    \n",
      "[NeMo I 2023-01-02 19:19:20 wer_bpe:188] reference:der käfer ist nur schwach gewölbt\n",
      "[NeMo I 2023-01-02 19:19:20 wer_bpe:189] predicted:vier käfver ist nur schwachöt\n",
      "[NeMo I 2023-01-02 19:19:47 wer_bpe:187] \n",
      "    \n",
      "[NeMo I 2023-01-02 19:19:47 wer_bpe:188] reference:rangierfahrt von gleis sieben sieben ins eins zwei antworten\n",
      "[NeMo I 2023-01-02 19:19:47 wer_bpe:189] predicted:rangierfahrt von gleis sieben sieben ins eins zwei antworten\n",
      "[NeMo I 2023-01-02 19:20:13 wer_bpe:187] \n",
      "    \n",
      "[NeMo I 2023-01-02 19:20:13 wer_bpe:188] reference:umstellmanöver vom mike zwei null via gleis xray null sechs ins gleis eins sieben antworten\n",
      "[NeMo I 2023-01-02 19:20:13 wer_bpe:189] predicted:umstellmanöver vom mike zwei null via gleis ray null sechs  gleis eins sieben antworten\n",
      "[NeMo I 2023-01-02 19:20:40 wer_bpe:187] \n",
      "    \n",
      "[NeMo I 2023-01-02 19:20:40 wer_bpe:188] reference:umstellmanöver von echo drei drei via india neun sieben ins delta eins acht antworten\n",
      "[NeMo I 2023-01-02 19:20:40 wer_bpe:189] predicted:ra von echo drei neu via india neun sieben ins delo eins acht antworten\n"
     ]
    },
    {
     "data": {
      "application/vnd.jupyter.widget-view+json": {
       "model_id": "40e2b3c715b74fe7b4c2f2dcfb06ea4d",
       "version_major": 2,
       "version_minor": 0
      },
      "text/plain": [
       "Validation: 0it [00:00, ?it/s]"
      ]
     },
     "metadata": {},
     "output_type": "display_data"
    },
    {
     "name": "stdout",
     "output_type": "stream",
     "text": [
      "[NeMo I 2023-01-02 19:21:01 wer_bpe:187] \n",
      "    \n",
      "[NeMo I 2023-01-02 19:21:01 wer_bpe:188] reference:rangierfahrt vom gleis mike zwei drei ins drei drei antworten\n",
      "[NeMo I 2023-01-02 19:21:01 wer_bpe:189] predicted:rangierfahrt vom gleis mike zwei drei ins drei drei antworten\n",
      "[NeMo I 2023-01-02 19:21:02 wer_bpe:187] \n",
      "    \n",
      "[NeMo I 2023-01-02 19:21:02 wer_bpe:188] reference:spracheingabe\n",
      "[NeMo I 2023-01-02 19:21:02 wer_bpe:189] predicted:spracheingabe\n",
      "[NeMo I 2023-01-02 19:21:02 wer_bpe:187] \n",
      "    \n",
      "[NeMo I 2023-01-02 19:21:02 wer_bpe:188] reference:umstellmanöver vom drei sechs nach gleis xray vier sieben via null vier antworten\n",
      "[NeMo I 2023-01-02 19:21:02 wer_bpe:189] predicted:umstellmanöver vom drei sechs nach gleis xray vier sieben via null vier antworten\n",
      "[NeMo I 2023-01-02 19:21:02 wer_bpe:187] \n",
      "    \n",
      "[NeMo I 2023-01-02 19:21:02 wer_bpe:188] reference:rangierfahrt von gleis sechs neun ins gleis delta sieben antworten\n",
      "[NeMo I 2023-01-02 19:21:02 wer_bpe:189] predicted:rangierfahrt von gleis sechs neun ins gleis delta sieben antworten\n",
      "[NeMo I 2023-01-02 19:21:02 wer_bpe:187] \n",
      "    \n",
      "[NeMo I 2023-01-02 19:21:02 wer_bpe:188] reference:umstellmanöver von charlie drei zwei via gleis victor sechs neun ins gleis golf zwei vier antworten\n",
      "[NeMo I 2023-01-02 19:21:02 wer_bpe:189] predicted:umstellmanöver von charlie drei zwei via gleis victor sechs neun ins gleis golf zwei vier antworten\n",
      "[NeMo I 2023-01-02 19:21:41 wer_bpe:187] \n",
      "    \n",
      "[NeMo I 2023-01-02 19:21:41 wer_bpe:188] reference:umstellmanöver von gleis quebec null sechs via gleis xray sechs drei ins gleis drei zwei antworten\n",
      "[NeMo I 2023-01-02 19:21:41 wer_bpe:189] predicted:umstellmanöver von gleis quebec null sechs via gleis xray sechs dreis gleis drei zwei antworten\n",
      "[NeMo I 2023-01-02 19:22:08 wer_bpe:187] \n",
      "    \n",
      "[NeMo I 2023-01-02 19:22:08 wer_bpe:188] reference:rangierfahrt vom whisky neun zwei nach drei sieben antworten\n",
      "[NeMo I 2023-01-02 19:22:08 wer_bpe:189] predicted:rangierfahrt vom whisky neun zwei nach drei sieben antworten\n",
      "[NeMo I 2023-01-02 19:22:34 wer_bpe:187] \n",
      "    \n",
      "[NeMo I 2023-01-02 19:22:34 wer_bpe:188] reference:rangierfahrt von gleis vier zwei ins gleis quebec zwei vier antworten\n",
      "[NeMo I 2023-01-02 19:22:34 wer_bpe:189] predicted:rangierfahrt vom ein gleis vier zwei ins gleis quebec zwei vier antworten\n",
      "[NeMo I 2023-01-02 19:23:00 wer_bpe:187] \n",
      "    \n",
      "[NeMo I 2023-01-02 19:23:00 wer_bpe:188] reference:rangierfahrt vom gleis romeo vier fünf nach gleis hotel zwei antworten\n",
      "[NeMo I 2023-01-02 19:23:00 wer_bpe:189] predicted:rangierfahrt vom gleis romeo vier fünf nach gleis hotel zwei antworten\n"
     ]
    },
    {
     "data": {
      "application/vnd.jupyter.widget-view+json": {
       "model_id": "735605f23f4240d39d41207d425ff116",
       "version_major": 2,
       "version_minor": 0
      },
      "text/plain": [
       "Validation: 0it [00:00, ?it/s]"
      ]
     },
     "metadata": {},
     "output_type": "display_data"
    },
    {
     "name": "stdout",
     "output_type": "stream",
     "text": [
      "[NeMo I 2023-01-02 19:23:23 wer_bpe:187] \n",
      "    \n",
      "[NeMo I 2023-01-02 19:23:23 wer_bpe:188] reference:rangierfahrt vom gleis mike zwei drei ins drei drei antworten\n",
      "[NeMo I 2023-01-02 19:23:23 wer_bpe:189] predicted:rangierfahrt vom gleis mike zwei drei ins drei drei antworten\n",
      "[NeMo I 2023-01-02 19:23:23 wer_bpe:187] \n",
      "    \n",
      "[NeMo I 2023-01-02 19:23:23 wer_bpe:188] reference:spracheingabe\n",
      "[NeMo I 2023-01-02 19:23:23 wer_bpe:189] predicted:spracheingabe\n",
      "[NeMo I 2023-01-02 19:23:23 wer_bpe:187] \n",
      "    \n",
      "[NeMo I 2023-01-02 19:23:23 wer_bpe:188] reference:umstellmanöver vom drei sechs nach gleis xray vier sieben via null vier antworten\n",
      "[NeMo I 2023-01-02 19:23:23 wer_bpe:189] predicted:umstellmanöver vom drei sechs nach gleis xray vier sieben via null vier antworten\n",
      "[NeMo I 2023-01-02 19:23:23 wer_bpe:187] \n",
      "    \n",
      "[NeMo I 2023-01-02 19:23:23 wer_bpe:188] reference:rangierfahrt von gleis sechs neun ins gleis delta sieben antworten\n",
      "[NeMo I 2023-01-02 19:23:23 wer_bpe:189] predicted:rangierfahrt von gleis sechs neun ins gleis delta sieben antworten\n",
      "[NeMo I 2023-01-02 19:23:23 wer_bpe:187] \n",
      "    \n",
      "[NeMo I 2023-01-02 19:23:23 wer_bpe:188] reference:umstellmanöver von charlie drei zwei via gleis victor sechs neun ins gleis golf zwei vier antworten\n",
      "[NeMo I 2023-01-02 19:23:23 wer_bpe:189] predicted:umstellmanöver von charlie drei zwei via gleis victor sechs neun ins gleis golf zwei vier antworten\n",
      "[NeMo I 2023-01-02 19:24:01 wer_bpe:187] \n",
      "    \n",
      "[NeMo I 2023-01-02 19:24:01 wer_bpe:188] reference:rangierfahrt vom gleis null antworten\n",
      "[NeMo I 2023-01-02 19:24:01 wer_bpe:189] predicted:rangierfahrt vom gleis null antworten\n",
      "[NeMo I 2023-01-02 19:24:28 wer_bpe:187] \n",
      "    \n",
      "[NeMo I 2023-01-02 19:24:28 wer_bpe:188] reference:umstellmanöver vom acht acht via zwei null ins alpha fünf vier antworten\n",
      "[NeMo I 2023-01-02 19:24:28 wer_bpe:189] predicted:umstellmanöver vom acht  via zwei null ins alpha fünf vier antworten\n",
      "[NeMo I 2023-01-02 19:24:55 wer_bpe:187] \n",
      "    \n",
      "[NeMo I 2023-01-02 19:24:55 wer_bpe:188] reference:rangierfahrt von gleis vier zwei ins gleis quebec zwei vier antworten\n",
      "[NeMo I 2023-01-02 19:24:55 wer_bpe:189] predicted:rangierfahrt von gleis vier zwei ins gleis quebec zwei vier antworten\n",
      "[NeMo I 2023-01-02 19:25:21 wer_bpe:187] \n",
      "    \n",
      "[NeMo I 2023-01-02 19:25:21 wer_bpe:188] reference:abbrechen\n",
      "[NeMo I 2023-01-02 19:25:21 wer_bpe:189] predicted:chen\n"
     ]
    },
    {
     "data": {
      "application/vnd.jupyter.widget-view+json": {
       "model_id": "126b01ee2d2443c2b093ebe6c9a50ff1",
       "version_major": 2,
       "version_minor": 0
      },
      "text/plain": [
       "Validation: 0it [00:00, ?it/s]"
      ]
     },
     "metadata": {},
     "output_type": "display_data"
    },
    {
     "name": "stdout",
     "output_type": "stream",
     "text": [
      "[NeMo I 2023-01-02 19:25:42 wer_bpe:187] \n",
      "    \n",
      "[NeMo I 2023-01-02 19:25:42 wer_bpe:188] reference:rangierfahrt vom gleis mike zwei drei ins drei drei antworten\n",
      "[NeMo I 2023-01-02 19:25:42 wer_bpe:189] predicted:rangierfahrt vom gleis mike zwei drei ins drei drei antworten\n",
      "[NeMo I 2023-01-02 19:25:43 wer_bpe:187] \n",
      "    \n",
      "[NeMo I 2023-01-02 19:25:43 wer_bpe:188] reference:spracheingabe\n",
      "[NeMo I 2023-01-02 19:25:43 wer_bpe:189] predicted:spracheingabe\n",
      "[NeMo I 2023-01-02 19:25:43 wer_bpe:187] \n",
      "    \n",
      "[NeMo I 2023-01-02 19:25:43 wer_bpe:188] reference:umstellmanöver vom drei sechs nach gleis xray vier sieben via null vier antworten\n",
      "[NeMo I 2023-01-02 19:25:43 wer_bpe:189] predicted:umstellmanöver vom drei sechs nach gleis xray vier sieben via null vier antworten\n",
      "[NeMo I 2023-01-02 19:25:43 wer_bpe:187] \n",
      "    \n",
      "[NeMo I 2023-01-02 19:25:43 wer_bpe:188] reference:rangierfahrt von gleis sechs neun ins gleis delta sieben antworten\n",
      "[NeMo I 2023-01-02 19:25:43 wer_bpe:189] predicted:rangierfahrt von gleis sechs neun ins gleis delta sieben antworten\n",
      "[NeMo I 2023-01-02 19:25:43 wer_bpe:187] \n",
      "    \n",
      "[NeMo I 2023-01-02 19:25:43 wer_bpe:188] reference:umstellmanöver von charlie drei zwei via gleis victor sechs neun ins gleis golf zwei vier antworten\n",
      "[NeMo I 2023-01-02 19:25:43 wer_bpe:189] predicted:umstellmanöver von charlie drei zwei via gleis victor sechs neun ins gleis golf zwei vier antworten\n",
      "[NeMo I 2023-01-02 19:26:23 wer_bpe:187] \n",
      "    \n",
      "[NeMo I 2023-01-02 19:26:23 wer_bpe:188] reference:umstellmanöver von neun zwei via whisky vier sechs ins gleis sierra sechs eins antworten\n",
      "[NeMo I 2023-01-02 19:26:23 wer_bpe:189] predicted:umstellmanöver von neun zwei via whisky vier sechs ins gleis sierra sechs eins antworten\n",
      "[NeMo I 2023-01-02 19:26:50 wer_bpe:187] \n",
      "    \n",
      "[NeMo I 2023-01-02 19:26:50 wer_bpe:188] reference:rangierfahrt von gleis echo vier ins gleis null acht antworten\n",
      "[NeMo I 2023-01-02 19:26:50 wer_bpe:189] predicted:rangierfahrt vom gleis echo vier ins gleis null acht antworten\n",
      "[NeMo I 2023-01-02 19:27:17 wer_bpe:187] \n",
      "    \n",
      "[NeMo I 2023-01-02 19:27:17 wer_bpe:188] reference:umstellmanöver vom drei sechs nach gleis xray vier sieben via null vier antworten\n",
      "[NeMo I 2023-01-02 19:27:17 wer_bpe:189] predicted:umstellmanöver vom drei sechs nach gleis xray vier sieben via null vier antworten\n",
      "[NeMo I 2023-01-02 19:27:43 wer_bpe:187] \n",
      "    \n",
      "[NeMo I 2023-01-02 19:27:43 wer_bpe:188] reference:umstellmanöver von acht ins gleis mike sieben null via gleis lima zwei acht antworten\n",
      "[NeMo I 2023-01-02 19:27:43 wer_bpe:189] predicted:umstellmanöver vom acht ins gleis mike sieben null via gleis lima ein  antworten\n"
     ]
    },
    {
     "data": {
      "application/vnd.jupyter.widget-view+json": {
       "model_id": "fb8b4347ce8e4463883507479081bcd0",
       "version_major": 2,
       "version_minor": 0
      },
      "text/plain": [
       "Validation: 0it [00:00, ?it/s]"
      ]
     },
     "metadata": {},
     "output_type": "display_data"
    },
    {
     "name": "stdout",
     "output_type": "stream",
     "text": [
      "[NeMo I 2023-01-02 19:28:05 wer_bpe:187] \n",
      "    \n",
      "[NeMo I 2023-01-02 19:28:05 wer_bpe:188] reference:rangierfahrt vom gleis mike zwei drei ins drei drei antworten\n",
      "[NeMo I 2023-01-02 19:28:05 wer_bpe:189] predicted:rangierfahrt vom gleis mike zwei drei ins drei drei antworten\n",
      "[NeMo I 2023-01-02 19:28:05 wer_bpe:187] \n",
      "    \n",
      "[NeMo I 2023-01-02 19:28:05 wer_bpe:188] reference:spracheingabe\n",
      "[NeMo I 2023-01-02 19:28:05 wer_bpe:189] predicted:spracheingabe\n",
      "[NeMo I 2023-01-02 19:28:05 wer_bpe:187] \n",
      "    \n",
      "[NeMo I 2023-01-02 19:28:05 wer_bpe:188] reference:umstellmanöver vom drei sechs nach gleis xray vier sieben via null vier antworten\n",
      "[NeMo I 2023-01-02 19:28:05 wer_bpe:189] predicted:umstellmanöver vom drei sechs nach gleis xray vier sieben via null vier antworten\n",
      "[NeMo I 2023-01-02 19:28:05 wer_bpe:187] \n",
      "    \n",
      "[NeMo I 2023-01-02 19:28:05 wer_bpe:188] reference:rangierfahrt von gleis sechs neun ins gleis delta sieben antworten\n",
      "[NeMo I 2023-01-02 19:28:05 wer_bpe:189] predicted:rangierfahrt von gleis sechs neun ins gleis delta sieben antworten\n",
      "[NeMo I 2023-01-02 19:28:06 wer_bpe:187] \n",
      "    \n",
      "[NeMo I 2023-01-02 19:28:06 wer_bpe:188] reference:umstellmanöver von charlie drei zwei via gleis victor sechs neun ins gleis golf zwei vier antworten\n",
      "[NeMo I 2023-01-02 19:28:06 wer_bpe:189] predicted:umstellmanöver von charlie drei zwei via gleis victor sechs neun ins gleis golf zwei vier antworten\n"
     ]
    },
    {
     "name": "stderr",
     "output_type": "stream",
     "text": [
      "`Trainer.fit` stopped: `max_epochs=5` reached.\n"
     ]
    },
    {
     "data": {
      "text/html": [
       "Waiting for W&B process to finish... <strong style=\"color:green\">(success).</strong>"
      ],
      "text/plain": [
       "<IPython.core.display.HTML object>"
      ]
     },
     "metadata": {},
     "output_type": "display_data"
    },
    {
     "data": {
      "text/html": [
       "<style>\n",
       "    table.wandb td:nth-child(1) { padding: 0 10px; text-align: left ; width: auto;} td:nth-child(2) {text-align: left ; width: 100%}\n",
       "    .wandb-row { display: flex; flex-direction: row; flex-wrap: wrap; justify-content: flex-start; width: 100% }\n",
       "    .wandb-col { display: flex; flex-direction: column; flex-basis: 100%; flex: 1; padding: 10px; }\n",
       "    </style>\n",
       "<div class=\"wandb-row\"><div class=\"wandb-col\"><h3>Run history:</h3><br/><table class=\"wandb\"><tr><td>epoch</td><td>▁▁▁▁▁▃▃▃▃▃▃▅▅▅▅▅▅▆▆▆▆▆██████</td></tr><tr><td>global_step</td><td>▁▁▂▂▂▂▃▃▃▃▄▄▄▄▅▅▅▅▆▆▆▇▇▇▇▇██</td></tr><tr><td>learning_rate</td><td>▁▁▂▂▂▃▃▃▄▄▄▄▅▅▅▆▆▆▇▇▇██</td></tr><tr><td>train_loss</td><td>▇█▄▅▃▂▂▂▂▁▂▁▂▁▂▂▁▂▂▁▂▁▂</td></tr><tr><td>trainer/global_step</td><td>▁▁▂▂▂▂▃▃▃▃▄▄▄▄▅▅▅▅▆▆▆▇▇▇▇▇██</td></tr><tr><td>training_batch_wer</td><td>██▅▇▃▂▂▃▁▂▂▃▂▂▂▁▂▂▃</td></tr><tr><td>val_loss</td><td>█▃▁▁▁</td></tr><tr><td>val_wer</td><td>█▃▁▁▂</td></tr></table><br/></div><div class=\"wandb-col\"><h3>Run summary:</h3><br/><table class=\"wandb\"><tr><td>epoch</td><td>4</td></tr><tr><td>global_step</td><td>1185.0</td></tr><tr><td>learning_rate</td><td>0.00068</td></tr><tr><td>train_loss</td><td>14.66708</td></tr><tr><td>trainer/global_step</td><td>1184</td></tr><tr><td>training_batch_wer</td><td>0.27885</td></tr><tr><td>val_loss</td><td>1.16609</td></tr><tr><td>val_wer</td><td>0.02089</td></tr></table><br/></div></div>"
      ],
      "text/plain": [
       "<IPython.core.display.HTML object>"
      ]
     },
     "metadata": {},
     "output_type": "display_data"
    },
    {
     "data": {
      "text/html": [
       "Synced <strong style=\"color:#cdcd00\">misunderstood-sweep-9</strong>: <a href=\"https://wandb.ai/unisg-ds-nlp/ASR/runs/fryfil87\" target=\"_blank\">https://wandb.ai/unisg-ds-nlp/ASR/runs/fryfil87</a><br/>Synced 5 W&B file(s), 0 media file(s), 5 artifact file(s) and 0 other file(s)"
      ],
      "text/plain": [
       "<IPython.core.display.HTML object>"
      ]
     },
     "metadata": {},
     "output_type": "display_data"
    },
    {
     "data": {
      "text/html": [
       "Find logs at: <code>./wandb/run-20230102_191612-fryfil87/logs</code>"
      ],
      "text/plain": [
       "<IPython.core.display.HTML object>"
      ]
     },
     "metadata": {},
     "output_type": "display_data"
    },
    {
     "name": "stderr",
     "output_type": "stream",
     "text": [
      "\u001b[34m\u001b[1mwandb\u001b[0m: Agent Starting Run: vjx66afd with config:\n",
      "\u001b[34m\u001b[1mwandb\u001b[0m: \tepoch: 4\n",
      "\u001b[34m\u001b[1mwandb\u001b[0m: \tfreq_width: 27.20496872533753\n",
      "\u001b[34m\u001b[1mwandb\u001b[0m: \tlr: 0.0004452014476918365\n",
      "Failed to detect the name of this notebook, you can set it manually with the WANDB_NOTEBOOK_NAME environment variable to enable code saving.\n"
     ]
    },
    {
     "data": {
      "text/html": [
       "wandb version 0.13.7 is available!  To upgrade, please run:\n",
       " $ pip install wandb --upgrade"
      ],
      "text/plain": [
       "<IPython.core.display.HTML object>"
      ]
     },
     "metadata": {},
     "output_type": "display_data"
    },
    {
     "data": {
      "text/html": [
       "Tracking run with wandb version 0.13.4"
      ],
      "text/plain": [
       "<IPython.core.display.HTML object>"
      ]
     },
     "metadata": {},
     "output_type": "display_data"
    },
    {
     "data": {
      "text/html": [
       "Run data is saved locally in <code>/home/user/code/sbb_asr/notebooks/wandb/run-20230102_192851-vjx66afd</code>"
      ],
      "text/plain": [
       "<IPython.core.display.HTML object>"
      ]
     },
     "metadata": {},
     "output_type": "display_data"
    },
    {
     "data": {
      "text/html": [
       "Syncing run <strong><a href=\"https://wandb.ai/unisg-ds-nlp/ASR/runs/vjx66afd\" target=\"_blank\">sunny-sweep-10</a></strong> to <a href=\"https://wandb.ai/unisg-ds-nlp/ASR\" target=\"_blank\">Weights & Biases</a> (<a href=\"https://wandb.me/run\" target=\"_blank\">docs</a>)<br/>Sweep page:  <a href=\"https://wandb.ai/unisg-ds-nlp/ASR/sweeps/v7qi12lc\" target=\"_blank\">https://wandb.ai/unisg-ds-nlp/ASR/sweeps/v7qi12lc</a>"
      ],
      "text/plain": [
       "<IPython.core.display.HTML object>"
      ]
     },
     "metadata": {},
     "output_type": "display_data"
    },
    {
     "name": "stderr",
     "output_type": "stream",
     "text": [
      "[NeMo W 2023-01-02 19:28:52 nemo_logging:349] /home/user/.local/lib/python3.9/site-packages/pytorch_lightning/loggers/wandb.py:352: UserWarning: There is a wandb run already in progress and newly created instances of `WandbLogger` will reuse this run. If this is not desired, call `wandb.finish()` before instantiating `WandbLogger`.\n",
      "      rank_zero_warn(\n",
      "    \n",
      "[NeMo W 2023-01-02 19:28:52 nemo_logging:349] /home/user/.local/lib/python3.9/site-packages/pytorch_lightning/trainer/connectors/accelerator_connector.py:447: LightningDeprecationWarning: Setting `Trainer(gpus=1)` is deprecated in v1.7 and will be removed in v2.0. Please use `Trainer(accelerator='gpu', devices=1)` instead.\n",
      "      rank_zero_deprecation(\n",
      "    \n",
      "GPU available: True (cuda), used: True\n",
      "TPU available: False, using: 0 TPU cores\n",
      "IPU available: False, using: 0 IPUs\n",
      "HPU available: False, using: 0 HPUs\n"
     ]
    },
    {
     "name": "stdout",
     "output_type": "stream",
     "text": [
      "[NeMo I 2023-01-02 19:28:54 cloud:56] Found existing object /home/user/.cache/torch/NeMo/NeMo_1.12.0/stt_de_citrinet_1024/8743e4cecb8017ca2b49a035e07b2893/stt_de_citrinet_1024.nemo.\n",
      "[NeMo I 2023-01-02 19:28:54 cloud:62] Re-using file from: /home/user/.cache/torch/NeMo/NeMo_1.12.0/stt_de_citrinet_1024/8743e4cecb8017ca2b49a035e07b2893/stt_de_citrinet_1024.nemo\n",
      "[NeMo I 2023-01-02 19:28:54 common:910] Instantiating model from pre-trained checkpoint\n",
      "[NeMo I 2023-01-02 19:28:59 mixins:170] Tokenizer SentencePieceTokenizer initialized with 1024 tokens\n"
     ]
    },
    {
     "name": "stderr",
     "output_type": "stream",
     "text": [
      "[NeMo W 2023-01-02 19:28:59 modelPT:142] If you intend to do training or fine-tuning, please call the ModelPT.setup_training_data() method and provide a valid configuration file to setup the train data loader.\n",
      "    Train config : \n",
      "    manifest_filepath: /data/train/tarred_audio_manifest.json\n",
      "    sample_rate: 16000\n",
      "    batch_size: 32\n",
      "    trim_silence: false\n",
      "    max_duration: 35.0\n",
      "    shuffle: true\n",
      "    is_tarred: true\n",
      "    tarred_audio_filepaths: /data/train/audio__OP_0..1023_CL_.tar\n",
      "    use_start_end_token: false\n",
      "    shuffle_n: 1024\n",
      "    num_workers: 16\n",
      "    pin_memory: true\n",
      "    \n",
      "[NeMo W 2023-01-02 19:28:59 modelPT:149] If you intend to do validation, please call the ModelPT.setup_validation_data() or ModelPT.setup_multiple_validation_data() method and provide a valid configuration file to setup the validation data loader(s). \n",
      "    Validation config : \n",
      "    manifest_filepath:\n",
      "    - /data/voxpopuli_de/dev/voxpopuli_dev_manifest.json\n",
      "    - /data/voxpopuli_de/test/voxpopuli_test_manifest.json\n",
      "    - /data/mcv7.0_de/mcv7.0_dev_manifest_cleaned.json\n",
      "    - /data/mcv7.0_de/mcv7.0_test_manifest_cleaned.json\n",
      "    - /data/mls_de/mls_dev_manifest_cleaned.json\n",
      "    - /data/mls_de/mls_test_manifest_cleaned.json\n",
      "    sample_rate: 16000\n",
      "    batch_size: 8\n",
      "    shuffle: false\n",
      "    use_start_end_token: false\n",
      "    num_workers: 8\n",
      "    pin_memory: true\n",
      "    \n",
      "[NeMo W 2023-01-02 19:28:59 modelPT:155] Please call the ModelPT.setup_test_data() or ModelPT.setup_multiple_test_data() method and provide a valid configuration file to setup the test data loader(s).\n",
      "    Test config : \n",
      "    manifest_filepath: null\n",
      "    sample_rate: 16000\n",
      "    batch_size: 32\n",
      "    shuffle: false\n",
      "    use_start_end_token: false\n",
      "    \n"
     ]
    },
    {
     "name": "stdout",
     "output_type": "stream",
     "text": [
      "[NeMo I 2023-01-02 19:28:59 features:225] PADDING: 16\n",
      "[NeMo I 2023-01-02 19:29:04 save_restore_connector:243] Model EncDecCTCModelBPE was successfully restored from /home/user/.cache/torch/NeMo/NeMo_1.12.0/stt_de_citrinet_1024/8743e4cecb8017ca2b49a035e07b2893/stt_de_citrinet_1024.nemo.\n",
      "[NeMo I 2023-01-02 19:29:04 collections:194] Dataset loaded with 1890 files totalling 7.41 hours\n",
      "[NeMo I 2023-01-02 19:29:04 collections:195] 0 files were filtered totalling 0.00 hours\n",
      "[NeMo I 2023-01-02 19:29:04 collections:194] Dataset loaded with 34 files totalling 0.13 hours\n",
      "[NeMo I 2023-01-02 19:29:04 collections:195] 0 files were filtered totalling 0.00 hours\n",
      "[NeMo I 2023-01-02 19:29:04 collections:194] Dataset loaded with 34 files totalling 0.14 hours\n",
      "[NeMo I 2023-01-02 19:29:04 collections:195] 0 files were filtered totalling 0.00 hours\n",
      "[NeMo I 2023-01-02 19:29:04 modelPT:597] Optimizer config = Novograd (\n",
      "    Parameter Group 0\n",
      "        amsgrad: False\n",
      "        betas: [0.8, 0.25]\n",
      "        eps: 1e-08\n",
      "        grad_averaging: False\n",
      "        lr: 0.0004452014476918365\n",
      "        weight_decay: 0.001\n",
      "    )\n",
      "[NeMo I 2023-01-02 19:29:04 lr_scheduler:910] Scheduler \"<nemo.core.optim.lr_scheduler.CosineAnnealing object at 0x7f8387180fd0>\" \n",
      "    will be used during training (effective maximum steps = 948) - \n",
      "    Parameters : \n",
      "    (warmup_steps: 10000\n",
      "    warmup_ratio: null\n",
      "    min_lr: 1.0e-05\n",
      "    last_epoch: -1\n",
      "    max_steps: 948\n",
      "    )\n"
     ]
    },
    {
     "name": "stderr",
     "output_type": "stream",
     "text": [
      "LOCAL_RANK: 0 - CUDA_VISIBLE_DEVICES: [0,1,2,3]\n"
     ]
    },
    {
     "name": "stdout",
     "output_type": "stream",
     "text": [
      "[NeMo I 2023-01-02 19:29:05 modelPT:597] Optimizer config = Novograd (\n",
      "    Parameter Group 0\n",
      "        amsgrad: False\n",
      "        betas: [0.8, 0.25]\n",
      "        eps: 1e-08\n",
      "        grad_averaging: False\n",
      "        lr: 0.0004452014476918365\n",
      "        weight_decay: 0.001\n",
      "    )\n",
      "[NeMo I 2023-01-02 19:29:05 lr_scheduler:910] Scheduler \"<nemo.core.optim.lr_scheduler.CosineAnnealing object at 0x7f835e15dd30>\" \n",
      "    will be used during training (effective maximum steps = 948) - \n",
      "    Parameters : \n",
      "    (warmup_steps: 10000\n",
      "    warmup_ratio: null\n",
      "    min_lr: 1.0e-05\n",
      "    last_epoch: -1\n",
      "    max_steps: 948\n",
      "    )\n"
     ]
    },
    {
     "name": "stderr",
     "output_type": "stream",
     "text": [
      "\n",
      "  | Name              | Type                              | Params\n",
      "------------------------------------------------------------------------\n",
      "0 | preprocessor      | AudioToMelSpectrogramPreprocessor | 0     \n",
      "1 | encoder           | ConvASREncoder                    | 140 M \n",
      "2 | decoder           | ConvASRDecoder                    | 1.1 M \n",
      "3 | loss              | CTCLoss                           | 0     \n",
      "4 | spec_augmentation | SpectrogramAugmentation           | 0     \n",
      "5 | _wer              | WERBPE                            | 0     \n",
      "------------------------------------------------------------------------\n",
      "141 M     Trainable params\n",
      "0         Non-trainable params\n",
      "141 M     Total params\n",
      "564.897   Total estimated model params size (MB)\n"
     ]
    },
    {
     "data": {
      "application/vnd.jupyter.widget-view+json": {
       "model_id": "5abbe11a839a42b493017f4c8aa9356b",
       "version_major": 2,
       "version_minor": 0
      },
      "text/plain": [
       "Sanity Checking: 0it [00:00, ?it/s]"
      ]
     },
     "metadata": {},
     "output_type": "display_data"
    },
    {
     "name": "stdout",
     "output_type": "stream",
     "text": [
      "[NeMo I 2023-01-02 19:29:07 wer_bpe:187] \n",
      "    \n",
      "[NeMo I 2023-01-02 19:29:07 wer_bpe:188] reference:rangierfahrt vom gleis mike zwei drei ins drei drei antworten\n",
      "[NeMo I 2023-01-02 19:29:07 wer_bpe:189] predicted:prongierfahrt vom gleis maik zwei drei ins drei drei antworten\n",
      "[NeMo I 2023-01-02 19:29:07 wer_bpe:187] \n",
      "    \n",
      "[NeMo I 2023-01-02 19:29:07 wer_bpe:188] reference:spracheingabe\n",
      "[NeMo I 2023-01-02 19:29:07 wer_bpe:189] predicted:spracheingabe\n"
     ]
    },
    {
     "data": {
      "application/vnd.jupyter.widget-view+json": {
       "model_id": "1f163e9145054bb984b9e67f8d31ee07",
       "version_major": 2,
       "version_minor": 0
      },
      "text/plain": [
       "Training: 0it [00:00, ?it/s]"
      ]
     },
     "metadata": {},
     "output_type": "display_data"
    },
    {
     "name": "stdout",
     "output_type": "stream",
     "text": [
      "[NeMo I 2023-01-02 19:29:37 wer_bpe:187] \n",
      "    \n",
      "[NeMo I 2023-01-02 19:29:37 wer_bpe:188] reference:umstellmanöver vom vier zwei via echo acht eins ins gleis foxtrot fünf eins antworten\n",
      "[NeMo I 2023-01-02 19:29:37 wer_bpe:189] predicted:man ichlei ein an\n",
      "[NeMo I 2023-01-02 19:30:04 wer_bpe:187] \n",
      "    \n",
      "[NeMo I 2023-01-02 19:30:04 wer_bpe:188] reference:umstellmanöver von neun vier nach gleis bravo sieben via echo acht drei antworten\n",
      "[NeMo I 2023-01-02 19:30:04 wer_bpe:189] predicted:der vor ja\n",
      "[NeMo I 2023-01-02 19:30:31 wer_bpe:187] \n",
      "    \n",
      "[NeMo I 2023-01-02 19:30:31 wer_bpe:188] reference:rangierfahrt von gleis bravo neun sieben ins drei sechs antworten\n",
      "[NeMo I 2023-01-02 19:30:31 wer_bpe:189] predicted:leibravo sieben ins dreichs\n",
      "[NeMo I 2023-01-02 19:30:57 wer_bpe:187] \n",
      "    \n",
      "[NeMo I 2023-01-02 19:30:57 wer_bpe:188] reference:rangierfahrt von gleis sieben sieben ins eins zwei antworten\n",
      "[NeMo I 2023-01-02 19:30:57 wer_bpe:189] predicted:sie\n"
     ]
    },
    {
     "data": {
      "application/vnd.jupyter.widget-view+json": {
       "model_id": "d46dc5aeba7d4dbe8d9e8d88dee1f5ff",
       "version_major": 2,
       "version_minor": 0
      },
      "text/plain": [
       "Validation: 0it [00:00, ?it/s]"
      ]
     },
     "metadata": {},
     "output_type": "display_data"
    },
    {
     "name": "stdout",
     "output_type": "stream",
     "text": [
      "[NeMo I 2023-01-02 19:31:19 wer_bpe:187] \n",
      "    \n",
      "[NeMo I 2023-01-02 19:31:19 wer_bpe:188] reference:rangierfahrt vom gleis mike zwei drei ins drei drei antworten\n",
      "[NeMo I 2023-01-02 19:31:19 wer_bpe:189] predicted:schierfahr gleis zwei drei drei drei\n",
      "[NeMo I 2023-01-02 19:31:19 wer_bpe:187] \n",
      "    \n",
      "[NeMo I 2023-01-02 19:31:19 wer_bpe:188] reference:spracheingabe\n",
      "[NeMo I 2023-01-02 19:31:19 wer_bpe:189] predicted:sprach eingabe\n",
      "[NeMo I 2023-01-02 19:31:20 wer_bpe:187] \n",
      "    \n",
      "[NeMo I 2023-01-02 19:31:20 wer_bpe:188] reference:umstellmanöver vom drei sechs nach gleis xray vier sieben via null vier antworten\n",
      "[NeMo I 2023-01-02 19:31:20 wer_bpe:189] predicted:umstellmaövver vom drei sechs nach gleis exray vier sieben wie nul viel an\n",
      "[NeMo I 2023-01-02 19:31:20 wer_bpe:187] \n",
      "    \n",
      "[NeMo I 2023-01-02 19:31:20 wer_bpe:188] reference:rangierfahrt von gleis sechs neun ins gleis delta sieben antworten\n",
      "[NeMo I 2023-01-02 19:31:20 wer_bpe:189] predicted:rangchierfahrt von gleis sechs neun ins gleisdelta sieben antwort\n",
      "[NeMo I 2023-01-02 19:31:20 wer_bpe:187] \n",
      "    \n",
      "[NeMo I 2023-01-02 19:31:20 wer_bpe:188] reference:umstellmanöver von charlie drei zwei via gleis victor sechs neun ins gleis golf zwei vier antworten\n",
      "[NeMo I 2023-01-02 19:31:20 wer_bpe:189] predicted:stellmaövver voncharly drei zwei wir gleis or sechs neu ihnlei zwei antwort\n",
      "[NeMo I 2023-01-02 19:32:00 wer_bpe:187] \n",
      "    \n",
      "[NeMo I 2023-01-02 19:32:00 wer_bpe:188] reference:rangierfahrt vom gleis null null nach eins eins antworten\n",
      "[NeMo I 2023-01-02 19:32:00 wer_bpe:189] predicted:von gleisno\n",
      "[NeMo I 2023-01-02 19:32:27 wer_bpe:187] \n",
      "    \n",
      "[NeMo I 2023-01-02 19:32:27 wer_bpe:188] reference:umstellmanöver vom gleis mike acht neun via vier fünf nach zwei vier antworten\n",
      "[NeMo I 2023-01-02 19:32:27 wer_bpe:189] predicted:umstellmaöver von gleis neik aliia viel noch zwei viel antworten\n",
      "[NeMo I 2023-01-02 19:32:53 wer_bpe:187] \n",
      "    \n",
      "[NeMo I 2023-01-02 19:32:53 wer_bpe:188] reference:umstellmanöver vom vier sieben via gleis acht fünf ins gleis victor acht antworten\n",
      "[NeMo I 2023-01-02 19:32:53 wer_bpe:189] predicted:umstellmanöver von hier sieben via gleis artjch ins gleis wieen\n",
      "[NeMo I 2023-01-02 19:33:20 wer_bpe:187] \n",
      "    \n",
      "[NeMo I 2023-01-02 19:33:20 wer_bpe:188] reference:umstellmanöver von eins drei nach gleis kilo eins sechs via lima eins sieben antworten\n",
      "[NeMo I 2023-01-02 19:33:20 wer_bpe:189] predicted:buftellmaöver von eins drei nach gleiskillo ein se\n"
     ]
    },
    {
     "data": {
      "application/vnd.jupyter.widget-view+json": {
       "model_id": "b6d60edb8b3e4266968a3c182a8a9ecf",
       "version_major": 2,
       "version_minor": 0
      },
      "text/plain": [
       "Validation: 0it [00:00, ?it/s]"
      ]
     },
     "metadata": {},
     "output_type": "display_data"
    },
    {
     "name": "stdout",
     "output_type": "stream",
     "text": [
      "[NeMo I 2023-01-02 19:33:41 wer_bpe:187] \n",
      "    \n",
      "[NeMo I 2023-01-02 19:33:41 wer_bpe:188] reference:rangierfahrt vom gleis mike zwei drei ins drei drei antworten\n",
      "[NeMo I 2023-01-02 19:33:41 wer_bpe:189] predicted:rangierfahrt vom gleis maig zwei drei ins drei drei antwort\n",
      "[NeMo I 2023-01-02 19:33:42 wer_bpe:187] \n",
      "    \n",
      "[NeMo I 2023-01-02 19:33:42 wer_bpe:188] reference:spracheingabe\n",
      "[NeMo I 2023-01-02 19:33:42 wer_bpe:189] predicted:sprach eingabe\n",
      "[NeMo I 2023-01-02 19:33:42 wer_bpe:187] \n",
      "    \n",
      "[NeMo I 2023-01-02 19:33:42 wer_bpe:188] reference:umstellmanöver vom drei sechs nach gleis xray vier sieben via null vier antworten\n",
      "[NeMo I 2023-01-02 19:33:42 wer_bpe:189] predicted:umstellmanöver vom drei sechs nach gleis xray vier sieben via null v antworten\n",
      "[NeMo I 2023-01-02 19:33:42 wer_bpe:187] \n",
      "    \n",
      "[NeMo I 2023-01-02 19:33:42 wer_bpe:188] reference:rangierfahrt von gleis sechs neun ins gleis delta sieben antworten\n",
      "[NeMo I 2023-01-02 19:33:42 wer_bpe:189] predicted:rangierfahrt von gleis sechs neun ins gleis delta sieben antworten\n",
      "[NeMo I 2023-01-02 19:33:42 wer_bpe:187] \n",
      "    \n",
      "[NeMo I 2023-01-02 19:33:42 wer_bpe:188] reference:umstellmanöver von charlie drei zwei via gleis victor sechs neun ins gleis golf zwei vier antworten\n",
      "[NeMo I 2023-01-02 19:33:42 wer_bpe:189] predicted:umstellmanöver von charley drei zwei via gleis victor sechs neun ins gleis gol zwei vier antwort\n",
      "[NeMo I 2023-01-02 19:34:20 wer_bpe:187] \n",
      "    \n",
      "[NeMo I 2023-01-02 19:34:20 wer_bpe:188] reference:umstellmanöver vom vier sechs nach gleis drei zwei via hotel null vier antworten\n",
      "[NeMo I 2023-01-02 19:34:20 wer_bpe:189] predicted:schffer vom vier sechs nach gleis drei zwei via dell mit vier antworten\n",
      "[NeMo I 2023-01-02 19:34:47 wer_bpe:187] \n",
      "    \n",
      "[NeMo I 2023-01-02 19:34:47 wer_bpe:188] reference:umstellmanöver vom fünf eins ins gleis papa sechs drei via gleis vier sechs antworten\n",
      "[NeMo I 2023-01-02 19:34:47 wer_bpe:189] predicted:umstellmanöver vom fünf ein ins gleis papa sechs drei via gleis vier sechs\n",
      "[NeMo I 2023-01-02 19:35:13 wer_bpe:187] \n",
      "    \n",
      "[NeMo I 2023-01-02 19:35:13 wer_bpe:188] reference:umstellmanöver von juliet vier acht nach gleis zwei sieben via fünf sechs antworten\n",
      "[NeMo I 2023-01-02 19:35:13 wer_bpe:189] predicted:növer vomet vier acht nach gleis zwei sieben via fünfs antworten\n",
      "[NeMo I 2023-01-02 19:35:40 wer_bpe:187] \n",
      "    \n",
      "[NeMo I 2023-01-02 19:35:40 wer_bpe:188] reference:rangierfahrt vom gleis null antworten\n",
      "[NeMo I 2023-01-02 19:35:40 wer_bpe:189] predicted:fahrt vom gleisn antwort\n"
     ]
    },
    {
     "data": {
      "application/vnd.jupyter.widget-view+json": {
       "model_id": "1fbd3025549f43d88050525bf829d1e6",
       "version_major": 2,
       "version_minor": 0
      },
      "text/plain": [
       "Validation: 0it [00:00, ?it/s]"
      ]
     },
     "metadata": {},
     "output_type": "display_data"
    },
    {
     "name": "stdout",
     "output_type": "stream",
     "text": [
      "[NeMo I 2023-01-02 19:36:02 wer_bpe:187] \n",
      "    \n",
      "[NeMo I 2023-01-02 19:36:02 wer_bpe:188] reference:rangierfahrt vom gleis mike zwei drei ins drei drei antworten\n",
      "[NeMo I 2023-01-02 19:36:02 wer_bpe:189] predicted:rangierfahrt vom gleis mike zwei drei ins drei drei antworten\n",
      "[NeMo I 2023-01-02 19:36:02 wer_bpe:187] \n",
      "    \n",
      "[NeMo I 2023-01-02 19:36:02 wer_bpe:188] reference:spracheingabe\n",
      "[NeMo I 2023-01-02 19:36:02 wer_bpe:189] predicted:sprach eingabe\n",
      "[NeMo I 2023-01-02 19:36:02 wer_bpe:187] \n",
      "    \n",
      "[NeMo I 2023-01-02 19:36:02 wer_bpe:188] reference:umstellmanöver vom drei sechs nach gleis xray vier sieben via null vier antworten\n",
      "[NeMo I 2023-01-02 19:36:02 wer_bpe:189] predicted:umstellmanöver vom drei sechs nach gleis xray vier sieben via null vier antworten\n",
      "[NeMo I 2023-01-02 19:36:02 wer_bpe:187] \n",
      "    \n",
      "[NeMo I 2023-01-02 19:36:02 wer_bpe:188] reference:rangierfahrt von gleis sechs neun ins gleis delta sieben antworten\n",
      "[NeMo I 2023-01-02 19:36:02 wer_bpe:189] predicted:rangierfahrt von gleis sechs neun ins gleis delta sieben antworten\n",
      "[NeMo I 2023-01-02 19:36:02 wer_bpe:187] \n",
      "    \n",
      "[NeMo I 2023-01-02 19:36:02 wer_bpe:188] reference:umstellmanöver von charlie drei zwei via gleis victor sechs neun ins gleis golf zwei vier antworten\n",
      "[NeMo I 2023-01-02 19:36:02 wer_bpe:189] predicted:umstellmanöver von charliy drei zwei via gleis victor sechs neun ins gleis golf zwei vier antwort\n",
      "[NeMo I 2023-01-02 19:36:41 wer_bpe:187] \n",
      "    \n",
      "[NeMo I 2023-01-02 19:36:41 wer_bpe:188] reference:umstellmanöver von gleis null drei via null eins nach alpha vier zwei antworten\n",
      "[NeMo I 2023-01-02 19:36:41 wer_bpe:189] predicted:umstellman von gleis null drei via null eins nach alpha vier antwort\n",
      "[NeMo I 2023-01-02 19:37:07 wer_bpe:187] \n",
      "    \n",
      "[NeMo I 2023-01-02 19:37:07 wer_bpe:188] reference:rangierfahrt vom gleis null antworten\n",
      "[NeMo I 2023-01-02 19:37:07 wer_bpe:189] predicted:rangierfahrt von gleis\n",
      "[NeMo I 2023-01-02 19:37:34 wer_bpe:187] \n",
      "    \n",
      "[NeMo I 2023-01-02 19:37:34 wer_bpe:188] reference:rangierfahrt von gleis sieben sieben ins eins zwei antworten\n",
      "[NeMo I 2023-01-02 19:37:34 wer_bpe:189] predicted:rangierfahrt vom gleis sieben sieben ins eins zwei antworten\n",
      "[NeMo I 2023-01-02 19:38:00 wer_bpe:187] \n",
      "    \n",
      "[NeMo I 2023-01-02 19:38:00 wer_bpe:188] reference:umstellmanöver vom gleis golf neun acht via gleis uniform eins nach gleis bravo acht vier antworten\n",
      "[NeMo I 2023-01-02 19:38:00 wer_bpe:189] predicted:umstellmanöver vom  golf neun acht via gleis uniform ein gleis pizier antworten\n"
     ]
    },
    {
     "data": {
      "application/vnd.jupyter.widget-view+json": {
       "model_id": "b304abe9f7d9491291e7da294c892c17",
       "version_major": 2,
       "version_minor": 0
      },
      "text/plain": [
       "Validation: 0it [00:00, ?it/s]"
      ]
     },
     "metadata": {},
     "output_type": "display_data"
    },
    {
     "name": "stdout",
     "output_type": "stream",
     "text": [
      "[NeMo I 2023-01-02 19:38:22 wer_bpe:187] \n",
      "    \n",
      "[NeMo I 2023-01-02 19:38:22 wer_bpe:188] reference:rangierfahrt vom gleis mike zwei drei ins drei drei antworten\n",
      "[NeMo I 2023-01-02 19:38:22 wer_bpe:189] predicted:rangierfahrt vom gleis mike zwei drei ins drei drei antworten\n",
      "[NeMo I 2023-01-02 19:38:22 wer_bpe:187] \n",
      "    \n",
      "[NeMo I 2023-01-02 19:38:22 wer_bpe:188] reference:spracheingabe\n",
      "[NeMo I 2023-01-02 19:38:22 wer_bpe:189] predicted:sprach eingabe\n",
      "[NeMo I 2023-01-02 19:38:23 wer_bpe:187] \n",
      "    \n",
      "[NeMo I 2023-01-02 19:38:23 wer_bpe:188] reference:umstellmanöver vom drei sechs nach gleis xray vier sieben via null vier antworten\n",
      "[NeMo I 2023-01-02 19:38:23 wer_bpe:189] predicted:umstellmanöver vom drei sechs nach gleis xray vier sieben via null vier antworten\n",
      "[NeMo I 2023-01-02 19:38:23 wer_bpe:187] \n",
      "    \n",
      "[NeMo I 2023-01-02 19:38:23 wer_bpe:188] reference:rangierfahrt von gleis sechs neun ins gleis delta sieben antworten\n",
      "[NeMo I 2023-01-02 19:38:23 wer_bpe:189] predicted:rangierfahrt von gleis sechs neun ins gleis delta sieben antworten\n",
      "[NeMo I 2023-01-02 19:38:23 wer_bpe:187] \n",
      "    \n",
      "[NeMo I 2023-01-02 19:38:23 wer_bpe:188] reference:umstellmanöver von charlie drei zwei via gleis victor sechs neun ins gleis golf zwei vier antworten\n",
      "[NeMo I 2023-01-02 19:38:23 wer_bpe:189] predicted:umstellmanöver von charlie drei zwei via gleis victor sechs neun ins gleis golf zwei vier antworten\n"
     ]
    },
    {
     "name": "stderr",
     "output_type": "stream",
     "text": [
      "`Trainer.fit` stopped: `max_epochs=4` reached.\n"
     ]
    },
    {
     "data": {
      "text/html": [
       "Waiting for W&B process to finish... <strong style=\"color:green\">(success).</strong>"
      ],
      "text/plain": [
       "<IPython.core.display.HTML object>"
      ]
     },
     "metadata": {},
     "output_type": "display_data"
    },
    {
     "data": {
      "text/html": [
       "<style>\n",
       "    table.wandb td:nth-child(1) { padding: 0 10px; text-align: left ; width: auto;} td:nth-child(2) {text-align: left ; width: 100%}\n",
       "    .wandb-row { display: flex; flex-direction: row; flex-wrap: wrap; justify-content: flex-start; width: 100% }\n",
       "    .wandb-col { display: flex; flex-direction: column; flex-basis: 100%; flex: 1; padding: 10px; }\n",
       "    </style>\n",
       "<div class=\"wandb-row\"><div class=\"wandb-col\"><h3>Run history:</h3><br/><table class=\"wandb\"><tr><td>epoch</td><td>▁▁▁▁▁▃▃▃▃▃▃▆▆▆▆▆▆█████</td></tr><tr><td>global_step</td><td>▁▁▂▂▂▃▃▃▄▄▄▅▅▅▆▆▆▆▇▇██</td></tr><tr><td>learning_rate</td><td>▁▁▂▂▃▃▃▄▄▅▅▆▆▆▇▇██</td></tr><tr><td>train_loss</td><td>█▆▇▅▄▃▃▂▁▃▃▃▃▁▁▃▂▁</td></tr><tr><td>trainer/global_step</td><td>▁▁▂▂▂▃▃▃▄▄▄▅▅▅▆▆▆▆▇▇██</td></tr><tr><td>training_batch_wer</td><td>█▇█▇▄▅▄▄▂▁▄▃▁▄▂</td></tr><tr><td>val_loss</td><td>█▂▁▁</td></tr><tr><td>val_wer</td><td>█▂▂▁</td></tr></table><br/></div><div class=\"wandb-col\"><h3>Run summary:</h3><br/><table class=\"wandb\"><tr><td>epoch</td><td>3</td></tr><tr><td>global_step</td><td>948.0</td></tr><tr><td>learning_rate</td><td>4e-05</td></tr><tr><td>train_loss</td><td>37.70523</td></tr><tr><td>trainer/global_step</td><td>947</td></tr><tr><td>training_batch_wer</td><td>0.33333</td></tr><tr><td>val_loss</td><td>3.24113</td></tr><tr><td>val_wer</td><td>0.03916</td></tr></table><br/></div></div>"
      ],
      "text/plain": [
       "<IPython.core.display.HTML object>"
      ]
     },
     "metadata": {},
     "output_type": "display_data"
    },
    {
     "data": {
      "text/html": [
       "Synced <strong style=\"color:#cdcd00\">sunny-sweep-10</strong>: <a href=\"https://wandb.ai/unisg-ds-nlp/ASR/runs/vjx66afd\" target=\"_blank\">https://wandb.ai/unisg-ds-nlp/ASR/runs/vjx66afd</a><br/>Synced 5 W&B file(s), 0 media file(s), 4 artifact file(s) and 0 other file(s)"
      ],
      "text/plain": [
       "<IPython.core.display.HTML object>"
      ]
     },
     "metadata": {},
     "output_type": "display_data"
    },
    {
     "data": {
      "text/html": [
       "Find logs at: <code>./wandb/run-20230102_192851-vjx66afd/logs</code>"
      ],
      "text/plain": [
       "<IPython.core.display.HTML object>"
      ]
     },
     "metadata": {},
     "output_type": "display_data"
    },
    {
     "name": "stderr",
     "output_type": "stream",
     "text": [
      "\u001b[34m\u001b[1mwandb\u001b[0m: Agent Starting Run: ymwvqsp0 with config:\n",
      "\u001b[34m\u001b[1mwandb\u001b[0m: \tepoch: 9\n",
      "\u001b[34m\u001b[1mwandb\u001b[0m: \tfreq_width: 27.864157355359424\n",
      "\u001b[34m\u001b[1mwandb\u001b[0m: \tlr: 0.001574030864918526\n",
      "Failed to detect the name of this notebook, you can set it manually with the WANDB_NOTEBOOK_NAME environment variable to enable code saving.\n"
     ]
    },
    {
     "data": {
      "text/html": [
       "wandb version 0.13.7 is available!  To upgrade, please run:\n",
       " $ pip install wandb --upgrade"
      ],
      "text/plain": [
       "<IPython.core.display.HTML object>"
      ]
     },
     "metadata": {},
     "output_type": "display_data"
    },
    {
     "data": {
      "text/html": [
       "Tracking run with wandb version 0.13.4"
      ],
      "text/plain": [
       "<IPython.core.display.HTML object>"
      ]
     },
     "metadata": {},
     "output_type": "display_data"
    },
    {
     "data": {
      "text/html": [
       "Run data is saved locally in <code>/home/user/code/sbb_asr/notebooks/wandb/run-20230102_193914-ymwvqsp0</code>"
      ],
      "text/plain": [
       "<IPython.core.display.HTML object>"
      ]
     },
     "metadata": {},
     "output_type": "display_data"
    },
    {
     "data": {
      "text/html": [
       "Syncing run <strong><a href=\"https://wandb.ai/unisg-ds-nlp/ASR/runs/ymwvqsp0\" target=\"_blank\">whole-sweep-11</a></strong> to <a href=\"https://wandb.ai/unisg-ds-nlp/ASR\" target=\"_blank\">Weights & Biases</a> (<a href=\"https://wandb.me/run\" target=\"_blank\">docs</a>)<br/>Sweep page:  <a href=\"https://wandb.ai/unisg-ds-nlp/ASR/sweeps/v7qi12lc\" target=\"_blank\">https://wandb.ai/unisg-ds-nlp/ASR/sweeps/v7qi12lc</a>"
      ],
      "text/plain": [
       "<IPython.core.display.HTML object>"
      ]
     },
     "metadata": {},
     "output_type": "display_data"
    },
    {
     "name": "stderr",
     "output_type": "stream",
     "text": [
      "[NeMo W 2023-01-02 19:39:15 nemo_logging:349] /home/user/.local/lib/python3.9/site-packages/pytorch_lightning/loggers/wandb.py:352: UserWarning: There is a wandb run already in progress and newly created instances of `WandbLogger` will reuse this run. If this is not desired, call `wandb.finish()` before instantiating `WandbLogger`.\n",
      "      rank_zero_warn(\n",
      "    \n",
      "[NeMo W 2023-01-02 19:39:15 nemo_logging:349] /home/user/.local/lib/python3.9/site-packages/pytorch_lightning/trainer/connectors/accelerator_connector.py:447: LightningDeprecationWarning: Setting `Trainer(gpus=1)` is deprecated in v1.7 and will be removed in v2.0. Please use `Trainer(accelerator='gpu', devices=1)` instead.\n",
      "      rank_zero_deprecation(\n",
      "    \n",
      "GPU available: True (cuda), used: True\n",
      "TPU available: False, using: 0 TPU cores\n",
      "IPU available: False, using: 0 IPUs\n",
      "HPU available: False, using: 0 HPUs\n"
     ]
    },
    {
     "name": "stdout",
     "output_type": "stream",
     "text": [
      "[NeMo I 2023-01-02 19:39:17 cloud:56] Found existing object /home/user/.cache/torch/NeMo/NeMo_1.12.0/stt_de_citrinet_1024/8743e4cecb8017ca2b49a035e07b2893/stt_de_citrinet_1024.nemo.\n",
      "[NeMo I 2023-01-02 19:39:17 cloud:62] Re-using file from: /home/user/.cache/torch/NeMo/NeMo_1.12.0/stt_de_citrinet_1024/8743e4cecb8017ca2b49a035e07b2893/stt_de_citrinet_1024.nemo\n",
      "[NeMo I 2023-01-02 19:39:17 common:910] Instantiating model from pre-trained checkpoint\n",
      "[NeMo I 2023-01-02 19:39:21 mixins:170] Tokenizer SentencePieceTokenizer initialized with 1024 tokens\n"
     ]
    },
    {
     "name": "stderr",
     "output_type": "stream",
     "text": [
      "[NeMo W 2023-01-02 19:39:22 modelPT:142] If you intend to do training or fine-tuning, please call the ModelPT.setup_training_data() method and provide a valid configuration file to setup the train data loader.\n",
      "    Train config : \n",
      "    manifest_filepath: /data/train/tarred_audio_manifest.json\n",
      "    sample_rate: 16000\n",
      "    batch_size: 32\n",
      "    trim_silence: false\n",
      "    max_duration: 35.0\n",
      "    shuffle: true\n",
      "    is_tarred: true\n",
      "    tarred_audio_filepaths: /data/train/audio__OP_0..1023_CL_.tar\n",
      "    use_start_end_token: false\n",
      "    shuffle_n: 1024\n",
      "    num_workers: 16\n",
      "    pin_memory: true\n",
      "    \n",
      "[NeMo W 2023-01-02 19:39:22 modelPT:149] If you intend to do validation, please call the ModelPT.setup_validation_data() or ModelPT.setup_multiple_validation_data() method and provide a valid configuration file to setup the validation data loader(s). \n",
      "    Validation config : \n",
      "    manifest_filepath:\n",
      "    - /data/voxpopuli_de/dev/voxpopuli_dev_manifest.json\n",
      "    - /data/voxpopuli_de/test/voxpopuli_test_manifest.json\n",
      "    - /data/mcv7.0_de/mcv7.0_dev_manifest_cleaned.json\n",
      "    - /data/mcv7.0_de/mcv7.0_test_manifest_cleaned.json\n",
      "    - /data/mls_de/mls_dev_manifest_cleaned.json\n",
      "    - /data/mls_de/mls_test_manifest_cleaned.json\n",
      "    sample_rate: 16000\n",
      "    batch_size: 8\n",
      "    shuffle: false\n",
      "    use_start_end_token: false\n",
      "    num_workers: 8\n",
      "    pin_memory: true\n",
      "    \n",
      "[NeMo W 2023-01-02 19:39:22 modelPT:155] Please call the ModelPT.setup_test_data() or ModelPT.setup_multiple_test_data() method and provide a valid configuration file to setup the test data loader(s).\n",
      "    Test config : \n",
      "    manifest_filepath: null\n",
      "    sample_rate: 16000\n",
      "    batch_size: 32\n",
      "    shuffle: false\n",
      "    use_start_end_token: false\n",
      "    \n"
     ]
    },
    {
     "name": "stdout",
     "output_type": "stream",
     "text": [
      "[NeMo I 2023-01-02 19:39:22 features:225] PADDING: 16\n",
      "[NeMo I 2023-01-02 19:39:27 save_restore_connector:243] Model EncDecCTCModelBPE was successfully restored from /home/user/.cache/torch/NeMo/NeMo_1.12.0/stt_de_citrinet_1024/8743e4cecb8017ca2b49a035e07b2893/stt_de_citrinet_1024.nemo.\n",
      "[NeMo I 2023-01-02 19:39:28 collections:194] Dataset loaded with 1890 files totalling 7.41 hours\n",
      "[NeMo I 2023-01-02 19:39:28 collections:195] 0 files were filtered totalling 0.00 hours\n",
      "[NeMo I 2023-01-02 19:39:28 collections:194] Dataset loaded with 34 files totalling 0.13 hours\n",
      "[NeMo I 2023-01-02 19:39:28 collections:195] 0 files were filtered totalling 0.00 hours\n",
      "[NeMo I 2023-01-02 19:39:28 collections:194] Dataset loaded with 34 files totalling 0.14 hours\n",
      "[NeMo I 2023-01-02 19:39:28 collections:195] 0 files were filtered totalling 0.00 hours\n",
      "[NeMo I 2023-01-02 19:39:28 modelPT:597] Optimizer config = Novograd (\n",
      "    Parameter Group 0\n",
      "        amsgrad: False\n",
      "        betas: [0.8, 0.25]\n",
      "        eps: 1e-08\n",
      "        grad_averaging: False\n",
      "        lr: 0.001574030864918526\n",
      "        weight_decay: 0.001\n",
      "    )\n",
      "[NeMo I 2023-01-02 19:39:28 lr_scheduler:910] Scheduler \"<nemo.core.optim.lr_scheduler.CosineAnnealing object at 0x7f842c7cce20>\" \n",
      "    will be used during training (effective maximum steps = 2133) - \n",
      "    Parameters : \n",
      "    (warmup_steps: 10000\n",
      "    warmup_ratio: null\n",
      "    min_lr: 1.0e-05\n",
      "    last_epoch: -1\n",
      "    max_steps: 2133\n",
      "    )\n"
     ]
    },
    {
     "name": "stderr",
     "output_type": "stream",
     "text": [
      "LOCAL_RANK: 0 - CUDA_VISIBLE_DEVICES: [0,1,2,3]\n"
     ]
    },
    {
     "name": "stdout",
     "output_type": "stream",
     "text": [
      "[NeMo I 2023-01-02 19:39:28 modelPT:597] Optimizer config = Novograd (\n",
      "    Parameter Group 0\n",
      "        amsgrad: False\n",
      "        betas: [0.8, 0.25]\n",
      "        eps: 1e-08\n",
      "        grad_averaging: False\n",
      "        lr: 0.001574030864918526\n",
      "        weight_decay: 0.001\n",
      "    )\n",
      "[NeMo I 2023-01-02 19:39:28 lr_scheduler:910] Scheduler \"<nemo.core.optim.lr_scheduler.CosineAnnealing object at 0x7f8386e3d640>\" \n",
      "    will be used during training (effective maximum steps = 2133) - \n",
      "    Parameters : \n",
      "    (warmup_steps: 10000\n",
      "    warmup_ratio: null\n",
      "    min_lr: 1.0e-05\n",
      "    last_epoch: -1\n",
      "    max_steps: 2133\n",
      "    )\n"
     ]
    },
    {
     "name": "stderr",
     "output_type": "stream",
     "text": [
      "\n",
      "  | Name              | Type                              | Params\n",
      "------------------------------------------------------------------------\n",
      "0 | preprocessor      | AudioToMelSpectrogramPreprocessor | 0     \n",
      "1 | encoder           | ConvASREncoder                    | 140 M \n",
      "2 | decoder           | ConvASRDecoder                    | 1.1 M \n",
      "3 | loss              | CTCLoss                           | 0     \n",
      "4 | spec_augmentation | SpectrogramAugmentation           | 0     \n",
      "5 | _wer              | WERBPE                            | 0     \n",
      "------------------------------------------------------------------------\n",
      "141 M     Trainable params\n",
      "0         Non-trainable params\n",
      "141 M     Total params\n",
      "564.897   Total estimated model params size (MB)\n"
     ]
    },
    {
     "data": {
      "application/vnd.jupyter.widget-view+json": {
       "model_id": "d269177272224999ae16fb1b074f87fe",
       "version_major": 2,
       "version_minor": 0
      },
      "text/plain": [
       "Sanity Checking: 0it [00:00, ?it/s]"
      ]
     },
     "metadata": {},
     "output_type": "display_data"
    },
    {
     "name": "stdout",
     "output_type": "stream",
     "text": [
      "[NeMo I 2023-01-02 19:39:30 wer_bpe:187] \n",
      "    \n",
      "[NeMo I 2023-01-02 19:39:30 wer_bpe:188] reference:rangierfahrt vom gleis mike zwei drei ins drei drei antworten\n",
      "[NeMo I 2023-01-02 19:39:30 wer_bpe:189] predicted:prongierfahrt vom gleis maik zwei drei ins drei drei antworten\n",
      "[NeMo I 2023-01-02 19:39:31 wer_bpe:187] \n",
      "    \n",
      "[NeMo I 2023-01-02 19:39:31 wer_bpe:188] reference:spracheingabe\n",
      "[NeMo I 2023-01-02 19:39:31 wer_bpe:189] predicted:spracheingabe\n"
     ]
    },
    {
     "data": {
      "application/vnd.jupyter.widget-view+json": {
       "model_id": "9dcd3c4179104a7f857b65e1edc9aa10",
       "version_major": 2,
       "version_minor": 0
      },
      "text/plain": [
       "Training: 0it [00:00, ?it/s]"
      ]
     },
     "metadata": {},
     "output_type": "display_data"
    },
    {
     "name": "stdout",
     "output_type": "stream",
     "text": [
      "[NeMo I 2023-01-02 19:40:01 wer_bpe:187] \n",
      "    \n",
      "[NeMo I 2023-01-02 19:40:01 wer_bpe:188] reference:rangierfahrt vom null eins ins gleis drei neun antworten\n",
      "[NeMo I 2023-01-02 19:40:01 wer_bpe:189] predicted:s ihn\n",
      "[NeMo I 2023-01-02 19:40:27 wer_bpe:187] \n",
      "    \n",
      "[NeMo I 2023-01-02 19:40:27 wer_bpe:188] reference:umstellmanöver von november neun nach fünf via gleis tango vier und romeo drei antworten\n",
      "[NeMo I 2023-01-02 19:40:27 wer_bpe:189] predicted:umstellmann noch neu\n",
      "[NeMo I 2023-01-02 19:40:54 wer_bpe:187] \n",
      "    \n",
      "[NeMo I 2023-01-02 19:40:54 wer_bpe:188] reference:umstellmanöver vom acht acht via zwei null ins alpha fünf vier antworten\n",
      "[NeMo I 2023-01-02 19:40:54 wer_bpe:189] predicted:umstellmann vom ab wie zweino ins fünf vier am\n",
      "[NeMo I 2023-01-02 19:41:20 wer_bpe:187] \n",
      "    \n",
      "[NeMo I 2023-01-02 19:41:20 wer_bpe:188] reference:umstellmanöver von sechs null via acht vier ins golf eins vier antworten\n",
      "[NeMo I 2023-01-02 19:41:20 wer_bpe:189] predicted:umstellmanöver von sechsno via auch ihr gold eins vier antwort\n"
     ]
    },
    {
     "data": {
      "application/vnd.jupyter.widget-view+json": {
       "model_id": "13d8c5fe4af345149375e27c467b4469",
       "version_major": 2,
       "version_minor": 0
      },
      "text/plain": [
       "Validation: 0it [00:00, ?it/s]"
      ]
     },
     "metadata": {},
     "output_type": "display_data"
    },
    {
     "name": "stdout",
     "output_type": "stream",
     "text": [
      "[NeMo I 2023-01-02 19:41:42 wer_bpe:187] \n",
      "    \n",
      "[NeMo I 2023-01-02 19:41:42 wer_bpe:188] reference:rangierfahrt vom gleis mike zwei drei ins drei drei antworten\n",
      "[NeMo I 2023-01-02 19:41:42 wer_bpe:189] predicted:rangierfahrt vom gleis maig zwei drei ins drei drei antwort\n",
      "[NeMo I 2023-01-02 19:41:42 wer_bpe:187] \n",
      "    \n",
      "[NeMo I 2023-01-02 19:41:42 wer_bpe:188] reference:spracheingabe\n",
      "[NeMo I 2023-01-02 19:41:42 wer_bpe:189] predicted:sprach eingabe\n",
      "[NeMo I 2023-01-02 19:41:43 wer_bpe:187] \n",
      "    \n",
      "[NeMo I 2023-01-02 19:41:43 wer_bpe:188] reference:umstellmanöver vom drei sechs nach gleis xray vier sieben via null vier antworten\n",
      "[NeMo I 2023-01-02 19:41:43 wer_bpe:189] predicted:umstellmanöver vom drei sechs nach gleis xray vier sieben via null v antworten\n",
      "[NeMo I 2023-01-02 19:41:43 wer_bpe:187] \n",
      "    \n",
      "[NeMo I 2023-01-02 19:41:43 wer_bpe:188] reference:rangierfahrt von gleis sechs neun ins gleis delta sieben antworten\n",
      "[NeMo I 2023-01-02 19:41:43 wer_bpe:189] predicted:rangierfahrt von gleis sechs neun ins gleis delta sieben antworten\n",
      "[NeMo I 2023-01-02 19:41:43 wer_bpe:187] \n",
      "    \n",
      "[NeMo I 2023-01-02 19:41:43 wer_bpe:188] reference:umstellmanöver von charlie drei zwei via gleis victor sechs neun ins gleis golf zwei vier antworten\n",
      "[NeMo I 2023-01-02 19:41:43 wer_bpe:189] predicted:umstellmanöver von charley drei zwei via gleis ctor sechs neun ins gleis gol zwei vier antwort\n",
      "[NeMo I 2023-01-02 19:42:28 wer_bpe:187] \n",
      "    \n",
      "[NeMo I 2023-01-02 19:42:28 wer_bpe:188] reference:rangierfahrt von gleis vier sechs ins gleis acht acht antworten\n",
      "[NeMo I 2023-01-02 19:42:28 wer_bpe:189] predicted:ierfahrt von gleis seslei\n",
      "[NeMo I 2023-01-02 19:42:54 wer_bpe:187] \n",
      "    \n",
      "[NeMo I 2023-01-02 19:42:54 wer_bpe:188] reference:umstellmanöver von gleis vier drei via gleis drei neun ins vier sieben antworten\n",
      "[NeMo I 2023-01-02 19:42:54 wer_bpe:189] predicted:von gleis drei neuul eins f\n",
      "[NeMo I 2023-01-02 19:43:21 wer_bpe:187] \n",
      "    \n",
      "[NeMo I 2023-01-02 19:43:21 wer_bpe:188] reference:umstellmanöver vom gleis sechs ins sieben fünf via gleis xray null und gleis sieben antworten\n",
      "[NeMo I 2023-01-02 19:43:21 wer_bpe:189] predicted:umstellmanöver vom gleis sechs ins se fünf via gleis es null und gleis sieben\n",
      "[NeMo I 2023-01-02 19:43:48 wer_bpe:187] \n",
      "    \n",
      "[NeMo I 2023-01-02 19:43:48 wer_bpe:188] reference:rangierfahrt vom null neun ins uniform sieben sieben antworten\n",
      "[NeMo I 2023-01-02 19:43:48 wer_bpe:189] predicted:rangierfahrt vom null neuns uniform sieben sieben antworten\n"
     ]
    },
    {
     "data": {
      "application/vnd.jupyter.widget-view+json": {
       "model_id": "6eaa774e077048f78c80ca3588556a35",
       "version_major": 2,
       "version_minor": 0
      },
      "text/plain": [
       "Validation: 0it [00:00, ?it/s]"
      ]
     },
     "metadata": {},
     "output_type": "display_data"
    },
    {
     "name": "stdout",
     "output_type": "stream",
     "text": [
      "[NeMo I 2023-01-02 19:44:09 wer_bpe:187] \n",
      "    \n",
      "[NeMo I 2023-01-02 19:44:09 wer_bpe:188] reference:rangierfahrt vom gleis mike zwei drei ins drei drei antworten\n",
      "[NeMo I 2023-01-02 19:44:09 wer_bpe:189] predicted:rangierfahrt vom gleis mike zwei drei ins drei drei antworten\n",
      "[NeMo I 2023-01-02 19:44:10 wer_bpe:187] \n",
      "    \n",
      "[NeMo I 2023-01-02 19:44:10 wer_bpe:188] reference:spracheingabe\n",
      "[NeMo I 2023-01-02 19:44:10 wer_bpe:189] predicted:sprach eingabe\n",
      "[NeMo I 2023-01-02 19:44:10 wer_bpe:187] \n",
      "    \n",
      "[NeMo I 2023-01-02 19:44:10 wer_bpe:188] reference:umstellmanöver vom drei sechs nach gleis xray vier sieben via null vier antworten\n",
      "[NeMo I 2023-01-02 19:44:10 wer_bpe:189] predicted:umstellmanöver vom drei sechs nach gleis xray vier sieben via null vier antworten\n",
      "[NeMo I 2023-01-02 19:44:10 wer_bpe:187] \n",
      "    \n",
      "[NeMo I 2023-01-02 19:44:10 wer_bpe:188] reference:rangierfahrt von gleis sechs neun ins gleis delta sieben antworten\n",
      "[NeMo I 2023-01-02 19:44:10 wer_bpe:189] predicted:rangierfahrt von gleis sechs neun ins gleis delta sieben antworten\n",
      "[NeMo I 2023-01-02 19:44:10 wer_bpe:187] \n",
      "    \n",
      "[NeMo I 2023-01-02 19:44:10 wer_bpe:188] reference:umstellmanöver von charlie drei zwei via gleis victor sechs neun ins gleis golf zwei vier antworten\n",
      "[NeMo I 2023-01-02 19:44:10 wer_bpe:189] predicted:umstellmanöver von charlie drei zwei via gleis victor sechs neun ins gleis golf zwei vier antworten\n",
      "[NeMo I 2023-01-02 19:44:48 wer_bpe:187] \n",
      "    \n",
      "[NeMo I 2023-01-02 19:44:49 wer_bpe:188] reference:umstellmanöver von gleis sechs acht nach gleis acht sechs via sierra sechs fünf antworten\n",
      "[NeMo I 2023-01-02 19:44:49 wer_bpe:189] predicted:von gleis sechs acht nach gs acht sechs via sierra sechs fünf antworten\n",
      "[NeMo I 2023-01-02 19:45:15 wer_bpe:187] \n",
      "    \n",
      "[NeMo I 2023-01-02 19:45:15 wer_bpe:188] reference:er will am donnerstag nicht in die schule gehen\n",
      "[NeMo I 2023-01-02 19:45:15 wer_bpe:189] predicted:am donnerstag nicht in\n",
      "[NeMo I 2023-01-02 19:45:42 wer_bpe:187] \n",
      "    \n",
      "[NeMo I 2023-01-02 19:45:42 wer_bpe:188] reference:umstellmanöver von tango neun acht ins gleis whisky zwei drei via gleis zwei fünf antworten\n",
      "[NeMo I 2023-01-02 19:45:42 wer_bpe:189] predicted:umellmanöver von tango neun acht ins gleis wsky zwei zwei via gleis zwei fünf\n",
      "[NeMo I 2023-01-02 19:46:08 wer_bpe:187] \n",
      "    \n",
      "[NeMo I 2023-01-02 19:46:08 wer_bpe:188] reference:rangierfahrt von yankee neun eins ins vier acht antworten\n",
      "[NeMo I 2023-01-02 19:46:08 wer_bpe:189] predicted:rangierfahrt von yi neun eins ins vier acht antworten\n"
     ]
    },
    {
     "data": {
      "application/vnd.jupyter.widget-view+json": {
       "model_id": "b07a0e1bf4534442a8d5f1190274e21c",
       "version_major": 2,
       "version_minor": 0
      },
      "text/plain": [
       "Validation: 0it [00:00, ?it/s]"
      ]
     },
     "metadata": {},
     "output_type": "display_data"
    },
    {
     "name": "stdout",
     "output_type": "stream",
     "text": [
      "[NeMo I 2023-01-02 19:46:30 wer_bpe:187] \n",
      "    \n",
      "[NeMo I 2023-01-02 19:46:30 wer_bpe:188] reference:rangierfahrt vom gleis mike zwei drei ins drei drei antworten\n",
      "[NeMo I 2023-01-02 19:46:30 wer_bpe:189] predicted:rangierfahrt vom gleis mike zwei drei ins drei drei antworten\n",
      "[NeMo I 2023-01-02 19:46:30 wer_bpe:187] \n",
      "    \n",
      "[NeMo I 2023-01-02 19:46:30 wer_bpe:188] reference:spracheingabe\n",
      "[NeMo I 2023-01-02 19:46:30 wer_bpe:189] predicted:spracheingabe\n",
      "[NeMo I 2023-01-02 19:46:30 wer_bpe:187] \n",
      "    \n",
      "[NeMo I 2023-01-02 19:46:30 wer_bpe:188] reference:umstellmanöver vom drei sechs nach gleis xray vier sieben via null vier antworten\n",
      "[NeMo I 2023-01-02 19:46:30 wer_bpe:189] predicted:umstellmanöver vom drei sechs nach gleis xray vier sieben via null vier antworten\n",
      "[NeMo I 2023-01-02 19:46:30 wer_bpe:187] \n",
      "    \n",
      "[NeMo I 2023-01-02 19:46:30 wer_bpe:188] reference:rangierfahrt von gleis sechs neun ins gleis delta sieben antworten\n",
      "[NeMo I 2023-01-02 19:46:30 wer_bpe:189] predicted:rangierfahrt von gleis sechs neun ins gleis delta sieben antworten\n",
      "[NeMo I 2023-01-02 19:46:31 wer_bpe:187] \n",
      "    \n",
      "[NeMo I 2023-01-02 19:46:31 wer_bpe:188] reference:umstellmanöver von charlie drei zwei via gleis victor sechs neun ins gleis golf zwei vier antworten\n",
      "[NeMo I 2023-01-02 19:46:31 wer_bpe:189] predicted:umstellmanöver von charlie drei zwei via gleis victor sechs neun ins gleis golf zwei vier antworten\n",
      "[NeMo I 2023-01-02 19:47:10 wer_bpe:187] \n",
      "    \n",
      "[NeMo I 2023-01-02 19:47:10 wer_bpe:188] reference:rangierfahrt von hotel eins drei ins gleis papa fünf vier antworten\n",
      "[NeMo I 2023-01-02 19:47:10 wer_bpe:189] predicted:rangierfahrt von  eins drei ins gleis papa fünf vier antworten\n",
      "[NeMo I 2023-01-02 19:47:37 wer_bpe:187] \n",
      "    \n",
      "[NeMo I 2023-01-02 19:47:37 wer_bpe:188] reference:umstellmanöver vom hotel acht zwei nach zwei sieben via golf sechs acht antworten\n",
      "[NeMo I 2023-01-02 19:47:37 wer_bpe:189] predicted:umstellmanöver vom homa  zwei  zwei via g sechs acht antworten\n",
      "[NeMo I 2023-01-02 19:48:03 wer_bpe:187] \n",
      "    \n",
      "[NeMo I 2023-01-02 19:48:03 wer_bpe:188] reference:rangierfahrt von alpha null sieben nach oscar eins acht antworten\n",
      "[NeMo I 2023-01-02 19:48:03 wer_bpe:189] predicted:vver sieben nach ein\n",
      "[NeMo I 2023-01-02 19:48:29 wer_bpe:187] \n",
      "    \n",
      "[NeMo I 2023-01-02 19:48:29 wer_bpe:188] reference:rangierfahrt vom null neun ins uniform sieben sieben antworten\n",
      "[NeMo I 2023-01-02 19:48:29 wer_bpe:189] predicted:rangierfahrt von null neun ins gf sieben sieben antworten\n"
     ]
    },
    {
     "data": {
      "application/vnd.jupyter.widget-view+json": {
       "model_id": "870094e322634829998c3018d6aa0f26",
       "version_major": 2,
       "version_minor": 0
      },
      "text/plain": [
       "Validation: 0it [00:00, ?it/s]"
      ]
     },
     "metadata": {},
     "output_type": "display_data"
    },
    {
     "name": "stdout",
     "output_type": "stream",
     "text": [
      "[NeMo I 2023-01-02 19:48:51 wer_bpe:187] \n",
      "    \n",
      "[NeMo I 2023-01-02 19:48:51 wer_bpe:188] reference:rangierfahrt vom gleis mike zwei drei ins drei drei antworten\n",
      "[NeMo I 2023-01-02 19:48:51 wer_bpe:189] predicted:rangierfahrt vom gleis mike zwei drei ins drei drei antworten\n",
      "[NeMo I 2023-01-02 19:48:51 wer_bpe:187] \n",
      "    \n",
      "[NeMo I 2023-01-02 19:48:51 wer_bpe:188] reference:spracheingabe\n",
      "[NeMo I 2023-01-02 19:48:51 wer_bpe:189] predicted:spracheingabe\n",
      "[NeMo I 2023-01-02 19:48:51 wer_bpe:187] \n",
      "    \n",
      "[NeMo I 2023-01-02 19:48:51 wer_bpe:188] reference:umstellmanöver vom drei sechs nach gleis xray vier sieben via null vier antworten\n",
      "[NeMo I 2023-01-02 19:48:51 wer_bpe:189] predicted:umstellmanöver vom drei sechs nach gleis xray vier sieben via null vier antworten\n",
      "[NeMo I 2023-01-02 19:48:51 wer_bpe:187] \n",
      "    \n",
      "[NeMo I 2023-01-02 19:48:51 wer_bpe:188] reference:rangierfahrt von gleis sechs neun ins gleis delta sieben antworten\n",
      "[NeMo I 2023-01-02 19:48:51 wer_bpe:189] predicted:rangierfahrt von gleis sechs neun ins gleis delta sieben antworten\n",
      "[NeMo I 2023-01-02 19:48:51 wer_bpe:187] \n",
      "    \n",
      "[NeMo I 2023-01-02 19:48:51 wer_bpe:188] reference:umstellmanöver von charlie drei zwei via gleis victor sechs neun ins gleis golf zwei vier antworten\n",
      "[NeMo I 2023-01-02 19:48:51 wer_bpe:189] predicted:umstellmanöver von charlie drei zwei via gleis victor sechs neun ins gleis golf zwei vier antworten\n",
      "[NeMo I 2023-01-02 19:49:30 wer_bpe:187] \n",
      "    \n",
      "[NeMo I 2023-01-02 19:49:30 wer_bpe:188] reference:beenden\n",
      "[NeMo I 2023-01-02 19:49:30 wer_bpe:189] predicted:inenden\n",
      "[NeMo I 2023-01-02 19:49:57 wer_bpe:187] \n",
      "    \n",
      "[NeMo I 2023-01-02 19:49:57 wer_bpe:188] reference:rangierfahrt von gleis drei null ins eins fünf antworten\n",
      "[NeMo I 2023-01-02 19:49:57 wer_bpe:189] predicted:rangierfahrt von gleis drei null ins eins vier antworten\n",
      "[NeMo I 2023-01-02 19:50:23 wer_bpe:187] \n",
      "    \n",
      "[NeMo I 2023-01-02 19:50:23 wer_bpe:188] reference:umstellmanöver vom xray neun vier via mike sieben zwei nach gleis uniform neun drei antworten\n",
      "[NeMo I 2023-01-02 19:50:23 wer_bpe:189] predicted:stellmanöver  neun vier el einleisia zwei ins gleis uniform neun  antworten\n",
      "[NeMo I 2023-01-02 19:50:50 wer_bpe:187] \n",
      "    \n",
      "[NeMo I 2023-01-02 19:50:50 wer_bpe:188] reference:umstellmanöver vom kilo fünf sieben nach sechs zwei via gleis neun sechs antworten\n",
      "[NeMo I 2023-01-02 19:50:50 wer_bpe:189] predicted:umstellmanöver vom kilo fünf sieben nach  zwei via gleis sie sechs antworten\n"
     ]
    },
    {
     "data": {
      "application/vnd.jupyter.widget-view+json": {
       "model_id": "085326072598485497ad11d4d70d4ca6",
       "version_major": 2,
       "version_minor": 0
      },
      "text/plain": [
       "Validation: 0it [00:00, ?it/s]"
      ]
     },
     "metadata": {},
     "output_type": "display_data"
    },
    {
     "name": "stdout",
     "output_type": "stream",
     "text": [
      "[NeMo I 2023-01-02 19:51:12 wer_bpe:187] \n",
      "    \n",
      "[NeMo I 2023-01-02 19:51:12 wer_bpe:188] reference:rangierfahrt vom gleis mike zwei drei ins drei drei antworten\n",
      "[NeMo I 2023-01-02 19:51:12 wer_bpe:189] predicted:rangierfahrt vom gleis mike zwei drei ins drei drei antworten\n",
      "[NeMo I 2023-01-02 19:51:12 wer_bpe:187] \n",
      "    \n",
      "[NeMo I 2023-01-02 19:51:12 wer_bpe:188] reference:spracheingabe\n",
      "[NeMo I 2023-01-02 19:51:12 wer_bpe:189] predicted:spracheingabe\n",
      "[NeMo I 2023-01-02 19:51:12 wer_bpe:187] \n",
      "    \n",
      "[NeMo I 2023-01-02 19:51:12 wer_bpe:188] reference:umstellmanöver vom drei sechs nach gleis xray vier sieben via null vier antworten\n",
      "[NeMo I 2023-01-02 19:51:12 wer_bpe:189] predicted:umstellmanöver vom drei sechs nach gleis xray vier sieben via null vier antworten\n",
      "[NeMo I 2023-01-02 19:51:13 wer_bpe:187] \n",
      "    \n",
      "[NeMo I 2023-01-02 19:51:13 wer_bpe:188] reference:rangierfahrt von gleis sechs neun ins gleis delta sieben antworten\n",
      "[NeMo I 2023-01-02 19:51:13 wer_bpe:189] predicted:rangierfahrt von gleis sechs neun ins gleis delta sieben antworten\n",
      "[NeMo I 2023-01-02 19:51:13 wer_bpe:187] \n",
      "    \n",
      "[NeMo I 2023-01-02 19:51:13 wer_bpe:188] reference:umstellmanöver von charlie drei zwei via gleis victor sechs neun ins gleis golf zwei vier antworten\n",
      "[NeMo I 2023-01-02 19:51:13 wer_bpe:189] predicted:umstellmanöver von charlie drei zwei via gleis victor sechs neun ins gleis golf zwei vier antworten\n",
      "[NeMo I 2023-01-02 19:51:51 wer_bpe:187] \n",
      "    \n",
      "[NeMo I 2023-01-02 19:51:51 wer_bpe:188] reference:umstellmanöver vom null acht via gleis sieben acht ins gleis fünf eins antworten\n",
      "[NeMo I 2023-01-02 19:51:51 wer_bpe:189] predicted:umstellmanöver vom null  via seben acht ins gleis fünf eins antworten\n",
      "[NeMo I 2023-01-02 19:52:17 wer_bpe:187] \n",
      "    \n",
      "[NeMo I 2023-01-02 19:52:17 wer_bpe:188] reference:rangierfahrt vom hotel neun sieben ins juliet acht drei antworten\n",
      "[NeMo I 2023-01-02 19:52:17 wer_bpe:189] predicted:rangierfahrt vom hotel neun sieben ins juliet acht drei antworten\n",
      "[NeMo I 2023-01-02 19:52:43 wer_bpe:187] \n",
      "    \n",
      "[NeMo I 2023-01-02 19:52:43 wer_bpe:188] reference:rangierfahrt von gleis vier sechs ins gleis acht acht antworten\n",
      "[NeMo I 2023-01-02 19:52:43 wer_bpe:189] predicted:rangnö von gleis vieria sechs ins gleis acht acht antworten\n",
      "[NeMo I 2023-01-02 19:53:10 wer_bpe:187] \n",
      "    \n",
      "[NeMo I 2023-01-02 19:53:10 wer_bpe:188] reference:rangierfahrt von gleis charlie eins null nach gleis vier vier antworten\n",
      "[NeMo I 2023-01-02 19:53:10 wer_bpe:189] predicted:rangierfahrt von gleis  eins null nach gleis vier fünf antworten\n"
     ]
    },
    {
     "data": {
      "application/vnd.jupyter.widget-view+json": {
       "model_id": "ac720c7060654d4faa751d49e26822d6",
       "version_major": 2,
       "version_minor": 0
      },
      "text/plain": [
       "Validation: 0it [00:00, ?it/s]"
      ]
     },
     "metadata": {},
     "output_type": "display_data"
    },
    {
     "name": "stdout",
     "output_type": "stream",
     "text": [
      "[NeMo I 2023-01-02 19:53:33 wer_bpe:187] \n",
      "    \n",
      "[NeMo I 2023-01-02 19:53:33 wer_bpe:188] reference:rangierfahrt vom gleis mike zwei drei ins drei drei antworten\n",
      "[NeMo I 2023-01-02 19:53:33 wer_bpe:189] predicted:rangierfahrt vom gleis mike zwei drei ins drei drei antworten\n",
      "[NeMo I 2023-01-02 19:53:33 wer_bpe:187] \n",
      "    \n",
      "[NeMo I 2023-01-02 19:53:33 wer_bpe:188] reference:spracheingabe\n",
      "[NeMo I 2023-01-02 19:53:33 wer_bpe:189] predicted:spracheingabe\n",
      "[NeMo I 2023-01-02 19:53:33 wer_bpe:187] \n",
      "    \n",
      "[NeMo I 2023-01-02 19:53:33 wer_bpe:188] reference:umstellmanöver vom drei sechs nach gleis xray vier sieben via null vier antworten\n",
      "[NeMo I 2023-01-02 19:53:33 wer_bpe:189] predicted:umstellmanöver vom drei sechs nach gleis xray vier sieben via null vier antworten\n",
      "[NeMo I 2023-01-02 19:53:33 wer_bpe:187] \n",
      "    \n",
      "[NeMo I 2023-01-02 19:53:33 wer_bpe:188] reference:rangierfahrt von gleis sechs neun ins gleis delta sieben antworten\n",
      "[NeMo I 2023-01-02 19:53:33 wer_bpe:189] predicted:rangierfahrt von gleis sechs neun ins gleis delta sieben antworten\n",
      "[NeMo I 2023-01-02 19:53:33 wer_bpe:187] \n",
      "    \n",
      "[NeMo I 2023-01-02 19:53:33 wer_bpe:188] reference:umstellmanöver von charlie drei zwei via gleis victor sechs neun ins gleis golf zwei vier antworten\n",
      "[NeMo I 2023-01-02 19:53:33 wer_bpe:189] predicted:umstellmanöver von charlie drei zwei via gleis victor sechs neun ins gleis golf zwei vier antworten\n",
      "[NeMo I 2023-01-02 19:54:14 wer_bpe:187] \n",
      "    \n",
      "[NeMo I 2023-01-02 19:54:14 wer_bpe:188] reference:umstellmanöver von gleis sechs acht nach gleis acht sechs via sierra sechs fünf antworten\n",
      "[NeMo I 2023-01-02 19:54:14 wer_bpe:189] predicted:umstellmanöver von gleis sechs acht nach gleis acht sechs via sierra sechs fünf antworten\n",
      "[NeMo I 2023-01-02 19:54:40 wer_bpe:187] \n",
      "    \n",
      "[NeMo I 2023-01-02 19:54:40 wer_bpe:188] reference:umstellmanöver vom drei acht via gleis neun fünf nach echo sieben sieben antworten\n",
      "[NeMo I 2023-01-02 19:54:40 wer_bpe:189] predicted:umstellmanöver vom drei acht via gleis neun fünf nach echo sieben sieben antworten\n",
      "[NeMo I 2023-01-02 19:55:07 wer_bpe:187] \n",
      "    \n",
      "[NeMo I 2023-01-02 19:55:07 wer_bpe:188] reference:umstellmanöver von charlie drei zwei via gleis victor sechs neun ins gleis golf zwei vier antworten\n",
      "[NeMo I 2023-01-02 19:55:07 wer_bpe:189] predicted:umstellmanöver von charlie drei zwei via gleis victor sechs neun ins gleis golf se  antworten\n",
      "[NeMo I 2023-01-02 19:55:33 wer_bpe:187] \n",
      "    \n",
      "[NeMo I 2023-01-02 19:55:33 wer_bpe:188] reference:umstellmanöver von juliet vier acht nach gleis zwei sieben via fünf sechs antworten\n",
      "[NeMo I 2023-01-02 19:55:33 wer_bpe:189] predicted:umstellmanöver von juliet vier acht nach gleis drei sieben via fünf sechs antworten\n"
     ]
    },
    {
     "data": {
      "application/vnd.jupyter.widget-view+json": {
       "model_id": "233e89d92f6c40c5a200aca672fb7430",
       "version_major": 2,
       "version_minor": 0
      },
      "text/plain": [
       "Validation: 0it [00:00, ?it/s]"
      ]
     },
     "metadata": {},
     "output_type": "display_data"
    },
    {
     "name": "stdout",
     "output_type": "stream",
     "text": [
      "[NeMo I 2023-01-02 19:55:55 wer_bpe:187] \n",
      "    \n",
      "[NeMo I 2023-01-02 19:55:55 wer_bpe:188] reference:rangierfahrt vom gleis mike zwei drei ins drei drei antworten\n",
      "[NeMo I 2023-01-02 19:55:55 wer_bpe:189] predicted:rangierfahrt vom gleis mike zwei drei ins drei drei antworten\n",
      "[NeMo I 2023-01-02 19:55:55 wer_bpe:187] \n",
      "    \n",
      "[NeMo I 2023-01-02 19:55:55 wer_bpe:188] reference:spracheingabe\n",
      "[NeMo I 2023-01-02 19:55:55 wer_bpe:189] predicted:spracheingabe\n",
      "[NeMo I 2023-01-02 19:55:55 wer_bpe:187] \n",
      "    \n",
      "[NeMo I 2023-01-02 19:55:55 wer_bpe:188] reference:umstellmanöver vom drei sechs nach gleis xray vier sieben via null vier antworten\n",
      "[NeMo I 2023-01-02 19:55:55 wer_bpe:189] predicted:umstellmanöver vom drei sechs nach gleis xray vier sieben via null vier antworten\n",
      "[NeMo I 2023-01-02 19:55:56 wer_bpe:187] \n",
      "    \n",
      "[NeMo I 2023-01-02 19:55:56 wer_bpe:188] reference:rangierfahrt von gleis sechs neun ins gleis delta sieben antworten\n",
      "[NeMo I 2023-01-02 19:55:56 wer_bpe:189] predicted:rangierfahrt von gleis sechs neun ins gleis delta sieben antworten\n",
      "[NeMo I 2023-01-02 19:55:56 wer_bpe:187] \n",
      "    \n",
      "[NeMo I 2023-01-02 19:55:56 wer_bpe:188] reference:umstellmanöver von charlie drei zwei via gleis victor sechs neun ins gleis golf zwei vier antworten\n",
      "[NeMo I 2023-01-02 19:55:56 wer_bpe:189] predicted:umstellmanöver von charlie drei zwei via gleis victor sechs neun ins gleis golf zwei vier antworten\n",
      "[NeMo I 2023-01-02 19:56:35 wer_bpe:187] \n",
      "    \n",
      "[NeMo I 2023-01-02 19:56:35 wer_bpe:188] reference:rangierfahrt von gleis echo vier ins gleis null acht antworten\n",
      "[NeMo I 2023-01-02 19:56:35 wer_bpe:189] predicted:rangierfahrt von gleis echo  ins gleis null acht antworten\n",
      "[NeMo I 2023-01-02 19:57:01 wer_bpe:187] \n",
      "    \n",
      "[NeMo I 2023-01-02 19:57:01 wer_bpe:188] reference:umstellmanöver von vier null ins gleis drei via whisky zwei neun antworten\n",
      "[NeMo I 2023-01-02 19:57:01 wer_bpe:189] predicted:umstellmanöver von se null ins gleis drei via whisky zwei neun antworten\n",
      "[NeMo I 2023-01-02 19:57:28 wer_bpe:187] \n",
      "    \n",
      "[NeMo I 2023-01-02 19:57:28 wer_bpe:188] reference:umstellmanöver vom null vier via sechs drei ins gleis sieben null antworten\n",
      "[NeMo I 2023-01-02 19:57:28 wer_bpe:189] predicted:umstellmanöver vom null vier via sechs drei ins gleis sieben nulf antworten\n",
      "[NeMo I 2023-01-02 19:57:54 wer_bpe:187] \n",
      "    \n",
      "[NeMo I 2023-01-02 19:57:54 wer_bpe:188] reference:rangierfahrt von sieben drei ins sechs drei antworten\n",
      "[NeMo I 2023-01-02 19:57:54 wer_bpe:189] predicted:rangierfahrt von sieben drei ins sechs drei antworten\n"
     ]
    },
    {
     "data": {
      "application/vnd.jupyter.widget-view+json": {
       "model_id": "3d91978cf64f4bd99199dc98e0f7e67b",
       "version_major": 2,
       "version_minor": 0
      },
      "text/plain": [
       "Validation: 0it [00:00, ?it/s]"
      ]
     },
     "metadata": {},
     "output_type": "display_data"
    },
    {
     "name": "stdout",
     "output_type": "stream",
     "text": [
      "[NeMo I 2023-01-02 19:58:16 wer_bpe:187] \n",
      "    \n",
      "[NeMo I 2023-01-02 19:58:16 wer_bpe:188] reference:rangierfahrt vom gleis mike zwei drei ins drei drei antworten\n",
      "[NeMo I 2023-01-02 19:58:16 wer_bpe:189] predicted:rangierfahrt vom gleis mike zwei drei ins drei drei antworten\n",
      "[NeMo I 2023-01-02 19:58:16 wer_bpe:187] \n",
      "    \n",
      "[NeMo I 2023-01-02 19:58:16 wer_bpe:188] reference:spracheingabe\n",
      "[NeMo I 2023-01-02 19:58:16 wer_bpe:189] predicted:spracheingabe\n",
      "[NeMo I 2023-01-02 19:58:16 wer_bpe:187] \n",
      "    \n",
      "[NeMo I 2023-01-02 19:58:16 wer_bpe:188] reference:umstellmanöver vom drei sechs nach gleis xray vier sieben via null vier antworten\n",
      "[NeMo I 2023-01-02 19:58:16 wer_bpe:189] predicted:umstellmanöver vom drei sechs nach gleis xray vier sieben via null vier antworten\n",
      "[NeMo I 2023-01-02 19:58:16 wer_bpe:187] \n",
      "    \n",
      "[NeMo I 2023-01-02 19:58:16 wer_bpe:188] reference:rangierfahrt von gleis sechs neun ins gleis delta sieben antworten\n",
      "[NeMo I 2023-01-02 19:58:16 wer_bpe:189] predicted:rangierfahrt von gleis sechs neun ins gleis delta sieben antworten\n",
      "[NeMo I 2023-01-02 19:58:16 wer_bpe:187] \n",
      "    \n",
      "[NeMo I 2023-01-02 19:58:16 wer_bpe:188] reference:umstellmanöver von charlie drei zwei via gleis victor sechs neun ins gleis golf zwei vier antworten\n",
      "[NeMo I 2023-01-02 19:58:16 wer_bpe:189] predicted:umstellmanöver von charlie drei zwei via gleis victor sechs neun ins gleis golf zwei vier antworten\n",
      "[NeMo I 2023-01-02 19:58:54 wer_bpe:187] \n",
      "    \n",
      "[NeMo I 2023-01-02 19:58:54 wer_bpe:188] reference:rangierfahrt vom gleis bravo eins vier nach foxtrot vier eins antworten\n",
      "[NeMo I 2023-01-02 19:58:54 wer_bpe:189] predicted:rangierfahrt vom gleis bravo eins vier nach foxtrot vier eins antworten\n",
      "[NeMo I 2023-01-02 19:59:20 wer_bpe:187] \n",
      "    \n",
      "[NeMo I 2023-01-02 19:59:20 wer_bpe:188] reference:rangierfahrt von gleis romeo eins neun ins lima eins vier antworten\n",
      "[NeMo I 2023-01-02 19:59:20 wer_bpe:189] predicted:rangierfahrt von gleis romeo eins drei ins lima eins vier antworten\n",
      "[NeMo I 2023-01-02 19:59:46 wer_bpe:187] \n",
      "    \n",
      "[NeMo I 2023-01-02 19:59:46 wer_bpe:188] reference:traktorfahrt vom vier zwei acht ins gleis kilo drei zwei antworten\n",
      "[NeMo I 2023-01-02 19:59:46 wer_bpe:189] predicted:traktorfahrt vom vier zwei acht ins gleis kilo neu zwei antworten\n",
      "[NeMo I 2023-01-02 20:00:12 wer_bpe:187] \n",
      "    \n",
      "[NeMo I 2023-01-02 20:00:12 wer_bpe:188] reference:rangierfahrt vom acht null nach gleis zulu acht zwei antworten\n",
      "[NeMo I 2023-01-02 20:00:12 wer_bpe:189] predicted:rangierfahrt vom acht null nach gleis zulu acht zwei antworten\n"
     ]
    },
    {
     "data": {
      "application/vnd.jupyter.widget-view+json": {
       "model_id": "00efcead45044df4b357174a562aef3f",
       "version_major": 2,
       "version_minor": 0
      },
      "text/plain": [
       "Validation: 0it [00:00, ?it/s]"
      ]
     },
     "metadata": {},
     "output_type": "display_data"
    },
    {
     "name": "stdout",
     "output_type": "stream",
     "text": [
      "[NeMo I 2023-01-02 20:00:34 wer_bpe:187] \n",
      "    \n",
      "[NeMo I 2023-01-02 20:00:34 wer_bpe:188] reference:rangierfahrt vom gleis mike zwei drei ins drei drei antworten\n",
      "[NeMo I 2023-01-02 20:00:34 wer_bpe:189] predicted:rangierfahrt vom gleis mike zwei drei ins drei drei antworten\n",
      "[NeMo I 2023-01-02 20:00:34 wer_bpe:187] \n",
      "    \n",
      "[NeMo I 2023-01-02 20:00:34 wer_bpe:188] reference:spracheingabe\n",
      "[NeMo I 2023-01-02 20:00:34 wer_bpe:189] predicted:spracheingabe\n",
      "[NeMo I 2023-01-02 20:00:34 wer_bpe:187] \n",
      "    \n",
      "[NeMo I 2023-01-02 20:00:34 wer_bpe:188] reference:umstellmanöver vom drei sechs nach gleis xray vier sieben via null vier antworten\n",
      "[NeMo I 2023-01-02 20:00:34 wer_bpe:189] predicted:umstellmanöver vom drei sechs nach gleis xray vier sieben via null vier antworten\n",
      "[NeMo I 2023-01-02 20:00:34 wer_bpe:187] \n",
      "    \n",
      "[NeMo I 2023-01-02 20:00:34 wer_bpe:188] reference:rangierfahrt von gleis sechs neun ins gleis delta sieben antworten\n",
      "[NeMo I 2023-01-02 20:00:34 wer_bpe:189] predicted:rangierfahrt von gleis sechs neun ins gleis delta sieben antworten\n",
      "[NeMo I 2023-01-02 20:00:34 wer_bpe:187] \n",
      "    \n",
      "[NeMo I 2023-01-02 20:00:34 wer_bpe:188] reference:umstellmanöver von charlie drei zwei via gleis victor sechs neun ins gleis golf zwei vier antworten\n",
      "[NeMo I 2023-01-02 20:00:34 wer_bpe:189] predicted:umstellmanöver von charlie drei zwei via gleis victor sechs neun ins gleis golf zwei vier antworten\n"
     ]
    },
    {
     "name": "stderr",
     "output_type": "stream",
     "text": [
      "`Trainer.fit` stopped: `max_epochs=9` reached.\n"
     ]
    },
    {
     "data": {
      "text/html": [
       "Waiting for W&B process to finish... <strong style=\"color:green\">(success).</strong>"
      ],
      "text/plain": [
       "<IPython.core.display.HTML object>"
      ]
     },
     "metadata": {},
     "output_type": "display_data"
    },
    {
     "data": {
      "text/html": [
       "<style>\n",
       "    table.wandb td:nth-child(1) { padding: 0 10px; text-align: left ; width: auto;} td:nth-child(2) {text-align: left ; width: 100%}\n",
       "    .wandb-row { display: flex; flex-direction: row; flex-wrap: wrap; justify-content: flex-start; width: 100% }\n",
       "    .wandb-col { display: flex; flex-direction: column; flex-basis: 100%; flex: 1; padding: 10px; }\n",
       "    </style>\n",
       "<div class=\"wandb-row\"><div class=\"wandb-col\"><h3>Run history:</h3><br/><table class=\"wandb\"><tr><td>epoch</td><td>▁▁▁▁▂▂▂▂▂▃▃▃▃▃▄▄▄▄▅▅▅▅▅▅▅▅▅▆▆▆▆▆▇▇▇▇████</td></tr><tr><td>global_step</td><td>▁▁▁▂▂▂▂▂▂▃▃▃▃▃▃▄▄▄▄▄▅▅▅▅▅▆▆▆▆▆▆▆▇▇▇▇▇███</td></tr><tr><td>learning_rate</td><td>▁▁▁▂▂▂▂▂▂▃▃▃▃▃▃▄▄▄▄▄▅▅▅▅▅▅▆▆▆▆▆▆▇▇▇▇▇▇██</td></tr><tr><td>train_loss</td><td>▇▇█▅▅▃▂▃▃▂▂▂▃▃▂▂▂▃▁▁▂▁▂▂▂▁▃▂▁▂▂▂▁▁▁▁▁▁▂▂</td></tr><tr><td>trainer/global_step</td><td>▁▁▁▂▂▂▂▂▂▃▃▃▃▃▃▄▄▄▄▄▅▅▅▅▅▆▆▆▆▆▆▆▇▇▇▇▇███</td></tr><tr><td>training_batch_wer</td><td>██▇▆▅▄▆▅▃▂▃▂▂▂▃▁▂▂▂▂▂▁▁▁▁▂▁▂▁▁▂▂▂▂</td></tr><tr><td>val_loss</td><td>█▃▂▁▁▁▁▁▁</td></tr><tr><td>val_wer</td><td>█▃▂▂▁▁▁▁▁</td></tr></table><br/></div><div class=\"wandb-col\"><h3>Run summary:</h3><br/><table class=\"wandb\"><tr><td>epoch</td><td>8</td></tr><tr><td>global_step</td><td>2133.0</td></tr><tr><td>learning_rate</td><td>0.00033</td></tr><tr><td>train_loss</td><td>17.09785</td></tr><tr><td>trainer/global_step</td><td>2132</td></tr><tr><td>training_batch_wer</td><td>0.16092</td></tr><tr><td>val_loss</td><td>0.89333</td></tr><tr><td>val_wer</td><td>0.01567</td></tr></table><br/></div></div>"
      ],
      "text/plain": [
       "<IPython.core.display.HTML object>"
      ]
     },
     "metadata": {},
     "output_type": "display_data"
    },
    {
     "data": {
      "text/html": [
       "Synced <strong style=\"color:#cdcd00\">whole-sweep-11</strong>: <a href=\"https://wandb.ai/unisg-ds-nlp/ASR/runs/ymwvqsp0\" target=\"_blank\">https://wandb.ai/unisg-ds-nlp/ASR/runs/ymwvqsp0</a><br/>Synced 5 W&B file(s), 0 media file(s), 9 artifact file(s) and 0 other file(s)"
      ],
      "text/plain": [
       "<IPython.core.display.HTML object>"
      ]
     },
     "metadata": {},
     "output_type": "display_data"
    },
    {
     "data": {
      "text/html": [
       "Find logs at: <code>./wandb/run-20230102_193914-ymwvqsp0/logs</code>"
      ],
      "text/plain": [
       "<IPython.core.display.HTML object>"
      ]
     },
     "metadata": {},
     "output_type": "display_data"
    },
    {
     "name": "stderr",
     "output_type": "stream",
     "text": [
      "\u001b[34m\u001b[1mwandb\u001b[0m: Agent Starting Run: x10ebqmi with config:\n",
      "\u001b[34m\u001b[1mwandb\u001b[0m: \tepoch: 4\n",
      "\u001b[34m\u001b[1mwandb\u001b[0m: \tfreq_width: 27.60208893813757\n",
      "\u001b[34m\u001b[1mwandb\u001b[0m: \tlr: 0.00934070361290924\n",
      "Failed to detect the name of this notebook, you can set it manually with the WANDB_NOTEBOOK_NAME environment variable to enable code saving.\n"
     ]
    },
    {
     "data": {
      "text/html": [
       "wandb version 0.13.7 is available!  To upgrade, please run:\n",
       " $ pip install wandb --upgrade"
      ],
      "text/plain": [
       "<IPython.core.display.HTML object>"
      ]
     },
     "metadata": {},
     "output_type": "display_data"
    },
    {
     "data": {
      "text/html": [
       "Tracking run with wandb version 0.13.4"
      ],
      "text/plain": [
       "<IPython.core.display.HTML object>"
      ]
     },
     "metadata": {},
     "output_type": "display_data"
    },
    {
     "data": {
      "text/html": [
       "Run data is saved locally in <code>/home/user/code/sbb_asr/notebooks/wandb/run-20230102_200117-x10ebqmi</code>"
      ],
      "text/plain": [
       "<IPython.core.display.HTML object>"
      ]
     },
     "metadata": {},
     "output_type": "display_data"
    },
    {
     "data": {
      "text/html": [
       "Syncing run <strong><a href=\"https://wandb.ai/unisg-ds-nlp/ASR/runs/x10ebqmi\" target=\"_blank\">sweet-sweep-12</a></strong> to <a href=\"https://wandb.ai/unisg-ds-nlp/ASR\" target=\"_blank\">Weights & Biases</a> (<a href=\"https://wandb.me/run\" target=\"_blank\">docs</a>)<br/>Sweep page:  <a href=\"https://wandb.ai/unisg-ds-nlp/ASR/sweeps/v7qi12lc\" target=\"_blank\">https://wandb.ai/unisg-ds-nlp/ASR/sweeps/v7qi12lc</a>"
      ],
      "text/plain": [
       "<IPython.core.display.HTML object>"
      ]
     },
     "metadata": {},
     "output_type": "display_data"
    },
    {
     "name": "stderr",
     "output_type": "stream",
     "text": [
      "[NeMo W 2023-01-02 20:01:19 nemo_logging:349] /home/user/.local/lib/python3.9/site-packages/pytorch_lightning/loggers/wandb.py:352: UserWarning: There is a wandb run already in progress and newly created instances of `WandbLogger` will reuse this run. If this is not desired, call `wandb.finish()` before instantiating `WandbLogger`.\n",
      "      rank_zero_warn(\n",
      "    \n",
      "[NeMo W 2023-01-02 20:01:19 nemo_logging:349] /home/user/.local/lib/python3.9/site-packages/pytorch_lightning/trainer/connectors/accelerator_connector.py:447: LightningDeprecationWarning: Setting `Trainer(gpus=1)` is deprecated in v1.7 and will be removed in v2.0. Please use `Trainer(accelerator='gpu', devices=1)` instead.\n",
      "      rank_zero_deprecation(\n",
      "    \n",
      "GPU available: True (cuda), used: True\n",
      "TPU available: False, using: 0 TPU cores\n",
      "IPU available: False, using: 0 IPUs\n",
      "HPU available: False, using: 0 HPUs\n"
     ]
    },
    {
     "name": "stdout",
     "output_type": "stream",
     "text": [
      "[NeMo I 2023-01-02 20:01:20 cloud:56] Found existing object /home/user/.cache/torch/NeMo/NeMo_1.12.0/stt_de_citrinet_1024/8743e4cecb8017ca2b49a035e07b2893/stt_de_citrinet_1024.nemo.\n",
      "[NeMo I 2023-01-02 20:01:20 cloud:62] Re-using file from: /home/user/.cache/torch/NeMo/NeMo_1.12.0/stt_de_citrinet_1024/8743e4cecb8017ca2b49a035e07b2893/stt_de_citrinet_1024.nemo\n",
      "[NeMo I 2023-01-02 20:01:20 common:910] Instantiating model from pre-trained checkpoint\n",
      "[NeMo I 2023-01-02 20:01:25 mixins:170] Tokenizer SentencePieceTokenizer initialized with 1024 tokens\n"
     ]
    },
    {
     "name": "stderr",
     "output_type": "stream",
     "text": [
      "[NeMo W 2023-01-02 20:01:26 modelPT:142] If you intend to do training or fine-tuning, please call the ModelPT.setup_training_data() method and provide a valid configuration file to setup the train data loader.\n",
      "    Train config : \n",
      "    manifest_filepath: /data/train/tarred_audio_manifest.json\n",
      "    sample_rate: 16000\n",
      "    batch_size: 32\n",
      "    trim_silence: false\n",
      "    max_duration: 35.0\n",
      "    shuffle: true\n",
      "    is_tarred: true\n",
      "    tarred_audio_filepaths: /data/train/audio__OP_0..1023_CL_.tar\n",
      "    use_start_end_token: false\n",
      "    shuffle_n: 1024\n",
      "    num_workers: 16\n",
      "    pin_memory: true\n",
      "    \n",
      "[NeMo W 2023-01-02 20:01:26 modelPT:149] If you intend to do validation, please call the ModelPT.setup_validation_data() or ModelPT.setup_multiple_validation_data() method and provide a valid configuration file to setup the validation data loader(s). \n",
      "    Validation config : \n",
      "    manifest_filepath:\n",
      "    - /data/voxpopuli_de/dev/voxpopuli_dev_manifest.json\n",
      "    - /data/voxpopuli_de/test/voxpopuli_test_manifest.json\n",
      "    - /data/mcv7.0_de/mcv7.0_dev_manifest_cleaned.json\n",
      "    - /data/mcv7.0_de/mcv7.0_test_manifest_cleaned.json\n",
      "    - /data/mls_de/mls_dev_manifest_cleaned.json\n",
      "    - /data/mls_de/mls_test_manifest_cleaned.json\n",
      "    sample_rate: 16000\n",
      "    batch_size: 8\n",
      "    shuffle: false\n",
      "    use_start_end_token: false\n",
      "    num_workers: 8\n",
      "    pin_memory: true\n",
      "    \n",
      "[NeMo W 2023-01-02 20:01:26 modelPT:155] Please call the ModelPT.setup_test_data() or ModelPT.setup_multiple_test_data() method and provide a valid configuration file to setup the test data loader(s).\n",
      "    Test config : \n",
      "    manifest_filepath: null\n",
      "    sample_rate: 16000\n",
      "    batch_size: 32\n",
      "    shuffle: false\n",
      "    use_start_end_token: false\n",
      "    \n"
     ]
    },
    {
     "name": "stdout",
     "output_type": "stream",
     "text": [
      "[NeMo I 2023-01-02 20:01:26 features:225] PADDING: 16\n",
      "[NeMo I 2023-01-02 20:01:30 save_restore_connector:243] Model EncDecCTCModelBPE was successfully restored from /home/user/.cache/torch/NeMo/NeMo_1.12.0/stt_de_citrinet_1024/8743e4cecb8017ca2b49a035e07b2893/stt_de_citrinet_1024.nemo.\n",
      "[NeMo I 2023-01-02 20:01:30 collections:194] Dataset loaded with 1890 files totalling 7.41 hours\n",
      "[NeMo I 2023-01-02 20:01:30 collections:195] 0 files were filtered totalling 0.00 hours\n",
      "[NeMo I 2023-01-02 20:01:30 collections:194] Dataset loaded with 34 files totalling 0.13 hours\n",
      "[NeMo I 2023-01-02 20:01:30 collections:195] 0 files were filtered totalling 0.00 hours\n",
      "[NeMo I 2023-01-02 20:01:30 collections:194] Dataset loaded with 34 files totalling 0.14 hours\n",
      "[NeMo I 2023-01-02 20:01:30 collections:195] 0 files were filtered totalling 0.00 hours\n",
      "[NeMo I 2023-01-02 20:01:30 modelPT:597] Optimizer config = Novograd (\n",
      "    Parameter Group 0\n",
      "        amsgrad: False\n",
      "        betas: [0.8, 0.25]\n",
      "        eps: 1e-08\n",
      "        grad_averaging: False\n",
      "        lr: 0.00934070361290924\n",
      "        weight_decay: 0.001\n",
      "    )\n",
      "[NeMo I 2023-01-02 20:01:30 lr_scheduler:910] Scheduler \"<nemo.core.optim.lr_scheduler.CosineAnnealing object at 0x7f835e1a9a90>\" \n",
      "    will be used during training (effective maximum steps = 948) - \n",
      "    Parameters : \n",
      "    (warmup_steps: 10000\n",
      "    warmup_ratio: null\n",
      "    min_lr: 1.0e-05\n",
      "    last_epoch: -1\n",
      "    max_steps: 948\n",
      "    )\n"
     ]
    },
    {
     "name": "stderr",
     "output_type": "stream",
     "text": [
      "LOCAL_RANK: 0 - CUDA_VISIBLE_DEVICES: [0,1,2,3]\n"
     ]
    },
    {
     "name": "stdout",
     "output_type": "stream",
     "text": [
      "[NeMo I 2023-01-02 20:01:31 modelPT:597] Optimizer config = Novograd (\n",
      "    Parameter Group 0\n",
      "        amsgrad: False\n",
      "        betas: [0.8, 0.25]\n",
      "        eps: 1e-08\n",
      "        grad_averaging: False\n",
      "        lr: 0.00934070361290924\n",
      "        weight_decay: 0.001\n",
      "    )\n",
      "[NeMo I 2023-01-02 20:01:31 lr_scheduler:910] Scheduler \"<nemo.core.optim.lr_scheduler.CosineAnnealing object at 0x7f83876ce7c0>\" \n",
      "    will be used during training (effective maximum steps = 948) - \n",
      "    Parameters : \n",
      "    (warmup_steps: 10000\n",
      "    warmup_ratio: null\n",
      "    min_lr: 1.0e-05\n",
      "    last_epoch: -1\n",
      "    max_steps: 948\n",
      "    )\n"
     ]
    },
    {
     "name": "stderr",
     "output_type": "stream",
     "text": [
      "\n",
      "  | Name              | Type                              | Params\n",
      "------------------------------------------------------------------------\n",
      "0 | preprocessor      | AudioToMelSpectrogramPreprocessor | 0     \n",
      "1 | encoder           | ConvASREncoder                    | 140 M \n",
      "2 | decoder           | ConvASRDecoder                    | 1.1 M \n",
      "3 | loss              | CTCLoss                           | 0     \n",
      "4 | spec_augmentation | SpectrogramAugmentation           | 0     \n",
      "5 | _wer              | WERBPE                            | 0     \n",
      "------------------------------------------------------------------------\n",
      "141 M     Trainable params\n",
      "0         Non-trainable params\n",
      "141 M     Total params\n",
      "564.897   Total estimated model params size (MB)\n"
     ]
    },
    {
     "data": {
      "application/vnd.jupyter.widget-view+json": {
       "model_id": "a7e15027aa184d5da5a460e448092e2f",
       "version_major": 2,
       "version_minor": 0
      },
      "text/plain": [
       "Sanity Checking: 0it [00:00, ?it/s]"
      ]
     },
     "metadata": {},
     "output_type": "display_data"
    },
    {
     "name": "stdout",
     "output_type": "stream",
     "text": [
      "[NeMo I 2023-01-02 20:01:33 wer_bpe:187] \n",
      "    \n",
      "[NeMo I 2023-01-02 20:01:33 wer_bpe:188] reference:rangierfahrt vom gleis mike zwei drei ins drei drei antworten\n",
      "[NeMo I 2023-01-02 20:01:33 wer_bpe:189] predicted:prongierfahrt vom gleis maik zwei drei ins drei drei antworten\n",
      "[NeMo I 2023-01-02 20:01:33 wer_bpe:187] \n",
      "    \n",
      "[NeMo I 2023-01-02 20:01:33 wer_bpe:188] reference:spracheingabe\n",
      "[NeMo I 2023-01-02 20:01:33 wer_bpe:189] predicted:spracheingabe\n"
     ]
    },
    {
     "data": {
      "application/vnd.jupyter.widget-view+json": {
       "model_id": "1359a6068de7404ca917826e50810f7e",
       "version_major": 2,
       "version_minor": 0
      },
      "text/plain": [
       "Training: 0it [00:00, ?it/s]"
      ]
     },
     "metadata": {},
     "output_type": "display_data"
    },
    {
     "name": "stdout",
     "output_type": "stream",
     "text": [
      "[NeMo I 2023-01-02 20:02:03 wer_bpe:187] \n",
      "    \n",
      "[NeMo I 2023-01-02 20:02:03 wer_bpe:188] reference:dazu ist demokratie erforderlich\n",
      "[NeMo I 2023-01-02 20:02:03 wer_bpe:189] predicted:\n",
      "[NeMo I 2023-01-02 20:02:29 wer_bpe:187] \n",
      "    \n",
      "[NeMo I 2023-01-02 20:02:29 wer_bpe:188] reference:rangierfahrt zwei vier vier golf drei\n",
      "[NeMo I 2023-01-02 20:02:29 wer_bpe:189] predicted:frngngierfahr drei sie sie gott drei\n",
      "[NeMo I 2023-01-02 20:02:56 wer_bpe:187] \n",
      "    \n",
      "[NeMo I 2023-01-02 20:02:56 wer_bpe:188] reference:umstellmanöver von gleis vier fünf ins gleis foxtrot sechs drei via neun antworten\n",
      "[NeMo I 2023-01-02 20:02:56 wer_bpe:189] predicted:umstellmanöver von gleis v fünf ins  vomstrot sechs drei vier neun antworten\n",
      "[NeMo I 2023-01-02 20:03:22 wer_bpe:187] \n",
      "    \n",
      "[NeMo I 2023-01-02 20:03:22 wer_bpe:188] reference:antworten\n",
      "[NeMo I 2023-01-02 20:03:22 wer_bpe:189] predicted:ken\n"
     ]
    },
    {
     "data": {
      "application/vnd.jupyter.widget-view+json": {
       "model_id": "b390ef7132fd4e3297e5e495ac57d435",
       "version_major": 2,
       "version_minor": 0
      },
      "text/plain": [
       "Validation: 0it [00:00, ?it/s]"
      ]
     },
     "metadata": {},
     "output_type": "display_data"
    },
    {
     "name": "stdout",
     "output_type": "stream",
     "text": [
      "[NeMo I 2023-01-02 20:03:44 wer_bpe:187] \n",
      "    \n",
      "[NeMo I 2023-01-02 20:03:44 wer_bpe:188] reference:rangierfahrt vom gleis mike zwei drei ins drei drei antworten\n",
      "[NeMo I 2023-01-02 20:03:44 wer_bpe:189] predicted:rangierfahrt vom gleis mike zwei drei ins drei drei antworten\n",
      "[NeMo I 2023-01-02 20:03:45 wer_bpe:187] \n",
      "    \n",
      "[NeMo I 2023-01-02 20:03:45 wer_bpe:188] reference:spracheingabe\n",
      "[NeMo I 2023-01-02 20:03:45 wer_bpe:189] predicted:sprach eingabe\n",
      "[NeMo I 2023-01-02 20:03:45 wer_bpe:187] \n",
      "    \n",
      "[NeMo I 2023-01-02 20:03:45 wer_bpe:188] reference:umstellmanöver vom drei sechs nach gleis xray vier sieben via null vier antworten\n",
      "[NeMo I 2023-01-02 20:03:45 wer_bpe:189] predicted:umstellmanöver vom drei sechs nach gleis xray vier sieben via null vier antworten\n",
      "[NeMo I 2023-01-02 20:03:45 wer_bpe:187] \n",
      "    \n",
      "[NeMo I 2023-01-02 20:03:45 wer_bpe:188] reference:rangierfahrt von gleis sechs neun ins gleis delta sieben antworten\n",
      "[NeMo I 2023-01-02 20:03:45 wer_bpe:189] predicted:rangierfahrt von gleis sechs neun ins gleis delta sieben antworten\n",
      "[NeMo I 2023-01-02 20:03:45 wer_bpe:187] \n",
      "    \n",
      "[NeMo I 2023-01-02 20:03:45 wer_bpe:188] reference:umstellmanöver von charlie drei zwei via gleis victor sechs neun ins gleis golf zwei vier antworten\n",
      "[NeMo I 2023-01-02 20:03:45 wer_bpe:189] predicted:umstellmanöver von charlie drei zwei via gleis victor sechs neun ins gleis golf zwei vier antworten\n",
      "[NeMo I 2023-01-02 20:04:24 wer_bpe:187] \n",
      "    \n",
      "[NeMo I 2023-01-02 20:04:24 wer_bpe:188] reference:umstellmanöver vom sieben neun ins yankee fünf eins via gleis echo drei drei antworten\n",
      "[NeMo I 2023-01-02 20:04:24 wer_bpe:189] predicted:umstellmanöver vom sieben neu ins rie fünf eins via g gleis  drei drei antworten\n",
      "[NeMo I 2023-01-02 20:04:51 wer_bpe:187] \n",
      "    \n",
      "[NeMo I 2023-01-02 20:04:51 wer_bpe:188] reference:rangierfahrt von null vier nach alpha null acht antworten\n",
      "[NeMo I 2023-01-02 20:04:51 wer_bpe:189] predicted:rangierfahrt von null vier nach alpha nullacht antworten\n",
      "[NeMo I 2023-01-02 20:05:18 wer_bpe:187] \n",
      "    \n",
      "[NeMo I 2023-01-02 20:05:18 wer_bpe:188] reference:rangierfahrt vom gleis sechs null ins gleis sechs fünf antworten\n",
      "[NeMo I 2023-01-02 20:05:18 wer_bpe:189] predicted:rangierfahrt vom sechsnl ins gleis sechs fünf antworten\n",
      "[NeMo I 2023-01-02 20:05:45 wer_bpe:187] \n",
      "    \n",
      "[NeMo I 2023-01-02 20:05:45 wer_bpe:188] reference:der käfer ist nur schwach gewölbt\n",
      "[NeMo I 2023-01-02 20:05:45 wer_bpe:189] predicted:der k ist nur schwach gewölbt\n"
     ]
    },
    {
     "data": {
      "application/vnd.jupyter.widget-view+json": {
       "model_id": "8752d65e9819432d92fdd5439961273e",
       "version_major": 2,
       "version_minor": 0
      },
      "text/plain": [
       "Validation: 0it [00:00, ?it/s]"
      ]
     },
     "metadata": {},
     "output_type": "display_data"
    },
    {
     "name": "stdout",
     "output_type": "stream",
     "text": [
      "[NeMo I 2023-01-02 20:06:08 wer_bpe:187] \n",
      "    \n",
      "[NeMo I 2023-01-02 20:06:08 wer_bpe:188] reference:rangierfahrt vom gleis mike zwei drei ins drei drei antworten\n",
      "[NeMo I 2023-01-02 20:06:08 wer_bpe:189] predicted:rangierfahrt von gleis mike zwei drei ins drei drei antworten\n",
      "[NeMo I 2023-01-02 20:06:08 wer_bpe:187] \n",
      "    \n",
      "[NeMo I 2023-01-02 20:06:08 wer_bpe:188] reference:spracheingabe\n",
      "[NeMo I 2023-01-02 20:06:08 wer_bpe:189] predicted:spracheingabe\n",
      "[NeMo I 2023-01-02 20:06:09 wer_bpe:187] \n",
      "    \n",
      "[NeMo I 2023-01-02 20:06:09 wer_bpe:188] reference:umstellmanöver vom drei sechs nach gleis xray vier sieben via null vier antworten\n",
      "[NeMo I 2023-01-02 20:06:09 wer_bpe:189] predicted:umstellmanöver vom drei sechs nach gleis xray vier sieben via null vier antworten\n",
      "[NeMo I 2023-01-02 20:06:09 wer_bpe:187] \n",
      "    \n",
      "[NeMo I 2023-01-02 20:06:09 wer_bpe:188] reference:rangierfahrt von gleis sechs neun ins gleis delta sieben antworten\n",
      "[NeMo I 2023-01-02 20:06:09 wer_bpe:189] predicted:rangierfahrt von gleis sechs neun ins gleis delta sieben antworten\n",
      "[NeMo I 2023-01-02 20:06:09 wer_bpe:187] \n",
      "    \n",
      "[NeMo I 2023-01-02 20:06:09 wer_bpe:188] reference:umstellmanöver von charlie drei zwei via gleis victor sechs neun ins gleis golf zwei vier antworten\n",
      "[NeMo I 2023-01-02 20:06:09 wer_bpe:189] predicted:umstellmanöver von charlie drei zwei via gleis victor sechs neun ins gleis golf zwei vier antworten\n",
      "[NeMo I 2023-01-02 20:06:49 wer_bpe:187] \n",
      "    \n",
      "[NeMo I 2023-01-02 20:06:49 wer_bpe:188] reference:rangierfahrt vom gleis fünf fünf nach oscar zwei null antworten\n",
      "[NeMo I 2023-01-02 20:06:49 wer_bpe:189] predicted:rangierfahrt von gleis fünf fünf nach oscar zwei null antworten\n",
      "[NeMo I 2023-01-02 20:07:17 wer_bpe:187] \n",
      "    \n",
      "[NeMo I 2023-01-02 20:07:17 wer_bpe:188] reference:rangierfahrt gleis ins gleis antworten\n",
      "[NeMo I 2023-01-02 20:07:17 wer_bpe:189] predicted:rangierfahrt gleis ins gleis antworten\n",
      "[NeMo I 2023-01-02 20:07:44 wer_bpe:187] \n",
      "    \n",
      "[NeMo I 2023-01-02 20:07:44 wer_bpe:188] reference:rangierfahrt vom null eins ins gleis drei neun antworten\n",
      "[NeMo I 2023-01-02 20:07:44 wer_bpe:189] predicted:rangierfahrt vom mi eins ins gleis drei neun antworten\n",
      "[NeMo I 2023-01-02 20:08:11 wer_bpe:187] \n",
      "    \n",
      "[NeMo I 2023-01-02 20:08:11 wer_bpe:188] reference:umstellmanöver von gleis xray neun vier via vier sieben ins gleis india vier fünf antworten\n",
      "[NeMo I 2023-01-02 20:08:11 wer_bpe:189] predicted:umstellmanöver vom gleis e neun vier via vier sieben ins gleis india vier fünf antworten\n"
     ]
    },
    {
     "data": {
      "application/vnd.jupyter.widget-view+json": {
       "model_id": "3542fb3fc945407eb9eec96ba6eccdb6",
       "version_major": 2,
       "version_minor": 0
      },
      "text/plain": [
       "Validation: 0it [00:00, ?it/s]"
      ]
     },
     "metadata": {},
     "output_type": "display_data"
    },
    {
     "name": "stdout",
     "output_type": "stream",
     "text": [
      "[NeMo I 2023-01-02 20:08:34 wer_bpe:187] \n",
      "    \n",
      "[NeMo I 2023-01-02 20:08:34 wer_bpe:188] reference:rangierfahrt vom gleis mike zwei drei ins drei drei antworten\n",
      "[NeMo I 2023-01-02 20:08:34 wer_bpe:189] predicted:rangierfahrt vom gleis mike zwei drei ins drei drei antworten\n",
      "[NeMo I 2023-01-02 20:08:34 wer_bpe:187] \n",
      "    \n",
      "[NeMo I 2023-01-02 20:08:34 wer_bpe:188] reference:spracheingabe\n",
      "[NeMo I 2023-01-02 20:08:34 wer_bpe:189] predicted:spracheingabe\n",
      "[NeMo I 2023-01-02 20:08:34 wer_bpe:187] \n",
      "    \n",
      "[NeMo I 2023-01-02 20:08:34 wer_bpe:188] reference:umstellmanöver vom drei sechs nach gleis xray vier sieben via null vier antworten\n",
      "[NeMo I 2023-01-02 20:08:34 wer_bpe:189] predicted:umstellmanöver vom drei sechs nach gleis xray vier sieben via null vier antworten\n",
      "[NeMo I 2023-01-02 20:08:34 wer_bpe:187] \n",
      "    \n",
      "[NeMo I 2023-01-02 20:08:34 wer_bpe:188] reference:rangierfahrt von gleis sechs neun ins gleis delta sieben antworten\n",
      "[NeMo I 2023-01-02 20:08:34 wer_bpe:189] predicted:rangierfahrt von gleis sechs neun ins gleis delta sieben antworten\n",
      "[NeMo I 2023-01-02 20:08:34 wer_bpe:187] \n",
      "    \n",
      "[NeMo I 2023-01-02 20:08:34 wer_bpe:188] reference:umstellmanöver von charlie drei zwei via gleis victor sechs neun ins gleis golf zwei vier antworten\n",
      "[NeMo I 2023-01-02 20:08:34 wer_bpe:189] predicted:umstellmanöver von charlie drei zwei via gleis victor sechs neun ins gleis golf zwei vier antworten\n",
      "[NeMo I 2023-01-02 20:09:17 wer_bpe:187] \n",
      "    \n",
      "[NeMo I 2023-01-02 20:09:17 wer_bpe:188] reference:umstellmanöver von gleis neun vier ins gleis null fünf via gleis lima eins acht antworten\n",
      "[NeMo I 2023-01-02 20:09:17 wer_bpe:189] predicted:umstellmanöver von gleis neun vier ins gleis null fünf via gleis lima eins acht antworten\n",
      "[NeMo I 2023-01-02 20:09:44 wer_bpe:187] \n",
      "    \n",
      "[NeMo I 2023-01-02 20:09:44 wer_bpe:188] reference:umstellmanöver von tango neun acht ins gleis whisky zwei drei via gleis zwei fünf antworten\n",
      "[NeMo I 2023-01-02 20:09:44 wer_bpe:189] predicted:umstellmanöver von tango neun acht ins gleis whisky zwei drei via gleis  fünf antworten\n",
      "[NeMo I 2023-01-02 20:10:11 wer_bpe:187] \n",
      "    \n",
      "[NeMo I 2023-01-02 20:10:11 wer_bpe:188] reference:umstellmanöver vom neun neun via gleis victor null vier nach sieben neun antworten\n",
      "[NeMo I 2023-01-02 20:10:11 wer_bpe:189] predicted:umstellmanöver vom neun neun via gleis victor null vier nach sieben neun antworten\n",
      "[NeMo I 2023-01-02 20:10:39 wer_bpe:187] \n",
      "    \n",
      "[NeMo I 2023-01-02 20:10:39 wer_bpe:188] reference:rangierfahrt von gleis sieben neun nach sechs fünf antworten\n",
      "[NeMo I 2023-01-02 20:10:39 wer_bpe:189] predicted:rangierfahrt von gleis sieben sie nach gleis fünf antworten\n"
     ]
    },
    {
     "data": {
      "application/vnd.jupyter.widget-view+json": {
       "model_id": "b162c1c4b296489f90106f22b634e9ad",
       "version_major": 2,
       "version_minor": 0
      },
      "text/plain": [
       "Validation: 0it [00:00, ?it/s]"
      ]
     },
     "metadata": {},
     "output_type": "display_data"
    },
    {
     "name": "stdout",
     "output_type": "stream",
     "text": [
      "[NeMo I 2023-01-02 20:11:02 wer_bpe:187] \n",
      "    \n",
      "[NeMo I 2023-01-02 20:11:02 wer_bpe:188] reference:rangierfahrt vom gleis mike zwei drei ins drei drei antworten\n",
      "[NeMo I 2023-01-02 20:11:02 wer_bpe:189] predicted:rangierfahrt vom gleis mike zwei drei ins drei drei antworten\n",
      "[NeMo I 2023-01-02 20:11:02 wer_bpe:187] \n",
      "    \n",
      "[NeMo I 2023-01-02 20:11:02 wer_bpe:188] reference:spracheingabe\n",
      "[NeMo I 2023-01-02 20:11:02 wer_bpe:189] predicted:spracheingabe\n",
      "[NeMo I 2023-01-02 20:11:03 wer_bpe:187] \n",
      "    \n",
      "[NeMo I 2023-01-02 20:11:03 wer_bpe:188] reference:umstellmanöver vom drei sechs nach gleis xray vier sieben via null vier antworten\n",
      "[NeMo I 2023-01-02 20:11:03 wer_bpe:189] predicted:umstellmanöver vom drei sechs nach gleis xray vier sieben via null vier antworten\n",
      "[NeMo I 2023-01-02 20:11:03 wer_bpe:187] \n",
      "    \n",
      "[NeMo I 2023-01-02 20:11:03 wer_bpe:188] reference:rangierfahrt von gleis sechs neun ins gleis delta sieben antworten\n",
      "[NeMo I 2023-01-02 20:11:03 wer_bpe:189] predicted:rangierfahrt von gleis sechs neun ins gleis delta sieben antworten\n",
      "[NeMo I 2023-01-02 20:11:03 wer_bpe:187] \n",
      "    \n",
      "[NeMo I 2023-01-02 20:11:03 wer_bpe:188] reference:umstellmanöver von charlie drei zwei via gleis victor sechs neun ins gleis golf zwei vier antworten\n",
      "[NeMo I 2023-01-02 20:11:03 wer_bpe:189] predicted:umstellmanöver von charlie drei zwei via gleis victor sechs neun ins gleis golf zwei vier antworten\n"
     ]
    },
    {
     "name": "stderr",
     "output_type": "stream",
     "text": [
      "`Trainer.fit` stopped: `max_epochs=4` reached.\n"
     ]
    },
    {
     "data": {
      "text/html": [
       "Waiting for W&B process to finish... <strong style=\"color:green\">(success).</strong>"
      ],
      "text/plain": [
       "<IPython.core.display.HTML object>"
      ]
     },
     "metadata": {},
     "output_type": "display_data"
    },
    {
     "data": {
      "text/html": [
       "<style>\n",
       "    table.wandb td:nth-child(1) { padding: 0 10px; text-align: left ; width: auto;} td:nth-child(2) {text-align: left ; width: 100%}\n",
       "    .wandb-row { display: flex; flex-direction: row; flex-wrap: wrap; justify-content: flex-start; width: 100% }\n",
       "    .wandb-col { display: flex; flex-direction: column; flex-basis: 100%; flex: 1; padding: 10px; }\n",
       "    </style>\n",
       "<div class=\"wandb-row\"><div class=\"wandb-col\"><h3>Run history:</h3><br/><table class=\"wandb\"><tr><td>epoch</td><td>▁▁▁▁▁▃▃▃▃▃▃▆▆▆▆▆▆█████</td></tr><tr><td>global_step</td><td>▁▁▂▂▂▃▃▃▄▄▄▅▅▅▆▆▆▆▇▇██</td></tr><tr><td>learning_rate</td><td>▁▁▂▂▃▃▃▄▄▅▅▆▆▆▇▇██</td></tr><tr><td>train_loss</td><td>█▅▆▃▃▂▂▁▄▂▂▁▃▁▁▁▃▂</td></tr><tr><td>trainer/global_step</td><td>▁▁▂▂▂▃▃▃▄▄▄▅▅▅▆▆▆▆▇▇██</td></tr><tr><td>training_batch_wer</td><td>█▆▅▄▂▄▄▂▂▁▂▁▂▂▂</td></tr><tr><td>val_loss</td><td>█▄▂▁</td></tr><tr><td>val_wer</td><td>█▅▂▁</td></tr></table><br/></div><div class=\"wandb-col\"><h3>Run summary:</h3><br/><table class=\"wandb\"><tr><td>epoch</td><td>3</td></tr><tr><td>global_step</td><td>948.0</td></tr><tr><td>learning_rate</td><td>0.00084</td></tr><tr><td>train_loss</td><td>16.15112</td></tr><tr><td>trainer/global_step</td><td>947</td></tr><tr><td>training_batch_wer</td><td>0.16484</td></tr><tr><td>val_loss</td><td>0.81053</td></tr><tr><td>val_wer</td><td>0.01305</td></tr></table><br/></div></div>"
      ],
      "text/plain": [
       "<IPython.core.display.HTML object>"
      ]
     },
     "metadata": {},
     "output_type": "display_data"
    },
    {
     "data": {
      "text/html": [
       "Synced <strong style=\"color:#cdcd00\">sweet-sweep-12</strong>: <a href=\"https://wandb.ai/unisg-ds-nlp/ASR/runs/x10ebqmi\" target=\"_blank\">https://wandb.ai/unisg-ds-nlp/ASR/runs/x10ebqmi</a><br/>Synced 5 W&B file(s), 0 media file(s), 4 artifact file(s) and 0 other file(s)"
      ],
      "text/plain": [
       "<IPython.core.display.HTML object>"
      ]
     },
     "metadata": {},
     "output_type": "display_data"
    },
    {
     "data": {
      "text/html": [
       "Find logs at: <code>./wandb/run-20230102_200117-x10ebqmi/logs</code>"
      ],
      "text/plain": [
       "<IPython.core.display.HTML object>"
      ]
     },
     "metadata": {},
     "output_type": "display_data"
    },
    {
     "name": "stderr",
     "output_type": "stream",
     "text": [
      "\u001b[34m\u001b[1mwandb\u001b[0m: Agent Starting Run: 60zx2as2 with config:\n",
      "\u001b[34m\u001b[1mwandb\u001b[0m: \tepoch: 6\n",
      "\u001b[34m\u001b[1mwandb\u001b[0m: \tfreq_width: 25.89323150324468\n",
      "\u001b[34m\u001b[1mwandb\u001b[0m: \tlr: 0.0001604817555787073\n",
      "Failed to detect the name of this notebook, you can set it manually with the WANDB_NOTEBOOK_NAME environment variable to enable code saving.\n"
     ]
    },
    {
     "data": {
      "text/html": [
       "wandb version 0.13.7 is available!  To upgrade, please run:\n",
       " $ pip install wandb --upgrade"
      ],
      "text/plain": [
       "<IPython.core.display.HTML object>"
      ]
     },
     "metadata": {},
     "output_type": "display_data"
    },
    {
     "data": {
      "text/html": [
       "Tracking run with wandb version 0.13.4"
      ],
      "text/plain": [
       "<IPython.core.display.HTML object>"
      ]
     },
     "metadata": {},
     "output_type": "display_data"
    },
    {
     "data": {
      "text/html": [
       "Run data is saved locally in <code>/home/user/code/sbb_asr/notebooks/wandb/run-20230102_201149-60zx2as2</code>"
      ],
      "text/plain": [
       "<IPython.core.display.HTML object>"
      ]
     },
     "metadata": {},
     "output_type": "display_data"
    },
    {
     "data": {
      "text/html": [
       "Syncing run <strong><a href=\"https://wandb.ai/unisg-ds-nlp/ASR/runs/60zx2as2\" target=\"_blank\">feasible-sweep-13</a></strong> to <a href=\"https://wandb.ai/unisg-ds-nlp/ASR\" target=\"_blank\">Weights & Biases</a> (<a href=\"https://wandb.me/run\" target=\"_blank\">docs</a>)<br/>Sweep page:  <a href=\"https://wandb.ai/unisg-ds-nlp/ASR/sweeps/v7qi12lc\" target=\"_blank\">https://wandb.ai/unisg-ds-nlp/ASR/sweeps/v7qi12lc</a>"
      ],
      "text/plain": [
       "<IPython.core.display.HTML object>"
      ]
     },
     "metadata": {},
     "output_type": "display_data"
    },
    {
     "name": "stderr",
     "output_type": "stream",
     "text": [
      "[NeMo W 2023-01-02 20:11:51 nemo_logging:349] /home/user/.local/lib/python3.9/site-packages/pytorch_lightning/loggers/wandb.py:352: UserWarning: There is a wandb run already in progress and newly created instances of `WandbLogger` will reuse this run. If this is not desired, call `wandb.finish()` before instantiating `WandbLogger`.\n",
      "      rank_zero_warn(\n",
      "    \n",
      "[NeMo W 2023-01-02 20:11:51 nemo_logging:349] /home/user/.local/lib/python3.9/site-packages/pytorch_lightning/trainer/connectors/accelerator_connector.py:447: LightningDeprecationWarning: Setting `Trainer(gpus=1)` is deprecated in v1.7 and will be removed in v2.0. Please use `Trainer(accelerator='gpu', devices=1)` instead.\n",
      "      rank_zero_deprecation(\n",
      "    \n",
      "GPU available: True (cuda), used: True\n",
      "TPU available: False, using: 0 TPU cores\n",
      "IPU available: False, using: 0 IPUs\n",
      "HPU available: False, using: 0 HPUs\n"
     ]
    },
    {
     "name": "stdout",
     "output_type": "stream",
     "text": [
      "[NeMo I 2023-01-02 20:11:53 cloud:56] Found existing object /home/user/.cache/torch/NeMo/NeMo_1.12.0/stt_de_citrinet_1024/8743e4cecb8017ca2b49a035e07b2893/stt_de_citrinet_1024.nemo.\n",
      "[NeMo I 2023-01-02 20:11:53 cloud:62] Re-using file from: /home/user/.cache/torch/NeMo/NeMo_1.12.0/stt_de_citrinet_1024/8743e4cecb8017ca2b49a035e07b2893/stt_de_citrinet_1024.nemo\n",
      "[NeMo I 2023-01-02 20:11:53 common:910] Instantiating model from pre-trained checkpoint\n",
      "[NeMo I 2023-01-02 20:11:59 mixins:170] Tokenizer SentencePieceTokenizer initialized with 1024 tokens\n"
     ]
    },
    {
     "name": "stderr",
     "output_type": "stream",
     "text": [
      "[NeMo W 2023-01-02 20:12:00 modelPT:142] If you intend to do training or fine-tuning, please call the ModelPT.setup_training_data() method and provide a valid configuration file to setup the train data loader.\n",
      "    Train config : \n",
      "    manifest_filepath: /data/train/tarred_audio_manifest.json\n",
      "    sample_rate: 16000\n",
      "    batch_size: 32\n",
      "    trim_silence: false\n",
      "    max_duration: 35.0\n",
      "    shuffle: true\n",
      "    is_tarred: true\n",
      "    tarred_audio_filepaths: /data/train/audio__OP_0..1023_CL_.tar\n",
      "    use_start_end_token: false\n",
      "    shuffle_n: 1024\n",
      "    num_workers: 16\n",
      "    pin_memory: true\n",
      "    \n",
      "[NeMo W 2023-01-02 20:12:00 modelPT:149] If you intend to do validation, please call the ModelPT.setup_validation_data() or ModelPT.setup_multiple_validation_data() method and provide a valid configuration file to setup the validation data loader(s). \n",
      "    Validation config : \n",
      "    manifest_filepath:\n",
      "    - /data/voxpopuli_de/dev/voxpopuli_dev_manifest.json\n",
      "    - /data/voxpopuli_de/test/voxpopuli_test_manifest.json\n",
      "    - /data/mcv7.0_de/mcv7.0_dev_manifest_cleaned.json\n",
      "    - /data/mcv7.0_de/mcv7.0_test_manifest_cleaned.json\n",
      "    - /data/mls_de/mls_dev_manifest_cleaned.json\n",
      "    - /data/mls_de/mls_test_manifest_cleaned.json\n",
      "    sample_rate: 16000\n",
      "    batch_size: 8\n",
      "    shuffle: false\n",
      "    use_start_end_token: false\n",
      "    num_workers: 8\n",
      "    pin_memory: true\n",
      "    \n",
      "[NeMo W 2023-01-02 20:12:00 modelPT:155] Please call the ModelPT.setup_test_data() or ModelPT.setup_multiple_test_data() method and provide a valid configuration file to setup the test data loader(s).\n",
      "    Test config : \n",
      "    manifest_filepath: null\n",
      "    sample_rate: 16000\n",
      "    batch_size: 32\n",
      "    shuffle: false\n",
      "    use_start_end_token: false\n",
      "    \n"
     ]
    },
    {
     "name": "stdout",
     "output_type": "stream",
     "text": [
      "[NeMo I 2023-01-02 20:12:00 features:225] PADDING: 16\n",
      "[NeMo I 2023-01-02 20:12:05 save_restore_connector:243] Model EncDecCTCModelBPE was successfully restored from /home/user/.cache/torch/NeMo/NeMo_1.12.0/stt_de_citrinet_1024/8743e4cecb8017ca2b49a035e07b2893/stt_de_citrinet_1024.nemo.\n",
      "[NeMo I 2023-01-02 20:12:06 collections:194] Dataset loaded with 1890 files totalling 7.41 hours\n",
      "[NeMo I 2023-01-02 20:12:06 collections:195] 0 files were filtered totalling 0.00 hours\n",
      "[NeMo I 2023-01-02 20:12:06 collections:194] Dataset loaded with 34 files totalling 0.13 hours\n",
      "[NeMo I 2023-01-02 20:12:06 collections:195] 0 files were filtered totalling 0.00 hours\n",
      "[NeMo I 2023-01-02 20:12:06 collections:194] Dataset loaded with 34 files totalling 0.14 hours\n",
      "[NeMo I 2023-01-02 20:12:06 collections:195] 0 files were filtered totalling 0.00 hours\n",
      "[NeMo I 2023-01-02 20:12:06 modelPT:597] Optimizer config = Novograd (\n",
      "    Parameter Group 0\n",
      "        amsgrad: False\n",
      "        betas: [0.8, 0.25]\n",
      "        eps: 1e-08\n",
      "        grad_averaging: False\n",
      "        lr: 0.0001604817555787073\n",
      "        weight_decay: 0.001\n",
      "    )\n",
      "[NeMo I 2023-01-02 20:12:06 lr_scheduler:910] Scheduler \"<nemo.core.optim.lr_scheduler.CosineAnnealing object at 0x7f836acfba90>\" \n",
      "    will be used during training (effective maximum steps = 1422) - \n",
      "    Parameters : \n",
      "    (warmup_steps: 10000\n",
      "    warmup_ratio: null\n",
      "    min_lr: 1.0e-05\n",
      "    last_epoch: -1\n",
      "    max_steps: 1422\n",
      "    )\n"
     ]
    },
    {
     "name": "stderr",
     "output_type": "stream",
     "text": [
      "LOCAL_RANK: 0 - CUDA_VISIBLE_DEVICES: [0,1,2,3]\n"
     ]
    },
    {
     "name": "stdout",
     "output_type": "stream",
     "text": [
      "[NeMo I 2023-01-02 20:12:07 modelPT:597] Optimizer config = Novograd (\n",
      "    Parameter Group 0\n",
      "        amsgrad: False\n",
      "        betas: [0.8, 0.25]\n",
      "        eps: 1e-08\n",
      "        grad_averaging: False\n",
      "        lr: 0.0001604817555787073\n",
      "        weight_decay: 0.001\n",
      "    )\n",
      "[NeMo I 2023-01-02 20:12:07 lr_scheduler:910] Scheduler \"<nemo.core.optim.lr_scheduler.CosineAnnealing object at 0x7f838753f2e0>\" \n",
      "    will be used during training (effective maximum steps = 1422) - \n",
      "    Parameters : \n",
      "    (warmup_steps: 10000\n",
      "    warmup_ratio: null\n",
      "    min_lr: 1.0e-05\n",
      "    last_epoch: -1\n",
      "    max_steps: 1422\n",
      "    )\n"
     ]
    },
    {
     "name": "stderr",
     "output_type": "stream",
     "text": [
      "\n",
      "  | Name              | Type                              | Params\n",
      "------------------------------------------------------------------------\n",
      "0 | preprocessor      | AudioToMelSpectrogramPreprocessor | 0     \n",
      "1 | encoder           | ConvASREncoder                    | 140 M \n",
      "2 | decoder           | ConvASRDecoder                    | 1.1 M \n",
      "3 | loss              | CTCLoss                           | 0     \n",
      "4 | spec_augmentation | SpectrogramAugmentation           | 0     \n",
      "5 | _wer              | WERBPE                            | 0     \n",
      "------------------------------------------------------------------------\n",
      "141 M     Trainable params\n",
      "0         Non-trainable params\n",
      "141 M     Total params\n",
      "564.897   Total estimated model params size (MB)\n"
     ]
    },
    {
     "data": {
      "application/vnd.jupyter.widget-view+json": {
       "model_id": "721076a9ffdd41bf8e6b3613ed4003b5",
       "version_major": 2,
       "version_minor": 0
      },
      "text/plain": [
       "Sanity Checking: 0it [00:00, ?it/s]"
      ]
     },
     "metadata": {},
     "output_type": "display_data"
    },
    {
     "name": "stdout",
     "output_type": "stream",
     "text": [
      "[NeMo I 2023-01-02 20:12:09 wer_bpe:187] \n",
      "    \n",
      "[NeMo I 2023-01-02 20:12:09 wer_bpe:188] reference:rangierfahrt vom gleis mike zwei drei ins drei drei antworten\n",
      "[NeMo I 2023-01-02 20:12:09 wer_bpe:189] predicted:prongierfahrt vom gleis maik zwei drei ins drei drei antworten\n",
      "[NeMo I 2023-01-02 20:12:09 wer_bpe:187] \n",
      "    \n",
      "[NeMo I 2023-01-02 20:12:09 wer_bpe:188] reference:spracheingabe\n",
      "[NeMo I 2023-01-02 20:12:09 wer_bpe:189] predicted:spracheingabe\n"
     ]
    },
    {
     "data": {
      "application/vnd.jupyter.widget-view+json": {
       "model_id": "d2708ee1c02f4397853736da49489ad4",
       "version_major": 2,
       "version_minor": 0
      },
      "text/plain": [
       "Training: 0it [00:00, ?it/s]"
      ]
     },
     "metadata": {},
     "output_type": "display_data"
    },
    {
     "name": "stdout",
     "output_type": "stream",
     "text": [
      "[NeMo I 2023-01-02 20:12:41 wer_bpe:187] \n",
      "    \n",
      "[NeMo I 2023-01-02 20:12:41 wer_bpe:188] reference:umstellmanöver von gleis bravo drei via vier eins nach drei sieben antworten\n",
      "[NeMo I 2023-01-02 20:12:41 wer_bpe:189] predicted:manö es drei ein nach sieben\n",
      "[NeMo I 2023-01-02 20:13:09 wer_bpe:187] \n",
      "    \n",
      "[NeMo I 2023-01-02 20:13:09 wer_bpe:188] reference:umstellmanöver vom acht sieben via gleis november eins sechs ins gleis golf eins sieben antworten\n",
      "[NeMo I 2023-01-02 20:13:09 wer_bpe:189] predicted:ungstell man sieben wielei eins insks ein sieben\n",
      "[NeMo I 2023-01-02 20:13:37 wer_bpe:187] \n",
      "    \n",
      "[NeMo I 2023-01-02 20:13:37 wer_bpe:188] reference:umstellmanöver von neun zwei via whisky vier sechs ins gleis sierra sechs eins antworten\n",
      "[NeMo I 2023-01-02 20:13:37 wer_bpe:189] predicted:umell manö wie wis seslei dererchs\n",
      "[NeMo I 2023-01-02 20:14:04 wer_bpe:187] \n",
      "    \n",
      "[NeMo I 2023-01-02 20:14:04 wer_bpe:188] reference:umstellmanöver von eins via india zwei drei nach gleis zwei fünf antworten\n",
      "[NeMo I 2023-01-02 20:14:04 wer_bpe:189] predicted:ellmalö eins wie in drei gleich zwei\n"
     ]
    },
    {
     "data": {
      "application/vnd.jupyter.widget-view+json": {
       "model_id": "02d156548a85496aae9e66d068b4f98f",
       "version_major": 2,
       "version_minor": 0
      },
      "text/plain": [
       "Validation: 0it [00:00, ?it/s]"
      ]
     },
     "metadata": {},
     "output_type": "display_data"
    },
    {
     "name": "stdout",
     "output_type": "stream",
     "text": [
      "[NeMo I 2023-01-02 20:14:28 wer_bpe:187] \n",
      "    \n",
      "[NeMo I 2023-01-02 20:14:28 wer_bpe:188] reference:rangierfahrt vom gleis mike zwei drei ins drei drei antworten\n",
      "[NeMo I 2023-01-02 20:14:28 wer_bpe:189] predicted:ierlei zwei drei drei drei\n",
      "[NeMo I 2023-01-02 20:14:28 wer_bpe:187] \n",
      "    \n",
      "[NeMo I 2023-01-02 20:14:28 wer_bpe:188] reference:spracheingabe\n",
      "[NeMo I 2023-01-02 20:14:28 wer_bpe:189] predicted:sprach eingab\n",
      "[NeMo I 2023-01-02 20:14:28 wer_bpe:187] \n",
      "    \n",
      "[NeMo I 2023-01-02 20:14:28 wer_bpe:188] reference:umstellmanöver vom drei sechs nach gleis xray vier sieben via null vier antworten\n",
      "[NeMo I 2023-01-02 20:14:28 wer_bpe:189] predicted:umstell manöver vom drei sechs nachleisy sieben wie nur viel an\n",
      "[NeMo I 2023-01-02 20:14:28 wer_bpe:187] \n",
      "    \n",
      "[NeMo I 2023-01-02 20:14:28 wer_bpe:188] reference:rangierfahrt von gleis sechs neun ins gleis delta sieben antworten\n",
      "[NeMo I 2023-01-02 20:14:28 wer_bpe:189] predicted:ngchierfahrlei sechs neu insleidelter sieben\n",
      "[NeMo I 2023-01-02 20:14:28 wer_bpe:187] \n",
      "    \n",
      "[NeMo I 2023-01-02 20:14:28 wer_bpe:188] reference:umstellmanöver von charlie drei zwei via gleis victor sechs neun ins gleis golf zwei vier antworten\n",
      "[NeMo I 2023-01-02 20:14:28 wer_bpe:189] predicted:ell man vonschy drei zwei wielei sechs neu ihnlei zwei\n",
      "[NeMo I 2023-01-02 20:15:11 wer_bpe:187] \n",
      "    \n",
      "[NeMo I 2023-01-02 20:15:11 wer_bpe:188] reference:umstellmanöver vom fünf via gleis vier vier nach gleis yankee null null antworten\n",
      "[NeMo I 2023-01-02 20:15:11 wer_bpe:189] predicted:umlö wie sie noch gleis\n",
      "[NeMo I 2023-01-02 20:15:39 wer_bpe:187] \n",
      "    \n",
      "[NeMo I 2023-01-02 20:15:39 wer_bpe:188] reference:spracheingabe\n",
      "[NeMo I 2023-01-02 20:15:39 wer_bpe:189] predicted:\n",
      "[NeMo I 2023-01-02 20:16:06 wer_bpe:187] \n",
      "    \n",
      "[NeMo I 2023-01-02 20:16:06 wer_bpe:188] reference:rangierfahrt vom gleis sechs null ins gleis sechs fünf antworten\n",
      "[NeMo I 2023-01-02 20:16:06 wer_bpe:189] predicted:gleich ses nun ins kleinschs fünf anen\n",
      "[NeMo I 2023-01-02 20:16:35 wer_bpe:187] \n",
      "    \n",
      "[NeMo I 2023-01-02 20:16:35 wer_bpe:188] reference:umstellmanöver vom drei sechs nach gleis xray vier sieben via null vier antworten\n",
      "[NeMo I 2023-01-02 20:16:35 wer_bpe:189] predicted:als\n"
     ]
    },
    {
     "data": {
      "application/vnd.jupyter.widget-view+json": {
       "model_id": "a98850d208f1405e9099ea1f7e847673",
       "version_major": 2,
       "version_minor": 0
      },
      "text/plain": [
       "Validation: 0it [00:00, ?it/s]"
      ]
     },
     "metadata": {},
     "output_type": "display_data"
    },
    {
     "name": "stdout",
     "output_type": "stream",
     "text": [
      "[NeMo I 2023-01-02 20:16:58 wer_bpe:187] \n",
      "    \n",
      "[NeMo I 2023-01-02 20:16:58 wer_bpe:188] reference:rangierfahrt vom gleis mike zwei drei ins drei drei antworten\n",
      "[NeMo I 2023-01-02 20:16:58 wer_bpe:189] predicted:fr schierfahrt von gleis ma zwei drei in drei drei\n",
      "[NeMo I 2023-01-02 20:16:58 wer_bpe:187] \n",
      "    \n",
      "[NeMo I 2023-01-02 20:16:58 wer_bpe:188] reference:spracheingabe\n",
      "[NeMo I 2023-01-02 20:16:58 wer_bpe:189] predicted:sprach eingabe\n",
      "[NeMo I 2023-01-02 20:16:58 wer_bpe:187] \n",
      "    \n",
      "[NeMo I 2023-01-02 20:16:58 wer_bpe:188] reference:umstellmanöver vom drei sechs nach gleis xray vier sieben via null vier antworten\n",
      "[NeMo I 2023-01-02 20:16:58 wer_bpe:189] predicted:umstellmanöver vom drei sechs nach gleis exray vier sieben via null viel antworten\n",
      "[NeMo I 2023-01-02 20:16:59 wer_bpe:187] \n",
      "    \n",
      "[NeMo I 2023-01-02 20:16:59 wer_bpe:188] reference:rangierfahrt von gleis sechs neun ins gleis delta sieben antworten\n",
      "[NeMo I 2023-01-02 20:16:59 wer_bpe:189] predicted:rangierfahrt von gleis sechs neun ins gleis delta sieben antworten\n",
      "[NeMo I 2023-01-02 20:16:59 wer_bpe:187] \n",
      "    \n",
      "[NeMo I 2023-01-02 20:16:59 wer_bpe:188] reference:umstellmanöver von charlie drei zwei via gleis victor sechs neun ins gleis golf zwei vier antworten\n",
      "[NeMo I 2023-01-02 20:16:59 wer_bpe:189] predicted:stellmanövver von charly drei zwei wir gleis ctor sechs neun ihns gleis gold zwei vier antwort\n",
      "[NeMo I 2023-01-02 20:17:47 wer_bpe:187] \n",
      "    \n",
      "[NeMo I 2023-01-02 20:17:47 wer_bpe:188] reference:rangierfahrt vom gleis null antworten\n",
      "[NeMo I 2023-01-02 20:17:47 wer_bpe:189] predicted:rangierfahrt vom gleis null antworten\n",
      "[NeMo I 2023-01-02 20:18:14 wer_bpe:187] \n",
      "    \n",
      "[NeMo I 2023-01-02 20:18:14 wer_bpe:188] reference:umstellmanöver vom romeo fünf via november sieben und acht drei nach gleis xray fünf antworten\n",
      "[NeMo I 2023-01-02 20:18:14 wer_bpe:189] predicted:hestellmaöverformon fünf wie sie nach drei ja ra antwort\n",
      "[NeMo I 2023-01-02 20:18:42 wer_bpe:187] \n",
      "    \n",
      "[NeMo I 2023-01-02 20:18:42 wer_bpe:188] reference:umstellmanöver von gleis sieben ins gleis sechs neun via gleis yankee vier zwei antworten\n",
      "[NeMo I 2023-01-02 20:18:42 wer_bpe:189] predicted:umstellmanöver von gelimen ins gleis sechs  neunm via gleisiai vier zwei antwort\n",
      "[NeMo I 2023-01-02 20:19:10 wer_bpe:187] \n",
      "    \n",
      "[NeMo I 2023-01-02 20:19:10 wer_bpe:188] reference:umstellmanöver vom drei acht via gleis neun fünf nach echo sieben sieben antworten\n",
      "[NeMo I 2023-01-02 20:19:10 wer_bpe:189] predicted:stellma vom drei acht via gleis neun für sieben sieben antworten\n"
     ]
    },
    {
     "data": {
      "application/vnd.jupyter.widget-view+json": {
       "model_id": "897abd89dcc2448ca38aac7df142869a",
       "version_major": 2,
       "version_minor": 0
      },
      "text/plain": [
       "Validation: 0it [00:00, ?it/s]"
      ]
     },
     "metadata": {},
     "output_type": "display_data"
    },
    {
     "name": "stdout",
     "output_type": "stream",
     "text": [
      "[NeMo I 2023-01-02 20:19:34 wer_bpe:187] \n",
      "    \n",
      "[NeMo I 2023-01-02 20:19:34 wer_bpe:188] reference:rangierfahrt vom gleis mike zwei drei ins drei drei antworten\n",
      "[NeMo I 2023-01-02 20:19:34 wer_bpe:189] predicted:rangierfahrt vom gleis maig zwei drei ins drei drei antwort\n",
      "[NeMo I 2023-01-02 20:19:34 wer_bpe:187] \n",
      "    \n",
      "[NeMo I 2023-01-02 20:19:34 wer_bpe:188] reference:spracheingabe\n",
      "[NeMo I 2023-01-02 20:19:34 wer_bpe:189] predicted:sprach eingabe\n",
      "[NeMo I 2023-01-02 20:19:34 wer_bpe:187] \n",
      "    \n",
      "[NeMo I 2023-01-02 20:19:34 wer_bpe:188] reference:umstellmanöver vom drei sechs nach gleis xray vier sieben via null vier antworten\n",
      "[NeMo I 2023-01-02 20:19:34 wer_bpe:189] predicted:umstellmanöver vom drei sechs nach gleis  ray vier sieben via null v antworten\n",
      "[NeMo I 2023-01-02 20:19:34 wer_bpe:187] \n",
      "    \n",
      "[NeMo I 2023-01-02 20:19:34 wer_bpe:188] reference:rangierfahrt von gleis sechs neun ins gleis delta sieben antworten\n",
      "[NeMo I 2023-01-02 20:19:34 wer_bpe:189] predicted:rangierfahrt von gleis sechs neun ins gleis delta sieben antworten\n",
      "[NeMo I 2023-01-02 20:19:34 wer_bpe:187] \n",
      "    \n",
      "[NeMo I 2023-01-02 20:19:34 wer_bpe:188] reference:umstellmanöver von charlie drei zwei via gleis victor sechs neun ins gleis golf zwei vier antworten\n",
      "[NeMo I 2023-01-02 20:19:34 wer_bpe:189] predicted:umstellmanöver von charlley drei zwei via gleis victor sechs neun ins gleis gold zwei vier antwort\n",
      "[NeMo I 2023-01-02 20:20:15 wer_bpe:187] \n",
      "    \n",
      "[NeMo I 2023-01-02 20:20:15 wer_bpe:188] reference:rangierfahrt von yankee neun eins ins vier acht antworten\n",
      "[NeMo I 2023-01-02 20:20:15 wer_bpe:189] predicted:tierfahrt von ihm die neuen an bis vier acht antworten\n",
      "[NeMo I 2023-01-02 20:20:43 wer_bpe:187] \n",
      "    \n",
      "[NeMo I 2023-01-02 20:20:43 wer_bpe:188] reference:umstellmanöver vom sechs vier via gleis eins drei nach gleis alpha fünf null antworten\n",
      "[NeMo I 2023-01-02 20:20:43 wer_bpe:189] predicted:umstellmanöver sechs vier via gleis ein drei nach gleis al fünf null antworten\n",
      "[NeMo I 2023-01-02 20:21:11 wer_bpe:187] \n",
      "    \n",
      "[NeMo I 2023-01-02 20:21:11 wer_bpe:188] reference:rangierfahrt von hotel eins drei ins gleis papa fünf vier antworten\n",
      "[NeMo I 2023-01-02 20:21:11 wer_bpe:189] predicted:ein drei in gleis\n",
      "[NeMo I 2023-01-02 20:21:39 wer_bpe:187] \n",
      "    \n",
      "[NeMo I 2023-01-02 20:21:39 wer_bpe:188] reference:rangierfahrt vom gleis papa fünf fünf ins delta zwei null antworten\n",
      "[NeMo I 2023-01-02 20:21:39 wer_bpe:189] predicted:rangierfahrt vom gleis papa fünf fünf ins delta zwei null\n"
     ]
    },
    {
     "data": {
      "application/vnd.jupyter.widget-view+json": {
       "model_id": "da28cea5500e428790c4f277c5394210",
       "version_major": 2,
       "version_minor": 0
      },
      "text/plain": [
       "Validation: 0it [00:00, ?it/s]"
      ]
     },
     "metadata": {},
     "output_type": "display_data"
    },
    {
     "name": "stdout",
     "output_type": "stream",
     "text": [
      "[NeMo I 2023-01-02 20:22:02 wer_bpe:187] \n",
      "    \n",
      "[NeMo I 2023-01-02 20:22:02 wer_bpe:188] reference:rangierfahrt vom gleis mike zwei drei ins drei drei antworten\n",
      "[NeMo I 2023-01-02 20:22:02 wer_bpe:189] predicted:rangierfahrt vom gleis miik zwei drei ins drei drei antworten\n",
      "[NeMo I 2023-01-02 20:22:02 wer_bpe:187] \n",
      "    \n",
      "[NeMo I 2023-01-02 20:22:02 wer_bpe:188] reference:spracheingabe\n",
      "[NeMo I 2023-01-02 20:22:02 wer_bpe:189] predicted:sprach eingabe\n",
      "[NeMo I 2023-01-02 20:22:02 wer_bpe:187] \n",
      "    \n",
      "[NeMo I 2023-01-02 20:22:02 wer_bpe:188] reference:umstellmanöver vom drei sechs nach gleis xray vier sieben via null vier antworten\n",
      "[NeMo I 2023-01-02 20:22:02 wer_bpe:189] predicted:umstellmanöver vom drei sechs nach gleis xray vier sieben via null v antworten\n",
      "[NeMo I 2023-01-02 20:22:03 wer_bpe:187] \n",
      "    \n",
      "[NeMo I 2023-01-02 20:22:03 wer_bpe:188] reference:rangierfahrt von gleis sechs neun ins gleis delta sieben antworten\n",
      "[NeMo I 2023-01-02 20:22:03 wer_bpe:189] predicted:rangierfahrt von gleis sechs neun ins gleis delta sieben antworten\n",
      "[NeMo I 2023-01-02 20:22:03 wer_bpe:187] \n",
      "    \n",
      "[NeMo I 2023-01-02 20:22:03 wer_bpe:188] reference:umstellmanöver von charlie drei zwei via gleis victor sechs neun ins gleis golf zwei vier antworten\n",
      "[NeMo I 2023-01-02 20:22:03 wer_bpe:189] predicted:umstellmanöver von charliy drei zwei via gleis victor sechs neun ins gleis gol zwei vier antwort\n",
      "[NeMo I 2023-01-02 20:22:45 wer_bpe:187] \n",
      "    \n",
      "[NeMo I 2023-01-02 20:22:45 wer_bpe:188] reference:umstellmanöver vom sechs vier via gleis eins drei nach gleis alpha fünf null antworten\n",
      "[NeMo I 2023-01-02 20:22:45 wer_bpe:189] predicted:von ses vier gleis ein drei nach gleis alha null antworten\n",
      "[NeMo I 2023-01-02 20:23:12 wer_bpe:187] \n",
      "    \n",
      "[NeMo I 2023-01-02 20:23:12 wer_bpe:188] reference:umstellmanöver von gleis sieben ins gleis sechs neun via gleis yankee vier zwei antworten\n",
      "[NeMo I 2023-01-02 20:23:12 wer_bpe:189] predicted:umschellmanö gleis sieben ins gleis von via gleis yankee vier zwei antworten\n",
      "[NeMo I 2023-01-02 20:23:41 wer_bpe:187] \n",
      "    \n",
      "[NeMo I 2023-01-02 20:23:41 wer_bpe:188] reference:umstellmanöver von vier null ins gleis drei via whisky zwei neun antworten\n",
      "[NeMo I 2023-01-02 20:23:41 wer_bpe:189] predicted:sta von vier zweiia lis\n",
      "[NeMo I 2023-01-02 20:24:09 wer_bpe:187] \n",
      "    \n",
      "[NeMo I 2023-01-02 20:24:09 wer_bpe:188] reference:rangierfahrt von eins fünf ins gleis sechs sieben antworten\n",
      "[NeMo I 2023-01-02 20:24:09 wer_bpe:189] predicted:rangierfahrt von eins fünf ins g rechtchs sieben\n"
     ]
    },
    {
     "data": {
      "application/vnd.jupyter.widget-view+json": {
       "model_id": "2ebd774bd0dc415b979e87f3e4a43323",
       "version_major": 2,
       "version_minor": 0
      },
      "text/plain": [
       "Validation: 0it [00:00, ?it/s]"
      ]
     },
     "metadata": {},
     "output_type": "display_data"
    },
    {
     "name": "stdout",
     "output_type": "stream",
     "text": [
      "[NeMo I 2023-01-02 20:24:32 wer_bpe:187] \n",
      "    \n",
      "[NeMo I 2023-01-02 20:24:32 wer_bpe:188] reference:rangierfahrt vom gleis mike zwei drei ins drei drei antworten\n",
      "[NeMo I 2023-01-02 20:24:32 wer_bpe:189] predicted:rangierfahrt vom gleis mike zwei drei ins drei drei antworten\n",
      "[NeMo I 2023-01-02 20:24:32 wer_bpe:187] \n",
      "    \n",
      "[NeMo I 2023-01-02 20:24:32 wer_bpe:188] reference:spracheingabe\n",
      "[NeMo I 2023-01-02 20:24:32 wer_bpe:189] predicted:sprach eingabe\n",
      "[NeMo I 2023-01-02 20:24:32 wer_bpe:187] \n",
      "    \n",
      "[NeMo I 2023-01-02 20:24:32 wer_bpe:188] reference:umstellmanöver vom drei sechs nach gleis xray vier sieben via null vier antworten\n",
      "[NeMo I 2023-01-02 20:24:32 wer_bpe:189] predicted:umstellmanöver vom drei sechs nach gleis xray vier sieben via null vier antworten\n",
      "[NeMo I 2023-01-02 20:24:32 wer_bpe:187] \n",
      "    \n",
      "[NeMo I 2023-01-02 20:24:32 wer_bpe:188] reference:rangierfahrt von gleis sechs neun ins gleis delta sieben antworten\n",
      "[NeMo I 2023-01-02 20:24:32 wer_bpe:189] predicted:rangierfahrt von gleis sechs neun ins gleis delta sieben antworten\n",
      "[NeMo I 2023-01-02 20:24:32 wer_bpe:187] \n",
      "    \n",
      "[NeMo I 2023-01-02 20:24:32 wer_bpe:188] reference:umstellmanöver von charlie drei zwei via gleis victor sechs neun ins gleis golf zwei vier antworten\n",
      "[NeMo I 2023-01-02 20:24:32 wer_bpe:189] predicted:umstellmanöver von charliy drei zwei via gleis victor sechs neun ins gleis golf zwei vier antwort\n",
      "[NeMo I 2023-01-02 20:25:18 wer_bpe:187] \n",
      "    \n",
      "[NeMo I 2023-01-02 20:25:18 wer_bpe:188] reference:dieses gutachten wurde gesponsert von folgender firma\n",
      "[NeMo I 2023-01-02 20:25:18 wer_bpe:189] predicted:\n",
      "[NeMo I 2023-01-02 20:25:46 wer_bpe:187] \n",
      "    \n",
      "[NeMo I 2023-01-02 20:25:46 wer_bpe:188] reference:umstellmanöver von sechs null via acht vier ins golf eins vier antworten\n",
      "[NeMo I 2023-01-02 20:25:46 wer_bpe:189] predicted:von sechsia war vier ein seia\n",
      "[NeMo I 2023-01-02 20:26:14 wer_bpe:187] \n",
      "    \n",
      "[NeMo I 2023-01-02 20:26:14 wer_bpe:188] reference:umstellmanöver vom gleis alpha sieben drei nach gleis null null via gleis yankee null acht antworten\n",
      "[NeMo I 2023-01-02 20:26:14 wer_bpe:189] predicted:umstellmanöver vomsen drei nach  nulnull via gleis yanke null ein\n",
      "[NeMo I 2023-01-02 20:26:42 wer_bpe:187] \n",
      "    \n",
      "[NeMo I 2023-01-02 20:26:42 wer_bpe:188] reference:rangierfahrt von eins fünf ins gleis sechs sieben antworten\n",
      "[NeMo I 2023-01-02 20:26:42 wer_bpe:189] predicted:rangierfahrt von eins fünf ins gleis seen antworten\n"
     ]
    },
    {
     "data": {
      "application/vnd.jupyter.widget-view+json": {
       "model_id": "4a0a2963e4dc42e2b8a1a65c966c5179",
       "version_major": 2,
       "version_minor": 0
      },
      "text/plain": [
       "Validation: 0it [00:00, ?it/s]"
      ]
     },
     "metadata": {},
     "output_type": "display_data"
    },
    {
     "name": "stdout",
     "output_type": "stream",
     "text": [
      "[NeMo I 2023-01-02 20:27:05 wer_bpe:187] \n",
      "    \n",
      "[NeMo I 2023-01-02 20:27:05 wer_bpe:188] reference:rangierfahrt vom gleis mike zwei drei ins drei drei antworten\n",
      "[NeMo I 2023-01-02 20:27:05 wer_bpe:189] predicted:rangierfahrt vom gleis mike zwei drei ins drei drei antworten\n",
      "[NeMo I 2023-01-02 20:27:05 wer_bpe:187] \n",
      "    \n",
      "[NeMo I 2023-01-02 20:27:05 wer_bpe:188] reference:spracheingabe\n",
      "[NeMo I 2023-01-02 20:27:05 wer_bpe:189] predicted:sprach eingabe\n",
      "[NeMo I 2023-01-02 20:27:06 wer_bpe:187] \n",
      "    \n",
      "[NeMo I 2023-01-02 20:27:06 wer_bpe:188] reference:umstellmanöver vom drei sechs nach gleis xray vier sieben via null vier antworten\n",
      "[NeMo I 2023-01-02 20:27:06 wer_bpe:189] predicted:umstellmanöver vom drei sechs nach gleis xray vier sieben via null vier antworten\n",
      "[NeMo I 2023-01-02 20:27:06 wer_bpe:187] \n",
      "    \n",
      "[NeMo I 2023-01-02 20:27:06 wer_bpe:188] reference:rangierfahrt von gleis sechs neun ins gleis delta sieben antworten\n",
      "[NeMo I 2023-01-02 20:27:06 wer_bpe:189] predicted:rangierfahrt von gleis sechs neun ins gleis delta sieben antworten\n",
      "[NeMo I 2023-01-02 20:27:06 wer_bpe:187] \n",
      "    \n",
      "[NeMo I 2023-01-02 20:27:06 wer_bpe:188] reference:umstellmanöver von charlie drei zwei via gleis victor sechs neun ins gleis golf zwei vier antworten\n",
      "[NeMo I 2023-01-02 20:27:06 wer_bpe:189] predicted:umstellmanöver von charlie drei zwei via gleis victor sechs neun ins gleis golf zwei vier antworten\n"
     ]
    },
    {
     "name": "stderr",
     "output_type": "stream",
     "text": [
      "`Trainer.fit` stopped: `max_epochs=6` reached.\n"
     ]
    },
    {
     "data": {
      "text/html": [
       "Waiting for W&B process to finish... <strong style=\"color:green\">(success).</strong>"
      ],
      "text/plain": [
       "<IPython.core.display.HTML object>"
      ]
     },
     "metadata": {},
     "output_type": "display_data"
    },
    {
     "data": {
      "text/html": [
       "<style>\n",
       "    table.wandb td:nth-child(1) { padding: 0 10px; text-align: left ; width: auto;} td:nth-child(2) {text-align: left ; width: 100%}\n",
       "    .wandb-row { display: flex; flex-direction: row; flex-wrap: wrap; justify-content: flex-start; width: 100% }\n",
       "    .wandb-col { display: flex; flex-direction: column; flex-basis: 100%; flex: 1; padding: 10px; }\n",
       "    </style>\n",
       "<div class=\"wandb-row\"><div class=\"wandb-col\"><h3>Run history:</h3><br/><table class=\"wandb\"><tr><td>epoch</td><td>▁▁▁▁▁▂▂▂▂▂▂▄▄▄▄▄▄▅▅▅▅▅▇▇▇▇▇▇██████</td></tr><tr><td>global_step</td><td>▁▁▂▂▂▂▂▃▃▃▃▃▄▄▄▄▄▅▅▅▅▆▆▆▆▆▇▇▇▇▇███</td></tr><tr><td>learning_rate</td><td>▁▁▂▂▂▂▃▃▃▃▄▄▄▄▅▅▅▅▆▆▆▆▇▇▇▇██</td></tr><tr><td>train_loss</td><td>▆█▅▇█▇▅▅▄▄▅▅▅▃▃▃▂▃▅▄▂▂▁▂▃▂▃▁</td></tr><tr><td>trainer/global_step</td><td>▁▁▂▂▂▂▂▃▃▃▃▃▄▄▄▄▄▅▅▅▅▆▆▆▆▆▇▇▇▇▇███</td></tr><tr><td>training_batch_wer</td><td>▆██▇▇▇▆▇▄▅▄▄▂▂▄▄▃▄▁▂▃▃▃</td></tr><tr><td>val_loss</td><td>█▄▂▁▁▁</td></tr><tr><td>val_wer</td><td>█▄▂▂▁▁</td></tr></table><br/></div><div class=\"wandb-col\"><h3>Run summary:</h3><br/><table class=\"wandb\"><tr><td>epoch</td><td>5</td></tr><tr><td>global_step</td><td>1422.0</td></tr><tr><td>learning_rate</td><td>2e-05</td></tr><tr><td>train_loss</td><td>18.40176</td></tr><tr><td>trainer/global_step</td><td>1421</td></tr><tr><td>training_batch_wer</td><td>0.51724</td></tr><tr><td>val_loss</td><td>3.70384</td></tr><tr><td>val_wer</td><td>0.04961</td></tr></table><br/></div></div>"
      ],
      "text/plain": [
       "<IPython.core.display.HTML object>"
      ]
     },
     "metadata": {},
     "output_type": "display_data"
    },
    {
     "data": {
      "text/html": [
       "Synced <strong style=\"color:#cdcd00\">feasible-sweep-13</strong>: <a href=\"https://wandb.ai/unisg-ds-nlp/ASR/runs/60zx2as2\" target=\"_blank\">https://wandb.ai/unisg-ds-nlp/ASR/runs/60zx2as2</a><br/>Synced 5 W&B file(s), 0 media file(s), 6 artifact file(s) and 0 other file(s)"
      ],
      "text/plain": [
       "<IPython.core.display.HTML object>"
      ]
     },
     "metadata": {},
     "output_type": "display_data"
    },
    {
     "data": {
      "text/html": [
       "Find logs at: <code>./wandb/run-20230102_201149-60zx2as2/logs</code>"
      ],
      "text/plain": [
       "<IPython.core.display.HTML object>"
      ]
     },
     "metadata": {},
     "output_type": "display_data"
    },
    {
     "name": "stderr",
     "output_type": "stream",
     "text": [
      "\u001b[34m\u001b[1mwandb\u001b[0m: Agent Starting Run: ijmhrchh with config:\n",
      "\u001b[34m\u001b[1mwandb\u001b[0m: \tepoch: 6\n",
      "\u001b[34m\u001b[1mwandb\u001b[0m: \tfreq_width: 26.139677664826255\n",
      "\u001b[34m\u001b[1mwandb\u001b[0m: \tlr: 0.003854526527915413\n",
      "Failed to detect the name of this notebook, you can set it manually with the WANDB_NOTEBOOK_NAME environment variable to enable code saving.\n"
     ]
    },
    {
     "data": {
      "text/html": [
       "wandb version 0.13.7 is available!  To upgrade, please run:\n",
       " $ pip install wandb --upgrade"
      ],
      "text/plain": [
       "<IPython.core.display.HTML object>"
      ]
     },
     "metadata": {},
     "output_type": "display_data"
    },
    {
     "data": {
      "text/html": [
       "Tracking run with wandb version 0.13.4"
      ],
      "text/plain": [
       "<IPython.core.display.HTML object>"
      ]
     },
     "metadata": {},
     "output_type": "display_data"
    },
    {
     "data": {
      "text/html": [
       "Run data is saved locally in <code>/home/user/code/sbb_asr/notebooks/wandb/run-20230102_202750-ijmhrchh</code>"
      ],
      "text/plain": [
       "<IPython.core.display.HTML object>"
      ]
     },
     "metadata": {},
     "output_type": "display_data"
    },
    {
     "data": {
      "text/html": [
       "Syncing run <strong><a href=\"https://wandb.ai/unisg-ds-nlp/ASR/runs/ijmhrchh\" target=\"_blank\">fragrant-sweep-14</a></strong> to <a href=\"https://wandb.ai/unisg-ds-nlp/ASR\" target=\"_blank\">Weights & Biases</a> (<a href=\"https://wandb.me/run\" target=\"_blank\">docs</a>)<br/>Sweep page:  <a href=\"https://wandb.ai/unisg-ds-nlp/ASR/sweeps/v7qi12lc\" target=\"_blank\">https://wandb.ai/unisg-ds-nlp/ASR/sweeps/v7qi12lc</a>"
      ],
      "text/plain": [
       "<IPython.core.display.HTML object>"
      ]
     },
     "metadata": {},
     "output_type": "display_data"
    },
    {
     "name": "stderr",
     "output_type": "stream",
     "text": [
      "[NeMo W 2023-01-02 20:27:51 nemo_logging:349] /home/user/.local/lib/python3.9/site-packages/pytorch_lightning/loggers/wandb.py:352: UserWarning: There is a wandb run already in progress and newly created instances of `WandbLogger` will reuse this run. If this is not desired, call `wandb.finish()` before instantiating `WandbLogger`.\n",
      "      rank_zero_warn(\n",
      "    \n",
      "[NeMo W 2023-01-02 20:27:51 nemo_logging:349] /home/user/.local/lib/python3.9/site-packages/pytorch_lightning/trainer/connectors/accelerator_connector.py:447: LightningDeprecationWarning: Setting `Trainer(gpus=1)` is deprecated in v1.7 and will be removed in v2.0. Please use `Trainer(accelerator='gpu', devices=1)` instead.\n",
      "      rank_zero_deprecation(\n",
      "    \n",
      "GPU available: True (cuda), used: True\n",
      "TPU available: False, using: 0 TPU cores\n",
      "IPU available: False, using: 0 IPUs\n",
      "HPU available: False, using: 0 HPUs\n"
     ]
    },
    {
     "name": "stdout",
     "output_type": "stream",
     "text": [
      "[NeMo I 2023-01-02 20:27:54 cloud:56] Found existing object /home/user/.cache/torch/NeMo/NeMo_1.12.0/stt_de_citrinet_1024/8743e4cecb8017ca2b49a035e07b2893/stt_de_citrinet_1024.nemo.\n",
      "[NeMo I 2023-01-02 20:27:54 cloud:62] Re-using file from: /home/user/.cache/torch/NeMo/NeMo_1.12.0/stt_de_citrinet_1024/8743e4cecb8017ca2b49a035e07b2893/stt_de_citrinet_1024.nemo\n",
      "[NeMo I 2023-01-02 20:27:54 common:910] Instantiating model from pre-trained checkpoint\n",
      "[NeMo I 2023-01-02 20:27:59 mixins:170] Tokenizer SentencePieceTokenizer initialized with 1024 tokens\n"
     ]
    },
    {
     "name": "stderr",
     "output_type": "stream",
     "text": [
      "[NeMo W 2023-01-02 20:28:00 modelPT:142] If you intend to do training or fine-tuning, please call the ModelPT.setup_training_data() method and provide a valid configuration file to setup the train data loader.\n",
      "    Train config : \n",
      "    manifest_filepath: /data/train/tarred_audio_manifest.json\n",
      "    sample_rate: 16000\n",
      "    batch_size: 32\n",
      "    trim_silence: false\n",
      "    max_duration: 35.0\n",
      "    shuffle: true\n",
      "    is_tarred: true\n",
      "    tarred_audio_filepaths: /data/train/audio__OP_0..1023_CL_.tar\n",
      "    use_start_end_token: false\n",
      "    shuffle_n: 1024\n",
      "    num_workers: 16\n",
      "    pin_memory: true\n",
      "    \n",
      "[NeMo W 2023-01-02 20:28:00 modelPT:149] If you intend to do validation, please call the ModelPT.setup_validation_data() or ModelPT.setup_multiple_validation_data() method and provide a valid configuration file to setup the validation data loader(s). \n",
      "    Validation config : \n",
      "    manifest_filepath:\n",
      "    - /data/voxpopuli_de/dev/voxpopuli_dev_manifest.json\n",
      "    - /data/voxpopuli_de/test/voxpopuli_test_manifest.json\n",
      "    - /data/mcv7.0_de/mcv7.0_dev_manifest_cleaned.json\n",
      "    - /data/mcv7.0_de/mcv7.0_test_manifest_cleaned.json\n",
      "    - /data/mls_de/mls_dev_manifest_cleaned.json\n",
      "    - /data/mls_de/mls_test_manifest_cleaned.json\n",
      "    sample_rate: 16000\n",
      "    batch_size: 8\n",
      "    shuffle: false\n",
      "    use_start_end_token: false\n",
      "    num_workers: 8\n",
      "    pin_memory: true\n",
      "    \n",
      "[NeMo W 2023-01-02 20:28:00 modelPT:155] Please call the ModelPT.setup_test_data() or ModelPT.setup_multiple_test_data() method and provide a valid configuration file to setup the test data loader(s).\n",
      "    Test config : \n",
      "    manifest_filepath: null\n",
      "    sample_rate: 16000\n",
      "    batch_size: 32\n",
      "    shuffle: false\n",
      "    use_start_end_token: false\n",
      "    \n"
     ]
    },
    {
     "name": "stdout",
     "output_type": "stream",
     "text": [
      "[NeMo I 2023-01-02 20:28:00 features:225] PADDING: 16\n",
      "[NeMo I 2023-01-02 20:28:05 save_restore_connector:243] Model EncDecCTCModelBPE was successfully restored from /home/user/.cache/torch/NeMo/NeMo_1.12.0/stt_de_citrinet_1024/8743e4cecb8017ca2b49a035e07b2893/stt_de_citrinet_1024.nemo.\n",
      "[NeMo I 2023-01-02 20:28:05 collections:194] Dataset loaded with 1890 files totalling 7.41 hours\n",
      "[NeMo I 2023-01-02 20:28:05 collections:195] 0 files were filtered totalling 0.00 hours\n",
      "[NeMo I 2023-01-02 20:28:05 collections:194] Dataset loaded with 34 files totalling 0.13 hours\n",
      "[NeMo I 2023-01-02 20:28:05 collections:195] 0 files were filtered totalling 0.00 hours\n",
      "[NeMo I 2023-01-02 20:28:05 collections:194] Dataset loaded with 34 files totalling 0.14 hours\n",
      "[NeMo I 2023-01-02 20:28:05 collections:195] 0 files were filtered totalling 0.00 hours\n",
      "[NeMo I 2023-01-02 20:28:05 modelPT:597] Optimizer config = Novograd (\n",
      "    Parameter Group 0\n",
      "        amsgrad: False\n",
      "        betas: [0.8, 0.25]\n",
      "        eps: 1e-08\n",
      "        grad_averaging: False\n",
      "        lr: 0.003854526527915413\n",
      "        weight_decay: 0.001\n",
      "    )\n",
      "[NeMo I 2023-01-02 20:28:05 lr_scheduler:910] Scheduler \"<nemo.core.optim.lr_scheduler.CosineAnnealing object at 0x7f8386eb75e0>\" \n",
      "    will be used during training (effective maximum steps = 1422) - \n",
      "    Parameters : \n",
      "    (warmup_steps: 10000\n",
      "    warmup_ratio: null\n",
      "    min_lr: 1.0e-05\n",
      "    last_epoch: -1\n",
      "    max_steps: 1422\n",
      "    )\n"
     ]
    },
    {
     "name": "stderr",
     "output_type": "stream",
     "text": [
      "LOCAL_RANK: 0 - CUDA_VISIBLE_DEVICES: [0,1,2,3]\n"
     ]
    },
    {
     "name": "stdout",
     "output_type": "stream",
     "text": [
      "[NeMo I 2023-01-02 20:28:06 modelPT:597] Optimizer config = Novograd (\n",
      "    Parameter Group 0\n",
      "        amsgrad: False\n",
      "        betas: [0.8, 0.25]\n",
      "        eps: 1e-08\n",
      "        grad_averaging: False\n",
      "        lr: 0.003854526527915413\n",
      "        weight_decay: 0.001\n",
      "    )\n",
      "[NeMo I 2023-01-02 20:28:06 lr_scheduler:910] Scheduler \"<nemo.core.optim.lr_scheduler.CosineAnnealing object at 0x7f836ad07ac0>\" \n",
      "    will be used during training (effective maximum steps = 1422) - \n",
      "    Parameters : \n",
      "    (warmup_steps: 10000\n",
      "    warmup_ratio: null\n",
      "    min_lr: 1.0e-05\n",
      "    last_epoch: -1\n",
      "    max_steps: 1422\n",
      "    )\n"
     ]
    },
    {
     "name": "stderr",
     "output_type": "stream",
     "text": [
      "\n",
      "  | Name              | Type                              | Params\n",
      "------------------------------------------------------------------------\n",
      "0 | preprocessor      | AudioToMelSpectrogramPreprocessor | 0     \n",
      "1 | encoder           | ConvASREncoder                    | 140 M \n",
      "2 | decoder           | ConvASRDecoder                    | 1.1 M \n",
      "3 | loss              | CTCLoss                           | 0     \n",
      "4 | spec_augmentation | SpectrogramAugmentation           | 0     \n",
      "5 | _wer              | WERBPE                            | 0     \n",
      "------------------------------------------------------------------------\n",
      "141 M     Trainable params\n",
      "0         Non-trainable params\n",
      "141 M     Total params\n",
      "564.897   Total estimated model params size (MB)\n"
     ]
    },
    {
     "data": {
      "application/vnd.jupyter.widget-view+json": {
       "model_id": "a0a510d3ca4c40d0ab6cd4330e2a9e7d",
       "version_major": 2,
       "version_minor": 0
      },
      "text/plain": [
       "Sanity Checking: 0it [00:00, ?it/s]"
      ]
     },
     "metadata": {},
     "output_type": "display_data"
    },
    {
     "name": "stdout",
     "output_type": "stream",
     "text": [
      "[NeMo I 2023-01-02 20:28:08 wer_bpe:187] \n",
      "    \n",
      "[NeMo I 2023-01-02 20:28:08 wer_bpe:188] reference:rangierfahrt vom gleis mike zwei drei ins drei drei antworten\n",
      "[NeMo I 2023-01-02 20:28:08 wer_bpe:189] predicted:prongierfahrt vom gleis maik zwei drei ins drei drei antworten\n",
      "[NeMo I 2023-01-02 20:28:08 wer_bpe:187] \n",
      "    \n",
      "[NeMo I 2023-01-02 20:28:08 wer_bpe:188] reference:spracheingabe\n",
      "[NeMo I 2023-01-02 20:28:08 wer_bpe:189] predicted:spracheingabe\n"
     ]
    },
    {
     "data": {
      "application/vnd.jupyter.widget-view+json": {
       "model_id": "62b76ff3b4654431b827ac1319ebc3f8",
       "version_major": 2,
       "version_minor": 0
      },
      "text/plain": [
       "Training: 0it [00:00, ?it/s]"
      ]
     },
     "metadata": {},
     "output_type": "display_data"
    },
    {
     "name": "stdout",
     "output_type": "stream",
     "text": [
      "[NeMo I 2023-01-02 20:28:41 wer_bpe:187] \n",
      "    \n",
      "[NeMo I 2023-01-02 20:28:41 wer_bpe:188] reference:umstellmanöver vom gleis juliet vier fünf nach sieben acht via vier acht antworten\n",
      "[NeMo I 2023-01-02 20:28:41 wer_bpe:189] predicted:fürli neben wie ja vier\n",
      "[NeMo I 2023-01-02 20:29:08 wer_bpe:187] \n",
      "    \n",
      "[NeMo I 2023-01-02 20:29:08 wer_bpe:188] reference:rangierfahrt von eins sieben nach gleis fünf antworten\n",
      "[NeMo I 2023-01-02 20:29:08 wer_bpe:189] predicted:\n",
      "[NeMo I 2023-01-02 20:29:36 wer_bpe:187] \n",
      "    \n",
      "[NeMo I 2023-01-02 20:29:36 wer_bpe:188] reference:rangierfahrt von fünf drei nach gleis charlie drei eins antworten\n",
      "[NeMo I 2023-01-02 20:29:36 wer_bpe:189] predicted:s frei aus gleiszahl eins antwort\n",
      "[NeMo I 2023-01-02 20:30:04 wer_bpe:187] \n",
      "    \n",
      "[NeMo I 2023-01-02 20:30:04 wer_bpe:188] reference:rangierfahrt von charlie null neun ins drei zwei antworten\n",
      "[NeMo I 2023-01-02 20:30:04 wer_bpe:189] predicted:zierfahrt vonch neu ins drei zweiiert\n"
     ]
    },
    {
     "data": {
      "application/vnd.jupyter.widget-view+json": {
       "model_id": "11a2785a343346d39e102c5ca3db1037",
       "version_major": 2,
       "version_minor": 0
      },
      "text/plain": [
       "Validation: 0it [00:00, ?it/s]"
      ]
     },
     "metadata": {},
     "output_type": "display_data"
    },
    {
     "name": "stdout",
     "output_type": "stream",
     "text": [
      "[NeMo I 2023-01-02 20:30:27 wer_bpe:187] \n",
      "    \n",
      "[NeMo I 2023-01-02 20:30:27 wer_bpe:188] reference:rangierfahrt vom gleis mike zwei drei ins drei drei antworten\n",
      "[NeMo I 2023-01-02 20:30:27 wer_bpe:189] predicted:rangierfahrt vom gleis mike zwei drei ins drei drei antworten\n",
      "[NeMo I 2023-01-02 20:30:27 wer_bpe:187] \n",
      "    \n",
      "[NeMo I 2023-01-02 20:30:27 wer_bpe:188] reference:spracheingabe\n",
      "[NeMo I 2023-01-02 20:30:27 wer_bpe:189] predicted:sprach eingabe\n",
      "[NeMo I 2023-01-02 20:30:27 wer_bpe:187] \n",
      "    \n",
      "[NeMo I 2023-01-02 20:30:27 wer_bpe:188] reference:umstellmanöver vom drei sechs nach gleis xray vier sieben via null vier antworten\n",
      "[NeMo I 2023-01-02 20:30:27 wer_bpe:189] predicted:umstellmanöver vom drei sechs nach gleis xray vier sieben via null vier antworten\n",
      "[NeMo I 2023-01-02 20:30:28 wer_bpe:187] \n",
      "    \n",
      "[NeMo I 2023-01-02 20:30:28 wer_bpe:188] reference:rangierfahrt von gleis sechs neun ins gleis delta sieben antworten\n",
      "[NeMo I 2023-01-02 20:30:28 wer_bpe:189] predicted:rangierfahrt von gleis sechs neun ins gleis delta sieben antworten\n",
      "[NeMo I 2023-01-02 20:30:28 wer_bpe:187] \n",
      "    \n",
      "[NeMo I 2023-01-02 20:30:28 wer_bpe:188] reference:umstellmanöver von charlie drei zwei via gleis victor sechs neun ins gleis golf zwei vier antworten\n",
      "[NeMo I 2023-01-02 20:30:28 wer_bpe:189] predicted:umstellmanöver von charliey drei zwei via gleis victor sechs neun ins gleis golf zwei vier antworten\n",
      "[NeMo I 2023-01-02 20:31:11 wer_bpe:187] \n",
      "    \n",
      "[NeMo I 2023-01-02 20:31:11 wer_bpe:188] reference:rangierfahrt von gleis sechs neun ins gleis delta sieben antworten\n",
      "[NeMo I 2023-01-02 20:31:11 wer_bpe:189] predicted:rangierfahrt von gleis sechs neun in ins gleis  sieben antworten\n",
      "[NeMo I 2023-01-02 20:31:38 wer_bpe:187] \n",
      "    \n",
      "[NeMo I 2023-01-02 20:31:38 wer_bpe:188] reference:umstellmanöver vom null acht via gleis sieben acht ins gleis fünf eins antworten\n",
      "[NeMo I 2023-01-02 20:31:38 wer_bpe:189] predicted:umstellmanöver vom null acht via gleis sieben acht ins fünf eins antworten\n",
      "[NeMo I 2023-01-02 20:32:06 wer_bpe:187] \n",
      "    \n",
      "[NeMo I 2023-01-02 20:32:06 wer_bpe:188] reference:rangierfahrt von yankee neun eins ins vier acht antworten\n",
      "[NeMo I 2023-01-02 20:32:06 wer_bpe:189] predicted:rangierfahrt von ell neun sechslei fla nachacht\n",
      "[NeMo I 2023-01-02 20:32:34 wer_bpe:187] \n",
      "    \n",
      "[NeMo I 2023-01-02 20:32:34 wer_bpe:188] reference:rangierfahrt von yankee neun eins ins vier acht antworten\n",
      "[NeMo I 2023-01-02 20:32:34 wer_bpe:189] predicted:rangierfahrt von yankee neun eins ins vier acht antworten\n"
     ]
    },
    {
     "data": {
      "application/vnd.jupyter.widget-view+json": {
       "model_id": "5e23b8085bef42cbb7069d20c7fa6dbf",
       "version_major": 2,
       "version_minor": 0
      },
      "text/plain": [
       "Validation: 0it [00:00, ?it/s]"
      ]
     },
     "metadata": {},
     "output_type": "display_data"
    },
    {
     "name": "stdout",
     "output_type": "stream",
     "text": [
      "[NeMo I 2023-01-02 20:32:57 wer_bpe:187] \n",
      "    \n",
      "[NeMo I 2023-01-02 20:32:57 wer_bpe:188] reference:rangierfahrt vom gleis mike zwei drei ins drei drei antworten\n",
      "[NeMo I 2023-01-02 20:32:57 wer_bpe:189] predicted:rangierfahrt vom gleis mike zwei drei ins drei drei antworten\n",
      "[NeMo I 2023-01-02 20:32:58 wer_bpe:187] \n",
      "    \n",
      "[NeMo I 2023-01-02 20:32:58 wer_bpe:188] reference:spracheingabe\n",
      "[NeMo I 2023-01-02 20:32:58 wer_bpe:189] predicted:spracheingabe\n",
      "[NeMo I 2023-01-02 20:32:58 wer_bpe:187] \n",
      "    \n",
      "[NeMo I 2023-01-02 20:32:58 wer_bpe:188] reference:umstellmanöver vom drei sechs nach gleis xray vier sieben via null vier antworten\n",
      "[NeMo I 2023-01-02 20:32:58 wer_bpe:189] predicted:umstellmanöver vom drei sechs nach gleis xray vier sieben via null vier antworten\n",
      "[NeMo I 2023-01-02 20:32:58 wer_bpe:187] \n",
      "    \n",
      "[NeMo I 2023-01-02 20:32:58 wer_bpe:188] reference:rangierfahrt von gleis sechs neun ins gleis delta sieben antworten\n",
      "[NeMo I 2023-01-02 20:32:58 wer_bpe:189] predicted:rangierfahrt von gleis sechs neun ins gleis delta sieben antworten\n",
      "[NeMo I 2023-01-02 20:32:58 wer_bpe:187] \n",
      "    \n",
      "[NeMo I 2023-01-02 20:32:58 wer_bpe:188] reference:umstellmanöver von charlie drei zwei via gleis victor sechs neun ins gleis golf zwei vier antworten\n",
      "[NeMo I 2023-01-02 20:32:58 wer_bpe:189] predicted:umstellmanöver von charlie drei zwei via gleis victor sechs neun ins gleis golf zwei vier antworten\n",
      "[NeMo I 2023-01-02 20:33:42 wer_bpe:187] \n",
      "    \n",
      "[NeMo I 2023-01-02 20:33:42 wer_bpe:188] reference:rangierfahrt vom gleis zwei zwei ins null sechs antworten\n",
      "[NeMo I 2023-01-02 20:33:42 wer_bpe:189] predicted:vom gleis zwei zwei sechs null sechs antworten\n",
      "[NeMo I 2023-01-02 20:34:10 wer_bpe:187] \n",
      "    \n",
      "[NeMo I 2023-01-02 20:34:10 wer_bpe:188] reference:umstellmanöver vom lima sechs via uniform sechs und sieben ins zwei antworten\n",
      "[NeMo I 2023-01-02 20:34:10 wer_bpe:189] predicted:umstellmanöver vom lima sechs vform sechs und sieben ins zwei antworten\n",
      "[NeMo I 2023-01-02 20:34:37 wer_bpe:187] \n",
      "    \n",
      "[NeMo I 2023-01-02 20:34:37 wer_bpe:188] reference:er will am donnerstag nicht in die schule gehen\n",
      "[NeMo I 2023-01-02 20:34:37 wer_bpe:189] predicted:will am donnerstag nicht\n",
      "[NeMo I 2023-01-02 20:35:05 wer_bpe:187] \n",
      "    \n",
      "[NeMo I 2023-01-02 20:35:05 wer_bpe:188] reference:umstellmanöver vom acht sieben via gleis november eins sechs ins gleis golf eins sieben antworten\n",
      "[NeMo I 2023-01-02 20:35:05 wer_bpe:189] predicted:umstellmanöver vom acht sieben via gleis november eins ins gleis golf se sieben antworten\n"
     ]
    },
    {
     "data": {
      "application/vnd.jupyter.widget-view+json": {
       "model_id": "d8defcaea9dc4069b7ce52fc9dbd753b",
       "version_major": 2,
       "version_minor": 0
      },
      "text/plain": [
       "Validation: 0it [00:00, ?it/s]"
      ]
     },
     "metadata": {},
     "output_type": "display_data"
    },
    {
     "name": "stdout",
     "output_type": "stream",
     "text": [
      "[NeMo I 2023-01-02 20:35:28 wer_bpe:187] \n",
      "    \n",
      "[NeMo I 2023-01-02 20:35:28 wer_bpe:188] reference:rangierfahrt vom gleis mike zwei drei ins drei drei antworten\n",
      "[NeMo I 2023-01-02 20:35:28 wer_bpe:189] predicted:rangierfahrt vom gleis mike zwei drei ins drei drei antworten\n",
      "[NeMo I 2023-01-02 20:35:29 wer_bpe:187] \n",
      "    \n",
      "[NeMo I 2023-01-02 20:35:29 wer_bpe:188] reference:spracheingabe\n",
      "[NeMo I 2023-01-02 20:35:29 wer_bpe:189] predicted:spracheingabe\n",
      "[NeMo I 2023-01-02 20:35:29 wer_bpe:187] \n",
      "    \n",
      "[NeMo I 2023-01-02 20:35:29 wer_bpe:188] reference:umstellmanöver vom drei sechs nach gleis xray vier sieben via null vier antworten\n",
      "[NeMo I 2023-01-02 20:35:29 wer_bpe:189] predicted:umstellmanöver vom drei sechs nach gleis xray vier sieben via null vier antworten\n",
      "[NeMo I 2023-01-02 20:35:29 wer_bpe:187] \n",
      "    \n",
      "[NeMo I 2023-01-02 20:35:29 wer_bpe:188] reference:rangierfahrt von gleis sechs neun ins gleis delta sieben antworten\n",
      "[NeMo I 2023-01-02 20:35:29 wer_bpe:189] predicted:rangierfahrt von gleis sechs neun ins gleis delta sieben antworten\n",
      "[NeMo I 2023-01-02 20:35:29 wer_bpe:187] \n",
      "    \n",
      "[NeMo I 2023-01-02 20:35:29 wer_bpe:188] reference:umstellmanöver von charlie drei zwei via gleis victor sechs neun ins gleis golf zwei vier antworten\n",
      "[NeMo I 2023-01-02 20:35:29 wer_bpe:189] predicted:umstellmanöver von charlie drei zwei via gleis victor sechs neun ins gleis golf zwei vier antworten\n",
      "[NeMo I 2023-01-02 20:36:10 wer_bpe:187] \n",
      "    \n",
      "[NeMo I 2023-01-02 20:36:10 wer_bpe:188] reference:umstellmanöver vom vier via sieben eins ins neun fünf antworten\n",
      "[NeMo I 2023-01-02 20:36:10 wer_bpe:189] predicted:umstellmanöver vom vier via sieben eins ins  fünf antworten\n",
      "[NeMo I 2023-01-02 20:36:37 wer_bpe:187] \n",
      "    \n",
      "[NeMo I 2023-01-02 20:36:37 wer_bpe:188] reference:umstellmanöver von vier null ins gleis drei via whisky zwei neun antworten\n",
      "[NeMo I 2023-01-02 20:36:37 wer_bpe:189] predicted:umstellmanöver von vier null ins gleis drei via wsky zwei neun antworten\n",
      "[NeMo I 2023-01-02 20:37:05 wer_bpe:187] \n",
      "    \n",
      "[NeMo I 2023-01-02 20:37:05 wer_bpe:188] reference:umstellmanöver von tango neun acht ins gleis whisky zwei drei via gleis zwei fünf antworten\n",
      "[NeMo I 2023-01-02 20:37:05 wer_bpe:189] predicted:umstellmanöver vom o neun acht ins gleis whisky zwei drei via gleis zwei fünf antworten\n",
      "[NeMo I 2023-01-02 20:37:32 wer_bpe:187] \n",
      "    \n",
      "[NeMo I 2023-01-02 20:37:32 wer_bpe:188] reference:umstellmanöver von papa fünf neun ins kilo drei fünf via gleis india eins antworten\n",
      "[NeMo I 2023-01-02 20:37:32 wer_bpe:189] predicted:umstellmanöver zwei fünf nl ins kilo drei vier via gleis indra acht antworten\n"
     ]
    },
    {
     "data": {
      "application/vnd.jupyter.widget-view+json": {
       "model_id": "13765089d54f40f8bb570590efe8ae9c",
       "version_major": 2,
       "version_minor": 0
      },
      "text/plain": [
       "Validation: 0it [00:00, ?it/s]"
      ]
     },
     "metadata": {},
     "output_type": "display_data"
    },
    {
     "name": "stdout",
     "output_type": "stream",
     "text": [
      "[NeMo I 2023-01-02 20:37:55 wer_bpe:187] \n",
      "    \n",
      "[NeMo I 2023-01-02 20:37:55 wer_bpe:188] reference:rangierfahrt vom gleis mike zwei drei ins drei drei antworten\n",
      "[NeMo I 2023-01-02 20:37:55 wer_bpe:189] predicted:rangierfahrt vom gleis mike zwei drei ins drei drei antworten\n",
      "[NeMo I 2023-01-02 20:37:55 wer_bpe:187] \n",
      "    \n",
      "[NeMo I 2023-01-02 20:37:55 wer_bpe:188] reference:spracheingabe\n",
      "[NeMo I 2023-01-02 20:37:55 wer_bpe:189] predicted:spracheingabe\n",
      "[NeMo I 2023-01-02 20:37:55 wer_bpe:187] \n",
      "    \n",
      "[NeMo I 2023-01-02 20:37:55 wer_bpe:188] reference:umstellmanöver vom drei sechs nach gleis xray vier sieben via null vier antworten\n",
      "[NeMo I 2023-01-02 20:37:55 wer_bpe:189] predicted:umstellmanöver vom drei sechs nach gleis xray vier sieben via null vier antworten\n",
      "[NeMo I 2023-01-02 20:37:55 wer_bpe:187] \n",
      "    \n",
      "[NeMo I 2023-01-02 20:37:55 wer_bpe:188] reference:rangierfahrt von gleis sechs neun ins gleis delta sieben antworten\n",
      "[NeMo I 2023-01-02 20:37:55 wer_bpe:189] predicted:rangierfahrt von gleis sechs neun ins gleis delta sieben antworten\n",
      "[NeMo I 2023-01-02 20:37:56 wer_bpe:187] \n",
      "    \n",
      "[NeMo I 2023-01-02 20:37:56 wer_bpe:188] reference:umstellmanöver von charlie drei zwei via gleis victor sechs neun ins gleis golf zwei vier antworten\n",
      "[NeMo I 2023-01-02 20:37:56 wer_bpe:189] predicted:umstellmanöver von charlie drei zwei via gleis victor sechs neun ins gleis golf zwei vier antworten\n",
      "[NeMo I 2023-01-02 20:38:38 wer_bpe:187] \n",
      "    \n",
      "[NeMo I 2023-01-02 20:38:38 wer_bpe:188] reference:umstellmanöver von neun zwei via whisky vier sechs ins gleis sierra sechs eins antworten\n",
      "[NeMo I 2023-01-02 20:38:38 wer_bpe:189] predicted:umstellmanöver vom neun zwei via whisky vier sechs ins gleis sierra sechs eins antworten\n",
      "[NeMo I 2023-01-02 20:39:05 wer_bpe:187] \n",
      "    \n",
      "[NeMo I 2023-01-02 20:39:05 wer_bpe:188] reference:umstellmanöver von vier fünf via gleis lima eins vier nach acht neun antworten\n",
      "[NeMo I 2023-01-02 20:39:05 wer_bpe:189] predicted:umstellmanöver sie sie fünf v nach gleis limeo eins fünf nach acht neun antworten\n",
      "[NeMo I 2023-01-02 20:39:34 wer_bpe:187] \n",
      "    \n",
      "[NeMo I 2023-01-02 20:39:34 wer_bpe:188] reference:umstellmanöver von charlie zwei acht via zwei drei ins vier null antworten\n",
      "[NeMo I 2023-01-02 20:39:34 wer_bpe:189] predicted:umstellmanöver von charlie zwei  nach zwei drei ins vier null antworten\n",
      "[NeMo I 2023-01-02 20:40:02 wer_bpe:187] \n",
      "    \n",
      "[NeMo I 2023-01-02 20:40:02 wer_bpe:188] reference:umstellmanöver vom zulu neun eins ins golf neun neun via lima vier zwei antworten\n",
      "[NeMo I 2023-01-02 20:40:02 wer_bpe:189] predicted:umstellmanöver vom zul neun eins ins golf neun neun via lima vier zwei antworten\n"
     ]
    },
    {
     "data": {
      "application/vnd.jupyter.widget-view+json": {
       "model_id": "1f55483b331a4a8ca645051d64688ff7",
       "version_major": 2,
       "version_minor": 0
      },
      "text/plain": [
       "Validation: 0it [00:00, ?it/s]"
      ]
     },
     "metadata": {},
     "output_type": "display_data"
    },
    {
     "name": "stdout",
     "output_type": "stream",
     "text": [
      "[NeMo I 2023-01-02 20:40:25 wer_bpe:187] \n",
      "    \n",
      "[NeMo I 2023-01-02 20:40:25 wer_bpe:188] reference:rangierfahrt vom gleis mike zwei drei ins drei drei antworten\n",
      "[NeMo I 2023-01-02 20:40:25 wer_bpe:189] predicted:rangierfahrt von gleis mike zwei drei ins drei drei antworten\n",
      "[NeMo I 2023-01-02 20:40:25 wer_bpe:187] \n",
      "    \n",
      "[NeMo I 2023-01-02 20:40:25 wer_bpe:188] reference:spracheingabe\n",
      "[NeMo I 2023-01-02 20:40:25 wer_bpe:189] predicted:spracheingabe\n",
      "[NeMo I 2023-01-02 20:40:25 wer_bpe:187] \n",
      "    \n",
      "[NeMo I 2023-01-02 20:40:25 wer_bpe:188] reference:umstellmanöver vom drei sechs nach gleis xray vier sieben via null vier antworten\n",
      "[NeMo I 2023-01-02 20:40:25 wer_bpe:189] predicted:umstellmanöver vom drei sechs nach gleis xray vier sieben via null vier antworten\n",
      "[NeMo I 2023-01-02 20:40:25 wer_bpe:187] \n",
      "    \n",
      "[NeMo I 2023-01-02 20:40:25 wer_bpe:188] reference:rangierfahrt von gleis sechs neun ins gleis delta sieben antworten\n",
      "[NeMo I 2023-01-02 20:40:25 wer_bpe:189] predicted:rangierfahrt von gleis sechs neun ins gleis delta sieben antworten\n",
      "[NeMo I 2023-01-02 20:40:25 wer_bpe:187] \n",
      "    \n",
      "[NeMo I 2023-01-02 20:40:25 wer_bpe:188] reference:umstellmanöver von charlie drei zwei via gleis victor sechs neun ins gleis golf zwei vier antworten\n",
      "[NeMo I 2023-01-02 20:40:25 wer_bpe:189] predicted:umstellmanöver von charlie drei zwei via gleis victor sechs neun ins gleis golf zwei vier antworten\n",
      "[NeMo I 2023-01-02 20:41:08 wer_bpe:187] \n",
      "    \n",
      "[NeMo I 2023-01-02 20:41:08 wer_bpe:188] reference:rangierfahrt von drei fünf ins victor sieben neun antworten\n",
      "[NeMo I 2023-01-02 20:41:08 wer_bpe:189] predicted:rangierfahrt von drei fünf ins victor sieben drei antworten\n",
      "[NeMo I 2023-01-02 20:41:36 wer_bpe:187] \n",
      "    \n",
      "[NeMo I 2023-01-02 20:41:36 wer_bpe:188] reference:rangierfahrt von gleis romeo eins neun ins lima eins vier antworten\n",
      "[NeMo I 2023-01-02 20:41:36 wer_bpe:189] predicted:rangierfahrt von gleis romeo eins neun  lima gleis vier antworten\n",
      "[NeMo I 2023-01-02 20:42:03 wer_bpe:187] \n",
      "    \n",
      "[NeMo I 2023-01-02 20:42:03 wer_bpe:188] reference:dieses gutachten wurde gesponsert von folgender firma\n",
      "[NeMo I 2023-01-02 20:42:03 wer_bpe:189] predicted:dieses gutachten wurde gesponsert von folgender firma\n",
      "[NeMo I 2023-01-02 20:42:31 wer_bpe:187] \n",
      "    \n",
      "[NeMo I 2023-01-02 20:42:31 wer_bpe:188] reference:umstellmanöver vom drei acht via gleis neun fünf nach echo sieben sieben antworten\n",
      "[NeMo I 2023-01-02 20:42:31 wer_bpe:189] predicted:umstellmanöver vom drei acht via gleis null fünf nach echo sieben sieben antworten\n"
     ]
    },
    {
     "data": {
      "application/vnd.jupyter.widget-view+json": {
       "model_id": "e42317ec183e4095ad9c911e023f211b",
       "version_major": 2,
       "version_minor": 0
      },
      "text/plain": [
       "Validation: 0it [00:00, ?it/s]"
      ]
     },
     "metadata": {},
     "output_type": "display_data"
    },
    {
     "name": "stdout",
     "output_type": "stream",
     "text": [
      "[NeMo I 2023-01-02 20:42:55 wer_bpe:187] \n",
      "    \n",
      "[NeMo I 2023-01-02 20:42:55 wer_bpe:188] reference:rangierfahrt vom gleis mike zwei drei ins drei drei antworten\n",
      "[NeMo I 2023-01-02 20:42:55 wer_bpe:189] predicted:rangierfahrt vom gleis mike zwei drei ins drei drei antworten\n",
      "[NeMo I 2023-01-02 20:42:55 wer_bpe:187] \n",
      "    \n",
      "[NeMo I 2023-01-02 20:42:55 wer_bpe:188] reference:spracheingabe\n",
      "[NeMo I 2023-01-02 20:42:55 wer_bpe:189] predicted:spracheingabe\n",
      "[NeMo I 2023-01-02 20:42:55 wer_bpe:187] \n",
      "    \n",
      "[NeMo I 2023-01-02 20:42:55 wer_bpe:188] reference:umstellmanöver vom drei sechs nach gleis xray vier sieben via null vier antworten\n",
      "[NeMo I 2023-01-02 20:42:55 wer_bpe:189] predicted:umstellmanöver vom drei sechs nach gleis xray vier sieben via null vier antworten\n",
      "[NeMo I 2023-01-02 20:42:55 wer_bpe:187] \n",
      "    \n",
      "[NeMo I 2023-01-02 20:42:55 wer_bpe:188] reference:rangierfahrt von gleis sechs neun ins gleis delta sieben antworten\n",
      "[NeMo I 2023-01-02 20:42:55 wer_bpe:189] predicted:rangierfahrt von gleis sechs neun ins gleis delta sieben antworten\n",
      "[NeMo I 2023-01-02 20:42:55 wer_bpe:187] \n",
      "    \n",
      "[NeMo I 2023-01-02 20:42:55 wer_bpe:188] reference:umstellmanöver von charlie drei zwei via gleis victor sechs neun ins gleis golf zwei vier antworten\n",
      "[NeMo I 2023-01-02 20:42:55 wer_bpe:189] predicted:umstellmanöver von charlie drei zwei via gleis victor sechs neun ins gleis golf zwei vier antworten\n"
     ]
    },
    {
     "name": "stderr",
     "output_type": "stream",
     "text": [
      "`Trainer.fit` stopped: `max_epochs=6` reached.\n"
     ]
    },
    {
     "data": {
      "text/html": [
       "Waiting for W&B process to finish... <strong style=\"color:green\">(success).</strong>"
      ],
      "text/plain": [
       "<IPython.core.display.HTML object>"
      ]
     },
     "metadata": {},
     "output_type": "display_data"
    },
    {
     "data": {
      "text/html": [
       "<style>\n",
       "    table.wandb td:nth-child(1) { padding: 0 10px; text-align: left ; width: auto;} td:nth-child(2) {text-align: left ; width: 100%}\n",
       "    .wandb-row { display: flex; flex-direction: row; flex-wrap: wrap; justify-content: flex-start; width: 100% }\n",
       "    .wandb-col { display: flex; flex-direction: column; flex-basis: 100%; flex: 1; padding: 10px; }\n",
       "    </style>\n",
       "<div class=\"wandb-row\"><div class=\"wandb-col\"><h3>Run history:</h3><br/><table class=\"wandb\"><tr><td>epoch</td><td>▁▁▁▁▁▂▂▂▂▂▂▄▄▄▄▄▄▅▅▅▅▅▇▇▇▇▇▇██████</td></tr><tr><td>global_step</td><td>▁▁▂▂▂▂▂▃▃▃▃▃▄▄▄▄▄▅▅▅▅▆▆▆▆▆▇▇▇▇▇███</td></tr><tr><td>learning_rate</td><td>▁▁▂▂▂▂▃▃▃▃▄▄▄▄▅▅▅▅▆▆▆▆▇▇▇▇██</td></tr><tr><td>train_loss</td><td>▇█▃▄▃▃▂▃▃▁▁▂▁▂▁▁▁▂▂▁▂▁▁▁▁▂▁▁</td></tr><tr><td>trainer/global_step</td><td>▁▁▂▂▂▂▂▃▃▃▃▃▄▄▄▄▄▅▅▅▅▆▆▆▆▆▇▇▇▇▇███</td></tr><tr><td>training_batch_wer</td><td>▇█▄▆▃▃▃▁▂▂▂▃▂▂▂▁▂▁▂▁▁▂▁</td></tr><tr><td>val_loss</td><td>█▄▂▂▁▁</td></tr><tr><td>val_wer</td><td>█▃▂▂▂▁</td></tr></table><br/></div><div class=\"wandb-col\"><h3>Run summary:</h3><br/><table class=\"wandb\"><tr><td>epoch</td><td>5</td></tr><tr><td>global_step</td><td>1422.0</td></tr><tr><td>learning_rate</td><td>0.00054</td></tr><tr><td>train_loss</td><td>6.60354</td></tr><tr><td>trainer/global_step</td><td>1421</td></tr><tr><td>training_batch_wer</td><td>0.12346</td></tr><tr><td>val_loss</td><td>0.76253</td></tr><tr><td>val_wer</td><td>0.01044</td></tr></table><br/></div></div>"
      ],
      "text/plain": [
       "<IPython.core.display.HTML object>"
      ]
     },
     "metadata": {},
     "output_type": "display_data"
    },
    {
     "data": {
      "text/html": [
       "Synced <strong style=\"color:#cdcd00\">fragrant-sweep-14</strong>: <a href=\"https://wandb.ai/unisg-ds-nlp/ASR/runs/ijmhrchh\" target=\"_blank\">https://wandb.ai/unisg-ds-nlp/ASR/runs/ijmhrchh</a><br/>Synced 5 W&B file(s), 0 media file(s), 6 artifact file(s) and 0 other file(s)"
      ],
      "text/plain": [
       "<IPython.core.display.HTML object>"
      ]
     },
     "metadata": {},
     "output_type": "display_data"
    },
    {
     "data": {
      "text/html": [
       "Find logs at: <code>./wandb/run-20230102_202750-ijmhrchh/logs</code>"
      ],
      "text/plain": [
       "<IPython.core.display.HTML object>"
      ]
     },
     "metadata": {},
     "output_type": "display_data"
    },
    {
     "name": "stderr",
     "output_type": "stream",
     "text": [
      "\u001b[34m\u001b[1mwandb\u001b[0m: Agent Starting Run: a1jm99g2 with config:\n",
      "\u001b[34m\u001b[1mwandb\u001b[0m: \tepoch: 7\n",
      "\u001b[34m\u001b[1mwandb\u001b[0m: \tfreq_width: 27.44230701499851\n",
      "\u001b[34m\u001b[1mwandb\u001b[0m: \tlr: 0.005007783445923379\n",
      "Failed to detect the name of this notebook, you can set it manually with the WANDB_NOTEBOOK_NAME environment variable to enable code saving.\n"
     ]
    },
    {
     "data": {
      "text/html": [
       "wandb version 0.13.7 is available!  To upgrade, please run:\n",
       " $ pip install wandb --upgrade"
      ],
      "text/plain": [
       "<IPython.core.display.HTML object>"
      ]
     },
     "metadata": {},
     "output_type": "display_data"
    },
    {
     "data": {
      "text/html": [
       "Tracking run with wandb version 0.13.4"
      ],
      "text/plain": [
       "<IPython.core.display.HTML object>"
      ]
     },
     "metadata": {},
     "output_type": "display_data"
    },
    {
     "data": {
      "text/html": [
       "Run data is saved locally in <code>/home/user/code/sbb_asr/notebooks/wandb/run-20230102_204345-a1jm99g2</code>"
      ],
      "text/plain": [
       "<IPython.core.display.HTML object>"
      ]
     },
     "metadata": {},
     "output_type": "display_data"
    },
    {
     "data": {
      "text/html": [
       "Syncing run <strong><a href=\"https://wandb.ai/unisg-ds-nlp/ASR/runs/a1jm99g2\" target=\"_blank\">quiet-sweep-15</a></strong> to <a href=\"https://wandb.ai/unisg-ds-nlp/ASR\" target=\"_blank\">Weights & Biases</a> (<a href=\"https://wandb.me/run\" target=\"_blank\">docs</a>)<br/>Sweep page:  <a href=\"https://wandb.ai/unisg-ds-nlp/ASR/sweeps/v7qi12lc\" target=\"_blank\">https://wandb.ai/unisg-ds-nlp/ASR/sweeps/v7qi12lc</a>"
      ],
      "text/plain": [
       "<IPython.core.display.HTML object>"
      ]
     },
     "metadata": {},
     "output_type": "display_data"
    },
    {
     "name": "stderr",
     "output_type": "stream",
     "text": [
      "[NeMo W 2023-01-02 20:43:46 nemo_logging:349] /home/user/.local/lib/python3.9/site-packages/pytorch_lightning/loggers/wandb.py:352: UserWarning: There is a wandb run already in progress and newly created instances of `WandbLogger` will reuse this run. If this is not desired, call `wandb.finish()` before instantiating `WandbLogger`.\n",
      "      rank_zero_warn(\n",
      "    \n",
      "[NeMo W 2023-01-02 20:43:46 nemo_logging:349] /home/user/.local/lib/python3.9/site-packages/pytorch_lightning/trainer/connectors/accelerator_connector.py:447: LightningDeprecationWarning: Setting `Trainer(gpus=1)` is deprecated in v1.7 and will be removed in v2.0. Please use `Trainer(accelerator='gpu', devices=1)` instead.\n",
      "      rank_zero_deprecation(\n",
      "    \n",
      "GPU available: True (cuda), used: True\n",
      "TPU available: False, using: 0 TPU cores\n",
      "IPU available: False, using: 0 IPUs\n",
      "HPU available: False, using: 0 HPUs\n"
     ]
    },
    {
     "name": "stdout",
     "output_type": "stream",
     "text": [
      "[NeMo I 2023-01-02 20:43:48 cloud:56] Found existing object /home/user/.cache/torch/NeMo/NeMo_1.12.0/stt_de_citrinet_1024/8743e4cecb8017ca2b49a035e07b2893/stt_de_citrinet_1024.nemo.\n",
      "[NeMo I 2023-01-02 20:43:48 cloud:62] Re-using file from: /home/user/.cache/torch/NeMo/NeMo_1.12.0/stt_de_citrinet_1024/8743e4cecb8017ca2b49a035e07b2893/stt_de_citrinet_1024.nemo\n",
      "[NeMo I 2023-01-02 20:43:48 common:910] Instantiating model from pre-trained checkpoint\n",
      "[NeMo I 2023-01-02 20:43:54 mixins:170] Tokenizer SentencePieceTokenizer initialized with 1024 tokens\n"
     ]
    },
    {
     "name": "stderr",
     "output_type": "stream",
     "text": [
      "[NeMo W 2023-01-02 20:43:55 modelPT:142] If you intend to do training or fine-tuning, please call the ModelPT.setup_training_data() method and provide a valid configuration file to setup the train data loader.\n",
      "    Train config : \n",
      "    manifest_filepath: /data/train/tarred_audio_manifest.json\n",
      "    sample_rate: 16000\n",
      "    batch_size: 32\n",
      "    trim_silence: false\n",
      "    max_duration: 35.0\n",
      "    shuffle: true\n",
      "    is_tarred: true\n",
      "    tarred_audio_filepaths: /data/train/audio__OP_0..1023_CL_.tar\n",
      "    use_start_end_token: false\n",
      "    shuffle_n: 1024\n",
      "    num_workers: 16\n",
      "    pin_memory: true\n",
      "    \n",
      "[NeMo W 2023-01-02 20:43:55 modelPT:149] If you intend to do validation, please call the ModelPT.setup_validation_data() or ModelPT.setup_multiple_validation_data() method and provide a valid configuration file to setup the validation data loader(s). \n",
      "    Validation config : \n",
      "    manifest_filepath:\n",
      "    - /data/voxpopuli_de/dev/voxpopuli_dev_manifest.json\n",
      "    - /data/voxpopuli_de/test/voxpopuli_test_manifest.json\n",
      "    - /data/mcv7.0_de/mcv7.0_dev_manifest_cleaned.json\n",
      "    - /data/mcv7.0_de/mcv7.0_test_manifest_cleaned.json\n",
      "    - /data/mls_de/mls_dev_manifest_cleaned.json\n",
      "    - /data/mls_de/mls_test_manifest_cleaned.json\n",
      "    sample_rate: 16000\n",
      "    batch_size: 8\n",
      "    shuffle: false\n",
      "    use_start_end_token: false\n",
      "    num_workers: 8\n",
      "    pin_memory: true\n",
      "    \n",
      "[NeMo W 2023-01-02 20:43:55 modelPT:155] Please call the ModelPT.setup_test_data() or ModelPT.setup_multiple_test_data() method and provide a valid configuration file to setup the test data loader(s).\n",
      "    Test config : \n",
      "    manifest_filepath: null\n",
      "    sample_rate: 16000\n",
      "    batch_size: 32\n",
      "    shuffle: false\n",
      "    use_start_end_token: false\n",
      "    \n"
     ]
    },
    {
     "name": "stdout",
     "output_type": "stream",
     "text": [
      "[NeMo I 2023-01-02 20:43:55 features:225] PADDING: 16\n",
      "[NeMo I 2023-01-02 20:44:01 save_restore_connector:243] Model EncDecCTCModelBPE was successfully restored from /home/user/.cache/torch/NeMo/NeMo_1.12.0/stt_de_citrinet_1024/8743e4cecb8017ca2b49a035e07b2893/stt_de_citrinet_1024.nemo.\n",
      "[NeMo I 2023-01-02 20:44:02 collections:194] Dataset loaded with 1890 files totalling 7.41 hours\n",
      "[NeMo I 2023-01-02 20:44:02 collections:195] 0 files were filtered totalling 0.00 hours\n",
      "[NeMo I 2023-01-02 20:44:02 collections:194] Dataset loaded with 34 files totalling 0.13 hours\n",
      "[NeMo I 2023-01-02 20:44:02 collections:195] 0 files were filtered totalling 0.00 hours\n",
      "[NeMo I 2023-01-02 20:44:02 collections:194] Dataset loaded with 34 files totalling 0.14 hours\n",
      "[NeMo I 2023-01-02 20:44:02 collections:195] 0 files were filtered totalling 0.00 hours\n",
      "[NeMo I 2023-01-02 20:44:02 modelPT:597] Optimizer config = Novograd (\n",
      "    Parameter Group 0\n",
      "        amsgrad: False\n",
      "        betas: [0.8, 0.25]\n",
      "        eps: 1e-08\n",
      "        grad_averaging: False\n",
      "        lr: 0.005007783445923379\n",
      "        weight_decay: 0.001\n",
      "    )\n",
      "[NeMo I 2023-01-02 20:44:02 lr_scheduler:910] Scheduler \"<nemo.core.optim.lr_scheduler.CosineAnnealing object at 0x7f842c9efe80>\" \n",
      "    will be used during training (effective maximum steps = 1659) - \n",
      "    Parameters : \n",
      "    (warmup_steps: 10000\n",
      "    warmup_ratio: null\n",
      "    min_lr: 1.0e-05\n",
      "    last_epoch: -1\n",
      "    max_steps: 1659\n",
      "    )\n"
     ]
    },
    {
     "name": "stderr",
     "output_type": "stream",
     "text": [
      "LOCAL_RANK: 0 - CUDA_VISIBLE_DEVICES: [0,1,2,3]\n"
     ]
    },
    {
     "name": "stdout",
     "output_type": "stream",
     "text": [
      "[NeMo I 2023-01-02 20:44:02 modelPT:597] Optimizer config = Novograd (\n",
      "    Parameter Group 0\n",
      "        amsgrad: False\n",
      "        betas: [0.8, 0.25]\n",
      "        eps: 1e-08\n",
      "        grad_averaging: False\n",
      "        lr: 0.005007783445923379\n",
      "        weight_decay: 0.001\n",
      "    )\n",
      "[NeMo I 2023-01-02 20:44:02 lr_scheduler:910] Scheduler \"<nemo.core.optim.lr_scheduler.CosineAnnealing object at 0x7f835ea9c910>\" \n",
      "    will be used during training (effective maximum steps = 1659) - \n",
      "    Parameters : \n",
      "    (warmup_steps: 10000\n",
      "    warmup_ratio: null\n",
      "    min_lr: 1.0e-05\n",
      "    last_epoch: -1\n",
      "    max_steps: 1659\n",
      "    )\n"
     ]
    },
    {
     "name": "stderr",
     "output_type": "stream",
     "text": [
      "\n",
      "  | Name              | Type                              | Params\n",
      "------------------------------------------------------------------------\n",
      "0 | preprocessor      | AudioToMelSpectrogramPreprocessor | 0     \n",
      "1 | encoder           | ConvASREncoder                    | 140 M \n",
      "2 | decoder           | ConvASRDecoder                    | 1.1 M \n",
      "3 | loss              | CTCLoss                           | 0     \n",
      "4 | spec_augmentation | SpectrogramAugmentation           | 0     \n",
      "5 | _wer              | WERBPE                            | 0     \n",
      "------------------------------------------------------------------------\n",
      "141 M     Trainable params\n",
      "0         Non-trainable params\n",
      "141 M     Total params\n",
      "564.897   Total estimated model params size (MB)\n"
     ]
    },
    {
     "data": {
      "application/vnd.jupyter.widget-view+json": {
       "model_id": "61beba8b2220414d9cec38339c90b002",
       "version_major": 2,
       "version_minor": 0
      },
      "text/plain": [
       "Sanity Checking: 0it [00:00, ?it/s]"
      ]
     },
     "metadata": {},
     "output_type": "display_data"
    },
    {
     "name": "stdout",
     "output_type": "stream",
     "text": [
      "[NeMo I 2023-01-02 20:44:05 wer_bpe:187] \n",
      "    \n",
      "[NeMo I 2023-01-02 20:44:05 wer_bpe:188] reference:rangierfahrt vom gleis mike zwei drei ins drei drei antworten\n",
      "[NeMo I 2023-01-02 20:44:05 wer_bpe:189] predicted:prongierfahrt vom gleis maik zwei drei ins drei drei antworten\n",
      "[NeMo I 2023-01-02 20:44:05 wer_bpe:187] \n",
      "    \n",
      "[NeMo I 2023-01-02 20:44:05 wer_bpe:188] reference:spracheingabe\n",
      "[NeMo I 2023-01-02 20:44:05 wer_bpe:189] predicted:spracheingabe\n"
     ]
    },
    {
     "data": {
      "application/vnd.jupyter.widget-view+json": {
       "model_id": "7535eabe633b4c6a9b5353b4d1eb72b0",
       "version_major": 2,
       "version_minor": 0
      },
      "text/plain": [
       "Training: 0it [00:00, ?it/s]"
      ]
     },
     "metadata": {},
     "output_type": "display_data"
    },
    {
     "name": "stdout",
     "output_type": "stream",
     "text": [
      "[NeMo I 2023-01-02 20:44:38 wer_bpe:187] \n",
      "    \n",
      "[NeMo I 2023-01-02 20:44:38 wer_bpe:188] reference:umstellmanöver vom mike zwei null via gleis xray null sechs ins gleis eins sieben antworten\n",
      "[NeMo I 2023-01-02 20:44:38 wer_bpe:189] predicted:zweislei ein sie\n",
      "[NeMo I 2023-01-02 20:45:06 wer_bpe:187] \n",
      "    \n",
      "[NeMo I 2023-01-02 20:45:06 wer_bpe:188] reference:umstellmanöver von gleis sieben ins gleis sechs neun via gleis yankee vier zwei antworten\n",
      "[NeMo I 2023-01-02 20:45:06 wer_bpe:189] predicted:ö sieben ins gleis sexsykei vier z\n",
      "[NeMo I 2023-01-02 20:45:34 wer_bpe:187] \n",
      "    \n",
      "[NeMo I 2023-01-02 20:45:34 wer_bpe:188] reference:umstellmanöver vom hotel acht zwei nach zwei sieben via golf sechs acht antworten\n",
      "[NeMo I 2023-01-02 20:45:34 wer_bpe:189] predicted:um vom hotel acht nach zwei via golf sechs acht antworten\n",
      "[NeMo I 2023-01-02 20:46:02 wer_bpe:187] \n",
      "    \n",
      "[NeMo I 2023-01-02 20:46:02 wer_bpe:188] reference:rangierfahrt von neun vier ins null sechs antworten\n",
      "[NeMo I 2023-01-02 20:46:02 wer_bpe:189] predicted:rangierfahrt vom ia nl sechs antworten\n"
     ]
    },
    {
     "data": {
      "application/vnd.jupyter.widget-view+json": {
       "model_id": "a0ce74e8b1f8441d9fdf6c2750bd1c62",
       "version_major": 2,
       "version_minor": 0
      },
      "text/plain": [
       "Validation: 0it [00:00, ?it/s]"
      ]
     },
     "metadata": {},
     "output_type": "display_data"
    },
    {
     "name": "stdout",
     "output_type": "stream",
     "text": [
      "[NeMo I 2023-01-02 20:46:25 wer_bpe:187] \n",
      "    \n",
      "[NeMo I 2023-01-02 20:46:25 wer_bpe:188] reference:rangierfahrt vom gleis mike zwei drei ins drei drei antworten\n",
      "[NeMo I 2023-01-02 20:46:25 wer_bpe:189] predicted:rangierfahrt vom gleis mike zwei drei ins drei drei antworten\n",
      "[NeMo I 2023-01-02 20:46:26 wer_bpe:187] \n",
      "    \n",
      "[NeMo I 2023-01-02 20:46:26 wer_bpe:188] reference:spracheingabe\n",
      "[NeMo I 2023-01-02 20:46:26 wer_bpe:189] predicted:sprach eingabe\n",
      "[NeMo I 2023-01-02 20:46:26 wer_bpe:187] \n",
      "    \n",
      "[NeMo I 2023-01-02 20:46:26 wer_bpe:188] reference:umstellmanöver vom drei sechs nach gleis xray vier sieben via null vier antworten\n",
      "[NeMo I 2023-01-02 20:46:26 wer_bpe:189] predicted:umstellmanöver vom drei sechs nach gleis xray vier sieben via null vier antworten\n",
      "[NeMo I 2023-01-02 20:46:26 wer_bpe:187] \n",
      "    \n",
      "[NeMo I 2023-01-02 20:46:26 wer_bpe:188] reference:rangierfahrt von gleis sechs neun ins gleis delta sieben antworten\n",
      "[NeMo I 2023-01-02 20:46:26 wer_bpe:189] predicted:rangierfahrt von gleis sechs neun ins gleis delta sieben antworten\n",
      "[NeMo I 2023-01-02 20:46:26 wer_bpe:187] \n",
      "    \n",
      "[NeMo I 2023-01-02 20:46:26 wer_bpe:188] reference:umstellmanöver von charlie drei zwei via gleis victor sechs neun ins gleis golf zwei vier antworten\n",
      "[NeMo I 2023-01-02 20:46:26 wer_bpe:189] predicted:umstellmanöver von charlie drei zwei via gleis victor sechs neun ins gleis golf zwei vier antworten\n",
      "[NeMo I 2023-01-02 20:47:10 wer_bpe:187] \n",
      "    \n",
      "[NeMo I 2023-01-02 20:47:10 wer_bpe:188] reference:rangierfahrt von mike fünf sieben nach gleis fünf drei antworten\n",
      "[NeMo I 2023-01-02 20:47:10 wer_bpe:189] predicted:rangierfahrt von mike fünf sieben nach gleis fünf drei antworten\n",
      "[NeMo I 2023-01-02 20:47:37 wer_bpe:187] \n",
      "    \n",
      "[NeMo I 2023-01-02 20:47:37 wer_bpe:188] reference:rangierfahrt von gleis sieben neun nach sechs fünf antworten\n",
      "[NeMo I 2023-01-02 20:47:37 wer_bpe:189] predicted:rangierfahrt von gleis sieben neun nach sechs fünf antworten\n",
      "[NeMo I 2023-01-02 20:48:05 wer_bpe:187] \n",
      "    \n",
      "[NeMo I 2023-01-02 20:48:05 wer_bpe:188] reference:rangierfahrt vom kilo zwei sieben ins vier sieben antworten\n",
      "[NeMo I 2023-01-02 20:48:05 wer_bpe:189] predicted:rangierfahrt vom kilo zwei sieben ins vier sieben antworten rangierfahrt vom g zwei sieben ins vier sieben antworten\n",
      "[NeMo I 2023-01-02 20:48:33 wer_bpe:187] \n",
      "    \n",
      "[NeMo I 2023-01-02 20:48:33 wer_bpe:188] reference:umstellmanöver vom gleis alpha sieben drei nach gleis null null via gleis yankee null acht antworten\n",
      "[NeMo I 2023-01-02 20:48:33 wer_bpe:189] predicted:umstellmanöver von gleis alha drei nach gleis ull null v gleis ke acht\n"
     ]
    },
    {
     "data": {
      "application/vnd.jupyter.widget-view+json": {
       "model_id": "cfb47c8cd8a441148b073ef55c87c197",
       "version_major": 2,
       "version_minor": 0
      },
      "text/plain": [
       "Validation: 0it [00:00, ?it/s]"
      ]
     },
     "metadata": {},
     "output_type": "display_data"
    },
    {
     "name": "stdout",
     "output_type": "stream",
     "text": [
      "[NeMo I 2023-01-02 20:48:56 wer_bpe:187] \n",
      "    \n",
      "[NeMo I 2023-01-02 20:48:56 wer_bpe:188] reference:rangierfahrt vom gleis mike zwei drei ins drei drei antworten\n",
      "[NeMo I 2023-01-02 20:48:56 wer_bpe:189] predicted:rangierfahrt vom gleis mike zwei drei ins drei drei antworten\n",
      "[NeMo I 2023-01-02 20:48:56 wer_bpe:187] \n",
      "    \n",
      "[NeMo I 2023-01-02 20:48:56 wer_bpe:188] reference:spracheingabe\n",
      "[NeMo I 2023-01-02 20:48:56 wer_bpe:189] predicted:spracheingabe\n",
      "[NeMo I 2023-01-02 20:48:56 wer_bpe:187] \n",
      "    \n",
      "[NeMo I 2023-01-02 20:48:56 wer_bpe:188] reference:umstellmanöver vom drei sechs nach gleis xray vier sieben via null vier antworten\n",
      "[NeMo I 2023-01-02 20:48:56 wer_bpe:189] predicted:umstellmanöver vom drei sechs nach gleis xray vier sieben via null vier antworten\n",
      "[NeMo I 2023-01-02 20:48:57 wer_bpe:187] \n",
      "    \n",
      "[NeMo I 2023-01-02 20:48:57 wer_bpe:188] reference:rangierfahrt von gleis sechs neun ins gleis delta sieben antworten\n",
      "[NeMo I 2023-01-02 20:48:57 wer_bpe:189] predicted:rangierfahrt von gleis sechs neun ins gleis delta sieben antworten\n",
      "[NeMo I 2023-01-02 20:48:57 wer_bpe:187] \n",
      "    \n",
      "[NeMo I 2023-01-02 20:48:57 wer_bpe:188] reference:umstellmanöver von charlie drei zwei via gleis victor sechs neun ins gleis golf zwei vier antworten\n",
      "[NeMo I 2023-01-02 20:48:57 wer_bpe:189] predicted:umstellmanöver von charlie drei zwei via gleis victor sechs neun ins gleis golf zwei vier antworten\n",
      "[NeMo I 2023-01-02 20:49:40 wer_bpe:187] \n",
      "    \n",
      "[NeMo I 2023-01-02 20:49:40 wer_bpe:188] reference:umstellmanöver von tango neun acht ins gleis whisky zwei drei via gleis zwei fünf antworten\n",
      "[NeMo I 2023-01-02 20:49:40 wer_bpe:189] predicted:umstellmanöver vom tango neun acht ins gleis whisky zwei drei via gleis zwei fünf antwort\n",
      "[NeMo I 2023-01-02 20:50:08 wer_bpe:187] \n",
      "    \n",
      "[NeMo I 2023-01-02 20:50:08 wer_bpe:188] reference:rangierfahrt vom victor null fünf nach gleis neun vier antworten\n",
      "[NeMo I 2023-01-02 20:50:08 wer_bpe:189] predicted:rangierfahrt vom victor null fünf nach gleis neun vier antworten\n",
      "[NeMo I 2023-01-02 20:50:36 wer_bpe:187] \n",
      "    \n",
      "[NeMo I 2023-01-02 20:50:36 wer_bpe:188] reference:rangierfahrt von gleis sieben sieben ins eins zwei antworten\n",
      "[NeMo I 2023-01-02 20:50:36 wer_bpe:189] predicted:rangierfahrt von gleis sieben sieben g eins zwei antworten\n",
      "[NeMo I 2023-01-02 20:51:03 wer_bpe:187] \n",
      "    \n",
      "[NeMo I 2023-01-02 20:51:03 wer_bpe:188] reference:umstellmanöver vom lima sechs via uniform sechs und sieben ins zwei antworten\n",
      "[NeMo I 2023-01-02 20:51:03 wer_bpe:189] predicted:umstellmanöver vom v sechs v g sechs und sieben in zwei antworten\n"
     ]
    },
    {
     "data": {
      "application/vnd.jupyter.widget-view+json": {
       "model_id": "410ce3ca4f184415863a1dc02ff8131a",
       "version_major": 2,
       "version_minor": 0
      },
      "text/plain": [
       "Validation: 0it [00:00, ?it/s]"
      ]
     },
     "metadata": {},
     "output_type": "display_data"
    },
    {
     "name": "stdout",
     "output_type": "stream",
     "text": [
      "[NeMo I 2023-01-02 20:51:27 wer_bpe:187] \n",
      "    \n",
      "[NeMo I 2023-01-02 20:51:27 wer_bpe:188] reference:rangierfahrt vom gleis mike zwei drei ins drei drei antworten\n",
      "[NeMo I 2023-01-02 20:51:27 wer_bpe:189] predicted:rangierfahrt vom gleis mike zwei drei ins drei drei antworten\n",
      "[NeMo I 2023-01-02 20:51:27 wer_bpe:187] \n",
      "    \n",
      "[NeMo I 2023-01-02 20:51:27 wer_bpe:188] reference:spracheingabe\n",
      "[NeMo I 2023-01-02 20:51:27 wer_bpe:189] predicted:spracheingabe\n",
      "[NeMo I 2023-01-02 20:51:27 wer_bpe:187] \n",
      "    \n",
      "[NeMo I 2023-01-02 20:51:27 wer_bpe:188] reference:umstellmanöver vom drei sechs nach gleis xray vier sieben via null vier antworten\n",
      "[NeMo I 2023-01-02 20:51:27 wer_bpe:189] predicted:umstellmanöver vom drei sechs nach gleis xray vier sieben via null vier antworten\n",
      "[NeMo I 2023-01-02 20:51:27 wer_bpe:187] \n",
      "    \n",
      "[NeMo I 2023-01-02 20:51:27 wer_bpe:188] reference:rangierfahrt von gleis sechs neun ins gleis delta sieben antworten\n",
      "[NeMo I 2023-01-02 20:51:27 wer_bpe:189] predicted:rangierfahrt von gleis sechs neun ins gleis delta sieben antworten\n",
      "[NeMo I 2023-01-02 20:51:27 wer_bpe:187] \n",
      "    \n",
      "[NeMo I 2023-01-02 20:51:27 wer_bpe:188] reference:umstellmanöver von charlie drei zwei via gleis victor sechs neun ins gleis golf zwei vier antworten\n",
      "[NeMo I 2023-01-02 20:51:27 wer_bpe:189] predicted:umstellmanöver von charlie drei zwei via gleis victor sechs neun ins gleis golf zwei vier antworten\n",
      "[NeMo I 2023-01-02 20:52:14 wer_bpe:187] \n",
      "    \n",
      "[NeMo I 2023-01-02 20:52:14 wer_bpe:188] reference:umstellmanöver vom drei neun via foxtrot sechs sechs ins gleis mike acht acht antworten\n",
      "[NeMo I 2023-01-02 20:52:14 wer_bpe:189] predicted:umstellmanöver vom sie drei sie via foxtrot sechs sechs ins gleis mike acht acht antworten\n",
      "[NeMo I 2023-01-02 20:52:42 wer_bpe:187] \n",
      "    \n",
      "[NeMo I 2023-01-02 20:52:42 wer_bpe:188] reference:der käfer ist nur schwach gewölbt\n",
      "[NeMo I 2023-01-02 20:52:42 wer_bpe:189] predicted:der käfer ist nur schwach gewölt\n",
      "[NeMo I 2023-01-02 20:53:10 wer_bpe:187] \n",
      "    \n",
      "[NeMo I 2023-01-02 20:53:10 wer_bpe:188] reference:umstellmanöver von vier fünf via gleis lima eins vier nach acht neun antworten\n",
      "[NeMo I 2023-01-02 20:53:10 wer_bpe:189] predicted:umstellmanöver von vier fünf ins gleis lima eins zu nach acht  antworten\n",
      "[NeMo I 2023-01-02 20:53:38 wer_bpe:187] \n",
      "    \n",
      "[NeMo I 2023-01-02 20:53:38 wer_bpe:188] reference:rangierfahrt vom null eins ins gleis drei neun antworten\n",
      "[NeMo I 2023-01-02 20:53:38 wer_bpe:189] predicted:rangierfahrt vom null eins ins gleis drei neun antworten\n"
     ]
    },
    {
     "data": {
      "application/vnd.jupyter.widget-view+json": {
       "model_id": "fa35e648ff574012bd9dfa7e931522cb",
       "version_major": 2,
       "version_minor": 0
      },
      "text/plain": [
       "Validation: 0it [00:00, ?it/s]"
      ]
     },
     "metadata": {},
     "output_type": "display_data"
    },
    {
     "name": "stdout",
     "output_type": "stream",
     "text": [
      "[NeMo I 2023-01-02 20:54:02 wer_bpe:187] \n",
      "    \n",
      "[NeMo I 2023-01-02 20:54:02 wer_bpe:188] reference:rangierfahrt vom gleis mike zwei drei ins drei drei antworten\n",
      "[NeMo I 2023-01-02 20:54:02 wer_bpe:189] predicted:rangierfahrt vom gleis mike zwei drei ins drei drei antworten\n",
      "[NeMo I 2023-01-02 20:54:02 wer_bpe:187] \n",
      "    \n",
      "[NeMo I 2023-01-02 20:54:02 wer_bpe:188] reference:spracheingabe\n",
      "[NeMo I 2023-01-02 20:54:02 wer_bpe:189] predicted:spracheingabe\n",
      "[NeMo I 2023-01-02 20:54:02 wer_bpe:187] \n",
      "    \n",
      "[NeMo I 2023-01-02 20:54:02 wer_bpe:188] reference:umstellmanöver vom drei sechs nach gleis xray vier sieben via null vier antworten\n",
      "[NeMo I 2023-01-02 20:54:02 wer_bpe:189] predicted:umstellmanöver vom drei sechs nach gleis xray vier sieben via null vier antworten\n",
      "[NeMo I 2023-01-02 20:54:02 wer_bpe:187] \n",
      "    \n",
      "[NeMo I 2023-01-02 20:54:02 wer_bpe:188] reference:rangierfahrt von gleis sechs neun ins gleis delta sieben antworten\n",
      "[NeMo I 2023-01-02 20:54:02 wer_bpe:189] predicted:rangierfahrt von gleis sechs neun ins gleis delta sieben antworten\n",
      "[NeMo I 2023-01-02 20:54:03 wer_bpe:187] \n",
      "    \n",
      "[NeMo I 2023-01-02 20:54:03 wer_bpe:188] reference:umstellmanöver von charlie drei zwei via gleis victor sechs neun ins gleis golf zwei vier antworten\n",
      "[NeMo I 2023-01-02 20:54:03 wer_bpe:189] predicted:umstellmanöver von charlie drei zwei via gleis victor sechs neun ins gleis golf zwei vier antworten\n",
      "[NeMo I 2023-01-02 20:54:44 wer_bpe:187] \n",
      "    \n",
      "[NeMo I 2023-01-02 20:54:44 wer_bpe:188] reference:umstellmanöver von vier fünf via gleis lima eins vier nach acht neun antworten\n",
      "[NeMo I 2023-01-02 20:54:44 wer_bpe:189] predicted:umstellmanöver von vier fünf via gleis lima eins vier nach acht nach antworten\n",
      "[NeMo I 2023-01-02 20:55:12 wer_bpe:187] \n",
      "    \n",
      "[NeMo I 2023-01-02 20:55:12 wer_bpe:188] reference:rangierfahrt von gleis romeo eins neun ins lima eins vier antworten\n",
      "[NeMo I 2023-01-02 20:55:12 wer_bpe:189] predicted:rangierfahrt von gleis romeo eins sie ins lima eins vier antworten\n",
      "[NeMo I 2023-01-02 20:55:40 wer_bpe:187] \n",
      "    \n",
      "[NeMo I 2023-01-02 20:55:40 wer_bpe:188] reference:umstellmanöver von vier null ins gleis drei via whisky zwei neun antworten\n",
      "[NeMo I 2023-01-02 20:55:40 wer_bpe:189] predicted:umstellmanöver von vier neunl ins gleis drei via whisky zwei neun antworten\n",
      "[NeMo I 2023-01-02 20:56:08 wer_bpe:187] \n",
      "    \n",
      "[NeMo I 2023-01-02 20:56:08 wer_bpe:188] reference:umstellmanöver vom null acht via gleis sieben acht ins gleis fünf eins antworten\n",
      "[NeMo I 2023-01-02 20:56:08 wer_bpe:189] predicted:umstellmanöver vom null acht via gleis sieben acht ins gleis fünf neun antworten\n"
     ]
    },
    {
     "data": {
      "application/vnd.jupyter.widget-view+json": {
       "model_id": "810a044b01b54bc8a9b73eb2d615e3b9",
       "version_major": 2,
       "version_minor": 0
      },
      "text/plain": [
       "Validation: 0it [00:00, ?it/s]"
      ]
     },
     "metadata": {},
     "output_type": "display_data"
    },
    {
     "name": "stdout",
     "output_type": "stream",
     "text": [
      "[NeMo I 2023-01-02 20:56:31 wer_bpe:187] \n",
      "    \n",
      "[NeMo I 2023-01-02 20:56:31 wer_bpe:188] reference:rangierfahrt vom gleis mike zwei drei ins drei drei antworten\n",
      "[NeMo I 2023-01-02 20:56:31 wer_bpe:189] predicted:rangierfahrt vom gleis mike zwei drei ins drei drei antworten\n",
      "[NeMo I 2023-01-02 20:56:31 wer_bpe:187] \n",
      "    \n",
      "[NeMo I 2023-01-02 20:56:31 wer_bpe:188] reference:spracheingabe\n",
      "[NeMo I 2023-01-02 20:56:31 wer_bpe:189] predicted:spracheingabe\n",
      "[NeMo I 2023-01-02 20:56:31 wer_bpe:187] \n",
      "    \n",
      "[NeMo I 2023-01-02 20:56:31 wer_bpe:188] reference:umstellmanöver vom drei sechs nach gleis xray vier sieben via null vier antworten\n",
      "[NeMo I 2023-01-02 20:56:31 wer_bpe:189] predicted:umstellmanöver vom drei sechs nach gleis xray vier sieben via null vier antworten\n",
      "[NeMo I 2023-01-02 20:56:32 wer_bpe:187] \n",
      "    \n",
      "[NeMo I 2023-01-02 20:56:32 wer_bpe:188] reference:rangierfahrt von gleis sechs neun ins gleis delta sieben antworten\n",
      "[NeMo I 2023-01-02 20:56:32 wer_bpe:189] predicted:rangierfahrt von gleis sechs neun ins gleis delta sieben antworten\n",
      "[NeMo I 2023-01-02 20:56:32 wer_bpe:187] \n",
      "    \n",
      "[NeMo I 2023-01-02 20:56:32 wer_bpe:188] reference:umstellmanöver von charlie drei zwei via gleis victor sechs neun ins gleis golf zwei vier antworten\n",
      "[NeMo I 2023-01-02 20:56:32 wer_bpe:189] predicted:umstellmanöver von charlie drei zwei via gleis victor sechs neun ins gleis golf zwei vier antworten\n",
      "[NeMo I 2023-01-02 20:57:13 wer_bpe:187] \n",
      "    \n",
      "[NeMo I 2023-01-02 20:57:13 wer_bpe:188] reference:rangierfahrt vom drei vier ins alpha sechs sechs antworten\n",
      "[NeMo I 2023-01-02 20:57:13 wer_bpe:189] predicted:rangierfahrt vom drei vier inleis alpha sechs sechs antworten\n",
      "[NeMo I 2023-01-02 20:57:41 wer_bpe:187] \n",
      "    \n",
      "[NeMo I 2023-01-02 20:57:41 wer_bpe:188] reference:rangierfahrt von gleis sieben sieben ins eins zwei antworten\n",
      "[NeMo I 2023-01-02 20:57:41 wer_bpe:189] predicted:rangierfahrt vom gleis sieben sieben ins eins sie antworten\n",
      "[NeMo I 2023-01-02 20:58:09 wer_bpe:187] \n",
      "    \n",
      "[NeMo I 2023-01-02 20:58:09 wer_bpe:188] reference:umstellmanöver vom null vier via sechs drei ins gleis sieben null antworten\n",
      "[NeMo I 2023-01-02 20:58:09 wer_bpe:189] predicted:umstellmanöver vom null vierias sechs drei ins gleis neu null antworten\n",
      "[NeMo I 2023-01-02 20:58:37 wer_bpe:187] \n",
      "    \n",
      "[NeMo I 2023-01-02 20:58:37 wer_bpe:188] reference:rangierfahrt vom india sechs fünf nach gleis uniform sieben antworten\n",
      "[NeMo I 2023-01-02 20:58:37 wer_bpe:189] predicted:rangierfahrt vom inia sechs fünf nach gleis uniform sieben antworten\n"
     ]
    },
    {
     "data": {
      "application/vnd.jupyter.widget-view+json": {
       "model_id": "2df6e181d9004451aa28471ef7d67966",
       "version_major": 2,
       "version_minor": 0
      },
      "text/plain": [
       "Validation: 0it [00:00, ?it/s]"
      ]
     },
     "metadata": {},
     "output_type": "display_data"
    },
    {
     "name": "stdout",
     "output_type": "stream",
     "text": [
      "[NeMo I 2023-01-02 20:59:01 wer_bpe:187] \n",
      "    \n",
      "[NeMo I 2023-01-02 20:59:01 wer_bpe:188] reference:rangierfahrt vom gleis mike zwei drei ins drei drei antworten\n",
      "[NeMo I 2023-01-02 20:59:01 wer_bpe:189] predicted:rangierfahrt von gleis mike zwei drei ins drei drei antworten\n",
      "[NeMo I 2023-01-02 20:59:01 wer_bpe:187] \n",
      "    \n",
      "[NeMo I 2023-01-02 20:59:01 wer_bpe:188] reference:spracheingabe\n",
      "[NeMo I 2023-01-02 20:59:01 wer_bpe:189] predicted:spracheingabe\n",
      "[NeMo I 2023-01-02 20:59:01 wer_bpe:187] \n",
      "    \n",
      "[NeMo I 2023-01-02 20:59:01 wer_bpe:188] reference:umstellmanöver vom drei sechs nach gleis xray vier sieben via null vier antworten\n",
      "[NeMo I 2023-01-02 20:59:01 wer_bpe:189] predicted:umstellmanöver vom drei sechs nach gleis xray vier sieben via null vier antworten\n",
      "[NeMo I 2023-01-02 20:59:01 wer_bpe:187] \n",
      "    \n",
      "[NeMo I 2023-01-02 20:59:01 wer_bpe:188] reference:rangierfahrt von gleis sechs neun ins gleis delta sieben antworten\n",
      "[NeMo I 2023-01-02 20:59:01 wer_bpe:189] predicted:rangierfahrt von gleis sechs neun ins gleis delta sieben antworten\n",
      "[NeMo I 2023-01-02 20:59:01 wer_bpe:187] \n",
      "    \n",
      "[NeMo I 2023-01-02 20:59:01 wer_bpe:188] reference:umstellmanöver von charlie drei zwei via gleis victor sechs neun ins gleis golf zwei vier antworten\n",
      "[NeMo I 2023-01-02 20:59:01 wer_bpe:189] predicted:umstellmanöver von charlie drei zwei via gleis victor sechs neun ins gleis golf zwei vier antworten\n",
      "[NeMo I 2023-01-02 20:59:45 wer_bpe:187] \n",
      "    \n",
      "[NeMo I 2023-01-02 20:59:45 wer_bpe:188] reference:umstellmanöver vom gleis golf neun acht via gleis uniform eins nach gleis bravo acht vier antworten\n",
      "[NeMo I 2023-01-02 20:59:45 wer_bpe:189] predicted:umstellmanöver vom gleis golf neun acht via gleis uniform eins nach gleis ro acht vier antworten\n",
      "[NeMo I 2023-01-02 21:00:13 wer_bpe:187] \n",
      "    \n",
      "[NeMo I 2023-01-02 21:00:13 wer_bpe:188] reference:umstellmanöver vom fünf via gleis vier vier nach gleis yankee null null antworten\n",
      "[NeMo I 2023-01-02 21:00:13 wer_bpe:189] predicted:umstellmanöver vom fünf via gleis vier vier nach drei yankee null neun antworten\n",
      "[NeMo I 2023-01-02 21:00:40 wer_bpe:187] \n",
      "    \n",
      "[NeMo I 2023-01-02 21:00:40 wer_bpe:188] reference:umstellmanöver von zwei via gleis oscar eins eins nach gleis charlie null eins antworten\n",
      "[NeMo I 2023-01-02 21:00:40 wer_bpe:189] predicted:umstellmanöver von drei via gleis oscar eins eins nach gleis charlie null eins antworten\n",
      "[NeMo I 2023-01-02 21:01:08 wer_bpe:187] \n",
      "    \n",
      "[NeMo I 2023-01-02 21:01:08 wer_bpe:188] reference:zum start\n",
      "[NeMo I 2023-01-02 21:01:08 wer_bpe:189] predicted:um start\n"
     ]
    },
    {
     "data": {
      "application/vnd.jupyter.widget-view+json": {
       "model_id": "69f802ba0e084192bc4ee2645f13d5d3",
       "version_major": 2,
       "version_minor": 0
      },
      "text/plain": [
       "Validation: 0it [00:00, ?it/s]"
      ]
     },
     "metadata": {},
     "output_type": "display_data"
    },
    {
     "name": "stdout",
     "output_type": "stream",
     "text": [
      "[NeMo I 2023-01-02 21:01:32 wer_bpe:187] \n",
      "    \n",
      "[NeMo I 2023-01-02 21:01:32 wer_bpe:188] reference:rangierfahrt vom gleis mike zwei drei ins drei drei antworten\n",
      "[NeMo I 2023-01-02 21:01:32 wer_bpe:189] predicted:rangierfahrt von gleis mike zwei drei ins drei drei antworten\n",
      "[NeMo I 2023-01-02 21:01:32 wer_bpe:187] \n",
      "    \n",
      "[NeMo I 2023-01-02 21:01:32 wer_bpe:188] reference:spracheingabe\n",
      "[NeMo I 2023-01-02 21:01:32 wer_bpe:189] predicted:spracheingabe\n",
      "[NeMo I 2023-01-02 21:01:32 wer_bpe:187] \n",
      "    \n",
      "[NeMo I 2023-01-02 21:01:32 wer_bpe:188] reference:umstellmanöver vom drei sechs nach gleis xray vier sieben via null vier antworten\n",
      "[NeMo I 2023-01-02 21:01:32 wer_bpe:189] predicted:umstellmanöver vom drei sechs nach gleis xray vier sieben via null vier antworten\n",
      "[NeMo I 2023-01-02 21:01:32 wer_bpe:187] \n",
      "    \n",
      "[NeMo I 2023-01-02 21:01:32 wer_bpe:188] reference:rangierfahrt von gleis sechs neun ins gleis delta sieben antworten\n",
      "[NeMo I 2023-01-02 21:01:32 wer_bpe:189] predicted:rangierfahrt von gleis sechs neun ins gleis delta sieben antworten\n",
      "[NeMo I 2023-01-02 21:01:32 wer_bpe:187] \n",
      "    \n",
      "[NeMo I 2023-01-02 21:01:32 wer_bpe:188] reference:umstellmanöver von charlie drei zwei via gleis victor sechs neun ins gleis golf zwei vier antworten\n",
      "[NeMo I 2023-01-02 21:01:32 wer_bpe:189] predicted:umstellmanöver von charlie drei zwei via gleis victor sechs neun ins gleis golf zwei vier antworten\n"
     ]
    },
    {
     "name": "stderr",
     "output_type": "stream",
     "text": [
      "`Trainer.fit` stopped: `max_epochs=7` reached.\n"
     ]
    },
    {
     "data": {
      "text/html": [
       "Waiting for W&B process to finish... <strong style=\"color:green\">(success).</strong>"
      ],
      "text/plain": [
       "<IPython.core.display.HTML object>"
      ]
     },
     "metadata": {},
     "output_type": "display_data"
    },
    {
     "data": {
      "text/html": [
       "<style>\n",
       "    table.wandb td:nth-child(1) { padding: 0 10px; text-align: left ; width: auto;} td:nth-child(2) {text-align: left ; width: 100%}\n",
       "    .wandb-row { display: flex; flex-direction: row; flex-wrap: wrap; justify-content: flex-start; width: 100% }\n",
       "    .wandb-col { display: flex; flex-direction: column; flex-basis: 100%; flex: 1; padding: 10px; }\n",
       "    </style>\n",
       "<div class=\"wandb-row\"><div class=\"wandb-col\"><h3>Run history:</h3><br/><table class=\"wandb\"><tr><td>epoch</td><td>▁▁▁▁▁▂▂▂▂▂▂▃▃▃▃▃▃▅▅▅▅▅▆▆▆▆▆▆▇▇▇▇▇▇██████</td></tr><tr><td>global_step</td><td>▁▁▁▂▂▂▂▂▃▃▃▃▃▃▄▄▄▄▄▄▅▅▅▅▅▆▆▆▆▆▆▇▇▇▇▇████</td></tr><tr><td>learning_rate</td><td>▁▁▁▂▂▂▂▃▃▃▃▃▄▄▄▄▅▅▅▅▅▆▆▆▆▆▇▇▇▇███</td></tr><tr><td>train_loss</td><td>█▅▆▃▂▃▃▃▂▁▂▂▃▁▂▂▂▂▁▂▃▁▂▁▁▁▂▁▁▁▂▁▁</td></tr><tr><td>trainer/global_step</td><td>▁▁▁▂▂▂▂▂▃▃▃▃▃▃▄▄▄▄▄▄▅▅▅▅▅▆▆▆▆▆▆▇▇▇▇▇████</td></tr><tr><td>training_batch_wer</td><td>█▅▅▄▄▂▃▃▃▂▂▃▂▄▂▂▁▁▂▂▂▂▁▁▃▂▁</td></tr><tr><td>val_loss</td><td>█▃▂▄▂▂▁</td></tr><tr><td>val_wer</td><td>█▄▂▄▁▁▁</td></tr></table><br/></div><div class=\"wandb-col\"><h3>Run summary:</h3><br/><table class=\"wandb\"><tr><td>epoch</td><td>6</td></tr><tr><td>global_step</td><td>1659.0</td></tr><tr><td>learning_rate</td><td>0.00083</td></tr><tr><td>train_loss</td><td>6.75188</td></tr><tr><td>trainer/global_step</td><td>1658</td></tr><tr><td>training_batch_wer</td><td>0.03488</td></tr><tr><td>val_loss</td><td>0.58759</td></tr><tr><td>val_wer</td><td>0.01305</td></tr></table><br/></div></div>"
      ],
      "text/plain": [
       "<IPython.core.display.HTML object>"
      ]
     },
     "metadata": {},
     "output_type": "display_data"
    },
    {
     "data": {
      "text/html": [
       "Synced <strong style=\"color:#cdcd00\">quiet-sweep-15</strong>: <a href=\"https://wandb.ai/unisg-ds-nlp/ASR/runs/a1jm99g2\" target=\"_blank\">https://wandb.ai/unisg-ds-nlp/ASR/runs/a1jm99g2</a><br/>Synced 5 W&B file(s), 0 media file(s), 7 artifact file(s) and 0 other file(s)"
      ],
      "text/plain": [
       "<IPython.core.display.HTML object>"
      ]
     },
     "metadata": {},
     "output_type": "display_data"
    },
    {
     "data": {
      "text/html": [
       "Find logs at: <code>./wandb/run-20230102_204345-a1jm99g2/logs</code>"
      ],
      "text/plain": [
       "<IPython.core.display.HTML object>"
      ]
     },
     "metadata": {},
     "output_type": "display_data"
    },
    {
     "name": "stderr",
     "output_type": "stream",
     "text": [
      "\u001b[34m\u001b[1mwandb\u001b[0m: Agent Starting Run: 7t78xw1b with config:\n",
      "\u001b[34m\u001b[1mwandb\u001b[0m: \tepoch: 5\n",
      "\u001b[34m\u001b[1mwandb\u001b[0m: \tfreq_width: 28.519595155981182\n",
      "\u001b[34m\u001b[1mwandb\u001b[0m: \tlr: 0.0008331560252793354\n",
      "Failed to detect the name of this notebook, you can set it manually with the WANDB_NOTEBOOK_NAME environment variable to enable code saving.\n"
     ]
    },
    {
     "data": {
      "text/html": [
       "wandb version 0.13.7 is available!  To upgrade, please run:\n",
       " $ pip install wandb --upgrade"
      ],
      "text/plain": [
       "<IPython.core.display.HTML object>"
      ]
     },
     "metadata": {},
     "output_type": "display_data"
    },
    {
     "data": {
      "text/html": [
       "Tracking run with wandb version 0.13.4"
      ],
      "text/plain": [
       "<IPython.core.display.HTML object>"
      ]
     },
     "metadata": {},
     "output_type": "display_data"
    },
    {
     "data": {
      "text/html": [
       "Run data is saved locally in <code>/home/user/code/sbb_asr/notebooks/wandb/run-20230102_210227-7t78xw1b</code>"
      ],
      "text/plain": [
       "<IPython.core.display.HTML object>"
      ]
     },
     "metadata": {},
     "output_type": "display_data"
    },
    {
     "data": {
      "text/html": [
       "Syncing run <strong><a href=\"https://wandb.ai/unisg-ds-nlp/ASR/runs/7t78xw1b\" target=\"_blank\">unique-sweep-16</a></strong> to <a href=\"https://wandb.ai/unisg-ds-nlp/ASR\" target=\"_blank\">Weights & Biases</a> (<a href=\"https://wandb.me/run\" target=\"_blank\">docs</a>)<br/>Sweep page:  <a href=\"https://wandb.ai/unisg-ds-nlp/ASR/sweeps/v7qi12lc\" target=\"_blank\">https://wandb.ai/unisg-ds-nlp/ASR/sweeps/v7qi12lc</a>"
      ],
      "text/plain": [
       "<IPython.core.display.HTML object>"
      ]
     },
     "metadata": {},
     "output_type": "display_data"
    },
    {
     "name": "stderr",
     "output_type": "stream",
     "text": [
      "[NeMo W 2023-01-02 21:02:29 nemo_logging:349] /home/user/.local/lib/python3.9/site-packages/pytorch_lightning/loggers/wandb.py:352: UserWarning: There is a wandb run already in progress and newly created instances of `WandbLogger` will reuse this run. If this is not desired, call `wandb.finish()` before instantiating `WandbLogger`.\n",
      "      rank_zero_warn(\n",
      "    \n",
      "[NeMo W 2023-01-02 21:02:29 nemo_logging:349] /home/user/.local/lib/python3.9/site-packages/pytorch_lightning/trainer/connectors/accelerator_connector.py:447: LightningDeprecationWarning: Setting `Trainer(gpus=1)` is deprecated in v1.7 and will be removed in v2.0. Please use `Trainer(accelerator='gpu', devices=1)` instead.\n",
      "      rank_zero_deprecation(\n",
      "    \n",
      "GPU available: True (cuda), used: True\n",
      "TPU available: False, using: 0 TPU cores\n",
      "IPU available: False, using: 0 IPUs\n",
      "HPU available: False, using: 0 HPUs\n"
     ]
    },
    {
     "name": "stdout",
     "output_type": "stream",
     "text": [
      "[NeMo I 2023-01-02 21:02:31 cloud:56] Found existing object /home/user/.cache/torch/NeMo/NeMo_1.12.0/stt_de_citrinet_1024/8743e4cecb8017ca2b49a035e07b2893/stt_de_citrinet_1024.nemo.\n",
      "[NeMo I 2023-01-02 21:02:31 cloud:62] Re-using file from: /home/user/.cache/torch/NeMo/NeMo_1.12.0/stt_de_citrinet_1024/8743e4cecb8017ca2b49a035e07b2893/stt_de_citrinet_1024.nemo\n",
      "[NeMo I 2023-01-02 21:02:31 common:910] Instantiating model from pre-trained checkpoint\n",
      "[NeMo I 2023-01-02 21:02:37 mixins:170] Tokenizer SentencePieceTokenizer initialized with 1024 tokens\n"
     ]
    },
    {
     "name": "stderr",
     "output_type": "stream",
     "text": [
      "[NeMo W 2023-01-02 21:02:38 modelPT:142] If you intend to do training or fine-tuning, please call the ModelPT.setup_training_data() method and provide a valid configuration file to setup the train data loader.\n",
      "    Train config : \n",
      "    manifest_filepath: /data/train/tarred_audio_manifest.json\n",
      "    sample_rate: 16000\n",
      "    batch_size: 32\n",
      "    trim_silence: false\n",
      "    max_duration: 35.0\n",
      "    shuffle: true\n",
      "    is_tarred: true\n",
      "    tarred_audio_filepaths: /data/train/audio__OP_0..1023_CL_.tar\n",
      "    use_start_end_token: false\n",
      "    shuffle_n: 1024\n",
      "    num_workers: 16\n",
      "    pin_memory: true\n",
      "    \n",
      "[NeMo W 2023-01-02 21:02:38 modelPT:149] If you intend to do validation, please call the ModelPT.setup_validation_data() or ModelPT.setup_multiple_validation_data() method and provide a valid configuration file to setup the validation data loader(s). \n",
      "    Validation config : \n",
      "    manifest_filepath:\n",
      "    - /data/voxpopuli_de/dev/voxpopuli_dev_manifest.json\n",
      "    - /data/voxpopuli_de/test/voxpopuli_test_manifest.json\n",
      "    - /data/mcv7.0_de/mcv7.0_dev_manifest_cleaned.json\n",
      "    - /data/mcv7.0_de/mcv7.0_test_manifest_cleaned.json\n",
      "    - /data/mls_de/mls_dev_manifest_cleaned.json\n",
      "    - /data/mls_de/mls_test_manifest_cleaned.json\n",
      "    sample_rate: 16000\n",
      "    batch_size: 8\n",
      "    shuffle: false\n",
      "    use_start_end_token: false\n",
      "    num_workers: 8\n",
      "    pin_memory: true\n",
      "    \n",
      "[NeMo W 2023-01-02 21:02:38 modelPT:155] Please call the ModelPT.setup_test_data() or ModelPT.setup_multiple_test_data() method and provide a valid configuration file to setup the test data loader(s).\n",
      "    Test config : \n",
      "    manifest_filepath: null\n",
      "    sample_rate: 16000\n",
      "    batch_size: 32\n",
      "    shuffle: false\n",
      "    use_start_end_token: false\n",
      "    \n"
     ]
    },
    {
     "name": "stdout",
     "output_type": "stream",
     "text": [
      "[NeMo I 2023-01-02 21:02:38 features:225] PADDING: 16\n",
      "[NeMo I 2023-01-02 21:02:44 save_restore_connector:243] Model EncDecCTCModelBPE was successfully restored from /home/user/.cache/torch/NeMo/NeMo_1.12.0/stt_de_citrinet_1024/8743e4cecb8017ca2b49a035e07b2893/stt_de_citrinet_1024.nemo.\n",
      "[NeMo I 2023-01-02 21:02:45 collections:194] Dataset loaded with 1890 files totalling 7.41 hours\n",
      "[NeMo I 2023-01-02 21:02:45 collections:195] 0 files were filtered totalling 0.00 hours\n",
      "[NeMo I 2023-01-02 21:02:45 collections:194] Dataset loaded with 34 files totalling 0.13 hours\n",
      "[NeMo I 2023-01-02 21:02:45 collections:195] 0 files were filtered totalling 0.00 hours\n",
      "[NeMo I 2023-01-02 21:02:45 collections:194] Dataset loaded with 34 files totalling 0.14 hours\n",
      "[NeMo I 2023-01-02 21:02:45 collections:195] 0 files were filtered totalling 0.00 hours\n",
      "[NeMo I 2023-01-02 21:02:45 modelPT:597] Optimizer config = Novograd (\n",
      "    Parameter Group 0\n",
      "        amsgrad: False\n",
      "        betas: [0.8, 0.25]\n",
      "        eps: 1e-08\n",
      "        grad_averaging: False\n",
      "        lr: 0.0008331560252793354\n",
      "        weight_decay: 0.001\n",
      "    )\n",
      "[NeMo I 2023-01-02 21:02:45 lr_scheduler:910] Scheduler \"<nemo.core.optim.lr_scheduler.CosineAnnealing object at 0x7f835ec29190>\" \n",
      "    will be used during training (effective maximum steps = 1185) - \n",
      "    Parameters : \n",
      "    (warmup_steps: 10000\n",
      "    warmup_ratio: null\n",
      "    min_lr: 1.0e-05\n",
      "    last_epoch: -1\n",
      "    max_steps: 1185\n",
      "    )\n"
     ]
    },
    {
     "name": "stderr",
     "output_type": "stream",
     "text": [
      "LOCAL_RANK: 0 - CUDA_VISIBLE_DEVICES: [0,1,2,3]\n"
     ]
    },
    {
     "name": "stdout",
     "output_type": "stream",
     "text": [
      "[NeMo I 2023-01-02 21:02:46 modelPT:597] Optimizer config = Novograd (\n",
      "    Parameter Group 0\n",
      "        amsgrad: False\n",
      "        betas: [0.8, 0.25]\n",
      "        eps: 1e-08\n",
      "        grad_averaging: False\n",
      "        lr: 0.0008331560252793354\n",
      "        weight_decay: 0.001\n",
      "    )\n",
      "[NeMo I 2023-01-02 21:02:46 lr_scheduler:910] Scheduler \"<nemo.core.optim.lr_scheduler.CosineAnnealing object at 0x7f838521bf70>\" \n",
      "    will be used during training (effective maximum steps = 1185) - \n",
      "    Parameters : \n",
      "    (warmup_steps: 10000\n",
      "    warmup_ratio: null\n",
      "    min_lr: 1.0e-05\n",
      "    last_epoch: -1\n",
      "    max_steps: 1185\n",
      "    )\n"
     ]
    },
    {
     "name": "stderr",
     "output_type": "stream",
     "text": [
      "\n",
      "  | Name              | Type                              | Params\n",
      "------------------------------------------------------------------------\n",
      "0 | preprocessor      | AudioToMelSpectrogramPreprocessor | 0     \n",
      "1 | encoder           | ConvASREncoder                    | 140 M \n",
      "2 | decoder           | ConvASRDecoder                    | 1.1 M \n",
      "3 | loss              | CTCLoss                           | 0     \n",
      "4 | spec_augmentation | SpectrogramAugmentation           | 0     \n",
      "5 | _wer              | WERBPE                            | 0     \n",
      "------------------------------------------------------------------------\n",
      "141 M     Trainable params\n",
      "0         Non-trainable params\n",
      "141 M     Total params\n",
      "564.897   Total estimated model params size (MB)\n"
     ]
    },
    {
     "data": {
      "application/vnd.jupyter.widget-view+json": {
       "model_id": "342d06421a084ed580e818ad39d8126d",
       "version_major": 2,
       "version_minor": 0
      },
      "text/plain": [
       "Sanity Checking: 0it [00:00, ?it/s]"
      ]
     },
     "metadata": {},
     "output_type": "display_data"
    },
    {
     "name": "stdout",
     "output_type": "stream",
     "text": [
      "[NeMo I 2023-01-02 21:02:48 wer_bpe:187] \n",
      "    \n",
      "[NeMo I 2023-01-02 21:02:48 wer_bpe:188] reference:rangierfahrt vom gleis mike zwei drei ins drei drei antworten\n",
      "[NeMo I 2023-01-02 21:02:48 wer_bpe:189] predicted:prongierfahrt vom gleis maik zwei drei ins drei drei antworten\n",
      "[NeMo I 2023-01-02 21:02:49 wer_bpe:187] \n",
      "    \n",
      "[NeMo I 2023-01-02 21:02:49 wer_bpe:188] reference:spracheingabe\n",
      "[NeMo I 2023-01-02 21:02:49 wer_bpe:189] predicted:spracheingabe\n"
     ]
    },
    {
     "data": {
      "application/vnd.jupyter.widget-view+json": {
       "model_id": "36af0766d8684455a0c991af4db18abf",
       "version_major": 2,
       "version_minor": 0
      },
      "text/plain": [
       "Training: 0it [00:00, ?it/s]"
      ]
     },
     "metadata": {},
     "output_type": "display_data"
    },
    {
     "name": "stdout",
     "output_type": "stream",
     "text": [
      "[NeMo I 2023-01-02 21:03:21 wer_bpe:187] \n",
      "    \n",
      "[NeMo I 2023-01-02 21:03:21 wer_bpe:188] reference:rangierfahrt von gleis sieben sieben ins eins zwei antworten\n",
      "[NeMo I 2023-01-02 21:03:21 wer_bpe:189] predicted:sie in ein ihm\n",
      "[NeMo I 2023-01-02 21:03:48 wer_bpe:187] \n",
      "    \n",
      "[NeMo I 2023-01-02 21:03:48 wer_bpe:188] reference:rangierfahrt von india sieben fünf ins foxtrot acht acht antworten\n",
      "[NeMo I 2023-01-02 21:03:48 wer_bpe:189] predicted:von ihn dirben den\n",
      "[NeMo I 2023-01-02 21:04:16 wer_bpe:187] \n",
      "    \n",
      "[NeMo I 2023-01-02 21:04:16 wer_bpe:188] reference:rangierfahrt vom gleis quebec eins eins ins gleis november sieben sechs antworten\n",
      "[NeMo I 2023-01-02 21:04:16 wer_bpe:189] predicted:rochierfahrt vom la eins einss gleis nur antworten\n",
      "[NeMo I 2023-01-02 21:04:44 wer_bpe:187] \n",
      "    \n",
      "[NeMo I 2023-01-02 21:04:44 wer_bpe:188] reference:umstellmanöver von gleis bravo drei via vier eins nach drei sieben antworten\n",
      "[NeMo I 2023-01-02 21:04:44 wer_bpe:189] predicted:s umöfe von g gleichvo drei wie viels nach sieben antworten\n"
     ]
    },
    {
     "data": {
      "application/vnd.jupyter.widget-view+json": {
       "model_id": "92b634791d9046b6ac0d250e1460e3d6",
       "version_major": 2,
       "version_minor": 0
      },
      "text/plain": [
       "Validation: 0it [00:00, ?it/s]"
      ]
     },
     "metadata": {},
     "output_type": "display_data"
    },
    {
     "name": "stdout",
     "output_type": "stream",
     "text": [
      "[NeMo I 2023-01-02 21:05:07 wer_bpe:187] \n",
      "    \n",
      "[NeMo I 2023-01-02 21:05:07 wer_bpe:188] reference:rangierfahrt vom gleis mike zwei drei ins drei drei antworten\n",
      "[NeMo I 2023-01-02 21:05:07 wer_bpe:189] predicted:frierfahrt vom gleis ma zwei drei in drei drei al\n",
      "[NeMo I 2023-01-02 21:05:08 wer_bpe:187] \n",
      "    \n",
      "[NeMo I 2023-01-02 21:05:08 wer_bpe:188] reference:spracheingabe\n",
      "[NeMo I 2023-01-02 21:05:08 wer_bpe:189] predicted:sprach eingabe\n",
      "[NeMo I 2023-01-02 21:05:08 wer_bpe:187] \n",
      "    \n",
      "[NeMo I 2023-01-02 21:05:08 wer_bpe:188] reference:umstellmanöver vom drei sechs nach gleis xray vier sieben via null vier antworten\n",
      "[NeMo I 2023-01-02 21:05:08 wer_bpe:189] predicted:umstellmanöver vom drei sechs nach gleis exray vier sieben via null viel antworten\n",
      "[NeMo I 2023-01-02 21:05:08 wer_bpe:187] \n",
      "    \n",
      "[NeMo I 2023-01-02 21:05:08 wer_bpe:188] reference:rangierfahrt von gleis sechs neun ins gleis delta sieben antworten\n",
      "[NeMo I 2023-01-02 21:05:08 wer_bpe:189] predicted:rangierfahrt von gleis sechs neun ins gleis delta sieben antworten\n",
      "[NeMo I 2023-01-02 21:05:08 wer_bpe:187] \n",
      "    \n",
      "[NeMo I 2023-01-02 21:05:08 wer_bpe:188] reference:umstellmanöver von charlie drei zwei via gleis victor sechs neun ins gleis golf zwei vier antworten\n",
      "[NeMo I 2023-01-02 21:05:08 wer_bpe:189] predicted:umstellmanöver von charly drei zwei wie wir gleis ctor sechs neun ihns gleis gold zwei vier antwort\n",
      "[NeMo I 2023-01-02 21:05:49 wer_bpe:187] \n",
      "    \n",
      "[NeMo I 2023-01-02 21:05:49 wer_bpe:188] reference:umstellmanöver vom gleis sechs ins sieben fünf via gleis xray null und gleis sieben antworten\n",
      "[NeMo I 2023-01-02 21:05:49 wer_bpe:189] predicted:allma gleis ins sieben fünf wir gleis ex und gleis sieben antwort\n",
      "[NeMo I 2023-01-02 21:06:17 wer_bpe:187] \n",
      "    \n",
      "[NeMo I 2023-01-02 21:06:17 wer_bpe:188] reference:rangierfahrt von gleis uniform vier null ins gleis zwei vier antworten\n",
      "[NeMo I 2023-01-02 21:06:17 wer_bpe:189] predicted:rangschierfahrt vom gleis mi von vier null seis zwei vier antworten\n",
      "[NeMo I 2023-01-02 21:06:44 wer_bpe:187] \n",
      "    \n",
      "[NeMo I 2023-01-02 21:06:44 wer_bpe:188] reference:rangierfahrt von gleis zulu vier sechs nach sieben zwei antworten\n",
      "[NeMo I 2023-01-02 21:06:44 wer_bpe:189] predicted:und fort fern gleis zno vier sechs nach sieben zwei antworten\n",
      "[NeMo I 2023-01-02 21:07:12 wer_bpe:187] \n",
      "    \n",
      "[NeMo I 2023-01-02 21:07:12 wer_bpe:188] reference:rangierfahrt vom drei vier ins alpha sechs sechs antworten\n",
      "[NeMo I 2023-01-02 21:07:12 wer_bpe:189] predicted:rangierfahrt vom drei vier ins alter sechs sechs\n"
     ]
    },
    {
     "data": {
      "application/vnd.jupyter.widget-view+json": {
       "model_id": "4b095995da7343599e606871ad846ef4",
       "version_major": 2,
       "version_minor": 0
      },
      "text/plain": [
       "Validation: 0it [00:00, ?it/s]"
      ]
     },
     "metadata": {},
     "output_type": "display_data"
    },
    {
     "name": "stdout",
     "output_type": "stream",
     "text": [
      "[NeMo I 2023-01-02 21:07:36 wer_bpe:187] \n",
      "    \n",
      "[NeMo I 2023-01-02 21:07:36 wer_bpe:188] reference:rangierfahrt vom gleis mike zwei drei ins drei drei antworten\n",
      "[NeMo I 2023-01-02 21:07:36 wer_bpe:189] predicted:rangierfahrt vom gleis mike zwei drei ins drei drei antworten\n",
      "[NeMo I 2023-01-02 21:07:36 wer_bpe:187] \n",
      "    \n",
      "[NeMo I 2023-01-02 21:07:36 wer_bpe:188] reference:spracheingabe\n",
      "[NeMo I 2023-01-02 21:07:36 wer_bpe:189] predicted:sprach eingabe\n",
      "[NeMo I 2023-01-02 21:07:36 wer_bpe:187] \n",
      "    \n",
      "[NeMo I 2023-01-02 21:07:36 wer_bpe:188] reference:umstellmanöver vom drei sechs nach gleis xray vier sieben via null vier antworten\n",
      "[NeMo I 2023-01-02 21:07:36 wer_bpe:189] predicted:umstellmanöver vom drei sechs nach gleis xray vier sieben via null vier antworten\n",
      "[NeMo I 2023-01-02 21:07:36 wer_bpe:187] \n",
      "    \n",
      "[NeMo I 2023-01-02 21:07:36 wer_bpe:188] reference:rangierfahrt von gleis sechs neun ins gleis delta sieben antworten\n",
      "[NeMo I 2023-01-02 21:07:36 wer_bpe:189] predicted:rangierfahrt von gleis sechs neun ins gleis delta sieben antworten\n",
      "[NeMo I 2023-01-02 21:07:36 wer_bpe:187] \n",
      "    \n",
      "[NeMo I 2023-01-02 21:07:36 wer_bpe:188] reference:umstellmanöver von charlie drei zwei via gleis victor sechs neun ins gleis golf zwei vier antworten\n",
      "[NeMo I 2023-01-02 21:07:36 wer_bpe:189] predicted:umstellmanöver von charliy drei zwei via gleis victor sechs neun ins gleis gol zwei vier antwort\n",
      "[NeMo I 2023-01-02 21:08:17 wer_bpe:187] \n",
      "    \n",
      "[NeMo I 2023-01-02 21:08:17 wer_bpe:188] reference:rangierfahrt von neun vier ins null sechs antworten\n",
      "[NeMo I 2023-01-02 21:08:17 wer_bpe:189] predicted:\n",
      "[NeMo I 2023-01-02 21:08:45 wer_bpe:187] \n",
      "    \n",
      "[NeMo I 2023-01-02 21:08:45 wer_bpe:188] reference:umstellmanöver vom gleis fünf eins via acht sieben ins bravo eins null antworten\n",
      "[NeMo I 2023-01-02 21:08:45 wer_bpe:189] predicted:umstellmanöver vom gleis fünf für acht sieben ins bravo eins null antworten\n",
      "[NeMo I 2023-01-02 21:09:12 wer_bpe:187] \n",
      "    \n",
      "[NeMo I 2023-01-02 21:09:12 wer_bpe:188] reference:rangierfahrt von null vier nach alpha null acht antworten\n",
      "[NeMo I 2023-01-02 21:09:12 wer_bpe:189] predicted:rafahrt vom null vier maffia null acht antworten\n",
      "[NeMo I 2023-01-02 21:09:40 wer_bpe:187] \n",
      "    \n",
      "[NeMo I 2023-01-02 21:09:40 wer_bpe:188] reference:er will am donnerstag nicht in die schule gehen\n",
      "[NeMo I 2023-01-02 21:09:40 wer_bpe:189] predicted:ster neu\n"
     ]
    },
    {
     "data": {
      "application/vnd.jupyter.widget-view+json": {
       "model_id": "1a96ea8acc984df3a73c77da22858e4c",
       "version_major": 2,
       "version_minor": 0
      },
      "text/plain": [
       "Validation: 0it [00:00, ?it/s]"
      ]
     },
     "metadata": {},
     "output_type": "display_data"
    },
    {
     "name": "stdout",
     "output_type": "stream",
     "text": [
      "[NeMo I 2023-01-02 21:10:04 wer_bpe:187] \n",
      "    \n",
      "[NeMo I 2023-01-02 21:10:04 wer_bpe:188] reference:rangierfahrt vom gleis mike zwei drei ins drei drei antworten\n",
      "[NeMo I 2023-01-02 21:10:04 wer_bpe:189] predicted:rangierfahrt vom gleis mike zwei drei ins drei drei antworten\n",
      "[NeMo I 2023-01-02 21:10:04 wer_bpe:187] \n",
      "    \n",
      "[NeMo I 2023-01-02 21:10:04 wer_bpe:188] reference:spracheingabe\n",
      "[NeMo I 2023-01-02 21:10:04 wer_bpe:189] predicted:sprach eingabe\n",
      "[NeMo I 2023-01-02 21:10:04 wer_bpe:187] \n",
      "    \n",
      "[NeMo I 2023-01-02 21:10:04 wer_bpe:188] reference:umstellmanöver vom drei sechs nach gleis xray vier sieben via null vier antworten\n",
      "[NeMo I 2023-01-02 21:10:04 wer_bpe:189] predicted:umstellmanöver vom drei sechs nach gleis xray vier sieben via null vier antworten\n",
      "[NeMo I 2023-01-02 21:10:04 wer_bpe:187] \n",
      "    \n",
      "[NeMo I 2023-01-02 21:10:04 wer_bpe:188] reference:rangierfahrt von gleis sechs neun ins gleis delta sieben antworten\n",
      "[NeMo I 2023-01-02 21:10:04 wer_bpe:189] predicted:rangierfahrt von gleis sechs neun ins gleis delta sieben antworten\n",
      "[NeMo I 2023-01-02 21:10:04 wer_bpe:187] \n",
      "    \n",
      "[NeMo I 2023-01-02 21:10:04 wer_bpe:188] reference:umstellmanöver von charlie drei zwei via gleis victor sechs neun ins gleis golf zwei vier antworten\n",
      "[NeMo I 2023-01-02 21:10:04 wer_bpe:189] predicted:umstellmanöver von charlie drei zwei via gleis victor sechs neun ins gleis golf zwei vier antworten\n",
      "[NeMo I 2023-01-02 21:10:48 wer_bpe:187] \n",
      "    \n",
      "[NeMo I 2023-01-02 21:10:48 wer_bpe:188] reference:umstellmanöver von vier null ins gleis drei via whisky zwei neun antworten\n",
      "[NeMo I 2023-01-02 21:10:48 wer_bpe:189] predicted:umstellmanöver von vier null ins gleis dreiia whisky zwei neun antworten\n",
      "[NeMo I 2023-01-02 21:11:16 wer_bpe:187] \n",
      "    \n",
      "[NeMo I 2023-01-02 21:11:16 wer_bpe:188] reference:umstellmanöver vom acht acht via zwei null ins alpha fünf vier antworten\n",
      "[NeMo I 2023-01-02 21:11:16 wer_bpe:189] predicted:umstellö vom acht acht via null ins alpha fünf vier\n",
      "[NeMo I 2023-01-02 21:11:44 wer_bpe:187] \n",
      "    \n",
      "[NeMo I 2023-01-02 21:11:44 wer_bpe:188] reference:rangierfahrt vom india sechs fünf nach gleis uniform sieben antworten\n",
      "[NeMo I 2023-01-02 21:11:44 wer_bpe:189] predicted:rangierfahrt von india sechs fünf nach gleis uniform sie\n",
      "[NeMo I 2023-01-02 21:12:12 wer_bpe:187] \n",
      "    \n",
      "[NeMo I 2023-01-02 21:12:12 wer_bpe:188] reference:umstellmanöver vom sechs drei nach kilo sieben neun via foxtrot vier zwei antworten\n",
      "[NeMo I 2023-01-02 21:12:12 wer_bpe:189] predicted:umstellmaöver von g drei nach g sieben  vo vier zwei antworten\n"
     ]
    },
    {
     "data": {
      "application/vnd.jupyter.widget-view+json": {
       "model_id": "5c322409ab4742cd992783e43f4a29d9",
       "version_major": 2,
       "version_minor": 0
      },
      "text/plain": [
       "Validation: 0it [00:00, ?it/s]"
      ]
     },
     "metadata": {},
     "output_type": "display_data"
    },
    {
     "name": "stdout",
     "output_type": "stream",
     "text": [
      "[NeMo I 2023-01-02 21:12:36 wer_bpe:187] \n",
      "    \n",
      "[NeMo I 2023-01-02 21:12:36 wer_bpe:188] reference:rangierfahrt vom gleis mike zwei drei ins drei drei antworten\n",
      "[NeMo I 2023-01-02 21:12:36 wer_bpe:189] predicted:rangierfahrt vom gleis mike zwei drei ins drei drei antworten\n",
      "[NeMo I 2023-01-02 21:12:36 wer_bpe:187] \n",
      "    \n",
      "[NeMo I 2023-01-02 21:12:36 wer_bpe:188] reference:spracheingabe\n",
      "[NeMo I 2023-01-02 21:12:36 wer_bpe:189] predicted:spracheingabe\n",
      "[NeMo I 2023-01-02 21:12:36 wer_bpe:187] \n",
      "    \n",
      "[NeMo I 2023-01-02 21:12:36 wer_bpe:188] reference:umstellmanöver vom drei sechs nach gleis xray vier sieben via null vier antworten\n",
      "[NeMo I 2023-01-02 21:12:36 wer_bpe:189] predicted:umstellmanöver vom drei sechs nach gleis xray vier sieben via null vier antworten\n",
      "[NeMo I 2023-01-02 21:12:36 wer_bpe:187] \n",
      "    \n",
      "[NeMo I 2023-01-02 21:12:36 wer_bpe:188] reference:rangierfahrt von gleis sechs neun ins gleis delta sieben antworten\n",
      "[NeMo I 2023-01-02 21:12:36 wer_bpe:189] predicted:rangierfahrt von gleis sechs neun ins gleis delta sieben antworten\n",
      "[NeMo I 2023-01-02 21:12:37 wer_bpe:187] \n",
      "    \n",
      "[NeMo I 2023-01-02 21:12:37 wer_bpe:188] reference:umstellmanöver von charlie drei zwei via gleis victor sechs neun ins gleis golf zwei vier antworten\n",
      "[NeMo I 2023-01-02 21:12:37 wer_bpe:189] predicted:umstellmanöver von charlie drei zwei via gleis victor sechs neun ins gleis golf zwei vier antworten\n",
      "[NeMo I 2023-01-02 21:13:19 wer_bpe:187] \n",
      "    \n",
      "[NeMo I 2023-01-02 21:13:19 wer_bpe:188] reference:umstellmanöver vom kilo fünf sieben nach sechs zwei via gleis neun sechs antworten\n",
      "[NeMo I 2023-01-02 21:13:19 wer_bpe:189] predicted:umstellmanöver vom kilo fünf sieben nach sechs zwei via gleis neun sechs antworten\n",
      "[NeMo I 2023-01-02 21:13:47 wer_bpe:187] \n",
      "    \n",
      "[NeMo I 2023-01-02 21:13:47 wer_bpe:188] reference:umstellmanöver von eins drei nach gleis kilo eins sechs via lima eins sieben antworten\n",
      "[NeMo I 2023-01-02 21:13:47 wer_bpe:189] predicted:umstellmanöver von eins drei nach gleis kilo eins sechs sieia lima eins sieben antworten\n",
      "[NeMo I 2023-01-02 21:14:15 wer_bpe:187] \n",
      "    \n",
      "[NeMo I 2023-01-02 21:14:15 wer_bpe:188] reference:umstellmanöver von sechs null via acht vier ins golf eins vier antworten\n",
      "[NeMo I 2023-01-02 21:14:15 wer_bpe:189] predicted:umstellmaö von sechs null via v vier in g golf ins vier antworten\n",
      "[NeMo I 2023-01-02 21:14:42 wer_bpe:187] \n",
      "    \n",
      "[NeMo I 2023-01-02 21:14:42 wer_bpe:188] reference:umstellmanöver vom mike zwei null via gleis xray null sechs ins gleis eins sieben antworten\n",
      "[NeMo I 2023-01-02 21:14:42 wer_bpe:189] predicted:um umstellmanöver  mike zwei null vs gleis xray l sechs ins gleis  antworten antworten\n"
     ]
    },
    {
     "data": {
      "application/vnd.jupyter.widget-view+json": {
       "model_id": "6149ca0ee0764a1fb0e32c5331490e4f",
       "version_major": 2,
       "version_minor": 0
      },
      "text/plain": [
       "Validation: 0it [00:00, ?it/s]"
      ]
     },
     "metadata": {},
     "output_type": "display_data"
    },
    {
     "name": "stdout",
     "output_type": "stream",
     "text": [
      "[NeMo I 2023-01-02 21:15:06 wer_bpe:187] \n",
      "    \n",
      "[NeMo I 2023-01-02 21:15:06 wer_bpe:188] reference:rangierfahrt vom gleis mike zwei drei ins drei drei antworten\n",
      "[NeMo I 2023-01-02 21:15:06 wer_bpe:189] predicted:rangierfahrt vom gleis mike zwei drei ins drei drei antworten\n",
      "[NeMo I 2023-01-02 21:15:06 wer_bpe:187] \n",
      "    \n",
      "[NeMo I 2023-01-02 21:15:06 wer_bpe:188] reference:spracheingabe\n",
      "[NeMo I 2023-01-02 21:15:06 wer_bpe:189] predicted:spracheingabe\n",
      "[NeMo I 2023-01-02 21:15:06 wer_bpe:187] \n",
      "    \n",
      "[NeMo I 2023-01-02 21:15:06 wer_bpe:188] reference:umstellmanöver vom drei sechs nach gleis xray vier sieben via null vier antworten\n",
      "[NeMo I 2023-01-02 21:15:06 wer_bpe:189] predicted:umstellmanöver vom drei sechs nach gleis xray vier sieben via null vier antworten\n",
      "[NeMo I 2023-01-02 21:15:06 wer_bpe:187] \n",
      "    \n",
      "[NeMo I 2023-01-02 21:15:06 wer_bpe:188] reference:rangierfahrt von gleis sechs neun ins gleis delta sieben antworten\n",
      "[NeMo I 2023-01-02 21:15:06 wer_bpe:189] predicted:rangierfahrt von gleis sechs neun ins gleis delta sieben antworten\n",
      "[NeMo I 2023-01-02 21:15:06 wer_bpe:187] \n",
      "    \n",
      "[NeMo I 2023-01-02 21:15:06 wer_bpe:188] reference:umstellmanöver von charlie drei zwei via gleis victor sechs neun ins gleis golf zwei vier antworten\n",
      "[NeMo I 2023-01-02 21:15:06 wer_bpe:189] predicted:umstellmanöver von charlie drei zwei via gleis victor sechs neun ins gleis golf zwei vier antworten\n"
     ]
    },
    {
     "name": "stderr",
     "output_type": "stream",
     "text": [
      "`Trainer.fit` stopped: `max_epochs=5` reached.\n"
     ]
    },
    {
     "data": {
      "text/html": [
       "Waiting for W&B process to finish... <strong style=\"color:green\">(success).</strong>"
      ],
      "text/plain": [
       "<IPython.core.display.HTML object>"
      ]
     },
     "metadata": {},
     "output_type": "display_data"
    },
    {
     "data": {
      "text/html": [
       "<style>\n",
       "    table.wandb td:nth-child(1) { padding: 0 10px; text-align: left ; width: auto;} td:nth-child(2) {text-align: left ; width: 100%}\n",
       "    .wandb-row { display: flex; flex-direction: row; flex-wrap: wrap; justify-content: flex-start; width: 100% }\n",
       "    .wandb-col { display: flex; flex-direction: column; flex-basis: 100%; flex: 1; padding: 10px; }\n",
       "    </style>\n",
       "<div class=\"wandb-row\"><div class=\"wandb-col\"><h3>Run history:</h3><br/><table class=\"wandb\"><tr><td>epoch</td><td>▁▁▁▁▁▃▃▃▃▃▃▅▅▅▅▅▅▆▆▆▆▆██████</td></tr><tr><td>global_step</td><td>▁▁▂▂▂▂▃▃▃▃▄▄▄▄▅▅▅▅▆▆▆▇▇▇▇▇██</td></tr><tr><td>learning_rate</td><td>▁▁▂▂▂▃▃▃▄▄▄▄▅▅▅▆▆▆▇▇▇██</td></tr><tr><td>train_loss</td><td>██▆▇▄▅▅▄▅▅▃▄▂▄▂▂▂▂▃▃▁▄▂</td></tr><tr><td>trainer/global_step</td><td>▁▁▂▂▂▂▃▃▃▃▄▄▄▄▅▅▅▅▆▆▆▇▇▇▇▇██</td></tr><tr><td>training_batch_wer</td><td>█▇▆▇▄▆▄▃▅▂▃▂▃▁▁▁▂▂▂</td></tr><tr><td>val_loss</td><td>█▃▁▁▁</td></tr><tr><td>val_wer</td><td>█▃▂▁▁</td></tr></table><br/></div><div class=\"wandb-col\"><h3>Run summary:</h3><br/><table class=\"wandb\"><tr><td>epoch</td><td>4</td></tr><tr><td>global_step</td><td>1185.0</td></tr><tr><td>learning_rate</td><td>0.0001</td></tr><tr><td>train_loss</td><td>26.76494</td></tr><tr><td>trainer/global_step</td><td>1184</td></tr><tr><td>training_batch_wer</td><td>0.22772</td></tr><tr><td>val_loss</td><td>2.02818</td></tr><tr><td>val_wer</td><td>0.0235</td></tr></table><br/></div></div>"
      ],
      "text/plain": [
       "<IPython.core.display.HTML object>"
      ]
     },
     "metadata": {},
     "output_type": "display_data"
    },
    {
     "data": {
      "text/html": [
       "Synced <strong style=\"color:#cdcd00\">unique-sweep-16</strong>: <a href=\"https://wandb.ai/unisg-ds-nlp/ASR/runs/7t78xw1b\" target=\"_blank\">https://wandb.ai/unisg-ds-nlp/ASR/runs/7t78xw1b</a><br/>Synced 5 W&B file(s), 0 media file(s), 5 artifact file(s) and 0 other file(s)"
      ],
      "text/plain": [
       "<IPython.core.display.HTML object>"
      ]
     },
     "metadata": {},
     "output_type": "display_data"
    },
    {
     "data": {
      "text/html": [
       "Find logs at: <code>./wandb/run-20230102_210227-7t78xw1b/logs</code>"
      ],
      "text/plain": [
       "<IPython.core.display.HTML object>"
      ]
     },
     "metadata": {},
     "output_type": "display_data"
    },
    {
     "name": "stderr",
     "output_type": "stream",
     "text": [
      "\u001b[34m\u001b[1mwandb\u001b[0m: Agent Starting Run: ls84oygr with config:\n",
      "\u001b[34m\u001b[1mwandb\u001b[0m: \tepoch: 7\n",
      "\u001b[34m\u001b[1mwandb\u001b[0m: \tfreq_width: 26.94295643792087\n",
      "\u001b[34m\u001b[1mwandb\u001b[0m: \tlr: 0.0004201550263381561\n",
      "Failed to detect the name of this notebook, you can set it manually with the WANDB_NOTEBOOK_NAME environment variable to enable code saving.\n"
     ]
    },
    {
     "data": {
      "text/html": [
       "wandb version 0.13.7 is available!  To upgrade, please run:\n",
       " $ pip install wandb --upgrade"
      ],
      "text/plain": [
       "<IPython.core.display.HTML object>"
      ]
     },
     "metadata": {},
     "output_type": "display_data"
    },
    {
     "data": {
      "text/html": [
       "Tracking run with wandb version 0.13.4"
      ],
      "text/plain": [
       "<IPython.core.display.HTML object>"
      ]
     },
     "metadata": {},
     "output_type": "display_data"
    },
    {
     "data": {
      "text/html": [
       "Run data is saved locally in <code>/home/user/code/sbb_asr/notebooks/wandb/run-20230102_211556-ls84oygr</code>"
      ],
      "text/plain": [
       "<IPython.core.display.HTML object>"
      ]
     },
     "metadata": {},
     "output_type": "display_data"
    },
    {
     "data": {
      "text/html": [
       "Syncing run <strong><a href=\"https://wandb.ai/unisg-ds-nlp/ASR/runs/ls84oygr\" target=\"_blank\">lunar-sweep-17</a></strong> to <a href=\"https://wandb.ai/unisg-ds-nlp/ASR\" target=\"_blank\">Weights & Biases</a> (<a href=\"https://wandb.me/run\" target=\"_blank\">docs</a>)<br/>Sweep page:  <a href=\"https://wandb.ai/unisg-ds-nlp/ASR/sweeps/v7qi12lc\" target=\"_blank\">https://wandb.ai/unisg-ds-nlp/ASR/sweeps/v7qi12lc</a>"
      ],
      "text/plain": [
       "<IPython.core.display.HTML object>"
      ]
     },
     "metadata": {},
     "output_type": "display_data"
    },
    {
     "name": "stderr",
     "output_type": "stream",
     "text": [
      "[NeMo W 2023-01-02 21:15:57 nemo_logging:349] /home/user/.local/lib/python3.9/site-packages/pytorch_lightning/loggers/wandb.py:352: UserWarning: There is a wandb run already in progress and newly created instances of `WandbLogger` will reuse this run. If this is not desired, call `wandb.finish()` before instantiating `WandbLogger`.\n",
      "      rank_zero_warn(\n",
      "    \n",
      "[NeMo W 2023-01-02 21:15:57 nemo_logging:349] /home/user/.local/lib/python3.9/site-packages/pytorch_lightning/trainer/connectors/accelerator_connector.py:447: LightningDeprecationWarning: Setting `Trainer(gpus=1)` is deprecated in v1.7 and will be removed in v2.0. Please use `Trainer(accelerator='gpu', devices=1)` instead.\n",
      "      rank_zero_deprecation(\n",
      "    \n",
      "GPU available: True (cuda), used: True\n",
      "TPU available: False, using: 0 TPU cores\n",
      "IPU available: False, using: 0 IPUs\n",
      "HPU available: False, using: 0 HPUs\n"
     ]
    },
    {
     "name": "stdout",
     "output_type": "stream",
     "text": [
      "[NeMo I 2023-01-02 21:15:59 cloud:56] Found existing object /home/user/.cache/torch/NeMo/NeMo_1.12.0/stt_de_citrinet_1024/8743e4cecb8017ca2b49a035e07b2893/stt_de_citrinet_1024.nemo.\n",
      "[NeMo I 2023-01-02 21:15:59 cloud:62] Re-using file from: /home/user/.cache/torch/NeMo/NeMo_1.12.0/stt_de_citrinet_1024/8743e4cecb8017ca2b49a035e07b2893/stt_de_citrinet_1024.nemo\n",
      "[NeMo I 2023-01-02 21:15:59 common:910] Instantiating model from pre-trained checkpoint\n",
      "[NeMo I 2023-01-02 21:16:05 mixins:170] Tokenizer SentencePieceTokenizer initialized with 1024 tokens\n"
     ]
    },
    {
     "name": "stderr",
     "output_type": "stream",
     "text": [
      "[NeMo W 2023-01-02 21:16:05 modelPT:142] If you intend to do training or fine-tuning, please call the ModelPT.setup_training_data() method and provide a valid configuration file to setup the train data loader.\n",
      "    Train config : \n",
      "    manifest_filepath: /data/train/tarred_audio_manifest.json\n",
      "    sample_rate: 16000\n",
      "    batch_size: 32\n",
      "    trim_silence: false\n",
      "    max_duration: 35.0\n",
      "    shuffle: true\n",
      "    is_tarred: true\n",
      "    tarred_audio_filepaths: /data/train/audio__OP_0..1023_CL_.tar\n",
      "    use_start_end_token: false\n",
      "    shuffle_n: 1024\n",
      "    num_workers: 16\n",
      "    pin_memory: true\n",
      "    \n",
      "[NeMo W 2023-01-02 21:16:05 modelPT:149] If you intend to do validation, please call the ModelPT.setup_validation_data() or ModelPT.setup_multiple_validation_data() method and provide a valid configuration file to setup the validation data loader(s). \n",
      "    Validation config : \n",
      "    manifest_filepath:\n",
      "    - /data/voxpopuli_de/dev/voxpopuli_dev_manifest.json\n",
      "    - /data/voxpopuli_de/test/voxpopuli_test_manifest.json\n",
      "    - /data/mcv7.0_de/mcv7.0_dev_manifest_cleaned.json\n",
      "    - /data/mcv7.0_de/mcv7.0_test_manifest_cleaned.json\n",
      "    - /data/mls_de/mls_dev_manifest_cleaned.json\n",
      "    - /data/mls_de/mls_test_manifest_cleaned.json\n",
      "    sample_rate: 16000\n",
      "    batch_size: 8\n",
      "    shuffle: false\n",
      "    use_start_end_token: false\n",
      "    num_workers: 8\n",
      "    pin_memory: true\n",
      "    \n",
      "[NeMo W 2023-01-02 21:16:05 modelPT:155] Please call the ModelPT.setup_test_data() or ModelPT.setup_multiple_test_data() method and provide a valid configuration file to setup the test data loader(s).\n",
      "    Test config : \n",
      "    manifest_filepath: null\n",
      "    sample_rate: 16000\n",
      "    batch_size: 32\n",
      "    shuffle: false\n",
      "    use_start_end_token: false\n",
      "    \n"
     ]
    },
    {
     "name": "stdout",
     "output_type": "stream",
     "text": [
      "[NeMo I 2023-01-02 21:16:05 features:225] PADDING: 16\n",
      "[NeMo I 2023-01-02 21:16:11 save_restore_connector:243] Model EncDecCTCModelBPE was successfully restored from /home/user/.cache/torch/NeMo/NeMo_1.12.0/stt_de_citrinet_1024/8743e4cecb8017ca2b49a035e07b2893/stt_de_citrinet_1024.nemo.\n",
      "[NeMo I 2023-01-02 21:16:11 collections:194] Dataset loaded with 1890 files totalling 7.41 hours\n",
      "[NeMo I 2023-01-02 21:16:11 collections:195] 0 files were filtered totalling 0.00 hours\n",
      "[NeMo I 2023-01-02 21:16:11 collections:194] Dataset loaded with 34 files totalling 0.13 hours\n",
      "[NeMo I 2023-01-02 21:16:11 collections:195] 0 files were filtered totalling 0.00 hours\n",
      "[NeMo I 2023-01-02 21:16:11 collections:194] Dataset loaded with 34 files totalling 0.14 hours\n",
      "[NeMo I 2023-01-02 21:16:11 collections:195] 0 files were filtered totalling 0.00 hours\n",
      "[NeMo I 2023-01-02 21:16:11 modelPT:597] Optimizer config = Novograd (\n",
      "    Parameter Group 0\n",
      "        amsgrad: False\n",
      "        betas: [0.8, 0.25]\n",
      "        eps: 1e-08\n",
      "        grad_averaging: False\n",
      "        lr: 0.0004201550263381561\n",
      "        weight_decay: 0.001\n",
      "    )\n",
      "[NeMo I 2023-01-02 21:16:11 lr_scheduler:910] Scheduler \"<nemo.core.optim.lr_scheduler.CosineAnnealing object at 0x7f838715da30>\" \n",
      "    will be used during training (effective maximum steps = 1659) - \n",
      "    Parameters : \n",
      "    (warmup_steps: 10000\n",
      "    warmup_ratio: null\n",
      "    min_lr: 1.0e-05\n",
      "    last_epoch: -1\n",
      "    max_steps: 1659\n",
      "    )\n"
     ]
    },
    {
     "name": "stderr",
     "output_type": "stream",
     "text": [
      "LOCAL_RANK: 0 - CUDA_VISIBLE_DEVICES: [0,1,2,3]\n"
     ]
    },
    {
     "name": "stdout",
     "output_type": "stream",
     "text": [
      "[NeMo I 2023-01-02 21:16:12 modelPT:597] Optimizer config = Novograd (\n",
      "    Parameter Group 0\n",
      "        amsgrad: False\n",
      "        betas: [0.8, 0.25]\n",
      "        eps: 1e-08\n",
      "        grad_averaging: False\n",
      "        lr: 0.0004201550263381561\n",
      "        weight_decay: 0.001\n",
      "    )\n",
      "[NeMo I 2023-01-02 21:16:12 lr_scheduler:910] Scheduler \"<nemo.core.optim.lr_scheduler.CosineAnnealing object at 0x7f83872b8850>\" \n",
      "    will be used during training (effective maximum steps = 1659) - \n",
      "    Parameters : \n",
      "    (warmup_steps: 10000\n",
      "    warmup_ratio: null\n",
      "    min_lr: 1.0e-05\n",
      "    last_epoch: -1\n",
      "    max_steps: 1659\n",
      "    )\n"
     ]
    },
    {
     "name": "stderr",
     "output_type": "stream",
     "text": [
      "\n",
      "  | Name              | Type                              | Params\n",
      "------------------------------------------------------------------------\n",
      "0 | preprocessor      | AudioToMelSpectrogramPreprocessor | 0     \n",
      "1 | encoder           | ConvASREncoder                    | 140 M \n",
      "2 | decoder           | ConvASRDecoder                    | 1.1 M \n",
      "3 | loss              | CTCLoss                           | 0     \n",
      "4 | spec_augmentation | SpectrogramAugmentation           | 0     \n",
      "5 | _wer              | WERBPE                            | 0     \n",
      "------------------------------------------------------------------------\n",
      "141 M     Trainable params\n",
      "0         Non-trainable params\n",
      "141 M     Total params\n",
      "564.897   Total estimated model params size (MB)\n"
     ]
    },
    {
     "data": {
      "application/vnd.jupyter.widget-view+json": {
       "model_id": "8d6b0c8d6a274c6596a1a898d97cef68",
       "version_major": 2,
       "version_minor": 0
      },
      "text/plain": [
       "Sanity Checking: 0it [00:00, ?it/s]"
      ]
     },
     "metadata": {},
     "output_type": "display_data"
    },
    {
     "name": "stdout",
     "output_type": "stream",
     "text": [
      "[NeMo I 2023-01-02 21:16:15 wer_bpe:187] \n",
      "    \n",
      "[NeMo I 2023-01-02 21:16:15 wer_bpe:188] reference:rangierfahrt vom gleis mike zwei drei ins drei drei antworten\n",
      "[NeMo I 2023-01-02 21:16:15 wer_bpe:189] predicted:prongierfahrt vom gleis maik zwei drei ins drei drei antworten\n",
      "[NeMo I 2023-01-02 21:16:15 wer_bpe:187] \n",
      "    \n",
      "[NeMo I 2023-01-02 21:16:15 wer_bpe:188] reference:spracheingabe\n",
      "[NeMo I 2023-01-02 21:16:15 wer_bpe:189] predicted:spracheingabe\n"
     ]
    },
    {
     "data": {
      "application/vnd.jupyter.widget-view+json": {
       "model_id": "c37d0dd6c62041d99c05512e3b243519",
       "version_major": 2,
       "version_minor": 0
      },
      "text/plain": [
       "Training: 0it [00:00, ?it/s]"
      ]
     },
     "metadata": {},
     "output_type": "display_data"
    },
    {
     "name": "stdout",
     "output_type": "stream",
     "text": [
      "[NeMo I 2023-01-02 21:16:48 wer_bpe:187] \n",
      "    \n",
      "[NeMo I 2023-01-02 21:16:48 wer_bpe:188] reference:umstellmanöver vom vier via sieben eins ins neun fünf antworten\n",
      "[NeMo I 2023-01-02 21:16:48 wer_bpe:189] predicted:um wie sie\n",
      "[NeMo I 2023-01-02 21:17:15 wer_bpe:187] \n",
      "    \n",
      "[NeMo I 2023-01-02 21:17:15 wer_bpe:188] reference:umstellmanöver vom sechs vier via gleis eins drei nach gleis alpha fünf null antworten\n",
      "[NeMo I 2023-01-02 21:17:15 wer_bpe:189] predicted:manö vom eins\n",
      "[NeMo I 2023-01-02 21:17:43 wer_bpe:187] \n",
      "    \n",
      "[NeMo I 2023-01-02 21:17:43 wer_bpe:188] reference:rangierfahrt von gleis sieben fünf nach victor neun eins antworten\n",
      "[NeMo I 2023-01-02 21:17:43 wer_bpe:189] predicted:sieben neu\n",
      "[NeMo I 2023-01-02 21:18:10 wer_bpe:187] \n",
      "    \n",
      "[NeMo I 2023-01-02 21:18:10 wer_bpe:188] reference:rangierfahrt vom drei vier ins alpha sechs sechs antworten\n",
      "[NeMo I 2023-01-02 21:18:10 wer_bpe:189] predicted:vier inss\n"
     ]
    },
    {
     "data": {
      "application/vnd.jupyter.widget-view+json": {
       "model_id": "bc6d4b0b330a4e569564c1b84c2412fa",
       "version_major": 2,
       "version_minor": 0
      },
      "text/plain": [
       "Validation: 0it [00:00, ?it/s]"
      ]
     },
     "metadata": {},
     "output_type": "display_data"
    },
    {
     "name": "stdout",
     "output_type": "stream",
     "text": [
      "[NeMo I 2023-01-02 21:18:34 wer_bpe:187] \n",
      "    \n",
      "[NeMo I 2023-01-02 21:18:34 wer_bpe:188] reference:rangierfahrt vom gleis mike zwei drei ins drei drei antworten\n",
      "[NeMo I 2023-01-02 21:18:34 wer_bpe:189] predicted:schierfahr gleis zwei drei drei drei\n",
      "[NeMo I 2023-01-02 21:18:34 wer_bpe:187] \n",
      "    \n",
      "[NeMo I 2023-01-02 21:18:34 wer_bpe:188] reference:spracheingabe\n",
      "[NeMo I 2023-01-02 21:18:34 wer_bpe:189] predicted:sprach eingabe\n",
      "[NeMo I 2023-01-02 21:18:34 wer_bpe:187] \n",
      "    \n",
      "[NeMo I 2023-01-02 21:18:34 wer_bpe:188] reference:umstellmanöver vom drei sechs nach gleis xray vier sieben via null vier antworten\n",
      "[NeMo I 2023-01-02 21:18:34 wer_bpe:189] predicted:umstellmaövver vom drei sechs nach gleis exray vier sieben wienul viel an\n",
      "[NeMo I 2023-01-02 21:18:34 wer_bpe:187] \n",
      "    \n",
      "[NeMo I 2023-01-02 21:18:34 wer_bpe:188] reference:rangierfahrt von gleis sechs neun ins gleis delta sieben antworten\n",
      "[NeMo I 2023-01-02 21:18:34 wer_bpe:189] predicted:rangchierfahrt von gleis sechs neun ins gleisdelta sieben an\n",
      "[NeMo I 2023-01-02 21:18:35 wer_bpe:187] \n",
      "    \n",
      "[NeMo I 2023-01-02 21:18:35 wer_bpe:188] reference:umstellmanöver von charlie drei zwei via gleis victor sechs neun ins gleis golf zwei vier antworten\n",
      "[NeMo I 2023-01-02 21:18:35 wer_bpe:189] predicted:stellmaövver voncharly drei zwei wir gleis or sechs neu ihnlei zwei\n",
      "[NeMo I 2023-01-02 21:19:23 wer_bpe:187] \n",
      "    \n",
      "[NeMo I 2023-01-02 21:19:23 wer_bpe:188] reference:umstellmanöver vom kilo fünf sieben nach sechs zwei via gleis neun sechs antworten\n",
      "[NeMo I 2023-01-02 21:19:23 wer_bpe:189] predicted:um vom k fünf sieben noch sechs zwei via gleis neun sechs\n",
      "[NeMo I 2023-01-02 21:19:51 wer_bpe:187] \n",
      "    \n",
      "[NeMo I 2023-01-02 21:19:51 wer_bpe:188] reference:rangierfahrt vom gleis sechs null ins gleis sechs fünf antworten\n",
      "[NeMo I 2023-01-02 21:19:51 wer_bpe:189] predicted:hier dort vom gleis ss null inss ses fünf an\n",
      "[NeMo I 2023-01-02 21:20:19 wer_bpe:187] \n",
      "    \n",
      "[NeMo I 2023-01-02 21:20:19 wer_bpe:188] reference:rangierfahrt vom eins null ins sechs eins antworten\n",
      "[NeMo I 2023-01-02 21:20:19 wer_bpe:189] predicted:fahrt von null ins sech s antwort\n",
      "[NeMo I 2023-01-02 21:20:47 wer_bpe:187] \n",
      "    \n",
      "[NeMo I 2023-01-02 21:20:47 wer_bpe:188] reference:rangierfahrt vom eins null ins sechs eins antworten\n",
      "[NeMo I 2023-01-02 21:20:47 wer_bpe:189] predicted:rangierfahrt vom eis null ins ses eins\n"
     ]
    },
    {
     "data": {
      "application/vnd.jupyter.widget-view+json": {
       "model_id": "337d23523ff54fb7a6abb34db1c7544e",
       "version_major": 2,
       "version_minor": 0
      },
      "text/plain": [
       "Validation: 0it [00:00, ?it/s]"
      ]
     },
     "metadata": {},
     "output_type": "display_data"
    },
    {
     "name": "stdout",
     "output_type": "stream",
     "text": [
      "[NeMo I 2023-01-02 21:21:10 wer_bpe:187] \n",
      "    \n",
      "[NeMo I 2023-01-02 21:21:10 wer_bpe:188] reference:rangierfahrt vom gleis mike zwei drei ins drei drei antworten\n",
      "[NeMo I 2023-01-02 21:21:10 wer_bpe:189] predicted:rangierfahrt vom gleis maig zwei drei ins drei drei antwort\n",
      "[NeMo I 2023-01-02 21:21:10 wer_bpe:187] \n",
      "    \n",
      "[NeMo I 2023-01-02 21:21:10 wer_bpe:188] reference:spracheingabe\n",
      "[NeMo I 2023-01-02 21:21:10 wer_bpe:189] predicted:sprach eingabe\n",
      "[NeMo I 2023-01-02 21:21:11 wer_bpe:187] \n",
      "    \n",
      "[NeMo I 2023-01-02 21:21:11 wer_bpe:188] reference:umstellmanöver vom drei sechs nach gleis xray vier sieben via null vier antworten\n",
      "[NeMo I 2023-01-02 21:21:11 wer_bpe:189] predicted:umstellmanöver vom drei sechs nach gleis x ray vier sieben via null v antworten\n",
      "[NeMo I 2023-01-02 21:21:11 wer_bpe:187] \n",
      "    \n",
      "[NeMo I 2023-01-02 21:21:11 wer_bpe:188] reference:rangierfahrt von gleis sechs neun ins gleis delta sieben antworten\n",
      "[NeMo I 2023-01-02 21:21:11 wer_bpe:189] predicted:rangierfahrt von gleis sechs neun ins gleis delta sieben antworten\n",
      "[NeMo I 2023-01-02 21:21:11 wer_bpe:187] \n",
      "    \n",
      "[NeMo I 2023-01-02 21:21:11 wer_bpe:188] reference:umstellmanöver von charlie drei zwei via gleis victor sechs neun ins gleis golf zwei vier antworten\n",
      "[NeMo I 2023-01-02 21:21:11 wer_bpe:189] predicted:umstellmanöver von charlley drei zwei a via gleis victor sechs neun ins gleis gol zwei vier antwort\n",
      "[NeMo I 2023-01-02 21:21:53 wer_bpe:187] \n",
      "    \n",
      "[NeMo I 2023-01-02 21:21:53 wer_bpe:188] reference:rangierfahrt von gleis sieben fünf nach victor neun eins antworten\n",
      "[NeMo I 2023-01-02 21:21:53 wer_bpe:189] predicted:rangier von gleis sie nach co neun ein antworten\n",
      "[NeMo I 2023-01-02 21:22:20 wer_bpe:187] \n",
      "    \n",
      "[NeMo I 2023-01-02 21:22:20 wer_bpe:188] reference:rangierfahrt von gleis sieben sieben ins eins zwei antworten\n",
      "[NeMo I 2023-01-02 21:22:20 wer_bpe:189] predicted:rangierfahrt von gleis und sieben ins eins zwei antworten\n",
      "[NeMo I 2023-01-02 21:22:48 wer_bpe:187] \n",
      "    \n",
      "[NeMo I 2023-01-02 21:22:48 wer_bpe:188] reference:umstellmanöver vom sieben neun ins yankee fünf eins via gleis echo drei drei antworten\n",
      "[NeMo I 2023-01-02 21:22:48 wer_bpe:189] predicted:umstellver vom sieben neun ins fünf via gleis eco drei antworten\n",
      "[NeMo I 2023-01-02 21:23:15 wer_bpe:187] \n",
      "    \n",
      "[NeMo I 2023-01-02 21:23:15 wer_bpe:188] reference:rangierfahrt von india drei acht ins gleis sieben eins antworten\n",
      "[NeMo I 2023-01-02 21:23:15 wer_bpe:189] predicted:\n"
     ]
    },
    {
     "data": {
      "application/vnd.jupyter.widget-view+json": {
       "model_id": "2bd78e00c26642a18cbdf5d8880757a3",
       "version_major": 2,
       "version_minor": 0
      },
      "text/plain": [
       "Validation: 0it [00:00, ?it/s]"
      ]
     },
     "metadata": {},
     "output_type": "display_data"
    },
    {
     "name": "stdout",
     "output_type": "stream",
     "text": [
      "[NeMo I 2023-01-02 21:23:39 wer_bpe:187] \n",
      "    \n",
      "[NeMo I 2023-01-02 21:23:39 wer_bpe:188] reference:rangierfahrt vom gleis mike zwei drei ins drei drei antworten\n",
      "[NeMo I 2023-01-02 21:23:39 wer_bpe:189] predicted:rangierfahrt vom gleis mike zwei drei ins drei drei antworten\n",
      "[NeMo I 2023-01-02 21:23:39 wer_bpe:187] \n",
      "    \n",
      "[NeMo I 2023-01-02 21:23:39 wer_bpe:188] reference:spracheingabe\n",
      "[NeMo I 2023-01-02 21:23:39 wer_bpe:189] predicted:sprach eingabe\n",
      "[NeMo I 2023-01-02 21:23:39 wer_bpe:187] \n",
      "    \n",
      "[NeMo I 2023-01-02 21:23:39 wer_bpe:188] reference:umstellmanöver vom drei sechs nach gleis xray vier sieben via null vier antworten\n",
      "[NeMo I 2023-01-02 21:23:39 wer_bpe:189] predicted:umstellmanöver vom drei sechs nach gleis xray vier sieben via null vier antworten\n",
      "[NeMo I 2023-01-02 21:23:39 wer_bpe:187] \n",
      "    \n",
      "[NeMo I 2023-01-02 21:23:39 wer_bpe:188] reference:rangierfahrt von gleis sechs neun ins gleis delta sieben antworten\n",
      "[NeMo I 2023-01-02 21:23:39 wer_bpe:189] predicted:rangierfahrt von gleis sechs neun ins gleis delta sieben antworten\n",
      "[NeMo I 2023-01-02 21:23:39 wer_bpe:187] \n",
      "    \n",
      "[NeMo I 2023-01-02 21:23:39 wer_bpe:188] reference:umstellmanöver von charlie drei zwei via gleis victor sechs neun ins gleis golf zwei vier antworten\n",
      "[NeMo I 2023-01-02 21:23:39 wer_bpe:189] predicted:umstellmanöver von charliy drei zwei via gleis victor sechs neun ins gleis golf zwei vier antwort\n",
      "[NeMo I 2023-01-02 21:24:22 wer_bpe:187] \n",
      "    \n",
      "[NeMo I 2023-01-02 21:24:22 wer_bpe:188] reference:umstellmanöver von gleis xray neun vier via vier sieben ins gleis india vier fünf antworten\n",
      "[NeMo I 2023-01-02 21:24:22 wer_bpe:189] predicted:umstellmanöver von gleis exon neun vier v vier ins gleis indiia vier fünf antworten\n",
      "[NeMo I 2023-01-02 21:24:50 wer_bpe:187] \n",
      "    \n",
      "[NeMo I 2023-01-02 21:24:50 wer_bpe:188] reference:rangierfahrt von sechs ins delta acht sechs antworten\n",
      "[NeMo I 2023-01-02 21:24:50 wer_bpe:189] predicted:rangierfahrt von se ins doolter acht sechs antworten\n",
      "[NeMo I 2023-01-02 21:25:17 wer_bpe:187] \n",
      "    \n",
      "[NeMo I 2023-01-02 21:25:17 wer_bpe:188] reference:umstellmanöver vom xray neun vier via mike sieben zwei nach gleis uniform neun drei antworten\n",
      "[NeMo I 2023-01-02 21:25:17 wer_bpe:189] predicted:umstellmanöver vom xray neun vier via sieben drei nach gleis unif n antworten\n",
      "[NeMo I 2023-01-02 21:25:45 wer_bpe:187] \n",
      "    \n",
      "[NeMo I 2023-01-02 21:25:45 wer_bpe:188] reference:rangierfahrt vom gleis drei drei nach gleis lima zwei acht antworten\n",
      "[NeMo I 2023-01-02 21:25:45 wer_bpe:189] predicted:rangierfahrt vom gleis g drei gleis lima zwei acht antworten\n"
     ]
    },
    {
     "data": {
      "application/vnd.jupyter.widget-view+json": {
       "model_id": "167435216617474a85b413bd83ee70a0",
       "version_major": 2,
       "version_minor": 0
      },
      "text/plain": [
       "Validation: 0it [00:00, ?it/s]"
      ]
     },
     "metadata": {},
     "output_type": "display_data"
    },
    {
     "name": "stdout",
     "output_type": "stream",
     "text": [
      "[NeMo I 2023-01-02 21:26:08 wer_bpe:187] \n",
      "    \n",
      "[NeMo I 2023-01-02 21:26:08 wer_bpe:188] reference:rangierfahrt vom gleis mike zwei drei ins drei drei antworten\n",
      "[NeMo I 2023-01-02 21:26:08 wer_bpe:189] predicted:rangierfahrt vom gleis mike zwei drei ins drei drei antworten\n",
      "[NeMo I 2023-01-02 21:26:08 wer_bpe:187] \n",
      "    \n",
      "[NeMo I 2023-01-02 21:26:08 wer_bpe:188] reference:spracheingabe\n",
      "[NeMo I 2023-01-02 21:26:08 wer_bpe:189] predicted:sprach eingabe\n",
      "[NeMo I 2023-01-02 21:26:09 wer_bpe:187] \n",
      "    \n",
      "[NeMo I 2023-01-02 21:26:09 wer_bpe:188] reference:umstellmanöver vom drei sechs nach gleis xray vier sieben via null vier antworten\n",
      "[NeMo I 2023-01-02 21:26:09 wer_bpe:189] predicted:umstellmanöver vom drei sechs nach gleis xray vier sieben via null vier antworten\n",
      "[NeMo I 2023-01-02 21:26:09 wer_bpe:187] \n",
      "    \n",
      "[NeMo I 2023-01-02 21:26:09 wer_bpe:188] reference:rangierfahrt von gleis sechs neun ins gleis delta sieben antworten\n",
      "[NeMo I 2023-01-02 21:26:09 wer_bpe:189] predicted:rangierfahrt von gleis sechs neun ins gleis delta sieben antworten\n",
      "[NeMo I 2023-01-02 21:26:09 wer_bpe:187] \n",
      "    \n",
      "[NeMo I 2023-01-02 21:26:09 wer_bpe:188] reference:umstellmanöver von charlie drei zwei via gleis victor sechs neun ins gleis golf zwei vier antworten\n",
      "[NeMo I 2023-01-02 21:26:09 wer_bpe:189] predicted:umstellmanöver von charlie drei zwei via gleis victor sechs neun ins gleis golf zwei vier antworten\n",
      "[NeMo I 2023-01-02 21:26:52 wer_bpe:187] \n",
      "    \n",
      "[NeMo I 2023-01-02 21:26:52 wer_bpe:188] reference:umstellmanöver vom eins eins via gleis quebec acht vier ins neun antworten\n",
      "[NeMo I 2023-01-02 21:26:52 wer_bpe:189] predicted:ia geschäftparadenstellmanöver wissen v g einngia gleis g vier se gv lavo se vy\n",
      "[NeMo I 2023-01-02 21:27:19 wer_bpe:187] \n",
      "    \n",
      "[NeMo I 2023-01-02 21:27:19 wer_bpe:188] reference:er will am donnerstag nicht in die schule gehen\n",
      "[NeMo I 2023-01-02 21:27:19 wer_bpe:189] predicted:er will am donnerstag nicht in die schul gehen\n",
      "[NeMo I 2023-01-02 21:27:47 wer_bpe:187] \n",
      "    \n",
      "[NeMo I 2023-01-02 21:27:47 wer_bpe:188] reference:rangierfahrt vom india sechs fünf nach gleis uniform sieben antworten\n",
      "[NeMo I 2023-01-02 21:27:47 wer_bpe:189] predicted:n besserma rangier inia sechs fünf fünf gnulllei lesen\n",
      "[NeMo I 2023-01-02 21:28:14 wer_bpe:187] \n",
      "    \n",
      "[NeMo I 2023-01-02 21:28:14 wer_bpe:188] reference:zum start\n",
      "[NeMo I 2023-01-02 21:28:14 wer_bpe:189] predicted:zum start\n"
     ]
    },
    {
     "data": {
      "application/vnd.jupyter.widget-view+json": {
       "model_id": "c5510663390f41f79f8907e9d55088d0",
       "version_major": 2,
       "version_minor": 0
      },
      "text/plain": [
       "Validation: 0it [00:00, ?it/s]"
      ]
     },
     "metadata": {},
     "output_type": "display_data"
    },
    {
     "name": "stdout",
     "output_type": "stream",
     "text": [
      "[NeMo I 2023-01-02 21:28:38 wer_bpe:187] \n",
      "    \n",
      "[NeMo I 2023-01-02 21:28:38 wer_bpe:188] reference:rangierfahrt vom gleis mike zwei drei ins drei drei antworten\n",
      "[NeMo I 2023-01-02 21:28:38 wer_bpe:189] predicted:rangierfahrt vom gleis mike zwei drei ins drei drei antworten\n",
      "[NeMo I 2023-01-02 21:28:38 wer_bpe:187] \n",
      "    \n",
      "[NeMo I 2023-01-02 21:28:38 wer_bpe:188] reference:spracheingabe\n",
      "[NeMo I 2023-01-02 21:28:38 wer_bpe:189] predicted:spracheingabe\n",
      "[NeMo I 2023-01-02 21:28:38 wer_bpe:187] \n",
      "    \n",
      "[NeMo I 2023-01-02 21:28:38 wer_bpe:188] reference:umstellmanöver vom drei sechs nach gleis xray vier sieben via null vier antworten\n",
      "[NeMo I 2023-01-02 21:28:38 wer_bpe:189] predicted:umstellmanöver vom drei sechs nach gleis xray vier sieben via null vier antworten\n",
      "[NeMo I 2023-01-02 21:28:38 wer_bpe:187] \n",
      "    \n",
      "[NeMo I 2023-01-02 21:28:38 wer_bpe:188] reference:rangierfahrt von gleis sechs neun ins gleis delta sieben antworten\n",
      "[NeMo I 2023-01-02 21:28:38 wer_bpe:189] predicted:rangierfahrt von gleis sechs neun ins gleis delta sieben antworten\n",
      "[NeMo I 2023-01-02 21:28:39 wer_bpe:187] \n",
      "    \n",
      "[NeMo I 2023-01-02 21:28:39 wer_bpe:188] reference:umstellmanöver von charlie drei zwei via gleis victor sechs neun ins gleis golf zwei vier antworten\n",
      "[NeMo I 2023-01-02 21:28:39 wer_bpe:189] predicted:umstellmanöver von charlie drei zwei via gleis victor sechs neun ins gleis golf zwei vier antworten\n",
      "[NeMo I 2023-01-02 21:29:22 wer_bpe:187] \n",
      "    \n",
      "[NeMo I 2023-01-02 21:29:22 wer_bpe:188] reference:umstellmanöver von eins via india zwei drei nach gleis zwei fünf antworten\n",
      "[NeMo I 2023-01-02 21:29:22 wer_bpe:189] predicted:umstellmanöver von einsia india zwei drei nach gleis zwei fünf antworten\n",
      "[NeMo I 2023-01-02 21:29:49 wer_bpe:187] \n",
      "    \n",
      "[NeMo I 2023-01-02 21:29:49 wer_bpe:188] reference:rangierfahrt vom gleis sechs acht nach gleis acht sechs antworten\n",
      "[NeMo I 2023-01-02 21:29:49 wer_bpe:189] predicted:nach rangierfahrt vom glei sechs acht nach gleis acht sechs antworten\n",
      "[NeMo I 2023-01-02 21:30:17 wer_bpe:187] \n",
      "    \n",
      "[NeMo I 2023-01-02 21:30:17 wer_bpe:188] reference:umstellmanöver vom acht acht via zwei null ins alpha fünf vier antworten\n",
      "[NeMo I 2023-01-02 21:30:17 wer_bpe:189] predicted:stellver nachacht eins zwei eins drei antwort\n",
      "[NeMo I 2023-01-02 21:30:45 wer_bpe:187] \n",
      "    \n",
      "[NeMo I 2023-01-02 21:30:45 wer_bpe:188] reference:umstellmanöver vom echo sieben eins ins gleis sieben acht via gleis null neun antworten\n",
      "[NeMo I 2023-01-02 21:30:45 wer_bpe:189] predicted:umstellmanöver vom echo sieben eins ins gleis sieben acht via gleis null neus antworten\n"
     ]
    },
    {
     "data": {
      "application/vnd.jupyter.widget-view+json": {
       "model_id": "e93333142ca340128899a0b904526c14",
       "version_major": 2,
       "version_minor": 0
      },
      "text/plain": [
       "Validation: 0it [00:00, ?it/s]"
      ]
     },
     "metadata": {},
     "output_type": "display_data"
    },
    {
     "name": "stdout",
     "output_type": "stream",
     "text": [
      "[NeMo I 2023-01-02 21:31:08 wer_bpe:187] \n",
      "    \n",
      "[NeMo I 2023-01-02 21:31:08 wer_bpe:188] reference:rangierfahrt vom gleis mike zwei drei ins drei drei antworten\n",
      "[NeMo I 2023-01-02 21:31:08 wer_bpe:189] predicted:rangierfahrt vom gleis mike zwei drei ins drei drei antworten\n",
      "[NeMo I 2023-01-02 21:31:08 wer_bpe:187] \n",
      "    \n",
      "[NeMo I 2023-01-02 21:31:08 wer_bpe:188] reference:spracheingabe\n",
      "[NeMo I 2023-01-02 21:31:08 wer_bpe:189] predicted:spracheingabe\n",
      "[NeMo I 2023-01-02 21:31:08 wer_bpe:187] \n",
      "    \n",
      "[NeMo I 2023-01-02 21:31:08 wer_bpe:188] reference:umstellmanöver vom drei sechs nach gleis xray vier sieben via null vier antworten\n",
      "[NeMo I 2023-01-02 21:31:08 wer_bpe:189] predicted:umstellmanöver vom drei sechs nach gleis xray vier sieben via null vier antworten\n",
      "[NeMo I 2023-01-02 21:31:08 wer_bpe:187] \n",
      "    \n",
      "[NeMo I 2023-01-02 21:31:08 wer_bpe:188] reference:rangierfahrt von gleis sechs neun ins gleis delta sieben antworten\n",
      "[NeMo I 2023-01-02 21:31:08 wer_bpe:189] predicted:rangierfahrt von gleis sechs neun ins gleis delta sieben antworten\n",
      "[NeMo I 2023-01-02 21:31:08 wer_bpe:187] \n",
      "    \n",
      "[NeMo I 2023-01-02 21:31:08 wer_bpe:188] reference:umstellmanöver von charlie drei zwei via gleis victor sechs neun ins gleis golf zwei vier antworten\n",
      "[NeMo I 2023-01-02 21:31:08 wer_bpe:189] predicted:umstellmanöver von charlie drei zwei via gleis victor sechs neun ins gleis golf zwei vier antworten\n",
      "[NeMo I 2023-01-02 21:31:53 wer_bpe:187] \n",
      "    \n",
      "[NeMo I 2023-01-02 21:31:53 wer_bpe:188] reference:rangierfahrt vom acht null nach gleis zulu acht zwei antworten\n",
      "[NeMo I 2023-01-02 21:31:53 wer_bpe:189] predicted:nierfahrt vier acht  nach gleis  zwei antworten\n",
      "[NeMo I 2023-01-02 21:32:21 wer_bpe:187] \n",
      "    \n",
      "[NeMo I 2023-01-02 21:32:21 wer_bpe:188] reference:umstellmanöver vom november vier null via gleis romeo drei fünf ins gleis india sechs acht antworten\n",
      "[NeMo I 2023-01-02 21:32:21 wer_bpe:189] predicted:umstellmanöver vom november vier null via gleis romeo drei fünf ins gleis india sechs acht neu\n",
      "[NeMo I 2023-01-02 21:32:49 wer_bpe:187] \n",
      "    \n",
      "[NeMo I 2023-01-02 21:32:49 wer_bpe:188] reference:rangierfahrt vom kilo zwei sieben ins vier sieben antworten\n",
      "[NeMo I 2023-01-02 21:32:49 wer_bpe:189] predicted:rangierfahrt von go zwei ins vier sieben antworten vier\n",
      "[NeMo I 2023-01-02 21:33:17 wer_bpe:187] \n",
      "    \n",
      "[NeMo I 2023-01-02 21:33:17 wer_bpe:188] reference:rangierfahrt vom gleis sechs acht nach gleis acht sechs antworten\n",
      "[NeMo I 2023-01-02 21:33:17 wer_bpe:189] predicted:rangierfahrt ver in von sie drei sie in sachsen antworten\n"
     ]
    },
    {
     "data": {
      "application/vnd.jupyter.widget-view+json": {
       "model_id": "7248d8db63564c349472b1f0e3e45ba4",
       "version_major": 2,
       "version_minor": 0
      },
      "text/plain": [
       "Validation: 0it [00:00, ?it/s]"
      ]
     },
     "metadata": {},
     "output_type": "display_data"
    },
    {
     "name": "stdout",
     "output_type": "stream",
     "text": [
      "[NeMo I 2023-01-02 21:33:40 wer_bpe:187] \n",
      "    \n",
      "[NeMo I 2023-01-02 21:33:40 wer_bpe:188] reference:rangierfahrt vom gleis mike zwei drei ins drei drei antworten\n",
      "[NeMo I 2023-01-02 21:33:40 wer_bpe:189] predicted:rangierfahrt vom gleis mike zwei drei ins drei drei antworten\n",
      "[NeMo I 2023-01-02 21:33:40 wer_bpe:187] \n",
      "    \n",
      "[NeMo I 2023-01-02 21:33:40 wer_bpe:188] reference:spracheingabe\n",
      "[NeMo I 2023-01-02 21:33:40 wer_bpe:189] predicted:spracheingabe\n",
      "[NeMo I 2023-01-02 21:33:41 wer_bpe:187] \n",
      "    \n",
      "[NeMo I 2023-01-02 21:33:41 wer_bpe:188] reference:umstellmanöver vom drei sechs nach gleis xray vier sieben via null vier antworten\n",
      "[NeMo I 2023-01-02 21:33:41 wer_bpe:189] predicted:umstellmanöver vom drei sechs nach gleis xray vier sieben via null vier antworten\n",
      "[NeMo I 2023-01-02 21:33:41 wer_bpe:187] \n",
      "    \n",
      "[NeMo I 2023-01-02 21:33:41 wer_bpe:188] reference:rangierfahrt von gleis sechs neun ins gleis delta sieben antworten\n",
      "[NeMo I 2023-01-02 21:33:41 wer_bpe:189] predicted:rangierfahrt von gleis sechs neun ins gleis delta sieben antworten\n",
      "[NeMo I 2023-01-02 21:33:41 wer_bpe:187] \n",
      "    \n",
      "[NeMo I 2023-01-02 21:33:41 wer_bpe:188] reference:umstellmanöver von charlie drei zwei via gleis victor sechs neun ins gleis golf zwei vier antworten\n",
      "[NeMo I 2023-01-02 21:33:41 wer_bpe:189] predicted:umstellmanöver von charlie drei zwei via gleis victor sechs neun ins gleis golf zwei vier antworten\n"
     ]
    },
    {
     "name": "stderr",
     "output_type": "stream",
     "text": [
      "`Trainer.fit` stopped: `max_epochs=7` reached.\n"
     ]
    },
    {
     "data": {
      "text/html": [
       "Waiting for W&B process to finish... <strong style=\"color:green\">(success).</strong>"
      ],
      "text/plain": [
       "<IPython.core.display.HTML object>"
      ]
     },
     "metadata": {},
     "output_type": "display_data"
    },
    {
     "data": {
      "text/html": [
       "<style>\n",
       "    table.wandb td:nth-child(1) { padding: 0 10px; text-align: left ; width: auto;} td:nth-child(2) {text-align: left ; width: 100%}\n",
       "    .wandb-row { display: flex; flex-direction: row; flex-wrap: wrap; justify-content: flex-start; width: 100% }\n",
       "    .wandb-col { display: flex; flex-direction: column; flex-basis: 100%; flex: 1; padding: 10px; }\n",
       "    </style>\n",
       "<div class=\"wandb-row\"><div class=\"wandb-col\"><h3>Run history:</h3><br/><table class=\"wandb\"><tr><td>epoch</td><td>▁▁▁▁▁▂▂▂▂▂▂▃▃▃▃▃▃▅▅▅▅▅▆▆▆▆▆▆▇▇▇▇▇▇██████</td></tr><tr><td>global_step</td><td>▁▁▁▂▂▂▂▂▃▃▃▃▃▃▄▄▄▄▄▄▅▅▅▅▅▆▆▆▆▆▆▇▇▇▇▇████</td></tr><tr><td>learning_rate</td><td>▁▁▁▂▂▂▂▃▃▃▃▃▄▄▄▄▅▅▅▅▅▆▆▆▆▆▇▇▇▇███</td></tr><tr><td>train_loss</td><td>▇█▇▇▆▄▇▄▄▅▂▃▄▃▃▅▁▃▂▂▂▃▃▂▃▁▃▂▂▂▃▄▂</td></tr><tr><td>trainer/global_step</td><td>▁▁▁▂▂▂▂▂▃▃▃▃▃▃▄▄▄▄▄▄▅▅▅▅▅▆▆▆▆▆▆▇▇▇▇▇████</td></tr><tr><td>training_batch_wer</td><td>▇█▇▇▆▅▄▅▄▃▄▅▃▂▂▂▂▄▃▁▂▂▂▂▄▂▃</td></tr><tr><td>val_loss</td><td>█▃▂▁▁▁▁</td></tr><tr><td>val_wer</td><td>█▃▂▁▁▁▁</td></tr></table><br/></div><div class=\"wandb-col\"><h3>Run summary:</h3><br/><table class=\"wandb\"><tr><td>epoch</td><td>6</td></tr><tr><td>global_step</td><td>1659.0</td></tr><tr><td>learning_rate</td><td>7e-05</td></tr><tr><td>train_loss</td><td>23.26056</td></tr><tr><td>trainer/global_step</td><td>1658</td></tr><tr><td>training_batch_wer</td><td>0.33945</td></tr><tr><td>val_loss</td><td>1.84343</td></tr><tr><td>val_wer</td><td>0.02611</td></tr></table><br/></div></div>"
      ],
      "text/plain": [
       "<IPython.core.display.HTML object>"
      ]
     },
     "metadata": {},
     "output_type": "display_data"
    },
    {
     "data": {
      "text/html": [
       "Synced <strong style=\"color:#cdcd00\">lunar-sweep-17</strong>: <a href=\"https://wandb.ai/unisg-ds-nlp/ASR/runs/ls84oygr\" target=\"_blank\">https://wandb.ai/unisg-ds-nlp/ASR/runs/ls84oygr</a><br/>Synced 5 W&B file(s), 0 media file(s), 7 artifact file(s) and 0 other file(s)"
      ],
      "text/plain": [
       "<IPython.core.display.HTML object>"
      ]
     },
     "metadata": {},
     "output_type": "display_data"
    },
    {
     "data": {
      "text/html": [
       "Find logs at: <code>./wandb/run-20230102_211556-ls84oygr/logs</code>"
      ],
      "text/plain": [
       "<IPython.core.display.HTML object>"
      ]
     },
     "metadata": {},
     "output_type": "display_data"
    },
    {
     "name": "stderr",
     "output_type": "stream",
     "text": [
      "\u001b[34m\u001b[1mwandb\u001b[0m: Agent Starting Run: 6sd4urvp with config:\n",
      "\u001b[34m\u001b[1mwandb\u001b[0m: \tepoch: 5\n",
      "\u001b[34m\u001b[1mwandb\u001b[0m: \tfreq_width: 27.99271698769651\n",
      "\u001b[34m\u001b[1mwandb\u001b[0m: \tlr: 0.0014928914135438089\n",
      "Failed to detect the name of this notebook, you can set it manually with the WANDB_NOTEBOOK_NAME environment variable to enable code saving.\n"
     ]
    },
    {
     "data": {
      "text/html": [
       "wandb version 0.13.7 is available!  To upgrade, please run:\n",
       " $ pip install wandb --upgrade"
      ],
      "text/plain": [
       "<IPython.core.display.HTML object>"
      ]
     },
     "metadata": {},
     "output_type": "display_data"
    },
    {
     "data": {
      "text/html": [
       "Tracking run with wandb version 0.13.4"
      ],
      "text/plain": [
       "<IPython.core.display.HTML object>"
      ]
     },
     "metadata": {},
     "output_type": "display_data"
    },
    {
     "data": {
      "text/html": [
       "Run data is saved locally in <code>/home/user/code/sbb_asr/notebooks/wandb/run-20230102_213428-6sd4urvp</code>"
      ],
      "text/plain": [
       "<IPython.core.display.HTML object>"
      ]
     },
     "metadata": {},
     "output_type": "display_data"
    },
    {
     "data": {
      "text/html": [
       "Syncing run <strong><a href=\"https://wandb.ai/unisg-ds-nlp/ASR/runs/6sd4urvp\" target=\"_blank\">gallant-sweep-18</a></strong> to <a href=\"https://wandb.ai/unisg-ds-nlp/ASR\" target=\"_blank\">Weights & Biases</a> (<a href=\"https://wandb.me/run\" target=\"_blank\">docs</a>)<br/>Sweep page:  <a href=\"https://wandb.ai/unisg-ds-nlp/ASR/sweeps/v7qi12lc\" target=\"_blank\">https://wandb.ai/unisg-ds-nlp/ASR/sweeps/v7qi12lc</a>"
      ],
      "text/plain": [
       "<IPython.core.display.HTML object>"
      ]
     },
     "metadata": {},
     "output_type": "display_data"
    },
    {
     "name": "stderr",
     "output_type": "stream",
     "text": [
      "[NeMo W 2023-01-02 21:34:30 nemo_logging:349] /home/user/.local/lib/python3.9/site-packages/pytorch_lightning/loggers/wandb.py:352: UserWarning: There is a wandb run already in progress and newly created instances of `WandbLogger` will reuse this run. If this is not desired, call `wandb.finish()` before instantiating `WandbLogger`.\n",
      "      rank_zero_warn(\n",
      "    \n",
      "[NeMo W 2023-01-02 21:34:30 nemo_logging:349] /home/user/.local/lib/python3.9/site-packages/pytorch_lightning/trainer/connectors/accelerator_connector.py:447: LightningDeprecationWarning: Setting `Trainer(gpus=1)` is deprecated in v1.7 and will be removed in v2.0. Please use `Trainer(accelerator='gpu', devices=1)` instead.\n",
      "      rank_zero_deprecation(\n",
      "    \n",
      "GPU available: True (cuda), used: True\n",
      "TPU available: False, using: 0 TPU cores\n",
      "IPU available: False, using: 0 IPUs\n",
      "HPU available: False, using: 0 HPUs\n"
     ]
    },
    {
     "name": "stdout",
     "output_type": "stream",
     "text": [
      "[NeMo I 2023-01-02 21:34:32 cloud:56] Found existing object /home/user/.cache/torch/NeMo/NeMo_1.12.0/stt_de_citrinet_1024/8743e4cecb8017ca2b49a035e07b2893/stt_de_citrinet_1024.nemo.\n",
      "[NeMo I 2023-01-02 21:34:32 cloud:62] Re-using file from: /home/user/.cache/torch/NeMo/NeMo_1.12.0/stt_de_citrinet_1024/8743e4cecb8017ca2b49a035e07b2893/stt_de_citrinet_1024.nemo\n",
      "[NeMo I 2023-01-02 21:34:32 common:910] Instantiating model from pre-trained checkpoint\n",
      "[NeMo I 2023-01-02 21:34:38 mixins:170] Tokenizer SentencePieceTokenizer initialized with 1024 tokens\n"
     ]
    },
    {
     "name": "stderr",
     "output_type": "stream",
     "text": [
      "[NeMo W 2023-01-02 21:34:39 modelPT:142] If you intend to do training or fine-tuning, please call the ModelPT.setup_training_data() method and provide a valid configuration file to setup the train data loader.\n",
      "    Train config : \n",
      "    manifest_filepath: /data/train/tarred_audio_manifest.json\n",
      "    sample_rate: 16000\n",
      "    batch_size: 32\n",
      "    trim_silence: false\n",
      "    max_duration: 35.0\n",
      "    shuffle: true\n",
      "    is_tarred: true\n",
      "    tarred_audio_filepaths: /data/train/audio__OP_0..1023_CL_.tar\n",
      "    use_start_end_token: false\n",
      "    shuffle_n: 1024\n",
      "    num_workers: 16\n",
      "    pin_memory: true\n",
      "    \n",
      "[NeMo W 2023-01-02 21:34:39 modelPT:149] If you intend to do validation, please call the ModelPT.setup_validation_data() or ModelPT.setup_multiple_validation_data() method and provide a valid configuration file to setup the validation data loader(s). \n",
      "    Validation config : \n",
      "    manifest_filepath:\n",
      "    - /data/voxpopuli_de/dev/voxpopuli_dev_manifest.json\n",
      "    - /data/voxpopuli_de/test/voxpopuli_test_manifest.json\n",
      "    - /data/mcv7.0_de/mcv7.0_dev_manifest_cleaned.json\n",
      "    - /data/mcv7.0_de/mcv7.0_test_manifest_cleaned.json\n",
      "    - /data/mls_de/mls_dev_manifest_cleaned.json\n",
      "    - /data/mls_de/mls_test_manifest_cleaned.json\n",
      "    sample_rate: 16000\n",
      "    batch_size: 8\n",
      "    shuffle: false\n",
      "    use_start_end_token: false\n",
      "    num_workers: 8\n",
      "    pin_memory: true\n",
      "    \n",
      "[NeMo W 2023-01-02 21:34:39 modelPT:155] Please call the ModelPT.setup_test_data() or ModelPT.setup_multiple_test_data() method and provide a valid configuration file to setup the test data loader(s).\n",
      "    Test config : \n",
      "    manifest_filepath: null\n",
      "    sample_rate: 16000\n",
      "    batch_size: 32\n",
      "    shuffle: false\n",
      "    use_start_end_token: false\n",
      "    \n"
     ]
    },
    {
     "name": "stdout",
     "output_type": "stream",
     "text": [
      "[NeMo I 2023-01-02 21:34:39 features:225] PADDING: 16\n",
      "[NeMo I 2023-01-02 21:34:45 save_restore_connector:243] Model EncDecCTCModelBPE was successfully restored from /home/user/.cache/torch/NeMo/NeMo_1.12.0/stt_de_citrinet_1024/8743e4cecb8017ca2b49a035e07b2893/stt_de_citrinet_1024.nemo.\n",
      "[NeMo I 2023-01-02 21:34:45 collections:194] Dataset loaded with 1890 files totalling 7.41 hours\n",
      "[NeMo I 2023-01-02 21:34:45 collections:195] 0 files were filtered totalling 0.00 hours\n",
      "[NeMo I 2023-01-02 21:34:45 collections:194] Dataset loaded with 34 files totalling 0.13 hours\n",
      "[NeMo I 2023-01-02 21:34:45 collections:195] 0 files were filtered totalling 0.00 hours\n",
      "[NeMo I 2023-01-02 21:34:45 collections:194] Dataset loaded with 34 files totalling 0.14 hours\n",
      "[NeMo I 2023-01-02 21:34:45 collections:195] 0 files were filtered totalling 0.00 hours\n",
      "[NeMo I 2023-01-02 21:34:46 modelPT:597] Optimizer config = Novograd (\n",
      "    Parameter Group 0\n",
      "        amsgrad: False\n",
      "        betas: [0.8, 0.25]\n",
      "        eps: 1e-08\n",
      "        grad_averaging: False\n",
      "        lr: 0.0014928914135438089\n",
      "        weight_decay: 0.001\n",
      "    )\n",
      "[NeMo I 2023-01-02 21:34:46 lr_scheduler:910] Scheduler \"<nemo.core.optim.lr_scheduler.CosineAnnealing object at 0x7f835e1c1b80>\" \n",
      "    will be used during training (effective maximum steps = 1185) - \n",
      "    Parameters : \n",
      "    (warmup_steps: 10000\n",
      "    warmup_ratio: null\n",
      "    min_lr: 1.0e-05\n",
      "    last_epoch: -1\n",
      "    max_steps: 1185\n",
      "    )\n"
     ]
    },
    {
     "name": "stderr",
     "output_type": "stream",
     "text": [
      "LOCAL_RANK: 0 - CUDA_VISIBLE_DEVICES: [0,1,2,3]\n"
     ]
    },
    {
     "name": "stdout",
     "output_type": "stream",
     "text": [
      "[NeMo I 2023-01-02 21:34:46 modelPT:597] Optimizer config = Novograd (\n",
      "    Parameter Group 0\n",
      "        amsgrad: False\n",
      "        betas: [0.8, 0.25]\n",
      "        eps: 1e-08\n",
      "        grad_averaging: False\n",
      "        lr: 0.0014928914135438089\n",
      "        weight_decay: 0.001\n",
      "    )\n",
      "[NeMo I 2023-01-02 21:34:47 lr_scheduler:910] Scheduler \"<nemo.core.optim.lr_scheduler.CosineAnnealing object at 0x7f838749b5b0>\" \n",
      "    will be used during training (effective maximum steps = 1185) - \n",
      "    Parameters : \n",
      "    (warmup_steps: 10000\n",
      "    warmup_ratio: null\n",
      "    min_lr: 1.0e-05\n",
      "    last_epoch: -1\n",
      "    max_steps: 1185\n",
      "    )\n"
     ]
    },
    {
     "name": "stderr",
     "output_type": "stream",
     "text": [
      "\n",
      "  | Name              | Type                              | Params\n",
      "------------------------------------------------------------------------\n",
      "0 | preprocessor      | AudioToMelSpectrogramPreprocessor | 0     \n",
      "1 | encoder           | ConvASREncoder                    | 140 M \n",
      "2 | decoder           | ConvASRDecoder                    | 1.1 M \n",
      "3 | loss              | CTCLoss                           | 0     \n",
      "4 | spec_augmentation | SpectrogramAugmentation           | 0     \n",
      "5 | _wer              | WERBPE                            | 0     \n",
      "------------------------------------------------------------------------\n",
      "141 M     Trainable params\n",
      "0         Non-trainable params\n",
      "141 M     Total params\n",
      "564.897   Total estimated model params size (MB)\n"
     ]
    },
    {
     "data": {
      "application/vnd.jupyter.widget-view+json": {
       "model_id": "c3e18353fc2849a6be1951348b9387cd",
       "version_major": 2,
       "version_minor": 0
      },
      "text/plain": [
       "Sanity Checking: 0it [00:00, ?it/s]"
      ]
     },
     "metadata": {},
     "output_type": "display_data"
    },
    {
     "name": "stdout",
     "output_type": "stream",
     "text": [
      "[NeMo I 2023-01-02 21:34:50 wer_bpe:187] \n",
      "    \n",
      "[NeMo I 2023-01-02 21:34:50 wer_bpe:188] reference:rangierfahrt vom gleis mike zwei drei ins drei drei antworten\n",
      "[NeMo I 2023-01-02 21:34:50 wer_bpe:189] predicted:prongierfahrt vom gleis maik zwei drei ins drei drei antworten\n",
      "[NeMo I 2023-01-02 21:34:50 wer_bpe:187] \n",
      "    \n",
      "[NeMo I 2023-01-02 21:34:50 wer_bpe:188] reference:spracheingabe\n",
      "[NeMo I 2023-01-02 21:34:50 wer_bpe:189] predicted:spracheingabe\n"
     ]
    },
    {
     "data": {
      "application/vnd.jupyter.widget-view+json": {
       "model_id": "50edc2bf2b2642629c0e269a8262aa9a",
       "version_major": 2,
       "version_minor": 0
      },
      "text/plain": [
       "Training: 0it [00:00, ?it/s]"
      ]
     },
     "metadata": {},
     "output_type": "display_data"
    },
    {
     "name": "stdout",
     "output_type": "stream",
     "text": [
      "[NeMo I 2023-01-02 21:35:22 wer_bpe:187] \n",
      "    \n",
      "[NeMo I 2023-01-02 21:35:22 wer_bpe:188] reference:umstellmanöver von gleis neun vier ins gleis null fünf via gleis lima eins acht antworten\n",
      "[NeMo I 2023-01-02 21:35:22 wer_bpe:189] predicted:um von ins nur gleich ein\n",
      "[NeMo I 2023-01-02 21:35:50 wer_bpe:187] \n",
      "    \n",
      "[NeMo I 2023-01-02 21:35:50 wer_bpe:188] reference:umstellmanöver von sechs null via acht vier ins golf eins vier antworten\n",
      "[NeMo I 2023-01-02 21:35:50 wer_bpe:189] predicted:für wie ja ins ein\n",
      "[NeMo I 2023-01-02 21:36:18 wer_bpe:187] \n",
      "    \n",
      "[NeMo I 2023-01-02 21:36:18 wer_bpe:188] reference:rangierfahrt vom gleis null null nach eins eins antworten\n",
      "[NeMo I 2023-01-02 21:36:18 wer_bpe:189] predicted:rangierlei nun nach ein eins an\n",
      "[NeMo I 2023-01-02 21:36:46 wer_bpe:187] \n",
      "    \n",
      "[NeMo I 2023-01-02 21:36:46 wer_bpe:188] reference:umstellmanöver vom drei acht via gleis neun fünf nach echo sieben sieben antworten\n",
      "[NeMo I 2023-01-02 21:36:46 wer_bpe:189] predicted:uman vom dreiia gleis neun fünf nach und sie\n"
     ]
    },
    {
     "data": {
      "application/vnd.jupyter.widget-view+json": {
       "model_id": "4cd4a637378b466d861503e9a5f18668",
       "version_major": 2,
       "version_minor": 0
      },
      "text/plain": [
       "Validation: 0it [00:00, ?it/s]"
      ]
     },
     "metadata": {},
     "output_type": "display_data"
    },
    {
     "name": "stdout",
     "output_type": "stream",
     "text": [
      "[NeMo I 2023-01-02 21:37:09 wer_bpe:187] \n",
      "    \n",
      "[NeMo I 2023-01-02 21:37:09 wer_bpe:188] reference:rangierfahrt vom gleis mike zwei drei ins drei drei antworten\n",
      "[NeMo I 2023-01-02 21:37:09 wer_bpe:189] predicted:rangierfahrt vom gleis maig zwei drei ins drei drei antwort\n",
      "[NeMo I 2023-01-02 21:37:09 wer_bpe:187] \n",
      "    \n",
      "[NeMo I 2023-01-02 21:37:09 wer_bpe:188] reference:spracheingabe\n",
      "[NeMo I 2023-01-02 21:37:09 wer_bpe:189] predicted:sprach eingabe\n",
      "[NeMo I 2023-01-02 21:37:09 wer_bpe:187] \n",
      "    \n",
      "[NeMo I 2023-01-02 21:37:09 wer_bpe:188] reference:umstellmanöver vom drei sechs nach gleis xray vier sieben via null vier antworten\n",
      "[NeMo I 2023-01-02 21:37:09 wer_bpe:189] predicted:umstellmanöver vom drei sechs nach gleis  ray vier sieben via null viel antworten\n",
      "[NeMo I 2023-01-02 21:37:10 wer_bpe:187] \n",
      "    \n",
      "[NeMo I 2023-01-02 21:37:10 wer_bpe:188] reference:rangierfahrt von gleis sechs neun ins gleis delta sieben antworten\n",
      "[NeMo I 2023-01-02 21:37:10 wer_bpe:189] predicted:rangierfahrt von gleis sechs neun ins gleis delta sieben antworten\n",
      "[NeMo I 2023-01-02 21:37:10 wer_bpe:187] \n",
      "    \n",
      "[NeMo I 2023-01-02 21:37:10 wer_bpe:188] reference:umstellmanöver von charlie drei zwei via gleis victor sechs neun ins gleis golf zwei vier antworten\n",
      "[NeMo I 2023-01-02 21:37:10 wer_bpe:189] predicted:umstellmanöver von charley drei zwei via gleis ctor sechs neun ins gleis gold zwei vier antwort\n",
      "[NeMo I 2023-01-02 21:37:54 wer_bpe:187] \n",
      "    \n",
      "[NeMo I 2023-01-02 21:37:54 wer_bpe:188] reference:rangierfahrt von eins sieben nach gleis fünf antworten\n",
      "[NeMo I 2023-01-02 21:37:54 wer_bpe:189] predicted:schierfahr von ein sie na gleis antworten\n",
      "[NeMo I 2023-01-02 21:38:22 wer_bpe:187] \n",
      "    \n",
      "[NeMo I 2023-01-02 21:38:22 wer_bpe:188] reference:rangierfahrt vom null neun ins uniform sieben sieben antworten\n",
      "[NeMo I 2023-01-02 21:38:22 wer_bpe:189] predicted:rangierfahrt vonnull neun ins uniform sieben antwort\n",
      "[NeMo I 2023-01-02 21:38:50 wer_bpe:187] \n",
      "    \n",
      "[NeMo I 2023-01-02 21:38:50 wer_bpe:188] reference:umstellmanöver vom sechs vier via gleis eins drei nach gleis alpha fünf null antworten\n",
      "[NeMo I 2023-01-02 21:38:50 wer_bpe:189] predicted:stellmanöver vom sechs vier via gleis eins drei gleis alpha fünfn antwort\n",
      "[NeMo I 2023-01-02 21:39:18 wer_bpe:187] \n",
      "    \n",
      "[NeMo I 2023-01-02 21:39:18 wer_bpe:188] reference:in den letzten jahrzehnten ist das interesse gestiegen\n",
      "[NeMo I 2023-01-02 21:39:18 wer_bpe:189] predicted:letzte in das interesse gestiegen\n"
     ]
    },
    {
     "data": {
      "application/vnd.jupyter.widget-view+json": {
       "model_id": "d1ee6c9b3d744405b9bd2089d2c18b18",
       "version_major": 2,
       "version_minor": 0
      },
      "text/plain": [
       "Validation: 0it [00:00, ?it/s]"
      ]
     },
     "metadata": {},
     "output_type": "display_data"
    },
    {
     "name": "stdout",
     "output_type": "stream",
     "text": [
      "[NeMo I 2023-01-02 21:39:41 wer_bpe:187] \n",
      "    \n",
      "[NeMo I 2023-01-02 21:39:41 wer_bpe:188] reference:rangierfahrt vom gleis mike zwei drei ins drei drei antworten\n",
      "[NeMo I 2023-01-02 21:39:41 wer_bpe:189] predicted:rangierfahrt vom gleis mike zwei drei ins drei drei antworten\n",
      "[NeMo I 2023-01-02 21:39:41 wer_bpe:187] \n",
      "    \n",
      "[NeMo I 2023-01-02 21:39:41 wer_bpe:188] reference:spracheingabe\n",
      "[NeMo I 2023-01-02 21:39:41 wer_bpe:189] predicted:sprach eingabe\n",
      "[NeMo I 2023-01-02 21:39:41 wer_bpe:187] \n",
      "    \n",
      "[NeMo I 2023-01-02 21:39:41 wer_bpe:188] reference:umstellmanöver vom drei sechs nach gleis xray vier sieben via null vier antworten\n",
      "[NeMo I 2023-01-02 21:39:41 wer_bpe:189] predicted:umstellmanöver vom drei sechs nach gleis xray vier sieben via null vier antworten\n",
      "[NeMo I 2023-01-02 21:39:41 wer_bpe:187] \n",
      "    \n",
      "[NeMo I 2023-01-02 21:39:41 wer_bpe:188] reference:rangierfahrt von gleis sechs neun ins gleis delta sieben antworten\n",
      "[NeMo I 2023-01-02 21:39:41 wer_bpe:189] predicted:rangierfahrt von gleis sechs neun ins gleis delta sieben antworten\n",
      "[NeMo I 2023-01-02 21:39:42 wer_bpe:187] \n",
      "    \n",
      "[NeMo I 2023-01-02 21:39:42 wer_bpe:188] reference:umstellmanöver von charlie drei zwei via gleis victor sechs neun ins gleis golf zwei vier antworten\n",
      "[NeMo I 2023-01-02 21:39:42 wer_bpe:189] predicted:umstellmanöver von charlie drei zwei via gleis victor sechs neun ins gleis golf zwei vier antworten\n",
      "[NeMo I 2023-01-02 21:40:24 wer_bpe:187] \n",
      "    \n",
      "[NeMo I 2023-01-02 21:40:24 wer_bpe:188] reference:rangierfahrt von gleis zulu vier sechs nach sieben zwei antworten\n",
      "[NeMo I 2023-01-02 21:40:24 wer_bpe:189] predicted:rangierfahrt von gleis zulu vier sechs nach sieben drei antworten\n",
      "[NeMo I 2023-01-02 21:40:52 wer_bpe:187] \n",
      "    \n",
      "[NeMo I 2023-01-02 21:40:52 wer_bpe:188] reference:rangierfahrt von drei fünf ins victor sieben neun antworten\n",
      "[NeMo I 2023-01-02 21:40:52 wer_bpe:189] predicted:rangierfahrt von drei fünf umu sieben neun antwort\n",
      "[NeMo I 2023-01-02 21:41:20 wer_bpe:187] \n",
      "    \n",
      "[NeMo I 2023-01-02 21:41:20 wer_bpe:188] reference:umstellmanöver vom charlie fünf vier via gleis neun fünf ins gleis neun drei antworten\n",
      "[NeMo I 2023-01-02 21:41:20 wer_bpe:189] predicted:umstellmanö vom char fünf vier viachs neun fünf ins gleis neun drei antworten\n",
      "[NeMo I 2023-01-02 21:41:47 wer_bpe:187] \n",
      "    \n",
      "[NeMo I 2023-01-02 21:41:47 wer_bpe:188] reference:umstellmanöver vom kilo fünf sieben nach sechs zwei via gleis neun sechs antworten\n",
      "[NeMo I 2023-01-02 21:41:47 wer_bpe:189] predicted:umstellmanöver vom kilo fünf sieben nach sechs zwei zwei v gleis neun sechs antworten\n"
     ]
    },
    {
     "data": {
      "application/vnd.jupyter.widget-view+json": {
       "model_id": "ebbef0fab2fd4e4ba0fd8f878134aa08",
       "version_major": 2,
       "version_minor": 0
      },
      "text/plain": [
       "Validation: 0it [00:00, ?it/s]"
      ]
     },
     "metadata": {},
     "output_type": "display_data"
    },
    {
     "name": "stdout",
     "output_type": "stream",
     "text": [
      "[NeMo I 2023-01-02 21:42:11 wer_bpe:187] \n",
      "    \n",
      "[NeMo I 2023-01-02 21:42:11 wer_bpe:188] reference:rangierfahrt vom gleis mike zwei drei ins drei drei antworten\n",
      "[NeMo I 2023-01-02 21:42:11 wer_bpe:189] predicted:rangierfahrt vom gleis mike zwei drei ins drei drei antworten\n",
      "[NeMo I 2023-01-02 21:42:11 wer_bpe:187] \n",
      "    \n",
      "[NeMo I 2023-01-02 21:42:11 wer_bpe:188] reference:spracheingabe\n",
      "[NeMo I 2023-01-02 21:42:11 wer_bpe:189] predicted:spracheingabe\n",
      "[NeMo I 2023-01-02 21:42:11 wer_bpe:187] \n",
      "    \n",
      "[NeMo I 2023-01-02 21:42:11 wer_bpe:188] reference:umstellmanöver vom drei sechs nach gleis xray vier sieben via null vier antworten\n",
      "[NeMo I 2023-01-02 21:42:11 wer_bpe:189] predicted:umstellmanöver vom drei sechs nach gleis xray vier sieben via null vier antworten\n",
      "[NeMo I 2023-01-02 21:42:11 wer_bpe:187] \n",
      "    \n",
      "[NeMo I 2023-01-02 21:42:11 wer_bpe:188] reference:rangierfahrt von gleis sechs neun ins gleis delta sieben antworten\n",
      "[NeMo I 2023-01-02 21:42:11 wer_bpe:189] predicted:rangierfahrt von gleis sechs neun ins gleis delta sieben antworten\n",
      "[NeMo I 2023-01-02 21:42:11 wer_bpe:187] \n",
      "    \n",
      "[NeMo I 2023-01-02 21:42:11 wer_bpe:188] reference:umstellmanöver von charlie drei zwei via gleis victor sechs neun ins gleis golf zwei vier antworten\n",
      "[NeMo I 2023-01-02 21:42:11 wer_bpe:189] predicted:umstellmanöver von charlie drei zwei via gleis victor sechs neun ins gleis golf zwei vier antworten\n",
      "[NeMo I 2023-01-02 21:42:59 wer_bpe:187] \n",
      "    \n",
      "[NeMo I 2023-01-02 21:42:59 wer_bpe:188] reference:umstellmanöver von gleis xray neun vier via vier sieben ins gleis india vier fünf antworten\n",
      "[NeMo I 2023-01-02 21:42:59 wer_bpe:189] predicted:umstellmanöver von gleis e neun vier via vier sieben ins gmaia vier fünff antworten\n",
      "[NeMo I 2023-01-02 21:43:28 wer_bpe:187] \n",
      "    \n",
      "[NeMo I 2023-01-02 21:43:28 wer_bpe:188] reference:erst nach dem erreichen dieser altersgrenze wurde er zum kongress zugelassen\n",
      "[NeMo I 2023-01-02 21:43:28 wer_bpe:189] predicted:s reichn antwort\n",
      "[NeMo I 2023-01-02 21:43:55 wer_bpe:187] \n",
      "    \n",
      "[NeMo I 2023-01-02 21:43:55 wer_bpe:188] reference:rangierfahrt vom gleis sechs null ins gleis sechs fünf antworten\n",
      "[NeMo I 2023-01-02 21:43:55 wer_bpe:189] predicted:rangierfahrt von gleis sechs null ins g sechs fünf antworten\n",
      "[NeMo I 2023-01-02 21:44:23 wer_bpe:187] \n",
      "    \n",
      "[NeMo I 2023-01-02 21:44:23 wer_bpe:188] reference:rangierfahrt von neun vier ins null sechs antworten\n",
      "[NeMo I 2023-01-02 21:44:23 wer_bpe:189] predicted:rangierfahrt von neun vier ins null sechs antworten\n"
     ]
    },
    {
     "data": {
      "application/vnd.jupyter.widget-view+json": {
       "model_id": "9cc449013c5043d5a43fe7b4681a7d69",
       "version_major": 2,
       "version_minor": 0
      },
      "text/plain": [
       "Validation: 0it [00:00, ?it/s]"
      ]
     },
     "metadata": {},
     "output_type": "display_data"
    },
    {
     "name": "stdout",
     "output_type": "stream",
     "text": [
      "[NeMo I 2023-01-02 21:44:47 wer_bpe:187] \n",
      "    \n",
      "[NeMo I 2023-01-02 21:44:47 wer_bpe:188] reference:rangierfahrt vom gleis mike zwei drei ins drei drei antworten\n",
      "[NeMo I 2023-01-02 21:44:47 wer_bpe:189] predicted:rangierfahrt vom gleis mike zwei drei ins drei drei antworten\n",
      "[NeMo I 2023-01-02 21:44:47 wer_bpe:187] \n",
      "    \n",
      "[NeMo I 2023-01-02 21:44:47 wer_bpe:188] reference:spracheingabe\n",
      "[NeMo I 2023-01-02 21:44:47 wer_bpe:189] predicted:spracheingabe\n",
      "[NeMo I 2023-01-02 21:44:47 wer_bpe:187] \n",
      "    \n",
      "[NeMo I 2023-01-02 21:44:47 wer_bpe:188] reference:umstellmanöver vom drei sechs nach gleis xray vier sieben via null vier antworten\n",
      "[NeMo I 2023-01-02 21:44:47 wer_bpe:189] predicted:umstellmanöver vom drei sechs nach gleis xray vier sieben via null vier antworten\n",
      "[NeMo I 2023-01-02 21:44:48 wer_bpe:187] \n",
      "    \n",
      "[NeMo I 2023-01-02 21:44:48 wer_bpe:188] reference:rangierfahrt von gleis sechs neun ins gleis delta sieben antworten\n",
      "[NeMo I 2023-01-02 21:44:48 wer_bpe:189] predicted:rangierfahrt von gleis sechs neun ins gleis delta sieben antworten\n",
      "[NeMo I 2023-01-02 21:44:48 wer_bpe:187] \n",
      "    \n",
      "[NeMo I 2023-01-02 21:44:48 wer_bpe:188] reference:umstellmanöver von charlie drei zwei via gleis victor sechs neun ins gleis golf zwei vier antworten\n",
      "[NeMo I 2023-01-02 21:44:48 wer_bpe:189] predicted:umstellmanöver von charlie drei zwei via gleis victor sechs neun ins gleis golf zwei vier antworten\n",
      "[NeMo I 2023-01-02 21:45:30 wer_bpe:187] \n",
      "    \n",
      "[NeMo I 2023-01-02 21:45:30 wer_bpe:188] reference:rangierfahrt von india drei acht ins gleis sieben eins antworten\n",
      "[NeMo I 2023-01-02 21:45:30 wer_bpe:189] predicted:rangierfahrt von india drei acht ins gleis sieben eins antworten\n",
      "[NeMo I 2023-01-02 21:45:58 wer_bpe:187] \n",
      "    \n",
      "[NeMo I 2023-01-02 21:45:58 wer_bpe:188] reference:rangierfahrt von gleis eins fünf nach gleis oscar null zwei antworten\n",
      "[NeMo I 2023-01-02 21:45:58 wer_bpe:189] predicted:rangierfahrt von gs eins fünf vma gleisleis giaia\n",
      "[NeMo I 2023-01-02 21:46:25 wer_bpe:187] \n",
      "    \n",
      "[NeMo I 2023-01-02 21:46:25 wer_bpe:188] reference:umstellmanöver vom mike zwei null via gleis xray null sechs ins gleis eins sieben antworten\n",
      "[NeMo I 2023-01-02 21:46:25 wer_bpe:189] predicted:umstellmanöver vom mike zwei null via gleis xray neunul sechs ins gleis eins sieben g\n",
      "[NeMo I 2023-01-02 21:46:53 wer_bpe:187] \n",
      "    \n",
      "[NeMo I 2023-01-02 21:46:53 wer_bpe:188] reference:umstellmanöver vom romeo fünf via november sieben und acht drei nach gleis xray fünf antworten\n",
      "[NeMo I 2023-01-02 21:46:53 wer_bpe:189] predicted:umstellmanöver vom ro romeo fünf via november sieben und acht drei nach gleis xray fünf antworten\n"
     ]
    },
    {
     "data": {
      "application/vnd.jupyter.widget-view+json": {
       "model_id": "2d416513c55841ef94f439d09ccc37cc",
       "version_major": 2,
       "version_minor": 0
      },
      "text/plain": [
       "Validation: 0it [00:00, ?it/s]"
      ]
     },
     "metadata": {},
     "output_type": "display_data"
    },
    {
     "name": "stdout",
     "output_type": "stream",
     "text": [
      "[NeMo I 2023-01-02 21:47:17 wer_bpe:187] \n",
      "    \n",
      "[NeMo I 2023-01-02 21:47:17 wer_bpe:188] reference:rangierfahrt vom gleis mike zwei drei ins drei drei antworten\n",
      "[NeMo I 2023-01-02 21:47:17 wer_bpe:189] predicted:rangierfahrt vom gleis mike zwei drei ins drei drei antworten\n",
      "[NeMo I 2023-01-02 21:47:17 wer_bpe:187] \n",
      "    \n",
      "[NeMo I 2023-01-02 21:47:17 wer_bpe:188] reference:spracheingabe\n",
      "[NeMo I 2023-01-02 21:47:17 wer_bpe:189] predicted:spracheingabe\n",
      "[NeMo I 2023-01-02 21:47:17 wer_bpe:187] \n",
      "    \n",
      "[NeMo I 2023-01-02 21:47:17 wer_bpe:188] reference:umstellmanöver vom drei sechs nach gleis xray vier sieben via null vier antworten\n",
      "[NeMo I 2023-01-02 21:47:17 wer_bpe:189] predicted:umstellmanöver vom drei sechs nach gleis xray vier sieben via null vier antworten\n",
      "[NeMo I 2023-01-02 21:47:17 wer_bpe:187] \n",
      "    \n",
      "[NeMo I 2023-01-02 21:47:17 wer_bpe:188] reference:rangierfahrt von gleis sechs neun ins gleis delta sieben antworten\n",
      "[NeMo I 2023-01-02 21:47:17 wer_bpe:189] predicted:rangierfahrt von gleis sechs neun ins gleis delta sieben antworten\n",
      "[NeMo I 2023-01-02 21:47:17 wer_bpe:187] \n",
      "    \n",
      "[NeMo I 2023-01-02 21:47:17 wer_bpe:188] reference:umstellmanöver von charlie drei zwei via gleis victor sechs neun ins gleis golf zwei vier antworten\n",
      "[NeMo I 2023-01-02 21:47:17 wer_bpe:189] predicted:umstellmanöver von charlie drei zwei via gleis victor sechs neun ins gleis golf zwei vier antworten\n"
     ]
    },
    {
     "name": "stderr",
     "output_type": "stream",
     "text": [
      "`Trainer.fit` stopped: `max_epochs=5` reached.\n"
     ]
    },
    {
     "data": {
      "text/html": [
       "Waiting for W&B process to finish... <strong style=\"color:green\">(success).</strong>"
      ],
      "text/plain": [
       "<IPython.core.display.HTML object>"
      ]
     },
     "metadata": {},
     "output_type": "display_data"
    },
    {
     "data": {
      "text/html": [
       "<style>\n",
       "    table.wandb td:nth-child(1) { padding: 0 10px; text-align: left ; width: auto;} td:nth-child(2) {text-align: left ; width: 100%}\n",
       "    .wandb-row { display: flex; flex-direction: row; flex-wrap: wrap; justify-content: flex-start; width: 100% }\n",
       "    .wandb-col { display: flex; flex-direction: column; flex-basis: 100%; flex: 1; padding: 10px; }\n",
       "    </style>\n",
       "<div class=\"wandb-row\"><div class=\"wandb-col\"><h3>Run history:</h3><br/><table class=\"wandb\"><tr><td>epoch</td><td>▁▁▁▁▁▃▃▃▃▃▃▅▅▅▅▅▅▆▆▆▆▆██████</td></tr><tr><td>global_step</td><td>▁▁▂▂▂▂▃▃▃▃▄▄▄▄▅▅▅▅▆▆▆▇▇▇▇▇██</td></tr><tr><td>learning_rate</td><td>▁▁▂▂▂▃▃▃▄▄▄▄▅▅▅▆▆▆▇▇▇██</td></tr><tr><td>train_loss</td><td>▇██▇▆▅▄▄▂▃▂▃▁▄▂▂▄▃▁▁▂▃▁</td></tr><tr><td>trainer/global_step</td><td>▁▁▂▂▂▂▃▃▃▃▄▄▄▄▅▅▅▅▆▆▆▇▇▇▇▇██</td></tr><tr><td>training_batch_wer</td><td>███▅▆▃▄▃▃▃▃▄▃▂▂▃▂▁▂</td></tr><tr><td>val_loss</td><td>█▂▁▁▁</td></tr><tr><td>val_wer</td><td>█▂▂▁▁</td></tr></table><br/></div><div class=\"wandb-col\"><h3>Run summary:</h3><br/><table class=\"wandb\"><tr><td>epoch</td><td>4</td></tr><tr><td>global_step</td><td>1185.0</td></tr><tr><td>learning_rate</td><td>0.00017</td></tr><tr><td>train_loss</td><td>6.40444</td></tr><tr><td>trainer/global_step</td><td>1184</td></tr><tr><td>training_batch_wer</td><td>0.24138</td></tr><tr><td>val_loss</td><td>1.59974</td></tr><tr><td>val_wer</td><td>0.02089</td></tr></table><br/></div></div>"
      ],
      "text/plain": [
       "<IPython.core.display.HTML object>"
      ]
     },
     "metadata": {},
     "output_type": "display_data"
    },
    {
     "data": {
      "text/html": [
       "Synced <strong style=\"color:#cdcd00\">gallant-sweep-18</strong>: <a href=\"https://wandb.ai/unisg-ds-nlp/ASR/runs/6sd4urvp\" target=\"_blank\">https://wandb.ai/unisg-ds-nlp/ASR/runs/6sd4urvp</a><br/>Synced 5 W&B file(s), 0 media file(s), 5 artifact file(s) and 0 other file(s)"
      ],
      "text/plain": [
       "<IPython.core.display.HTML object>"
      ]
     },
     "metadata": {},
     "output_type": "display_data"
    },
    {
     "data": {
      "text/html": [
       "Find logs at: <code>./wandb/run-20230102_213428-6sd4urvp/logs</code>"
      ],
      "text/plain": [
       "<IPython.core.display.HTML object>"
      ]
     },
     "metadata": {},
     "output_type": "display_data"
    },
    {
     "name": "stderr",
     "output_type": "stream",
     "text": [
      "\u001b[34m\u001b[1mwandb\u001b[0m: Agent Starting Run: 79s6v0an with config:\n",
      "\u001b[34m\u001b[1mwandb\u001b[0m: \tepoch: 6\n",
      "\u001b[34m\u001b[1mwandb\u001b[0m: \tfreq_width: 27.465425918658777\n",
      "\u001b[34m\u001b[1mwandb\u001b[0m: \tlr: 0.008246189629441911\n",
      "Failed to detect the name of this notebook, you can set it manually with the WANDB_NOTEBOOK_NAME environment variable to enable code saving.\n"
     ]
    },
    {
     "data": {
      "text/html": [
       "wandb version 0.13.7 is available!  To upgrade, please run:\n",
       " $ pip install wandb --upgrade"
      ],
      "text/plain": [
       "<IPython.core.display.HTML object>"
      ]
     },
     "metadata": {},
     "output_type": "display_data"
    },
    {
     "data": {
      "text/html": [
       "Tracking run with wandb version 0.13.4"
      ],
      "text/plain": [
       "<IPython.core.display.HTML object>"
      ]
     },
     "metadata": {},
     "output_type": "display_data"
    },
    {
     "data": {
      "text/html": [
       "Run data is saved locally in <code>/home/user/code/sbb_asr/notebooks/wandb/run-20230102_214822-79s6v0an</code>"
      ],
      "text/plain": [
       "<IPython.core.display.HTML object>"
      ]
     },
     "metadata": {},
     "output_type": "display_data"
    },
    {
     "data": {
      "text/html": [
       "Syncing run <strong><a href=\"https://wandb.ai/unisg-ds-nlp/ASR/runs/79s6v0an\" target=\"_blank\">expert-sweep-19</a></strong> to <a href=\"https://wandb.ai/unisg-ds-nlp/ASR\" target=\"_blank\">Weights & Biases</a> (<a href=\"https://wandb.me/run\" target=\"_blank\">docs</a>)<br/>Sweep page:  <a href=\"https://wandb.ai/unisg-ds-nlp/ASR/sweeps/v7qi12lc\" target=\"_blank\">https://wandb.ai/unisg-ds-nlp/ASR/sweeps/v7qi12lc</a>"
      ],
      "text/plain": [
       "<IPython.core.display.HTML object>"
      ]
     },
     "metadata": {},
     "output_type": "display_data"
    },
    {
     "name": "stderr",
     "output_type": "stream",
     "text": [
      "[NeMo W 2023-01-02 21:48:24 nemo_logging:349] /home/user/.local/lib/python3.9/site-packages/pytorch_lightning/loggers/wandb.py:352: UserWarning: There is a wandb run already in progress and newly created instances of `WandbLogger` will reuse this run. If this is not desired, call `wandb.finish()` before instantiating `WandbLogger`.\n",
      "      rank_zero_warn(\n",
      "    \n",
      "[NeMo W 2023-01-02 21:48:24 nemo_logging:349] /home/user/.local/lib/python3.9/site-packages/pytorch_lightning/trainer/connectors/accelerator_connector.py:447: LightningDeprecationWarning: Setting `Trainer(gpus=1)` is deprecated in v1.7 and will be removed in v2.0. Please use `Trainer(accelerator='gpu', devices=1)` instead.\n",
      "      rank_zero_deprecation(\n",
      "    \n",
      "GPU available: True (cuda), used: True\n",
      "TPU available: False, using: 0 TPU cores\n",
      "IPU available: False, using: 0 IPUs\n",
      "HPU available: False, using: 0 HPUs\n"
     ]
    },
    {
     "name": "stdout",
     "output_type": "stream",
     "text": [
      "[NeMo I 2023-01-02 21:48:27 cloud:56] Found existing object /home/user/.cache/torch/NeMo/NeMo_1.12.0/stt_de_citrinet_1024/8743e4cecb8017ca2b49a035e07b2893/stt_de_citrinet_1024.nemo.\n",
      "[NeMo I 2023-01-02 21:48:27 cloud:62] Re-using file from: /home/user/.cache/torch/NeMo/NeMo_1.12.0/stt_de_citrinet_1024/8743e4cecb8017ca2b49a035e07b2893/stt_de_citrinet_1024.nemo\n",
      "[NeMo I 2023-01-02 21:48:27 common:910] Instantiating model from pre-trained checkpoint\n",
      "[NeMo I 2023-01-02 21:48:32 mixins:170] Tokenizer SentencePieceTokenizer initialized with 1024 tokens\n"
     ]
    },
    {
     "name": "stderr",
     "output_type": "stream",
     "text": [
      "[NeMo W 2023-01-02 21:48:33 modelPT:142] If you intend to do training or fine-tuning, please call the ModelPT.setup_training_data() method and provide a valid configuration file to setup the train data loader.\n",
      "    Train config : \n",
      "    manifest_filepath: /data/train/tarred_audio_manifest.json\n",
      "    sample_rate: 16000\n",
      "    batch_size: 32\n",
      "    trim_silence: false\n",
      "    max_duration: 35.0\n",
      "    shuffle: true\n",
      "    is_tarred: true\n",
      "    tarred_audio_filepaths: /data/train/audio__OP_0..1023_CL_.tar\n",
      "    use_start_end_token: false\n",
      "    shuffle_n: 1024\n",
      "    num_workers: 16\n",
      "    pin_memory: true\n",
      "    \n",
      "[NeMo W 2023-01-02 21:48:33 modelPT:149] If you intend to do validation, please call the ModelPT.setup_validation_data() or ModelPT.setup_multiple_validation_data() method and provide a valid configuration file to setup the validation data loader(s). \n",
      "    Validation config : \n",
      "    manifest_filepath:\n",
      "    - /data/voxpopuli_de/dev/voxpopuli_dev_manifest.json\n",
      "    - /data/voxpopuli_de/test/voxpopuli_test_manifest.json\n",
      "    - /data/mcv7.0_de/mcv7.0_dev_manifest_cleaned.json\n",
      "    - /data/mcv7.0_de/mcv7.0_test_manifest_cleaned.json\n",
      "    - /data/mls_de/mls_dev_manifest_cleaned.json\n",
      "    - /data/mls_de/mls_test_manifest_cleaned.json\n",
      "    sample_rate: 16000\n",
      "    batch_size: 8\n",
      "    shuffle: false\n",
      "    use_start_end_token: false\n",
      "    num_workers: 8\n",
      "    pin_memory: true\n",
      "    \n",
      "[NeMo W 2023-01-02 21:48:33 modelPT:155] Please call the ModelPT.setup_test_data() or ModelPT.setup_multiple_test_data() method and provide a valid configuration file to setup the test data loader(s).\n",
      "    Test config : \n",
      "    manifest_filepath: null\n",
      "    sample_rate: 16000\n",
      "    batch_size: 32\n",
      "    shuffle: false\n",
      "    use_start_end_token: false\n",
      "    \n"
     ]
    },
    {
     "name": "stdout",
     "output_type": "stream",
     "text": [
      "[NeMo I 2023-01-02 21:48:33 features:225] PADDING: 16\n",
      "[NeMo I 2023-01-02 21:48:37 save_restore_connector:243] Model EncDecCTCModelBPE was successfully restored from /home/user/.cache/torch/NeMo/NeMo_1.12.0/stt_de_citrinet_1024/8743e4cecb8017ca2b49a035e07b2893/stt_de_citrinet_1024.nemo.\n",
      "[NeMo I 2023-01-02 21:48:38 collections:194] Dataset loaded with 1890 files totalling 7.41 hours\n",
      "[NeMo I 2023-01-02 21:48:38 collections:195] 0 files were filtered totalling 0.00 hours\n",
      "[NeMo I 2023-01-02 21:48:38 collections:194] Dataset loaded with 34 files totalling 0.13 hours\n",
      "[NeMo I 2023-01-02 21:48:38 collections:195] 0 files were filtered totalling 0.00 hours\n",
      "[NeMo I 2023-01-02 21:48:38 collections:194] Dataset loaded with 34 files totalling 0.14 hours\n",
      "[NeMo I 2023-01-02 21:48:38 collections:195] 0 files were filtered totalling 0.00 hours\n",
      "[NeMo I 2023-01-02 21:48:38 modelPT:597] Optimizer config = Novograd (\n",
      "    Parameter Group 0\n",
      "        amsgrad: False\n",
      "        betas: [0.8, 0.25]\n",
      "        eps: 1e-08\n",
      "        grad_averaging: False\n",
      "        lr: 0.008246189629441911\n",
      "        weight_decay: 0.001\n",
      "    )\n",
      "[NeMo I 2023-01-02 21:48:38 lr_scheduler:910] Scheduler \"<nemo.core.optim.lr_scheduler.CosineAnnealing object at 0x7f838742b9a0>\" \n",
      "    will be used during training (effective maximum steps = 1422) - \n",
      "    Parameters : \n",
      "    (warmup_steps: 10000\n",
      "    warmup_ratio: null\n",
      "    min_lr: 1.0e-05\n",
      "    last_epoch: -1\n",
      "    max_steps: 1422\n",
      "    )\n"
     ]
    },
    {
     "name": "stderr",
     "output_type": "stream",
     "text": [
      "LOCAL_RANK: 0 - CUDA_VISIBLE_DEVICES: [0,1,2,3]\n"
     ]
    },
    {
     "name": "stdout",
     "output_type": "stream",
     "text": [
      "[NeMo I 2023-01-02 21:48:39 modelPT:597] Optimizer config = Novograd (\n",
      "    Parameter Group 0\n",
      "        amsgrad: False\n",
      "        betas: [0.8, 0.25]\n",
      "        eps: 1e-08\n",
      "        grad_averaging: False\n",
      "        lr: 0.008246189629441911\n",
      "        weight_decay: 0.001\n",
      "    )\n",
      "[NeMo I 2023-01-02 21:48:39 lr_scheduler:910] Scheduler \"<nemo.core.optim.lr_scheduler.CosineAnnealing object at 0x7f842c8db820>\" \n",
      "    will be used during training (effective maximum steps = 1422) - \n",
      "    Parameters : \n",
      "    (warmup_steps: 10000\n",
      "    warmup_ratio: null\n",
      "    min_lr: 1.0e-05\n",
      "    last_epoch: -1\n",
      "    max_steps: 1422\n",
      "    )\n"
     ]
    },
    {
     "name": "stderr",
     "output_type": "stream",
     "text": [
      "\n",
      "  | Name              | Type                              | Params\n",
      "------------------------------------------------------------------------\n",
      "0 | preprocessor      | AudioToMelSpectrogramPreprocessor | 0     \n",
      "1 | encoder           | ConvASREncoder                    | 140 M \n",
      "2 | decoder           | ConvASRDecoder                    | 1.1 M \n",
      "3 | loss              | CTCLoss                           | 0     \n",
      "4 | spec_augmentation | SpectrogramAugmentation           | 0     \n",
      "5 | _wer              | WERBPE                            | 0     \n",
      "------------------------------------------------------------------------\n",
      "141 M     Trainable params\n",
      "0         Non-trainable params\n",
      "141 M     Total params\n",
      "564.897   Total estimated model params size (MB)\n"
     ]
    },
    {
     "data": {
      "application/vnd.jupyter.widget-view+json": {
       "model_id": "4f6e4a8631bf4fd0a85e74a6938020d7",
       "version_major": 2,
       "version_minor": 0
      },
      "text/plain": [
       "Sanity Checking: 0it [00:00, ?it/s]"
      ]
     },
     "metadata": {},
     "output_type": "display_data"
    },
    {
     "name": "stdout",
     "output_type": "stream",
     "text": [
      "[NeMo I 2023-01-02 21:48:41 wer_bpe:187] \n",
      "    \n",
      "[NeMo I 2023-01-02 21:48:41 wer_bpe:188] reference:rangierfahrt vom gleis mike zwei drei ins drei drei antworten\n",
      "[NeMo I 2023-01-02 21:48:41 wer_bpe:189] predicted:prongierfahrt vom gleis maik zwei drei ins drei drei antworten\n",
      "[NeMo I 2023-01-02 21:48:41 wer_bpe:187] \n",
      "    \n",
      "[NeMo I 2023-01-02 21:48:41 wer_bpe:188] reference:spracheingabe\n",
      "[NeMo I 2023-01-02 21:48:41 wer_bpe:189] predicted:spracheingabe\n"
     ]
    },
    {
     "data": {
      "application/vnd.jupyter.widget-view+json": {
       "model_id": "6d96d616c26949c3be98355050544a38",
       "version_major": 2,
       "version_minor": 0
      },
      "text/plain": [
       "Training: 0it [00:00, ?it/s]"
      ]
     },
     "metadata": {},
     "output_type": "display_data"
    },
    {
     "name": "stdout",
     "output_type": "stream",
     "text": [
      "[NeMo I 2023-01-02 21:49:14 wer_bpe:187] \n",
      "    \n",
      "[NeMo I 2023-01-02 21:49:14 wer_bpe:188] reference:umstellmanöver vom eins acht ins gleis quebec neun zwei via gleis juliet null neun antworten\n",
      "[NeMo I 2023-01-02 21:49:14 wer_bpe:189] predicted:imstell manö einssbe neu zwei wielei an\n",
      "[NeMo I 2023-01-02 21:49:42 wer_bpe:187] \n",
      "    \n",
      "[NeMo I 2023-01-02 21:49:42 wer_bpe:188] reference:rangierfahrt von gleis uniform vier null ins gleis zwei vier antworten\n",
      "[NeMo I 2023-01-02 21:49:42 wer_bpe:189] predicted:rofahrt vom gleis uniform vier null ins gleis zwei antworten\n",
      "[NeMo I 2023-01-02 21:50:10 wer_bpe:187] \n",
      "    \n",
      "[NeMo I 2023-01-02 21:50:10 wer_bpe:188] reference:rangierfahrt vom gleis sechs acht nach gleis acht sechs antworten\n",
      "[NeMo I 2023-01-02 21:50:10 wer_bpe:189] predicted:rangierfafen g gleich s acht nach gs acht sechs antworten\n",
      "[NeMo I 2023-01-02 21:50:37 wer_bpe:187] \n",
      "    \n",
      "[NeMo I 2023-01-02 21:50:37 wer_bpe:188] reference:umstellmanöver vom drei neun via foxtrot sechs sechs ins gleis mike acht acht antworten\n",
      "[NeMo I 2023-01-02 21:50:37 wer_bpe:189] predicted:umstellmanöver drei neun via foxtro sechs sechs ins gleis  acht antworten\n"
     ]
    },
    {
     "data": {
      "application/vnd.jupyter.widget-view+json": {
       "model_id": "71071989d7c743c9b65032141dd3176c",
       "version_major": 2,
       "version_minor": 0
      },
      "text/plain": [
       "Validation: 0it [00:00, ?it/s]"
      ]
     },
     "metadata": {},
     "output_type": "display_data"
    },
    {
     "name": "stdout",
     "output_type": "stream",
     "text": [
      "[NeMo I 2023-01-02 21:51:01 wer_bpe:187] \n",
      "    \n",
      "[NeMo I 2023-01-02 21:51:01 wer_bpe:188] reference:rangierfahrt vom gleis mike zwei drei ins drei drei antworten\n",
      "[NeMo I 2023-01-02 21:51:01 wer_bpe:189] predicted:rangierfahrt vom gleis mike zwei drei ins drei drei antworten\n",
      "[NeMo I 2023-01-02 21:51:01 wer_bpe:187] \n",
      "    \n",
      "[NeMo I 2023-01-02 21:51:01 wer_bpe:188] reference:spracheingabe\n",
      "[NeMo I 2023-01-02 21:51:01 wer_bpe:189] predicted:sprach eingabe\n",
      "[NeMo I 2023-01-02 21:51:01 wer_bpe:187] \n",
      "    \n",
      "[NeMo I 2023-01-02 21:51:01 wer_bpe:188] reference:umstellmanöver vom drei sechs nach gleis xray vier sieben via null vier antworten\n",
      "[NeMo I 2023-01-02 21:51:01 wer_bpe:189] predicted:umstellmanöver vom drei sechs nach gleis xray vier sieben via null vier antworten\n",
      "[NeMo I 2023-01-02 21:51:01 wer_bpe:187] \n",
      "    \n",
      "[NeMo I 2023-01-02 21:51:01 wer_bpe:188] reference:rangierfahrt von gleis sechs neun ins gleis delta sieben antworten\n",
      "[NeMo I 2023-01-02 21:51:01 wer_bpe:189] predicted:rangierfahrt von gleis sechs neun ins gleis delta sieben antworten\n",
      "[NeMo I 2023-01-02 21:51:01 wer_bpe:187] \n",
      "    \n",
      "[NeMo I 2023-01-02 21:51:01 wer_bpe:188] reference:umstellmanöver von charlie drei zwei via gleis victor sechs neun ins gleis golf zwei vier antworten\n",
      "[NeMo I 2023-01-02 21:51:01 wer_bpe:189] predicted:umstellmanöver von charlie drei zwei via gleis victor sechs neun ins gleis golf zwei vier antworten\n",
      "[NeMo I 2023-01-02 21:51:55 wer_bpe:187] \n",
      "    \n",
      "[NeMo I 2023-01-02 21:51:55 wer_bpe:188] reference:umstellmanöver vom vier sieben via gleis acht fünf ins gleis victor acht antworten\n",
      "[NeMo I 2023-01-02 21:51:55 wer_bpe:189] predicted:umstellmanöver von vier sieben g gleis acht fünf gleis wie acht antworten\n",
      "[NeMo I 2023-01-02 21:52:23 wer_bpe:187] \n",
      "    \n",
      "[NeMo I 2023-01-02 21:52:23 wer_bpe:188] reference:rangierfahrt vom gleis romeo vier fünf nach gleis hotel zwei antworten\n",
      "[NeMo I 2023-01-02 21:52:23 wer_bpe:189] predicted:rangierfahr von gleis v gleis zwei antworten\n",
      "[NeMo I 2023-01-02 21:52:50 wer_bpe:187] \n",
      "    \n",
      "[NeMo I 2023-01-02 21:52:50 wer_bpe:188] reference:rangierfahrt von gleis bravo neun sieben ins drei sechs antworten\n",
      "[NeMo I 2023-01-02 21:52:50 wer_bpe:189] predicted:rangierfahrt von gleis bravo neun sieben ins drei sechs antworten\n",
      "[NeMo I 2023-01-02 21:53:18 wer_bpe:187] \n",
      "    \n",
      "[NeMo I 2023-01-02 21:53:18 wer_bpe:188] reference:umstellmanöver von gleis neun vier ins gleis null fünf via gleis lima eins acht antworten\n",
      "[NeMo I 2023-01-02 21:53:18 wer_bpe:189] predicted:umstellmanöver vom gleis neun vier ins gleis null fünf via in ma eins acht antworten\n"
     ]
    },
    {
     "data": {
      "application/vnd.jupyter.widget-view+json": {
       "model_id": "a1d40650fbc84feea6da9fffcd5218f2",
       "version_major": 2,
       "version_minor": 0
      },
      "text/plain": [
       "Validation: 0it [00:00, ?it/s]"
      ]
     },
     "metadata": {},
     "output_type": "display_data"
    },
    {
     "name": "stdout",
     "output_type": "stream",
     "text": [
      "[NeMo I 2023-01-02 21:53:41 wer_bpe:187] \n",
      "    \n",
      "[NeMo I 2023-01-02 21:53:41 wer_bpe:188] reference:rangierfahrt vom gleis mike zwei drei ins drei drei antworten\n",
      "[NeMo I 2023-01-02 21:53:41 wer_bpe:189] predicted:rangierfahrt vom gleis mike zwei drei ins drei drei antwortenn\n",
      "[NeMo I 2023-01-02 21:53:41 wer_bpe:187] \n",
      "    \n",
      "[NeMo I 2023-01-02 21:53:41 wer_bpe:188] reference:spracheingabe\n",
      "[NeMo I 2023-01-02 21:53:41 wer_bpe:189] predicted:spracheingabe\n",
      "[NeMo I 2023-01-02 21:53:41 wer_bpe:187] \n",
      "    \n",
      "[NeMo I 2023-01-02 21:53:41 wer_bpe:188] reference:umstellmanöver vom drei sechs nach gleis xray vier sieben via null vier antworten\n",
      "[NeMo I 2023-01-02 21:53:41 wer_bpe:189] predicted:umstellmanöver vom drei sechs nach gleis xray vier sieben via null vier antworten\n",
      "[NeMo I 2023-01-02 21:53:42 wer_bpe:187] \n",
      "    \n",
      "[NeMo I 2023-01-02 21:53:42 wer_bpe:188] reference:rangierfahrt von gleis sechs neun ins gleis delta sieben antworten\n",
      "[NeMo I 2023-01-02 21:53:42 wer_bpe:189] predicted:rangierfahrt von gleis sechs neun ins gleis delta sieben antworten\n",
      "[NeMo I 2023-01-02 21:53:42 wer_bpe:187] \n",
      "    \n",
      "[NeMo I 2023-01-02 21:53:42 wer_bpe:188] reference:umstellmanöver von charlie drei zwei via gleis victor sechs neun ins gleis golf zwei vier antworten\n",
      "[NeMo I 2023-01-02 21:53:42 wer_bpe:189] predicted:umstellmanöver von charlie drei zwei via gleis victor sechs neun ins gleis golf zwei vier antworten\n",
      "[NeMo I 2023-01-02 21:54:24 wer_bpe:187] \n",
      "    \n",
      "[NeMo I 2023-01-02 21:54:24 wer_bpe:188] reference:zum start\n",
      "[NeMo I 2023-01-02 21:54:24 wer_bpe:189] predicted:neustart\n",
      "[NeMo I 2023-01-02 21:54:52 wer_bpe:187] \n",
      "    \n",
      "[NeMo I 2023-01-02 21:54:52 wer_bpe:188] reference:spracheingabe\n",
      "[NeMo I 2023-01-02 21:54:52 wer_bpe:189] predicted:spracheingabe\n",
      "[NeMo I 2023-01-02 21:55:20 wer_bpe:187] \n",
      "    \n",
      "[NeMo I 2023-01-02 21:55:20 wer_bpe:188] reference:umstellmanöver von tango neun acht ins gleis whisky zwei drei via gleis zwei fünf antworten\n",
      "[NeMo I 2023-01-02 21:55:20 wer_bpe:189] predicted:umstellmanöver vom tongo neun acht in gleis whisky zwei drei via gleis zwei fünf antworten\n",
      "[NeMo I 2023-01-02 21:55:48 wer_bpe:187] \n",
      "    \n",
      "[NeMo I 2023-01-02 21:55:48 wer_bpe:188] reference:rangierfahrt von alpha zwei sieben sieben nach oscar null neun fünf\n",
      "[NeMo I 2023-01-02 21:55:48 wer_bpe:189] predicted:rangierfahrt vom von zwei in sie gs vier zwei vier\n"
     ]
    },
    {
     "data": {
      "application/vnd.jupyter.widget-view+json": {
       "model_id": "e53f03fdce864656823d97495dee221a",
       "version_major": 2,
       "version_minor": 0
      },
      "text/plain": [
       "Validation: 0it [00:00, ?it/s]"
      ]
     },
     "metadata": {},
     "output_type": "display_data"
    },
    {
     "name": "stdout",
     "output_type": "stream",
     "text": [
      "[NeMo I 2023-01-02 21:56:12 wer_bpe:187] \n",
      "    \n",
      "[NeMo I 2023-01-02 21:56:12 wer_bpe:188] reference:rangierfahrt vom gleis mike zwei drei ins drei drei antworten\n",
      "[NeMo I 2023-01-02 21:56:12 wer_bpe:189] predicted:rangierfahrt vom gleis mike zwei drei ins drei drei antworten\n",
      "[NeMo I 2023-01-02 21:56:12 wer_bpe:187] \n",
      "    \n",
      "[NeMo I 2023-01-02 21:56:12 wer_bpe:188] reference:spracheingabe\n",
      "[NeMo I 2023-01-02 21:56:12 wer_bpe:189] predicted:spracheingabe\n",
      "[NeMo I 2023-01-02 21:56:12 wer_bpe:187] \n",
      "    \n",
      "[NeMo I 2023-01-02 21:56:12 wer_bpe:188] reference:umstellmanöver vom drei sechs nach gleis xray vier sieben via null vier antworten\n",
      "[NeMo I 2023-01-02 21:56:12 wer_bpe:189] predicted:umstellmanöver vom drei sechs nach gleis xray vier sieben via null vier antworten\n",
      "[NeMo I 2023-01-02 21:56:13 wer_bpe:187] \n",
      "    \n",
      "[NeMo I 2023-01-02 21:56:13 wer_bpe:188] reference:rangierfahrt von gleis sechs neun ins gleis delta sieben antworten\n",
      "[NeMo I 2023-01-02 21:56:13 wer_bpe:189] predicted:rangierfahrt von gleis sechs neun ins gleis delta sieben antworten\n",
      "[NeMo I 2023-01-02 21:56:13 wer_bpe:187] \n",
      "    \n",
      "[NeMo I 2023-01-02 21:56:13 wer_bpe:188] reference:umstellmanöver von charlie drei zwei via gleis victor sechs neun ins gleis golf zwei vier antworten\n",
      "[NeMo I 2023-01-02 21:56:13 wer_bpe:189] predicted:umstellmanöver von charlie drei zwei via gleis victor sechs neun ins gleis golf zwei vier antworten\n",
      "[NeMo I 2023-01-02 21:56:56 wer_bpe:187] \n",
      "    \n",
      "[NeMo I 2023-01-02 21:56:56 wer_bpe:188] reference:umstellmanöver vom drei neun via foxtrot sechs sechs ins gleis mike acht acht antworten\n",
      "[NeMo I 2023-01-02 21:56:56 wer_bpe:189] predicted:umstellmanöver vom drei neun via foxtrot sechs sechs ins gleis mike einacht acht antworten\n",
      "[NeMo I 2023-01-02 21:57:24 wer_bpe:187] \n",
      "    \n",
      "[NeMo I 2023-01-02 21:57:24 wer_bpe:188] reference:umstellmanöver vom null acht via gleis sieben acht ins gleis fünf eins antworten\n",
      "[NeMo I 2023-01-02 21:57:24 wer_bpe:189] predicted:umstellmanöver vom sie acht via gleis sieben acht ins gleis fünf ein\n",
      "[NeMo I 2023-01-02 21:57:52 wer_bpe:187] \n",
      "    \n",
      "[NeMo I 2023-01-02 21:57:52 wer_bpe:188] reference:rangierfahrt von gleis charlie eins null nach gleis vier vier antworten\n",
      "[NeMo I 2023-01-02 21:57:52 wer_bpe:189] predicted:rangierfahrt vom gleis charlie eins null nach gleis vier vier antwort\n",
      "[NeMo I 2023-01-02 21:58:20 wer_bpe:187] \n",
      "    \n",
      "[NeMo I 2023-01-02 21:58:20 wer_bpe:188] reference:umstellmanöver vom sieben neun ins yankee fünf eins via gleis echo drei drei antworten\n",
      "[NeMo I 2023-01-02 21:58:20 wer_bpe:189] predicted:umstellmanöver vom vom sieben  ins yankee fünf eins v gleis co drei drei antworten\n"
     ]
    },
    {
     "data": {
      "application/vnd.jupyter.widget-view+json": {
       "model_id": "7d7562823e0143c08d9d2461bf8f3df7",
       "version_major": 2,
       "version_minor": 0
      },
      "text/plain": [
       "Validation: 0it [00:00, ?it/s]"
      ]
     },
     "metadata": {},
     "output_type": "display_data"
    },
    {
     "name": "stdout",
     "output_type": "stream",
     "text": [
      "[NeMo I 2023-01-02 21:58:44 wer_bpe:187] \n",
      "    \n",
      "[NeMo I 2023-01-02 21:58:44 wer_bpe:188] reference:rangierfahrt vom gleis mike zwei drei ins drei drei antworten\n",
      "[NeMo I 2023-01-02 21:58:44 wer_bpe:189] predicted:rangierfahrt vom gleis mike zwei drei ins drei drei antworten\n",
      "[NeMo I 2023-01-02 21:58:44 wer_bpe:187] \n",
      "    \n",
      "[NeMo I 2023-01-02 21:58:44 wer_bpe:188] reference:spracheingabe\n",
      "[NeMo I 2023-01-02 21:58:44 wer_bpe:189] predicted:spracheingabe\n",
      "[NeMo I 2023-01-02 21:58:44 wer_bpe:187] \n",
      "    \n",
      "[NeMo I 2023-01-02 21:58:44 wer_bpe:188] reference:umstellmanöver vom drei sechs nach gleis xray vier sieben via null vier antworten\n",
      "[NeMo I 2023-01-02 21:58:44 wer_bpe:189] predicted:umstellmanöver vom drei sechs nach gleis xray vier sieben via null vier antworten\n",
      "[NeMo I 2023-01-02 21:58:44 wer_bpe:187] \n",
      "    \n",
      "[NeMo I 2023-01-02 21:58:44 wer_bpe:188] reference:rangierfahrt von gleis sechs neun ins gleis delta sieben antworten\n",
      "[NeMo I 2023-01-02 21:58:44 wer_bpe:189] predicted:rangierfahrt von gleis sechs neun ins gleis delta sieben antworten\n",
      "[NeMo I 2023-01-02 21:58:44 wer_bpe:187] \n",
      "    \n",
      "[NeMo I 2023-01-02 21:58:44 wer_bpe:188] reference:umstellmanöver von charlie drei zwei via gleis victor sechs neun ins gleis golf zwei vier antworten\n",
      "[NeMo I 2023-01-02 21:58:44 wer_bpe:189] predicted:umstellmanöver von charlie drei zwei via gleis victor sechs neun ins gleis golf zwei vier antworten\n",
      "[NeMo I 2023-01-02 21:59:31 wer_bpe:187] \n",
      "    \n",
      "[NeMo I 2023-01-02 21:59:31 wer_bpe:188] reference:umstellmanöver vom neun neun via gleis victor null vier nach sieben neun antworten\n",
      "[NeMo I 2023-01-02 21:59:31 wer_bpe:189] predicted:umstellmanöver vom neun neun via gleis victor null vier nach sieben neun antworten\n",
      "[NeMo I 2023-01-02 21:59:59 wer_bpe:187] \n",
      "    \n",
      "[NeMo I 2023-01-02 21:59:59 wer_bpe:188] reference:der film wurde in england und portugal gedreht\n",
      "[NeMo I 2023-01-02 21:59:59 wer_bpe:189] predicted:der film wurde in england und portugal gedreht\n",
      "[NeMo I 2023-01-02 22:00:27 wer_bpe:187] \n",
      "    \n",
      "[NeMo I 2023-01-02 22:00:27 wer_bpe:188] reference:umstellmanöver vom vier via sieben eins ins neun fünf antworten\n",
      "[NeMo I 2023-01-02 22:00:27 wer_bpe:189] predicted:umstellmanöver vom vier via sieben eins ins neun fünf antworten\n",
      "[NeMo I 2023-01-02 22:00:55 wer_bpe:187] \n",
      "    \n",
      "[NeMo I 2023-01-02 22:00:55 wer_bpe:188] reference:umstellmanöver vom alpha fünf sieben via gleis sieben nach victor drei null antworten\n",
      "[NeMo I 2023-01-02 22:00:55 wer_bpe:189] predicted:umstellmanöver vom vier vier sieben via gleis sieben v victor drei null antworten\n"
     ]
    },
    {
     "data": {
      "application/vnd.jupyter.widget-view+json": {
       "model_id": "8a153ac5fcac4679b9ea8f3e57573f57",
       "version_major": 2,
       "version_minor": 0
      },
      "text/plain": [
       "Validation: 0it [00:00, ?it/s]"
      ]
     },
     "metadata": {},
     "output_type": "display_data"
    },
    {
     "name": "stdout",
     "output_type": "stream",
     "text": [
      "[NeMo I 2023-01-02 22:01:18 wer_bpe:187] \n",
      "    \n",
      "[NeMo I 2023-01-02 22:01:18 wer_bpe:188] reference:rangierfahrt vom gleis mike zwei drei ins drei drei antworten\n",
      "[NeMo I 2023-01-02 22:01:18 wer_bpe:189] predicted:rangierfahrt von gleis mike zwei drei ins drei drei antworten\n",
      "[NeMo I 2023-01-02 22:01:18 wer_bpe:187] \n",
      "    \n",
      "[NeMo I 2023-01-02 22:01:18 wer_bpe:188] reference:spracheingabe\n",
      "[NeMo I 2023-01-02 22:01:18 wer_bpe:189] predicted:spracheingabe\n",
      "[NeMo I 2023-01-02 22:01:18 wer_bpe:187] \n",
      "    \n",
      "[NeMo I 2023-01-02 22:01:18 wer_bpe:188] reference:umstellmanöver vom drei sechs nach gleis xray vier sieben via null vier antworten\n",
      "[NeMo I 2023-01-02 22:01:18 wer_bpe:189] predicted:umstellmanöver vom drei sechs nach gleis xray vier sieben via null vier antworten\n",
      "[NeMo I 2023-01-02 22:01:18 wer_bpe:187] \n",
      "    \n",
      "[NeMo I 2023-01-02 22:01:18 wer_bpe:188] reference:rangierfahrt von gleis sechs neun ins gleis delta sieben antworten\n",
      "[NeMo I 2023-01-02 22:01:18 wer_bpe:189] predicted:rangierfahrt von gleis sechs neun ins gleis delta sieben antworten\n",
      "[NeMo I 2023-01-02 22:01:18 wer_bpe:187] \n",
      "    \n",
      "[NeMo I 2023-01-02 22:01:18 wer_bpe:188] reference:umstellmanöver von charlie drei zwei via gleis victor sechs neun ins gleis golf zwei vier antworten\n",
      "[NeMo I 2023-01-02 22:01:18 wer_bpe:189] predicted:umstellmanöver von charlie drei zwei via gleis victor sechs neun ins gleis golf zwei vier antworten\n",
      "[NeMo I 2023-01-02 22:02:00 wer_bpe:187] \n",
      "    \n",
      "[NeMo I 2023-01-02 22:02:00 wer_bpe:188] reference:umstellmanöver vom mike zwei null via gleis xray null sechs ins gleis eins sieben antworten\n",
      "[NeMo I 2023-01-02 22:02:00 wer_bpe:189] predicted:umstellmanöver vom mike zwei fünf via gleis xray null sechs ins gleis eins sieben antworten\n",
      "[NeMo I 2023-01-02 22:02:27 wer_bpe:187] \n",
      "    \n",
      "[NeMo I 2023-01-02 22:02:27 wer_bpe:188] reference:rangierfahrt von alpha null sieben nach oscar eins acht antworten\n",
      "[NeMo I 2023-01-02 22:02:27 wer_bpe:189] predicted:rangierfahrt von alpha null sieben nach oscar sieben acht antworten\n",
      "[NeMo I 2023-01-02 22:02:55 wer_bpe:187] \n",
      "    \n",
      "[NeMo I 2023-01-02 22:02:55 wer_bpe:188] reference:rangierfahrt von mike fünf sieben nach gleis fünf drei antworten\n",
      "[NeMo I 2023-01-02 22:02:55 wer_bpe:189] predicted:rangierfahrt von mike fünf null nach gleis fünf drei antworten\n",
      "[NeMo I 2023-01-02 22:03:22 wer_bpe:187] \n",
      "    \n",
      "[NeMo I 2023-01-02 22:03:22 wer_bpe:188] reference:der käfer ist nur schwach gewölbt\n",
      "[NeMo I 2023-01-02 22:03:22 wer_bpe:189] predicted:der käfer ist neu nachacht\n"
     ]
    },
    {
     "data": {
      "application/vnd.jupyter.widget-view+json": {
       "model_id": "c53808d0c0c14ee3b936349a7c7710e8",
       "version_major": 2,
       "version_minor": 0
      },
      "text/plain": [
       "Validation: 0it [00:00, ?it/s]"
      ]
     },
     "metadata": {},
     "output_type": "display_data"
    },
    {
     "name": "stdout",
     "output_type": "stream",
     "text": [
      "[NeMo I 2023-01-02 22:03:45 wer_bpe:187] \n",
      "    \n",
      "[NeMo I 2023-01-02 22:03:45 wer_bpe:188] reference:rangierfahrt vom gleis mike zwei drei ins drei drei antworten\n",
      "[NeMo I 2023-01-02 22:03:45 wer_bpe:189] predicted:rangierfahrt vom gleis mike zwei drei ins drei drei antworten\n",
      "[NeMo I 2023-01-02 22:03:45 wer_bpe:187] \n",
      "    \n",
      "[NeMo I 2023-01-02 22:03:45 wer_bpe:188] reference:spracheingabe\n",
      "[NeMo I 2023-01-02 22:03:45 wer_bpe:189] predicted:spracheingabe\n",
      "[NeMo I 2023-01-02 22:03:45 wer_bpe:187] \n",
      "    \n",
      "[NeMo I 2023-01-02 22:03:45 wer_bpe:188] reference:umstellmanöver vom drei sechs nach gleis xray vier sieben via null vier antworten\n",
      "[NeMo I 2023-01-02 22:03:45 wer_bpe:189] predicted:umstellmanöver vom drei sechs nach gleis xray vier sieben via null vier antworten\n",
      "[NeMo I 2023-01-02 22:03:46 wer_bpe:187] \n",
      "    \n",
      "[NeMo I 2023-01-02 22:03:46 wer_bpe:188] reference:rangierfahrt von gleis sechs neun ins gleis delta sieben antworten\n",
      "[NeMo I 2023-01-02 22:03:46 wer_bpe:189] predicted:rangierfahrt von gleis sechs neun ins gleis delta sieben antworten\n",
      "[NeMo I 2023-01-02 22:03:46 wer_bpe:187] \n",
      "    \n",
      "[NeMo I 2023-01-02 22:03:46 wer_bpe:188] reference:umstellmanöver von charlie drei zwei via gleis victor sechs neun ins gleis golf zwei vier antworten\n",
      "[NeMo I 2023-01-02 22:03:46 wer_bpe:189] predicted:umstellmanöver von charlie drei zwei via gleis victor sechs neun ins gleis golf zwei vier antworten\n"
     ]
    },
    {
     "name": "stderr",
     "output_type": "stream",
     "text": [
      "`Trainer.fit` stopped: `max_epochs=6` reached.\n"
     ]
    },
    {
     "data": {
      "text/html": [
       "Waiting for W&B process to finish... <strong style=\"color:green\">(success).</strong>"
      ],
      "text/plain": [
       "<IPython.core.display.HTML object>"
      ]
     },
     "metadata": {},
     "output_type": "display_data"
    },
    {
     "data": {
      "text/html": [
       "<style>\n",
       "    table.wandb td:nth-child(1) { padding: 0 10px; text-align: left ; width: auto;} td:nth-child(2) {text-align: left ; width: 100%}\n",
       "    .wandb-row { display: flex; flex-direction: row; flex-wrap: wrap; justify-content: flex-start; width: 100% }\n",
       "    .wandb-col { display: flex; flex-direction: column; flex-basis: 100%; flex: 1; padding: 10px; }\n",
       "    </style>\n",
       "<div class=\"wandb-row\"><div class=\"wandb-col\"><h3>Run history:</h3><br/><table class=\"wandb\"><tr><td>epoch</td><td>▁▁▁▁▁▂▂▂▂▂▂▄▄▄▄▄▄▅▅▅▅▅▇▇▇▇▇▇██████</td></tr><tr><td>global_step</td><td>▁▁▂▂▂▂▂▃▃▃▃▃▄▄▄▄▄▅▅▅▅▆▆▆▆▆▇▇▇▇▇███</td></tr><tr><td>learning_rate</td><td>▁▁▂▂▂▂▃▃▃▃▄▄▄▄▅▅▅▅▆▆▆▆▇▇▇▇██</td></tr><tr><td>train_loss</td><td>█▆▅▃▂▂▂▂▂▂▁▂▂▂▂▁▁▂▂▁▂▁▁▁▁▁▂▁</td></tr><tr><td>trainer/global_step</td><td>▁▁▂▂▂▂▂▃▃▃▃▃▄▄▄▄▄▅▅▅▅▆▆▆▆▆▇▇▇▇▇███</td></tr><tr><td>training_batch_wer</td><td>█▅▅▄▄▂▃▂▂▃▂▃▂▂▂▁▂▂▁▁▂▁▁</td></tr><tr><td>val_loss</td><td>█▄▄▃▂▁</td></tr><tr><td>val_wer</td><td>█▂▅▃▂▁</td></tr></table><br/></div><div class=\"wandb-col\"><h3>Run summary:</h3><br/><table class=\"wandb\"><tr><td>epoch</td><td>5</td></tr><tr><td>global_step</td><td>1422.0</td></tr><tr><td>learning_rate</td><td>0.00115</td></tr><tr><td>train_loss</td><td>9.98928</td></tr><tr><td>trainer/global_step</td><td>1421</td></tr><tr><td>training_batch_wer</td><td>0.09184</td></tr><tr><td>val_loss</td><td>0.66695</td></tr><tr><td>val_wer</td><td>0.01305</td></tr></table><br/></div></div>"
      ],
      "text/plain": [
       "<IPython.core.display.HTML object>"
      ]
     },
     "metadata": {},
     "output_type": "display_data"
    },
    {
     "data": {
      "text/html": [
       "Synced <strong style=\"color:#cdcd00\">expert-sweep-19</strong>: <a href=\"https://wandb.ai/unisg-ds-nlp/ASR/runs/79s6v0an\" target=\"_blank\">https://wandb.ai/unisg-ds-nlp/ASR/runs/79s6v0an</a><br/>Synced 5 W&B file(s), 0 media file(s), 6 artifact file(s) and 0 other file(s)"
      ],
      "text/plain": [
       "<IPython.core.display.HTML object>"
      ]
     },
     "metadata": {},
     "output_type": "display_data"
    },
    {
     "data": {
      "text/html": [
       "Find logs at: <code>./wandb/run-20230102_214822-79s6v0an/logs</code>"
      ],
      "text/plain": [
       "<IPython.core.display.HTML object>"
      ]
     },
     "metadata": {},
     "output_type": "display_data"
    },
    {
     "name": "stderr",
     "output_type": "stream",
     "text": [
      "\u001b[34m\u001b[1mwandb\u001b[0m: Agent Starting Run: 3hlqenfy with config:\n",
      "\u001b[34m\u001b[1mwandb\u001b[0m: \tepoch: 9\n",
      "\u001b[34m\u001b[1mwandb\u001b[0m: \tfreq_width: 27.07435839084202\n",
      "\u001b[34m\u001b[1mwandb\u001b[0m: \tlr: 0.0010161776347549047\n",
      "Failed to detect the name of this notebook, you can set it manually with the WANDB_NOTEBOOK_NAME environment variable to enable code saving.\n"
     ]
    },
    {
     "data": {
      "text/html": [
       "wandb version 0.13.7 is available!  To upgrade, please run:\n",
       " $ pip install wandb --upgrade"
      ],
      "text/plain": [
       "<IPython.core.display.HTML object>"
      ]
     },
     "metadata": {},
     "output_type": "display_data"
    },
    {
     "data": {
      "text/html": [
       "Tracking run with wandb version 0.13.4"
      ],
      "text/plain": [
       "<IPython.core.display.HTML object>"
      ]
     },
     "metadata": {},
     "output_type": "display_data"
    },
    {
     "data": {
      "text/html": [
       "Run data is saved locally in <code>/home/user/code/sbb_asr/notebooks/wandb/run-20230102_220436-3hlqenfy</code>"
      ],
      "text/plain": [
       "<IPython.core.display.HTML object>"
      ]
     },
     "metadata": {},
     "output_type": "display_data"
    },
    {
     "data": {
      "text/html": [
       "Syncing run <strong><a href=\"https://wandb.ai/unisg-ds-nlp/ASR/runs/3hlqenfy\" target=\"_blank\">morning-sweep-20</a></strong> to <a href=\"https://wandb.ai/unisg-ds-nlp/ASR\" target=\"_blank\">Weights & Biases</a> (<a href=\"https://wandb.me/run\" target=\"_blank\">docs</a>)<br/>Sweep page:  <a href=\"https://wandb.ai/unisg-ds-nlp/ASR/sweeps/v7qi12lc\" target=\"_blank\">https://wandb.ai/unisg-ds-nlp/ASR/sweeps/v7qi12lc</a>"
      ],
      "text/plain": [
       "<IPython.core.display.HTML object>"
      ]
     },
     "metadata": {},
     "output_type": "display_data"
    },
    {
     "name": "stderr",
     "output_type": "stream",
     "text": [
      "[NeMo W 2023-01-02 22:04:37 nemo_logging:349] /home/user/.local/lib/python3.9/site-packages/pytorch_lightning/loggers/wandb.py:352: UserWarning: There is a wandb run already in progress and newly created instances of `WandbLogger` will reuse this run. If this is not desired, call `wandb.finish()` before instantiating `WandbLogger`.\n",
      "      rank_zero_warn(\n",
      "    \n",
      "[NeMo W 2023-01-02 22:04:37 nemo_logging:349] /home/user/.local/lib/python3.9/site-packages/pytorch_lightning/trainer/connectors/accelerator_connector.py:447: LightningDeprecationWarning: Setting `Trainer(gpus=1)` is deprecated in v1.7 and will be removed in v2.0. Please use `Trainer(accelerator='gpu', devices=1)` instead.\n",
      "      rank_zero_deprecation(\n",
      "    \n",
      "GPU available: True (cuda), used: True\n",
      "TPU available: False, using: 0 TPU cores\n",
      "IPU available: False, using: 0 IPUs\n",
      "HPU available: False, using: 0 HPUs\n"
     ]
    },
    {
     "name": "stdout",
     "output_type": "stream",
     "text": [
      "[NeMo I 2023-01-02 22:04:39 cloud:56] Found existing object /home/user/.cache/torch/NeMo/NeMo_1.12.0/stt_de_citrinet_1024/8743e4cecb8017ca2b49a035e07b2893/stt_de_citrinet_1024.nemo.\n",
      "[NeMo I 2023-01-02 22:04:39 cloud:62] Re-using file from: /home/user/.cache/torch/NeMo/NeMo_1.12.0/stt_de_citrinet_1024/8743e4cecb8017ca2b49a035e07b2893/stt_de_citrinet_1024.nemo\n",
      "[NeMo I 2023-01-02 22:04:39 common:910] Instantiating model from pre-trained checkpoint\n",
      "[NeMo I 2023-01-02 22:04:46 mixins:170] Tokenizer SentencePieceTokenizer initialized with 1024 tokens\n"
     ]
    },
    {
     "name": "stderr",
     "output_type": "stream",
     "text": [
      "[NeMo W 2023-01-02 22:04:46 modelPT:142] If you intend to do training or fine-tuning, please call the ModelPT.setup_training_data() method and provide a valid configuration file to setup the train data loader.\n",
      "    Train config : \n",
      "    manifest_filepath: /data/train/tarred_audio_manifest.json\n",
      "    sample_rate: 16000\n",
      "    batch_size: 32\n",
      "    trim_silence: false\n",
      "    max_duration: 35.0\n",
      "    shuffle: true\n",
      "    is_tarred: true\n",
      "    tarred_audio_filepaths: /data/train/audio__OP_0..1023_CL_.tar\n",
      "    use_start_end_token: false\n",
      "    shuffle_n: 1024\n",
      "    num_workers: 16\n",
      "    pin_memory: true\n",
      "    \n",
      "[NeMo W 2023-01-02 22:04:46 modelPT:149] If you intend to do validation, please call the ModelPT.setup_validation_data() or ModelPT.setup_multiple_validation_data() method and provide a valid configuration file to setup the validation data loader(s). \n",
      "    Validation config : \n",
      "    manifest_filepath:\n",
      "    - /data/voxpopuli_de/dev/voxpopuli_dev_manifest.json\n",
      "    - /data/voxpopuli_de/test/voxpopuli_test_manifest.json\n",
      "    - /data/mcv7.0_de/mcv7.0_dev_manifest_cleaned.json\n",
      "    - /data/mcv7.0_de/mcv7.0_test_manifest_cleaned.json\n",
      "    - /data/mls_de/mls_dev_manifest_cleaned.json\n",
      "    - /data/mls_de/mls_test_manifest_cleaned.json\n",
      "    sample_rate: 16000\n",
      "    batch_size: 8\n",
      "    shuffle: false\n",
      "    use_start_end_token: false\n",
      "    num_workers: 8\n",
      "    pin_memory: true\n",
      "    \n",
      "[NeMo W 2023-01-02 22:04:46 modelPT:155] Please call the ModelPT.setup_test_data() or ModelPT.setup_multiple_test_data() method and provide a valid configuration file to setup the test data loader(s).\n",
      "    Test config : \n",
      "    manifest_filepath: null\n",
      "    sample_rate: 16000\n",
      "    batch_size: 32\n",
      "    shuffle: false\n",
      "    use_start_end_token: false\n",
      "    \n"
     ]
    },
    {
     "name": "stdout",
     "output_type": "stream",
     "text": [
      "[NeMo I 2023-01-02 22:04:46 features:225] PADDING: 16\n",
      "[NeMo I 2023-01-02 22:04:53 save_restore_connector:243] Model EncDecCTCModelBPE was successfully restored from /home/user/.cache/torch/NeMo/NeMo_1.12.0/stt_de_citrinet_1024/8743e4cecb8017ca2b49a035e07b2893/stt_de_citrinet_1024.nemo.\n",
      "[NeMo I 2023-01-02 22:04:53 collections:194] Dataset loaded with 1890 files totalling 7.41 hours\n",
      "[NeMo I 2023-01-02 22:04:53 collections:195] 0 files were filtered totalling 0.00 hours\n",
      "[NeMo I 2023-01-02 22:04:53 collections:194] Dataset loaded with 34 files totalling 0.13 hours\n",
      "[NeMo I 2023-01-02 22:04:53 collections:195] 0 files were filtered totalling 0.00 hours\n",
      "[NeMo I 2023-01-02 22:04:53 collections:194] Dataset loaded with 34 files totalling 0.14 hours\n",
      "[NeMo I 2023-01-02 22:04:53 collections:195] 0 files were filtered totalling 0.00 hours\n",
      "[NeMo I 2023-01-02 22:04:53 modelPT:597] Optimizer config = Novograd (\n",
      "    Parameter Group 0\n",
      "        amsgrad: False\n",
      "        betas: [0.8, 0.25]\n",
      "        eps: 1e-08\n",
      "        grad_averaging: False\n",
      "        lr: 0.0010161776347549047\n",
      "        weight_decay: 0.001\n",
      "    )\n",
      "[NeMo I 2023-01-02 22:04:53 lr_scheduler:910] Scheduler \"<nemo.core.optim.lr_scheduler.CosineAnnealing object at 0x7f836a8076d0>\" \n",
      "    will be used during training (effective maximum steps = 2133) - \n",
      "    Parameters : \n",
      "    (warmup_steps: 10000\n",
      "    warmup_ratio: null\n",
      "    min_lr: 1.0e-05\n",
      "    last_epoch: -1\n",
      "    max_steps: 2133\n",
      "    )\n"
     ]
    },
    {
     "name": "stderr",
     "output_type": "stream",
     "text": [
      "LOCAL_RANK: 0 - CUDA_VISIBLE_DEVICES: [0,1,2,3]\n"
     ]
    },
    {
     "name": "stdout",
     "output_type": "stream",
     "text": [
      "[NeMo I 2023-01-02 22:04:54 modelPT:597] Optimizer config = Novograd (\n",
      "    Parameter Group 0\n",
      "        amsgrad: False\n",
      "        betas: [0.8, 0.25]\n",
      "        eps: 1e-08\n",
      "        grad_averaging: False\n",
      "        lr: 0.0010161776347549047\n",
      "        weight_decay: 0.001\n",
      "    )\n",
      "[NeMo I 2023-01-02 22:04:54 lr_scheduler:910] Scheduler \"<nemo.core.optim.lr_scheduler.CosineAnnealing object at 0x7f835e5cbfd0>\" \n",
      "    will be used during training (effective maximum steps = 2133) - \n",
      "    Parameters : \n",
      "    (warmup_steps: 10000\n",
      "    warmup_ratio: null\n",
      "    min_lr: 1.0e-05\n",
      "    last_epoch: -1\n",
      "    max_steps: 2133\n",
      "    )\n"
     ]
    },
    {
     "name": "stderr",
     "output_type": "stream",
     "text": [
      "\n",
      "  | Name              | Type                              | Params\n",
      "------------------------------------------------------------------------\n",
      "0 | preprocessor      | AudioToMelSpectrogramPreprocessor | 0     \n",
      "1 | encoder           | ConvASREncoder                    | 140 M \n",
      "2 | decoder           | ConvASRDecoder                    | 1.1 M \n",
      "3 | loss              | CTCLoss                           | 0     \n",
      "4 | spec_augmentation | SpectrogramAugmentation           | 0     \n",
      "5 | _wer              | WERBPE                            | 0     \n",
      "------------------------------------------------------------------------\n",
      "141 M     Trainable params\n",
      "0         Non-trainable params\n",
      "141 M     Total params\n",
      "564.897   Total estimated model params size (MB)\n"
     ]
    },
    {
     "data": {
      "application/vnd.jupyter.widget-view+json": {
       "model_id": "7e2031a7fea14b17b16ef111d5ada502",
       "version_major": 2,
       "version_minor": 0
      },
      "text/plain": [
       "Sanity Checking: 0it [00:00, ?it/s]"
      ]
     },
     "metadata": {},
     "output_type": "display_data"
    },
    {
     "name": "stdout",
     "output_type": "stream",
     "text": [
      "[NeMo I 2023-01-02 22:04:56 wer_bpe:187] \n",
      "    \n",
      "[NeMo I 2023-01-02 22:04:56 wer_bpe:188] reference:rangierfahrt vom gleis mike zwei drei ins drei drei antworten\n",
      "[NeMo I 2023-01-02 22:04:56 wer_bpe:189] predicted:prongierfahrt vom gleis maik zwei drei ins drei drei antworten\n",
      "[NeMo I 2023-01-02 22:04:56 wer_bpe:187] \n",
      "    \n",
      "[NeMo I 2023-01-02 22:04:56 wer_bpe:188] reference:spracheingabe\n",
      "[NeMo I 2023-01-02 22:04:56 wer_bpe:189] predicted:spracheingabe\n"
     ]
    },
    {
     "data": {
      "application/vnd.jupyter.widget-view+json": {
       "model_id": "dd9443765476403084fbffd3bc40efc1",
       "version_major": 2,
       "version_minor": 0
      },
      "text/plain": [
       "Training: 0it [00:00, ?it/s]"
      ]
     },
     "metadata": {},
     "output_type": "display_data"
    },
    {
     "name": "stdout",
     "output_type": "stream",
     "text": [
      "[NeMo I 2023-01-02 22:05:28 wer_bpe:187] \n",
      "    \n",
      "[NeMo I 2023-01-02 22:05:28 wer_bpe:188] reference:rangierfahrt von gleis vier zwei ins gleis quebec zwei vier antworten\n",
      "[NeMo I 2023-01-02 22:05:28 wer_bpe:189] predicted:aber vor und ihnslei zwei vier an\n",
      "[NeMo I 2023-01-02 22:05:56 wer_bpe:187] \n",
      "    \n",
      "[NeMo I 2023-01-02 22:05:56 wer_bpe:188] reference:rangierfahrt vom tango zwei zwei nach zwei neun antworten\n",
      "[NeMo I 2023-01-02 22:05:56 wer_bpe:189] predicted:ranggi vom tawar nach war ihn neu an\n",
      "[NeMo I 2023-01-02 22:06:24 wer_bpe:187] \n",
      "    \n",
      "[NeMo I 2023-01-02 22:06:24 wer_bpe:188] reference:rangierfahrt von gleis yankee eins neun ins null neun antworten\n",
      "[NeMo I 2023-01-02 22:06:24 wer_bpe:189] predicted:gleis jaki a neun ihns nur neu antwort\n",
      "[NeMo I 2023-01-02 22:06:51 wer_bpe:187] \n",
      "    \n",
      "[NeMo I 2023-01-02 22:06:51 wer_bpe:188] reference:rangierfahrt von victor acht null nach gleis neun antworten\n",
      "[NeMo I 2023-01-02 22:06:51 wer_bpe:189] predicted:ra sie auffahr von wsor acht null nach an\n"
     ]
    },
    {
     "data": {
      "application/vnd.jupyter.widget-view+json": {
       "model_id": "4a2e684c2af543e99b6161caaf98e14e",
       "version_major": 2,
       "version_minor": 0
      },
      "text/plain": [
       "Validation: 0it [00:00, ?it/s]"
      ]
     },
     "metadata": {},
     "output_type": "display_data"
    },
    {
     "name": "stdout",
     "output_type": "stream",
     "text": [
      "[NeMo I 2023-01-02 22:07:14 wer_bpe:187] \n",
      "    \n",
      "[NeMo I 2023-01-02 22:07:14 wer_bpe:188] reference:rangierfahrt vom gleis mike zwei drei ins drei drei antworten\n",
      "[NeMo I 2023-01-02 22:07:14 wer_bpe:189] predicted:rangierfahrt vom gleis ma zwei drei ins drei drei al\n",
      "[NeMo I 2023-01-02 22:07:15 wer_bpe:187] \n",
      "    \n",
      "[NeMo I 2023-01-02 22:07:15 wer_bpe:188] reference:spracheingabe\n",
      "[NeMo I 2023-01-02 22:07:15 wer_bpe:189] predicted:sprach eingabe\n",
      "[NeMo I 2023-01-02 22:07:15 wer_bpe:187] \n",
      "    \n",
      "[NeMo I 2023-01-02 22:07:15 wer_bpe:188] reference:umstellmanöver vom drei sechs nach gleis xray vier sieben via null vier antworten\n",
      "[NeMo I 2023-01-02 22:07:15 wer_bpe:189] predicted:umstellmanöver vom drei sechs nach gleis exray vier sieben via null v antworten\n",
      "[NeMo I 2023-01-02 22:07:15 wer_bpe:187] \n",
      "    \n",
      "[NeMo I 2023-01-02 22:07:15 wer_bpe:188] reference:rangierfahrt von gleis sechs neun ins gleis delta sieben antworten\n",
      "[NeMo I 2023-01-02 22:07:15 wer_bpe:189] predicted:rangierfahrt von gleis sechs neun ins gleis delta sieben antworten\n",
      "[NeMo I 2023-01-02 22:07:15 wer_bpe:187] \n",
      "    \n",
      "[NeMo I 2023-01-02 22:07:15 wer_bpe:188] reference:umstellmanöver von charlie drei zwei via gleis victor sechs neun ins gleis golf zwei vier antworten\n",
      "[NeMo I 2023-01-02 22:07:15 wer_bpe:189] predicted:umstellmanöver von charlley drei zwei via gleis ctor sechs neun ins gleis gold zwei vier antwort\n",
      "[NeMo I 2023-01-02 22:07:56 wer_bpe:187] \n",
      "    \n",
      "[NeMo I 2023-01-02 22:07:56 wer_bpe:188] reference:rangierfahrt von drei fünf ins victor sieben neun antworten\n",
      "[NeMo I 2023-01-02 22:07:56 wer_bpe:189] predicted:anbar vonlei\n",
      "[NeMo I 2023-01-02 22:08:24 wer_bpe:187] \n",
      "    \n",
      "[NeMo I 2023-01-02 22:08:24 wer_bpe:188] reference:umstellmanöver vom vier sieben via gleis acht fünf ins gleis victor acht antworten\n",
      "[NeMo I 2023-01-02 22:08:24 wer_bpe:189] predicted:umstellmanöver von sieben via gleis acht fünf ihrs vicor antworten\n",
      "[NeMo I 2023-01-02 22:08:51 wer_bpe:187] \n",
      "    \n",
      "[NeMo I 2023-01-02 22:08:52 wer_bpe:188] reference:rangierfahrt von alpha zwei sieben sieben nach oscar null neun fünf\n",
      "[NeMo I 2023-01-02 22:08:52 wer_bpe:189] predicted:ra von von alfa zwei sieben sieben nach oscar null neun von\n",
      "[NeMo I 2023-01-02 22:09:19 wer_bpe:187] \n",
      "    \n",
      "[NeMo I 2023-01-02 22:09:19 wer_bpe:188] reference:der käfer ist nur schwach gewölbt\n",
      "[NeMo I 2023-01-02 22:09:19 wer_bpe:189] predicted:der käfer ist nur schwach gewölbt\n"
     ]
    },
    {
     "data": {
      "application/vnd.jupyter.widget-view+json": {
       "model_id": "fa358f7509f74a0c8c45d4fc7222058b",
       "version_major": 2,
       "version_minor": 0
      },
      "text/plain": [
       "Validation: 0it [00:00, ?it/s]"
      ]
     },
     "metadata": {},
     "output_type": "display_data"
    },
    {
     "name": "stdout",
     "output_type": "stream",
     "text": [
      "[NeMo I 2023-01-02 22:09:43 wer_bpe:187] \n",
      "    \n",
      "[NeMo I 2023-01-02 22:09:43 wer_bpe:188] reference:rangierfahrt vom gleis mike zwei drei ins drei drei antworten\n",
      "[NeMo I 2023-01-02 22:09:43 wer_bpe:189] predicted:rangierfahrt vom gleis mike zwei drei ins drei drei antworten\n",
      "[NeMo I 2023-01-02 22:09:43 wer_bpe:187] \n",
      "    \n",
      "[NeMo I 2023-01-02 22:09:43 wer_bpe:188] reference:spracheingabe\n",
      "[NeMo I 2023-01-02 22:09:43 wer_bpe:189] predicted:sprach eingabe\n",
      "[NeMo I 2023-01-02 22:09:43 wer_bpe:187] \n",
      "    \n",
      "[NeMo I 2023-01-02 22:09:43 wer_bpe:188] reference:umstellmanöver vom drei sechs nach gleis xray vier sieben via null vier antworten\n",
      "[NeMo I 2023-01-02 22:09:43 wer_bpe:189] predicted:umstellmanöver vom drei sechs nach gleis xray vier sieben via null vier antworten\n",
      "[NeMo I 2023-01-02 22:09:43 wer_bpe:187] \n",
      "    \n",
      "[NeMo I 2023-01-02 22:09:43 wer_bpe:188] reference:rangierfahrt von gleis sechs neun ins gleis delta sieben antworten\n",
      "[NeMo I 2023-01-02 22:09:43 wer_bpe:189] predicted:rangierfahrt von gleis sechs neun ins gleis delta sieben antworten\n",
      "[NeMo I 2023-01-02 22:09:43 wer_bpe:187] \n",
      "    \n",
      "[NeMo I 2023-01-02 22:09:43 wer_bpe:188] reference:umstellmanöver von charlie drei zwei via gleis victor sechs neun ins gleis golf zwei vier antworten\n",
      "[NeMo I 2023-01-02 22:09:43 wer_bpe:189] predicted:umstellmanöver von charlie drei zwei via gleis victor sechs neun ins gleis golf zwei vier antwort\n",
      "[NeMo I 2023-01-02 22:10:31 wer_bpe:187] \n",
      "    \n",
      "[NeMo I 2023-01-02 22:10:31 wer_bpe:188] reference:umstellmanöver vom romeo fünf via november sieben und acht drei nach gleis xray fünf antworten\n",
      "[NeMo I 2023-01-02 22:10:31 wer_bpe:189] predicted:umstellmanöver vom romeo fünf via november sieben und acht drei nach gleis  drei fünf antworten\n",
      "[NeMo I 2023-01-02 22:10:59 wer_bpe:187] \n",
      "    \n",
      "[NeMo I 2023-01-02 22:10:59 wer_bpe:188] reference:rangierfahrt von gleis foxtrot acht vier nach gleis tango vier drei antworten\n",
      "[NeMo I 2023-01-02 22:10:59 wer_bpe:189] predicted:rangierfahrt von gleis tro acht vier nach gleis tango vier drei antworten\n",
      "[NeMo I 2023-01-02 22:11:27 wer_bpe:187] \n",
      "    \n",
      "[NeMo I 2023-01-02 22:11:27 wer_bpe:188] reference:umstellmanöver von gleis neun vier ins gleis null fünf via gleis lima eins acht antworten\n",
      "[NeMo I 2023-01-02 22:11:27 wer_bpe:189] predicted:vomstellma g gleis neuia einfleis null gleis in antworten\n",
      "[NeMo I 2023-01-02 22:11:55 wer_bpe:187] \n",
      "    \n",
      "[NeMo I 2023-01-02 22:11:55 wer_bpe:188] reference:rangierfahrt von gleis drei null ins eins fünf antworten\n",
      "[NeMo I 2023-01-02 22:11:55 wer_bpe:189] predicted:rangierfahrt vom do drei null sie eins fünf antworten\n"
     ]
    },
    {
     "data": {
      "application/vnd.jupyter.widget-view+json": {
       "model_id": "069b4fe4714d44fe8a058fe155ec432c",
       "version_major": 2,
       "version_minor": 0
      },
      "text/plain": [
       "Validation: 0it [00:00, ?it/s]"
      ]
     },
     "metadata": {},
     "output_type": "display_data"
    },
    {
     "name": "stdout",
     "output_type": "stream",
     "text": [
      "[NeMo I 2023-01-02 22:12:18 wer_bpe:187] \n",
      "    \n",
      "[NeMo I 2023-01-02 22:12:18 wer_bpe:188] reference:rangierfahrt vom gleis mike zwei drei ins drei drei antworten\n",
      "[NeMo I 2023-01-02 22:12:18 wer_bpe:189] predicted:rangierfahrt vom gleis mike zwei drei ins drei drei antworten\n",
      "[NeMo I 2023-01-02 22:12:18 wer_bpe:187] \n",
      "    \n",
      "[NeMo I 2023-01-02 22:12:18 wer_bpe:188] reference:spracheingabe\n",
      "[NeMo I 2023-01-02 22:12:18 wer_bpe:189] predicted:sprach eingabe\n",
      "[NeMo I 2023-01-02 22:12:19 wer_bpe:187] \n",
      "    \n",
      "[NeMo I 2023-01-02 22:12:19 wer_bpe:188] reference:umstellmanöver vom drei sechs nach gleis xray vier sieben via null vier antworten\n",
      "[NeMo I 2023-01-02 22:12:19 wer_bpe:189] predicted:umstellmanöver vom drei sechs nach gleis xray vier sieben via null vier antworten\n",
      "[NeMo I 2023-01-02 22:12:19 wer_bpe:187] \n",
      "    \n",
      "[NeMo I 2023-01-02 22:12:19 wer_bpe:188] reference:rangierfahrt von gleis sechs neun ins gleis delta sieben antworten\n",
      "[NeMo I 2023-01-02 22:12:19 wer_bpe:189] predicted:rangierfahrt von gleis sechs neun ins gleis delta sieben antworten\n",
      "[NeMo I 2023-01-02 22:12:19 wer_bpe:187] \n",
      "    \n",
      "[NeMo I 2023-01-02 22:12:19 wer_bpe:188] reference:umstellmanöver von charlie drei zwei via gleis victor sechs neun ins gleis golf zwei vier antworten\n",
      "[NeMo I 2023-01-02 22:12:19 wer_bpe:189] predicted:umstellmanöver von charlie drei zwei via gleis victor sechs neun ins gleis golf zwei vier antworten\n",
      "[NeMo I 2023-01-02 22:13:00 wer_bpe:187] \n",
      "    \n",
      "[NeMo I 2023-01-02 22:13:00 wer_bpe:188] reference:rangierfahrt von gleis vier sechs ins gleis acht acht antworten\n",
      "[NeMo I 2023-01-02 22:13:00 wer_bpe:189] predicted:rangierfahrt von gleis vier sechs ins gleis acht acht antworten\n",
      "[NeMo I 2023-01-02 22:13:28 wer_bpe:187] \n",
      "    \n",
      "[NeMo I 2023-01-02 22:13:28 wer_bpe:188] reference:umstellmanöver vom gleis juliet vier fünf nach sieben acht via vier acht antworten\n",
      "[NeMo I 2023-01-02 22:13:28 wer_bpe:189] predicted:umstellmanöver vom gleis julie via fünf nach sieben acht vier acht antworten\n",
      "[NeMo I 2023-01-02 22:13:55 wer_bpe:187] \n",
      "    \n",
      "[NeMo I 2023-01-02 22:13:55 wer_bpe:188] reference:rangierfahrt vom gleis quebec eins eins ins gleis november sieben sechs antworten\n",
      "[NeMo I 2023-01-02 22:13:55 wer_bpe:189] predicted:rangierfahrt vom gleis quebec eins eins ins gleis november sieben sechs antworten\n",
      "[NeMo I 2023-01-02 22:14:23 wer_bpe:187] \n",
      "    \n",
      "[NeMo I 2023-01-02 22:14:23 wer_bpe:188] reference:umstellmanöver vom acht acht via zwei null ins alpha fünf vier antworten\n",
      "[NeMo I 2023-01-02 22:14:23 wer_bpe:189] predicted:umstellmanöver vom acht acht vier zwei null ins al fünf vier antworten\n"
     ]
    },
    {
     "data": {
      "application/vnd.jupyter.widget-view+json": {
       "model_id": "be92bfb61331443f8becf29c7028d52b",
       "version_major": 2,
       "version_minor": 0
      },
      "text/plain": [
       "Validation: 0it [00:00, ?it/s]"
      ]
     },
     "metadata": {},
     "output_type": "display_data"
    },
    {
     "name": "stdout",
     "output_type": "stream",
     "text": [
      "[NeMo I 2023-01-02 22:14:46 wer_bpe:187] \n",
      "    \n",
      "[NeMo I 2023-01-02 22:14:46 wer_bpe:188] reference:rangierfahrt vom gleis mike zwei drei ins drei drei antworten\n",
      "[NeMo I 2023-01-02 22:14:46 wer_bpe:189] predicted:rangierfahrt vom gleis mike zwei drei ins drei drei antworten\n",
      "[NeMo I 2023-01-02 22:14:46 wer_bpe:187] \n",
      "    \n",
      "[NeMo I 2023-01-02 22:14:46 wer_bpe:188] reference:spracheingabe\n",
      "[NeMo I 2023-01-02 22:14:46 wer_bpe:189] predicted:spracheingabe\n",
      "[NeMo I 2023-01-02 22:14:46 wer_bpe:187] \n",
      "    \n",
      "[NeMo I 2023-01-02 22:14:47 wer_bpe:188] reference:umstellmanöver vom drei sechs nach gleis xray vier sieben via null vier antworten\n",
      "[NeMo I 2023-01-02 22:14:47 wer_bpe:189] predicted:umstellmanöver vom drei sechs nach gleis xray vier sieben via null vier antworten\n",
      "[NeMo I 2023-01-02 22:14:47 wer_bpe:187] \n",
      "    \n",
      "[NeMo I 2023-01-02 22:14:47 wer_bpe:188] reference:rangierfahrt von gleis sechs neun ins gleis delta sieben antworten\n",
      "[NeMo I 2023-01-02 22:14:47 wer_bpe:189] predicted:rangierfahrt von gleis sechs neun ins gleis delta sieben antworten\n",
      "[NeMo I 2023-01-02 22:14:47 wer_bpe:187] \n",
      "    \n",
      "[NeMo I 2023-01-02 22:14:47 wer_bpe:188] reference:umstellmanöver von charlie drei zwei via gleis victor sechs neun ins gleis golf zwei vier antworten\n",
      "[NeMo I 2023-01-02 22:14:47 wer_bpe:189] predicted:umstellmanöver von charlie drei zwei via gleis victor sechs neun ins gleis golf zwei vier antworten\n",
      "[NeMo I 2023-01-02 22:15:30 wer_bpe:187] \n",
      "    \n",
      "[NeMo I 2023-01-02 22:15:30 wer_bpe:188] reference:rangierfahrt vom romeo sieben sechs ins gleis acht antworten\n",
      "[NeMo I 2023-01-02 22:15:30 wer_bpe:189] predicted:rangierfahrt neu sieben ses ins gleis acht antworten\n",
      "[NeMo I 2023-01-02 22:15:58 wer_bpe:187] \n",
      "    \n",
      "[NeMo I 2023-01-02 22:15:58 wer_bpe:188] reference:rangierfahrt von gleis foxtrot acht vier nach gleis tango vier drei antworten\n",
      "[NeMo I 2023-01-02 22:15:58 wer_bpe:189] predicted:rangierfahr von gleis foxtrot acht vier nach gleis tango vier drei antworten\n",
      "[NeMo I 2023-01-02 22:16:26 wer_bpe:187] \n",
      "    \n",
      "[NeMo I 2023-01-02 22:16:26 wer_bpe:188] reference:rangierfahrt vom india sechs fünf nach gleis uniform sieben antworten\n",
      "[NeMo I 2023-01-02 22:16:26 wer_bpe:189] predicted:rangierfahrt vom india sechs fünf nach gleis uniform sieben antworten\n",
      "[NeMo I 2023-01-02 22:16:53 wer_bpe:187] \n",
      "    \n",
      "[NeMo I 2023-01-02 22:16:53 wer_bpe:188] reference:rangierfahrt vom gleis null antworten\n",
      "[NeMo I 2023-01-02 22:16:53 wer_bpe:189] predicted:rangierfahrt von gleis null antworten\n"
     ]
    },
    {
     "data": {
      "application/vnd.jupyter.widget-view+json": {
       "model_id": "f53f772e3f4f49e6ae35c89f3b0b789d",
       "version_major": 2,
       "version_minor": 0
      },
      "text/plain": [
       "Validation: 0it [00:00, ?it/s]"
      ]
     },
     "metadata": {},
     "output_type": "display_data"
    },
    {
     "name": "stdout",
     "output_type": "stream",
     "text": [
      "[NeMo I 2023-01-02 22:17:17 wer_bpe:187] \n",
      "    \n",
      "[NeMo I 2023-01-02 22:17:17 wer_bpe:188] reference:rangierfahrt vom gleis mike zwei drei ins drei drei antworten\n",
      "[NeMo I 2023-01-02 22:17:17 wer_bpe:189] predicted:rangierfahrt vom gleis mike zwei drei ins drei drei antworten\n",
      "[NeMo I 2023-01-02 22:17:17 wer_bpe:187] \n",
      "    \n",
      "[NeMo I 2023-01-02 22:17:17 wer_bpe:188] reference:spracheingabe\n",
      "[NeMo I 2023-01-02 22:17:17 wer_bpe:189] predicted:spracheingabe\n",
      "[NeMo I 2023-01-02 22:17:17 wer_bpe:187] \n",
      "    \n",
      "[NeMo I 2023-01-02 22:17:17 wer_bpe:188] reference:umstellmanöver vom drei sechs nach gleis xray vier sieben via null vier antworten\n",
      "[NeMo I 2023-01-02 22:17:17 wer_bpe:189] predicted:umstellmanöver vom drei sechs nach gleis xray vier sieben via null vier antworten\n",
      "[NeMo I 2023-01-02 22:17:17 wer_bpe:187] \n",
      "    \n",
      "[NeMo I 2023-01-02 22:17:17 wer_bpe:188] reference:rangierfahrt von gleis sechs neun ins gleis delta sieben antworten\n",
      "[NeMo I 2023-01-02 22:17:17 wer_bpe:189] predicted:rangierfahrt von gleis sechs neun ins gleis delta sieben antworten\n",
      "[NeMo I 2023-01-02 22:17:18 wer_bpe:187] \n",
      "    \n",
      "[NeMo I 2023-01-02 22:17:18 wer_bpe:188] reference:umstellmanöver von charlie drei zwei via gleis victor sechs neun ins gleis golf zwei vier antworten\n",
      "[NeMo I 2023-01-02 22:17:18 wer_bpe:189] predicted:umstellmanöver von charlie drei zwei via gleis victor sechs neun ins gleis golf zwei vier antworten\n",
      "[NeMo I 2023-01-02 22:18:02 wer_bpe:187] \n",
      "    \n",
      "[NeMo I 2023-01-02 22:18:02 wer_bpe:188] reference:rangierfahrt von sieben drei ins sechs drei antworten\n",
      "[NeMo I 2023-01-02 22:18:02 wer_bpe:189] predicted:rangierfahrt von sieben drei ins sechs drei antworten\n",
      "[NeMo I 2023-01-02 22:18:30 wer_bpe:187] \n",
      "    \n",
      "[NeMo I 2023-01-02 22:18:30 wer_bpe:188] reference:umstellmanöver vom fünf eins ins gleis papa sechs drei via gleis vier sechs antworten\n",
      "[NeMo I 2023-01-02 22:18:30 wer_bpe:189] predicted:umstellmanöver fünf eins ins gleis papa sechs drei v vieria sechs antworten\n",
      "[NeMo I 2023-01-02 22:18:58 wer_bpe:187] \n",
      "    \n",
      "[NeMo I 2023-01-02 22:18:58 wer_bpe:188] reference:rangierfahrt von mike fünf sieben nach gleis fünf drei antworten\n",
      "[NeMo I 2023-01-02 22:18:58 wer_bpe:189] predicted:rangierfahrt vom mike fünf sieben nach gleis fünf drei antwortenen\n",
      "[NeMo I 2023-01-02 22:19:27 wer_bpe:187] \n",
      "    \n",
      "[NeMo I 2023-01-02 22:19:27 wer_bpe:188] reference:umstellmanöver vom null acht via gleis sieben acht ins gleis fünf eins antworten\n",
      "[NeMo I 2023-01-02 22:19:27 wer_bpe:189] predicted:umstellmanöver vom null acht via gleis sieben acht ins gleis vier eins antworten\n"
     ]
    },
    {
     "data": {
      "application/vnd.jupyter.widget-view+json": {
       "model_id": "f5de8156404743cfad1023fa9caca760",
       "version_major": 2,
       "version_minor": 0
      },
      "text/plain": [
       "Validation: 0it [00:00, ?it/s]"
      ]
     },
     "metadata": {},
     "output_type": "display_data"
    },
    {
     "name": "stdout",
     "output_type": "stream",
     "text": [
      "[NeMo I 2023-01-02 22:19:50 wer_bpe:187] \n",
      "    \n",
      "[NeMo I 2023-01-02 22:19:50 wer_bpe:188] reference:rangierfahrt vom gleis mike zwei drei ins drei drei antworten\n",
      "[NeMo I 2023-01-02 22:19:50 wer_bpe:189] predicted:rangierfahrt vom gleis mike zwei drei ins drei drei antworten\n",
      "[NeMo I 2023-01-02 22:19:50 wer_bpe:187] \n",
      "    \n",
      "[NeMo I 2023-01-02 22:19:50 wer_bpe:188] reference:spracheingabe\n",
      "[NeMo I 2023-01-02 22:19:50 wer_bpe:189] predicted:spracheingabe\n",
      "[NeMo I 2023-01-02 22:19:51 wer_bpe:187] \n",
      "    \n",
      "[NeMo I 2023-01-02 22:19:51 wer_bpe:188] reference:umstellmanöver vom drei sechs nach gleis xray vier sieben via null vier antworten\n",
      "[NeMo I 2023-01-02 22:19:51 wer_bpe:189] predicted:umstellmanöver vom drei sechs nach gleis xray vier sieben via null vier antworten\n",
      "[NeMo I 2023-01-02 22:19:51 wer_bpe:187] \n",
      "    \n",
      "[NeMo I 2023-01-02 22:19:51 wer_bpe:188] reference:rangierfahrt von gleis sechs neun ins gleis delta sieben antworten\n",
      "[NeMo I 2023-01-02 22:19:51 wer_bpe:189] predicted:rangierfahrt von gleis sechs neun ins gleis delta sieben antworten\n",
      "[NeMo I 2023-01-02 22:19:51 wer_bpe:187] \n",
      "    \n",
      "[NeMo I 2023-01-02 22:19:51 wer_bpe:188] reference:umstellmanöver von charlie drei zwei via gleis victor sechs neun ins gleis golf zwei vier antworten\n",
      "[NeMo I 2023-01-02 22:19:51 wer_bpe:189] predicted:umstellmanöver von charlie drei zwei via gleis victor sechs neun ins gleis golf zwei vier antworten\n",
      "[NeMo I 2023-01-02 22:20:34 wer_bpe:187] \n",
      "    \n",
      "[NeMo I 2023-01-02 22:20:34 wer_bpe:188] reference:umstellmanöver vom null acht via gleis sieben acht ins gleis fünf eins antworten\n",
      "[NeMo I 2023-01-02 22:20:34 wer_bpe:189] predicted:umstellmanöver vom null acht in gleis sieben acht ins gleis fünf eins antworten\n",
      "[NeMo I 2023-01-02 22:21:02 wer_bpe:187] \n",
      "    \n",
      "[NeMo I 2023-01-02 22:21:02 wer_bpe:188] reference:umstellmanöver von gleis null drei via null eins nach alpha vier zwei antworten\n",
      "[NeMo I 2023-01-02 22:21:02 wer_bpe:189] predicted:umstellmanöver von gleis null drei via null eins nach  vier zwei antworten\n",
      "[NeMo I 2023-01-02 22:21:29 wer_bpe:187] \n",
      "    \n",
      "[NeMo I 2023-01-02 22:21:29 wer_bpe:188] reference:umstellmanöver vom sechs vier via gleis eins drei nach gleis alpha fünf null antworten\n",
      "[NeMo I 2023-01-02 22:21:29 wer_bpe:189] predicted:umstellmanöver vom sechs vier via gleis eins drei nach gleis alpha neu null antworten\n",
      "[NeMo I 2023-01-02 22:21:57 wer_bpe:187] \n",
      "    \n",
      "[NeMo I 2023-01-02 22:21:57 wer_bpe:188] reference:rangierfahrt vom gleis sechs null ins gleis sechs fünf antworten\n",
      "[NeMo I 2023-01-02 22:21:57 wer_bpe:189] predicted:rangierfahrt vom gleis sechs null ins gleis sechs fünf antworten\n"
     ]
    },
    {
     "data": {
      "application/vnd.jupyter.widget-view+json": {
       "model_id": "9744b5c560f640e38deb7379a41f1c3c",
       "version_major": 2,
       "version_minor": 0
      },
      "text/plain": [
       "Validation: 0it [00:00, ?it/s]"
      ]
     },
     "metadata": {},
     "output_type": "display_data"
    },
    {
     "name": "stdout",
     "output_type": "stream",
     "text": [
      "[NeMo I 2023-01-02 22:22:20 wer_bpe:187] \n",
      "    \n",
      "[NeMo I 2023-01-02 22:22:20 wer_bpe:188] reference:rangierfahrt vom gleis mike zwei drei ins drei drei antworten\n",
      "[NeMo I 2023-01-02 22:22:20 wer_bpe:189] predicted:rangierfahrt vom gleis mike zwei drei ins drei drei antworten\n",
      "[NeMo I 2023-01-02 22:22:20 wer_bpe:187] \n",
      "    \n",
      "[NeMo I 2023-01-02 22:22:20 wer_bpe:188] reference:spracheingabe\n",
      "[NeMo I 2023-01-02 22:22:20 wer_bpe:189] predicted:spracheingabe\n",
      "[NeMo I 2023-01-02 22:22:20 wer_bpe:187] \n",
      "    \n",
      "[NeMo I 2023-01-02 22:22:20 wer_bpe:188] reference:umstellmanöver vom drei sechs nach gleis xray vier sieben via null vier antworten\n",
      "[NeMo I 2023-01-02 22:22:20 wer_bpe:189] predicted:umstellmanöver vom drei sechs nach gleis xray vier sieben via null vier antworten\n",
      "[NeMo I 2023-01-02 22:22:20 wer_bpe:187] \n",
      "    \n",
      "[NeMo I 2023-01-02 22:22:20 wer_bpe:188] reference:rangierfahrt von gleis sechs neun ins gleis delta sieben antworten\n",
      "[NeMo I 2023-01-02 22:22:20 wer_bpe:189] predicted:rangierfahrt von gleis sechs neun ins gleis delta sieben antworten\n",
      "[NeMo I 2023-01-02 22:22:20 wer_bpe:187] \n",
      "    \n",
      "[NeMo I 2023-01-02 22:22:20 wer_bpe:188] reference:umstellmanöver von charlie drei zwei via gleis victor sechs neun ins gleis golf zwei vier antworten\n",
      "[NeMo I 2023-01-02 22:22:20 wer_bpe:189] predicted:umstellmanöver von charlie drei zwei via gleis victor sechs neun ins gleis golf zwei vier antworten\n",
      "[NeMo I 2023-01-02 22:23:02 wer_bpe:187] \n",
      "    \n",
      "[NeMo I 2023-01-02 22:23:02 wer_bpe:188] reference:umstellmanöver vom kilo fünf sieben nach sechs zwei via gleis neun sechs antworten\n",
      "[NeMo I 2023-01-02 22:23:02 wer_bpe:189] predicted:umstellmanö von g kilo fünf sieben nach sechs zwei via gleis  sechs vier antworten\n",
      "[NeMo I 2023-01-02 22:23:30 wer_bpe:187] \n",
      "    \n",
      "[NeMo I 2023-01-02 22:23:30 wer_bpe:188] reference:rangierfahrt vom gleis zwei zwei ins null sechs antworten\n",
      "[NeMo I 2023-01-02 22:23:30 wer_bpe:189] predicted:ierfahrt vont g zwei in sieben\n",
      "[NeMo I 2023-01-02 22:23:57 wer_bpe:187] \n",
      "    \n",
      "[NeMo I 2023-01-02 22:23:57 wer_bpe:188] reference:umstellmanöver vom vier zwei via echo acht eins ins gleis foxtrot fünf eins antworten\n",
      "[NeMo I 2023-01-02 22:23:57 wer_bpe:189] predicted:umstellmanöver vom vier zwei via echo acht sie ins gleis foxtrot fünf eins antworten\n",
      "[NeMo I 2023-01-02 22:24:25 wer_bpe:187] \n",
      "    \n",
      "[NeMo I 2023-01-02 22:24:25 wer_bpe:188] reference:rangierfahrt von drei fünf ins victor sieben neun antworten\n",
      "[NeMo I 2023-01-02 22:24:25 wer_bpe:189] predicted:rangierfahrt von drei fünf ins victor sieben neun antworten\n"
     ]
    },
    {
     "data": {
      "application/vnd.jupyter.widget-view+json": {
       "model_id": "633368769a4c41b6bb6e8fad29022427",
       "version_major": 2,
       "version_minor": 0
      },
      "text/plain": [
       "Validation: 0it [00:00, ?it/s]"
      ]
     },
     "metadata": {},
     "output_type": "display_data"
    },
    {
     "name": "stdout",
     "output_type": "stream",
     "text": [
      "[NeMo I 2023-01-02 22:24:47 wer_bpe:187] \n",
      "    \n",
      "[NeMo I 2023-01-02 22:24:47 wer_bpe:188] reference:rangierfahrt vom gleis mike zwei drei ins drei drei antworten\n",
      "[NeMo I 2023-01-02 22:24:47 wer_bpe:189] predicted:rangierfahrt vom gleis mike zwei drei ins drei drei antworten\n",
      "[NeMo I 2023-01-02 22:24:47 wer_bpe:187] \n",
      "    \n",
      "[NeMo I 2023-01-02 22:24:47 wer_bpe:188] reference:spracheingabe\n",
      "[NeMo I 2023-01-02 22:24:47 wer_bpe:189] predicted:spracheingabe\n",
      "[NeMo I 2023-01-02 22:24:47 wer_bpe:187] \n",
      "    \n",
      "[NeMo I 2023-01-02 22:24:47 wer_bpe:188] reference:umstellmanöver vom drei sechs nach gleis xray vier sieben via null vier antworten\n",
      "[NeMo I 2023-01-02 22:24:47 wer_bpe:189] predicted:umstellmanöver vom drei sechs nach gleis xray vier sieben via null vier antworten\n",
      "[NeMo I 2023-01-02 22:24:48 wer_bpe:187] \n",
      "    \n",
      "[NeMo I 2023-01-02 22:24:48 wer_bpe:188] reference:rangierfahrt von gleis sechs neun ins gleis delta sieben antworten\n",
      "[NeMo I 2023-01-02 22:24:48 wer_bpe:189] predicted:rangierfahrt von gleis sechs neun ins gleis delta sieben antworten\n",
      "[NeMo I 2023-01-02 22:24:48 wer_bpe:187] \n",
      "    \n",
      "[NeMo I 2023-01-02 22:24:48 wer_bpe:188] reference:umstellmanöver von charlie drei zwei via gleis victor sechs neun ins gleis golf zwei vier antworten\n",
      "[NeMo I 2023-01-02 22:24:48 wer_bpe:189] predicted:umstellmanöver von charlie drei zwei via gleis victor sechs neun ins gleis golf zwei vier antworten\n",
      "[NeMo I 2023-01-02 22:25:29 wer_bpe:187] \n",
      "    \n",
      "[NeMo I 2023-01-02 22:25:29 wer_bpe:188] reference:rangierfahrt von zwei neun nach gleis papa null fünf antworten\n",
      "[NeMo I 2023-01-02 22:25:29 wer_bpe:189] predicted:rangierfahrt von zwei nach gleis papa null fünf antworten\n",
      "[NeMo I 2023-01-02 22:25:57 wer_bpe:187] \n",
      "    \n",
      "[NeMo I 2023-01-02 22:25:57 wer_bpe:188] reference:umstellmanöver vom gleis zwei null via gleis neun und via gleis eins nach sieben zwei antworten\n",
      "[NeMo I 2023-01-02 22:25:57 wer_bpe:189] predicted:umstellmanöver von gleis zwei null via gleis neun und via gleis eins nach sieben zwei antworten\n",
      "[NeMo I 2023-01-02 22:26:25 wer_bpe:187] \n",
      "    \n",
      "[NeMo I 2023-01-02 22:26:25 wer_bpe:188] reference:umstellmanöver vom gleis papa zwei sieben nach victor sechs sieben via vier antworten\n",
      "[NeMo I 2023-01-02 22:26:25 wer_bpe:189] predicted:umstellmanöver vom gleis papa zwei sieben nach victor sechs sieben via vier antworten\n",
      "[NeMo I 2023-01-02 22:26:52 wer_bpe:187] \n",
      "    \n",
      "[NeMo I 2023-01-02 22:26:52 wer_bpe:188] reference:umstellmanöver von tango neun acht ins gleis whisky zwei drei via gleis zwei fünf antworten\n",
      "[NeMo I 2023-01-02 22:26:52 wer_bpe:189] predicted:umstellmanöver von tango neun acht ins gleis  zwei drei via gleis zwei fünf antworten\n"
     ]
    },
    {
     "data": {
      "application/vnd.jupyter.widget-view+json": {
       "model_id": "b91d6b32db84491f94f9d2691bb5efac",
       "version_major": 2,
       "version_minor": 0
      },
      "text/plain": [
       "Validation: 0it [00:00, ?it/s]"
      ]
     },
     "metadata": {},
     "output_type": "display_data"
    },
    {
     "name": "stdout",
     "output_type": "stream",
     "text": [
      "[NeMo I 2023-01-02 22:27:15 wer_bpe:187] \n",
      "    \n",
      "[NeMo I 2023-01-02 22:27:15 wer_bpe:188] reference:rangierfahrt vom gleis mike zwei drei ins drei drei antworten\n",
      "[NeMo I 2023-01-02 22:27:15 wer_bpe:189] predicted:rangierfahrt vom gleis mike zwei drei ins drei drei antworten\n",
      "[NeMo I 2023-01-02 22:27:15 wer_bpe:187] \n",
      "    \n",
      "[NeMo I 2023-01-02 22:27:15 wer_bpe:188] reference:spracheingabe\n",
      "[NeMo I 2023-01-02 22:27:15 wer_bpe:189] predicted:spracheingabe\n",
      "[NeMo I 2023-01-02 22:27:15 wer_bpe:187] \n",
      "    \n",
      "[NeMo I 2023-01-02 22:27:15 wer_bpe:188] reference:umstellmanöver vom drei sechs nach gleis xray vier sieben via null vier antworten\n",
      "[NeMo I 2023-01-02 22:27:15 wer_bpe:189] predicted:umstellmanöver vom drei sechs nach gleis xray vier sieben via null vier antworten\n",
      "[NeMo I 2023-01-02 22:27:15 wer_bpe:187] \n",
      "    \n",
      "[NeMo I 2023-01-02 22:27:15 wer_bpe:188] reference:rangierfahrt von gleis sechs neun ins gleis delta sieben antworten\n",
      "[NeMo I 2023-01-02 22:27:15 wer_bpe:189] predicted:rangierfahrt von gleis sechs neun ins gleis delta sieben antworten\n",
      "[NeMo I 2023-01-02 22:27:15 wer_bpe:187] \n",
      "    \n",
      "[NeMo I 2023-01-02 22:27:15 wer_bpe:188] reference:umstellmanöver von charlie drei zwei via gleis victor sechs neun ins gleis golf zwei vier antworten\n",
      "[NeMo I 2023-01-02 22:27:15 wer_bpe:189] predicted:umstellmanöver von charlie drei zwei via gleis victor sechs neun ins gleis golf zwei vier antworten\n"
     ]
    },
    {
     "name": "stderr",
     "output_type": "stream",
     "text": [
      "`Trainer.fit` stopped: `max_epochs=9` reached.\n"
     ]
    },
    {
     "data": {
      "text/html": [
       "Waiting for W&B process to finish... <strong style=\"color:green\">(success).</strong>"
      ],
      "text/plain": [
       "<IPython.core.display.HTML object>"
      ]
     },
     "metadata": {},
     "output_type": "display_data"
    },
    {
     "data": {
      "text/html": [
       "<style>\n",
       "    table.wandb td:nth-child(1) { padding: 0 10px; text-align: left ; width: auto;} td:nth-child(2) {text-align: left ; width: 100%}\n",
       "    .wandb-row { display: flex; flex-direction: row; flex-wrap: wrap; justify-content: flex-start; width: 100% }\n",
       "    .wandb-col { display: flex; flex-direction: column; flex-basis: 100%; flex: 1; padding: 10px; }\n",
       "    </style>\n",
       "<div class=\"wandb-row\"><div class=\"wandb-col\"><h3>Run history:</h3><br/><table class=\"wandb\"><tr><td>epoch</td><td>▁▁▁▁▂▂▂▂▂▃▃▃▃▃▄▄▄▄▅▅▅▅▅▅▅▅▅▆▆▆▆▆▇▇▇▇████</td></tr><tr><td>global_step</td><td>▁▁▁▂▂▂▂▂▂▃▃▃▃▃▃▄▄▄▄▄▅▅▅▅▅▆▆▆▆▆▆▆▇▇▇▇▇███</td></tr><tr><td>learning_rate</td><td>▁▁▁▂▂▂▂▂▂▃▃▃▃▃▃▄▄▄▄▄▅▅▅▅▅▅▆▆▆▆▆▆▇▇▇▇▇▇██</td></tr><tr><td>train_loss</td><td>█▆▅▅▅▄▄▄▅▄▃▃▃▂▃▂▂▂▂▁▁▂▁▂▁▃▁▁▂▁▂▁▁▁▁▁▁▂▁▁</td></tr><tr><td>trainer/global_step</td><td>▁▁▁▂▂▂▂▂▂▃▃▃▃▃▃▄▄▄▄▄▅▅▅▅▅▆▆▆▆▆▆▆▇▇▇▇▇███</td></tr><tr><td>training_batch_wer</td><td>██▆▇▅▆▅▄▃▄▃▄▃▂▂▂▂▂▃▂▃▁▁▂▄▂▂▃▃▃▂▁▂▁</td></tr><tr><td>val_loss</td><td>█▃▂▁▁▁▁▁▁</td></tr><tr><td>val_wer</td><td>█▃▂▁▁▁▁▁▁</td></tr></table><br/></div><div class=\"wandb-col\"><h3>Run summary:</h3><br/><table class=\"wandb\"><tr><td>epoch</td><td>8</td></tr><tr><td>global_step</td><td>2133.0</td></tr><tr><td>learning_rate</td><td>0.00021</td></tr><tr><td>train_loss</td><td>5.41812</td></tr><tr><td>trainer/global_step</td><td>2132</td></tr><tr><td>training_batch_wer</td><td>0.04717</td></tr><tr><td>val_loss</td><td>1.37759</td></tr><tr><td>val_wer</td><td>0.01828</td></tr></table><br/></div></div>"
      ],
      "text/plain": [
       "<IPython.core.display.HTML object>"
      ]
     },
     "metadata": {},
     "output_type": "display_data"
    },
    {
     "data": {
      "text/html": [
       "Synced <strong style=\"color:#cdcd00\">morning-sweep-20</strong>: <a href=\"https://wandb.ai/unisg-ds-nlp/ASR/runs/3hlqenfy\" target=\"_blank\">https://wandb.ai/unisg-ds-nlp/ASR/runs/3hlqenfy</a><br/>Synced 5 W&B file(s), 0 media file(s), 9 artifact file(s) and 0 other file(s)"
      ],
      "text/plain": [
       "<IPython.core.display.HTML object>"
      ]
     },
     "metadata": {},
     "output_type": "display_data"
    },
    {
     "data": {
      "text/html": [
       "Find logs at: <code>./wandb/run-20230102_220436-3hlqenfy/logs</code>"
      ],
      "text/plain": [
       "<IPython.core.display.HTML object>"
      ]
     },
     "metadata": {},
     "output_type": "display_data"
    },
    {
     "name": "stderr",
     "output_type": "stream",
     "text": [
      "\u001b[34m\u001b[1mwandb\u001b[0m: Agent Starting Run: 12igiylc with config:\n",
      "\u001b[34m\u001b[1mwandb\u001b[0m: \tepoch: 6\n",
      "\u001b[34m\u001b[1mwandb\u001b[0m: \tfreq_width: 26.937256308320254\n",
      "\u001b[34m\u001b[1mwandb\u001b[0m: \tlr: 0.0006051546028578256\n",
      "Failed to detect the name of this notebook, you can set it manually with the WANDB_NOTEBOOK_NAME environment variable to enable code saving.\n"
     ]
    },
    {
     "data": {
      "text/html": [
       "wandb version 0.13.7 is available!  To upgrade, please run:\n",
       " $ pip install wandb --upgrade"
      ],
      "text/plain": [
       "<IPython.core.display.HTML object>"
      ]
     },
     "metadata": {},
     "output_type": "display_data"
    },
    {
     "data": {
      "text/html": [
       "Tracking run with wandb version 0.13.4"
      ],
      "text/plain": [
       "<IPython.core.display.HTML object>"
      ]
     },
     "metadata": {},
     "output_type": "display_data"
    },
    {
     "data": {
      "text/html": [
       "Run data is saved locally in <code>/home/user/code/sbb_asr/notebooks/wandb/run-20230102_222810-12igiylc</code>"
      ],
      "text/plain": [
       "<IPython.core.display.HTML object>"
      ]
     },
     "metadata": {},
     "output_type": "display_data"
    },
    {
     "data": {
      "text/html": [
       "Syncing run <strong><a href=\"https://wandb.ai/unisg-ds-nlp/ASR/runs/12igiylc\" target=\"_blank\">playful-sweep-21</a></strong> to <a href=\"https://wandb.ai/unisg-ds-nlp/ASR\" target=\"_blank\">Weights & Biases</a> (<a href=\"https://wandb.me/run\" target=\"_blank\">docs</a>)<br/>Sweep page:  <a href=\"https://wandb.ai/unisg-ds-nlp/ASR/sweeps/v7qi12lc\" target=\"_blank\">https://wandb.ai/unisg-ds-nlp/ASR/sweeps/v7qi12lc</a>"
      ],
      "text/plain": [
       "<IPython.core.display.HTML object>"
      ]
     },
     "metadata": {},
     "output_type": "display_data"
    },
    {
     "name": "stderr",
     "output_type": "stream",
     "text": [
      "[NeMo W 2023-01-02 22:28:12 nemo_logging:349] /home/user/.local/lib/python3.9/site-packages/pytorch_lightning/loggers/wandb.py:352: UserWarning: There is a wandb run already in progress and newly created instances of `WandbLogger` will reuse this run. If this is not desired, call `wandb.finish()` before instantiating `WandbLogger`.\n",
      "      rank_zero_warn(\n",
      "    \n",
      "[NeMo W 2023-01-02 22:28:12 nemo_logging:349] /home/user/.local/lib/python3.9/site-packages/pytorch_lightning/trainer/connectors/accelerator_connector.py:447: LightningDeprecationWarning: Setting `Trainer(gpus=1)` is deprecated in v1.7 and will be removed in v2.0. Please use `Trainer(accelerator='gpu', devices=1)` instead.\n",
      "      rank_zero_deprecation(\n",
      "    \n",
      "GPU available: True (cuda), used: True\n",
      "TPU available: False, using: 0 TPU cores\n",
      "IPU available: False, using: 0 IPUs\n",
      "HPU available: False, using: 0 HPUs\n"
     ]
    },
    {
     "name": "stdout",
     "output_type": "stream",
     "text": [
      "[NeMo I 2023-01-02 22:28:14 cloud:56] Found existing object /home/user/.cache/torch/NeMo/NeMo_1.12.0/stt_de_citrinet_1024/8743e4cecb8017ca2b49a035e07b2893/stt_de_citrinet_1024.nemo.\n",
      "[NeMo I 2023-01-02 22:28:14 cloud:62] Re-using file from: /home/user/.cache/torch/NeMo/NeMo_1.12.0/stt_de_citrinet_1024/8743e4cecb8017ca2b49a035e07b2893/stt_de_citrinet_1024.nemo\n",
      "[NeMo I 2023-01-02 22:28:14 common:910] Instantiating model from pre-trained checkpoint\n",
      "[NeMo I 2023-01-02 22:28:20 mixins:170] Tokenizer SentencePieceTokenizer initialized with 1024 tokens\n"
     ]
    },
    {
     "name": "stderr",
     "output_type": "stream",
     "text": [
      "[NeMo W 2023-01-02 22:28:20 modelPT:142] If you intend to do training or fine-tuning, please call the ModelPT.setup_training_data() method and provide a valid configuration file to setup the train data loader.\n",
      "    Train config : \n",
      "    manifest_filepath: /data/train/tarred_audio_manifest.json\n",
      "    sample_rate: 16000\n",
      "    batch_size: 32\n",
      "    trim_silence: false\n",
      "    max_duration: 35.0\n",
      "    shuffle: true\n",
      "    is_tarred: true\n",
      "    tarred_audio_filepaths: /data/train/audio__OP_0..1023_CL_.tar\n",
      "    use_start_end_token: false\n",
      "    shuffle_n: 1024\n",
      "    num_workers: 16\n",
      "    pin_memory: true\n",
      "    \n",
      "[NeMo W 2023-01-02 22:28:20 modelPT:149] If you intend to do validation, please call the ModelPT.setup_validation_data() or ModelPT.setup_multiple_validation_data() method and provide a valid configuration file to setup the validation data loader(s). \n",
      "    Validation config : \n",
      "    manifest_filepath:\n",
      "    - /data/voxpopuli_de/dev/voxpopuli_dev_manifest.json\n",
      "    - /data/voxpopuli_de/test/voxpopuli_test_manifest.json\n",
      "    - /data/mcv7.0_de/mcv7.0_dev_manifest_cleaned.json\n",
      "    - /data/mcv7.0_de/mcv7.0_test_manifest_cleaned.json\n",
      "    - /data/mls_de/mls_dev_manifest_cleaned.json\n",
      "    - /data/mls_de/mls_test_manifest_cleaned.json\n",
      "    sample_rate: 16000\n",
      "    batch_size: 8\n",
      "    shuffle: false\n",
      "    use_start_end_token: false\n",
      "    num_workers: 8\n",
      "    pin_memory: true\n",
      "    \n",
      "[NeMo W 2023-01-02 22:28:20 modelPT:155] Please call the ModelPT.setup_test_data() or ModelPT.setup_multiple_test_data() method and provide a valid configuration file to setup the test data loader(s).\n",
      "    Test config : \n",
      "    manifest_filepath: null\n",
      "    sample_rate: 16000\n",
      "    batch_size: 32\n",
      "    shuffle: false\n",
      "    use_start_end_token: false\n",
      "    \n"
     ]
    },
    {
     "name": "stdout",
     "output_type": "stream",
     "text": [
      "[NeMo I 2023-01-02 22:28:20 features:225] PADDING: 16\n",
      "[NeMo I 2023-01-02 22:28:27 save_restore_connector:243] Model EncDecCTCModelBPE was successfully restored from /home/user/.cache/torch/NeMo/NeMo_1.12.0/stt_de_citrinet_1024/8743e4cecb8017ca2b49a035e07b2893/stt_de_citrinet_1024.nemo.\n",
      "[NeMo I 2023-01-02 22:28:27 collections:194] Dataset loaded with 1890 files totalling 7.41 hours\n",
      "[NeMo I 2023-01-02 22:28:27 collections:195] 0 files were filtered totalling 0.00 hours\n",
      "[NeMo I 2023-01-02 22:28:27 collections:194] Dataset loaded with 34 files totalling 0.13 hours\n",
      "[NeMo I 2023-01-02 22:28:27 collections:195] 0 files were filtered totalling 0.00 hours\n",
      "[NeMo I 2023-01-02 22:28:27 collections:194] Dataset loaded with 34 files totalling 0.14 hours\n",
      "[NeMo I 2023-01-02 22:28:27 collections:195] 0 files were filtered totalling 0.00 hours\n",
      "[NeMo I 2023-01-02 22:28:27 modelPT:597] Optimizer config = Novograd (\n",
      "    Parameter Group 0\n",
      "        amsgrad: False\n",
      "        betas: [0.8, 0.25]\n",
      "        eps: 1e-08\n",
      "        grad_averaging: False\n",
      "        lr: 0.0006051546028578256\n",
      "        weight_decay: 0.001\n",
      "    )\n",
      "[NeMo I 2023-01-02 22:28:27 lr_scheduler:910] Scheduler \"<nemo.core.optim.lr_scheduler.CosineAnnealing object at 0x7f836a8390d0>\" \n",
      "    will be used during training (effective maximum steps = 1422) - \n",
      "    Parameters : \n",
      "    (warmup_steps: 10000\n",
      "    warmup_ratio: null\n",
      "    min_lr: 1.0e-05\n",
      "    last_epoch: -1\n",
      "    max_steps: 1422\n",
      "    )\n"
     ]
    },
    {
     "name": "stderr",
     "output_type": "stream",
     "text": [
      "LOCAL_RANK: 0 - CUDA_VISIBLE_DEVICES: [0,1,2,3]\n"
     ]
    },
    {
     "name": "stdout",
     "output_type": "stream",
     "text": [
      "[NeMo I 2023-01-02 22:28:28 modelPT:597] Optimizer config = Novograd (\n",
      "    Parameter Group 0\n",
      "        amsgrad: False\n",
      "        betas: [0.8, 0.25]\n",
      "        eps: 1e-08\n",
      "        grad_averaging: False\n",
      "        lr: 0.0006051546028578256\n",
      "        weight_decay: 0.001\n",
      "    )\n",
      "[NeMo I 2023-01-02 22:28:28 lr_scheduler:910] Scheduler \"<nemo.core.optim.lr_scheduler.CosineAnnealing object at 0x7f836ad7e9d0>\" \n",
      "    will be used during training (effective maximum steps = 1422) - \n",
      "    Parameters : \n",
      "    (warmup_steps: 10000\n",
      "    warmup_ratio: null\n",
      "    min_lr: 1.0e-05\n",
      "    last_epoch: -1\n",
      "    max_steps: 1422\n",
      "    )\n"
     ]
    },
    {
     "name": "stderr",
     "output_type": "stream",
     "text": [
      "\n",
      "  | Name              | Type                              | Params\n",
      "------------------------------------------------------------------------\n",
      "0 | preprocessor      | AudioToMelSpectrogramPreprocessor | 0     \n",
      "1 | encoder           | ConvASREncoder                    | 140 M \n",
      "2 | decoder           | ConvASRDecoder                    | 1.1 M \n",
      "3 | loss              | CTCLoss                           | 0     \n",
      "4 | spec_augmentation | SpectrogramAugmentation           | 0     \n",
      "5 | _wer              | WERBPE                            | 0     \n",
      "------------------------------------------------------------------------\n",
      "141 M     Trainable params\n",
      "0         Non-trainable params\n",
      "141 M     Total params\n",
      "564.897   Total estimated model params size (MB)\n"
     ]
    },
    {
     "data": {
      "application/vnd.jupyter.widget-view+json": {
       "model_id": "fb6b0bd36e224774be0861403b84c15e",
       "version_major": 2,
       "version_minor": 0
      },
      "text/plain": [
       "Sanity Checking: 0it [00:00, ?it/s]"
      ]
     },
     "metadata": {},
     "output_type": "display_data"
    },
    {
     "name": "stdout",
     "output_type": "stream",
     "text": [
      "[NeMo I 2023-01-02 22:28:30 wer_bpe:187] \n",
      "    \n",
      "[NeMo I 2023-01-02 22:28:30 wer_bpe:188] reference:rangierfahrt vom gleis mike zwei drei ins drei drei antworten\n",
      "[NeMo I 2023-01-02 22:28:30 wer_bpe:189] predicted:prongierfahrt vom gleis maik zwei drei ins drei drei antworten\n",
      "[NeMo I 2023-01-02 22:28:30 wer_bpe:187] \n",
      "    \n",
      "[NeMo I 2023-01-02 22:28:30 wer_bpe:188] reference:spracheingabe\n",
      "[NeMo I 2023-01-02 22:28:30 wer_bpe:189] predicted:spracheingabe\n"
     ]
    },
    {
     "data": {
      "application/vnd.jupyter.widget-view+json": {
       "model_id": "242ed918cd9e46c3bbc5a2250c1abae3",
       "version_major": 2,
       "version_minor": 0
      },
      "text/plain": [
       "Training: 0it [00:00, ?it/s]"
      ]
     },
     "metadata": {},
     "output_type": "display_data"
    },
    {
     "name": "stdout",
     "output_type": "stream",
     "text": [
      "[NeMo I 2023-01-02 22:29:01 wer_bpe:187] \n",
      "    \n",
      "[NeMo I 2023-01-02 22:29:01 wer_bpe:188] reference:umstellmanöver vom eins eins via gleis quebec acht vier ins neun antworten\n",
      "[NeMo I 2023-01-02 22:29:01 wer_bpe:189] predicted:um man ja kobelacht\n",
      "[NeMo I 2023-01-02 22:29:29 wer_bpe:187] \n",
      "    \n",
      "[NeMo I 2023-01-02 22:29:29 wer_bpe:188] reference:er will am donnerstag nicht in die schule gehen\n",
      "[NeMo I 2023-01-02 22:29:29 wer_bpe:189] predicted:er will am donnerstag nicht indej\n",
      "[NeMo I 2023-01-02 22:29:56 wer_bpe:187] \n",
      "    \n",
      "[NeMo I 2023-01-02 22:29:56 wer_bpe:188] reference:rangierfahrt vom quebec fünf nach alpha zwei null antworten\n",
      "[NeMo I 2023-01-02 22:29:56 wer_bpe:189] predicted:der aber\n",
      "[NeMo I 2023-01-02 22:30:24 wer_bpe:187] \n",
      "    \n",
      "[NeMo I 2023-01-02 22:30:24 wer_bpe:188] reference:rangierfahrt von eins fünf ins gleis sechs sieben antworten\n",
      "[NeMo I 2023-01-02 22:30:24 wer_bpe:189] predicted:rao einsh\n"
     ]
    },
    {
     "data": {
      "application/vnd.jupyter.widget-view+json": {
       "model_id": "062dd561d33b443c810e31f414ca5ca9",
       "version_major": 2,
       "version_minor": 0
      },
      "text/plain": [
       "Validation: 0it [00:00, ?it/s]"
      ]
     },
     "metadata": {},
     "output_type": "display_data"
    },
    {
     "name": "stdout",
     "output_type": "stream",
     "text": [
      "[NeMo I 2023-01-02 22:30:47 wer_bpe:187] \n",
      "    \n",
      "[NeMo I 2023-01-02 22:30:47 wer_bpe:188] reference:rangierfahrt vom gleis mike zwei drei ins drei drei antworten\n",
      "[NeMo I 2023-01-02 22:30:47 wer_bpe:189] predicted:fr schierfahrt von gleis ma zwei drei in drei drei\n",
      "[NeMo I 2023-01-02 22:30:47 wer_bpe:187] \n",
      "    \n",
      "[NeMo I 2023-01-02 22:30:47 wer_bpe:188] reference:spracheingabe\n",
      "[NeMo I 2023-01-02 22:30:47 wer_bpe:189] predicted:sprach eingabe\n",
      "[NeMo I 2023-01-02 22:30:48 wer_bpe:187] \n",
      "    \n",
      "[NeMo I 2023-01-02 22:30:48 wer_bpe:188] reference:umstellmanöver vom drei sechs nach gleis xray vier sieben via null vier antworten\n",
      "[NeMo I 2023-01-02 22:30:48 wer_bpe:189] predicted:umstellmanöver vom drei sechs nach gleis exray vier sieben via null viel antworten\n",
      "[NeMo I 2023-01-02 22:30:48 wer_bpe:187] \n",
      "    \n",
      "[NeMo I 2023-01-02 22:30:48 wer_bpe:188] reference:rangierfahrt von gleis sechs neun ins gleis delta sieben antworten\n",
      "[NeMo I 2023-01-02 22:30:48 wer_bpe:189] predicted:rangierfahrt von gleis sechs neun ins gleis delta sieben antworten\n",
      "[NeMo I 2023-01-02 22:30:48 wer_bpe:187] \n",
      "    \n",
      "[NeMo I 2023-01-02 22:30:48 wer_bpe:188] reference:umstellmanöver von charlie drei zwei via gleis victor sechs neun ins gleis golf zwei vier antworten\n",
      "[NeMo I 2023-01-02 22:30:48 wer_bpe:189] predicted:stellmanövver von charly drei zwei wir gleis ickctor sechs neun ihns gleis gold zwei vier antwort\n",
      "[NeMo I 2023-01-02 22:31:30 wer_bpe:187] \n",
      "    \n",
      "[NeMo I 2023-01-02 22:31:30 wer_bpe:188] reference:rangierfahrt vom gleis sechs acht nach gleis acht sechs antworten\n",
      "[NeMo I 2023-01-02 22:31:30 wer_bpe:189] predicted:ro vom sechs acht nach gleis durchs antworten\n",
      "[NeMo I 2023-01-02 22:31:57 wer_bpe:187] \n",
      "    \n",
      "[NeMo I 2023-01-02 22:31:57 wer_bpe:188] reference:umstellmanöver vom neun neun via gleis victor null vier nach sieben neun antworten\n",
      "[NeMo I 2023-01-02 22:31:57 wer_bpe:189] predicted:um vom neu neun via gleis bte null v nachen neun antworten\n",
      "[NeMo I 2023-01-02 22:32:26 wer_bpe:187] \n",
      "    \n",
      "[NeMo I 2023-01-02 22:32:26 wer_bpe:188] reference:umstellmanöver von tango neun acht ins gleis whisky zwei drei via gleis zwei fünf antworten\n",
      "[NeMo I 2023-01-02 22:32:26 wer_bpe:189] predicted:umstellma vonleis als drei ja bis zwei fünf an\n",
      "[NeMo I 2023-01-02 22:32:53 wer_bpe:187] \n",
      "    \n",
      "[NeMo I 2023-01-02 22:32:53 wer_bpe:188] reference:umstellmanöver vom fünf eins ins gleis papa sechs drei via gleis vier sechs antworten\n",
      "[NeMo I 2023-01-02 22:32:53 wer_bpe:189] predicted:umstellmanöver vom eins ins gleis papa sechs drei via gleis vier antworten\n"
     ]
    },
    {
     "data": {
      "application/vnd.jupyter.widget-view+json": {
       "model_id": "2a0f9c6bb61f4d3ead04cde494ef61ee",
       "version_major": 2,
       "version_minor": 0
      },
      "text/plain": [
       "Validation: 0it [00:00, ?it/s]"
      ]
     },
     "metadata": {},
     "output_type": "display_data"
    },
    {
     "name": "stdout",
     "output_type": "stream",
     "text": [
      "[NeMo I 2023-01-02 22:33:16 wer_bpe:187] \n",
      "    \n",
      "[NeMo I 2023-01-02 22:33:16 wer_bpe:188] reference:rangierfahrt vom gleis mike zwei drei ins drei drei antworten\n",
      "[NeMo I 2023-01-02 22:33:16 wer_bpe:189] predicted:rangierfahrt vom gleis miig zwei drei ins drei drei antworten\n",
      "[NeMo I 2023-01-02 22:33:17 wer_bpe:187] \n",
      "    \n",
      "[NeMo I 2023-01-02 22:33:17 wer_bpe:188] reference:spracheingabe\n",
      "[NeMo I 2023-01-02 22:33:17 wer_bpe:189] predicted:sprach eingabe\n",
      "[NeMo I 2023-01-02 22:33:17 wer_bpe:187] \n",
      "    \n",
      "[NeMo I 2023-01-02 22:33:17 wer_bpe:188] reference:umstellmanöver vom drei sechs nach gleis xray vier sieben via null vier antworten\n",
      "[NeMo I 2023-01-02 22:33:17 wer_bpe:189] predicted:umstellmanöver vom drei sechs nach gleis xray vier sieben via null v antworten\n",
      "[NeMo I 2023-01-02 22:33:17 wer_bpe:187] \n",
      "    \n",
      "[NeMo I 2023-01-02 22:33:17 wer_bpe:188] reference:rangierfahrt von gleis sechs neun ins gleis delta sieben antworten\n",
      "[NeMo I 2023-01-02 22:33:17 wer_bpe:189] predicted:rangierfahrt von gleis sechs neun ins gleis delta sieben antworten\n",
      "[NeMo I 2023-01-02 22:33:17 wer_bpe:187] \n",
      "    \n",
      "[NeMo I 2023-01-02 22:33:17 wer_bpe:188] reference:umstellmanöver von charlie drei zwei via gleis victor sechs neun ins gleis golf zwei vier antworten\n",
      "[NeMo I 2023-01-02 22:33:17 wer_bpe:189] predicted:umstellmanöver von charliy drei zwei via gleis victor sechs neun ins gleis gol zwei vier antwort\n",
      "[NeMo I 2023-01-02 22:33:59 wer_bpe:187] \n",
      "    \n",
      "[NeMo I 2023-01-02 22:33:59 wer_bpe:188] reference:umstellmanöver von sechs null via acht vier ins golf eins vier antworten\n",
      "[NeMo I 2023-01-02 22:33:59 wer_bpe:189] predicted:umstellmanöver von se null v achtier ins golf eins vier andere\n",
      "[NeMo I 2023-01-02 22:34:27 wer_bpe:187] \n",
      "    \n",
      "[NeMo I 2023-01-02 22:34:27 wer_bpe:188] reference:umstellmanöver vom gleis eins eins ins gleis golf drei zwei via gleis sierra eins neun antworten\n",
      "[NeMo I 2023-01-02 22:34:27 wer_bpe:189] predicted:umstellmanöver vom gleis eins eins ins gleis gols drei zwei  gleis sierra eins neun machen\n",
      "[NeMo I 2023-01-02 22:34:55 wer_bpe:187] \n",
      "    \n",
      "[NeMo I 2023-01-02 22:34:55 wer_bpe:188] reference:umstellmanöver vom sechs vier via gleis eins drei nach gleis alpha fünf null antworten\n",
      "[NeMo I 2023-01-02 22:34:55 wer_bpe:189] predicted:vom sechs sie via eins drei gleis alpha fünf null antworten\n",
      "[NeMo I 2023-01-02 22:35:23 wer_bpe:187] \n",
      "    \n",
      "[NeMo I 2023-01-02 22:35:23 wer_bpe:188] reference:umstellmanöver von gleis acht fünf ins zwei via romeo vier sechs antworten\n",
      "[NeMo I 2023-01-02 22:35:23 wer_bpe:189] predicted:umstellmanöver acht fünf ins zwei via romeo vier sechs antworten\n"
     ]
    },
    {
     "data": {
      "application/vnd.jupyter.widget-view+json": {
       "model_id": "29a3ea600b3e4fd6b81417bdd61a2a57",
       "version_major": 2,
       "version_minor": 0
      },
      "text/plain": [
       "Validation: 0it [00:00, ?it/s]"
      ]
     },
     "metadata": {},
     "output_type": "display_data"
    },
    {
     "name": "stdout",
     "output_type": "stream",
     "text": [
      "[NeMo I 2023-01-02 22:35:46 wer_bpe:187] \n",
      "    \n",
      "[NeMo I 2023-01-02 22:35:46 wer_bpe:188] reference:rangierfahrt vom gleis mike zwei drei ins drei drei antworten\n",
      "[NeMo I 2023-01-02 22:35:46 wer_bpe:189] predicted:rangierfahrt vom gleis mike zwei drei ins drei drei antworten\n",
      "[NeMo I 2023-01-02 22:35:46 wer_bpe:187] \n",
      "    \n",
      "[NeMo I 2023-01-02 22:35:46 wer_bpe:188] reference:spracheingabe\n",
      "[NeMo I 2023-01-02 22:35:46 wer_bpe:189] predicted:sprach eingabe\n",
      "[NeMo I 2023-01-02 22:35:46 wer_bpe:187] \n",
      "    \n",
      "[NeMo I 2023-01-02 22:35:46 wer_bpe:188] reference:umstellmanöver vom drei sechs nach gleis xray vier sieben via null vier antworten\n",
      "[NeMo I 2023-01-02 22:35:46 wer_bpe:189] predicted:umstellmanöver vom drei sechs nach gleis xray vier sieben via null vier antworten\n",
      "[NeMo I 2023-01-02 22:35:46 wer_bpe:187] \n",
      "    \n",
      "[NeMo I 2023-01-02 22:35:46 wer_bpe:188] reference:rangierfahrt von gleis sechs neun ins gleis delta sieben antworten\n",
      "[NeMo I 2023-01-02 22:35:46 wer_bpe:189] predicted:rangierfahrt von gleis sechs neun ins gleis delta sieben antworten\n",
      "[NeMo I 2023-01-02 22:35:46 wer_bpe:187] \n",
      "    \n",
      "[NeMo I 2023-01-02 22:35:46 wer_bpe:188] reference:umstellmanöver von charlie drei zwei via gleis victor sechs neun ins gleis golf zwei vier antworten\n",
      "[NeMo I 2023-01-02 22:35:46 wer_bpe:189] predicted:umstellmanöver von charlie drei zwei via gleis victor sechs neun ins gleis golf zwei vier antworten\n",
      "[NeMo I 2023-01-02 22:36:29 wer_bpe:187] \n",
      "    \n",
      "[NeMo I 2023-01-02 22:36:29 wer_bpe:188] reference:umstellmanöver von echo drei drei via india neun sieben ins delta eins acht antworten\n",
      "[NeMo I 2023-01-02 22:36:29 wer_bpe:189] predicted:umstellmanöver vom eo drei drei via indi sieben in delta acht antworten\n",
      "[NeMo I 2023-01-02 22:36:57 wer_bpe:187] \n",
      "    \n",
      "[NeMo I 2023-01-02 22:36:57 wer_bpe:188] reference:umstellmanöver vom gleis juliet vier fünf nach sieben acht via vier acht antworten\n",
      "[NeMo I 2023-01-02 22:36:57 wer_bpe:189] predicted:umöver vom vom gleis juulliet vier fünf nach sieben acht via vier acht antwort\n",
      "[NeMo I 2023-01-02 22:37:25 wer_bpe:187] \n",
      "    \n",
      "[NeMo I 2023-01-02 22:37:25 wer_bpe:188] reference:umstellmanöver vom fünf eins ins gleis papa sechs drei via gleis vier sechs antworten\n",
      "[NeMo I 2023-01-02 22:37:25 wer_bpe:189] predicted:umstellmanöver fünf eins ins gleis von pa sech  gleis vier sechs antworten\n",
      "[NeMo I 2023-01-02 22:37:53 wer_bpe:187] \n",
      "    \n",
      "[NeMo I 2023-01-02 22:37:53 wer_bpe:188] reference:rangierfahrt von gleis sieben neun nach sechs fünf antworten\n",
      "[NeMo I 2023-01-02 22:37:53 wer_bpe:189] predicted:rangier sechs\n"
     ]
    },
    {
     "data": {
      "application/vnd.jupyter.widget-view+json": {
       "model_id": "ab5642dff537435f9aa1f96d80a8994a",
       "version_major": 2,
       "version_minor": 0
      },
      "text/plain": [
       "Validation: 0it [00:00, ?it/s]"
      ]
     },
     "metadata": {},
     "output_type": "display_data"
    },
    {
     "name": "stdout",
     "output_type": "stream",
     "text": [
      "[NeMo I 2023-01-02 22:38:16 wer_bpe:187] \n",
      "    \n",
      "[NeMo I 2023-01-02 22:38:16 wer_bpe:188] reference:rangierfahrt vom gleis mike zwei drei ins drei drei antworten\n",
      "[NeMo I 2023-01-02 22:38:16 wer_bpe:189] predicted:rangierfahrt vom gleis mike zwei drei ins drei drei antworten\n",
      "[NeMo I 2023-01-02 22:38:16 wer_bpe:187] \n",
      "    \n",
      "[NeMo I 2023-01-02 22:38:16 wer_bpe:188] reference:spracheingabe\n",
      "[NeMo I 2023-01-02 22:38:16 wer_bpe:189] predicted:sprach eingabe\n",
      "[NeMo I 2023-01-02 22:38:17 wer_bpe:187] \n",
      "    \n",
      "[NeMo I 2023-01-02 22:38:17 wer_bpe:188] reference:umstellmanöver vom drei sechs nach gleis xray vier sieben via null vier antworten\n",
      "[NeMo I 2023-01-02 22:38:17 wer_bpe:189] predicted:umstellmanöver vom drei sechs nach gleis xray vier sieben via null vier antworten\n",
      "[NeMo I 2023-01-02 22:38:17 wer_bpe:187] \n",
      "    \n",
      "[NeMo I 2023-01-02 22:38:17 wer_bpe:188] reference:rangierfahrt von gleis sechs neun ins gleis delta sieben antworten\n",
      "[NeMo I 2023-01-02 22:38:17 wer_bpe:189] predicted:rangierfahrt von gleis sechs neun ins gleis delta sieben antworten\n",
      "[NeMo I 2023-01-02 22:38:17 wer_bpe:187] \n",
      "    \n",
      "[NeMo I 2023-01-02 22:38:17 wer_bpe:188] reference:umstellmanöver von charlie drei zwei via gleis victor sechs neun ins gleis golf zwei vier antworten\n",
      "[NeMo I 2023-01-02 22:38:17 wer_bpe:189] predicted:umstellmanöver von charlie drei zwei via gleis victor sechs neun ins gleis golf zwei vier antworten\n",
      "[NeMo I 2023-01-02 22:38:58 wer_bpe:187] \n",
      "    \n",
      "[NeMo I 2023-01-02 22:38:58 wer_bpe:188] reference:rangierfahrt von gleis november sieben nach golf zwei sechs antworten\n",
      "[NeMo I 2023-01-02 22:38:58 wer_bpe:189] predicted:rangierfahrt von gleis november sieben nach golf zwei sechs antworten\n",
      "[NeMo I 2023-01-02 22:39:26 wer_bpe:187] \n",
      "    \n",
      "[NeMo I 2023-01-02 22:39:26 wer_bpe:188] reference:rangierfahrt von gleis bravo neun sieben ins drei sechs antworten\n",
      "[NeMo I 2023-01-02 22:39:26 wer_bpe:189] predicted:fünf antwort\n",
      "[NeMo I 2023-01-02 22:39:54 wer_bpe:187] \n",
      "    \n",
      "[NeMo I 2023-01-02 22:39:54 wer_bpe:188] reference:rangierfahrt von hotel eins drei ins gleis papa fünf vier antworten\n",
      "[NeMo I 2023-01-02 22:39:54 wer_bpe:189] predicted:rangierfahrt von ra eins  ins gleis pa fünf vier antworten\n",
      "[NeMo I 2023-01-02 22:40:21 wer_bpe:187] \n",
      "    \n",
      "[NeMo I 2023-01-02 22:40:21 wer_bpe:188] reference:rangierfahrt vom gleis quebec eins eins ins gleis november sieben sechs antworten\n",
      "[NeMo I 2023-01-02 22:40:21 wer_bpe:189] predicted:rangierfahrt vom neu quebec nach  eins ins gleis nov sieben sechs antworten\n"
     ]
    },
    {
     "data": {
      "application/vnd.jupyter.widget-view+json": {
       "model_id": "fd681bad41d2456fa2ed3cee73e746d4",
       "version_major": 2,
       "version_minor": 0
      },
      "text/plain": [
       "Validation: 0it [00:00, ?it/s]"
      ]
     },
     "metadata": {},
     "output_type": "display_data"
    },
    {
     "name": "stdout",
     "output_type": "stream",
     "text": [
      "[NeMo I 2023-01-02 22:40:45 wer_bpe:187] \n",
      "    \n",
      "[NeMo I 2023-01-02 22:40:45 wer_bpe:188] reference:rangierfahrt vom gleis mike zwei drei ins drei drei antworten\n",
      "[NeMo I 2023-01-02 22:40:45 wer_bpe:189] predicted:rangierfahrt vom gleis mike zwei drei ins drei drei antworten\n",
      "[NeMo I 2023-01-02 22:40:45 wer_bpe:187] \n",
      "    \n",
      "[NeMo I 2023-01-02 22:40:45 wer_bpe:188] reference:spracheingabe\n",
      "[NeMo I 2023-01-02 22:40:45 wer_bpe:189] predicted:spracheingabe\n",
      "[NeMo I 2023-01-02 22:40:45 wer_bpe:187] \n",
      "    \n",
      "[NeMo I 2023-01-02 22:40:45 wer_bpe:188] reference:umstellmanöver vom drei sechs nach gleis xray vier sieben via null vier antworten\n",
      "[NeMo I 2023-01-02 22:40:45 wer_bpe:189] predicted:umstellmanöver vom drei sechs nach gleis xray vier sieben via null vier antworten\n",
      "[NeMo I 2023-01-02 22:40:45 wer_bpe:187] \n",
      "    \n",
      "[NeMo I 2023-01-02 22:40:45 wer_bpe:188] reference:rangierfahrt von gleis sechs neun ins gleis delta sieben antworten\n",
      "[NeMo I 2023-01-02 22:40:45 wer_bpe:189] predicted:rangierfahrt von gleis sechs neun ins gleis delta sieben antworten\n",
      "[NeMo I 2023-01-02 22:40:45 wer_bpe:187] \n",
      "    \n",
      "[NeMo I 2023-01-02 22:40:45 wer_bpe:188] reference:umstellmanöver von charlie drei zwei via gleis victor sechs neun ins gleis golf zwei vier antworten\n",
      "[NeMo I 2023-01-02 22:40:45 wer_bpe:189] predicted:umstellmanöver von charlie drei zwei via gleis victor sechs neun ins gleis golf zwei vier antworten\n",
      "[NeMo I 2023-01-02 22:41:27 wer_bpe:187] \n",
      "    \n",
      "[NeMo I 2023-01-02 22:41:27 wer_bpe:188] reference:rangierfahrt von eins ins gleis eins drei antworten\n",
      "[NeMo I 2023-01-02 22:41:27 wer_bpe:189] predicted:rangngierfahrt von eins ins gleis gs drei antworten\n",
      "[NeMo I 2023-01-02 22:41:55 wer_bpe:187] \n",
      "    \n",
      "[NeMo I 2023-01-02 22:41:55 wer_bpe:188] reference:rangierfahrt von sierra neun fünf ins eins acht antworten\n",
      "[NeMo I 2023-01-02 22:41:55 wer_bpe:189] predicted:rangierfahrt von sierra neun fünf ins eins acht antworten\n",
      "[NeMo I 2023-01-02 22:42:22 wer_bpe:187] \n",
      "    \n",
      "[NeMo I 2023-01-02 22:42:22 wer_bpe:188] reference:umstellmanöver vom gleis xray eins null ins sechs acht via gleis sieben null antworten\n",
      "[NeMo I 2023-01-02 22:42:22 wer_bpe:189] predicted:vom gleis xray eins null sechs acht v gleis sieben null antworten\n",
      "[NeMo I 2023-01-02 22:42:50 wer_bpe:187] \n",
      "    \n",
      "[NeMo I 2023-01-02 22:42:50 wer_bpe:188] reference:rangierfahrt vom drei vier ins alpha sechs sechs antworten\n",
      "[NeMo I 2023-01-02 22:42:50 wer_bpe:189] predicted:rangierfahrt von drei vier ins alpha sechs sechs antworten\n"
     ]
    },
    {
     "data": {
      "application/vnd.jupyter.widget-view+json": {
       "model_id": "348aaf7f04914359a46d7d7f37f43850",
       "version_major": 2,
       "version_minor": 0
      },
      "text/plain": [
       "Validation: 0it [00:00, ?it/s]"
      ]
     },
     "metadata": {},
     "output_type": "display_data"
    },
    {
     "name": "stdout",
     "output_type": "stream",
     "text": [
      "[NeMo I 2023-01-02 22:43:12 wer_bpe:187] \n",
      "    \n",
      "[NeMo I 2023-01-02 22:43:13 wer_bpe:188] reference:rangierfahrt vom gleis mike zwei drei ins drei drei antworten\n",
      "[NeMo I 2023-01-02 22:43:13 wer_bpe:189] predicted:rangierfahrt vom gleis mike zwei drei ins drei drei antworten\n",
      "[NeMo I 2023-01-02 22:43:13 wer_bpe:187] \n",
      "    \n",
      "[NeMo I 2023-01-02 22:43:13 wer_bpe:188] reference:spracheingabe\n",
      "[NeMo I 2023-01-02 22:43:13 wer_bpe:189] predicted:spracheingabe\n",
      "[NeMo I 2023-01-02 22:43:13 wer_bpe:187] \n",
      "    \n",
      "[NeMo I 2023-01-02 22:43:13 wer_bpe:188] reference:umstellmanöver vom drei sechs nach gleis xray vier sieben via null vier antworten\n",
      "[NeMo I 2023-01-02 22:43:13 wer_bpe:189] predicted:umstellmanöver vom drei sechs nach gleis xray vier sieben via null vier antworten\n",
      "[NeMo I 2023-01-02 22:43:13 wer_bpe:187] \n",
      "    \n",
      "[NeMo I 2023-01-02 22:43:13 wer_bpe:188] reference:rangierfahrt von gleis sechs neun ins gleis delta sieben antworten\n",
      "[NeMo I 2023-01-02 22:43:13 wer_bpe:189] predicted:rangierfahrt von gleis sechs neun ins gleis delta sieben antworten\n",
      "[NeMo I 2023-01-02 22:43:13 wer_bpe:187] \n",
      "    \n",
      "[NeMo I 2023-01-02 22:43:13 wer_bpe:188] reference:umstellmanöver von charlie drei zwei via gleis victor sechs neun ins gleis golf zwei vier antworten\n",
      "[NeMo I 2023-01-02 22:43:13 wer_bpe:189] predicted:umstellmanöver von charlie drei zwei via gleis victor sechs neun ins gleis golf zwei vier antworten\n"
     ]
    },
    {
     "name": "stderr",
     "output_type": "stream",
     "text": [
      "`Trainer.fit` stopped: `max_epochs=6` reached.\n"
     ]
    },
    {
     "data": {
      "text/html": [
       "Waiting for W&B process to finish... <strong style=\"color:green\">(success).</strong>"
      ],
      "text/plain": [
       "<IPython.core.display.HTML object>"
      ]
     },
     "metadata": {},
     "output_type": "display_data"
    },
    {
     "data": {
      "text/html": [
       "<style>\n",
       "    table.wandb td:nth-child(1) { padding: 0 10px; text-align: left ; width: auto;} td:nth-child(2) {text-align: left ; width: 100%}\n",
       "    .wandb-row { display: flex; flex-direction: row; flex-wrap: wrap; justify-content: flex-start; width: 100% }\n",
       "    .wandb-col { display: flex; flex-direction: column; flex-basis: 100%; flex: 1; padding: 10px; }\n",
       "    </style>\n",
       "<div class=\"wandb-row\"><div class=\"wandb-col\"><h3>Run history:</h3><br/><table class=\"wandb\"><tr><td>epoch</td><td>▁▁▁▁▁▂▂▂▂▂▂▄▄▄▄▄▄▅▅▅▅▅▇▇▇▇▇▇██████</td></tr><tr><td>global_step</td><td>▁▁▂▂▂▂▂▃▃▃▃▃▄▄▄▄▄▅▅▅▅▆▆▆▆▆▇▇▇▇▇███</td></tr><tr><td>learning_rate</td><td>▁▁▂▂▂▂▃▃▃▃▄▄▄▄▅▅▅▅▆▆▆▆▇▇▇▇██</td></tr><tr><td>train_loss</td><td>▇▇█▇▆▅▅▄▄▆▄▄▃▃▃▂▂▂▂▃▂▁▂▃▁▁▂▁</td></tr><tr><td>trainer/global_step</td><td>▁▁▂▂▂▂▂▃▃▃▃▃▄▄▄▄▄▅▅▅▅▆▆▆▆▆▇▇▇▇▇███</td></tr><tr><td>training_batch_wer</td><td>███▇▆▅▅▄▃▄▃▂▄▂▁▂▃▅▂▁▁▁▂</td></tr><tr><td>val_loss</td><td>█▃▂▁▁▁</td></tr><tr><td>val_wer</td><td>█▃▂▁▁▁</td></tr></table><br/></div><div class=\"wandb-col\"><h3>Run summary:</h3><br/><table class=\"wandb\"><tr><td>epoch</td><td>5</td></tr><tr><td>global_step</td><td>1422.0</td></tr><tr><td>learning_rate</td><td>8e-05</td></tr><tr><td>train_loss</td><td>14.81412</td></tr><tr><td>trainer/global_step</td><td>1421</td></tr><tr><td>training_batch_wer</td><td>0.22472</td></tr><tr><td>val_loss</td><td>1.7354</td></tr><tr><td>val_wer</td><td>0.02611</td></tr></table><br/></div></div>"
      ],
      "text/plain": [
       "<IPython.core.display.HTML object>"
      ]
     },
     "metadata": {},
     "output_type": "display_data"
    },
    {
     "data": {
      "text/html": [
       "Synced <strong style=\"color:#cdcd00\">playful-sweep-21</strong>: <a href=\"https://wandb.ai/unisg-ds-nlp/ASR/runs/12igiylc\" target=\"_blank\">https://wandb.ai/unisg-ds-nlp/ASR/runs/12igiylc</a><br/>Synced 5 W&B file(s), 0 media file(s), 6 artifact file(s) and 0 other file(s)"
      ],
      "text/plain": [
       "<IPython.core.display.HTML object>"
      ]
     },
     "metadata": {},
     "output_type": "display_data"
    },
    {
     "data": {
      "text/html": [
       "Find logs at: <code>./wandb/run-20230102_222810-12igiylc/logs</code>"
      ],
      "text/plain": [
       "<IPython.core.display.HTML object>"
      ]
     },
     "metadata": {},
     "output_type": "display_data"
    },
    {
     "name": "stderr",
     "output_type": "stream",
     "text": [
      "\u001b[34m\u001b[1mwandb\u001b[0m: Agent Starting Run: 94cw7jb6 with config:\n",
      "\u001b[34m\u001b[1mwandb\u001b[0m: \tepoch: 4\n",
      "\u001b[34m\u001b[1mwandb\u001b[0m: \tfreq_width: 27.818941161126755\n",
      "\u001b[34m\u001b[1mwandb\u001b[0m: \tlr: 0.0016149446743489088\n",
      "Failed to detect the name of this notebook, you can set it manually with the WANDB_NOTEBOOK_NAME environment variable to enable code saving.\n"
     ]
    },
    {
     "data": {
      "text/html": [
       "wandb version 0.13.7 is available!  To upgrade, please run:\n",
       " $ pip install wandb --upgrade"
      ],
      "text/plain": [
       "<IPython.core.display.HTML object>"
      ]
     },
     "metadata": {},
     "output_type": "display_data"
    },
    {
     "data": {
      "text/html": [
       "Tracking run with wandb version 0.13.4"
      ],
      "text/plain": [
       "<IPython.core.display.HTML object>"
      ]
     },
     "metadata": {},
     "output_type": "display_data"
    },
    {
     "data": {
      "text/html": [
       "Run data is saved locally in <code>/home/user/code/sbb_asr/notebooks/wandb/run-20230102_224401-94cw7jb6</code>"
      ],
      "text/plain": [
       "<IPython.core.display.HTML object>"
      ]
     },
     "metadata": {},
     "output_type": "display_data"
    },
    {
     "data": {
      "text/html": [
       "Syncing run <strong><a href=\"https://wandb.ai/unisg-ds-nlp/ASR/runs/94cw7jb6\" target=\"_blank\">charmed-sweep-22</a></strong> to <a href=\"https://wandb.ai/unisg-ds-nlp/ASR\" target=\"_blank\">Weights & Biases</a> (<a href=\"https://wandb.me/run\" target=\"_blank\">docs</a>)<br/>Sweep page:  <a href=\"https://wandb.ai/unisg-ds-nlp/ASR/sweeps/v7qi12lc\" target=\"_blank\">https://wandb.ai/unisg-ds-nlp/ASR/sweeps/v7qi12lc</a>"
      ],
      "text/plain": [
       "<IPython.core.display.HTML object>"
      ]
     },
     "metadata": {},
     "output_type": "display_data"
    },
    {
     "name": "stderr",
     "output_type": "stream",
     "text": [
      "[NeMo W 2023-01-02 22:44:02 nemo_logging:349] /home/user/.local/lib/python3.9/site-packages/pytorch_lightning/loggers/wandb.py:352: UserWarning: There is a wandb run already in progress and newly created instances of `WandbLogger` will reuse this run. If this is not desired, call `wandb.finish()` before instantiating `WandbLogger`.\n",
      "      rank_zero_warn(\n",
      "    \n",
      "[NeMo W 2023-01-02 22:44:02 nemo_logging:349] /home/user/.local/lib/python3.9/site-packages/pytorch_lightning/trainer/connectors/accelerator_connector.py:447: LightningDeprecationWarning: Setting `Trainer(gpus=1)` is deprecated in v1.7 and will be removed in v2.0. Please use `Trainer(accelerator='gpu', devices=1)` instead.\n",
      "      rank_zero_deprecation(\n",
      "    \n",
      "GPU available: True (cuda), used: True\n",
      "TPU available: False, using: 0 TPU cores\n",
      "IPU available: False, using: 0 IPUs\n",
      "HPU available: False, using: 0 HPUs\n"
     ]
    },
    {
     "name": "stdout",
     "output_type": "stream",
     "text": [
      "[NeMo I 2023-01-02 22:44:04 cloud:56] Found existing object /home/user/.cache/torch/NeMo/NeMo_1.12.0/stt_de_citrinet_1024/8743e4cecb8017ca2b49a035e07b2893/stt_de_citrinet_1024.nemo.\n",
      "[NeMo I 2023-01-02 22:44:04 cloud:62] Re-using file from: /home/user/.cache/torch/NeMo/NeMo_1.12.0/stt_de_citrinet_1024/8743e4cecb8017ca2b49a035e07b2893/stt_de_citrinet_1024.nemo\n",
      "[NeMo I 2023-01-02 22:44:04 common:910] Instantiating model from pre-trained checkpoint\n",
      "[NeMo I 2023-01-02 22:44:11 mixins:170] Tokenizer SentencePieceTokenizer initialized with 1024 tokens\n"
     ]
    },
    {
     "name": "stderr",
     "output_type": "stream",
     "text": [
      "[NeMo W 2023-01-02 22:44:11 modelPT:142] If you intend to do training or fine-tuning, please call the ModelPT.setup_training_data() method and provide a valid configuration file to setup the train data loader.\n",
      "    Train config : \n",
      "    manifest_filepath: /data/train/tarred_audio_manifest.json\n",
      "    sample_rate: 16000\n",
      "    batch_size: 32\n",
      "    trim_silence: false\n",
      "    max_duration: 35.0\n",
      "    shuffle: true\n",
      "    is_tarred: true\n",
      "    tarred_audio_filepaths: /data/train/audio__OP_0..1023_CL_.tar\n",
      "    use_start_end_token: false\n",
      "    shuffle_n: 1024\n",
      "    num_workers: 16\n",
      "    pin_memory: true\n",
      "    \n",
      "[NeMo W 2023-01-02 22:44:11 modelPT:149] If you intend to do validation, please call the ModelPT.setup_validation_data() or ModelPT.setup_multiple_validation_data() method and provide a valid configuration file to setup the validation data loader(s). \n",
      "    Validation config : \n",
      "    manifest_filepath:\n",
      "    - /data/voxpopuli_de/dev/voxpopuli_dev_manifest.json\n",
      "    - /data/voxpopuli_de/test/voxpopuli_test_manifest.json\n",
      "    - /data/mcv7.0_de/mcv7.0_dev_manifest_cleaned.json\n",
      "    - /data/mcv7.0_de/mcv7.0_test_manifest_cleaned.json\n",
      "    - /data/mls_de/mls_dev_manifest_cleaned.json\n",
      "    - /data/mls_de/mls_test_manifest_cleaned.json\n",
      "    sample_rate: 16000\n",
      "    batch_size: 8\n",
      "    shuffle: false\n",
      "    use_start_end_token: false\n",
      "    num_workers: 8\n",
      "    pin_memory: true\n",
      "    \n",
      "[NeMo W 2023-01-02 22:44:11 modelPT:155] Please call the ModelPT.setup_test_data() or ModelPT.setup_multiple_test_data() method and provide a valid configuration file to setup the test data loader(s).\n",
      "    Test config : \n",
      "    manifest_filepath: null\n",
      "    sample_rate: 16000\n",
      "    batch_size: 32\n",
      "    shuffle: false\n",
      "    use_start_end_token: false\n",
      "    \n"
     ]
    },
    {
     "name": "stdout",
     "output_type": "stream",
     "text": [
      "[NeMo I 2023-01-02 22:44:11 features:225] PADDING: 16\n",
      "[NeMo I 2023-01-02 22:44:17 save_restore_connector:243] Model EncDecCTCModelBPE was successfully restored from /home/user/.cache/torch/NeMo/NeMo_1.12.0/stt_de_citrinet_1024/8743e4cecb8017ca2b49a035e07b2893/stt_de_citrinet_1024.nemo.\n",
      "[NeMo I 2023-01-02 22:44:17 collections:194] Dataset loaded with 1890 files totalling 7.41 hours\n",
      "[NeMo I 2023-01-02 22:44:17 collections:195] 0 files were filtered totalling 0.00 hours\n",
      "[NeMo I 2023-01-02 22:44:18 collections:194] Dataset loaded with 34 files totalling 0.13 hours\n",
      "[NeMo I 2023-01-02 22:44:18 collections:195] 0 files were filtered totalling 0.00 hours\n",
      "[NeMo I 2023-01-02 22:44:18 collections:194] Dataset loaded with 34 files totalling 0.14 hours\n",
      "[NeMo I 2023-01-02 22:44:18 collections:195] 0 files were filtered totalling 0.00 hours\n",
      "[NeMo I 2023-01-02 22:44:18 modelPT:597] Optimizer config = Novograd (\n",
      "    Parameter Group 0\n",
      "        amsgrad: False\n",
      "        betas: [0.8, 0.25]\n",
      "        eps: 1e-08\n",
      "        grad_averaging: False\n",
      "        lr: 0.0016149446743489088\n",
      "        weight_decay: 0.001\n",
      "    )\n",
      "[NeMo I 2023-01-02 22:44:18 lr_scheduler:910] Scheduler \"<nemo.core.optim.lr_scheduler.CosineAnnealing object at 0x7f835e204250>\" \n",
      "    will be used during training (effective maximum steps = 948) - \n",
      "    Parameters : \n",
      "    (warmup_steps: 10000\n",
      "    warmup_ratio: null\n",
      "    min_lr: 1.0e-05\n",
      "    last_epoch: -1\n",
      "    max_steps: 948\n",
      "    )\n"
     ]
    },
    {
     "name": "stderr",
     "output_type": "stream",
     "text": [
      "LOCAL_RANK: 0 - CUDA_VISIBLE_DEVICES: [0,1,2,3]\n"
     ]
    },
    {
     "name": "stdout",
     "output_type": "stream",
     "text": [
      "[NeMo I 2023-01-02 22:44:18 modelPT:597] Optimizer config = Novograd (\n",
      "    Parameter Group 0\n",
      "        amsgrad: False\n",
      "        betas: [0.8, 0.25]\n",
      "        eps: 1e-08\n",
      "        grad_averaging: False\n",
      "        lr: 0.0016149446743489088\n",
      "        weight_decay: 0.001\n",
      "    )\n",
      "[NeMo I 2023-01-02 22:44:18 lr_scheduler:910] Scheduler \"<nemo.core.optim.lr_scheduler.CosineAnnealing object at 0x7f842c6b8700>\" \n",
      "    will be used during training (effective maximum steps = 948) - \n",
      "    Parameters : \n",
      "    (warmup_steps: 10000\n",
      "    warmup_ratio: null\n",
      "    min_lr: 1.0e-05\n",
      "    last_epoch: -1\n",
      "    max_steps: 948\n",
      "    )\n"
     ]
    },
    {
     "name": "stderr",
     "output_type": "stream",
     "text": [
      "\n",
      "  | Name              | Type                              | Params\n",
      "------------------------------------------------------------------------\n",
      "0 | preprocessor      | AudioToMelSpectrogramPreprocessor | 0     \n",
      "1 | encoder           | ConvASREncoder                    | 140 M \n",
      "2 | decoder           | ConvASRDecoder                    | 1.1 M \n",
      "3 | loss              | CTCLoss                           | 0     \n",
      "4 | spec_augmentation | SpectrogramAugmentation           | 0     \n",
      "5 | _wer              | WERBPE                            | 0     \n",
      "------------------------------------------------------------------------\n",
      "141 M     Trainable params\n",
      "0         Non-trainable params\n",
      "141 M     Total params\n",
      "564.897   Total estimated model params size (MB)\n"
     ]
    },
    {
     "data": {
      "application/vnd.jupyter.widget-view+json": {
       "model_id": "1a6e26475a2b447b8ed698431bfad045",
       "version_major": 2,
       "version_minor": 0
      },
      "text/plain": [
       "Sanity Checking: 0it [00:00, ?it/s]"
      ]
     },
     "metadata": {},
     "output_type": "display_data"
    },
    {
     "name": "stdout",
     "output_type": "stream",
     "text": [
      "[NeMo I 2023-01-02 22:44:21 wer_bpe:187] \n",
      "    \n",
      "[NeMo I 2023-01-02 22:44:21 wer_bpe:188] reference:rangierfahrt vom gleis mike zwei drei ins drei drei antworten\n",
      "[NeMo I 2023-01-02 22:44:21 wer_bpe:189] predicted:prongierfahrt vom gleis maik zwei drei ins drei drei antworten\n",
      "[NeMo I 2023-01-02 22:44:21 wer_bpe:187] \n",
      "    \n",
      "[NeMo I 2023-01-02 22:44:21 wer_bpe:188] reference:spracheingabe\n",
      "[NeMo I 2023-01-02 22:44:21 wer_bpe:189] predicted:spracheingabe\n"
     ]
    },
    {
     "data": {
      "application/vnd.jupyter.widget-view+json": {
       "model_id": "0d594ff3cf3e44739fbdd1219bb7a2ba",
       "version_major": 2,
       "version_minor": 0
      },
      "text/plain": [
       "Training: 0it [00:00, ?it/s]"
      ]
     },
     "metadata": {},
     "output_type": "display_data"
    },
    {
     "name": "stdout",
     "output_type": "stream",
     "text": [
      "[NeMo I 2023-01-02 22:44:53 wer_bpe:187] \n",
      "    \n",
      "[NeMo I 2023-01-02 22:44:53 wer_bpe:188] reference:rangierfahrt von gleis mike acht zwei nach gleis juliet null drei antworten\n",
      "[NeMo I 2023-01-02 22:44:53 wer_bpe:189] predicted:sch zwei nochli\n",
      "[NeMo I 2023-01-02 22:45:21 wer_bpe:187] \n",
      "    \n",
      "[NeMo I 2023-01-02 22:45:21 wer_bpe:188] reference:umstellmanöver von vier null ins gleis drei via whisky zwei neun antworten\n",
      "[NeMo I 2023-01-02 22:45:21 wer_bpe:189] predicted:vierno ihnsglei wie ja michskit z zwei neu an\n",
      "[NeMo I 2023-01-02 22:45:49 wer_bpe:187] \n",
      "    \n",
      "[NeMo I 2023-01-02 22:45:49 wer_bpe:188] reference:umstellmanöver von gleis vier drei via gleis drei neun ins vier sieben antworten\n",
      "[NeMo I 2023-01-02 22:45:49 wer_bpe:189] predicted:umstellma vor sei vier dreiia gleis drei neun in vieria sieben antworten\n",
      "[NeMo I 2023-01-02 22:46:16 wer_bpe:187] \n",
      "    \n",
      "[NeMo I 2023-01-02 22:46:16 wer_bpe:188] reference:verstellmanöver vom zwei fünf vier ins neun sieben antworten\n",
      "[NeMo I 2023-01-02 22:46:16 wer_bpe:189] predicted:verstellmann zwei fünfie sie antwort\n"
     ]
    },
    {
     "data": {
      "application/vnd.jupyter.widget-view+json": {
       "model_id": "0a2285096dfe40a69397b40fd9d1fe61",
       "version_major": 2,
       "version_minor": 0
      },
      "text/plain": [
       "Validation: 0it [00:00, ?it/s]"
      ]
     },
     "metadata": {},
     "output_type": "display_data"
    },
    {
     "name": "stdout",
     "output_type": "stream",
     "text": [
      "[NeMo I 2023-01-02 22:46:40 wer_bpe:187] \n",
      "    \n",
      "[NeMo I 2023-01-02 22:46:40 wer_bpe:188] reference:rangierfahrt vom gleis mike zwei drei ins drei drei antworten\n",
      "[NeMo I 2023-01-02 22:46:40 wer_bpe:189] predicted:rangierfahrt vom gleis maig zwei drei ins drei drei antwort\n",
      "[NeMo I 2023-01-02 22:46:40 wer_bpe:187] \n",
      "    \n",
      "[NeMo I 2023-01-02 22:46:40 wer_bpe:188] reference:spracheingabe\n",
      "[NeMo I 2023-01-02 22:46:40 wer_bpe:189] predicted:sprach eingabe\n",
      "[NeMo I 2023-01-02 22:46:40 wer_bpe:187] \n",
      "    \n",
      "[NeMo I 2023-01-02 22:46:40 wer_bpe:188] reference:umstellmanöver vom drei sechs nach gleis xray vier sieben via null vier antworten\n",
      "[NeMo I 2023-01-02 22:46:40 wer_bpe:189] predicted:umstellmanöver vom drei sechs nach gleis  ray vier sieben via null v antworten\n",
      "[NeMo I 2023-01-02 22:46:40 wer_bpe:187] \n",
      "    \n",
      "[NeMo I 2023-01-02 22:46:40 wer_bpe:188] reference:rangierfahrt von gleis sechs neun ins gleis delta sieben antworten\n",
      "[NeMo I 2023-01-02 22:46:40 wer_bpe:189] predicted:rangierfahrt von gleis sechs neun ins gleis delta sieben antworten\n",
      "[NeMo I 2023-01-02 22:46:40 wer_bpe:187] \n",
      "    \n",
      "[NeMo I 2023-01-02 22:46:40 wer_bpe:188] reference:umstellmanöver von charlie drei zwei via gleis victor sechs neun ins gleis golf zwei vier antworten\n",
      "[NeMo I 2023-01-02 22:46:40 wer_bpe:189] predicted:umstellmanöver von charlley drei zwei via gleis ctor sechs neun ins gleis gol zwei vier antwort\n",
      "[NeMo I 2023-01-02 22:47:24 wer_bpe:187] \n",
      "    \n",
      "[NeMo I 2023-01-02 22:47:24 wer_bpe:188] reference:umstellmanöver von neun vier nach gleis bravo sieben via echo acht drei antworten\n",
      "[NeMo I 2023-01-02 22:47:24 wer_bpe:189] predicted:umstellmver vonn vier nach gleis sieben via echo macht drei antworten\n",
      "[NeMo I 2023-01-02 22:47:51 wer_bpe:187] \n",
      "    \n",
      "[NeMo I 2023-01-02 22:47:51 wer_bpe:188] reference:rangierfahrt von alpha zwei sieben sieben nach oscar null neun fünf\n",
      "[NeMo I 2023-01-02 22:47:51 wer_bpe:189] predicted:rangierfahrt von alha zwei sieben siebens umsc null neun fünf\n",
      "[NeMo I 2023-01-02 22:48:19 wer_bpe:187] \n",
      "    \n",
      "[NeMo I 2023-01-02 22:48:19 wer_bpe:188] reference:rangierfahrt vom acht null nach gleis zulu acht zwei antworten\n",
      "[NeMo I 2023-01-02 22:48:19 wer_bpe:189] predicted:rangierfahrt vom acht null nerv gleis zu acht zwei antworten\n",
      "[NeMo I 2023-01-02 22:48:47 wer_bpe:187] \n",
      "    \n",
      "[NeMo I 2023-01-02 22:48:47 wer_bpe:188] reference:rangierfahrt vom gleis quebec eins eins ins gleis november sieben sechs antworten\n",
      "[NeMo I 2023-01-02 22:48:47 wer_bpe:189] predicted:rangierfahrt vom gleis quebec eins eins ins gleis november sieben sechs antworten\n"
     ]
    },
    {
     "data": {
      "application/vnd.jupyter.widget-view+json": {
       "model_id": "6626e8142eca486aa1dcbf3f9ede7b3d",
       "version_major": 2,
       "version_minor": 0
      },
      "text/plain": [
       "Validation: 0it [00:00, ?it/s]"
      ]
     },
     "metadata": {},
     "output_type": "display_data"
    },
    {
     "name": "stdout",
     "output_type": "stream",
     "text": [
      "[NeMo I 2023-01-02 22:49:10 wer_bpe:187] \n",
      "    \n",
      "[NeMo I 2023-01-02 22:49:10 wer_bpe:188] reference:rangierfahrt vom gleis mike zwei drei ins drei drei antworten\n",
      "[NeMo I 2023-01-02 22:49:10 wer_bpe:189] predicted:rangierfahrt vom gleis mike zwei drei ins drei drei antworten\n",
      "[NeMo I 2023-01-02 22:49:10 wer_bpe:187] \n",
      "    \n",
      "[NeMo I 2023-01-02 22:49:10 wer_bpe:188] reference:spracheingabe\n",
      "[NeMo I 2023-01-02 22:49:10 wer_bpe:189] predicted:sprach eingabe\n",
      "[NeMo I 2023-01-02 22:49:10 wer_bpe:187] \n",
      "    \n",
      "[NeMo I 2023-01-02 22:49:10 wer_bpe:188] reference:umstellmanöver vom drei sechs nach gleis xray vier sieben via null vier antworten\n",
      "[NeMo I 2023-01-02 22:49:10 wer_bpe:189] predicted:umstellmanöver vom drei sechs nach gleis xray vier sieben via null vier antworten\n",
      "[NeMo I 2023-01-02 22:49:11 wer_bpe:187] \n",
      "    \n",
      "[NeMo I 2023-01-02 22:49:11 wer_bpe:188] reference:rangierfahrt von gleis sechs neun ins gleis delta sieben antworten\n",
      "[NeMo I 2023-01-02 22:49:11 wer_bpe:189] predicted:rangierfahrt von gleis sechs neun ins gleis delta sieben antworten\n",
      "[NeMo I 2023-01-02 22:49:11 wer_bpe:187] \n",
      "    \n",
      "[NeMo I 2023-01-02 22:49:11 wer_bpe:188] reference:umstellmanöver von charlie drei zwei via gleis victor sechs neun ins gleis golf zwei vier antworten\n",
      "[NeMo I 2023-01-02 22:49:11 wer_bpe:189] predicted:umstellmanöver von charlie drei zwei via gleis victor sechs neun ins gleis golf zwei vier antworten\n",
      "[NeMo I 2023-01-02 22:49:53 wer_bpe:187] \n",
      "    \n",
      "[NeMo I 2023-01-02 22:49:53 wer_bpe:188] reference:umstellmanöver von neun zwei via whisky vier sechs ins gleis sierra sechs eins antworten\n",
      "[NeMo I 2023-01-02 22:49:53 wer_bpe:189] predicted:umstellmanöver fünf neun zwei via wisky vier sechs ins gleis sierra sechs eins antworten\n",
      "[NeMo I 2023-01-02 22:50:21 wer_bpe:187] \n",
      "    \n",
      "[NeMo I 2023-01-02 22:50:21 wer_bpe:188] reference:umstellmanöver vom acht neun nach gleis hotel null sieben via gleis eins eins antworten\n",
      "[NeMo I 2023-01-02 22:50:21 wer_bpe:189] predicted:umstellfahr fünf acht neun porttel null sieben via gleis eins eins antworten\n",
      "[NeMo I 2023-01-02 22:50:49 wer_bpe:187] \n",
      "    \n",
      "[NeMo I 2023-01-02 22:50:49 wer_bpe:188] reference:rangierfahrt von gleis romeo neun drei ins kilo sieben null antworten\n",
      "[NeMo I 2023-01-02 22:50:49 wer_bpe:189] predicted:rangierfahrt vom gleis rome neun drei g se\n",
      "[NeMo I 2023-01-02 22:51:17 wer_bpe:187] \n",
      "    \n",
      "[NeMo I 2023-01-02 22:51:17 wer_bpe:188] reference:umstellmanöver von november sechs nach sieben via delta vier und gleis uniform drei antworten\n",
      "[NeMo I 2023-01-02 22:51:17 wer_bpe:189] predicted:umstellmanöver von november sieben nach sieben vier und gleis uniform drei antworten\n"
     ]
    },
    {
     "data": {
      "application/vnd.jupyter.widget-view+json": {
       "model_id": "8555fc1ff72445b980bf0ed59efa14b8",
       "version_major": 2,
       "version_minor": 0
      },
      "text/plain": [
       "Validation: 0it [00:00, ?it/s]"
      ]
     },
     "metadata": {},
     "output_type": "display_data"
    },
    {
     "name": "stdout",
     "output_type": "stream",
     "text": [
      "[NeMo I 2023-01-02 22:51:40 wer_bpe:187] \n",
      "    \n",
      "[NeMo I 2023-01-02 22:51:40 wer_bpe:188] reference:rangierfahrt vom gleis mike zwei drei ins drei drei antworten\n",
      "[NeMo I 2023-01-02 22:51:40 wer_bpe:189] predicted:rangierfahrt vom gleis mike zwei drei ins drei drei antworten\n",
      "[NeMo I 2023-01-02 22:51:40 wer_bpe:187] \n",
      "    \n",
      "[NeMo I 2023-01-02 22:51:40 wer_bpe:188] reference:spracheingabe\n",
      "[NeMo I 2023-01-02 22:51:40 wer_bpe:189] predicted:spracheingabe\n",
      "[NeMo I 2023-01-02 22:51:40 wer_bpe:187] \n",
      "    \n",
      "[NeMo I 2023-01-02 22:51:40 wer_bpe:188] reference:umstellmanöver vom drei sechs nach gleis xray vier sieben via null vier antworten\n",
      "[NeMo I 2023-01-02 22:51:40 wer_bpe:189] predicted:umstellmanöver vom drei sechs nach gleis xray vier sieben via null vier antworten\n",
      "[NeMo I 2023-01-02 22:51:40 wer_bpe:187] \n",
      "    \n",
      "[NeMo I 2023-01-02 22:51:40 wer_bpe:188] reference:rangierfahrt von gleis sechs neun ins gleis delta sieben antworten\n",
      "[NeMo I 2023-01-02 22:51:40 wer_bpe:189] predicted:rangierfahrt von gleis sechs neun ins gleis delta sieben antworten\n",
      "[NeMo I 2023-01-02 22:51:40 wer_bpe:187] \n",
      "    \n",
      "[NeMo I 2023-01-02 22:51:40 wer_bpe:188] reference:umstellmanöver von charlie drei zwei via gleis victor sechs neun ins gleis golf zwei vier antworten\n",
      "[NeMo I 2023-01-02 22:51:40 wer_bpe:189] predicted:umstellmanöver von charlie drei zwei via gleis victor sechs neun ins gleis golf zwei vier antworten\n",
      "[NeMo I 2023-01-02 22:52:24 wer_bpe:187] \n",
      "    \n",
      "[NeMo I 2023-01-02 22:52:24 wer_bpe:188] reference:rangierfahrt vom eins null ins sechs eins antworten\n",
      "[NeMo I 2023-01-02 22:52:24 wer_bpe:189] predicted:rangierfahrt vom ein null ins sechs eins antworten\n",
      "[NeMo I 2023-01-02 22:52:51 wer_bpe:187] \n",
      "    \n",
      "[NeMo I 2023-01-02 22:52:51 wer_bpe:188] reference:rangierfahrt von gleis echo vier ins gleis null acht antworten\n",
      "[NeMo I 2023-01-02 22:52:51 wer_bpe:189] predicted:ra rangierfahrt von gleis  vier ins gleis null acht vier\n",
      "[NeMo I 2023-01-02 22:53:19 wer_bpe:187] \n",
      "    \n",
      "[NeMo I 2023-01-02 22:53:19 wer_bpe:188] reference:umstellmanöver vom xray neun vier via mike sieben zwei nach gleis uniform neun drei antworten\n",
      "[NeMo I 2023-01-02 22:53:19 wer_bpe:189] predicted:umstellmanöver vom xra neun vier via mi v drei nach gleis uniform neu zwei antworten\n",
      "[NeMo I 2023-01-02 22:53:47 wer_bpe:187] \n",
      "    \n",
      "[NeMo I 2023-01-02 22:53:47 wer_bpe:188] reference:rangierfahrt von zwei neun nach gleis papa null fünf antworten\n",
      "[NeMo I 2023-01-02 22:53:47 wer_bpe:189] predicted:rangierfahrt von zwei neun nach gleis papa null fünf antworten\n"
     ]
    },
    {
     "data": {
      "application/vnd.jupyter.widget-view+json": {
       "model_id": "6421da2e145b4ae79bfff01080e34f61",
       "version_major": 2,
       "version_minor": 0
      },
      "text/plain": [
       "Validation: 0it [00:00, ?it/s]"
      ]
     },
     "metadata": {},
     "output_type": "display_data"
    },
    {
     "name": "stdout",
     "output_type": "stream",
     "text": [
      "[NeMo I 2023-01-02 22:54:11 wer_bpe:187] \n",
      "    \n",
      "[NeMo I 2023-01-02 22:54:11 wer_bpe:188] reference:rangierfahrt vom gleis mike zwei drei ins drei drei antworten\n",
      "[NeMo I 2023-01-02 22:54:11 wer_bpe:189] predicted:rangierfahrt vom gleis mike zwei drei ins drei drei antworten\n",
      "[NeMo I 2023-01-02 22:54:11 wer_bpe:187] \n",
      "    \n",
      "[NeMo I 2023-01-02 22:54:11 wer_bpe:188] reference:spracheingabe\n",
      "[NeMo I 2023-01-02 22:54:11 wer_bpe:189] predicted:spracheingabe\n",
      "[NeMo I 2023-01-02 22:54:11 wer_bpe:187] \n",
      "    \n",
      "[NeMo I 2023-01-02 22:54:11 wer_bpe:188] reference:umstellmanöver vom drei sechs nach gleis xray vier sieben via null vier antworten\n",
      "[NeMo I 2023-01-02 22:54:11 wer_bpe:189] predicted:umstellmanöver vom drei sechs nach gleis xray vier sieben via null vier antworten\n",
      "[NeMo I 2023-01-02 22:54:11 wer_bpe:187] \n",
      "    \n",
      "[NeMo I 2023-01-02 22:54:12 wer_bpe:188] reference:rangierfahrt von gleis sechs neun ins gleis delta sieben antworten\n",
      "[NeMo I 2023-01-02 22:54:12 wer_bpe:189] predicted:rangierfahrt von gleis sechs neun ins gleis delta sieben antworten\n",
      "[NeMo I 2023-01-02 22:54:12 wer_bpe:187] \n",
      "    \n",
      "[NeMo I 2023-01-02 22:54:12 wer_bpe:188] reference:umstellmanöver von charlie drei zwei via gleis victor sechs neun ins gleis golf zwei vier antworten\n",
      "[NeMo I 2023-01-02 22:54:12 wer_bpe:189] predicted:umstellmanöver von charlie drei zwei via gleis victor sechs neun ins gleis golf zwei vier antworten\n"
     ]
    },
    {
     "name": "stderr",
     "output_type": "stream",
     "text": [
      "`Trainer.fit` stopped: `max_epochs=4` reached.\n"
     ]
    },
    {
     "data": {
      "text/html": [
       "Waiting for W&B process to finish... <strong style=\"color:green\">(success).</strong>"
      ],
      "text/plain": [
       "<IPython.core.display.HTML object>"
      ]
     },
     "metadata": {},
     "output_type": "display_data"
    },
    {
     "data": {
      "text/html": [
       "<style>\n",
       "    table.wandb td:nth-child(1) { padding: 0 10px; text-align: left ; width: auto;} td:nth-child(2) {text-align: left ; width: 100%}\n",
       "    .wandb-row { display: flex; flex-direction: row; flex-wrap: wrap; justify-content: flex-start; width: 100% }\n",
       "    .wandb-col { display: flex; flex-direction: column; flex-basis: 100%; flex: 1; padding: 10px; }\n",
       "    </style>\n",
       "<div class=\"wandb-row\"><div class=\"wandb-col\"><h3>Run history:</h3><br/><table class=\"wandb\"><tr><td>epoch</td><td>▁▁▁▁▁▃▃▃▃▃▃▆▆▆▆▆▆█████</td></tr><tr><td>global_step</td><td>▁▁▂▂▂▃▃▃▄▄▄▅▅▅▆▆▆▆▇▇██</td></tr><tr><td>learning_rate</td><td>▁▁▂▂▃▃▃▄▄▅▅▆▆▆▇▇██</td></tr><tr><td>train_loss</td><td>█▇▅▄▂▃▃▁▆▃▂▂▃▁▂▃▁▁</td></tr><tr><td>trainer/global_step</td><td>▁▁▂▂▂▃▃▃▄▄▄▅▅▅▆▆▆▆▇▇██</td></tr><tr><td>training_batch_wer</td><td>█▇▇▅▂▄▄▂▁▃▃▂▂▂▂</td></tr><tr><td>val_loss</td><td>█▃▁▁</td></tr><tr><td>val_wer</td><td>█▃▂▁</td></tr></table><br/></div><div class=\"wandb-col\"><h3>Run summary:</h3><br/><table class=\"wandb\"><tr><td>epoch</td><td>3</td></tr><tr><td>global_step</td><td>948.0</td></tr><tr><td>learning_rate</td><td>0.00015</td></tr><tr><td>train_loss</td><td>18.41476</td></tr><tr><td>trainer/global_step</td><td>947</td></tr><tr><td>training_batch_wer</td><td>0.25882</td></tr><tr><td>val_loss</td><td>1.57898</td></tr><tr><td>val_wer</td><td>0.01567</td></tr></table><br/></div></div>"
      ],
      "text/plain": [
       "<IPython.core.display.HTML object>"
      ]
     },
     "metadata": {},
     "output_type": "display_data"
    },
    {
     "data": {
      "text/html": [
       "Synced <strong style=\"color:#cdcd00\">charmed-sweep-22</strong>: <a href=\"https://wandb.ai/unisg-ds-nlp/ASR/runs/94cw7jb6\" target=\"_blank\">https://wandb.ai/unisg-ds-nlp/ASR/runs/94cw7jb6</a><br/>Synced 5 W&B file(s), 0 media file(s), 4 artifact file(s) and 0 other file(s)"
      ],
      "text/plain": [
       "<IPython.core.display.HTML object>"
      ]
     },
     "metadata": {},
     "output_type": "display_data"
    },
    {
     "data": {
      "text/html": [
       "Find logs at: <code>./wandb/run-20230102_224401-94cw7jb6/logs</code>"
      ],
      "text/plain": [
       "<IPython.core.display.HTML object>"
      ]
     },
     "metadata": {},
     "output_type": "display_data"
    },
    {
     "name": "stderr",
     "output_type": "stream",
     "text": [
      "\u001b[34m\u001b[1mwandb\u001b[0m: Sweep Agent: Waiting for job.\n",
      "\u001b[34m\u001b[1mwandb\u001b[0m: Job received.\n",
      "\u001b[34m\u001b[1mwandb\u001b[0m: Agent Starting Run: vi3396za with config:\n",
      "\u001b[34m\u001b[1mwandb\u001b[0m: \tepoch: 5\n",
      "\u001b[34m\u001b[1mwandb\u001b[0m: \tfreq_width: 25.44177623876992\n",
      "\u001b[34m\u001b[1mwandb\u001b[0m: \tlr: 0.0007388525764681137\n",
      "Failed to detect the name of this notebook, you can set it manually with the WANDB_NOTEBOOK_NAME environment variable to enable code saving.\n"
     ]
    },
    {
     "data": {
      "text/html": [
       "wandb version 0.13.7 is available!  To upgrade, please run:\n",
       " $ pip install wandb --upgrade"
      ],
      "text/plain": [
       "<IPython.core.display.HTML object>"
      ]
     },
     "metadata": {},
     "output_type": "display_data"
    },
    {
     "data": {
      "text/html": [
       "Tracking run with wandb version 0.13.4"
      ],
      "text/plain": [
       "<IPython.core.display.HTML object>"
      ]
     },
     "metadata": {},
     "output_type": "display_data"
    },
    {
     "data": {
      "text/html": [
       "Run data is saved locally in <code>/home/user/code/sbb_asr/notebooks/wandb/run-20230102_225506-vi3396za</code>"
      ],
      "text/plain": [
       "<IPython.core.display.HTML object>"
      ]
     },
     "metadata": {},
     "output_type": "display_data"
    },
    {
     "data": {
      "text/html": [
       "Syncing run <strong><a href=\"https://wandb.ai/unisg-ds-nlp/ASR/runs/vi3396za\" target=\"_blank\">honest-sweep-23</a></strong> to <a href=\"https://wandb.ai/unisg-ds-nlp/ASR\" target=\"_blank\">Weights & Biases</a> (<a href=\"https://wandb.me/run\" target=\"_blank\">docs</a>)<br/>Sweep page:  <a href=\"https://wandb.ai/unisg-ds-nlp/ASR/sweeps/v7qi12lc\" target=\"_blank\">https://wandb.ai/unisg-ds-nlp/ASR/sweeps/v7qi12lc</a>"
      ],
      "text/plain": [
       "<IPython.core.display.HTML object>"
      ]
     },
     "metadata": {},
     "output_type": "display_data"
    },
    {
     "name": "stderr",
     "output_type": "stream",
     "text": [
      "[NeMo W 2023-01-02 22:55:08 nemo_logging:349] /home/user/.local/lib/python3.9/site-packages/pytorch_lightning/loggers/wandb.py:352: UserWarning: There is a wandb run already in progress and newly created instances of `WandbLogger` will reuse this run. If this is not desired, call `wandb.finish()` before instantiating `WandbLogger`.\n",
      "      rank_zero_warn(\n",
      "    \n",
      "[NeMo W 2023-01-02 22:55:08 nemo_logging:349] /home/user/.local/lib/python3.9/site-packages/pytorch_lightning/trainer/connectors/accelerator_connector.py:447: LightningDeprecationWarning: Setting `Trainer(gpus=1)` is deprecated in v1.7 and will be removed in v2.0. Please use `Trainer(accelerator='gpu', devices=1)` instead.\n",
      "      rank_zero_deprecation(\n",
      "    \n",
      "GPU available: True (cuda), used: True\n",
      "TPU available: False, using: 0 TPU cores\n",
      "IPU available: False, using: 0 IPUs\n",
      "HPU available: False, using: 0 HPUs\n"
     ]
    },
    {
     "name": "stdout",
     "output_type": "stream",
     "text": [
      "[NeMo I 2023-01-02 22:55:10 cloud:56] Found existing object /home/user/.cache/torch/NeMo/NeMo_1.12.0/stt_de_citrinet_1024/8743e4cecb8017ca2b49a035e07b2893/stt_de_citrinet_1024.nemo.\n",
      "[NeMo I 2023-01-02 22:55:10 cloud:62] Re-using file from: /home/user/.cache/torch/NeMo/NeMo_1.12.0/stt_de_citrinet_1024/8743e4cecb8017ca2b49a035e07b2893/stt_de_citrinet_1024.nemo\n",
      "[NeMo I 2023-01-02 22:55:10 common:910] Instantiating model from pre-trained checkpoint\n",
      "[NeMo I 2023-01-02 22:55:16 mixins:170] Tokenizer SentencePieceTokenizer initialized with 1024 tokens\n"
     ]
    },
    {
     "name": "stderr",
     "output_type": "stream",
     "text": [
      "[NeMo W 2023-01-02 22:55:16 modelPT:142] If you intend to do training or fine-tuning, please call the ModelPT.setup_training_data() method and provide a valid configuration file to setup the train data loader.\n",
      "    Train config : \n",
      "    manifest_filepath: /data/train/tarred_audio_manifest.json\n",
      "    sample_rate: 16000\n",
      "    batch_size: 32\n",
      "    trim_silence: false\n",
      "    max_duration: 35.0\n",
      "    shuffle: true\n",
      "    is_tarred: true\n",
      "    tarred_audio_filepaths: /data/train/audio__OP_0..1023_CL_.tar\n",
      "    use_start_end_token: false\n",
      "    shuffle_n: 1024\n",
      "    num_workers: 16\n",
      "    pin_memory: true\n",
      "    \n",
      "[NeMo W 2023-01-02 22:55:16 modelPT:149] If you intend to do validation, please call the ModelPT.setup_validation_data() or ModelPT.setup_multiple_validation_data() method and provide a valid configuration file to setup the validation data loader(s). \n",
      "    Validation config : \n",
      "    manifest_filepath:\n",
      "    - /data/voxpopuli_de/dev/voxpopuli_dev_manifest.json\n",
      "    - /data/voxpopuli_de/test/voxpopuli_test_manifest.json\n",
      "    - /data/mcv7.0_de/mcv7.0_dev_manifest_cleaned.json\n",
      "    - /data/mcv7.0_de/mcv7.0_test_manifest_cleaned.json\n",
      "    - /data/mls_de/mls_dev_manifest_cleaned.json\n",
      "    - /data/mls_de/mls_test_manifest_cleaned.json\n",
      "    sample_rate: 16000\n",
      "    batch_size: 8\n",
      "    shuffle: false\n",
      "    use_start_end_token: false\n",
      "    num_workers: 8\n",
      "    pin_memory: true\n",
      "    \n",
      "[NeMo W 2023-01-02 22:55:16 modelPT:155] Please call the ModelPT.setup_test_data() or ModelPT.setup_multiple_test_data() method and provide a valid configuration file to setup the test data loader(s).\n",
      "    Test config : \n",
      "    manifest_filepath: null\n",
      "    sample_rate: 16000\n",
      "    batch_size: 32\n",
      "    shuffle: false\n",
      "    use_start_end_token: false\n",
      "    \n"
     ]
    },
    {
     "name": "stdout",
     "output_type": "stream",
     "text": [
      "[NeMo I 2023-01-02 22:55:16 features:225] PADDING: 16\n",
      "[NeMo I 2023-01-02 22:55:23 save_restore_connector:243] Model EncDecCTCModelBPE was successfully restored from /home/user/.cache/torch/NeMo/NeMo_1.12.0/stt_de_citrinet_1024/8743e4cecb8017ca2b49a035e07b2893/stt_de_citrinet_1024.nemo.\n",
      "[NeMo I 2023-01-02 22:55:24 collections:194] Dataset loaded with 1890 files totalling 7.41 hours\n",
      "[NeMo I 2023-01-02 22:55:24 collections:195] 0 files were filtered totalling 0.00 hours\n",
      "[NeMo I 2023-01-02 22:55:24 collections:194] Dataset loaded with 34 files totalling 0.13 hours\n",
      "[NeMo I 2023-01-02 22:55:24 collections:195] 0 files were filtered totalling 0.00 hours\n",
      "[NeMo I 2023-01-02 22:55:24 collections:194] Dataset loaded with 34 files totalling 0.14 hours\n",
      "[NeMo I 2023-01-02 22:55:24 collections:195] 0 files were filtered totalling 0.00 hours\n",
      "[NeMo I 2023-01-02 22:55:24 modelPT:597] Optimizer config = Novograd (\n",
      "    Parameter Group 0\n",
      "        amsgrad: False\n",
      "        betas: [0.8, 0.25]\n",
      "        eps: 1e-08\n",
      "        grad_averaging: False\n",
      "        lr: 0.0007388525764681137\n",
      "        weight_decay: 0.001\n",
      "    )\n",
      "[NeMo I 2023-01-02 22:55:24 lr_scheduler:910] Scheduler \"<nemo.core.optim.lr_scheduler.CosineAnnealing object at 0x7f83871b43a0>\" \n",
      "    will be used during training (effective maximum steps = 1185) - \n",
      "    Parameters : \n",
      "    (warmup_steps: 10000\n",
      "    warmup_ratio: null\n",
      "    min_lr: 1.0e-05\n",
      "    last_epoch: -1\n",
      "    max_steps: 1185\n",
      "    )\n"
     ]
    },
    {
     "name": "stderr",
     "output_type": "stream",
     "text": [
      "LOCAL_RANK: 0 - CUDA_VISIBLE_DEVICES: [0,1,2,3]\n"
     ]
    },
    {
     "name": "stdout",
     "output_type": "stream",
     "text": [
      "[NeMo I 2023-01-02 22:55:24 modelPT:597] Optimizer config = Novograd (\n",
      "    Parameter Group 0\n",
      "        amsgrad: False\n",
      "        betas: [0.8, 0.25]\n",
      "        eps: 1e-08\n",
      "        grad_averaging: False\n",
      "        lr: 0.0007388525764681137\n",
      "        weight_decay: 0.001\n",
      "    )\n",
      "[NeMo I 2023-01-02 22:55:24 lr_scheduler:910] Scheduler \"<nemo.core.optim.lr_scheduler.CosineAnnealing object at 0x7f835ecd27f0>\" \n",
      "    will be used during training (effective maximum steps = 1185) - \n",
      "    Parameters : \n",
      "    (warmup_steps: 10000\n",
      "    warmup_ratio: null\n",
      "    min_lr: 1.0e-05\n",
      "    last_epoch: -1\n",
      "    max_steps: 1185\n",
      "    )\n"
     ]
    },
    {
     "name": "stderr",
     "output_type": "stream",
     "text": [
      "\n",
      "  | Name              | Type                              | Params\n",
      "------------------------------------------------------------------------\n",
      "0 | preprocessor      | AudioToMelSpectrogramPreprocessor | 0     \n",
      "1 | encoder           | ConvASREncoder                    | 140 M \n",
      "2 | decoder           | ConvASRDecoder                    | 1.1 M \n",
      "3 | loss              | CTCLoss                           | 0     \n",
      "4 | spec_augmentation | SpectrogramAugmentation           | 0     \n",
      "5 | _wer              | WERBPE                            | 0     \n",
      "------------------------------------------------------------------------\n",
      "141 M     Trainable params\n",
      "0         Non-trainable params\n",
      "141 M     Total params\n",
      "564.897   Total estimated model params size (MB)\n"
     ]
    },
    {
     "data": {
      "application/vnd.jupyter.widget-view+json": {
       "model_id": "6d1b912f817946a2ad529a1a03ab01b2",
       "version_major": 2,
       "version_minor": 0
      },
      "text/plain": [
       "Sanity Checking: 0it [00:00, ?it/s]"
      ]
     },
     "metadata": {},
     "output_type": "display_data"
    },
    {
     "name": "stdout",
     "output_type": "stream",
     "text": [
      "[NeMo I 2023-01-02 22:55:27 wer_bpe:187] \n",
      "    \n",
      "[NeMo I 2023-01-02 22:55:27 wer_bpe:188] reference:rangierfahrt vom gleis mike zwei drei ins drei drei antworten\n",
      "[NeMo I 2023-01-02 22:55:27 wer_bpe:189] predicted:prongierfahrt vom gleis maik zwei drei ins drei drei antworten\n",
      "[NeMo I 2023-01-02 22:55:27 wer_bpe:187] \n",
      "    \n",
      "[NeMo I 2023-01-02 22:55:27 wer_bpe:188] reference:spracheingabe\n",
      "[NeMo I 2023-01-02 22:55:27 wer_bpe:189] predicted:spracheingabe\n"
     ]
    },
    {
     "data": {
      "application/vnd.jupyter.widget-view+json": {
       "model_id": "db0fad2ac84e41f7b1eb8131f6650ad7",
       "version_major": 2,
       "version_minor": 0
      },
      "text/plain": [
       "Training: 0it [00:00, ?it/s]"
      ]
     },
     "metadata": {},
     "output_type": "display_data"
    },
    {
     "name": "stdout",
     "output_type": "stream",
     "text": [
      "[NeMo I 2023-01-02 22:56:00 wer_bpe:187] \n",
      "    \n",
      "[NeMo I 2023-01-02 22:56:00 wer_bpe:188] reference:rangierfahrt von gleis sieben neun nach sechs fünf antworten\n",
      "[NeMo I 2023-01-02 22:56:00 wer_bpe:189] predicted:an einlei sieben\n",
      "[NeMo I 2023-01-02 22:56:27 wer_bpe:187] \n",
      "    \n",
      "[NeMo I 2023-01-02 22:56:27 wer_bpe:188] reference:rangierfahrt von alpha zwei sieben sieben nach oscar null neun fünf\n",
      "[NeMo I 2023-01-02 22:56:27 wer_bpe:189] predicted:ied auch sie nach\n",
      "[NeMo I 2023-01-02 22:56:55 wer_bpe:187] \n",
      "    \n",
      "[NeMo I 2023-01-02 22:56:55 wer_bpe:188] reference:der film wurde in england und portugal gedreht\n",
      "[NeMo I 2023-01-02 22:56:55 wer_bpe:189] predicted:der undportuggal ge\n",
      "[NeMo I 2023-01-02 22:57:23 wer_bpe:187] \n",
      "    \n",
      "[NeMo I 2023-01-02 22:57:23 wer_bpe:188] reference:umstellmanöver vom drei sechs nach gleis xray vier sieben via null vier antworten\n",
      "[NeMo I 2023-01-02 22:57:23 wer_bpe:189] predicted:um gleiissx sieben wie ja vier\n"
     ]
    },
    {
     "data": {
      "application/vnd.jupyter.widget-view+json": {
       "model_id": "a84896e37693438eb08fd918eed044ba",
       "version_major": 2,
       "version_minor": 0
      },
      "text/plain": [
       "Validation: 0it [00:00, ?it/s]"
      ]
     },
     "metadata": {},
     "output_type": "display_data"
    },
    {
     "name": "stdout",
     "output_type": "stream",
     "text": [
      "[NeMo I 2023-01-02 22:57:46 wer_bpe:187] \n",
      "    \n",
      "[NeMo I 2023-01-02 22:57:46 wer_bpe:188] reference:rangierfahrt vom gleis mike zwei drei ins drei drei antworten\n",
      "[NeMo I 2023-01-02 22:57:46 wer_bpe:189] predicted:roierfahrt vom gleis ma zwei drei in drei drei als\n",
      "[NeMo I 2023-01-02 22:57:46 wer_bpe:187] \n",
      "    \n",
      "[NeMo I 2023-01-02 22:57:46 wer_bpe:188] reference:spracheingabe\n",
      "[NeMo I 2023-01-02 22:57:46 wer_bpe:189] predicted:sprach eingabe\n",
      "[NeMo I 2023-01-02 22:57:46 wer_bpe:187] \n",
      "    \n",
      "[NeMo I 2023-01-02 22:57:46 wer_bpe:188] reference:umstellmanöver vom drei sechs nach gleis xray vier sieben via null vier antworten\n",
      "[NeMo I 2023-01-02 22:57:46 wer_bpe:189] predicted:umstellmanöver vom drei sechs nach gleis exray vier sieben via null viel antworten\n",
      "[NeMo I 2023-01-02 22:57:47 wer_bpe:187] \n",
      "    \n",
      "[NeMo I 2023-01-02 22:57:47 wer_bpe:188] reference:rangierfahrt von gleis sechs neun ins gleis delta sieben antworten\n",
      "[NeMo I 2023-01-02 22:57:47 wer_bpe:189] predicted:rangierfahrt von gleis sechs neun ins gleis delta sieben antworten\n",
      "[NeMo I 2023-01-02 22:57:47 wer_bpe:187] \n",
      "    \n",
      "[NeMo I 2023-01-02 22:57:47 wer_bpe:188] reference:umstellmanöver von charlie drei zwei via gleis victor sechs neun ins gleis golf zwei vier antworten\n",
      "[NeMo I 2023-01-02 22:57:47 wer_bpe:189] predicted:umstellmanöver von charly drei zwei wir gleis ctor sechs neun ihns gleis gold zwei vier antwort\n",
      "[NeMo I 2023-01-02 22:58:29 wer_bpe:187] \n",
      "    \n",
      "[NeMo I 2023-01-02 22:58:29 wer_bpe:188] reference:umstellmanöver vom mike zwei null via gleis xray null sechs ins gleis eins sieben antworten\n",
      "[NeMo I 2023-01-02 22:58:29 wer_bpe:189] predicted:umstellmanöver von ma zwei null via gleis ex ins gleich sieben antwort\n",
      "[NeMo I 2023-01-02 22:58:57 wer_bpe:187] \n",
      "    \n",
      "[NeMo I 2023-01-02 22:58:57 wer_bpe:188] reference:rangierfahrt von sechs ins delta acht sechs antworten\n",
      "[NeMo I 2023-01-02 22:58:57 wer_bpe:189] predicted:dem schierfahrt von in delta acht sechs antworten\n",
      "[NeMo I 2023-01-02 22:59:24 wer_bpe:187] \n",
      "    \n",
      "[NeMo I 2023-01-02 22:59:24 wer_bpe:188] reference:umstellmanöver von papa fünf neun ins kilo drei fünf via gleis india eins antworten\n",
      "[NeMo I 2023-01-02 22:59:24 wer_bpe:189] predicted:umstellmanöver von papa fünf neu ins kilo drei fünf gleis india eins antworten\n",
      "[NeMo I 2023-01-02 22:59:52 wer_bpe:187] \n",
      "    \n",
      "[NeMo I 2023-01-02 22:59:52 wer_bpe:188] reference:rangierfahrt von gleis vier sechs ins gleis acht acht antworten\n",
      "[NeMo I 2023-01-02 22:59:52 wer_bpe:189] predicted:drei von ein gleis fiia ses inss a nach am\n"
     ]
    },
    {
     "data": {
      "application/vnd.jupyter.widget-view+json": {
       "model_id": "3767656e3608484baf7c6100b0c0a964",
       "version_major": 2,
       "version_minor": 0
      },
      "text/plain": [
       "Validation: 0it [00:00, ?it/s]"
      ]
     },
     "metadata": {},
     "output_type": "display_data"
    },
    {
     "name": "stdout",
     "output_type": "stream",
     "text": [
      "[NeMo I 2023-01-02 23:00:15 wer_bpe:187] \n",
      "    \n",
      "[NeMo I 2023-01-02 23:00:15 wer_bpe:188] reference:rangierfahrt vom gleis mike zwei drei ins drei drei antworten\n",
      "[NeMo I 2023-01-02 23:00:15 wer_bpe:189] predicted:rangierfahrt vom gleis mike zwei drei ins drei drei antworten\n",
      "[NeMo I 2023-01-02 23:00:15 wer_bpe:187] \n",
      "    \n",
      "[NeMo I 2023-01-02 23:00:15 wer_bpe:188] reference:spracheingabe\n",
      "[NeMo I 2023-01-02 23:00:15 wer_bpe:189] predicted:sprach eingabe\n",
      "[NeMo I 2023-01-02 23:00:15 wer_bpe:187] \n",
      "    \n",
      "[NeMo I 2023-01-02 23:00:15 wer_bpe:188] reference:umstellmanöver vom drei sechs nach gleis xray vier sieben via null vier antworten\n",
      "[NeMo I 2023-01-02 23:00:15 wer_bpe:189] predicted:umstellmanöver vom drei sechs nach gleis xray vier sieben via null vier antworten\n",
      "[NeMo I 2023-01-02 23:00:15 wer_bpe:187] \n",
      "    \n",
      "[NeMo I 2023-01-02 23:00:15 wer_bpe:188] reference:rangierfahrt von gleis sechs neun ins gleis delta sieben antworten\n",
      "[NeMo I 2023-01-02 23:00:15 wer_bpe:189] predicted:rangierfahrt von gleis sechs neun ins gleis delta sieben antworten\n",
      "[NeMo I 2023-01-02 23:00:15 wer_bpe:187] \n",
      "    \n",
      "[NeMo I 2023-01-02 23:00:15 wer_bpe:188] reference:umstellmanöver von charlie drei zwei via gleis victor sechs neun ins gleis golf zwei vier antworten\n",
      "[NeMo I 2023-01-02 23:00:15 wer_bpe:189] predicted:umstellmanöver von charliy drei zwei via gleis victor sechs neun ins gleis golf zwei vier antwort\n",
      "[NeMo I 2023-01-02 23:01:06 wer_bpe:187] \n",
      "    \n",
      "[NeMo I 2023-01-02 23:01:06 wer_bpe:188] reference:rangierfahrt von gleis eins fünf nach gleis oscar null zwei antworten\n",
      "[NeMo I 2023-01-02 23:01:06 wer_bpe:189] predicted:rangierfahrt von gleis eins fünf nach gleis o null zwei antworten\n",
      "[NeMo I 2023-01-02 23:01:33 wer_bpe:187] \n",
      "    \n",
      "[NeMo I 2023-01-02 23:01:33 wer_bpe:188] reference:umstellmanöver vom acht sieben via gleis november eins sechs ins gleis golf eins sieben antworten\n",
      "[NeMo I 2023-01-02 23:01:33 wer_bpe:189] predicted:umstellmanöver siebenia gleis gew eins sechs ins gleis go ein sieben antworten\n",
      "[NeMo I 2023-01-02 23:02:01 wer_bpe:187] \n",
      "    \n",
      "[NeMo I 2023-01-02 23:02:01 wer_bpe:188] reference:umstellmanöver von gleis neun vier ins gleis null fünf via gleis lima eins acht antworten\n",
      "[NeMo I 2023-01-02 23:02:01 wer_bpe:189] predicted:umstell gleis\n",
      "[NeMo I 2023-01-02 23:02:29 wer_bpe:187] \n",
      "    \n",
      "[NeMo I 2023-01-02 23:02:29 wer_bpe:188] reference:umstellmanöver von november sechs nach sieben via delta vier und gleis uniform drei antworten\n",
      "[NeMo I 2023-01-02 23:02:29 wer_bpe:189] predicted:umstellmanver von november sechs nach sieben via delta vieria und gleis uniform drei antworten\n"
     ]
    },
    {
     "data": {
      "application/vnd.jupyter.widget-view+json": {
       "model_id": "26aaec7e82584a11af3841ba87ab486c",
       "version_major": 2,
       "version_minor": 0
      },
      "text/plain": [
       "Validation: 0it [00:00, ?it/s]"
      ]
     },
     "metadata": {},
     "output_type": "display_data"
    },
    {
     "name": "stdout",
     "output_type": "stream",
     "text": [
      "[NeMo I 2023-01-02 23:02:52 wer_bpe:187] \n",
      "    \n",
      "[NeMo I 2023-01-02 23:02:52 wer_bpe:188] reference:rangierfahrt vom gleis mike zwei drei ins drei drei antworten\n",
      "[NeMo I 2023-01-02 23:02:52 wer_bpe:189] predicted:rangierfahrt vom gleis mike zwei drei ins drei drei antworten\n",
      "[NeMo I 2023-01-02 23:02:52 wer_bpe:187] \n",
      "    \n",
      "[NeMo I 2023-01-02 23:02:52 wer_bpe:188] reference:spracheingabe\n",
      "[NeMo I 2023-01-02 23:02:52 wer_bpe:189] predicted:sprach eingabe\n",
      "[NeMo I 2023-01-02 23:02:53 wer_bpe:187] \n",
      "    \n",
      "[NeMo I 2023-01-02 23:02:53 wer_bpe:188] reference:umstellmanöver vom drei sechs nach gleis xray vier sieben via null vier antworten\n",
      "[NeMo I 2023-01-02 23:02:53 wer_bpe:189] predicted:umstellmanöver vom drei sechs nach gleis xray vier sieben via null vier antworten\n",
      "[NeMo I 2023-01-02 23:02:53 wer_bpe:187] \n",
      "    \n",
      "[NeMo I 2023-01-02 23:02:53 wer_bpe:188] reference:rangierfahrt von gleis sechs neun ins gleis delta sieben antworten\n",
      "[NeMo I 2023-01-02 23:02:53 wer_bpe:189] predicted:rangierfahrt von gleis sechs neun ins gleis delta sieben antworten\n",
      "[NeMo I 2023-01-02 23:02:53 wer_bpe:187] \n",
      "    \n",
      "[NeMo I 2023-01-02 23:02:53 wer_bpe:188] reference:umstellmanöver von charlie drei zwei via gleis victor sechs neun ins gleis golf zwei vier antworten\n",
      "[NeMo I 2023-01-02 23:02:53 wer_bpe:189] predicted:umstellmanöver von charlie drei zwei via gleis victor sechs neun ins gleis golf zwei vier antworten\n",
      "[NeMo I 2023-01-02 23:03:36 wer_bpe:187] \n",
      "    \n",
      "[NeMo I 2023-01-02 23:03:36 wer_bpe:188] reference:rangierfahrt vom null zwei ins gleis kilo fünf null antworten\n",
      "[NeMo I 2023-01-02 23:03:36 wer_bpe:189] predicted:rangierfahrt fünf null zwei ins gleis o fünf null antworten\n",
      "[NeMo I 2023-01-02 23:04:04 wer_bpe:187] \n",
      "    \n",
      "[NeMo I 2023-01-02 23:04:04 wer_bpe:188] reference:rangierfahrt vom null neun ins uniform sieben sieben antworten\n",
      "[NeMo I 2023-01-02 23:04:04 wer_bpe:189] predicted:lei rangierfahrt vom null neun ins uniform sieben sieben antworten\n",
      "[NeMo I 2023-01-02 23:04:32 wer_bpe:187] \n",
      "    \n",
      "[NeMo I 2023-01-02 23:04:32 wer_bpe:188] reference:umstellmanöver von november sechs nach sieben via delta vier und gleis uniform drei antworten\n",
      "[NeMo I 2023-01-02 23:04:32 wer_bpe:189] predicted:umstellmanöver von november sechs sieben via drei via und gleis uniform drei antworten\n",
      "[NeMo I 2023-01-02 23:04:59 wer_bpe:187] \n",
      "    \n",
      "[NeMo I 2023-01-02 23:04:59 wer_bpe:188] reference:rangierfahrt von gleis romeo eins neun ins lima eins vier antworten\n",
      "[NeMo I 2023-01-02 23:04:59 wer_bpe:189] predicted:ma nach glei nach eins vier antwortbra\n"
     ]
    },
    {
     "data": {
      "application/vnd.jupyter.widget-view+json": {
       "model_id": "fb4e04999ce3461c8ebf39ad61160173",
       "version_major": 2,
       "version_minor": 0
      },
      "text/plain": [
       "Validation: 0it [00:00, ?it/s]"
      ]
     },
     "metadata": {},
     "output_type": "display_data"
    },
    {
     "name": "stdout",
     "output_type": "stream",
     "text": [
      "[NeMo I 2023-01-02 23:05:22 wer_bpe:187] \n",
      "    \n",
      "[NeMo I 2023-01-02 23:05:22 wer_bpe:188] reference:rangierfahrt vom gleis mike zwei drei ins drei drei antworten\n",
      "[NeMo I 2023-01-02 23:05:22 wer_bpe:189] predicted:rangierfahrt vom gleis mike zwei drei ins drei drei antworten\n",
      "[NeMo I 2023-01-02 23:05:22 wer_bpe:187] \n",
      "    \n",
      "[NeMo I 2023-01-02 23:05:22 wer_bpe:188] reference:spracheingabe\n",
      "[NeMo I 2023-01-02 23:05:22 wer_bpe:189] predicted:spracheingabe\n",
      "[NeMo I 2023-01-02 23:05:23 wer_bpe:187] \n",
      "    \n",
      "[NeMo I 2023-01-02 23:05:23 wer_bpe:188] reference:umstellmanöver vom drei sechs nach gleis xray vier sieben via null vier antworten\n",
      "[NeMo I 2023-01-02 23:05:23 wer_bpe:189] predicted:umstellmanöver vom drei sechs nach gleis xray vier sieben via null vier antworten\n",
      "[NeMo I 2023-01-02 23:05:23 wer_bpe:187] \n",
      "    \n",
      "[NeMo I 2023-01-02 23:05:23 wer_bpe:188] reference:rangierfahrt von gleis sechs neun ins gleis delta sieben antworten\n",
      "[NeMo I 2023-01-02 23:05:23 wer_bpe:189] predicted:rangierfahrt von gleis sechs neun ins gleis delta sieben antworten\n",
      "[NeMo I 2023-01-02 23:05:23 wer_bpe:187] \n",
      "    \n",
      "[NeMo I 2023-01-02 23:05:23 wer_bpe:188] reference:umstellmanöver von charlie drei zwei via gleis victor sechs neun ins gleis golf zwei vier antworten\n",
      "[NeMo I 2023-01-02 23:05:23 wer_bpe:189] predicted:umstellmanöver von charlie drei zwei via gleis victor sechs neun ins gleis golf zwei vier antworten\n",
      "[NeMo I 2023-01-02 23:06:06 wer_bpe:187] \n",
      "    \n",
      "[NeMo I 2023-01-02 23:06:06 wer_bpe:188] reference:er will am donnerstag nicht in die schule gehen\n",
      "[NeMo I 2023-01-02 23:06:06 wer_bpe:189] predicted:er donnerstag nicht in die schule gehen\n",
      "[NeMo I 2023-01-02 23:06:33 wer_bpe:187] \n",
      "    \n",
      "[NeMo I 2023-01-02 23:06:33 wer_bpe:188] reference:rangierfahrt von uniform neun nach sechs vier antworten\n",
      "[NeMo I 2023-01-02 23:06:33 wer_bpe:189] predicted:rangierfahrt von uniform neun nach sechs vier antworten\n",
      "[NeMo I 2023-01-02 23:07:01 wer_bpe:187] \n",
      "    \n",
      "[NeMo I 2023-01-02 23:07:01 wer_bpe:188] reference:rangierfahrt von zwei neun nach gleis papa null fünf antworten\n",
      "[NeMo I 2023-01-02 23:07:01 wer_bpe:189] predicted:cha fünffahr zwei  gleis fünf fünf antwort\n",
      "[NeMo I 2023-01-02 23:07:29 wer_bpe:187] \n",
      "    \n",
      "[NeMo I 2023-01-02 23:07:29 wer_bpe:188] reference:rangierfahrt von india sieben fünf ins foxtrot acht acht antworten\n",
      "[NeMo I 2023-01-02 23:07:29 wer_bpe:189] predicted:rang india sieben fünf ins foxtrot acht acht antworten\n"
     ]
    },
    {
     "data": {
      "application/vnd.jupyter.widget-view+json": {
       "model_id": "02baca969869469da0303abf7910af6b",
       "version_major": 2,
       "version_minor": 0
      },
      "text/plain": [
       "Validation: 0it [00:00, ?it/s]"
      ]
     },
     "metadata": {},
     "output_type": "display_data"
    },
    {
     "name": "stdout",
     "output_type": "stream",
     "text": [
      "[NeMo I 2023-01-02 23:07:52 wer_bpe:187] \n",
      "    \n",
      "[NeMo I 2023-01-02 23:07:52 wer_bpe:188] reference:rangierfahrt vom gleis mike zwei drei ins drei drei antworten\n",
      "[NeMo I 2023-01-02 23:07:52 wer_bpe:189] predicted:rangierfahrt vom gleis mike zwei drei ins drei drei antworten\n",
      "[NeMo I 2023-01-02 23:07:52 wer_bpe:187] \n",
      "    \n",
      "[NeMo I 2023-01-02 23:07:52 wer_bpe:188] reference:spracheingabe\n",
      "[NeMo I 2023-01-02 23:07:52 wer_bpe:189] predicted:spracheingabe\n",
      "[NeMo I 2023-01-02 23:07:52 wer_bpe:187] \n",
      "    \n",
      "[NeMo I 2023-01-02 23:07:52 wer_bpe:188] reference:umstellmanöver vom drei sechs nach gleis xray vier sieben via null vier antworten\n",
      "[NeMo I 2023-01-02 23:07:52 wer_bpe:189] predicted:umstellmanöver vom drei sechs nach gleis xray vier sieben via null vier antworten\n",
      "[NeMo I 2023-01-02 23:07:52 wer_bpe:187] \n",
      "    \n",
      "[NeMo I 2023-01-02 23:07:52 wer_bpe:188] reference:rangierfahrt von gleis sechs neun ins gleis delta sieben antworten\n",
      "[NeMo I 2023-01-02 23:07:52 wer_bpe:189] predicted:rangierfahrt von gleis sechs neun ins gleis delta sieben antworten\n",
      "[NeMo I 2023-01-02 23:07:52 wer_bpe:187] \n",
      "    \n",
      "[NeMo I 2023-01-02 23:07:53 wer_bpe:188] reference:umstellmanöver von charlie drei zwei via gleis victor sechs neun ins gleis golf zwei vier antworten\n",
      "[NeMo I 2023-01-02 23:07:53 wer_bpe:189] predicted:umstellmanöver von charlie drei zwei via gleis victor sechs neun ins gleis golf zwei vier antworten\n"
     ]
    },
    {
     "name": "stderr",
     "output_type": "stream",
     "text": [
      "`Trainer.fit` stopped: `max_epochs=5` reached.\n"
     ]
    },
    {
     "data": {
      "text/html": [
       "Waiting for W&B process to finish... <strong style=\"color:green\">(success).</strong>"
      ],
      "text/plain": [
       "<IPython.core.display.HTML object>"
      ]
     },
     "metadata": {},
     "output_type": "display_data"
    },
    {
     "data": {
      "text/html": [
       "<style>\n",
       "    table.wandb td:nth-child(1) { padding: 0 10px; text-align: left ; width: auto;} td:nth-child(2) {text-align: left ; width: 100%}\n",
       "    .wandb-row { display: flex; flex-direction: row; flex-wrap: wrap; justify-content: flex-start; width: 100% }\n",
       "    .wandb-col { display: flex; flex-direction: column; flex-basis: 100%; flex: 1; padding: 10px; }\n",
       "    </style>\n",
       "<div class=\"wandb-row\"><div class=\"wandb-col\"><h3>Run history:</h3><br/><table class=\"wandb\"><tr><td>epoch</td><td>▁▁▁▁▁▃▃▃▃▃▃▅▅▅▅▅▅▆▆▆▆▆██████</td></tr><tr><td>global_step</td><td>▁▁▂▂▂▂▃▃▃▃▄▄▄▄▅▅▅▅▆▆▆▇▇▇▇▇██</td></tr><tr><td>learning_rate</td><td>▁▁▂▂▂▃▃▃▄▄▄▅▅▅▅▆▆▆▇▇▇██</td></tr><tr><td>train_loss</td><td>██▅▆▄▃▃▃▄▃▂▃▂▂▂▁▂▂▁▂▁▁▃</td></tr><tr><td>trainer/global_step</td><td>▁▁▂▂▂▂▃▃▃▃▄▄▄▄▅▅▅▅▆▆▆▇▇▇▇▇██</td></tr><tr><td>training_batch_wer</td><td>██▇▆▅▃▄▄▃▃▃▂▁▃▂▁▂▂▁</td></tr><tr><td>val_loss</td><td>█▃▁▁▁</td></tr><tr><td>val_wer</td><td>█▃▂▁▁</td></tr></table><br/></div><div class=\"wandb-col\"><h3>Run summary:</h3><br/><table class=\"wandb\"><tr><td>epoch</td><td>4</td></tr><tr><td>global_step</td><td>1185.0</td></tr><tr><td>learning_rate</td><td>8e-05</td></tr><tr><td>train_loss</td><td>47.07915</td></tr><tr><td>trainer/global_step</td><td>1184</td></tr><tr><td>training_batch_wer</td><td>0.12987</td></tr><tr><td>val_loss</td><td>2.01184</td></tr><tr><td>val_wer</td><td>0.02611</td></tr></table><br/></div></div>"
      ],
      "text/plain": [
       "<IPython.core.display.HTML object>"
      ]
     },
     "metadata": {},
     "output_type": "display_data"
    },
    {
     "data": {
      "text/html": [
       "Synced <strong style=\"color:#cdcd00\">honest-sweep-23</strong>: <a href=\"https://wandb.ai/unisg-ds-nlp/ASR/runs/vi3396za\" target=\"_blank\">https://wandb.ai/unisg-ds-nlp/ASR/runs/vi3396za</a><br/>Synced 5 W&B file(s), 0 media file(s), 5 artifact file(s) and 0 other file(s)"
      ],
      "text/plain": [
       "<IPython.core.display.HTML object>"
      ]
     },
     "metadata": {},
     "output_type": "display_data"
    },
    {
     "data": {
      "text/html": [
       "Find logs at: <code>./wandb/run-20230102_225506-vi3396za/logs</code>"
      ],
      "text/plain": [
       "<IPython.core.display.HTML object>"
      ]
     },
     "metadata": {},
     "output_type": "display_data"
    },
    {
     "name": "stderr",
     "output_type": "stream",
     "text": [
      "\u001b[34m\u001b[1mwandb\u001b[0m: Agent Starting Run: sei60vld with config:\n",
      "\u001b[34m\u001b[1mwandb\u001b[0m: \tepoch: 5\n",
      "\u001b[34m\u001b[1mwandb\u001b[0m: \tfreq_width: 26.385198630166737\n",
      "\u001b[34m\u001b[1mwandb\u001b[0m: \tlr: 0.0018579550558574696\n",
      "Failed to detect the name of this notebook, you can set it manually with the WANDB_NOTEBOOK_NAME environment variable to enable code saving.\n"
     ]
    },
    {
     "data": {
      "text/html": [
       "wandb version 0.13.7 is available!  To upgrade, please run:\n",
       " $ pip install wandb --upgrade"
      ],
      "text/plain": [
       "<IPython.core.display.HTML object>"
      ]
     },
     "metadata": {},
     "output_type": "display_data"
    },
    {
     "data": {
      "text/html": [
       "Tracking run with wandb version 0.13.4"
      ],
      "text/plain": [
       "<IPython.core.display.HTML object>"
      ]
     },
     "metadata": {},
     "output_type": "display_data"
    },
    {
     "data": {
      "text/html": [
       "Run data is saved locally in <code>/home/user/code/sbb_asr/notebooks/wandb/run-20230102_230844-sei60vld</code>"
      ],
      "text/plain": [
       "<IPython.core.display.HTML object>"
      ]
     },
     "metadata": {},
     "output_type": "display_data"
    },
    {
     "data": {
      "text/html": [
       "Syncing run <strong><a href=\"https://wandb.ai/unisg-ds-nlp/ASR/runs/sei60vld\" target=\"_blank\">faithful-sweep-24</a></strong> to <a href=\"https://wandb.ai/unisg-ds-nlp/ASR\" target=\"_blank\">Weights & Biases</a> (<a href=\"https://wandb.me/run\" target=\"_blank\">docs</a>)<br/>Sweep page:  <a href=\"https://wandb.ai/unisg-ds-nlp/ASR/sweeps/v7qi12lc\" target=\"_blank\">https://wandb.ai/unisg-ds-nlp/ASR/sweeps/v7qi12lc</a>"
      ],
      "text/plain": [
       "<IPython.core.display.HTML object>"
      ]
     },
     "metadata": {},
     "output_type": "display_data"
    },
    {
     "name": "stderr",
     "output_type": "stream",
     "text": [
      "[NeMo W 2023-01-02 23:08:46 nemo_logging:349] /home/user/.local/lib/python3.9/site-packages/pytorch_lightning/loggers/wandb.py:352: UserWarning: There is a wandb run already in progress and newly created instances of `WandbLogger` will reuse this run. If this is not desired, call `wandb.finish()` before instantiating `WandbLogger`.\n",
      "      rank_zero_warn(\n",
      "    \n",
      "[NeMo W 2023-01-02 23:08:46 nemo_logging:349] /home/user/.local/lib/python3.9/site-packages/pytorch_lightning/trainer/connectors/accelerator_connector.py:447: LightningDeprecationWarning: Setting `Trainer(gpus=1)` is deprecated in v1.7 and will be removed in v2.0. Please use `Trainer(accelerator='gpu', devices=1)` instead.\n",
      "      rank_zero_deprecation(\n",
      "    \n",
      "GPU available: True (cuda), used: True\n",
      "TPU available: False, using: 0 TPU cores\n",
      "IPU available: False, using: 0 IPUs\n",
      "HPU available: False, using: 0 HPUs\n"
     ]
    },
    {
     "name": "stdout",
     "output_type": "stream",
     "text": [
      "[NeMo I 2023-01-02 23:08:48 cloud:56] Found existing object /home/user/.cache/torch/NeMo/NeMo_1.12.0/stt_de_citrinet_1024/8743e4cecb8017ca2b49a035e07b2893/stt_de_citrinet_1024.nemo.\n",
      "[NeMo I 2023-01-02 23:08:48 cloud:62] Re-using file from: /home/user/.cache/torch/NeMo/NeMo_1.12.0/stt_de_citrinet_1024/8743e4cecb8017ca2b49a035e07b2893/stt_de_citrinet_1024.nemo\n",
      "[NeMo I 2023-01-02 23:08:48 common:910] Instantiating model from pre-trained checkpoint\n",
      "[NeMo I 2023-01-02 23:08:53 mixins:170] Tokenizer SentencePieceTokenizer initialized with 1024 tokens\n"
     ]
    },
    {
     "name": "stderr",
     "output_type": "stream",
     "text": [
      "[NeMo W 2023-01-02 23:08:54 modelPT:142] If you intend to do training or fine-tuning, please call the ModelPT.setup_training_data() method and provide a valid configuration file to setup the train data loader.\n",
      "    Train config : \n",
      "    manifest_filepath: /data/train/tarred_audio_manifest.json\n",
      "    sample_rate: 16000\n",
      "    batch_size: 32\n",
      "    trim_silence: false\n",
      "    max_duration: 35.0\n",
      "    shuffle: true\n",
      "    is_tarred: true\n",
      "    tarred_audio_filepaths: /data/train/audio__OP_0..1023_CL_.tar\n",
      "    use_start_end_token: false\n",
      "    shuffle_n: 1024\n",
      "    num_workers: 16\n",
      "    pin_memory: true\n",
      "    \n",
      "[NeMo W 2023-01-02 23:08:54 modelPT:149] If you intend to do validation, please call the ModelPT.setup_validation_data() or ModelPT.setup_multiple_validation_data() method and provide a valid configuration file to setup the validation data loader(s). \n",
      "    Validation config : \n",
      "    manifest_filepath:\n",
      "    - /data/voxpopuli_de/dev/voxpopuli_dev_manifest.json\n",
      "    - /data/voxpopuli_de/test/voxpopuli_test_manifest.json\n",
      "    - /data/mcv7.0_de/mcv7.0_dev_manifest_cleaned.json\n",
      "    - /data/mcv7.0_de/mcv7.0_test_manifest_cleaned.json\n",
      "    - /data/mls_de/mls_dev_manifest_cleaned.json\n",
      "    - /data/mls_de/mls_test_manifest_cleaned.json\n",
      "    sample_rate: 16000\n",
      "    batch_size: 8\n",
      "    shuffle: false\n",
      "    use_start_end_token: false\n",
      "    num_workers: 8\n",
      "    pin_memory: true\n",
      "    \n",
      "[NeMo W 2023-01-02 23:08:54 modelPT:155] Please call the ModelPT.setup_test_data() or ModelPT.setup_multiple_test_data() method and provide a valid configuration file to setup the test data loader(s).\n",
      "    Test config : \n",
      "    manifest_filepath: null\n",
      "    sample_rate: 16000\n",
      "    batch_size: 32\n",
      "    shuffle: false\n",
      "    use_start_end_token: false\n",
      "    \n"
     ]
    },
    {
     "name": "stdout",
     "output_type": "stream",
     "text": [
      "[NeMo I 2023-01-02 23:08:54 features:225] PADDING: 16\n",
      "[NeMo I 2023-01-02 23:09:00 save_restore_connector:243] Model EncDecCTCModelBPE was successfully restored from /home/user/.cache/torch/NeMo/NeMo_1.12.0/stt_de_citrinet_1024/8743e4cecb8017ca2b49a035e07b2893/stt_de_citrinet_1024.nemo.\n",
      "[NeMo I 2023-01-02 23:09:00 collections:194] Dataset loaded with 1890 files totalling 7.41 hours\n",
      "[NeMo I 2023-01-02 23:09:00 collections:195] 0 files were filtered totalling 0.00 hours\n",
      "[NeMo I 2023-01-02 23:09:00 collections:194] Dataset loaded with 34 files totalling 0.13 hours\n",
      "[NeMo I 2023-01-02 23:09:00 collections:195] 0 files were filtered totalling 0.00 hours\n",
      "[NeMo I 2023-01-02 23:09:00 collections:194] Dataset loaded with 34 files totalling 0.14 hours\n",
      "[NeMo I 2023-01-02 23:09:00 collections:195] 0 files were filtered totalling 0.00 hours\n",
      "[NeMo I 2023-01-02 23:09:00 modelPT:597] Optimizer config = Novograd (\n",
      "    Parameter Group 0\n",
      "        amsgrad: False\n",
      "        betas: [0.8, 0.25]\n",
      "        eps: 1e-08\n",
      "        grad_averaging: False\n",
      "        lr: 0.0018579550558574696\n",
      "        weight_decay: 0.001\n",
      "    )\n",
      "[NeMo I 2023-01-02 23:09:00 lr_scheduler:910] Scheduler \"<nemo.core.optim.lr_scheduler.CosineAnnealing object at 0x7f836ac4fca0>\" \n",
      "    will be used during training (effective maximum steps = 1185) - \n",
      "    Parameters : \n",
      "    (warmup_steps: 10000\n",
      "    warmup_ratio: null\n",
      "    min_lr: 1.0e-05\n",
      "    last_epoch: -1\n",
      "    max_steps: 1185\n",
      "    )\n"
     ]
    },
    {
     "name": "stderr",
     "output_type": "stream",
     "text": [
      "LOCAL_RANK: 0 - CUDA_VISIBLE_DEVICES: [0,1,2,3]\n"
     ]
    },
    {
     "name": "stdout",
     "output_type": "stream",
     "text": [
      "[NeMo I 2023-01-02 23:09:01 modelPT:597] Optimizer config = Novograd (\n",
      "    Parameter Group 0\n",
      "        amsgrad: False\n",
      "        betas: [0.8, 0.25]\n",
      "        eps: 1e-08\n",
      "        grad_averaging: False\n",
      "        lr: 0.0018579550558574696\n",
      "        weight_decay: 0.001\n",
      "    )\n",
      "[NeMo I 2023-01-02 23:09:01 lr_scheduler:910] Scheduler \"<nemo.core.optim.lr_scheduler.CosineAnnealing object at 0x7f835e759ac0>\" \n",
      "    will be used during training (effective maximum steps = 1185) - \n",
      "    Parameters : \n",
      "    (warmup_steps: 10000\n",
      "    warmup_ratio: null\n",
      "    min_lr: 1.0e-05\n",
      "    last_epoch: -1\n",
      "    max_steps: 1185\n",
      "    )\n"
     ]
    },
    {
     "name": "stderr",
     "output_type": "stream",
     "text": [
      "\n",
      "  | Name              | Type                              | Params\n",
      "------------------------------------------------------------------------\n",
      "0 | preprocessor      | AudioToMelSpectrogramPreprocessor | 0     \n",
      "1 | encoder           | ConvASREncoder                    | 140 M \n",
      "2 | decoder           | ConvASRDecoder                    | 1.1 M \n",
      "3 | loss              | CTCLoss                           | 0     \n",
      "4 | spec_augmentation | SpectrogramAugmentation           | 0     \n",
      "5 | _wer              | WERBPE                            | 0     \n",
      "------------------------------------------------------------------------\n",
      "141 M     Trainable params\n",
      "0         Non-trainable params\n",
      "141 M     Total params\n",
      "564.897   Total estimated model params size (MB)\n"
     ]
    },
    {
     "data": {
      "application/vnd.jupyter.widget-view+json": {
       "model_id": "476a239a4b494168aa3d986f4a50e741",
       "version_major": 2,
       "version_minor": 0
      },
      "text/plain": [
       "Sanity Checking: 0it [00:00, ?it/s]"
      ]
     },
     "metadata": {},
     "output_type": "display_data"
    },
    {
     "name": "stdout",
     "output_type": "stream",
     "text": [
      "[NeMo I 2023-01-02 23:09:03 wer_bpe:187] \n",
      "    \n",
      "[NeMo I 2023-01-02 23:09:03 wer_bpe:188] reference:rangierfahrt vom gleis mike zwei drei ins drei drei antworten\n",
      "[NeMo I 2023-01-02 23:09:03 wer_bpe:189] predicted:prongierfahrt vom gleis maik zwei drei ins drei drei antworten\n",
      "[NeMo I 2023-01-02 23:09:04 wer_bpe:187] \n",
      "    \n",
      "[NeMo I 2023-01-02 23:09:04 wer_bpe:188] reference:spracheingabe\n",
      "[NeMo I 2023-01-02 23:09:04 wer_bpe:189] predicted:spracheingabe\n"
     ]
    },
    {
     "data": {
      "application/vnd.jupyter.widget-view+json": {
       "model_id": "eed824a85cb141f294a227e5a1e3c648",
       "version_major": 2,
       "version_minor": 0
      },
      "text/plain": [
       "Training: 0it [00:00, ?it/s]"
      ]
     },
     "metadata": {},
     "output_type": "display_data"
    },
    {
     "name": "stdout",
     "output_type": "stream",
     "text": [
      "[NeMo I 2023-01-02 23:09:36 wer_bpe:187] \n",
      "    \n",
      "[NeMo I 2023-01-02 23:09:36 wer_bpe:188] reference:umstellmanöver vom eins acht ins gleis quebec neun zwei via gleis juliet null neun antworten\n",
      "[NeMo I 2023-01-02 23:09:36 wer_bpe:189] predicted:um manö einsleis g neu zwei noch neu an\n",
      "[NeMo I 2023-01-02 23:10:03 wer_bpe:187] \n",
      "    \n",
      "[NeMo I 2023-01-02 23:10:03 wer_bpe:188] reference:umstellmanöver vom gleis eins eins ins gleis golf drei zwei via gleis sierra eins neun antworten\n",
      "[NeMo I 2023-01-02 23:10:03 wer_bpe:189] predicted:umstellmas einss grollf drei zwei wie eins neu an\n",
      "[NeMo I 2023-01-02 23:10:30 wer_bpe:187] \n",
      "    \n",
      "[NeMo I 2023-01-02 23:10:30 wer_bpe:188] reference:umstellmanöver vom hotel acht zwei nach zwei sieben via golf sechs acht antworten\n",
      "[NeMo I 2023-01-02 23:10:30 wer_bpe:189] predicted:umstellen hotel acht zwei sieben via goldolf sechs acht antworten\n",
      "[NeMo I 2023-01-02 23:10:58 wer_bpe:187] \n",
      "    \n",
      "[NeMo I 2023-01-02 23:10:58 wer_bpe:188] reference:umstellmanöver von gleis null drei via null eins nach alpha vier zwei antworten\n",
      "[NeMo I 2023-01-02 23:10:58 wer_bpe:189] predicted:manul drei waria zwei am\n"
     ]
    },
    {
     "data": {
      "application/vnd.jupyter.widget-view+json": {
       "model_id": "d7ba6634af024308bc910d16a285786b",
       "version_major": 2,
       "version_minor": 0
      },
      "text/plain": [
       "Validation: 0it [00:00, ?it/s]"
      ]
     },
     "metadata": {},
     "output_type": "display_data"
    },
    {
     "name": "stdout",
     "output_type": "stream",
     "text": [
      "[NeMo I 2023-01-02 23:11:22 wer_bpe:187] \n",
      "    \n",
      "[NeMo I 2023-01-02 23:11:22 wer_bpe:188] reference:rangierfahrt vom gleis mike zwei drei ins drei drei antworten\n",
      "[NeMo I 2023-01-02 23:11:22 wer_bpe:189] predicted:rangierfahrt vom gleis maig zwei drei ins drei drei antwort\n",
      "[NeMo I 2023-01-02 23:11:22 wer_bpe:187] \n",
      "    \n",
      "[NeMo I 2023-01-02 23:11:22 wer_bpe:188] reference:spracheingabe\n",
      "[NeMo I 2023-01-02 23:11:22 wer_bpe:189] predicted:sprach eingabe\n",
      "[NeMo I 2023-01-02 23:11:22 wer_bpe:187] \n",
      "    \n",
      "[NeMo I 2023-01-02 23:11:22 wer_bpe:188] reference:umstellmanöver vom drei sechs nach gleis xray vier sieben via null vier antworten\n",
      "[NeMo I 2023-01-02 23:11:22 wer_bpe:189] predicted:umstellmanöver vom drei sechs nach gleis xray vier sieben via null v antworten\n",
      "[NeMo I 2023-01-02 23:11:22 wer_bpe:187] \n",
      "    \n",
      "[NeMo I 2023-01-02 23:11:22 wer_bpe:188] reference:rangierfahrt von gleis sechs neun ins gleis delta sieben antworten\n",
      "[NeMo I 2023-01-02 23:11:22 wer_bpe:189] predicted:rangierfahrt von gleis sechs neun ins gleis delta sieben antworten\n",
      "[NeMo I 2023-01-02 23:11:22 wer_bpe:187] \n",
      "    \n",
      "[NeMo I 2023-01-02 23:11:22 wer_bpe:188] reference:umstellmanöver von charlie drei zwei via gleis victor sechs neun ins gleis golf zwei vier antworten\n",
      "[NeMo I 2023-01-02 23:11:22 wer_bpe:189] predicted:umstellmanöver von charley drei zwei via gleis victor sechs neun ins gleis g zwei vier antwort\n",
      "[NeMo I 2023-01-02 23:12:04 wer_bpe:187] \n",
      "    \n",
      "[NeMo I 2023-01-02 23:12:04 wer_bpe:188] reference:rangierfahrt vom quebec fünf nach alpha zwei null antworten\n",
      "[NeMo I 2023-01-02 23:12:04 wer_bpe:189] predicted:nion rangierfahr nachall ver sein antworten beühr\n",
      "[NeMo I 2023-01-02 23:12:31 wer_bpe:187] \n",
      "    \n",
      "[NeMo I 2023-01-02 23:12:31 wer_bpe:188] reference:umstellmanöver vom drei acht via gleis neun fünf nach echo sieben sieben antworten\n",
      "[NeMo I 2023-01-02 23:12:31 wer_bpe:189] predicted:umstellmanöver vom drei acht via gleis neun fünf nach ecko sieben siebenoen\n",
      "[NeMo I 2023-01-02 23:12:59 wer_bpe:187] \n",
      "    \n",
      "[NeMo I 2023-01-02 23:12:59 wer_bpe:188] reference:rangierfahrt von gleis charlie eins null nach gleis vier vier antworten\n",
      "[NeMo I 2023-01-02 23:12:59 wer_bpe:189] predicted:rangierfahrt von gleis charly eins null nach gleis vier vier antworten\n",
      "[NeMo I 2023-01-02 23:13:27 wer_bpe:187] \n",
      "    \n",
      "[NeMo I 2023-01-02 23:13:27 wer_bpe:188] reference:bereits während dieser zeit schrieb sie zahlreiche beiträge für zeitungen und radiosender\n",
      "[NeMo I 2023-01-02 23:13:27 wer_bpe:189] predicted:bereitss während diese zwei sie zahlreich beiträ zeitungen und ra sind\n"
     ]
    },
    {
     "data": {
      "application/vnd.jupyter.widget-view+json": {
       "model_id": "ecf91d085dba4a2b8aac62a2a4f9ee6e",
       "version_major": 2,
       "version_minor": 0
      },
      "text/plain": [
       "Validation: 0it [00:00, ?it/s]"
      ]
     },
     "metadata": {},
     "output_type": "display_data"
    },
    {
     "name": "stdout",
     "output_type": "stream",
     "text": [
      "[NeMo I 2023-01-02 23:13:51 wer_bpe:187] \n",
      "    \n",
      "[NeMo I 2023-01-02 23:13:51 wer_bpe:188] reference:rangierfahrt vom gleis mike zwei drei ins drei drei antworten\n",
      "[NeMo I 2023-01-02 23:13:51 wer_bpe:189] predicted:rangierfahrt vom gleis mike zwei drei ins drei drei antworten\n",
      "[NeMo I 2023-01-02 23:13:51 wer_bpe:187] \n",
      "    \n",
      "[NeMo I 2023-01-02 23:13:51 wer_bpe:188] reference:spracheingabe\n",
      "[NeMo I 2023-01-02 23:13:51 wer_bpe:189] predicted:sprach eingabe\n",
      "[NeMo I 2023-01-02 23:13:51 wer_bpe:187] \n",
      "    \n",
      "[NeMo I 2023-01-02 23:13:51 wer_bpe:188] reference:umstellmanöver vom drei sechs nach gleis xray vier sieben via null vier antworten\n",
      "[NeMo I 2023-01-02 23:13:51 wer_bpe:189] predicted:umstellmanöver vom drei sechs nach gleis xray vier sieben via null vier antworten\n",
      "[NeMo I 2023-01-02 23:13:51 wer_bpe:187] \n",
      "    \n",
      "[NeMo I 2023-01-02 23:13:51 wer_bpe:188] reference:rangierfahrt von gleis sechs neun ins gleis delta sieben antworten\n",
      "[NeMo I 2023-01-02 23:13:51 wer_bpe:189] predicted:rangierfahrt von gleis sechs neun ins gleis delta sieben antworten\n",
      "[NeMo I 2023-01-02 23:13:52 wer_bpe:187] \n",
      "    \n",
      "[NeMo I 2023-01-02 23:13:52 wer_bpe:188] reference:umstellmanöver von charlie drei zwei via gleis victor sechs neun ins gleis golf zwei vier antworten\n",
      "[NeMo I 2023-01-02 23:13:52 wer_bpe:189] predicted:umstellmanöver von charlie drei zwei via gleis victor sechs neun ins gleis golf zwei vier antworten\n",
      "[NeMo I 2023-01-02 23:14:34 wer_bpe:187] \n",
      "    \n",
      "[NeMo I 2023-01-02 23:14:34 wer_bpe:188] reference:umstellmanöver vom gleis bravo null null nach vier eins via gleis fünf sechs antworten\n",
      "[NeMo I 2023-01-02 23:14:34 wer_bpe:189] predicted:ma umstellmanöver vom gleis vonull nach vier eins via gleis fünf sechs antworten\n",
      "[NeMo I 2023-01-02 23:15:02 wer_bpe:187] \n",
      "    \n",
      "[NeMo I 2023-01-02 23:15:02 wer_bpe:188] reference:rangierfahrt von gleis sieben fünf nach victor neun eins antworten\n",
      "[NeMo I 2023-01-02 23:15:02 wer_bpe:189] predicted:rangierfahrt von gleis sieben fünf nach victor neun eins antworten\n",
      "[NeMo I 2023-01-02 23:15:30 wer_bpe:187] \n",
      "    \n",
      "[NeMo I 2023-01-02 23:15:30 wer_bpe:188] reference:rangierfahrt von gleis sechs neun ins gleis delta sieben antworten\n",
      "[NeMo I 2023-01-02 23:15:30 wer_bpe:189] predicted:rangierfahrt von gleis sechs neun ins gleis deltasia antworten\n",
      "[NeMo I 2023-01-02 23:15:58 wer_bpe:187] \n",
      "    \n",
      "[NeMo I 2023-01-02 23:15:58 wer_bpe:188] reference:rangierfahrt von gleis uniform vier null ins gleis zwei vier antworten\n",
      "[NeMo I 2023-01-02 23:15:58 wer_bpe:189] predicted:rangierfahrt sie gleis form vier neu ins gleis zwei vieren\n"
     ]
    },
    {
     "data": {
      "application/vnd.jupyter.widget-view+json": {
       "model_id": "a78ec1e0221945bb8b26d88d1b202e34",
       "version_major": 2,
       "version_minor": 0
      },
      "text/plain": [
       "Validation: 0it [00:00, ?it/s]"
      ]
     },
     "metadata": {},
     "output_type": "display_data"
    },
    {
     "name": "stdout",
     "output_type": "stream",
     "text": [
      "[NeMo I 2023-01-02 23:16:21 wer_bpe:187] \n",
      "    \n",
      "[NeMo I 2023-01-02 23:16:21 wer_bpe:188] reference:rangierfahrt vom gleis mike zwei drei ins drei drei antworten\n",
      "[NeMo I 2023-01-02 23:16:21 wer_bpe:189] predicted:rangierfahrt vom gleis mike zwei drei ins drei drei antworten\n",
      "[NeMo I 2023-01-02 23:16:21 wer_bpe:187] \n",
      "    \n",
      "[NeMo I 2023-01-02 23:16:21 wer_bpe:188] reference:spracheingabe\n",
      "[NeMo I 2023-01-02 23:16:21 wer_bpe:189] predicted:spracheingabe\n",
      "[NeMo I 2023-01-02 23:16:21 wer_bpe:187] \n",
      "    \n",
      "[NeMo I 2023-01-02 23:16:21 wer_bpe:188] reference:umstellmanöver vom drei sechs nach gleis xray vier sieben via null vier antworten\n",
      "[NeMo I 2023-01-02 23:16:21 wer_bpe:189] predicted:umstellmanöver vom drei sechs nach gleis xray vier sieben via null vier antworten\n",
      "[NeMo I 2023-01-02 23:16:21 wer_bpe:187] \n",
      "    \n",
      "[NeMo I 2023-01-02 23:16:21 wer_bpe:188] reference:rangierfahrt von gleis sechs neun ins gleis delta sieben antworten\n",
      "[NeMo I 2023-01-02 23:16:21 wer_bpe:189] predicted:rangierfahrt von gleis sechs neun ins gleis delta sieben antworten\n",
      "[NeMo I 2023-01-02 23:16:21 wer_bpe:187] \n",
      "    \n",
      "[NeMo I 2023-01-02 23:16:21 wer_bpe:188] reference:umstellmanöver von charlie drei zwei via gleis victor sechs neun ins gleis golf zwei vier antworten\n",
      "[NeMo I 2023-01-02 23:16:21 wer_bpe:189] predicted:umstellmanöver von charlie drei zwei via gleis victor sechs neun ins gleis golf zwei vier antworten\n",
      "[NeMo I 2023-01-02 23:17:05 wer_bpe:187] \n",
      "    \n",
      "[NeMo I 2023-01-02 23:17:05 wer_bpe:188] reference:rangierfahrt von alpha null sieben nach oscar eins acht antworten\n",
      "[NeMo I 2023-01-02 23:17:05 wer_bpe:189] predicted:rangierfahrt von alpha null sieben nach oscar eins acht antworten\n",
      "[NeMo I 2023-01-02 23:17:33 wer_bpe:187] \n",
      "    \n",
      "[NeMo I 2023-01-02 23:17:33 wer_bpe:188] reference:umstellmanöver von tango neun acht ins gleis whisky zwei drei via gleis zwei fünf antworten\n",
      "[NeMo I 2023-01-02 23:17:33 wer_bpe:189] predicted:umstellmanöver von tango neun acht ins gleis whisky zwei drei via gleis zwei fünf antworten\n",
      "[NeMo I 2023-01-02 23:18:01 wer_bpe:187] \n",
      "    \n",
      "[NeMo I 2023-01-02 23:18:01 wer_bpe:188] reference:umstellmanöver vom acht acht via zwei null ins alpha fünf vier antworten\n",
      "[NeMo I 2023-01-02 23:18:01 wer_bpe:189] predicted:ellnöver acht acht via zwei null ins alpha fünf vier antwort\n",
      "[NeMo I 2023-01-02 23:18:29 wer_bpe:187] \n",
      "    \n",
      "[NeMo I 2023-01-02 23:18:29 wer_bpe:188] reference:umstellmanöver von gleis xray neun vier via vier sieben ins gleis india vier fünf antworten\n",
      "[NeMo I 2023-01-02 23:18:29 wer_bpe:189] predicted:umstellmanöver von gleis xray neun vier via vier ins india vier fünf antworten\n"
     ]
    },
    {
     "data": {
      "application/vnd.jupyter.widget-view+json": {
       "model_id": "d1d9aa5ac42b4355b5e21e1c7fcb366b",
       "version_major": 2,
       "version_minor": 0
      },
      "text/plain": [
       "Validation: 0it [00:00, ?it/s]"
      ]
     },
     "metadata": {},
     "output_type": "display_data"
    },
    {
     "name": "stdout",
     "output_type": "stream",
     "text": [
      "[NeMo I 2023-01-02 23:18:52 wer_bpe:187] \n",
      "    \n",
      "[NeMo I 2023-01-02 23:18:52 wer_bpe:188] reference:rangierfahrt vom gleis mike zwei drei ins drei drei antworten\n",
      "[NeMo I 2023-01-02 23:18:52 wer_bpe:189] predicted:rangierfahrt vom gleis mike zwei drei ins drei drei antworten\n",
      "[NeMo I 2023-01-02 23:18:52 wer_bpe:187] \n",
      "    \n",
      "[NeMo I 2023-01-02 23:18:52 wer_bpe:188] reference:spracheingabe\n",
      "[NeMo I 2023-01-02 23:18:52 wer_bpe:189] predicted:spracheingabe\n",
      "[NeMo I 2023-01-02 23:18:53 wer_bpe:187] \n",
      "    \n",
      "[NeMo I 2023-01-02 23:18:53 wer_bpe:188] reference:umstellmanöver vom drei sechs nach gleis xray vier sieben via null vier antworten\n",
      "[NeMo I 2023-01-02 23:18:53 wer_bpe:189] predicted:umstellmanöver vom drei sechs nach gleis xray vier sieben via null vier antworten\n",
      "[NeMo I 2023-01-02 23:18:53 wer_bpe:187] \n",
      "    \n",
      "[NeMo I 2023-01-02 23:18:53 wer_bpe:188] reference:rangierfahrt von gleis sechs neun ins gleis delta sieben antworten\n",
      "[NeMo I 2023-01-02 23:18:53 wer_bpe:189] predicted:rangierfahrt von gleis sechs neun ins gleis delta sieben antworten\n",
      "[NeMo I 2023-01-02 23:18:53 wer_bpe:187] \n",
      "    \n",
      "[NeMo I 2023-01-02 23:18:53 wer_bpe:188] reference:umstellmanöver von charlie drei zwei via gleis victor sechs neun ins gleis golf zwei vier antworten\n",
      "[NeMo I 2023-01-02 23:18:53 wer_bpe:189] predicted:umstellmanöver von charlie drei zwei via gleis victor sechs neun ins gleis golf zwei vier antworten\n",
      "[NeMo I 2023-01-02 23:19:34 wer_bpe:187] \n",
      "    \n",
      "[NeMo I 2023-01-02 23:19:34 wer_bpe:188] reference:umstellmanöver von tango vier fünf via gleis sechs drei ins gleis acht eins antworten\n",
      "[NeMo I 2023-01-02 23:19:34 wer_bpe:189] predicted:umstellmanöver von ta vier fünf via gleis sechs drei ins gleis acht eins antworten\n",
      "[NeMo I 2023-01-02 23:20:02 wer_bpe:187] \n",
      "    \n",
      "[NeMo I 2023-01-02 23:20:02 wer_bpe:188] reference:rangierfahrt vom gleis sechs null ins gleis sechs fünf antworten\n",
      "[NeMo I 2023-01-02 23:20:02 wer_bpe:189] predicted:rangierfahrt vom gleis sechs null ins gleis sechs fünf antworten\n",
      "[NeMo I 2023-01-02 23:20:29 wer_bpe:187] \n",
      "    \n",
      "[NeMo I 2023-01-02 23:20:29 wer_bpe:188] reference:umstellmanöver von gleis neun vier ins gleis null fünf via gleis lima eins acht antworten\n",
      "[NeMo I 2023-01-02 23:20:29 wer_bpe:189] predicted:umstellmanöver vom gleis neun gleis gleis neunull fünf nach fünf vier antworten\n",
      "[NeMo I 2023-01-02 23:20:57 wer_bpe:187] \n",
      "    \n",
      "[NeMo I 2023-01-02 23:20:57 wer_bpe:188] reference:rangierfahrt von alpha zwei sieben sieben nach oscar null neun fünf\n",
      "[NeMo I 2023-01-02 23:20:57 wer_bpe:189] predicted:rangierfahrt von  zwei sie sieben nach osar null neun fünf\n"
     ]
    },
    {
     "data": {
      "application/vnd.jupyter.widget-view+json": {
       "model_id": "c0e90940cbc54972aa462a5bea5cbbbf",
       "version_major": 2,
       "version_minor": 0
      },
      "text/plain": [
       "Validation: 0it [00:00, ?it/s]"
      ]
     },
     "metadata": {},
     "output_type": "display_data"
    },
    {
     "name": "stdout",
     "output_type": "stream",
     "text": [
      "[NeMo I 2023-01-02 23:21:20 wer_bpe:187] \n",
      "    \n",
      "[NeMo I 2023-01-02 23:21:20 wer_bpe:188] reference:rangierfahrt vom gleis mike zwei drei ins drei drei antworten\n",
      "[NeMo I 2023-01-02 23:21:20 wer_bpe:189] predicted:rangierfahrt vom gleis mike zwei drei ins drei drei antworten\n",
      "[NeMo I 2023-01-02 23:21:20 wer_bpe:187] \n",
      "    \n",
      "[NeMo I 2023-01-02 23:21:20 wer_bpe:188] reference:spracheingabe\n",
      "[NeMo I 2023-01-02 23:21:20 wer_bpe:189] predicted:spracheingabe\n",
      "[NeMo I 2023-01-02 23:21:20 wer_bpe:187] \n",
      "    \n",
      "[NeMo I 2023-01-02 23:21:20 wer_bpe:188] reference:umstellmanöver vom drei sechs nach gleis xray vier sieben via null vier antworten\n",
      "[NeMo I 2023-01-02 23:21:20 wer_bpe:189] predicted:umstellmanöver vom drei sechs nach gleis xray vier sieben via null vier antworten\n",
      "[NeMo I 2023-01-02 23:21:20 wer_bpe:187] \n",
      "    \n",
      "[NeMo I 2023-01-02 23:21:20 wer_bpe:188] reference:rangierfahrt von gleis sechs neun ins gleis delta sieben antworten\n",
      "[NeMo I 2023-01-02 23:21:20 wer_bpe:189] predicted:rangierfahrt von gleis sechs neun ins gleis delta sieben antworten\n",
      "[NeMo I 2023-01-02 23:21:20 wer_bpe:187] \n",
      "    \n",
      "[NeMo I 2023-01-02 23:21:20 wer_bpe:188] reference:umstellmanöver von charlie drei zwei via gleis victor sechs neun ins gleis golf zwei vier antworten\n",
      "[NeMo I 2023-01-02 23:21:20 wer_bpe:189] predicted:umstellmanöver von charlie drei zwei via gleis victor sechs neun ins gleis golf zwei vier antworten\n"
     ]
    },
    {
     "name": "stderr",
     "output_type": "stream",
     "text": [
      "`Trainer.fit` stopped: `max_epochs=5` reached.\n"
     ]
    },
    {
     "data": {
      "text/html": [
       "Waiting for W&B process to finish... <strong style=\"color:green\">(success).</strong>"
      ],
      "text/plain": [
       "<IPython.core.display.HTML object>"
      ]
     },
     "metadata": {},
     "output_type": "display_data"
    },
    {
     "data": {
      "text/html": [
       "<style>\n",
       "    table.wandb td:nth-child(1) { padding: 0 10px; text-align: left ; width: auto;} td:nth-child(2) {text-align: left ; width: 100%}\n",
       "    .wandb-row { display: flex; flex-direction: row; flex-wrap: wrap; justify-content: flex-start; width: 100% }\n",
       "    .wandb-col { display: flex; flex-direction: column; flex-basis: 100%; flex: 1; padding: 10px; }\n",
       "    </style>\n",
       "<div class=\"wandb-row\"><div class=\"wandb-col\"><h3>Run history:</h3><br/><table class=\"wandb\"><tr><td>epoch</td><td>▁▁▁▁▁▃▃▃▃▃▃▅▅▅▅▅▅▆▆▆▆▆██████</td></tr><tr><td>global_step</td><td>▁▁▂▂▂▂▃▃▃▃▄▄▄▄▅▅▅▅▆▆▆▇▇▇▇▇██</td></tr><tr><td>learning_rate</td><td>▁▁▂▂▂▃▃▃▄▄▄▅▅▅▅▆▆▆▇▇▇██</td></tr><tr><td>train_loss</td><td>█▅▄▆▂▅▃▅▂▂▃▂▂▁▁▂▁▂▂▃▂▁▂</td></tr><tr><td>trainer/global_step</td><td>▁▁▂▂▂▂▃▃▃▃▄▄▄▄▅▅▅▅▆▆▆▇▇▇▇▇██</td></tr><tr><td>training_batch_wer</td><td>█▆▅▆▄▃▃▂▃▃▁▃▂▂▁▂▁▁▂</td></tr><tr><td>val_loss</td><td>█▂▂▁▁</td></tr><tr><td>val_wer</td><td>█▂▁▁▁</td></tr></table><br/></div><div class=\"wandb-col\"><h3>Run summary:</h3><br/><table class=\"wandb\"><tr><td>epoch</td><td>4</td></tr><tr><td>global_step</td><td>1185.0</td></tr><tr><td>learning_rate</td><td>0.00021</td></tr><tr><td>train_loss</td><td>26.38791</td></tr><tr><td>trainer/global_step</td><td>1184</td></tr><tr><td>training_batch_wer</td><td>0.1978</td></tr><tr><td>val_loss</td><td>1.25338</td></tr><tr><td>val_wer</td><td>0.02089</td></tr></table><br/></div></div>"
      ],
      "text/plain": [
       "<IPython.core.display.HTML object>"
      ]
     },
     "metadata": {},
     "output_type": "display_data"
    },
    {
     "data": {
      "text/html": [
       "Synced <strong style=\"color:#cdcd00\">faithful-sweep-24</strong>: <a href=\"https://wandb.ai/unisg-ds-nlp/ASR/runs/sei60vld\" target=\"_blank\">https://wandb.ai/unisg-ds-nlp/ASR/runs/sei60vld</a><br/>Synced 5 W&B file(s), 0 media file(s), 5 artifact file(s) and 0 other file(s)"
      ],
      "text/plain": [
       "<IPython.core.display.HTML object>"
      ]
     },
     "metadata": {},
     "output_type": "display_data"
    },
    {
     "data": {
      "text/html": [
       "Find logs at: <code>./wandb/run-20230102_230844-sei60vld/logs</code>"
      ],
      "text/plain": [
       "<IPython.core.display.HTML object>"
      ]
     },
     "metadata": {},
     "output_type": "display_data"
    },
    {
     "name": "stderr",
     "output_type": "stream",
     "text": [
      "\u001b[34m\u001b[1mwandb\u001b[0m: Agent Starting Run: typlne0m with config:\n",
      "\u001b[34m\u001b[1mwandb\u001b[0m: \tepoch: 9\n",
      "\u001b[34m\u001b[1mwandb\u001b[0m: \tfreq_width: 28.464764025774773\n",
      "\u001b[34m\u001b[1mwandb\u001b[0m: \tlr: 0.00018272697741051136\n",
      "Failed to detect the name of this notebook, you can set it manually with the WANDB_NOTEBOOK_NAME environment variable to enable code saving.\n"
     ]
    },
    {
     "data": {
      "text/html": [
       "wandb version 0.13.7 is available!  To upgrade, please run:\n",
       " $ pip install wandb --upgrade"
      ],
      "text/plain": [
       "<IPython.core.display.HTML object>"
      ]
     },
     "metadata": {},
     "output_type": "display_data"
    },
    {
     "data": {
      "text/html": [
       "Tracking run with wandb version 0.13.4"
      ],
      "text/plain": [
       "<IPython.core.display.HTML object>"
      ]
     },
     "metadata": {},
     "output_type": "display_data"
    },
    {
     "data": {
      "text/html": [
       "Run data is saved locally in <code>/home/user/code/sbb_asr/notebooks/wandb/run-20230102_232208-typlne0m</code>"
      ],
      "text/plain": [
       "<IPython.core.display.HTML object>"
      ]
     },
     "metadata": {},
     "output_type": "display_data"
    },
    {
     "data": {
      "text/html": [
       "Syncing run <strong><a href=\"https://wandb.ai/unisg-ds-nlp/ASR/runs/typlne0m\" target=\"_blank\">stilted-sweep-25</a></strong> to <a href=\"https://wandb.ai/unisg-ds-nlp/ASR\" target=\"_blank\">Weights & Biases</a> (<a href=\"https://wandb.me/run\" target=\"_blank\">docs</a>)<br/>Sweep page:  <a href=\"https://wandb.ai/unisg-ds-nlp/ASR/sweeps/v7qi12lc\" target=\"_blank\">https://wandb.ai/unisg-ds-nlp/ASR/sweeps/v7qi12lc</a>"
      ],
      "text/plain": [
       "<IPython.core.display.HTML object>"
      ]
     },
     "metadata": {},
     "output_type": "display_data"
    },
    {
     "name": "stderr",
     "output_type": "stream",
     "text": [
      "[NeMo W 2023-01-02 23:22:09 nemo_logging:349] /home/user/.local/lib/python3.9/site-packages/pytorch_lightning/loggers/wandb.py:352: UserWarning: There is a wandb run already in progress and newly created instances of `WandbLogger` will reuse this run. If this is not desired, call `wandb.finish()` before instantiating `WandbLogger`.\n",
      "      rank_zero_warn(\n",
      "    \n",
      "[NeMo W 2023-01-02 23:22:09 nemo_logging:349] /home/user/.local/lib/python3.9/site-packages/pytorch_lightning/trainer/connectors/accelerator_connector.py:447: LightningDeprecationWarning: Setting `Trainer(gpus=1)` is deprecated in v1.7 and will be removed in v2.0. Please use `Trainer(accelerator='gpu', devices=1)` instead.\n",
      "      rank_zero_deprecation(\n",
      "    \n",
      "GPU available: True (cuda), used: True\n",
      "TPU available: False, using: 0 TPU cores\n",
      "IPU available: False, using: 0 IPUs\n",
      "HPU available: False, using: 0 HPUs\n"
     ]
    },
    {
     "name": "stdout",
     "output_type": "stream",
     "text": [
      "[NeMo I 2023-01-02 23:22:11 cloud:56] Found existing object /home/user/.cache/torch/NeMo/NeMo_1.12.0/stt_de_citrinet_1024/8743e4cecb8017ca2b49a035e07b2893/stt_de_citrinet_1024.nemo.\n",
      "[NeMo I 2023-01-02 23:22:11 cloud:62] Re-using file from: /home/user/.cache/torch/NeMo/NeMo_1.12.0/stt_de_citrinet_1024/8743e4cecb8017ca2b49a035e07b2893/stt_de_citrinet_1024.nemo\n",
      "[NeMo I 2023-01-02 23:22:11 common:910] Instantiating model from pre-trained checkpoint\n",
      "[NeMo I 2023-01-02 23:22:18 mixins:170] Tokenizer SentencePieceTokenizer initialized with 1024 tokens\n"
     ]
    },
    {
     "name": "stderr",
     "output_type": "stream",
     "text": [
      "[NeMo W 2023-01-02 23:22:18 modelPT:142] If you intend to do training or fine-tuning, please call the ModelPT.setup_training_data() method and provide a valid configuration file to setup the train data loader.\n",
      "    Train config : \n",
      "    manifest_filepath: /data/train/tarred_audio_manifest.json\n",
      "    sample_rate: 16000\n",
      "    batch_size: 32\n",
      "    trim_silence: false\n",
      "    max_duration: 35.0\n",
      "    shuffle: true\n",
      "    is_tarred: true\n",
      "    tarred_audio_filepaths: /data/train/audio__OP_0..1023_CL_.tar\n",
      "    use_start_end_token: false\n",
      "    shuffle_n: 1024\n",
      "    num_workers: 16\n",
      "    pin_memory: true\n",
      "    \n",
      "[NeMo W 2023-01-02 23:22:18 modelPT:149] If you intend to do validation, please call the ModelPT.setup_validation_data() or ModelPT.setup_multiple_validation_data() method and provide a valid configuration file to setup the validation data loader(s). \n",
      "    Validation config : \n",
      "    manifest_filepath:\n",
      "    - /data/voxpopuli_de/dev/voxpopuli_dev_manifest.json\n",
      "    - /data/voxpopuli_de/test/voxpopuli_test_manifest.json\n",
      "    - /data/mcv7.0_de/mcv7.0_dev_manifest_cleaned.json\n",
      "    - /data/mcv7.0_de/mcv7.0_test_manifest_cleaned.json\n",
      "    - /data/mls_de/mls_dev_manifest_cleaned.json\n",
      "    - /data/mls_de/mls_test_manifest_cleaned.json\n",
      "    sample_rate: 16000\n",
      "    batch_size: 8\n",
      "    shuffle: false\n",
      "    use_start_end_token: false\n",
      "    num_workers: 8\n",
      "    pin_memory: true\n",
      "    \n",
      "[NeMo W 2023-01-02 23:22:18 modelPT:155] Please call the ModelPT.setup_test_data() or ModelPT.setup_multiple_test_data() method and provide a valid configuration file to setup the test data loader(s).\n",
      "    Test config : \n",
      "    manifest_filepath: null\n",
      "    sample_rate: 16000\n",
      "    batch_size: 32\n",
      "    shuffle: false\n",
      "    use_start_end_token: false\n",
      "    \n"
     ]
    },
    {
     "name": "stdout",
     "output_type": "stream",
     "text": [
      "[NeMo I 2023-01-02 23:22:18 features:225] PADDING: 16\n",
      "[NeMo I 2023-01-02 23:22:23 save_restore_connector:243] Model EncDecCTCModelBPE was successfully restored from /home/user/.cache/torch/NeMo/NeMo_1.12.0/stt_de_citrinet_1024/8743e4cecb8017ca2b49a035e07b2893/stt_de_citrinet_1024.nemo.\n",
      "[NeMo I 2023-01-02 23:22:23 collections:194] Dataset loaded with 1890 files totalling 7.41 hours\n",
      "[NeMo I 2023-01-02 23:22:23 collections:195] 0 files were filtered totalling 0.00 hours\n",
      "[NeMo I 2023-01-02 23:22:23 collections:194] Dataset loaded with 34 files totalling 0.13 hours\n",
      "[NeMo I 2023-01-02 23:22:23 collections:195] 0 files were filtered totalling 0.00 hours\n",
      "[NeMo I 2023-01-02 23:22:23 collections:194] Dataset loaded with 34 files totalling 0.14 hours\n",
      "[NeMo I 2023-01-02 23:22:23 collections:195] 0 files were filtered totalling 0.00 hours\n",
      "[NeMo I 2023-01-02 23:22:23 modelPT:597] Optimizer config = Novograd (\n",
      "    Parameter Group 0\n",
      "        amsgrad: False\n",
      "        betas: [0.8, 0.25]\n",
      "        eps: 1e-08\n",
      "        grad_averaging: False\n",
      "        lr: 0.00018272697741051136\n",
      "        weight_decay: 0.001\n",
      "    )\n",
      "[NeMo I 2023-01-02 23:22:23 lr_scheduler:910] Scheduler \"<nemo.core.optim.lr_scheduler.CosineAnnealing object at 0x7f836a34d460>\" \n",
      "    will be used during training (effective maximum steps = 2133) - \n",
      "    Parameters : \n",
      "    (warmup_steps: 10000\n",
      "    warmup_ratio: null\n",
      "    min_lr: 1.0e-05\n",
      "    last_epoch: -1\n",
      "    max_steps: 2133\n",
      "    )\n"
     ]
    },
    {
     "name": "stderr",
     "output_type": "stream",
     "text": [
      "LOCAL_RANK: 0 - CUDA_VISIBLE_DEVICES: [0,1,2,3]\n"
     ]
    },
    {
     "name": "stdout",
     "output_type": "stream",
     "text": [
      "[NeMo I 2023-01-02 23:22:24 modelPT:597] Optimizer config = Novograd (\n",
      "    Parameter Group 0\n",
      "        amsgrad: False\n",
      "        betas: [0.8, 0.25]\n",
      "        eps: 1e-08\n",
      "        grad_averaging: False\n",
      "        lr: 0.00018272697741051136\n",
      "        weight_decay: 0.001\n",
      "    )\n",
      "[NeMo I 2023-01-02 23:22:24 lr_scheduler:910] Scheduler \"<nemo.core.optim.lr_scheduler.CosineAnnealing object at 0x7f836a36fd00>\" \n",
      "    will be used during training (effective maximum steps = 2133) - \n",
      "    Parameters : \n",
      "    (warmup_steps: 10000\n",
      "    warmup_ratio: null\n",
      "    min_lr: 1.0e-05\n",
      "    last_epoch: -1\n",
      "    max_steps: 2133\n",
      "    )\n"
     ]
    },
    {
     "name": "stderr",
     "output_type": "stream",
     "text": [
      "\n",
      "  | Name              | Type                              | Params\n",
      "------------------------------------------------------------------------\n",
      "0 | preprocessor      | AudioToMelSpectrogramPreprocessor | 0     \n",
      "1 | encoder           | ConvASREncoder                    | 140 M \n",
      "2 | decoder           | ConvASRDecoder                    | 1.1 M \n",
      "3 | loss              | CTCLoss                           | 0     \n",
      "4 | spec_augmentation | SpectrogramAugmentation           | 0     \n",
      "5 | _wer              | WERBPE                            | 0     \n",
      "------------------------------------------------------------------------\n",
      "141 M     Trainable params\n",
      "0         Non-trainable params\n",
      "141 M     Total params\n",
      "564.897   Total estimated model params size (MB)\n"
     ]
    },
    {
     "data": {
      "application/vnd.jupyter.widget-view+json": {
       "model_id": "c49410ac0f9f4257965179fbdd499e50",
       "version_major": 2,
       "version_minor": 0
      },
      "text/plain": [
       "Sanity Checking: 0it [00:00, ?it/s]"
      ]
     },
     "metadata": {},
     "output_type": "display_data"
    },
    {
     "name": "stdout",
     "output_type": "stream",
     "text": [
      "[NeMo I 2023-01-02 23:22:26 wer_bpe:187] \n",
      "    \n",
      "[NeMo I 2023-01-02 23:22:26 wer_bpe:188] reference:rangierfahrt vom gleis mike zwei drei ins drei drei antworten\n",
      "[NeMo I 2023-01-02 23:22:26 wer_bpe:189] predicted:prongierfahrt vom gleis maik zwei drei ins drei drei antworten\n",
      "[NeMo I 2023-01-02 23:22:26 wer_bpe:187] \n",
      "    \n",
      "[NeMo I 2023-01-02 23:22:26 wer_bpe:188] reference:spracheingabe\n",
      "[NeMo I 2023-01-02 23:22:26 wer_bpe:189] predicted:spracheingabe\n"
     ]
    },
    {
     "data": {
      "application/vnd.jupyter.widget-view+json": {
       "model_id": "37b8eee3ed2945fea8b9acf8e265276e",
       "version_major": 2,
       "version_minor": 0
      },
      "text/plain": [
       "Training: 0it [00:00, ?it/s]"
      ]
     },
     "metadata": {},
     "output_type": "display_data"
    },
    {
     "name": "stdout",
     "output_type": "stream",
     "text": [
      "[NeMo I 2023-01-02 23:22:58 wer_bpe:187] \n",
      "    \n",
      "[NeMo I 2023-01-02 23:22:58 wer_bpe:188] reference:rangierfahrt von eins sieben nach gleis fünf antworten\n",
      "[NeMo I 2023-01-02 23:22:58 wer_bpe:189] predicted:\n",
      "[NeMo I 2023-01-02 23:23:26 wer_bpe:187] \n",
      "    \n",
      "[NeMo I 2023-01-02 23:23:26 wer_bpe:188] reference:rangierfahrt von alpha zwei sieben sieben nach oscar null neun fünf\n",
      "[NeMo I 2023-01-02 23:23:26 wer_bpe:189] predicted:fort zwei sie nach aus\n"
     ]
    }
   ],
   "source": [
    "sweep_id = wandb.sweep(sweep_config, project=\"ASR\")\n",
    "wandb.agent(sweep_id, function=sweep_iteration)"
   ]
  },
  {
   "cell_type": "code",
   "execution_count": null,
   "id": "7d4e3d64-afd2-4a99-8e79-763c9fef8777",
   "metadata": {},
   "outputs": [],
   "source": []
  },
  {
   "cell_type": "code",
   "execution_count": null,
   "id": "2699c8c3-d00a-401b-9bef-3b9e890fb240",
   "metadata": {},
   "outputs": [],
   "source": []
  }
 ],
 "metadata": {
  "kernelspec": {
   "display_name": "Python 3 (ipykernel)",
   "language": "python",
   "name": "python3"
  },
  "language_info": {
   "codemirror_mode": {
    "name": "ipython",
    "version": 3
   },
   "file_extension": ".py",
   "mimetype": "text/x-python",
   "name": "python",
   "nbconvert_exporter": "python",
   "pygments_lexer": "ipython3",
   "version": "3.9.15"
  }
 },
 "nbformat": 4,
 "nbformat_minor": 5
}
